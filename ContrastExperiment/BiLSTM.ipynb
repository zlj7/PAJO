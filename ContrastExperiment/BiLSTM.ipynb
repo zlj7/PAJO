{
  "nbformat": 4,
  "nbformat_minor": 0,
  "metadata": {
    "colab": {
      "provenance": []
    },
    "kernelspec": {
      "name": "python3",
      "display_name": "Python 3"
    },
    "language_info": {
      "name": "python"
    },
    "accelerator": "GPU"
  },
  "cells": [
    {
      "cell_type": "code",
      "execution_count": 1,
      "metadata": {
        "colab": {
          "base_uri": "https://localhost:8080/"
        },
        "id": "_Rz38NZg9eZk",
        "outputId": "d8aeca31-e49c-4119-cafd-ef90754f1890"
      },
      "outputs": [
        {
          "output_type": "stream",
          "name": "stdout",
          "text": [
            "Mounted at /content/drive\n"
          ]
        }
      ],
      "source": [
        "from google.colab import drive\n",
        "drive.mount('/content/drive')"
      ]
    },
    {
      "cell_type": "code",
      "source": [
        "from torch.utils.data import Dataset\n",
        "import torch\n",
        "import pandas as pd\n",
        "import numpy as np\n",
        "\n",
        "\n",
        "def fill_padding(data, max_len, pad_id):\n",
        "    if len(data) < max_len:\n",
        "        pad_len = max_len - len(data)\n",
        "        padding = [pad_id for _ in range(pad_len)]\n",
        "        # try:\n",
        "        # print(\"data: \", data)\n",
        "        # print(\"padding: \", padding)\n",
        "        data = torch.tensor(data + padding)\n",
        "\n",
        "        # except BaseException:\n",
        "        #   print(\"____________________error_________________\")\n",
        "        #   print(data)\n",
        "        #   print(padding)\n",
        "\n",
        "\n",
        "    else:\n",
        "        data = torch.tensor(data[: max_len])\n",
        "    return data\n",
        "\n",
        "\n",
        "class articleDataset(Dataset):\n",
        "    def __init__(self, journal, title, abstruct, label_list, token2id):\n",
        "        self.journal = journal\n",
        "        self.title = title\n",
        "        self.abstruct = abstruct\n",
        "        self.label_list = label_list\n",
        "        self.token2id = token2id\n",
        "\n",
        "    def __len__(self):\n",
        "        return len(self.journal)\n",
        "\n",
        "    def __getitem__(self, item):\n",
        "        return {\n",
        "            'journal': self.journal[item],\n",
        "            # 'tokens': fill_padding(self.text_list[item], max_len=self.max_len, pad_id=0),\n",
        "            'title': fill_padding(self.title[item], max_len=32, pad_id=0),\n",
        "            'abstruct': fill_padding(self.abstruct[item], max_len=512, pad_id=0),\n",
        "            'label': torch.tensor(self.label_list[item])\n",
        "        }\n",
        "\n",
        "def shuffle_dataset(journal, title, abstruct, label):\n",
        "    length = len(journal)\n",
        "    rng = np.random.default_rng(1235)\n",
        "    index = np.arange(length)\n",
        "    # print(index)\n",
        "    rng.shuffle(index)\n",
        "    # print(index)\n",
        "    return journal[index], np.array(title)[index], np.array(abstruct)[index], label[index]\n",
        "\n",
        "def preprocess(file_path):\n",
        "    df = pd.read_excel(file_path)\n",
        "    df.replace(np.nan, '[PAD]', inplace=True)\n",
        "    text_list = []\n",
        "    title = df['标题']\n",
        "    abstruct = df['摘要']\n",
        "    # with open(file_path, 'r', encoding='utf-8') as f:\n",
        "    #     f.readline()\n",
        "    for item in title:\n",
        "        text_list.append(item)\n",
        "        # print(item)\n",
        "    for item in abstruct:\n",
        "        text_list.append(item)\n",
        "    return text_list\n",
        "\n",
        "\n",
        "def build_vocab(*text_list):\n",
        "    token_set = set()\n",
        "    for idv_list in text_list:\n",
        "        for tokens in idv_list:\n",
        "            # print(tokens)\n",
        "            for i in tokens.split(' '):\n",
        "                # print(i)\n",
        "                # print(\"\\n\")\n",
        "                token_set.add(i)\n",
        "\n",
        "    token2id, id2token = {}, {}\n",
        "    token2id['[PAD]'] = 0\n",
        "    id2token[0] = '[PAD]'\n",
        "    cnt = 1\n",
        "    for i in token_set:\n",
        "        token2id[i] = cnt\n",
        "        id2token[cnt] = i\n",
        "        cnt += 1\n",
        "\n",
        "    return token2id, id2token"
      ],
      "metadata": {
        "id": "jkN8SodG9jVv"
      },
      "execution_count": 2,
      "outputs": []
    },
    {
      "cell_type": "code",
      "source": [
        "import torch.nn as nn\n",
        "from torch.nn.utils.rnn import pad_sequence, pack_padded_sequence, pad_packed_sequence\n",
        "import torch\n",
        "import torch.nn.functional as F\n",
        "\n",
        "\n",
        "class BiLSTM(nn.Module):\n",
        "    def __init__(self, vocab_size):\n",
        "        super(BiLSTM, self).__init__()\n",
        "        self.embedding = nn.Embedding(vocab_size, embedding_dim=128, padding_idx=0)\n",
        "        self.lstm = nn.LSTM(input_size=128,\n",
        "                            hidden_size=256,\n",
        "                            num_layers=2,\n",
        "                            dropout=0.5,\n",
        "                            batch_first=True,\n",
        "                            bidirectional=True)\n",
        "        self.journal_layer = nn.Sequential(\n",
        "            nn.Linear(16,64),\n",
        "            nn.ReLU(),\n",
        "            nn.Linear(64,16),\n",
        "        )\n",
        "        self.linear = nn.Linear(256 + 16, 2)\n",
        "        # self.linear = nn.Linear(256, 2)\n",
        "\n",
        "    def forward(self, journal, title, abstruct):\n",
        "        title = self.embedding(title)\n",
        "        abstruct = self.embedding(abstruct)\n",
        "        # print(\"journal: \", journal.unsqueeze(1).shape)\n",
        "        # print(\"title: \", title.shape)\n",
        "        # print(\"abstruct: \", abstruct.shape)\n",
        "        inputs = torch.cat((title, abstruct), 1)\n",
        "        output, (hn, cn) = self.lstm(inputs)\n",
        "        # output = pad_packed_sequence(output, batch_first=True, padding_value=0, total_length=64)[0]\n",
        "\n",
        "        journal_feature = self.journal_layer(journal.float())\n",
        "        out = self.linear(torch.cat((hn[-1, :, :], journal_feature.to(torch.float32)), 1))\n",
        "        # out = self.linear(torch.cat((hn[-1, :, :], journal.to(torch.float32)), 1))\n",
        "        # out = self.linear(hn[-1, :, :])\n",
        "        out = F.softmax(out, dim=1)\n",
        "\n",
        "        return out\n",
        "\n"
      ],
      "metadata": {
        "id": "wISS80yE9vmk"
      },
      "execution_count": 9,
      "outputs": []
    },
    {
      "cell_type": "code",
      "source": [
        "import torch.nn.functional as F\n",
        "def focal_loss(\n",
        "    inputs: torch.Tensor,\n",
        "    targets: torch.Tensor,\n",
        "    alpha: float = 0.7,\n",
        "    gamma: float = 2,\n",
        "    reduction: str = \"mean\",\n",
        ") -> torch.Tensor:\n",
        "    \"\"\"\n",
        "    Args:\n",
        "        inputs: A float tensor of arbitrary shape.\n",
        "                The predictions which have been sigmod for each example.\n",
        "        targets: A float tensor with the same shape as inputs. Stores the binary\n",
        "                 classification label for each element in inputs\n",
        "                (0 for the negative class and 1 for the positive class).\n",
        "        alpha: (optional) Weighting factor in range (0,1) to balance\n",
        "                positive vs negative examples. Default = -1 (no weighting).\n",
        "        gamma: Exponent of the modulating factor (1 - p_t) to\n",
        "               balance easy vs hard examples.\n",
        "        reduction: 'none' | 'mean' | 'sum'\n",
        "                 'none': No reduction will be applied to the output.\n",
        "                 'mean': The output will be averaged.\n",
        "                 'sum': The output will be summed.\n",
        "    Returns:\n",
        "        Loss tensor with the reduction option applied.\n",
        "    \"\"\"\n",
        "    inputs = inputs.float()\n",
        "    targets = targets.float()\n",
        "    p = inputs\n",
        "    ce_loss = F.binary_cross_entropy(inputs, targets, reduction=\"none\")\n",
        "    p_t = p * targets + (1 - p) * (1 - targets)\n",
        "    loss = ce_loss * ((1 - p_t) ** gamma)\n",
        "\n",
        "    if alpha >= 0:\n",
        "        alpha_t = alpha * targets + (1 - alpha) * (1 - targets)\n",
        "        loss = alpha_t * loss\n",
        "\n",
        "    if reduction == \"mean\":\n",
        "        loss = loss.mean()\n",
        "    elif reduction == \"sum\":\n",
        "        loss = loss.sum()\n",
        "\n",
        "    return loss"
      ],
      "metadata": {
        "id": "IZSmkvM-XLU0"
      },
      "execution_count": 4,
      "outputs": []
    },
    {
      "cell_type": "code",
      "source": [
        "!pip install thop"
      ],
      "metadata": {
        "colab": {
          "base_uri": "https://localhost:8080/"
        },
        "id": "JgDg42Q5ZYy_",
        "outputId": "3fce3f79-cbab-46e6-8e16-0410db1b5a21"
      },
      "execution_count": 6,
      "outputs": [
        {
          "output_type": "stream",
          "name": "stdout",
          "text": [
            "Collecting thop\n",
            "  Downloading thop-0.1.1.post2209072238-py3-none-any.whl (15 kB)\n",
            "Requirement already satisfied: torch in /usr/local/lib/python3.10/dist-packages (from thop) (2.0.1+cu118)\n",
            "Requirement already satisfied: filelock in /usr/local/lib/python3.10/dist-packages (from torch->thop) (3.12.2)\n",
            "Requirement already satisfied: typing-extensions in /usr/local/lib/python3.10/dist-packages (from torch->thop) (4.6.3)\n",
            "Requirement already satisfied: sympy in /usr/local/lib/python3.10/dist-packages (from torch->thop) (1.11.1)\n",
            "Requirement already satisfied: networkx in /usr/local/lib/python3.10/dist-packages (from torch->thop) (3.1)\n",
            "Requirement already satisfied: jinja2 in /usr/local/lib/python3.10/dist-packages (from torch->thop) (3.1.2)\n",
            "Requirement already satisfied: triton==2.0.0 in /usr/local/lib/python3.10/dist-packages (from torch->thop) (2.0.0)\n",
            "Requirement already satisfied: cmake in /usr/local/lib/python3.10/dist-packages (from triton==2.0.0->torch->thop) (3.25.2)\n",
            "Requirement already satisfied: lit in /usr/local/lib/python3.10/dist-packages (from triton==2.0.0->torch->thop) (16.0.6)\n",
            "Requirement already satisfied: MarkupSafe>=2.0 in /usr/local/lib/python3.10/dist-packages (from jinja2->torch->thop) (2.1.3)\n",
            "Requirement already satisfied: mpmath>=0.19 in /usr/local/lib/python3.10/dist-packages (from sympy->torch->thop) (1.3.0)\n",
            "Installing collected packages: thop\n",
            "Successfully installed thop-0.1.1.post2209072238\n"
          ]
        }
      ]
    },
    {
      "cell_type": "code",
      "source": [
        "import pandas as pd\n",
        "import numpy as np\n",
        "import torch\n",
        "from torch.utils.data import DataLoader\n",
        "from torch.optim import AdamW\n",
        "# from model import TextRNN\n",
        "# from data_processor import articleDataset, preprocess, build_vocab, shuffle_dataset\n",
        "import torch.nn as nn\n",
        "import os\n",
        "from sklearn.metrics import accuracy_score, precision_score, recall_score, f1_score, classification_report, roc_auc_score, confusion_matrix\n",
        "from sklearn.model_selection import train_test_split\n",
        "from thop import profile\n",
        "import time\n",
        "\n",
        "device = 'cuda:0' if torch.cuda.is_available() else 'cpu'\n",
        "os.environ['CUDA_LAUNCH_BLOCKING'] = '1'\n",
        "\n",
        "batch_size = 64\n",
        "lr = 3e-5\n",
        "EPOCHS = 100\n",
        "\n",
        "\n",
        "def evaluate(model, dataloader):\n",
        "    model.eval()\n",
        "\n",
        "    pred_tags = []\n",
        "    true_tags = []\n",
        "    probs = []\n",
        "    total_loss = 0.\n",
        "    # loss_fn = nn.CrossEntropyLoss()\n",
        "    loss_fn = focal_loss\n",
        "    with torch.no_grad():\n",
        "        # i = 0\n",
        "        for batch in dataloader:\n",
        "            # print(i)\n",
        "            # i += 1\n",
        "            journal = batch['journal'].to(device)\n",
        "            title = batch['title'].to(device)\n",
        "            abstruct = batch['abstruct'].to(device)\n",
        "            label = batch['label'].to(device)\n",
        "\n",
        "            model.zero_grad()\n",
        "            # logits = model(journal, title, abstruct)\n",
        "            # loss = loss_fn(logits, label)\n",
        "            logits = model(journal, title, abstruct)\n",
        "            label = label.to(device=device, dtype=torch.float64)\n",
        "            loss = loss_fn(logits[:, 1].unsqueeze(1), label)\n",
        "            total_loss += loss.item()\n",
        "\n",
        "            pred = torch.argmax(logits, dim=1).cpu()\n",
        "            prob = logits[:, 1].unsqueeze(1).cpu()\n",
        "            # print(pred.shape)\n",
        "\n",
        "            pred_tags.extend(pred)\n",
        "            probs.extend(prob)\n",
        "            # label = label.to(device=device, dtype=torch.int64)\n",
        "            # print(label.squeeze(1).shape)\n",
        "            true_tags.extend(label.squeeze(1).cpu())\n",
        "            # print(classification_report(true_tags, pred_tags))\n",
        "\n",
        "    # 计算specificity、sensitivity\n",
        "    tn, fp, fn, tp = confusion_matrix(true_tags, pred_tags).ravel()\n",
        "    specificity = tn / (tn + fp)\n",
        "    sensitivity = tp / (tp + fn)\n",
        "\n",
        "    assert len(pred_tags) == len(true_tags)\n",
        "\n",
        "    return {\n",
        "        'loss': total_loss / len(dataloader),\n",
        "        'precision': precision_score(true_tags, pred_tags),\n",
        "        'recall': recall_score(true_tags, pred_tags),\n",
        "        'f1': f1_score(true_tags, pred_tags),\n",
        "        'accuracy': accuracy_score(true_tags, pred_tags),\n",
        "        'classification_report': classification_report(true_tags, pred_tags, digits=4),\n",
        "        'auc': roc_auc_score(true_tags, probs),\n",
        "        'specificity': specificity,\n",
        "        'sensitivity': sensitivity\n",
        "    }\n",
        "\n",
        "\n",
        "def main():\n",
        "    # 建立词汇表\n",
        "    text_list = preprocess('/content/drive/MyDrive/neckpain_data/新样本.xlsx')\n",
        "    token2id, id2token = build_vocab(text_list)\n",
        "\n",
        "    # 建立训练集、测试集\n",
        "    df = pd.read_excel('/content/drive/MyDrive/neckpain_data/新样本.xlsx')\n",
        "    # df.replace(np.nan, '[PAD]', inplace=True)\n",
        "    df_0 = df.loc[df['正样本'] == 0]\n",
        "    df_1 = df.loc[df['正样本'] == 1]\n",
        "    title_0 = df_0['标题'].values\n",
        "    title_1 = df_1['标题'].values\n",
        "    abstruct_0 = df_0['摘要']\n",
        "    abstruct_1 = df_1['摘要']\n",
        "    abstruct_0.replace(np.nan, '[PAD]', inplace=True)\n",
        "    abstruct_1.replace(np.nan, '[PAD]', inplace=True)\n",
        "    abstruct_0 = abstruct_0.values\n",
        "    abstruct_1 = abstruct_1.values\n",
        "    df_0.replace(np.nan, 0, inplace=True)\n",
        "    df_1.replace(np.nan, 0, inplace=True)\n",
        "\n",
        "    X_0 = df_0.drop(columns=['标题', '摘要', '正样本', '关键词', '期刊', '期刊简称', 'ID', 'academy_sciences']).values\n",
        "    X_1 = df_1.drop(columns=['标题', '摘要', '正样本', '关键词', '期刊', '期刊简称', 'ID', 'academy_sciences']).values\n",
        "    Y_0 = df_0['正样本'].values\n",
        "    Y_1 = df_1['正样本'].values\n",
        "\n",
        "    rs = np.random.RandomState(42)\n",
        "    L = list(rs.randint(0, len(X_0), int(7 / 3 * len(X_1))))\n",
        "    X_0 = X_0[L]\n",
        "    Y_0 = Y_0[L]\n",
        "    title_0 = title_0[L]\n",
        "    abstruct_0 = abstruct_0[L]\n",
        "\n",
        "    journal_train_X_0, journal_test_X_0, train_Y_0, test_Y_0 = train_test_split(X_0, Y_0, train_size=0.80, random_state=42)\n",
        "    journal_train_X_1, journal_test_X_1, train_Y_1, test_Y_1 = train_test_split(X_1, Y_1, train_size=0.80, random_state=42)\n",
        "    title_train_X_0, title_test_X_0, _, _ = train_test_split(title_0, Y_0, train_size=0.80, random_state=42)\n",
        "    title_train_X_1, title_test_X_1, _, _ = train_test_split(title_1, Y_1, train_size=0.80, random_state=42)\n",
        "    abstruct_train_X_0, abstruct_test_X_0, _, _ = train_test_split(abstruct_0, Y_0, train_size=0.80, random_state=42)\n",
        "    abstruct_train_X_1, abstruct_test_X_1, _, _ = train_test_split(abstruct_1, Y_1, train_size=0.80, random_state=42)\n",
        "\n",
        "    # print(title_train_X_1)\n",
        "\n",
        "    title_train_X_1 = [[token2id[i] for i in text.split(' ')] for text in title_train_X_1]\n",
        "    title_train_X_0 = [[token2id[i] for i in text.split(' ')] for text in title_train_X_0]\n",
        "    abstruct_train_X_1 = [[token2id[i] for i in text.split(' ')] for text in abstruct_train_X_1]\n",
        "    abstruct_train_X_0 = [[token2id[i] for i in text.split(' ')] for text in abstruct_train_X_0]\n",
        "\n",
        "    title_test_X_1 = [[token2id[i] for i in text.split(' ')] for text in title_test_X_1]\n",
        "    title_test_X_0 = [[token2id[i] for i in text.split(' ')] for text in title_test_X_0]\n",
        "    abstruct_test_X_1 = [[token2id[i] for i in text.split(' ')] for text in abstruct_test_X_1]\n",
        "    abstruct_test_X_0 = [[token2id[i] for i in text.split(' ')] for text in abstruct_test_X_0]\n",
        "\n",
        "    train_journal = torch.from_numpy(np.vstack((journal_train_X_1.astype(float), journal_train_X_0.astype(float)))).to(device)\n",
        "    # train_journal = np.vstack((journal_train_X_1, journal_train_X_0))\n",
        "    train_title = title_train_X_1 + title_train_X_0\n",
        "    train_abstruct = abstruct_train_X_1 + abstruct_train_X_0\n",
        "    train_Y = torch.from_numpy(np.vstack((train_Y_1.reshape(len(train_Y_1), 1), train_Y_0.reshape(len(train_Y_0), 1)))).to(device)\n",
        "    # train_Y = np.vstack((train_Y_1.reshape(len(train_Y_1), 1), train_Y_0.reshape(len(train_Y_0), 1)))\n",
        "    train_journal, train_title, train_abstruct, train_Y = shuffle_dataset(train_journal, train_title, train_abstruct, train_Y)\n",
        "\n",
        "    test_journal = torch.from_numpy(np.vstack((journal_test_X_1.astype(float), journal_test_X_0.astype(float)))).to(device)\n",
        "    # test_journal = np.vstack((journal_test_X_1, journal_test_X_0))\n",
        "    test_title = title_test_X_1 + title_test_X_0\n",
        "    test_abstruct = abstruct_test_X_1 + abstruct_test_X_0\n",
        "    test_Y = torch.from_numpy(np.vstack((test_Y_1.reshape(len(test_Y_1), 1), test_Y_0.reshape(len(test_Y_0), 1)))).to(device)\n",
        "    # test_Y = np.vstack((test_Y_1.reshape(len(test_Y_1), 1), test_Y_0.reshape(len(test_Y_0), 1)))\n",
        "    test_journal, test_title, test_abstruct, test_Y = shuffle_dataset(test_journal, test_title, test_abstruct, test_Y)\n",
        "\n",
        "\n",
        "\n",
        "    train_dataset = articleDataset(train_journal, train_title, train_abstruct, train_Y, token2id)\n",
        "    train_dataloader = DataLoader(train_dataset, batch_size=batch_size, shuffle=True)\n",
        "    val_dataset = articleDataset(test_journal, test_title, test_abstruct, test_Y, token2id)\n",
        "    val_dataloader = DataLoader(val_dataset, batch_size=batch_size)\n",
        "\n",
        "    model = BiLSTM(vocab_size=len(token2id)).to(device)\n",
        "    # for param in model.parameters():\n",
        "    #   param = 0\n",
        "\n",
        "    optimizer = AdamW(model.parameters(), lr=lr)\n",
        "    # loss_fn = nn.CrossEntropyLoss()\n",
        "    loss_fn = focal_loss\n",
        "\n",
        "    for epoch in range(EPOCHS):\n",
        "        model.train()\n",
        "        start_time = time.time()\n",
        "        for step, batch in enumerate(train_dataloader):\n",
        "            journal = batch['journal'].to(device)\n",
        "            title = batch['title'].to(device)\n",
        "            abstruct = batch['abstruct'].to(device)\n",
        "            label = batch['label'].to(device)\n",
        "\n",
        "            model.zero_grad()\n",
        "\n",
        "            logits = model(journal, title, abstruct)\n",
        "            # print(logits[:, 1].unsqueeze(1))\n",
        "            # print(label)\n",
        "            label = label.to(device=device, dtype=torch.float64)\n",
        "            loss = loss_fn(logits[:, 1].unsqueeze(1), label)/batch_size\n",
        "            # print(loss.item())\n",
        "\n",
        "            loss.backward()\n",
        "            optimizer.step()\n",
        "\n",
        "            if step % (len(train_dataloader) // 9) == 0:\n",
        "                print(\"epoch: {} step: {}/{}\".format(epoch, step, len(train_dataloader)))\n",
        "\n",
        "        end_time = time.time()\n",
        "        # 计算每秒钟的训练样本数（即MLOPS）\n",
        "        num_samples = len(train_dataset)\n",
        "        training_time = end_time - start_time\n",
        "        samples_per_second = num_samples / training_time\n",
        "\n",
        "        torch.save(model.state_dict(), '/content/drive/MyDrive/neckpain_model/model_last.pt')\n",
        "\n",
        "        train_metrics = evaluate(model, train_dataloader)\n",
        "        print(\"test\")\n",
        "        print(\"epoch: {} train_loss: {} train_acc: {:.2f}% train_f1: {:.2f}%\".format(epoch,\n",
        "                                                                                     train_metrics['loss'],\n",
        "                                                                                     train_metrics['accuracy'] * 100,\n",
        "                                                                                     train_metrics['f1'] * 100))\n",
        "        # print(train_metrics['classification_report'])\n",
        "        val_metrics = evaluate(model, val_dataloader)\n",
        "        print(\"          val_loss: {} val_acc {:.2f}% val_f1: {:.2f}%\".format(val_metrics['loss'],\n",
        "                                                                               val_metrics['accuracy'] * 100,\n",
        "                                                                               val_metrics['f1'] * 100))\n",
        "        print('BiLSTM AUC = ', val_metrics['auc'])\n",
        "        print('Specificity = ', val_metrics['specificity'])\n",
        "        print('Sensitivity = ', val_metrics['sensitivity'])\n",
        "        print(val_metrics['classification_report'])\n",
        "        # 输出模型信息\n",
        "        flops, params = profile(model, inputs=(journal, title, abstruct))\n",
        "        print(\"Flops: {:.2f}\".format(flops))\n",
        "        print(\"MLOPS: {:.2f}\".format(samples_per_second))\n",
        "        # eval(model, test_journal, test_title, test_abstruct, test_Y, token2id)\n",
        "\n",
        "\n",
        "if __name__ == '__main__':\n",
        "    if not os.path.exists('/content/drive/MyDrive/neckpain_model'):\n",
        "        os.mkdir('/content/drive/MyDrive/neckpain_model')\n",
        "\n",
        "    main()\n"
      ],
      "metadata": {
        "id": "LhQbgSZJ9ye7",
        "colab": {
          "base_uri": "https://localhost:8080/"
        },
        "outputId": "bb79057f-8ca6-4bd4-f8b4-8b94e6e61317"
      },
      "execution_count": 10,
      "outputs": [
        {
          "output_type": "stream",
          "name": "stderr",
          "text": [
            "<ipython-input-10-0053c75fe80a>:95: SettingWithCopyWarning: \n",
            "A value is trying to be set on a copy of a slice from a DataFrame\n",
            "\n",
            "See the caveats in the documentation: https://pandas.pydata.org/pandas-docs/stable/user_guide/indexing.html#returning-a-view-versus-a-copy\n",
            "  abstruct_0.replace(np.nan, '[PAD]', inplace=True)\n",
            "<ipython-input-10-0053c75fe80a>:96: SettingWithCopyWarning: \n",
            "A value is trying to be set on a copy of a slice from a DataFrame\n",
            "\n",
            "See the caveats in the documentation: https://pandas.pydata.org/pandas-docs/stable/user_guide/indexing.html#returning-a-view-versus-a-copy\n",
            "  abstruct_1.replace(np.nan, '[PAD]', inplace=True)\n",
            "<ipython-input-10-0053c75fe80a>:99: SettingWithCopyWarning: \n",
            "A value is trying to be set on a copy of a slice from a DataFrame\n",
            "\n",
            "See the caveats in the documentation: https://pandas.pydata.org/pandas-docs/stable/user_guide/indexing.html#returning-a-view-versus-a-copy\n",
            "  df_0.replace(np.nan, 0, inplace=True)\n",
            "<ipython-input-10-0053c75fe80a>:100: SettingWithCopyWarning: \n",
            "A value is trying to be set on a copy of a slice from a DataFrame\n",
            "\n",
            "See the caveats in the documentation: https://pandas.pydata.org/pandas-docs/stable/user_guide/indexing.html#returning-a-view-versus-a-copy\n",
            "  df_1.replace(np.nan, 0, inplace=True)\n",
            "<ipython-input-2-3bb857ec729e>:54: VisibleDeprecationWarning: Creating an ndarray from ragged nested sequences (which is a list-or-tuple of lists-or-tuples-or ndarrays with different lengths or shapes) is deprecated. If you meant to do this, you must specify 'dtype=object' when creating the ndarray.\n",
            "  return journal[index], np.array(title)[index], np.array(abstruct)[index], label[index]\n",
            "<ipython-input-2-3bb857ec729e>:44: UserWarning: To copy construct from a tensor, it is recommended to use sourceTensor.clone().detach() or sourceTensor.clone().detach().requires_grad_(True), rather than torch.tensor(sourceTensor).\n",
            "  'label': torch.tensor(self.label_list[item])\n"
          ]
        },
        {
          "output_type": "stream",
          "name": "stdout",
          "text": [
            "epoch: 0 step: 0/42\n",
            "epoch: 0 step: 4/42\n",
            "epoch: 0 step: 8/42\n",
            "epoch: 0 step: 12/42\n",
            "epoch: 0 step: 16/42\n",
            "epoch: 0 step: 20/42\n",
            "epoch: 0 step: 24/42\n",
            "epoch: 0 step: 28/42\n",
            "epoch: 0 step: 32/42\n",
            "epoch: 0 step: 36/42\n",
            "epoch: 0 step: 40/42\n"
          ]
        },
        {
          "output_type": "stream",
          "name": "stderr",
          "text": [
            "/usr/local/lib/python3.10/dist-packages/sklearn/utils/_array_api.py:185: FutureWarning: The input object of type 'Tensor' is an array-like implementing one of the corresponding protocols (`__array__`, `__array_interface__` or `__array_struct__`); but not a sequence (or 0-D). In the future, this object will be coerced as if it was first converted using `np.array(obj)`. To retain the old behaviour, you have to either modify the type 'Tensor', or assign to an empty array created with `np.empty(correct_shape, dtype=object)`.\n",
            "  array = numpy.asarray(array, order=order, dtype=dtype)\n",
            "/usr/local/lib/python3.10/dist-packages/sklearn/utils/_array_api.py:185: VisibleDeprecationWarning: Creating an ndarray from ragged nested sequences (which is a list-or-tuple of lists-or-tuples-or ndarrays with different lengths or shapes) is deprecated. If you meant to do this, you must specify 'dtype=object' when creating the ndarray.\n",
            "  array = numpy.asarray(array, order=order, dtype=dtype)\n",
            "<ipython-input-2-3bb857ec729e>:44: UserWarning: To copy construct from a tensor, it is recommended to use sourceTensor.clone().detach() or sourceTensor.clone().detach().requires_grad_(True), rather than torch.tensor(sourceTensor).\n",
            "  'label': torch.tensor(self.label_list[item])\n"
          ]
        },
        {
          "output_type": "stream",
          "name": "stdout",
          "text": [
            "test\n",
            "epoch: 0 train_loss: 0.10850800609304792 train_acc: 40.45% train_f1: 46.87%\n"
          ]
        },
        {
          "output_type": "stream",
          "name": "stderr",
          "text": [
            "/usr/local/lib/python3.10/dist-packages/sklearn/utils/_array_api.py:185: FutureWarning: The input object of type 'Tensor' is an array-like implementing one of the corresponding protocols (`__array__`, `__array_interface__` or `__array_struct__`); but not a sequence (or 0-D). In the future, this object will be coerced as if it was first converted using `np.array(obj)`. To retain the old behaviour, you have to either modify the type 'Tensor', or assign to an empty array created with `np.empty(correct_shape, dtype=object)`.\n",
            "  array = numpy.asarray(array, order=order, dtype=dtype)\n",
            "/usr/local/lib/python3.10/dist-packages/sklearn/utils/_array_api.py:185: VisibleDeprecationWarning: Creating an ndarray from ragged nested sequences (which is a list-or-tuple of lists-or-tuples-or ndarrays with different lengths or shapes) is deprecated. If you meant to do this, you must specify 'dtype=object' when creating the ndarray.\n",
            "  array = numpy.asarray(array, order=order, dtype=dtype)\n",
            "<ipython-input-2-3bb857ec729e>:44: UserWarning: To copy construct from a tensor, it is recommended to use sourceTensor.clone().detach() or sourceTensor.clone().detach().requires_grad_(True), rather than torch.tensor(sourceTensor).\n",
            "  'label': torch.tensor(self.label_list[item])\n"
          ]
        },
        {
          "output_type": "stream",
          "name": "stdout",
          "text": [
            "          val_loss: 0.10373346507549286 val_acc 41.04% val_f1: 46.40%\n",
            "TextRNN AUC =  0.6575226214344059\n",
            "Specificity =  0.22174840085287847\n",
            "Sensitivity =  0.8507462686567164\n",
            "              precision    recall  f1-score   support\n",
            "\n",
            "         0.0     0.7761    0.2217    0.3449       469\n",
            "         1.0     0.3190    0.8507    0.4640       201\n",
            "\n",
            "    accuracy                         0.4104       670\n",
            "   macro avg     0.5476    0.5362    0.4045       670\n",
            "weighted avg     0.6390    0.4104    0.3807       670\n",
            "\n",
            "[INFO] Register count_lstm() for <class 'torch.nn.modules.rnn.LSTM'>.\n",
            "[INFO] Register count_linear() for <class 'torch.nn.modules.linear.Linear'>.\n",
            "[INFO] Register zero_ops() for <class 'torch.nn.modules.activation.ReLU'>.\n",
            "[INFO] Register zero_ops() for <class 'torch.nn.modules.container.Sequential'>.\n",
            "Flops: 72372860672.00\n",
            "MLOPS: 177.62\n",
            "epoch: 1 step: 0/42\n",
            "epoch: 1 step: 4/42\n",
            "epoch: 1 step: 8/42\n",
            "epoch: 1 step: 12/42\n",
            "epoch: 1 step: 16/42\n",
            "epoch: 1 step: 20/42\n",
            "epoch: 1 step: 24/42\n",
            "epoch: 1 step: 28/42\n",
            "epoch: 1 step: 32/42\n",
            "epoch: 1 step: 36/42\n",
            "epoch: 1 step: 40/42\n"
          ]
        },
        {
          "output_type": "stream",
          "name": "stderr",
          "text": [
            "/usr/local/lib/python3.10/dist-packages/sklearn/utils/_array_api.py:185: FutureWarning: The input object of type 'Tensor' is an array-like implementing one of the corresponding protocols (`__array__`, `__array_interface__` or `__array_struct__`); but not a sequence (or 0-D). In the future, this object will be coerced as if it was first converted using `np.array(obj)`. To retain the old behaviour, you have to either modify the type 'Tensor', or assign to an empty array created with `np.empty(correct_shape, dtype=object)`.\n",
            "  array = numpy.asarray(array, order=order, dtype=dtype)\n",
            "/usr/local/lib/python3.10/dist-packages/sklearn/utils/_array_api.py:185: VisibleDeprecationWarning: Creating an ndarray from ragged nested sequences (which is a list-or-tuple of lists-or-tuples-or ndarrays with different lengths or shapes) is deprecated. If you meant to do this, you must specify 'dtype=object' when creating the ndarray.\n",
            "  array = numpy.asarray(array, order=order, dtype=dtype)\n",
            "<ipython-input-2-3bb857ec729e>:44: UserWarning: To copy construct from a tensor, it is recommended to use sourceTensor.clone().detach() or sourceTensor.clone().detach().requires_grad_(True), rather than torch.tensor(sourceTensor).\n",
            "  'label': torch.tensor(self.label_list[item])\n"
          ]
        },
        {
          "output_type": "stream",
          "name": "stdout",
          "text": [
            "test\n",
            "epoch: 1 train_loss: 0.07113302756278288 train_acc: 67.61% train_f1: 46.68%\n"
          ]
        },
        {
          "output_type": "stream",
          "name": "stderr",
          "text": [
            "/usr/local/lib/python3.10/dist-packages/sklearn/utils/_array_api.py:185: FutureWarning: The input object of type 'Tensor' is an array-like implementing one of the corresponding protocols (`__array__`, `__array_interface__` or `__array_struct__`); but not a sequence (or 0-D). In the future, this object will be coerced as if it was first converted using `np.array(obj)`. To retain the old behaviour, you have to either modify the type 'Tensor', or assign to an empty array created with `np.empty(correct_shape, dtype=object)`.\n",
            "  array = numpy.asarray(array, order=order, dtype=dtype)\n",
            "/usr/local/lib/python3.10/dist-packages/sklearn/utils/_array_api.py:185: VisibleDeprecationWarning: Creating an ndarray from ragged nested sequences (which is a list-or-tuple of lists-or-tuples-or ndarrays with different lengths or shapes) is deprecated. If you meant to do this, you must specify 'dtype=object' when creating the ndarray.\n",
            "  array = numpy.asarray(array, order=order, dtype=dtype)\n",
            "<ipython-input-2-3bb857ec729e>:44: UserWarning: To copy construct from a tensor, it is recommended to use sourceTensor.clone().detach() or sourceTensor.clone().detach().requires_grad_(True), rather than torch.tensor(sourceTensor).\n",
            "  'label': torch.tensor(self.label_list[item])\n"
          ]
        },
        {
          "output_type": "stream",
          "name": "stdout",
          "text": [
            "          val_loss: 0.06947526234117421 val_acc 68.06% val_f1: 46.77%\n",
            "TextRNN AUC =  0.6544463185140397\n",
            "Specificity =  0.7718550106609808\n",
            "Sensitivity =  0.46766169154228854\n",
            "              precision    recall  f1-score   support\n",
            "\n",
            "         0.0     0.7719    0.7719    0.7719       469\n",
            "         1.0     0.4677    0.4677    0.4677       201\n",
            "\n",
            "    accuracy                         0.6806       670\n",
            "   macro avg     0.6198    0.6198    0.6198       670\n",
            "weighted avg     0.6806    0.6806    0.6806       670\n",
            "\n",
            "[INFO] Register count_lstm() for <class 'torch.nn.modules.rnn.LSTM'>.\n",
            "[INFO] Register count_linear() for <class 'torch.nn.modules.linear.Linear'>.\n",
            "[INFO] Register zero_ops() for <class 'torch.nn.modules.activation.ReLU'>.\n",
            "[INFO] Register zero_ops() for <class 'torch.nn.modules.container.Sequential'>.\n",
            "Flops: 72372860672.00\n",
            "MLOPS: 183.21\n",
            "epoch: 2 step: 0/42\n",
            "epoch: 2 step: 4/42\n",
            "epoch: 2 step: 8/42\n",
            "epoch: 2 step: 12/42\n",
            "epoch: 2 step: 16/42\n",
            "epoch: 2 step: 20/42\n",
            "epoch: 2 step: 24/42\n",
            "epoch: 2 step: 28/42\n",
            "epoch: 2 step: 32/42\n",
            "epoch: 2 step: 36/42\n",
            "epoch: 2 step: 40/42\n"
          ]
        },
        {
          "output_type": "stream",
          "name": "stderr",
          "text": [
            "/usr/local/lib/python3.10/dist-packages/sklearn/utils/_array_api.py:185: FutureWarning: The input object of type 'Tensor' is an array-like implementing one of the corresponding protocols (`__array__`, `__array_interface__` or `__array_struct__`); but not a sequence (or 0-D). In the future, this object will be coerced as if it was first converted using `np.array(obj)`. To retain the old behaviour, you have to either modify the type 'Tensor', or assign to an empty array created with `np.empty(correct_shape, dtype=object)`.\n",
            "  array = numpy.asarray(array, order=order, dtype=dtype)\n",
            "/usr/local/lib/python3.10/dist-packages/sklearn/utils/_array_api.py:185: VisibleDeprecationWarning: Creating an ndarray from ragged nested sequences (which is a list-or-tuple of lists-or-tuples-or ndarrays with different lengths or shapes) is deprecated. If you meant to do this, you must specify 'dtype=object' when creating the ndarray.\n",
            "  array = numpy.asarray(array, order=order, dtype=dtype)\n",
            "<ipython-input-2-3bb857ec729e>:44: UserWarning: To copy construct from a tensor, it is recommended to use sourceTensor.clone().detach() or sourceTensor.clone().detach().requires_grad_(True), rather than torch.tensor(sourceTensor).\n",
            "  'label': torch.tensor(self.label_list[item])\n"
          ]
        },
        {
          "output_type": "stream",
          "name": "stdout",
          "text": [
            "test\n",
            "epoch: 2 train_loss: 0.06953895313753969 train_acc: 68.13% train_f1: 47.41%\n"
          ]
        },
        {
          "output_type": "stream",
          "name": "stderr",
          "text": [
            "/usr/local/lib/python3.10/dist-packages/sklearn/utils/_array_api.py:185: FutureWarning: The input object of type 'Tensor' is an array-like implementing one of the corresponding protocols (`__array__`, `__array_interface__` or `__array_struct__`); but not a sequence (or 0-D). In the future, this object will be coerced as if it was first converted using `np.array(obj)`. To retain the old behaviour, you have to either modify the type 'Tensor', or assign to an empty array created with `np.empty(correct_shape, dtype=object)`.\n",
            "  array = numpy.asarray(array, order=order, dtype=dtype)\n",
            "/usr/local/lib/python3.10/dist-packages/sklearn/utils/_array_api.py:185: VisibleDeprecationWarning: Creating an ndarray from ragged nested sequences (which is a list-or-tuple of lists-or-tuples-or ndarrays with different lengths or shapes) is deprecated. If you meant to do this, you must specify 'dtype=object' when creating the ndarray.\n",
            "  array = numpy.asarray(array, order=order, dtype=dtype)\n",
            "<ipython-input-2-3bb857ec729e>:44: UserWarning: To copy construct from a tensor, it is recommended to use sourceTensor.clone().detach() or sourceTensor.clone().detach().requires_grad_(True), rather than torch.tensor(sourceTensor).\n",
            "  'label': torch.tensor(self.label_list[item])\n"
          ]
        },
        {
          "output_type": "stream",
          "name": "stdout",
          "text": [
            "          val_loss: 0.06843112239783461 val_acc 68.06% val_f1: 46.77%\n",
            "TextRNN AUC =  0.666104445788117\n",
            "Specificity =  0.7718550106609808\n",
            "Sensitivity =  0.46766169154228854\n",
            "              precision    recall  f1-score   support\n",
            "\n",
            "         0.0     0.7719    0.7719    0.7719       469\n",
            "         1.0     0.4677    0.4677    0.4677       201\n",
            "\n",
            "    accuracy                         0.6806       670\n",
            "   macro avg     0.6198    0.6198    0.6198       670\n",
            "weighted avg     0.6806    0.6806    0.6806       670\n",
            "\n",
            "[INFO] Register count_lstm() for <class 'torch.nn.modules.rnn.LSTM'>.\n",
            "[INFO] Register count_linear() for <class 'torch.nn.modules.linear.Linear'>.\n",
            "[INFO] Register zero_ops() for <class 'torch.nn.modules.activation.ReLU'>.\n",
            "[INFO] Register zero_ops() for <class 'torch.nn.modules.container.Sequential'>.\n",
            "Flops: 72372860672.00\n",
            "MLOPS: 160.33\n",
            "epoch: 3 step: 0/42\n",
            "epoch: 3 step: 4/42\n",
            "epoch: 3 step: 8/42\n",
            "epoch: 3 step: 12/42\n",
            "epoch: 3 step: 16/42\n",
            "epoch: 3 step: 20/42\n",
            "epoch: 3 step: 24/42\n",
            "epoch: 3 step: 28/42\n",
            "epoch: 3 step: 32/42\n",
            "epoch: 3 step: 36/42\n",
            "epoch: 3 step: 40/42\n"
          ]
        },
        {
          "output_type": "stream",
          "name": "stderr",
          "text": [
            "/usr/local/lib/python3.10/dist-packages/sklearn/utils/_array_api.py:185: FutureWarning: The input object of type 'Tensor' is an array-like implementing one of the corresponding protocols (`__array__`, `__array_interface__` or `__array_struct__`); but not a sequence (or 0-D). In the future, this object will be coerced as if it was first converted using `np.array(obj)`. To retain the old behaviour, you have to either modify the type 'Tensor', or assign to an empty array created with `np.empty(correct_shape, dtype=object)`.\n",
            "  array = numpy.asarray(array, order=order, dtype=dtype)\n",
            "/usr/local/lib/python3.10/dist-packages/sklearn/utils/_array_api.py:185: VisibleDeprecationWarning: Creating an ndarray from ragged nested sequences (which is a list-or-tuple of lists-or-tuples-or ndarrays with different lengths or shapes) is deprecated. If you meant to do this, you must specify 'dtype=object' when creating the ndarray.\n",
            "  array = numpy.asarray(array, order=order, dtype=dtype)\n",
            "<ipython-input-2-3bb857ec729e>:44: UserWarning: To copy construct from a tensor, it is recommended to use sourceTensor.clone().detach() or sourceTensor.clone().detach().requires_grad_(True), rather than torch.tensor(sourceTensor).\n",
            "  'label': torch.tensor(self.label_list[item])\n"
          ]
        },
        {
          "output_type": "stream",
          "name": "stdout",
          "text": [
            "test\n",
            "epoch: 3 train_loss: 0.06854879430362157 train_acc: 68.88% train_f1: 47.68%\n"
          ]
        },
        {
          "output_type": "stream",
          "name": "stderr",
          "text": [
            "/usr/local/lib/python3.10/dist-packages/sklearn/utils/_array_api.py:185: FutureWarning: The input object of type 'Tensor' is an array-like implementing one of the corresponding protocols (`__array__`, `__array_interface__` or `__array_struct__`); but not a sequence (or 0-D). In the future, this object will be coerced as if it was first converted using `np.array(obj)`. To retain the old behaviour, you have to either modify the type 'Tensor', or assign to an empty array created with `np.empty(correct_shape, dtype=object)`.\n",
            "  array = numpy.asarray(array, order=order, dtype=dtype)\n",
            "/usr/local/lib/python3.10/dist-packages/sklearn/utils/_array_api.py:185: VisibleDeprecationWarning: Creating an ndarray from ragged nested sequences (which is a list-or-tuple of lists-or-tuples-or ndarrays with different lengths or shapes) is deprecated. If you meant to do this, you must specify 'dtype=object' when creating the ndarray.\n",
            "  array = numpy.asarray(array, order=order, dtype=dtype)\n",
            "<ipython-input-2-3bb857ec729e>:44: UserWarning: To copy construct from a tensor, it is recommended to use sourceTensor.clone().detach() or sourceTensor.clone().detach().requires_grad_(True), rather than torch.tensor(sourceTensor).\n",
            "  'label': torch.tensor(self.label_list[item])\n"
          ]
        },
        {
          "output_type": "stream",
          "name": "stdout",
          "text": [
            "          val_loss: 0.06785723634741524 val_acc 68.51% val_f1: 46.85%\n",
            "TextRNN AUC =  0.6772533918891682\n",
            "Specificity =  0.7803837953091685\n",
            "Sensitivity =  0.4626865671641791\n",
            "              precision    recall  f1-score   support\n",
            "\n",
            "         0.0     0.7722    0.7804    0.7762       469\n",
            "         1.0     0.4745    0.4627    0.4685       201\n",
            "\n",
            "    accuracy                         0.6851       670\n",
            "   macro avg     0.6233    0.6215    0.6224       670\n",
            "weighted avg     0.6829    0.6851    0.6839       670\n",
            "\n",
            "[INFO] Register count_lstm() for <class 'torch.nn.modules.rnn.LSTM'>.\n",
            "[INFO] Register count_linear() for <class 'torch.nn.modules.linear.Linear'>.\n",
            "[INFO] Register zero_ops() for <class 'torch.nn.modules.activation.ReLU'>.\n",
            "[INFO] Register zero_ops() for <class 'torch.nn.modules.container.Sequential'>.\n",
            "Flops: 72372860672.00\n",
            "MLOPS: 189.33\n",
            "epoch: 4 step: 0/42\n",
            "epoch: 4 step: 4/42\n",
            "epoch: 4 step: 8/42\n",
            "epoch: 4 step: 12/42\n",
            "epoch: 4 step: 16/42\n",
            "epoch: 4 step: 20/42\n",
            "epoch: 4 step: 24/42\n",
            "epoch: 4 step: 28/42\n",
            "epoch: 4 step: 32/42\n",
            "epoch: 4 step: 36/42\n",
            "epoch: 4 step: 40/42\n"
          ]
        },
        {
          "output_type": "stream",
          "name": "stderr",
          "text": [
            "/usr/local/lib/python3.10/dist-packages/sklearn/utils/_array_api.py:185: FutureWarning: The input object of type 'Tensor' is an array-like implementing one of the corresponding protocols (`__array__`, `__array_interface__` or `__array_struct__`); but not a sequence (or 0-D). In the future, this object will be coerced as if it was first converted using `np.array(obj)`. To retain the old behaviour, you have to either modify the type 'Tensor', or assign to an empty array created with `np.empty(correct_shape, dtype=object)`.\n",
            "  array = numpy.asarray(array, order=order, dtype=dtype)\n",
            "/usr/local/lib/python3.10/dist-packages/sklearn/utils/_array_api.py:185: VisibleDeprecationWarning: Creating an ndarray from ragged nested sequences (which is a list-or-tuple of lists-or-tuples-or ndarrays with different lengths or shapes) is deprecated. If you meant to do this, you must specify 'dtype=object' when creating the ndarray.\n",
            "  array = numpy.asarray(array, order=order, dtype=dtype)\n"
          ]
        },
        {
          "output_type": "stream",
          "name": "stdout",
          "text": [
            "test\n",
            "epoch: 4 train_loss: 0.06770314932579086 train_acc: 69.51% train_f1: 49.72%\n"
          ]
        },
        {
          "output_type": "stream",
          "name": "stderr",
          "text": [
            "<ipython-input-2-3bb857ec729e>:44: UserWarning: To copy construct from a tensor, it is recommended to use sourceTensor.clone().detach() or sourceTensor.clone().detach().requires_grad_(True), rather than torch.tensor(sourceTensor).\n",
            "  'label': torch.tensor(self.label_list[item])\n",
            "/usr/local/lib/python3.10/dist-packages/sklearn/utils/_array_api.py:185: FutureWarning: The input object of type 'Tensor' is an array-like implementing one of the corresponding protocols (`__array__`, `__array_interface__` or `__array_struct__`); but not a sequence (or 0-D). In the future, this object will be coerced as if it was first converted using `np.array(obj)`. To retain the old behaviour, you have to either modify the type 'Tensor', or assign to an empty array created with `np.empty(correct_shape, dtype=object)`.\n",
            "  array = numpy.asarray(array, order=order, dtype=dtype)\n",
            "/usr/local/lib/python3.10/dist-packages/sklearn/utils/_array_api.py:185: VisibleDeprecationWarning: Creating an ndarray from ragged nested sequences (which is a list-or-tuple of lists-or-tuples-or ndarrays with different lengths or shapes) is deprecated. If you meant to do this, you must specify 'dtype=object' when creating the ndarray.\n",
            "  array = numpy.asarray(array, order=order, dtype=dtype)\n",
            "<ipython-input-2-3bb857ec729e>:44: UserWarning: To copy construct from a tensor, it is recommended to use sourceTensor.clone().detach() or sourceTensor.clone().detach().requires_grad_(True), rather than torch.tensor(sourceTensor).\n",
            "  'label': torch.tensor(self.label_list[item])\n"
          ]
        },
        {
          "output_type": "stream",
          "name": "stdout",
          "text": [
            "          val_loss: 0.06728879463943568 val_acc 68.21% val_f1: 47.15%\n",
            "TextRNN AUC =  0.6887630079877796\n",
            "Specificity =  0.7718550106609808\n",
            "Sensitivity =  0.472636815920398\n",
            "              precision    recall  f1-score   support\n",
            "\n",
            "         0.0     0.7735    0.7719    0.7727       469\n",
            "         1.0     0.4703    0.4726    0.4715       201\n",
            "\n",
            "    accuracy                         0.6821       670\n",
            "   macro avg     0.6219    0.6222    0.6221       670\n",
            "weighted avg     0.6825    0.6821    0.6823       670\n",
            "\n",
            "[INFO] Register count_lstm() for <class 'torch.nn.modules.rnn.LSTM'>.\n",
            "[INFO] Register count_linear() for <class 'torch.nn.modules.linear.Linear'>.\n",
            "[INFO] Register zero_ops() for <class 'torch.nn.modules.activation.ReLU'>.\n",
            "[INFO] Register zero_ops() for <class 'torch.nn.modules.container.Sequential'>.\n",
            "Flops: 72372860672.00\n",
            "MLOPS: 188.78\n",
            "epoch: 5 step: 0/42\n",
            "epoch: 5 step: 4/42\n",
            "epoch: 5 step: 8/42\n",
            "epoch: 5 step: 12/42\n",
            "epoch: 5 step: 16/42\n",
            "epoch: 5 step: 20/42\n",
            "epoch: 5 step: 24/42\n",
            "epoch: 5 step: 28/42\n",
            "epoch: 5 step: 32/42\n",
            "epoch: 5 step: 36/42\n",
            "epoch: 5 step: 40/42\n"
          ]
        },
        {
          "output_type": "stream",
          "name": "stderr",
          "text": [
            "/usr/local/lib/python3.10/dist-packages/sklearn/utils/_array_api.py:185: FutureWarning: The input object of type 'Tensor' is an array-like implementing one of the corresponding protocols (`__array__`, `__array_interface__` or `__array_struct__`); but not a sequence (or 0-D). In the future, this object will be coerced as if it was first converted using `np.array(obj)`. To retain the old behaviour, you have to either modify the type 'Tensor', or assign to an empty array created with `np.empty(correct_shape, dtype=object)`.\n",
            "  array = numpy.asarray(array, order=order, dtype=dtype)\n",
            "/usr/local/lib/python3.10/dist-packages/sklearn/utils/_array_api.py:185: VisibleDeprecationWarning: Creating an ndarray from ragged nested sequences (which is a list-or-tuple of lists-or-tuples-or ndarrays with different lengths or shapes) is deprecated. If you meant to do this, you must specify 'dtype=object' when creating the ndarray.\n",
            "  array = numpy.asarray(array, order=order, dtype=dtype)\n",
            "<ipython-input-2-3bb857ec729e>:44: UserWarning: To copy construct from a tensor, it is recommended to use sourceTensor.clone().detach() or sourceTensor.clone().detach().requires_grad_(True), rather than torch.tensor(sourceTensor).\n",
            "  'label': torch.tensor(self.label_list[item])\n"
          ]
        },
        {
          "output_type": "stream",
          "name": "stdout",
          "text": [
            "test\n",
            "epoch: 5 train_loss: 0.06684803820791699 train_acc: 69.59% train_f1: 50.64%\n"
          ]
        },
        {
          "output_type": "stream",
          "name": "stderr",
          "text": [
            "/usr/local/lib/python3.10/dist-packages/sklearn/utils/_array_api.py:185: FutureWarning: The input object of type 'Tensor' is an array-like implementing one of the corresponding protocols (`__array__`, `__array_interface__` or `__array_struct__`); but not a sequence (or 0-D). In the future, this object will be coerced as if it was first converted using `np.array(obj)`. To retain the old behaviour, you have to either modify the type 'Tensor', or assign to an empty array created with `np.empty(correct_shape, dtype=object)`.\n",
            "  array = numpy.asarray(array, order=order, dtype=dtype)\n",
            "/usr/local/lib/python3.10/dist-packages/sklearn/utils/_array_api.py:185: VisibleDeprecationWarning: Creating an ndarray from ragged nested sequences (which is a list-or-tuple of lists-or-tuples-or ndarrays with different lengths or shapes) is deprecated. If you meant to do this, you must specify 'dtype=object' when creating the ndarray.\n",
            "  array = numpy.asarray(array, order=order, dtype=dtype)\n",
            "<ipython-input-2-3bb857ec729e>:44: UserWarning: To copy construct from a tensor, it is recommended to use sourceTensor.clone().detach() or sourceTensor.clone().detach().requires_grad_(True), rather than torch.tensor(sourceTensor).\n",
            "  'label': torch.tensor(self.label_list[item])\n"
          ]
        },
        {
          "output_type": "stream",
          "name": "stdout",
          "text": [
            "          val_loss: 0.06668139553882858 val_acc 68.66% val_f1: 49.28%\n",
            "TextRNN AUC =  0.7029670411269877\n",
            "Specificity =  0.7633262260127932\n",
            "Sensitivity =  0.5074626865671642\n",
            "              precision    recall  f1-score   support\n",
            "\n",
            "         0.0     0.7834    0.7633    0.7732       469\n",
            "         1.0     0.4789    0.5075    0.4928       201\n",
            "\n",
            "    accuracy                         0.6866       670\n",
            "   macro avg     0.6311    0.6354    0.6330       670\n",
            "weighted avg     0.6920    0.6866    0.6891       670\n",
            "\n",
            "[INFO] Register count_lstm() for <class 'torch.nn.modules.rnn.LSTM'>.\n",
            "[INFO] Register count_linear() for <class 'torch.nn.modules.linear.Linear'>.\n",
            "[INFO] Register zero_ops() for <class 'torch.nn.modules.activation.ReLU'>.\n",
            "[INFO] Register zero_ops() for <class 'torch.nn.modules.container.Sequential'>.\n",
            "Flops: 72372860672.00\n",
            "MLOPS: 186.37\n",
            "epoch: 6 step: 0/42\n",
            "epoch: 6 step: 4/42\n",
            "epoch: 6 step: 8/42\n",
            "epoch: 6 step: 12/42\n",
            "epoch: 6 step: 16/42\n",
            "epoch: 6 step: 20/42\n",
            "epoch: 6 step: 24/42\n",
            "epoch: 6 step: 28/42\n",
            "epoch: 6 step: 32/42\n",
            "epoch: 6 step: 36/42\n",
            "epoch: 6 step: 40/42\n"
          ]
        },
        {
          "output_type": "stream",
          "name": "stderr",
          "text": [
            "/usr/local/lib/python3.10/dist-packages/sklearn/utils/_array_api.py:185: FutureWarning: The input object of type 'Tensor' is an array-like implementing one of the corresponding protocols (`__array__`, `__array_interface__` or `__array_struct__`); but not a sequence (or 0-D). In the future, this object will be coerced as if it was first converted using `np.array(obj)`. To retain the old behaviour, you have to either modify the type 'Tensor', or assign to an empty array created with `np.empty(correct_shape, dtype=object)`.\n",
            "  array = numpy.asarray(array, order=order, dtype=dtype)\n",
            "/usr/local/lib/python3.10/dist-packages/sklearn/utils/_array_api.py:185: VisibleDeprecationWarning: Creating an ndarray from ragged nested sequences (which is a list-or-tuple of lists-or-tuples-or ndarrays with different lengths or shapes) is deprecated. If you meant to do this, you must specify 'dtype=object' when creating the ndarray.\n",
            "  array = numpy.asarray(array, order=order, dtype=dtype)\n"
          ]
        },
        {
          "output_type": "stream",
          "name": "stdout",
          "text": [
            "test\n",
            "epoch: 6 train_loss: 0.06588200169305007 train_acc: 70.30% train_f1: 53.18%\n"
          ]
        },
        {
          "output_type": "stream",
          "name": "stderr",
          "text": [
            "<ipython-input-2-3bb857ec729e>:44: UserWarning: To copy construct from a tensor, it is recommended to use sourceTensor.clone().detach() or sourceTensor.clone().detach().requires_grad_(True), rather than torch.tensor(sourceTensor).\n",
            "  'label': torch.tensor(self.label_list[item])\n",
            "/usr/local/lib/python3.10/dist-packages/sklearn/utils/_array_api.py:185: FutureWarning: The input object of type 'Tensor' is an array-like implementing one of the corresponding protocols (`__array__`, `__array_interface__` or `__array_struct__`); but not a sequence (or 0-D). In the future, this object will be coerced as if it was first converted using `np.array(obj)`. To retain the old behaviour, you have to either modify the type 'Tensor', or assign to an empty array created with `np.empty(correct_shape, dtype=object)`.\n",
            "  array = numpy.asarray(array, order=order, dtype=dtype)\n",
            "/usr/local/lib/python3.10/dist-packages/sklearn/utils/_array_api.py:185: VisibleDeprecationWarning: Creating an ndarray from ragged nested sequences (which is a list-or-tuple of lists-or-tuples-or ndarrays with different lengths or shapes) is deprecated. If you meant to do this, you must specify 'dtype=object' when creating the ndarray.\n",
            "  array = numpy.asarray(array, order=order, dtype=dtype)\n",
            "<ipython-input-2-3bb857ec729e>:44: UserWarning: To copy construct from a tensor, it is recommended to use sourceTensor.clone().detach() or sourceTensor.clone().detach().requires_grad_(True), rather than torch.tensor(sourceTensor).\n",
            "  'label': torch.tensor(self.label_list[item])\n"
          ]
        },
        {
          "output_type": "stream",
          "name": "stdout",
          "text": [
            "          val_loss: 0.06600288674235344 val_acc 69.40% val_f1: 51.31%\n",
            "TextRNN AUC =  0.7158662975103163\n",
            "Specificity =  0.7611940298507462\n",
            "Sensitivity =  0.5373134328358209\n",
            "              precision    recall  f1-score   support\n",
            "\n",
            "         0.0     0.7933    0.7612    0.7769       469\n",
            "         1.0     0.4909    0.5373    0.5131       201\n",
            "\n",
            "    accuracy                         0.6940       670\n",
            "   macro avg     0.6421    0.6493    0.6450       670\n",
            "weighted avg     0.7026    0.6940    0.6978       670\n",
            "\n",
            "[INFO] Register count_lstm() for <class 'torch.nn.modules.rnn.LSTM'>.\n",
            "[INFO] Register count_linear() for <class 'torch.nn.modules.linear.Linear'>.\n",
            "[INFO] Register zero_ops() for <class 'torch.nn.modules.activation.ReLU'>.\n",
            "[INFO] Register zero_ops() for <class 'torch.nn.modules.container.Sequential'>.\n",
            "Flops: 72372860672.00\n",
            "MLOPS: 187.64\n",
            "epoch: 7 step: 0/42\n",
            "epoch: 7 step: 4/42\n",
            "epoch: 7 step: 8/42\n",
            "epoch: 7 step: 12/42\n",
            "epoch: 7 step: 16/42\n",
            "epoch: 7 step: 20/42\n",
            "epoch: 7 step: 24/42\n",
            "epoch: 7 step: 28/42\n",
            "epoch: 7 step: 32/42\n",
            "epoch: 7 step: 36/42\n",
            "epoch: 7 step: 40/42\n"
          ]
        },
        {
          "output_type": "stream",
          "name": "stderr",
          "text": [
            "/usr/local/lib/python3.10/dist-packages/sklearn/utils/_array_api.py:185: FutureWarning: The input object of type 'Tensor' is an array-like implementing one of the corresponding protocols (`__array__`, `__array_interface__` or `__array_struct__`); but not a sequence (or 0-D). In the future, this object will be coerced as if it was first converted using `np.array(obj)`. To retain the old behaviour, you have to either modify the type 'Tensor', or assign to an empty array created with `np.empty(correct_shape, dtype=object)`.\n",
            "  array = numpy.asarray(array, order=order, dtype=dtype)\n",
            "/usr/local/lib/python3.10/dist-packages/sklearn/utils/_array_api.py:185: VisibleDeprecationWarning: Creating an ndarray from ragged nested sequences (which is a list-or-tuple of lists-or-tuples-or ndarrays with different lengths or shapes) is deprecated. If you meant to do this, you must specify 'dtype=object' when creating the ndarray.\n",
            "  array = numpy.asarray(array, order=order, dtype=dtype)\n",
            "<ipython-input-2-3bb857ec729e>:44: UserWarning: To copy construct from a tensor, it is recommended to use sourceTensor.clone().detach() or sourceTensor.clone().detach().requires_grad_(True), rather than torch.tensor(sourceTensor).\n",
            "  'label': torch.tensor(self.label_list[item])\n"
          ]
        },
        {
          "output_type": "stream",
          "name": "stdout",
          "text": [
            "test\n",
            "epoch: 7 train_loss: 0.06459061446644011 train_acc: 71.34% train_f1: 55.09%\n"
          ]
        },
        {
          "output_type": "stream",
          "name": "stderr",
          "text": [
            "/usr/local/lib/python3.10/dist-packages/sklearn/utils/_array_api.py:185: FutureWarning: The input object of type 'Tensor' is an array-like implementing one of the corresponding protocols (`__array__`, `__array_interface__` or `__array_struct__`); but not a sequence (or 0-D). In the future, this object will be coerced as if it was first converted using `np.array(obj)`. To retain the old behaviour, you have to either modify the type 'Tensor', or assign to an empty array created with `np.empty(correct_shape, dtype=object)`.\n",
            "  array = numpy.asarray(array, order=order, dtype=dtype)\n",
            "/usr/local/lib/python3.10/dist-packages/sklearn/utils/_array_api.py:185: VisibleDeprecationWarning: Creating an ndarray from ragged nested sequences (which is a list-or-tuple of lists-or-tuples-or ndarrays with different lengths or shapes) is deprecated. If you meant to do this, you must specify 'dtype=object' when creating the ndarray.\n",
            "  array = numpy.asarray(array, order=order, dtype=dtype)\n",
            "<ipython-input-2-3bb857ec729e>:44: UserWarning: To copy construct from a tensor, it is recommended to use sourceTensor.clone().detach() or sourceTensor.clone().detach().requires_grad_(True), rather than torch.tensor(sourceTensor).\n",
            "  'label': torch.tensor(self.label_list[item])\n"
          ]
        },
        {
          "output_type": "stream",
          "name": "stdout",
          "text": [
            "          val_loss: 0.06512400270863013 val_acc 69.40% val_f1: 52.21%\n",
            "TextRNN AUC =  0.7285640030126552\n",
            "Specificity =  0.7526652452025586\n",
            "Sensitivity =  0.5572139303482587\n",
            "              precision    recall  f1-score   support\n",
            "\n",
            "         0.0     0.7986    0.7527    0.7750       469\n",
            "         1.0     0.4912    0.5572    0.5221       201\n",
            "\n",
            "    accuracy                         0.6940       670\n",
            "   macro avg     0.6449    0.6549    0.6486       670\n",
            "weighted avg     0.7064    0.6940    0.6991       670\n",
            "\n",
            "[INFO] Register count_lstm() for <class 'torch.nn.modules.rnn.LSTM'>.\n",
            "[INFO] Register count_linear() for <class 'torch.nn.modules.linear.Linear'>.\n",
            "[INFO] Register zero_ops() for <class 'torch.nn.modules.activation.ReLU'>.\n",
            "[INFO] Register zero_ops() for <class 'torch.nn.modules.container.Sequential'>.\n",
            "Flops: 72372860672.00\n",
            "MLOPS: 187.78\n",
            "epoch: 8 step: 0/42\n",
            "epoch: 8 step: 4/42\n",
            "epoch: 8 step: 8/42\n",
            "epoch: 8 step: 12/42\n",
            "epoch: 8 step: 16/42\n",
            "epoch: 8 step: 20/42\n",
            "epoch: 8 step: 24/42\n",
            "epoch: 8 step: 28/42\n",
            "epoch: 8 step: 32/42\n",
            "epoch: 8 step: 36/42\n",
            "epoch: 8 step: 40/42\n"
          ]
        },
        {
          "output_type": "stream",
          "name": "stderr",
          "text": [
            "/usr/local/lib/python3.10/dist-packages/sklearn/utils/_array_api.py:185: FutureWarning: The input object of type 'Tensor' is an array-like implementing one of the corresponding protocols (`__array__`, `__array_interface__` or `__array_struct__`); but not a sequence (or 0-D). In the future, this object will be coerced as if it was first converted using `np.array(obj)`. To retain the old behaviour, you have to either modify the type 'Tensor', or assign to an empty array created with `np.empty(correct_shape, dtype=object)`.\n",
            "  array = numpy.asarray(array, order=order, dtype=dtype)\n",
            "/usr/local/lib/python3.10/dist-packages/sklearn/utils/_array_api.py:185: VisibleDeprecationWarning: Creating an ndarray from ragged nested sequences (which is a list-or-tuple of lists-or-tuples-or ndarrays with different lengths or shapes) is deprecated. If you meant to do this, you must specify 'dtype=object' when creating the ndarray.\n",
            "  array = numpy.asarray(array, order=order, dtype=dtype)\n",
            "<ipython-input-2-3bb857ec729e>:44: UserWarning: To copy construct from a tensor, it is recommended to use sourceTensor.clone().detach() or sourceTensor.clone().detach().requires_grad_(True), rather than torch.tensor(sourceTensor).\n",
            "  'label': torch.tensor(self.label_list[item])\n"
          ]
        },
        {
          "output_type": "stream",
          "name": "stdout",
          "text": [
            "test\n",
            "epoch: 8 train_loss: 0.06276453809723967 train_acc: 72.50% train_f1: 58.43%\n"
          ]
        },
        {
          "output_type": "stream",
          "name": "stderr",
          "text": [
            "/usr/local/lib/python3.10/dist-packages/sklearn/utils/_array_api.py:185: FutureWarning: The input object of type 'Tensor' is an array-like implementing one of the corresponding protocols (`__array__`, `__array_interface__` or `__array_struct__`); but not a sequence (or 0-D). In the future, this object will be coerced as if it was first converted using `np.array(obj)`. To retain the old behaviour, you have to either modify the type 'Tensor', or assign to an empty array created with `np.empty(correct_shape, dtype=object)`.\n",
            "  array = numpy.asarray(array, order=order, dtype=dtype)\n",
            "/usr/local/lib/python3.10/dist-packages/sklearn/utils/_array_api.py:185: VisibleDeprecationWarning: Creating an ndarray from ragged nested sequences (which is a list-or-tuple of lists-or-tuples-or ndarrays with different lengths or shapes) is deprecated. If you meant to do this, you must specify 'dtype=object' when creating the ndarray.\n",
            "  array = numpy.asarray(array, order=order, dtype=dtype)\n"
          ]
        },
        {
          "output_type": "stream",
          "name": "stdout",
          "text": [
            "          val_loss: 0.06382788277485153 val_acc 71.04% val_f1: 55.50%\n",
            "TextRNN AUC =  0.7427574282107587\n",
            "Specificity =  0.7569296375266524\n",
            "Sensitivity =  0.6019900497512438\n",
            "              precision    recall  f1-score   support\n",
            "\n",
            "         0.0     0.8161    0.7569    0.7854       469\n",
            "         1.0     0.5149    0.6020    0.5550       201\n",
            "\n",
            "    accuracy                         0.7104       670\n",
            "   macro avg     0.6655    0.6795    0.6702       670\n",
            "weighted avg     0.7257    0.7104    0.7163       670\n",
            "\n",
            "[INFO] Register count_lstm() for <class 'torch.nn.modules.rnn.LSTM'>.\n",
            "[INFO] Register count_linear() for <class 'torch.nn.modules.linear.Linear'>.\n",
            "[INFO] Register zero_ops() for <class 'torch.nn.modules.activation.ReLU'>.\n",
            "[INFO] Register zero_ops() for <class 'torch.nn.modules.container.Sequential'>.\n",
            "Flops: 72372860672.00\n",
            "MLOPS: 188.75\n"
          ]
        },
        {
          "output_type": "stream",
          "name": "stderr",
          "text": [
            "<ipython-input-2-3bb857ec729e>:44: UserWarning: To copy construct from a tensor, it is recommended to use sourceTensor.clone().detach() or sourceTensor.clone().detach().requires_grad_(True), rather than torch.tensor(sourceTensor).\n",
            "  'label': torch.tensor(self.label_list[item])\n"
          ]
        },
        {
          "output_type": "stream",
          "name": "stdout",
          "text": [
            "epoch: 9 step: 0/42\n",
            "epoch: 9 step: 4/42\n",
            "epoch: 9 step: 8/42\n",
            "epoch: 9 step: 12/42\n",
            "epoch: 9 step: 16/42\n",
            "epoch: 9 step: 20/42\n",
            "epoch: 9 step: 24/42\n",
            "epoch: 9 step: 28/42\n",
            "epoch: 9 step: 32/42\n",
            "epoch: 9 step: 36/42\n",
            "epoch: 9 step: 40/42\n"
          ]
        },
        {
          "output_type": "stream",
          "name": "stderr",
          "text": [
            "/usr/local/lib/python3.10/dist-packages/sklearn/utils/_array_api.py:185: FutureWarning: The input object of type 'Tensor' is an array-like implementing one of the corresponding protocols (`__array__`, `__array_interface__` or `__array_struct__`); but not a sequence (or 0-D). In the future, this object will be coerced as if it was first converted using `np.array(obj)`. To retain the old behaviour, you have to either modify the type 'Tensor', or assign to an empty array created with `np.empty(correct_shape, dtype=object)`.\n",
            "  array = numpy.asarray(array, order=order, dtype=dtype)\n",
            "/usr/local/lib/python3.10/dist-packages/sklearn/utils/_array_api.py:185: VisibleDeprecationWarning: Creating an ndarray from ragged nested sequences (which is a list-or-tuple of lists-or-tuples-or ndarrays with different lengths or shapes) is deprecated. If you meant to do this, you must specify 'dtype=object' when creating the ndarray.\n",
            "  array = numpy.asarray(array, order=order, dtype=dtype)\n",
            "<ipython-input-2-3bb857ec729e>:44: UserWarning: To copy construct from a tensor, it is recommended to use sourceTensor.clone().detach() or sourceTensor.clone().detach().requires_grad_(True), rather than torch.tensor(sourceTensor).\n",
            "  'label': torch.tensor(self.label_list[item])\n"
          ]
        },
        {
          "output_type": "stream",
          "name": "stdout",
          "text": [
            "test\n",
            "epoch: 9 train_loss: 0.06023843870276496 train_acc: 73.43% train_f1: 60.00%\n"
          ]
        },
        {
          "output_type": "stream",
          "name": "stderr",
          "text": [
            "/usr/local/lib/python3.10/dist-packages/sklearn/utils/_array_api.py:185: FutureWarning: The input object of type 'Tensor' is an array-like implementing one of the corresponding protocols (`__array__`, `__array_interface__` or `__array_struct__`); but not a sequence (or 0-D). In the future, this object will be coerced as if it was first converted using `np.array(obj)`. To retain the old behaviour, you have to either modify the type 'Tensor', or assign to an empty array created with `np.empty(correct_shape, dtype=object)`.\n",
            "  array = numpy.asarray(array, order=order, dtype=dtype)\n",
            "/usr/local/lib/python3.10/dist-packages/sklearn/utils/_array_api.py:185: VisibleDeprecationWarning: Creating an ndarray from ragged nested sequences (which is a list-or-tuple of lists-or-tuples-or ndarrays with different lengths or shapes) is deprecated. If you meant to do this, you must specify 'dtype=object' when creating the ndarray.\n",
            "  array = numpy.asarray(array, order=order, dtype=dtype)\n",
            "<ipython-input-2-3bb857ec729e>:44: UserWarning: To copy construct from a tensor, it is recommended to use sourceTensor.clone().detach() or sourceTensor.clone().detach().requires_grad_(True), rather than torch.tensor(sourceTensor).\n",
            "  'label': torch.tensor(self.label_list[item])\n"
          ]
        },
        {
          "output_type": "stream",
          "name": "stdout",
          "text": [
            "          val_loss: 0.06217135218056766 val_acc 72.54% val_f1: 58.74%\n",
            "TextRNN AUC =  0.75904061780649\n",
            "Specificity =  0.7569296375266524\n",
            "Sensitivity =  0.6517412935323383\n",
            "              precision    recall  f1-score   support\n",
            "\n",
            "         0.0     0.8353    0.7569    0.7942       469\n",
            "         1.0     0.5347    0.6517    0.5874       201\n",
            "\n",
            "    accuracy                         0.7254       670\n",
            "   macro avg     0.6850    0.7043    0.6908       670\n",
            "weighted avg     0.7451    0.7254    0.7322       670\n",
            "\n",
            "[INFO] Register count_lstm() for <class 'torch.nn.modules.rnn.LSTM'>.\n",
            "[INFO] Register count_linear() for <class 'torch.nn.modules.linear.Linear'>.\n",
            "[INFO] Register zero_ops() for <class 'torch.nn.modules.activation.ReLU'>.\n",
            "[INFO] Register zero_ops() for <class 'torch.nn.modules.container.Sequential'>.\n",
            "Flops: 72372860672.00\n",
            "MLOPS: 185.98\n",
            "epoch: 10 step: 0/42\n",
            "epoch: 10 step: 4/42\n",
            "epoch: 10 step: 8/42\n",
            "epoch: 10 step: 12/42\n",
            "epoch: 10 step: 16/42\n",
            "epoch: 10 step: 20/42\n",
            "epoch: 10 step: 24/42\n",
            "epoch: 10 step: 28/42\n",
            "epoch: 10 step: 32/42\n",
            "epoch: 10 step: 36/42\n",
            "epoch: 10 step: 40/42\n"
          ]
        },
        {
          "output_type": "stream",
          "name": "stderr",
          "text": [
            "/usr/local/lib/python3.10/dist-packages/sklearn/utils/_array_api.py:185: FutureWarning: The input object of type 'Tensor' is an array-like implementing one of the corresponding protocols (`__array__`, `__array_interface__` or `__array_struct__`); but not a sequence (or 0-D). In the future, this object will be coerced as if it was first converted using `np.array(obj)`. To retain the old behaviour, you have to either modify the type 'Tensor', or assign to an empty array created with `np.empty(correct_shape, dtype=object)`.\n",
            "  array = numpy.asarray(array, order=order, dtype=dtype)\n",
            "/usr/local/lib/python3.10/dist-packages/sklearn/utils/_array_api.py:185: VisibleDeprecationWarning: Creating an ndarray from ragged nested sequences (which is a list-or-tuple of lists-or-tuples-or ndarrays with different lengths or shapes) is deprecated. If you meant to do this, you must specify 'dtype=object' when creating the ndarray.\n",
            "  array = numpy.asarray(array, order=order, dtype=dtype)\n",
            "<ipython-input-2-3bb857ec729e>:44: UserWarning: To copy construct from a tensor, it is recommended to use sourceTensor.clone().detach() or sourceTensor.clone().detach().requires_grad_(True), rather than torch.tensor(sourceTensor).\n",
            "  'label': torch.tensor(self.label_list[item])\n"
          ]
        },
        {
          "output_type": "stream",
          "name": "stdout",
          "text": [
            "test\n",
            "epoch: 10 train_loss: 0.057274670916653815 train_acc: 74.48% train_f1: 62.21%\n"
          ]
        },
        {
          "output_type": "stream",
          "name": "stderr",
          "text": [
            "/usr/local/lib/python3.10/dist-packages/sklearn/utils/_array_api.py:185: FutureWarning: The input object of type 'Tensor' is an array-like implementing one of the corresponding protocols (`__array__`, `__array_interface__` or `__array_struct__`); but not a sequence (or 0-D). In the future, this object will be coerced as if it was first converted using `np.array(obj)`. To retain the old behaviour, you have to either modify the type 'Tensor', or assign to an empty array created with `np.empty(correct_shape, dtype=object)`.\n",
            "  array = numpy.asarray(array, order=order, dtype=dtype)\n",
            "/usr/local/lib/python3.10/dist-packages/sklearn/utils/_array_api.py:185: VisibleDeprecationWarning: Creating an ndarray from ragged nested sequences (which is a list-or-tuple of lists-or-tuples-or ndarrays with different lengths or shapes) is deprecated. If you meant to do this, you must specify 'dtype=object' when creating the ndarray.\n",
            "  array = numpy.asarray(array, order=order, dtype=dtype)\n",
            "<ipython-input-2-3bb857ec729e>:44: UserWarning: To copy construct from a tensor, it is recommended to use sourceTensor.clone().detach() or sourceTensor.clone().detach().requires_grad_(True), rather than torch.tensor(sourceTensor).\n",
            "  'label': torch.tensor(self.label_list[item])\n"
          ]
        },
        {
          "output_type": "stream",
          "name": "stdout",
          "text": [
            "          val_loss: 0.0605784613977779 val_acc 72.69% val_f1: 59.24%\n",
            "TextRNN AUC =  0.7744115244672162\n",
            "Specificity =  0.7547974413646056\n",
            "Sensitivity =  0.6616915422885572\n",
            "              precision    recall  f1-score   support\n",
            "\n",
            "         0.0     0.8389    0.7548    0.7946       469\n",
            "         1.0     0.5363    0.6617    0.5924       201\n",
            "\n",
            "    accuracy                         0.7269       670\n",
            "   macro avg     0.6876    0.7082    0.6935       670\n",
            "weighted avg     0.7481    0.7269    0.7340       670\n",
            "\n",
            "[INFO] Register count_lstm() for <class 'torch.nn.modules.rnn.LSTM'>.\n",
            "[INFO] Register count_linear() for <class 'torch.nn.modules.linear.Linear'>.\n",
            "[INFO] Register zero_ops() for <class 'torch.nn.modules.activation.ReLU'>.\n",
            "[INFO] Register zero_ops() for <class 'torch.nn.modules.container.Sequential'>.\n",
            "Flops: 72372860672.00\n",
            "MLOPS: 186.91\n",
            "epoch: 11 step: 0/42\n",
            "epoch: 11 step: 4/42\n",
            "epoch: 11 step: 8/42\n",
            "epoch: 11 step: 12/42\n",
            "epoch: 11 step: 16/42\n",
            "epoch: 11 step: 20/42\n",
            "epoch: 11 step: 24/42\n",
            "epoch: 11 step: 28/42\n",
            "epoch: 11 step: 32/42\n",
            "epoch: 11 step: 36/42\n",
            "epoch: 11 step: 40/42\n"
          ]
        },
        {
          "output_type": "stream",
          "name": "stderr",
          "text": [
            "/usr/local/lib/python3.10/dist-packages/sklearn/utils/_array_api.py:185: FutureWarning: The input object of type 'Tensor' is an array-like implementing one of the corresponding protocols (`__array__`, `__array_interface__` or `__array_struct__`); but not a sequence (or 0-D). In the future, this object will be coerced as if it was first converted using `np.array(obj)`. To retain the old behaviour, you have to either modify the type 'Tensor', or assign to an empty array created with `np.empty(correct_shape, dtype=object)`.\n",
            "  array = numpy.asarray(array, order=order, dtype=dtype)\n",
            "/usr/local/lib/python3.10/dist-packages/sklearn/utils/_array_api.py:185: VisibleDeprecationWarning: Creating an ndarray from ragged nested sequences (which is a list-or-tuple of lists-or-tuples-or ndarrays with different lengths or shapes) is deprecated. If you meant to do this, you must specify 'dtype=object' when creating the ndarray.\n",
            "  array = numpy.asarray(array, order=order, dtype=dtype)\n"
          ]
        },
        {
          "output_type": "stream",
          "name": "stdout",
          "text": [
            "test\n",
            "epoch: 11 train_loss: 0.05530361689272381 train_acc: 74.48% train_f1: 63.50%\n"
          ]
        },
        {
          "output_type": "stream",
          "name": "stderr",
          "text": [
            "<ipython-input-2-3bb857ec729e>:44: UserWarning: To copy construct from a tensor, it is recommended to use sourceTensor.clone().detach() or sourceTensor.clone().detach().requires_grad_(True), rather than torch.tensor(sourceTensor).\n",
            "  'label': torch.tensor(self.label_list[item])\n",
            "/usr/local/lib/python3.10/dist-packages/sklearn/utils/_array_api.py:185: FutureWarning: The input object of type 'Tensor' is an array-like implementing one of the corresponding protocols (`__array__`, `__array_interface__` or `__array_struct__`); but not a sequence (or 0-D). In the future, this object will be coerced as if it was first converted using `np.array(obj)`. To retain the old behaviour, you have to either modify the type 'Tensor', or assign to an empty array created with `np.empty(correct_shape, dtype=object)`.\n",
            "  array = numpy.asarray(array, order=order, dtype=dtype)\n",
            "/usr/local/lib/python3.10/dist-packages/sklearn/utils/_array_api.py:185: VisibleDeprecationWarning: Creating an ndarray from ragged nested sequences (which is a list-or-tuple of lists-or-tuples-or ndarrays with different lengths or shapes) is deprecated. If you meant to do this, you must specify 'dtype=object' when creating the ndarray.\n",
            "  array = numpy.asarray(array, order=order, dtype=dtype)\n"
          ]
        },
        {
          "output_type": "stream",
          "name": "stdout",
          "text": [
            "          val_loss: 0.059700347144495354 val_acc 72.09% val_f1: 60.13%\n",
            "TextRNN AUC =  0.7853270958639638\n",
            "Specificity =  0.7292110874200426\n",
            "Sensitivity =  0.7014925373134329\n",
            "              precision    recall  f1-score   support\n",
            "\n",
            "         0.0     0.8507    0.7292    0.7853       469\n",
            "         1.0     0.5261    0.7015    0.6013       201\n",
            "\n",
            "    accuracy                         0.7209       670\n",
            "   macro avg     0.6884    0.7154    0.6933       670\n",
            "weighted avg     0.7534    0.7209    0.7301       670\n",
            "\n",
            "[INFO] Register count_lstm() for <class 'torch.nn.modules.rnn.LSTM'>.\n",
            "[INFO] Register count_linear() for <class 'torch.nn.modules.linear.Linear'>.\n",
            "[INFO] Register zero_ops() for <class 'torch.nn.modules.activation.ReLU'>.\n",
            "[INFO] Register zero_ops() for <class 'torch.nn.modules.container.Sequential'>.\n",
            "Flops: 72372860672.00\n",
            "MLOPS: 179.73\n"
          ]
        },
        {
          "output_type": "stream",
          "name": "stderr",
          "text": [
            "<ipython-input-2-3bb857ec729e>:44: UserWarning: To copy construct from a tensor, it is recommended to use sourceTensor.clone().detach() or sourceTensor.clone().detach().requires_grad_(True), rather than torch.tensor(sourceTensor).\n",
            "  'label': torch.tensor(self.label_list[item])\n"
          ]
        },
        {
          "output_type": "stream",
          "name": "stdout",
          "text": [
            "epoch: 12 step: 0/42\n",
            "epoch: 12 step: 4/42\n",
            "epoch: 12 step: 8/42\n",
            "epoch: 12 step: 12/42\n",
            "epoch: 12 step: 16/42\n",
            "epoch: 12 step: 20/42\n",
            "epoch: 12 step: 24/42\n",
            "epoch: 12 step: 28/42\n",
            "epoch: 12 step: 32/42\n",
            "epoch: 12 step: 36/42\n",
            "epoch: 12 step: 40/42\n"
          ]
        },
        {
          "output_type": "stream",
          "name": "stderr",
          "text": [
            "/usr/local/lib/python3.10/dist-packages/sklearn/utils/_array_api.py:185: FutureWarning: The input object of type 'Tensor' is an array-like implementing one of the corresponding protocols (`__array__`, `__array_interface__` or `__array_struct__`); but not a sequence (or 0-D). In the future, this object will be coerced as if it was first converted using `np.array(obj)`. To retain the old behaviour, you have to either modify the type 'Tensor', or assign to an empty array created with `np.empty(correct_shape, dtype=object)`.\n",
            "  array = numpy.asarray(array, order=order, dtype=dtype)\n",
            "/usr/local/lib/python3.10/dist-packages/sklearn/utils/_array_api.py:185: VisibleDeprecationWarning: Creating an ndarray from ragged nested sequences (which is a list-or-tuple of lists-or-tuples-or ndarrays with different lengths or shapes) is deprecated. If you meant to do this, you must specify 'dtype=object' when creating the ndarray.\n",
            "  array = numpy.asarray(array, order=order, dtype=dtype)\n",
            "<ipython-input-2-3bb857ec729e>:44: UserWarning: To copy construct from a tensor, it is recommended to use sourceTensor.clone().detach() or sourceTensor.clone().detach().requires_grad_(True), rather than torch.tensor(sourceTensor).\n",
            "  'label': torch.tensor(self.label_list[item])\n"
          ]
        },
        {
          "output_type": "stream",
          "name": "stdout",
          "text": [
            "test\n",
            "epoch: 12 train_loss: 0.05369877043579306 train_acc: 78.32% train_f1: 66.12%\n"
          ]
        },
        {
          "output_type": "stream",
          "name": "stderr",
          "text": [
            "/usr/local/lib/python3.10/dist-packages/sklearn/utils/_array_api.py:185: FutureWarning: The input object of type 'Tensor' is an array-like implementing one of the corresponding protocols (`__array__`, `__array_interface__` or `__array_struct__`); but not a sequence (or 0-D). In the future, this object will be coerced as if it was first converted using `np.array(obj)`. To retain the old behaviour, you have to either modify the type 'Tensor', or assign to an empty array created with `np.empty(correct_shape, dtype=object)`.\n",
            "  array = numpy.asarray(array, order=order, dtype=dtype)\n",
            "/usr/local/lib/python3.10/dist-packages/sklearn/utils/_array_api.py:185: VisibleDeprecationWarning: Creating an ndarray from ragged nested sequences (which is a list-or-tuple of lists-or-tuples-or ndarrays with different lengths or shapes) is deprecated. If you meant to do this, you must specify 'dtype=object' when creating the ndarray.\n",
            "  array = numpy.asarray(array, order=order, dtype=dtype)\n",
            "<ipython-input-2-3bb857ec729e>:44: UserWarning: To copy construct from a tensor, it is recommended to use sourceTensor.clone().detach() or sourceTensor.clone().detach().requires_grad_(True), rather than torch.tensor(sourceTensor).\n",
            "  'label': torch.tensor(self.label_list[item])\n"
          ]
        },
        {
          "output_type": "stream",
          "name": "stdout",
          "text": [
            "          val_loss: 0.05988983301953836 val_acc 75.07% val_f1: 61.25%\n",
            "TextRNN AUC =  0.7919464511133034\n",
            "Specificity =  0.7910447761194029\n",
            "Sensitivity =  0.6567164179104478\n",
            "              precision    recall  f1-score   support\n",
            "\n",
            "         0.0     0.8432    0.7910    0.8163       469\n",
            "         1.0     0.5739    0.6567    0.6125       201\n",
            "\n",
            "    accuracy                         0.7507       670\n",
            "   macro avg     0.7085    0.7239    0.7144       670\n",
            "weighted avg     0.7624    0.7507    0.7552       670\n",
            "\n",
            "[INFO] Register count_lstm() for <class 'torch.nn.modules.rnn.LSTM'>.\n",
            "[INFO] Register count_linear() for <class 'torch.nn.modules.linear.Linear'>.\n",
            "[INFO] Register zero_ops() for <class 'torch.nn.modules.activation.ReLU'>.\n",
            "[INFO] Register zero_ops() for <class 'torch.nn.modules.container.Sequential'>.\n",
            "Flops: 72372860672.00\n",
            "MLOPS: 186.74\n",
            "epoch: 13 step: 0/42\n",
            "epoch: 13 step: 4/42\n",
            "epoch: 13 step: 8/42\n",
            "epoch: 13 step: 12/42\n",
            "epoch: 13 step: 16/42\n",
            "epoch: 13 step: 20/42\n",
            "epoch: 13 step: 24/42\n",
            "epoch: 13 step: 28/42\n",
            "epoch: 13 step: 32/42\n",
            "epoch: 13 step: 36/42\n",
            "epoch: 13 step: 40/42\n"
          ]
        },
        {
          "output_type": "stream",
          "name": "stderr",
          "text": [
            "/usr/local/lib/python3.10/dist-packages/sklearn/utils/_array_api.py:185: FutureWarning: The input object of type 'Tensor' is an array-like implementing one of the corresponding protocols (`__array__`, `__array_interface__` or `__array_struct__`); but not a sequence (or 0-D). In the future, this object will be coerced as if it was first converted using `np.array(obj)`. To retain the old behaviour, you have to either modify the type 'Tensor', or assign to an empty array created with `np.empty(correct_shape, dtype=object)`.\n",
            "  array = numpy.asarray(array, order=order, dtype=dtype)\n",
            "/usr/local/lib/python3.10/dist-packages/sklearn/utils/_array_api.py:185: VisibleDeprecationWarning: Creating an ndarray from ragged nested sequences (which is a list-or-tuple of lists-or-tuples-or ndarrays with different lengths or shapes) is deprecated. If you meant to do this, you must specify 'dtype=object' when creating the ndarray.\n",
            "  array = numpy.asarray(array, order=order, dtype=dtype)\n",
            "<ipython-input-2-3bb857ec729e>:44: UserWarning: To copy construct from a tensor, it is recommended to use sourceTensor.clone().detach() or sourceTensor.clone().detach().requires_grad_(True), rather than torch.tensor(sourceTensor).\n",
            "  'label': torch.tensor(self.label_list[item])\n"
          ]
        },
        {
          "output_type": "stream",
          "name": "stdout",
          "text": [
            "test\n",
            "epoch: 13 train_loss: 0.05204855145088264 train_acc: 78.17% train_f1: 67.19%\n"
          ]
        },
        {
          "output_type": "stream",
          "name": "stderr",
          "text": [
            "/usr/local/lib/python3.10/dist-packages/sklearn/utils/_array_api.py:185: FutureWarning: The input object of type 'Tensor' is an array-like implementing one of the corresponding protocols (`__array__`, `__array_interface__` or `__array_struct__`); but not a sequence (or 0-D). In the future, this object will be coerced as if it was first converted using `np.array(obj)`. To retain the old behaviour, you have to either modify the type 'Tensor', or assign to an empty array created with `np.empty(correct_shape, dtype=object)`.\n",
            "  array = numpy.asarray(array, order=order, dtype=dtype)\n",
            "/usr/local/lib/python3.10/dist-packages/sklearn/utils/_array_api.py:185: VisibleDeprecationWarning: Creating an ndarray from ragged nested sequences (which is a list-or-tuple of lists-or-tuples-or ndarrays with different lengths or shapes) is deprecated. If you meant to do this, you must specify 'dtype=object' when creating the ndarray.\n",
            "  array = numpy.asarray(array, order=order, dtype=dtype)\n",
            "<ipython-input-2-3bb857ec729e>:44: UserWarning: To copy construct from a tensor, it is recommended to use sourceTensor.clone().detach() or sourceTensor.clone().detach().requires_grad_(True), rather than torch.tensor(sourceTensor).\n",
            "  'label': torch.tensor(self.label_list[item])\n"
          ]
        },
        {
          "output_type": "stream",
          "name": "stdout",
          "text": [
            "          val_loss: 0.059394194998524406 val_acc 74.03% val_f1: 60.81%\n",
            "TextRNN AUC =  0.7981149688656929\n",
            "Specificity =  0.7697228144989339\n",
            "Sensitivity =  0.6716417910447762\n",
            "              precision    recall  f1-score   support\n",
            "\n",
            "         0.0     0.8454    0.7697    0.8058       469\n",
            "         1.0     0.5556    0.6716    0.6081       201\n",
            "\n",
            "    accuracy                         0.7403       670\n",
            "   macro avg     0.7005    0.7207    0.7070       670\n",
            "weighted avg     0.7585    0.7403    0.7465       670\n",
            "\n",
            "[INFO] Register count_lstm() for <class 'torch.nn.modules.rnn.LSTM'>.\n",
            "[INFO] Register count_linear() for <class 'torch.nn.modules.linear.Linear'>.\n",
            "[INFO] Register zero_ops() for <class 'torch.nn.modules.activation.ReLU'>.\n",
            "[INFO] Register zero_ops() for <class 'torch.nn.modules.container.Sequential'>.\n",
            "Flops: 72372860672.00\n",
            "MLOPS: 186.56\n",
            "epoch: 14 step: 0/42\n",
            "epoch: 14 step: 4/42\n",
            "epoch: 14 step: 8/42\n",
            "epoch: 14 step: 12/42\n",
            "epoch: 14 step: 16/42\n",
            "epoch: 14 step: 20/42\n",
            "epoch: 14 step: 24/42\n",
            "epoch: 14 step: 28/42\n",
            "epoch: 14 step: 32/42\n",
            "epoch: 14 step: 36/42\n",
            "epoch: 14 step: 40/42\n"
          ]
        },
        {
          "output_type": "stream",
          "name": "stderr",
          "text": [
            "/usr/local/lib/python3.10/dist-packages/sklearn/utils/_array_api.py:185: FutureWarning: The input object of type 'Tensor' is an array-like implementing one of the corresponding protocols (`__array__`, `__array_interface__` or `__array_struct__`); but not a sequence (or 0-D). In the future, this object will be coerced as if it was first converted using `np.array(obj)`. To retain the old behaviour, you have to either modify the type 'Tensor', or assign to an empty array created with `np.empty(correct_shape, dtype=object)`.\n",
            "  array = numpy.asarray(array, order=order, dtype=dtype)\n",
            "/usr/local/lib/python3.10/dist-packages/sklearn/utils/_array_api.py:185: VisibleDeprecationWarning: Creating an ndarray from ragged nested sequences (which is a list-or-tuple of lists-or-tuples-or ndarrays with different lengths or shapes) is deprecated. If you meant to do this, you must specify 'dtype=object' when creating the ndarray.\n",
            "  array = numpy.asarray(array, order=order, dtype=dtype)\n",
            "<ipython-input-2-3bb857ec729e>:44: UserWarning: To copy construct from a tensor, it is recommended to use sourceTensor.clone().detach() or sourceTensor.clone().detach().requires_grad_(True), rather than torch.tensor(sourceTensor).\n",
            "  'label': torch.tensor(self.label_list[item])\n"
          ]
        },
        {
          "output_type": "stream",
          "name": "stdout",
          "text": [
            "test\n",
            "epoch: 14 train_loss: 0.05068299848408926 train_acc: 78.84% train_f1: 68.48%\n"
          ]
        },
        {
          "output_type": "stream",
          "name": "stderr",
          "text": [
            "/usr/local/lib/python3.10/dist-packages/sklearn/utils/_array_api.py:185: FutureWarning: The input object of type 'Tensor' is an array-like implementing one of the corresponding protocols (`__array__`, `__array_interface__` or `__array_struct__`); but not a sequence (or 0-D). In the future, this object will be coerced as if it was first converted using `np.array(obj)`. To retain the old behaviour, you have to either modify the type 'Tensor', or assign to an empty array created with `np.empty(correct_shape, dtype=object)`.\n",
            "  array = numpy.asarray(array, order=order, dtype=dtype)\n",
            "/usr/local/lib/python3.10/dist-packages/sklearn/utils/_array_api.py:185: VisibleDeprecationWarning: Creating an ndarray from ragged nested sequences (which is a list-or-tuple of lists-or-tuples-or ndarrays with different lengths or shapes) is deprecated. If you meant to do this, you must specify 'dtype=object' when creating the ndarray.\n",
            "  array = numpy.asarray(array, order=order, dtype=dtype)\n",
            "<ipython-input-2-3bb857ec729e>:44: UserWarning: To copy construct from a tensor, it is recommended to use sourceTensor.clone().detach() or sourceTensor.clone().detach().requires_grad_(True), rather than torch.tensor(sourceTensor).\n",
            "  'label': torch.tensor(self.label_list[item])\n"
          ]
        },
        {
          "output_type": "stream",
          "name": "stdout",
          "text": [
            "          val_loss: 0.059149081395431 val_acc 74.18% val_f1: 61.12%\n",
            "TextRNN AUC =  0.8012283995799255\n",
            "Specificity =  0.7697228144989339\n",
            "Sensitivity =  0.6766169154228856\n",
            "              precision    recall  f1-score   support\n",
            "\n",
            "         0.0     0.8474    0.7697    0.8067       469\n",
            "         1.0     0.5574    0.6766    0.6112       201\n",
            "\n",
            "    accuracy                         0.7418       670\n",
            "   macro avg     0.7024    0.7232    0.7090       670\n",
            "weighted avg     0.7604    0.7418    0.7481       670\n",
            "\n",
            "[INFO] Register count_lstm() for <class 'torch.nn.modules.rnn.LSTM'>.\n",
            "[INFO] Register count_linear() for <class 'torch.nn.modules.linear.Linear'>.\n",
            "[INFO] Register zero_ops() for <class 'torch.nn.modules.activation.ReLU'>.\n",
            "[INFO] Register zero_ops() for <class 'torch.nn.modules.container.Sequential'>.\n",
            "Flops: 72372860672.00\n",
            "MLOPS: 186.50\n",
            "epoch: 15 step: 0/42\n",
            "epoch: 15 step: 4/42\n",
            "epoch: 15 step: 8/42\n",
            "epoch: 15 step: 12/42\n",
            "epoch: 15 step: 16/42\n",
            "epoch: 15 step: 20/42\n",
            "epoch: 15 step: 24/42\n",
            "epoch: 15 step: 28/42\n",
            "epoch: 15 step: 32/42\n",
            "epoch: 15 step: 36/42\n",
            "epoch: 15 step: 40/42\n"
          ]
        },
        {
          "output_type": "stream",
          "name": "stderr",
          "text": [
            "/usr/local/lib/python3.10/dist-packages/sklearn/utils/_array_api.py:185: FutureWarning: The input object of type 'Tensor' is an array-like implementing one of the corresponding protocols (`__array__`, `__array_interface__` or `__array_struct__`); but not a sequence (or 0-D). In the future, this object will be coerced as if it was first converted using `np.array(obj)`. To retain the old behaviour, you have to either modify the type 'Tensor', or assign to an empty array created with `np.empty(correct_shape, dtype=object)`.\n",
            "  array = numpy.asarray(array, order=order, dtype=dtype)\n",
            "/usr/local/lib/python3.10/dist-packages/sklearn/utils/_array_api.py:185: VisibleDeprecationWarning: Creating an ndarray from ragged nested sequences (which is a list-or-tuple of lists-or-tuples-or ndarrays with different lengths or shapes) is deprecated. If you meant to do this, you must specify 'dtype=object' when creating the ndarray.\n",
            "  array = numpy.asarray(array, order=order, dtype=dtype)\n",
            "<ipython-input-2-3bb857ec729e>:44: UserWarning: To copy construct from a tensor, it is recommended to use sourceTensor.clone().detach() or sourceTensor.clone().detach().requires_grad_(True), rather than torch.tensor(sourceTensor).\n",
            "  'label': torch.tensor(self.label_list[item])\n"
          ]
        },
        {
          "output_type": "stream",
          "name": "stdout",
          "text": [
            "test\n",
            "epoch: 15 train_loss: 0.0493694513681389 train_acc: 78.21% train_f1: 68.70%\n"
          ]
        },
        {
          "output_type": "stream",
          "name": "stderr",
          "text": [
            "/usr/local/lib/python3.10/dist-packages/sklearn/utils/_array_api.py:185: FutureWarning: The input object of type 'Tensor' is an array-like implementing one of the corresponding protocols (`__array__`, `__array_interface__` or `__array_struct__`); but not a sequence (or 0-D). In the future, this object will be coerced as if it was first converted using `np.array(obj)`. To retain the old behaviour, you have to either modify the type 'Tensor', or assign to an empty array created with `np.empty(correct_shape, dtype=object)`.\n",
            "  array = numpy.asarray(array, order=order, dtype=dtype)\n",
            "/usr/local/lib/python3.10/dist-packages/sklearn/utils/_array_api.py:185: VisibleDeprecationWarning: Creating an ndarray from ragged nested sequences (which is a list-or-tuple of lists-or-tuples-or ndarrays with different lengths or shapes) is deprecated. If you meant to do this, you must specify 'dtype=object' when creating the ndarray.\n",
            "  array = numpy.asarray(array, order=order, dtype=dtype)\n"
          ]
        },
        {
          "output_type": "stream",
          "name": "stdout",
          "text": [
            "          val_loss: 0.058808313513343986 val_acc 73.73% val_f1: 61.57%\n",
            "TextRNN AUC =  0.8030741813321454\n",
            "Specificity =  0.7526652452025586\n",
            "Sensitivity =  0.7014925373134329\n",
            "              precision    recall  f1-score   support\n",
            "\n",
            "         0.0     0.8547    0.7527    0.8005       469\n",
            "         1.0     0.5486    0.7015    0.6157       201\n",
            "\n",
            "    accuracy                         0.7373       670\n",
            "   macro avg     0.7017    0.7271    0.7081       670\n",
            "weighted avg     0.7629    0.7373    0.7450       670\n",
            "\n",
            "[INFO] Register count_lstm() for <class 'torch.nn.modules.rnn.LSTM'>.\n",
            "[INFO] Register count_linear() for <class 'torch.nn.modules.linear.Linear'>.\n",
            "[INFO] Register zero_ops() for <class 'torch.nn.modules.activation.ReLU'>.\n",
            "[INFO] Register zero_ops() for <class 'torch.nn.modules.container.Sequential'>.\n",
            "Flops: 72372860672.00\n",
            "MLOPS: 185.58\n"
          ]
        },
        {
          "output_type": "stream",
          "name": "stderr",
          "text": [
            "<ipython-input-2-3bb857ec729e>:44: UserWarning: To copy construct from a tensor, it is recommended to use sourceTensor.clone().detach() or sourceTensor.clone().detach().requires_grad_(True), rather than torch.tensor(sourceTensor).\n",
            "  'label': torch.tensor(self.label_list[item])\n"
          ]
        },
        {
          "output_type": "stream",
          "name": "stdout",
          "text": [
            "epoch: 16 step: 0/42\n",
            "epoch: 16 step: 4/42\n",
            "epoch: 16 step: 8/42\n",
            "epoch: 16 step: 12/42\n",
            "epoch: 16 step: 16/42\n",
            "epoch: 16 step: 20/42\n",
            "epoch: 16 step: 24/42\n",
            "epoch: 16 step: 28/42\n",
            "epoch: 16 step: 32/42\n",
            "epoch: 16 step: 36/42\n",
            "epoch: 16 step: 40/42\n"
          ]
        },
        {
          "output_type": "stream",
          "name": "stderr",
          "text": [
            "/usr/local/lib/python3.10/dist-packages/sklearn/utils/_array_api.py:185: FutureWarning: The input object of type 'Tensor' is an array-like implementing one of the corresponding protocols (`__array__`, `__array_interface__` or `__array_struct__`); but not a sequence (or 0-D). In the future, this object will be coerced as if it was first converted using `np.array(obj)`. To retain the old behaviour, you have to either modify the type 'Tensor', or assign to an empty array created with `np.empty(correct_shape, dtype=object)`.\n",
            "  array = numpy.asarray(array, order=order, dtype=dtype)\n",
            "/usr/local/lib/python3.10/dist-packages/sklearn/utils/_array_api.py:185: VisibleDeprecationWarning: Creating an ndarray from ragged nested sequences (which is a list-or-tuple of lists-or-tuples-or ndarrays with different lengths or shapes) is deprecated. If you meant to do this, you must specify 'dtype=object' when creating the ndarray.\n",
            "  array = numpy.asarray(array, order=order, dtype=dtype)\n",
            "<ipython-input-2-3bb857ec729e>:44: UserWarning: To copy construct from a tensor, it is recommended to use sourceTensor.clone().detach() or sourceTensor.clone().detach().requires_grad_(True), rather than torch.tensor(sourceTensor).\n",
            "  'label': torch.tensor(self.label_list[item])\n"
          ]
        },
        {
          "output_type": "stream",
          "name": "stdout",
          "text": [
            "test\n",
            "epoch: 16 train_loss: 0.04796451640625795 train_acc: 79.22% train_f1: 69.81%\n"
          ]
        },
        {
          "output_type": "stream",
          "name": "stderr",
          "text": [
            "/usr/local/lib/python3.10/dist-packages/sklearn/utils/_array_api.py:185: FutureWarning: The input object of type 'Tensor' is an array-like implementing one of the corresponding protocols (`__array__`, `__array_interface__` or `__array_struct__`); but not a sequence (or 0-D). In the future, this object will be coerced as if it was first converted using `np.array(obj)`. To retain the old behaviour, you have to either modify the type 'Tensor', or assign to an empty array created with `np.empty(correct_shape, dtype=object)`.\n",
            "  array = numpy.asarray(array, order=order, dtype=dtype)\n",
            "/usr/local/lib/python3.10/dist-packages/sklearn/utils/_array_api.py:185: VisibleDeprecationWarning: Creating an ndarray from ragged nested sequences (which is a list-or-tuple of lists-or-tuples-or ndarrays with different lengths or shapes) is deprecated. If you meant to do this, you must specify 'dtype=object' when creating the ndarray.\n",
            "  array = numpy.asarray(array, order=order, dtype=dtype)\n",
            "<ipython-input-2-3bb857ec729e>:44: UserWarning: To copy construct from a tensor, it is recommended to use sourceTensor.clone().detach() or sourceTensor.clone().detach().requires_grad_(True), rather than torch.tensor(sourceTensor).\n",
            "  'label': torch.tensor(self.label_list[item])\n"
          ]
        },
        {
          "output_type": "stream",
          "name": "stdout",
          "text": [
            "          val_loss: 0.05898534066297791 val_acc 74.03% val_f1: 62.17%\n",
            "TextRNN AUC =  0.8046441566156425\n",
            "Specificity =  0.7526652452025586\n",
            "Sensitivity =  0.7114427860696517\n",
            "              precision    recall  f1-score   support\n",
            "\n",
            "         0.0     0.8589    0.7527    0.8023       469\n",
            "         1.0     0.5521    0.7114    0.6217       201\n",
            "\n",
            "    accuracy                         0.7403       670\n",
            "   macro avg     0.7055    0.7321    0.7120       670\n",
            "weighted avg     0.7669    0.7403    0.7481       670\n",
            "\n",
            "[INFO] Register count_lstm() for <class 'torch.nn.modules.rnn.LSTM'>.\n",
            "[INFO] Register count_linear() for <class 'torch.nn.modules.linear.Linear'>.\n",
            "[INFO] Register zero_ops() for <class 'torch.nn.modules.activation.ReLU'>.\n",
            "[INFO] Register zero_ops() for <class 'torch.nn.modules.container.Sequential'>.\n",
            "Flops: 72372860672.00\n",
            "MLOPS: 187.34\n",
            "epoch: 17 step: 0/42\n",
            "epoch: 17 step: 4/42\n",
            "epoch: 17 step: 8/42\n",
            "epoch: 17 step: 12/42\n",
            "epoch: 17 step: 16/42\n",
            "epoch: 17 step: 20/42\n",
            "epoch: 17 step: 24/42\n",
            "epoch: 17 step: 28/42\n",
            "epoch: 17 step: 32/42\n",
            "epoch: 17 step: 36/42\n",
            "epoch: 17 step: 40/42\n"
          ]
        },
        {
          "output_type": "stream",
          "name": "stderr",
          "text": [
            "/usr/local/lib/python3.10/dist-packages/sklearn/utils/_array_api.py:185: FutureWarning: The input object of type 'Tensor' is an array-like implementing one of the corresponding protocols (`__array__`, `__array_interface__` or `__array_struct__`); but not a sequence (or 0-D). In the future, this object will be coerced as if it was first converted using `np.array(obj)`. To retain the old behaviour, you have to either modify the type 'Tensor', or assign to an empty array created with `np.empty(correct_shape, dtype=object)`.\n",
            "  array = numpy.asarray(array, order=order, dtype=dtype)\n",
            "/usr/local/lib/python3.10/dist-packages/sklearn/utils/_array_api.py:185: VisibleDeprecationWarning: Creating an ndarray from ragged nested sequences (which is a list-or-tuple of lists-or-tuples-or ndarrays with different lengths or shapes) is deprecated. If you meant to do this, you must specify 'dtype=object' when creating the ndarray.\n",
            "  array = numpy.asarray(array, order=order, dtype=dtype)\n",
            "<ipython-input-2-3bb857ec729e>:44: UserWarning: To copy construct from a tensor, it is recommended to use sourceTensor.clone().detach() or sourceTensor.clone().detach().requires_grad_(True), rather than torch.tensor(sourceTensor).\n",
            "  'label': torch.tensor(self.label_list[item])\n"
          ]
        },
        {
          "output_type": "stream",
          "name": "stdout",
          "text": [
            "test\n",
            "epoch: 17 train_loss: 0.04795016162097454 train_acc: 76.72% train_f1: 69.08%\n"
          ]
        },
        {
          "output_type": "stream",
          "name": "stderr",
          "text": [
            "/usr/local/lib/python3.10/dist-packages/sklearn/utils/_array_api.py:185: FutureWarning: The input object of type 'Tensor' is an array-like implementing one of the corresponding protocols (`__array__`, `__array_interface__` or `__array_struct__`); but not a sequence (or 0-D). In the future, this object will be coerced as if it was first converted using `np.array(obj)`. To retain the old behaviour, you have to either modify the type 'Tensor', or assign to an empty array created with `np.empty(correct_shape, dtype=object)`.\n",
            "  array = numpy.asarray(array, order=order, dtype=dtype)\n",
            "/usr/local/lib/python3.10/dist-packages/sklearn/utils/_array_api.py:185: VisibleDeprecationWarning: Creating an ndarray from ragged nested sequences (which is a list-or-tuple of lists-or-tuples-or ndarrays with different lengths or shapes) is deprecated. If you meant to do this, you must specify 'dtype=object' when creating the ndarray.\n",
            "  array = numpy.asarray(array, order=order, dtype=dtype)\n",
            "<ipython-input-2-3bb857ec729e>:44: UserWarning: To copy construct from a tensor, it is recommended to use sourceTensor.clone().detach() or sourceTensor.clone().detach().requires_grad_(True), rather than torch.tensor(sourceTensor).\n",
            "  'label': torch.tensor(self.label_list[item])\n"
          ]
        },
        {
          "output_type": "stream",
          "name": "stdout",
          "text": [
            "          val_loss: 0.058069140734997665 val_acc 71.34% val_f1: 60.98%\n",
            "TextRNN AUC =  0.8063096033690822\n",
            "Specificity =  0.6993603411513859\n",
            "Sensitivity =  0.746268656716418\n",
            "              precision    recall  f1-score   support\n",
            "\n",
            "         0.0     0.8654    0.6994    0.7736       469\n",
            "         1.0     0.5155    0.7463    0.6098       201\n",
            "\n",
            "    accuracy                         0.7134       670\n",
            "   macro avg     0.6904    0.7228    0.6917       670\n",
            "weighted avg     0.7604    0.7134    0.7244       670\n",
            "\n",
            "[INFO] Register count_lstm() for <class 'torch.nn.modules.rnn.LSTM'>.\n",
            "[INFO] Register count_linear() for <class 'torch.nn.modules.linear.Linear'>.\n",
            "[INFO] Register zero_ops() for <class 'torch.nn.modules.activation.ReLU'>.\n",
            "[INFO] Register zero_ops() for <class 'torch.nn.modules.container.Sequential'>.\n",
            "Flops: 72372860672.00\n",
            "MLOPS: 185.85\n",
            "epoch: 18 step: 0/42\n",
            "epoch: 18 step: 4/42\n",
            "epoch: 18 step: 8/42\n",
            "epoch: 18 step: 12/42\n",
            "epoch: 18 step: 16/42\n",
            "epoch: 18 step: 20/42\n",
            "epoch: 18 step: 24/42\n",
            "epoch: 18 step: 28/42\n",
            "epoch: 18 step: 32/42\n",
            "epoch: 18 step: 36/42\n",
            "epoch: 18 step: 40/42\n"
          ]
        },
        {
          "output_type": "stream",
          "name": "stderr",
          "text": [
            "/usr/local/lib/python3.10/dist-packages/sklearn/utils/_array_api.py:185: FutureWarning: The input object of type 'Tensor' is an array-like implementing one of the corresponding protocols (`__array__`, `__array_interface__` or `__array_struct__`); but not a sequence (or 0-D). In the future, this object will be coerced as if it was first converted using `np.array(obj)`. To retain the old behaviour, you have to either modify the type 'Tensor', or assign to an empty array created with `np.empty(correct_shape, dtype=object)`.\n",
            "  array = numpy.asarray(array, order=order, dtype=dtype)\n",
            "/usr/local/lib/python3.10/dist-packages/sklearn/utils/_array_api.py:185: VisibleDeprecationWarning: Creating an ndarray from ragged nested sequences (which is a list-or-tuple of lists-or-tuples-or ndarrays with different lengths or shapes) is deprecated. If you meant to do this, you must specify 'dtype=object' when creating the ndarray.\n",
            "  array = numpy.asarray(array, order=order, dtype=dtype)\n"
          ]
        },
        {
          "output_type": "stream",
          "name": "stdout",
          "text": [
            "test\n",
            "epoch: 18 train_loss: 0.045751756678024925 train_acc: 79.59% train_f1: 70.76%\n"
          ]
        },
        {
          "output_type": "stream",
          "name": "stderr",
          "text": [
            "<ipython-input-2-3bb857ec729e>:44: UserWarning: To copy construct from a tensor, it is recommended to use sourceTensor.clone().detach() or sourceTensor.clone().detach().requires_grad_(True), rather than torch.tensor(sourceTensor).\n",
            "  'label': torch.tensor(self.label_list[item])\n",
            "/usr/local/lib/python3.10/dist-packages/sklearn/utils/_array_api.py:185: FutureWarning: The input object of type 'Tensor' is an array-like implementing one of the corresponding protocols (`__array__`, `__array_interface__` or `__array_struct__`); but not a sequence (or 0-D). In the future, this object will be coerced as if it was first converted using `np.array(obj)`. To retain the old behaviour, you have to either modify the type 'Tensor', or assign to an empty array created with `np.empty(correct_shape, dtype=object)`.\n",
            "  array = numpy.asarray(array, order=order, dtype=dtype)\n",
            "/usr/local/lib/python3.10/dist-packages/sklearn/utils/_array_api.py:185: VisibleDeprecationWarning: Creating an ndarray from ragged nested sequences (which is a list-or-tuple of lists-or-tuples-or ndarrays with different lengths or shapes) is deprecated. If you meant to do this, you must specify 'dtype=object' when creating the ndarray.\n",
            "  array = numpy.asarray(array, order=order, dtype=dtype)\n",
            "<ipython-input-2-3bb857ec729e>:44: UserWarning: To copy construct from a tensor, it is recommended to use sourceTensor.clone().detach() or sourceTensor.clone().detach().requires_grad_(True), rather than torch.tensor(sourceTensor).\n",
            "  'label': torch.tensor(self.label_list[item])\n"
          ]
        },
        {
          "output_type": "stream",
          "name": "stdout",
          "text": [
            "          val_loss: 0.05892110751433806 val_acc 74.18% val_f1: 62.47%\n",
            "TextRNN AUC =  0.8104785242232335\n",
            "Specificity =  0.7526652452025586\n",
            "Sensitivity =  0.7164179104477612\n",
            "              precision    recall  f1-score   support\n",
            "\n",
            "         0.0     0.8610    0.7527    0.8032       469\n",
            "         1.0     0.5538    0.7164    0.6247       201\n",
            "\n",
            "    accuracy                         0.7418       670\n",
            "   macro avg     0.7074    0.7345    0.7140       670\n",
            "weighted avg     0.7688    0.7418    0.7496       670\n",
            "\n",
            "[INFO] Register count_lstm() for <class 'torch.nn.modules.rnn.LSTM'>.\n",
            "[INFO] Register count_linear() for <class 'torch.nn.modules.linear.Linear'>.\n",
            "[INFO] Register zero_ops() for <class 'torch.nn.modules.activation.ReLU'>.\n",
            "[INFO] Register zero_ops() for <class 'torch.nn.modules.container.Sequential'>.\n",
            "Flops: 72372860672.00\n",
            "MLOPS: 185.84\n",
            "epoch: 19 step: 0/42\n",
            "epoch: 19 step: 4/42\n",
            "epoch: 19 step: 8/42\n",
            "epoch: 19 step: 12/42\n",
            "epoch: 19 step: 16/42\n",
            "epoch: 19 step: 20/42\n",
            "epoch: 19 step: 24/42\n",
            "epoch: 19 step: 28/42\n",
            "epoch: 19 step: 32/42\n",
            "epoch: 19 step: 36/42\n",
            "epoch: 19 step: 40/42\n"
          ]
        },
        {
          "output_type": "stream",
          "name": "stderr",
          "text": [
            "/usr/local/lib/python3.10/dist-packages/sklearn/utils/_array_api.py:185: FutureWarning: The input object of type 'Tensor' is an array-like implementing one of the corresponding protocols (`__array__`, `__array_interface__` or `__array_struct__`); but not a sequence (or 0-D). In the future, this object will be coerced as if it was first converted using `np.array(obj)`. To retain the old behaviour, you have to either modify the type 'Tensor', or assign to an empty array created with `np.empty(correct_shape, dtype=object)`.\n",
            "  array = numpy.asarray(array, order=order, dtype=dtype)\n",
            "/usr/local/lib/python3.10/dist-packages/sklearn/utils/_array_api.py:185: VisibleDeprecationWarning: Creating an ndarray from ragged nested sequences (which is a list-or-tuple of lists-or-tuples-or ndarrays with different lengths or shapes) is deprecated. If you meant to do this, you must specify 'dtype=object' when creating the ndarray.\n",
            "  array = numpy.asarray(array, order=order, dtype=dtype)\n",
            "<ipython-input-2-3bb857ec729e>:44: UserWarning: To copy construct from a tensor, it is recommended to use sourceTensor.clone().detach() or sourceTensor.clone().detach().requires_grad_(True), rather than torch.tensor(sourceTensor).\n",
            "  'label': torch.tensor(self.label_list[item])\n"
          ]
        },
        {
          "output_type": "stream",
          "name": "stdout",
          "text": [
            "test\n",
            "epoch: 19 train_loss: 0.04502366372339782 train_acc: 81.53% train_f1: 72.08%\n"
          ]
        },
        {
          "output_type": "stream",
          "name": "stderr",
          "text": [
            "/usr/local/lib/python3.10/dist-packages/sklearn/utils/_array_api.py:185: FutureWarning: The input object of type 'Tensor' is an array-like implementing one of the corresponding protocols (`__array__`, `__array_interface__` or `__array_struct__`); but not a sequence (or 0-D). In the future, this object will be coerced as if it was first converted using `np.array(obj)`. To retain the old behaviour, you have to either modify the type 'Tensor', or assign to an empty array created with `np.empty(correct_shape, dtype=object)`.\n",
            "  array = numpy.asarray(array, order=order, dtype=dtype)\n",
            "/usr/local/lib/python3.10/dist-packages/sklearn/utils/_array_api.py:185: VisibleDeprecationWarning: Creating an ndarray from ragged nested sequences (which is a list-or-tuple of lists-or-tuples-or ndarrays with different lengths or shapes) is deprecated. If you meant to do this, you must specify 'dtype=object' when creating the ndarray.\n",
            "  array = numpy.asarray(array, order=order, dtype=dtype)\n"
          ]
        },
        {
          "output_type": "stream",
          "name": "stdout",
          "text": [
            "          val_loss: 0.06334346329624002 val_acc 75.52% val_f1: 62.56%\n",
            "TextRNN AUC =  0.8122712662699297\n",
            "Specificity =  0.7867803837953091\n",
            "Sensitivity =  0.681592039800995\n",
            "              precision    recall  f1-score   support\n",
            "\n",
            "         0.0     0.8522    0.7868    0.8182       469\n",
            "         1.0     0.5781    0.6816    0.6256       201\n",
            "\n",
            "    accuracy                         0.7552       670\n",
            "   macro avg     0.7151    0.7342    0.7219       670\n",
            "weighted avg     0.7700    0.7552    0.7604       670\n",
            "\n",
            "[INFO] Register count_lstm() for <class 'torch.nn.modules.rnn.LSTM'>.\n",
            "[INFO] Register count_linear() for <class 'torch.nn.modules.linear.Linear'>.\n",
            "[INFO] Register zero_ops() for <class 'torch.nn.modules.activation.ReLU'>.\n",
            "[INFO] Register zero_ops() for <class 'torch.nn.modules.container.Sequential'>.\n",
            "Flops: 72372860672.00\n",
            "MLOPS: 187.13\n"
          ]
        },
        {
          "output_type": "stream",
          "name": "stderr",
          "text": [
            "<ipython-input-2-3bb857ec729e>:44: UserWarning: To copy construct from a tensor, it is recommended to use sourceTensor.clone().detach() or sourceTensor.clone().detach().requires_grad_(True), rather than torch.tensor(sourceTensor).\n",
            "  'label': torch.tensor(self.label_list[item])\n"
          ]
        },
        {
          "output_type": "stream",
          "name": "stdout",
          "text": [
            "epoch: 20 step: 0/42\n",
            "epoch: 20 step: 4/42\n",
            "epoch: 20 step: 8/42\n",
            "epoch: 20 step: 12/42\n",
            "epoch: 20 step: 16/42\n",
            "epoch: 20 step: 20/42\n",
            "epoch: 20 step: 24/42\n",
            "epoch: 20 step: 28/42\n",
            "epoch: 20 step: 32/42\n",
            "epoch: 20 step: 36/42\n",
            "epoch: 20 step: 40/42\n"
          ]
        },
        {
          "output_type": "stream",
          "name": "stderr",
          "text": [
            "/usr/local/lib/python3.10/dist-packages/sklearn/utils/_array_api.py:185: FutureWarning: The input object of type 'Tensor' is an array-like implementing one of the corresponding protocols (`__array__`, `__array_interface__` or `__array_struct__`); but not a sequence (or 0-D). In the future, this object will be coerced as if it was first converted using `np.array(obj)`. To retain the old behaviour, you have to either modify the type 'Tensor', or assign to an empty array created with `np.empty(correct_shape, dtype=object)`.\n",
            "  array = numpy.asarray(array, order=order, dtype=dtype)\n",
            "/usr/local/lib/python3.10/dist-packages/sklearn/utils/_array_api.py:185: VisibleDeprecationWarning: Creating an ndarray from ragged nested sequences (which is a list-or-tuple of lists-or-tuples-or ndarrays with different lengths or shapes) is deprecated. If you meant to do this, you must specify 'dtype=object' when creating the ndarray.\n",
            "  array = numpy.asarray(array, order=order, dtype=dtype)\n"
          ]
        },
        {
          "output_type": "stream",
          "name": "stdout",
          "text": [
            "test\n",
            "epoch: 20 train_loss: 0.04352177519883428 train_acc: 81.12% train_f1: 72.85%\n"
          ]
        },
        {
          "output_type": "stream",
          "name": "stderr",
          "text": [
            "<ipython-input-2-3bb857ec729e>:44: UserWarning: To copy construct from a tensor, it is recommended to use sourceTensor.clone().detach() or sourceTensor.clone().detach().requires_grad_(True), rather than torch.tensor(sourceTensor).\n",
            "  'label': torch.tensor(self.label_list[item])\n",
            "/usr/local/lib/python3.10/dist-packages/sklearn/utils/_array_api.py:185: FutureWarning: The input object of type 'Tensor' is an array-like implementing one of the corresponding protocols (`__array__`, `__array_interface__` or `__array_struct__`); but not a sequence (or 0-D). In the future, this object will be coerced as if it was first converted using `np.array(obj)`. To retain the old behaviour, you have to either modify the type 'Tensor', or assign to an empty array created with `np.empty(correct_shape, dtype=object)`.\n",
            "  array = numpy.asarray(array, order=order, dtype=dtype)\n",
            "/usr/local/lib/python3.10/dist-packages/sklearn/utils/_array_api.py:185: VisibleDeprecationWarning: Creating an ndarray from ragged nested sequences (which is a list-or-tuple of lists-or-tuples-or ndarrays with different lengths or shapes) is deprecated. If you meant to do this, you must specify 'dtype=object' when creating the ndarray.\n",
            "  array = numpy.asarray(array, order=order, dtype=dtype)\n",
            "<ipython-input-2-3bb857ec729e>:44: UserWarning: To copy construct from a tensor, it is recommended to use sourceTensor.clone().detach() or sourceTensor.clone().detach().requires_grad_(True), rather than torch.tensor(sourceTensor).\n",
            "  'label': torch.tensor(self.label_list[item])\n"
          ]
        },
        {
          "output_type": "stream",
          "name": "stdout",
          "text": [
            "          val_loss: 0.058945124799555 val_acc 74.18% val_f1: 62.14%\n",
            "TextRNN AUC =  0.8097784001103226\n",
            "Specificity =  0.7569296375266524\n",
            "Sensitivity =  0.7064676616915423\n",
            "              precision    recall  f1-score   support\n",
            "\n",
            "         0.0     0.8575    0.7569    0.8041       469\n",
            "         1.0     0.5547    0.7065    0.6214       201\n",
            "\n",
            "    accuracy                         0.7418       670\n",
            "   macro avg     0.7061    0.7317    0.7128       670\n",
            "weighted avg     0.7666    0.7418    0.7493       670\n",
            "\n",
            "[INFO] Register count_lstm() for <class 'torch.nn.modules.rnn.LSTM'>.\n",
            "[INFO] Register count_linear() for <class 'torch.nn.modules.linear.Linear'>.\n",
            "[INFO] Register zero_ops() for <class 'torch.nn.modules.activation.ReLU'>.\n",
            "[INFO] Register zero_ops() for <class 'torch.nn.modules.container.Sequential'>.\n",
            "Flops: 72372860672.00\n",
            "MLOPS: 184.46\n",
            "epoch: 21 step: 0/42\n",
            "epoch: 21 step: 4/42\n",
            "epoch: 21 step: 8/42\n",
            "epoch: 21 step: 12/42\n",
            "epoch: 21 step: 16/42\n",
            "epoch: 21 step: 20/42\n",
            "epoch: 21 step: 24/42\n",
            "epoch: 21 step: 28/42\n",
            "epoch: 21 step: 32/42\n",
            "epoch: 21 step: 36/42\n",
            "epoch: 21 step: 40/42\n"
          ]
        },
        {
          "output_type": "stream",
          "name": "stderr",
          "text": [
            "/usr/local/lib/python3.10/dist-packages/sklearn/utils/_array_api.py:185: FutureWarning: The input object of type 'Tensor' is an array-like implementing one of the corresponding protocols (`__array__`, `__array_interface__` or `__array_struct__`); but not a sequence (or 0-D). In the future, this object will be coerced as if it was first converted using `np.array(obj)`. To retain the old behaviour, you have to either modify the type 'Tensor', or assign to an empty array created with `np.empty(correct_shape, dtype=object)`.\n",
            "  array = numpy.asarray(array, order=order, dtype=dtype)\n",
            "/usr/local/lib/python3.10/dist-packages/sklearn/utils/_array_api.py:185: VisibleDeprecationWarning: Creating an ndarray from ragged nested sequences (which is a list-or-tuple of lists-or-tuples-or ndarrays with different lengths or shapes) is deprecated. If you meant to do this, you must specify 'dtype=object' when creating the ndarray.\n",
            "  array = numpy.asarray(array, order=order, dtype=dtype)\n",
            "<ipython-input-2-3bb857ec729e>:44: UserWarning: To copy construct from a tensor, it is recommended to use sourceTensor.clone().detach() or sourceTensor.clone().detach().requires_grad_(True), rather than torch.tensor(sourceTensor).\n",
            "  'label': torch.tensor(self.label_list[item])\n"
          ]
        },
        {
          "output_type": "stream",
          "name": "stdout",
          "text": [
            "test\n",
            "epoch: 21 train_loss: 0.04218332198936315 train_acc: 80.07% train_f1: 72.10%\n"
          ]
        },
        {
          "output_type": "stream",
          "name": "stderr",
          "text": [
            "/usr/local/lib/python3.10/dist-packages/sklearn/utils/_array_api.py:185: FutureWarning: The input object of type 'Tensor' is an array-like implementing one of the corresponding protocols (`__array__`, `__array_interface__` or `__array_struct__`); but not a sequence (or 0-D). In the future, this object will be coerced as if it was first converted using `np.array(obj)`. To retain the old behaviour, you have to either modify the type 'Tensor', or assign to an empty array created with `np.empty(correct_shape, dtype=object)`.\n",
            "  array = numpy.asarray(array, order=order, dtype=dtype)\n",
            "/usr/local/lib/python3.10/dist-packages/sklearn/utils/_array_api.py:185: VisibleDeprecationWarning: Creating an ndarray from ragged nested sequences (which is a list-or-tuple of lists-or-tuples-or ndarrays with different lengths or shapes) is deprecated. If you meant to do this, you must specify 'dtype=object' when creating the ndarray.\n",
            "  array = numpy.asarray(array, order=order, dtype=dtype)\n",
            "<ipython-input-2-3bb857ec729e>:44: UserWarning: To copy construct from a tensor, it is recommended to use sourceTensor.clone().detach() or sourceTensor.clone().detach().requires_grad_(True), rather than torch.tensor(sourceTensor).\n",
            "  'label': torch.tensor(self.label_list[item])\n"
          ]
        },
        {
          "output_type": "stream",
          "name": "stdout",
          "text": [
            "          val_loss: 0.06022962453690442 val_acc 73.73% val_f1: 62.39%\n",
            "TextRNN AUC =  0.814424678314186\n",
            "Specificity =  0.7420042643923241\n",
            "Sensitivity =  0.7263681592039801\n",
            "              precision    recall  f1-score   support\n",
            "\n",
            "         0.0     0.8635    0.7420    0.7982       469\n",
            "         1.0     0.5468    0.7264    0.6239       201\n",
            "\n",
            "    accuracy                         0.7373       670\n",
            "   macro avg     0.7052    0.7342    0.7110       670\n",
            "weighted avg     0.7685    0.7373    0.7459       670\n",
            "\n",
            "[INFO] Register count_lstm() for <class 'torch.nn.modules.rnn.LSTM'>.\n",
            "[INFO] Register count_linear() for <class 'torch.nn.modules.linear.Linear'>.\n",
            "[INFO] Register zero_ops() for <class 'torch.nn.modules.activation.ReLU'>.\n",
            "[INFO] Register zero_ops() for <class 'torch.nn.modules.container.Sequential'>.\n",
            "Flops: 72372860672.00\n",
            "MLOPS: 188.93\n",
            "epoch: 22 step: 0/42\n",
            "epoch: 22 step: 4/42\n",
            "epoch: 22 step: 8/42\n",
            "epoch: 22 step: 12/42\n",
            "epoch: 22 step: 16/42\n",
            "epoch: 22 step: 20/42\n",
            "epoch: 22 step: 24/42\n",
            "epoch: 22 step: 28/42\n",
            "epoch: 22 step: 32/42\n",
            "epoch: 22 step: 36/42\n",
            "epoch: 22 step: 40/42\n"
          ]
        },
        {
          "output_type": "stream",
          "name": "stderr",
          "text": [
            "/usr/local/lib/python3.10/dist-packages/sklearn/utils/_array_api.py:185: FutureWarning: The input object of type 'Tensor' is an array-like implementing one of the corresponding protocols (`__array__`, `__array_interface__` or `__array_struct__`); but not a sequence (or 0-D). In the future, this object will be coerced as if it was first converted using `np.array(obj)`. To retain the old behaviour, you have to either modify the type 'Tensor', or assign to an empty array created with `np.empty(correct_shape, dtype=object)`.\n",
            "  array = numpy.asarray(array, order=order, dtype=dtype)\n",
            "/usr/local/lib/python3.10/dist-packages/sklearn/utils/_array_api.py:185: VisibleDeprecationWarning: Creating an ndarray from ragged nested sequences (which is a list-or-tuple of lists-or-tuples-or ndarrays with different lengths or shapes) is deprecated. If you meant to do this, you must specify 'dtype=object' when creating the ndarray.\n",
            "  array = numpy.asarray(array, order=order, dtype=dtype)\n"
          ]
        },
        {
          "output_type": "stream",
          "name": "stdout",
          "text": [
            "test\n",
            "epoch: 22 train_loss: 0.044268942615460785 train_acc: 77.35% train_f1: 70.94%\n"
          ]
        },
        {
          "output_type": "stream",
          "name": "stderr",
          "text": [
            "<ipython-input-2-3bb857ec729e>:44: UserWarning: To copy construct from a tensor, it is recommended to use sourceTensor.clone().detach() or sourceTensor.clone().detach().requires_grad_(True), rather than torch.tensor(sourceTensor).\n",
            "  'label': torch.tensor(self.label_list[item])\n",
            "/usr/local/lib/python3.10/dist-packages/sklearn/utils/_array_api.py:185: FutureWarning: The input object of type 'Tensor' is an array-like implementing one of the corresponding protocols (`__array__`, `__array_interface__` or `__array_struct__`); but not a sequence (or 0-D). In the future, this object will be coerced as if it was first converted using `np.array(obj)`. To retain the old behaviour, you have to either modify the type 'Tensor', or assign to an empty array created with `np.empty(correct_shape, dtype=object)`.\n",
            "  array = numpy.asarray(array, order=order, dtype=dtype)\n",
            "/usr/local/lib/python3.10/dist-packages/sklearn/utils/_array_api.py:185: VisibleDeprecationWarning: Creating an ndarray from ragged nested sequences (which is a list-or-tuple of lists-or-tuples-or ndarrays with different lengths or shapes) is deprecated. If you meant to do this, you must specify 'dtype=object' when creating the ndarray.\n",
            "  array = numpy.asarray(array, order=order, dtype=dtype)\n",
            "<ipython-input-2-3bb857ec729e>:44: UserWarning: To copy construct from a tensor, it is recommended to use sourceTensor.clone().detach() or sourceTensor.clone().detach().requires_grad_(True), rather than torch.tensor(sourceTensor).\n",
            "  'label': torch.tensor(self.label_list[item])\n"
          ]
        },
        {
          "output_type": "stream",
          "name": "stdout",
          "text": [
            "          val_loss: 0.05847771127115597 val_acc 70.30% val_f1: 60.90%\n",
            "TextRNN AUC =  0.8108179783385843\n",
            "Specificity =  0.673773987206823\n",
            "Sensitivity =  0.7711442786069652\n",
            "              precision    recall  f1-score   support\n",
            "\n",
            "         0.0     0.8729    0.6738    0.7605       469\n",
            "         1.0     0.5032    0.7711    0.6090       201\n",
            "\n",
            "    accuracy                         0.7030       670\n",
            "   macro avg     0.6881    0.7225    0.6848       670\n",
            "weighted avg     0.7620    0.7030    0.7151       670\n",
            "\n",
            "[INFO] Register count_lstm() for <class 'torch.nn.modules.rnn.LSTM'>.\n",
            "[INFO] Register count_linear() for <class 'torch.nn.modules.linear.Linear'>.\n",
            "[INFO] Register zero_ops() for <class 'torch.nn.modules.activation.ReLU'>.\n",
            "[INFO] Register zero_ops() for <class 'torch.nn.modules.container.Sequential'>.\n",
            "Flops: 72372860672.00\n",
            "MLOPS: 186.34\n",
            "epoch: 23 step: 0/42\n",
            "epoch: 23 step: 4/42\n",
            "epoch: 23 step: 8/42\n",
            "epoch: 23 step: 12/42\n",
            "epoch: 23 step: 16/42\n",
            "epoch: 23 step: 20/42\n",
            "epoch: 23 step: 24/42\n",
            "epoch: 23 step: 28/42\n",
            "epoch: 23 step: 32/42\n",
            "epoch: 23 step: 36/42\n",
            "epoch: 23 step: 40/42\n"
          ]
        },
        {
          "output_type": "stream",
          "name": "stderr",
          "text": [
            "/usr/local/lib/python3.10/dist-packages/sklearn/utils/_array_api.py:185: FutureWarning: The input object of type 'Tensor' is an array-like implementing one of the corresponding protocols (`__array__`, `__array_interface__` or `__array_struct__`); but not a sequence (or 0-D). In the future, this object will be coerced as if it was first converted using `np.array(obj)`. To retain the old behaviour, you have to either modify the type 'Tensor', or assign to an empty array created with `np.empty(correct_shape, dtype=object)`.\n",
            "  array = numpy.asarray(array, order=order, dtype=dtype)\n",
            "/usr/local/lib/python3.10/dist-packages/sklearn/utils/_array_api.py:185: VisibleDeprecationWarning: Creating an ndarray from ragged nested sequences (which is a list-or-tuple of lists-or-tuples-or ndarrays with different lengths or shapes) is deprecated. If you meant to do this, you must specify 'dtype=object' when creating the ndarray.\n",
            "  array = numpy.asarray(array, order=order, dtype=dtype)\n",
            "<ipython-input-2-3bb857ec729e>:44: UserWarning: To copy construct from a tensor, it is recommended to use sourceTensor.clone().detach() or sourceTensor.clone().detach().requires_grad_(True), rather than torch.tensor(sourceTensor).\n",
            "  'label': torch.tensor(self.label_list[item])\n"
          ]
        },
        {
          "output_type": "stream",
          "name": "stdout",
          "text": [
            "test\n",
            "epoch: 23 train_loss: 0.041778672353497574 train_acc: 83.62% train_f1: 73.88%\n"
          ]
        },
        {
          "output_type": "stream",
          "name": "stderr",
          "text": [
            "/usr/local/lib/python3.10/dist-packages/sklearn/utils/_array_api.py:185: FutureWarning: The input object of type 'Tensor' is an array-like implementing one of the corresponding protocols (`__array__`, `__array_interface__` or `__array_struct__`); but not a sequence (or 0-D). In the future, this object will be coerced as if it was first converted using `np.array(obj)`. To retain the old behaviour, you have to either modify the type 'Tensor', or assign to an empty array created with `np.empty(correct_shape, dtype=object)`.\n",
            "  array = numpy.asarray(array, order=order, dtype=dtype)\n",
            "/usr/local/lib/python3.10/dist-packages/sklearn/utils/_array_api.py:185: VisibleDeprecationWarning: Creating an ndarray from ragged nested sequences (which is a list-or-tuple of lists-or-tuples-or ndarrays with different lengths or shapes) is deprecated. If you meant to do this, you must specify 'dtype=object' when creating the ndarray.\n",
            "  array = numpy.asarray(array, order=order, dtype=dtype)\n"
          ]
        },
        {
          "output_type": "stream",
          "name": "stdout",
          "text": [
            "          val_loss: 0.06887607140974565 val_acc 77.16% val_f1: 63.31%\n",
            "TextRNN AUC =  0.8105846036342805\n",
            "Specificity =  0.8208955223880597\n",
            "Sensitivity =  0.6567164179104478\n",
            "              precision    recall  f1-score   support\n",
            "\n",
            "         0.0     0.8480    0.8209    0.8342       469\n",
            "         1.0     0.6111    0.6567    0.6331       201\n",
            "\n",
            "    accuracy                         0.7716       670\n",
            "   macro avg     0.7296    0.7388    0.7337       670\n",
            "weighted avg     0.7769    0.7716    0.7739       670\n",
            "\n",
            "[INFO] Register count_lstm() for <class 'torch.nn.modules.rnn.LSTM'>.\n",
            "[INFO] Register count_linear() for <class 'torch.nn.modules.linear.Linear'>.\n",
            "[INFO] Register zero_ops() for <class 'torch.nn.modules.activation.ReLU'>.\n",
            "[INFO] Register zero_ops() for <class 'torch.nn.modules.container.Sequential'>.\n",
            "Flops: 72372860672.00\n",
            "MLOPS: 186.63\n"
          ]
        },
        {
          "output_type": "stream",
          "name": "stderr",
          "text": [
            "<ipython-input-2-3bb857ec729e>:44: UserWarning: To copy construct from a tensor, it is recommended to use sourceTensor.clone().detach() or sourceTensor.clone().detach().requires_grad_(True), rather than torch.tensor(sourceTensor).\n",
            "  'label': torch.tensor(self.label_list[item])\n"
          ]
        },
        {
          "output_type": "stream",
          "name": "stdout",
          "text": [
            "epoch: 24 step: 0/42\n",
            "epoch: 24 step: 4/42\n",
            "epoch: 24 step: 8/42\n",
            "epoch: 24 step: 12/42\n",
            "epoch: 24 step: 16/42\n",
            "epoch: 24 step: 20/42\n",
            "epoch: 24 step: 24/42\n",
            "epoch: 24 step: 28/42\n",
            "epoch: 24 step: 32/42\n",
            "epoch: 24 step: 36/42\n",
            "epoch: 24 step: 40/42\n"
          ]
        },
        {
          "output_type": "stream",
          "name": "stderr",
          "text": [
            "/usr/local/lib/python3.10/dist-packages/sklearn/utils/_array_api.py:185: FutureWarning: The input object of type 'Tensor' is an array-like implementing one of the corresponding protocols (`__array__`, `__array_interface__` or `__array_struct__`); but not a sequence (or 0-D). In the future, this object will be coerced as if it was first converted using `np.array(obj)`. To retain the old behaviour, you have to either modify the type 'Tensor', or assign to an empty array created with `np.empty(correct_shape, dtype=object)`.\n",
            "  array = numpy.asarray(array, order=order, dtype=dtype)\n",
            "/usr/local/lib/python3.10/dist-packages/sklearn/utils/_array_api.py:185: VisibleDeprecationWarning: Creating an ndarray from ragged nested sequences (which is a list-or-tuple of lists-or-tuples-or ndarrays with different lengths or shapes) is deprecated. If you meant to do this, you must specify 'dtype=object' when creating the ndarray.\n",
            "  array = numpy.asarray(array, order=order, dtype=dtype)\n",
            "<ipython-input-2-3bb857ec729e>:44: UserWarning: To copy construct from a tensor, it is recommended to use sourceTensor.clone().detach() or sourceTensor.clone().detach().requires_grad_(True), rather than torch.tensor(sourceTensor).\n",
            "  'label': torch.tensor(self.label_list[item])\n"
          ]
        },
        {
          "output_type": "stream",
          "name": "stdout",
          "text": [
            "test\n",
            "epoch: 24 train_loss: 0.039122886423553736 train_acc: 81.94% train_f1: 74.39%\n"
          ]
        },
        {
          "output_type": "stream",
          "name": "stderr",
          "text": [
            "/usr/local/lib/python3.10/dist-packages/sklearn/utils/_array_api.py:185: FutureWarning: The input object of type 'Tensor' is an array-like implementing one of the corresponding protocols (`__array__`, `__array_interface__` or `__array_struct__`); but not a sequence (or 0-D). In the future, this object will be coerced as if it was first converted using `np.array(obj)`. To retain the old behaviour, you have to either modify the type 'Tensor', or assign to an empty array created with `np.empty(correct_shape, dtype=object)`.\n",
            "  array = numpy.asarray(array, order=order, dtype=dtype)\n",
            "/usr/local/lib/python3.10/dist-packages/sklearn/utils/_array_api.py:185: VisibleDeprecationWarning: Creating an ndarray from ragged nested sequences (which is a list-or-tuple of lists-or-tuples-or ndarrays with different lengths or shapes) is deprecated. If you meant to do this, you must specify 'dtype=object' when creating the ndarray.\n",
            "  array = numpy.asarray(array, order=order, dtype=dtype)\n",
            "<ipython-input-2-3bb857ec729e>:44: UserWarning: To copy construct from a tensor, it is recommended to use sourceTensor.clone().detach() or sourceTensor.clone().detach().requires_grad_(True), rather than torch.tensor(sourceTensor).\n",
            "  'label': torch.tensor(self.label_list[item])\n"
          ]
        },
        {
          "output_type": "stream",
          "name": "stdout",
          "text": [
            "          val_loss: 0.06150028346614404 val_acc 74.18% val_f1: 62.80%\n",
            "TextRNN AUC =  0.813438139791448\n",
            "Specificity =  0.7484008528784648\n",
            "Sensitivity =  0.7263681592039801\n",
            "              precision    recall  f1-score   support\n",
            "\n",
            "         0.0     0.8645    0.7484    0.8023       469\n",
            "         1.0     0.5530    0.7264    0.6280       201\n",
            "\n",
            "    accuracy                         0.7418       670\n",
            "   macro avg     0.7088    0.7374    0.7151       670\n",
            "weighted avg     0.7711    0.7418    0.7500       670\n",
            "\n",
            "[INFO] Register count_lstm() for <class 'torch.nn.modules.rnn.LSTM'>.\n",
            "[INFO] Register count_linear() for <class 'torch.nn.modules.linear.Linear'>.\n",
            "[INFO] Register zero_ops() for <class 'torch.nn.modules.activation.ReLU'>.\n",
            "[INFO] Register zero_ops() for <class 'torch.nn.modules.container.Sequential'>.\n",
            "Flops: 72372860672.00\n",
            "MLOPS: 184.26\n",
            "epoch: 25 step: 0/42\n",
            "epoch: 25 step: 4/42\n",
            "epoch: 25 step: 8/42\n",
            "epoch: 25 step: 12/42\n",
            "epoch: 25 step: 16/42\n",
            "epoch: 25 step: 20/42\n",
            "epoch: 25 step: 24/42\n",
            "epoch: 25 step: 28/42\n",
            "epoch: 25 step: 32/42\n",
            "epoch: 25 step: 36/42\n",
            "epoch: 25 step: 40/42\n"
          ]
        },
        {
          "output_type": "stream",
          "name": "stderr",
          "text": [
            "/usr/local/lib/python3.10/dist-packages/sklearn/utils/_array_api.py:185: FutureWarning: The input object of type 'Tensor' is an array-like implementing one of the corresponding protocols (`__array__`, `__array_interface__` or `__array_struct__`); but not a sequence (or 0-D). In the future, this object will be coerced as if it was first converted using `np.array(obj)`. To retain the old behaviour, you have to either modify the type 'Tensor', or assign to an empty array created with `np.empty(correct_shape, dtype=object)`.\n",
            "  array = numpy.asarray(array, order=order, dtype=dtype)\n",
            "/usr/local/lib/python3.10/dist-packages/sklearn/utils/_array_api.py:185: VisibleDeprecationWarning: Creating an ndarray from ragged nested sequences (which is a list-or-tuple of lists-or-tuples-or ndarrays with different lengths or shapes) is deprecated. If you meant to do this, you must specify 'dtype=object' when creating the ndarray.\n",
            "  array = numpy.asarray(array, order=order, dtype=dtype)\n",
            "<ipython-input-2-3bb857ec729e>:44: UserWarning: To copy construct from a tensor, it is recommended to use sourceTensor.clone().detach() or sourceTensor.clone().detach().requires_grad_(True), rather than torch.tensor(sourceTensor).\n",
            "  'label': torch.tensor(self.label_list[item])\n"
          ]
        },
        {
          "output_type": "stream",
          "name": "stdout",
          "text": [
            "test\n",
            "epoch: 25 train_loss: 0.03769370465583745 train_acc: 83.54% train_f1: 75.59%\n"
          ]
        },
        {
          "output_type": "stream",
          "name": "stderr",
          "text": [
            "/usr/local/lib/python3.10/dist-packages/sklearn/utils/_array_api.py:185: FutureWarning: The input object of type 'Tensor' is an array-like implementing one of the corresponding protocols (`__array__`, `__array_interface__` or `__array_struct__`); but not a sequence (or 0-D). In the future, this object will be coerced as if it was first converted using `np.array(obj)`. To retain the old behaviour, you have to either modify the type 'Tensor', or assign to an empty array created with `np.empty(correct_shape, dtype=object)`.\n",
            "  array = numpy.asarray(array, order=order, dtype=dtype)\n",
            "/usr/local/lib/python3.10/dist-packages/sklearn/utils/_array_api.py:185: VisibleDeprecationWarning: Creating an ndarray from ragged nested sequences (which is a list-or-tuple of lists-or-tuples-or ndarrays with different lengths or shapes) is deprecated. If you meant to do this, you must specify 'dtype=object' when creating the ndarray.\n",
            "  array = numpy.asarray(array, order=order, dtype=dtype)\n",
            "<ipython-input-2-3bb857ec729e>:44: UserWarning: To copy construct from a tensor, it is recommended to use sourceTensor.clone().detach() or sourceTensor.clone().detach().requires_grad_(True), rather than torch.tensor(sourceTensor).\n",
            "  'label': torch.tensor(self.label_list[item])\n"
          ]
        },
        {
          "output_type": "stream",
          "name": "stdout",
          "text": [
            "          val_loss: 0.06511417877945033 val_acc 75.37% val_f1: 62.92%\n",
            "TextRNN AUC =  0.8144989339019191\n",
            "Specificity =  0.7782515991471215\n",
            "Sensitivity =  0.6965174129353234\n",
            "              precision    recall  f1-score   support\n",
            "\n",
            "         0.0     0.8568    0.7783    0.8156       469\n",
            "         1.0     0.5738    0.6965    0.6292       201\n",
            "\n",
            "    accuracy                         0.7537       670\n",
            "   macro avg     0.7153    0.7374    0.7224       670\n",
            "weighted avg     0.7719    0.7537    0.7597       670\n",
            "\n",
            "[INFO] Register count_lstm() for <class 'torch.nn.modules.rnn.LSTM'>.\n",
            "[INFO] Register count_linear() for <class 'torch.nn.modules.linear.Linear'>.\n",
            "[INFO] Register zero_ops() for <class 'torch.nn.modules.activation.ReLU'>.\n",
            "[INFO] Register zero_ops() for <class 'torch.nn.modules.container.Sequential'>.\n",
            "Flops: 72372860672.00\n",
            "MLOPS: 185.99\n",
            "epoch: 26 step: 0/42\n",
            "epoch: 26 step: 4/42\n",
            "epoch: 26 step: 8/42\n",
            "epoch: 26 step: 12/42\n",
            "epoch: 26 step: 16/42\n",
            "epoch: 26 step: 20/42\n",
            "epoch: 26 step: 24/42\n",
            "epoch: 26 step: 28/42\n",
            "epoch: 26 step: 32/42\n",
            "epoch: 26 step: 36/42\n",
            "epoch: 26 step: 40/42\n"
          ]
        },
        {
          "output_type": "stream",
          "name": "stderr",
          "text": [
            "/usr/local/lib/python3.10/dist-packages/sklearn/utils/_array_api.py:185: FutureWarning: The input object of type 'Tensor' is an array-like implementing one of the corresponding protocols (`__array__`, `__array_interface__` or `__array_struct__`); but not a sequence (or 0-D). In the future, this object will be coerced as if it was first converted using `np.array(obj)`. To retain the old behaviour, you have to either modify the type 'Tensor', or assign to an empty array created with `np.empty(correct_shape, dtype=object)`.\n",
            "  array = numpy.asarray(array, order=order, dtype=dtype)\n",
            "/usr/local/lib/python3.10/dist-packages/sklearn/utils/_array_api.py:185: VisibleDeprecationWarning: Creating an ndarray from ragged nested sequences (which is a list-or-tuple of lists-or-tuples-or ndarrays with different lengths or shapes) is deprecated. If you meant to do this, you must specify 'dtype=object' when creating the ndarray.\n",
            "  array = numpy.asarray(array, order=order, dtype=dtype)\n"
          ]
        },
        {
          "output_type": "stream",
          "name": "stdout",
          "text": [
            "test\n",
            "epoch: 26 train_loss: 0.03693637903779745 train_acc: 83.10% train_f1: 76.09%\n"
          ]
        },
        {
          "output_type": "stream",
          "name": "stderr",
          "text": [
            "<ipython-input-2-3bb857ec729e>:44: UserWarning: To copy construct from a tensor, it is recommended to use sourceTensor.clone().detach() or sourceTensor.clone().detach().requires_grad_(True), rather than torch.tensor(sourceTensor).\n",
            "  'label': torch.tensor(self.label_list[item])\n",
            "/usr/local/lib/python3.10/dist-packages/sklearn/utils/_array_api.py:185: FutureWarning: The input object of type 'Tensor' is an array-like implementing one of the corresponding protocols (`__array__`, `__array_interface__` or `__array_struct__`); but not a sequence (or 0-D). In the future, this object will be coerced as if it was first converted using `np.array(obj)`. To retain the old behaviour, you have to either modify the type 'Tensor', or assign to an empty array created with `np.empty(correct_shape, dtype=object)`.\n",
            "  array = numpy.asarray(array, order=order, dtype=dtype)\n",
            "/usr/local/lib/python3.10/dist-packages/sklearn/utils/_array_api.py:185: VisibleDeprecationWarning: Creating an ndarray from ragged nested sequences (which is a list-or-tuple of lists-or-tuples-or ndarrays with different lengths or shapes) is deprecated. If you meant to do this, you must specify 'dtype=object' when creating the ndarray.\n",
            "  array = numpy.asarray(array, order=order, dtype=dtype)\n"
          ]
        },
        {
          "output_type": "stream",
          "name": "stdout",
          "text": [
            "          val_loss: 0.06291837922551415 val_acc 73.88% val_f1: 62.53%\n",
            "TextRNN AUC =  0.814350422726453\n",
            "Specificity =  0.744136460554371\n",
            "Sensitivity =  0.7263681592039801\n",
            "              precision    recall  f1-score   support\n",
            "\n",
            "         0.0     0.8639    0.7441    0.7995       469\n",
            "         1.0     0.5489    0.7264    0.6253       201\n",
            "\n",
            "    accuracy                         0.7388       670\n",
            "   macro avg     0.7064    0.7353    0.7124       670\n",
            "weighted avg     0.7694    0.7388    0.7473       670\n",
            "\n",
            "[INFO] Register count_lstm() for <class 'torch.nn.modules.rnn.LSTM'>.\n",
            "[INFO] Register count_linear() for <class 'torch.nn.modules.linear.Linear'>.\n",
            "[INFO] Register zero_ops() for <class 'torch.nn.modules.activation.ReLU'>.\n",
            "[INFO] Register zero_ops() for <class 'torch.nn.modules.container.Sequential'>.\n",
            "Flops: 72372860672.00\n",
            "MLOPS: 187.21\n"
          ]
        },
        {
          "output_type": "stream",
          "name": "stderr",
          "text": [
            "<ipython-input-2-3bb857ec729e>:44: UserWarning: To copy construct from a tensor, it is recommended to use sourceTensor.clone().detach() or sourceTensor.clone().detach().requires_grad_(True), rather than torch.tensor(sourceTensor).\n",
            "  'label': torch.tensor(self.label_list[item])\n"
          ]
        },
        {
          "output_type": "stream",
          "name": "stdout",
          "text": [
            "epoch: 27 step: 0/42\n",
            "epoch: 27 step: 4/42\n",
            "epoch: 27 step: 8/42\n",
            "epoch: 27 step: 12/42\n",
            "epoch: 27 step: 16/42\n",
            "epoch: 27 step: 20/42\n",
            "epoch: 27 step: 24/42\n",
            "epoch: 27 step: 28/42\n",
            "epoch: 27 step: 32/42\n",
            "epoch: 27 step: 36/42\n",
            "epoch: 27 step: 40/42\n"
          ]
        },
        {
          "output_type": "stream",
          "name": "stderr",
          "text": [
            "/usr/local/lib/python3.10/dist-packages/sklearn/utils/_array_api.py:185: FutureWarning: The input object of type 'Tensor' is an array-like implementing one of the corresponding protocols (`__array__`, `__array_interface__` or `__array_struct__`); but not a sequence (or 0-D). In the future, this object will be coerced as if it was first converted using `np.array(obj)`. To retain the old behaviour, you have to either modify the type 'Tensor', or assign to an empty array created with `np.empty(correct_shape, dtype=object)`.\n",
            "  array = numpy.asarray(array, order=order, dtype=dtype)\n",
            "/usr/local/lib/python3.10/dist-packages/sklearn/utils/_array_api.py:185: VisibleDeprecationWarning: Creating an ndarray from ragged nested sequences (which is a list-or-tuple of lists-or-tuples-or ndarrays with different lengths or shapes) is deprecated. If you meant to do this, you must specify 'dtype=object' when creating the ndarray.\n",
            "  array = numpy.asarray(array, order=order, dtype=dtype)\n",
            "<ipython-input-2-3bb857ec729e>:44: UserWarning: To copy construct from a tensor, it is recommended to use sourceTensor.clone().detach() or sourceTensor.clone().detach().requires_grad_(True), rather than torch.tensor(sourceTensor).\n",
            "  'label': torch.tensor(self.label_list[item])\n"
          ]
        },
        {
          "output_type": "stream",
          "name": "stdout",
          "text": [
            "test\n",
            "epoch: 27 train_loss: 0.03699367515565384 train_acc: 82.50% train_f1: 76.25%\n"
          ]
        },
        {
          "output_type": "stream",
          "name": "stderr",
          "text": [
            "/usr/local/lib/python3.10/dist-packages/sklearn/utils/_array_api.py:185: FutureWarning: The input object of type 'Tensor' is an array-like implementing one of the corresponding protocols (`__array__`, `__array_interface__` or `__array_struct__`); but not a sequence (or 0-D). In the future, this object will be coerced as if it was first converted using `np.array(obj)`. To retain the old behaviour, you have to either modify the type 'Tensor', or assign to an empty array created with `np.empty(correct_shape, dtype=object)`.\n",
            "  array = numpy.asarray(array, order=order, dtype=dtype)\n",
            "/usr/local/lib/python3.10/dist-packages/sklearn/utils/_array_api.py:185: VisibleDeprecationWarning: Creating an ndarray from ragged nested sequences (which is a list-or-tuple of lists-or-tuples-or ndarrays with different lengths or shapes) is deprecated. If you meant to do this, you must specify 'dtype=object' when creating the ndarray.\n",
            "  array = numpy.asarray(array, order=order, dtype=dtype)\n",
            "<ipython-input-2-3bb857ec729e>:44: UserWarning: To copy construct from a tensor, it is recommended to use sourceTensor.clone().detach() or sourceTensor.clone().detach().requires_grad_(True), rather than torch.tensor(sourceTensor).\n",
            "  'label': torch.tensor(self.label_list[item])\n"
          ]
        },
        {
          "output_type": "stream",
          "name": "stdout",
          "text": [
            "          val_loss: 0.0616393695500764 val_acc 71.64% val_f1: 61.38%\n",
            "TextRNN AUC =  0.8171509191780967\n",
            "Specificity =  0.7014925373134329\n",
            "Sensitivity =  0.7512437810945274\n",
            "              precision    recall  f1-score   support\n",
            "\n",
            "         0.0     0.8681    0.7015    0.7759       469\n",
            "         1.0     0.5189    0.7512    0.6138       201\n",
            "\n",
            "    accuracy                         0.7164       670\n",
            "   macro avg     0.6935    0.7264    0.6949       670\n",
            "weighted avg     0.7633    0.7164    0.7273       670\n",
            "\n",
            "[INFO] Register count_lstm() for <class 'torch.nn.modules.rnn.LSTM'>.\n",
            "[INFO] Register count_linear() for <class 'torch.nn.modules.linear.Linear'>.\n",
            "[INFO] Register zero_ops() for <class 'torch.nn.modules.activation.ReLU'>.\n",
            "[INFO] Register zero_ops() for <class 'torch.nn.modules.container.Sequential'>.\n",
            "Flops: 72372860672.00\n",
            "MLOPS: 185.34\n",
            "epoch: 28 step: 0/42\n",
            "epoch: 28 step: 4/42\n",
            "epoch: 28 step: 8/42\n",
            "epoch: 28 step: 12/42\n",
            "epoch: 28 step: 16/42\n",
            "epoch: 28 step: 20/42\n",
            "epoch: 28 step: 24/42\n",
            "epoch: 28 step: 28/42\n",
            "epoch: 28 step: 32/42\n",
            "epoch: 28 step: 36/42\n",
            "epoch: 28 step: 40/42\n"
          ]
        },
        {
          "output_type": "stream",
          "name": "stderr",
          "text": [
            "/usr/local/lib/python3.10/dist-packages/sklearn/utils/_array_api.py:185: FutureWarning: The input object of type 'Tensor' is an array-like implementing one of the corresponding protocols (`__array__`, `__array_interface__` or `__array_struct__`); but not a sequence (or 0-D). In the future, this object will be coerced as if it was first converted using `np.array(obj)`. To retain the old behaviour, you have to either modify the type 'Tensor', or assign to an empty array created with `np.empty(correct_shape, dtype=object)`.\n",
            "  array = numpy.asarray(array, order=order, dtype=dtype)\n",
            "/usr/local/lib/python3.10/dist-packages/sklearn/utils/_array_api.py:185: VisibleDeprecationWarning: Creating an ndarray from ragged nested sequences (which is a list-or-tuple of lists-or-tuples-or ndarrays with different lengths or shapes) is deprecated. If you meant to do this, you must specify 'dtype=object' when creating the ndarray.\n",
            "  array = numpy.asarray(array, order=order, dtype=dtype)\n",
            "<ipython-input-2-3bb857ec729e>:44: UserWarning: To copy construct from a tensor, it is recommended to use sourceTensor.clone().detach() or sourceTensor.clone().detach().requires_grad_(True), rather than torch.tensor(sourceTensor).\n",
            "  'label': torch.tensor(self.label_list[item])\n"
          ]
        },
        {
          "output_type": "stream",
          "name": "stdout",
          "text": [
            "test\n",
            "epoch: 28 train_loss: 0.034455197907629465 train_acc: 84.48% train_f1: 77.97%\n"
          ]
        },
        {
          "output_type": "stream",
          "name": "stderr",
          "text": [
            "/usr/local/lib/python3.10/dist-packages/sklearn/utils/_array_api.py:185: FutureWarning: The input object of type 'Tensor' is an array-like implementing one of the corresponding protocols (`__array__`, `__array_interface__` or `__array_struct__`); but not a sequence (or 0-D). In the future, this object will be coerced as if it was first converted using `np.array(obj)`. To retain the old behaviour, you have to either modify the type 'Tensor', or assign to an empty array created with `np.empty(correct_shape, dtype=object)`.\n",
            "  array = numpy.asarray(array, order=order, dtype=dtype)\n",
            "/usr/local/lib/python3.10/dist-packages/sklearn/utils/_array_api.py:185: VisibleDeprecationWarning: Creating an ndarray from ragged nested sequences (which is a list-or-tuple of lists-or-tuples-or ndarrays with different lengths or shapes) is deprecated. If you meant to do this, you must specify 'dtype=object' when creating the ndarray.\n",
            "  array = numpy.asarray(array, order=order, dtype=dtype)\n",
            "<ipython-input-2-3bb857ec729e>:44: UserWarning: To copy construct from a tensor, it is recommended to use sourceTensor.clone().detach() or sourceTensor.clone().detach().requires_grad_(True), rather than torch.tensor(sourceTensor).\n",
            "  'label': torch.tensor(self.label_list[item])\n"
          ]
        },
        {
          "output_type": "stream",
          "name": "stdout",
          "text": [
            "          val_loss: 0.0665797188200734 val_acc 73.88% val_f1: 62.53%\n",
            "TextRNN AUC =  0.8179252988787407\n",
            "Specificity =  0.744136460554371\n",
            "Sensitivity =  0.7263681592039801\n",
            "              precision    recall  f1-score   support\n",
            "\n",
            "         0.0     0.8639    0.7441    0.7995       469\n",
            "         1.0     0.5489    0.7264    0.6253       201\n",
            "\n",
            "    accuracy                         0.7388       670\n",
            "   macro avg     0.7064    0.7353    0.7124       670\n",
            "weighted avg     0.7694    0.7388    0.7473       670\n",
            "\n",
            "[INFO] Register count_lstm() for <class 'torch.nn.modules.rnn.LSTM'>.\n",
            "[INFO] Register count_linear() for <class 'torch.nn.modules.linear.Linear'>.\n",
            "[INFO] Register zero_ops() for <class 'torch.nn.modules.activation.ReLU'>.\n",
            "[INFO] Register zero_ops() for <class 'torch.nn.modules.container.Sequential'>.\n",
            "Flops: 72372860672.00\n",
            "MLOPS: 185.70\n",
            "epoch: 29 step: 0/42\n",
            "epoch: 29 step: 4/42\n",
            "epoch: 29 step: 8/42\n",
            "epoch: 29 step: 12/42\n",
            "epoch: 29 step: 16/42\n",
            "epoch: 29 step: 20/42\n",
            "epoch: 29 step: 24/42\n",
            "epoch: 29 step: 28/42\n",
            "epoch: 29 step: 32/42\n",
            "epoch: 29 step: 36/42\n",
            "epoch: 29 step: 40/42\n"
          ]
        },
        {
          "output_type": "stream",
          "name": "stderr",
          "text": [
            "/usr/local/lib/python3.10/dist-packages/sklearn/utils/_array_api.py:185: FutureWarning: The input object of type 'Tensor' is an array-like implementing one of the corresponding protocols (`__array__`, `__array_interface__` or `__array_struct__`); but not a sequence (or 0-D). In the future, this object will be coerced as if it was first converted using `np.array(obj)`. To retain the old behaviour, you have to either modify the type 'Tensor', or assign to an empty array created with `np.empty(correct_shape, dtype=object)`.\n",
            "  array = numpy.asarray(array, order=order, dtype=dtype)\n",
            "/usr/local/lib/python3.10/dist-packages/sklearn/utils/_array_api.py:185: VisibleDeprecationWarning: Creating an ndarray from ragged nested sequences (which is a list-or-tuple of lists-or-tuples-or ndarrays with different lengths or shapes) is deprecated. If you meant to do this, you must specify 'dtype=object' when creating the ndarray.\n",
            "  array = numpy.asarray(array, order=order, dtype=dtype)\n"
          ]
        },
        {
          "output_type": "stream",
          "name": "stdout",
          "text": [
            "test\n",
            "epoch: 29 train_loss: 0.033089530122067244 train_acc: 85.63% train_f1: 79.25%\n"
          ]
        },
        {
          "output_type": "stream",
          "name": "stderr",
          "text": [
            "<ipython-input-2-3bb857ec729e>:44: UserWarning: To copy construct from a tensor, it is recommended to use sourceTensor.clone().detach() or sourceTensor.clone().detach().requires_grad_(True), rather than torch.tensor(sourceTensor).\n",
            "  'label': torch.tensor(self.label_list[item])\n",
            "/usr/local/lib/python3.10/dist-packages/sklearn/utils/_array_api.py:185: FutureWarning: The input object of type 'Tensor' is an array-like implementing one of the corresponding protocols (`__array__`, `__array_interface__` or `__array_struct__`); but not a sequence (or 0-D). In the future, this object will be coerced as if it was first converted using `np.array(obj)`. To retain the old behaviour, you have to either modify the type 'Tensor', or assign to an empty array created with `np.empty(correct_shape, dtype=object)`.\n",
            "  array = numpy.asarray(array, order=order, dtype=dtype)\n",
            "/usr/local/lib/python3.10/dist-packages/sklearn/utils/_array_api.py:185: VisibleDeprecationWarning: Creating an ndarray from ragged nested sequences (which is a list-or-tuple of lists-or-tuples-or ndarrays with different lengths or shapes) is deprecated. If you meant to do this, you must specify 'dtype=object' when creating the ndarray.\n",
            "  array = numpy.asarray(array, order=order, dtype=dtype)\n",
            "<ipython-input-2-3bb857ec729e>:44: UserWarning: To copy construct from a tensor, it is recommended to use sourceTensor.clone().detach() or sourceTensor.clone().detach().requires_grad_(True), rather than torch.tensor(sourceTensor).\n",
            "  'label': torch.tensor(self.label_list[item])\n"
          ]
        },
        {
          "output_type": "stream",
          "name": "stdout",
          "text": [
            "          val_loss: 0.06856428764083168 val_acc 74.03% val_f1: 62.66%\n",
            "TextRNN AUC =  0.8159097900688456\n",
            "Specificity =  0.746268656716418\n",
            "Sensitivity =  0.7263681592039801\n",
            "              precision    recall  f1-score   support\n",
            "\n",
            "         0.0     0.8642    0.7463    0.8009       469\n",
            "         1.0     0.5509    0.7264    0.6266       201\n",
            "\n",
            "    accuracy                         0.7403       670\n",
            "   macro avg     0.7076    0.7363    0.7138       670\n",
            "weighted avg     0.7702    0.7403    0.7486       670\n",
            "\n",
            "[INFO] Register count_lstm() for <class 'torch.nn.modules.rnn.LSTM'>.\n",
            "[INFO] Register count_linear() for <class 'torch.nn.modules.linear.Linear'>.\n",
            "[INFO] Register zero_ops() for <class 'torch.nn.modules.activation.ReLU'>.\n",
            "[INFO] Register zero_ops() for <class 'torch.nn.modules.container.Sequential'>.\n",
            "Flops: 72372860672.00\n",
            "MLOPS: 185.62\n",
            "epoch: 30 step: 0/42\n",
            "epoch: 30 step: 4/42\n",
            "epoch: 30 step: 8/42\n",
            "epoch: 30 step: 12/42\n",
            "epoch: 30 step: 16/42\n",
            "epoch: 30 step: 20/42\n",
            "epoch: 30 step: 24/42\n",
            "epoch: 30 step: 28/42\n",
            "epoch: 30 step: 32/42\n",
            "epoch: 30 step: 36/42\n",
            "epoch: 30 step: 40/42\n"
          ]
        },
        {
          "output_type": "stream",
          "name": "stderr",
          "text": [
            "/usr/local/lib/python3.10/dist-packages/sklearn/utils/_array_api.py:185: FutureWarning: The input object of type 'Tensor' is an array-like implementing one of the corresponding protocols (`__array__`, `__array_interface__` or `__array_struct__`); but not a sequence (or 0-D). In the future, this object will be coerced as if it was first converted using `np.array(obj)`. To retain the old behaviour, you have to either modify the type 'Tensor', or assign to an empty array created with `np.empty(correct_shape, dtype=object)`.\n",
            "  array = numpy.asarray(array, order=order, dtype=dtype)\n",
            "/usr/local/lib/python3.10/dist-packages/sklearn/utils/_array_api.py:185: VisibleDeprecationWarning: Creating an ndarray from ragged nested sequences (which is a list-or-tuple of lists-or-tuples-or ndarrays with different lengths or shapes) is deprecated. If you meant to do this, you must specify 'dtype=object' when creating the ndarray.\n",
            "  array = numpy.asarray(array, order=order, dtype=dtype)\n"
          ]
        },
        {
          "output_type": "stream",
          "name": "stdout",
          "text": [
            "test\n",
            "epoch: 30 train_loss: 0.0324454956377546 train_acc: 85.56% train_f1: 78.22%\n"
          ]
        },
        {
          "output_type": "stream",
          "name": "stderr",
          "text": [
            "<ipython-input-2-3bb857ec729e>:44: UserWarning: To copy construct from a tensor, it is recommended to use sourceTensor.clone().detach() or sourceTensor.clone().detach().requires_grad_(True), rather than torch.tensor(sourceTensor).\n",
            "  'label': torch.tensor(self.label_list[item])\n",
            "/usr/local/lib/python3.10/dist-packages/sklearn/utils/_array_api.py:185: FutureWarning: The input object of type 'Tensor' is an array-like implementing one of the corresponding protocols (`__array__`, `__array_interface__` or `__array_struct__`); but not a sequence (or 0-D). In the future, this object will be coerced as if it was first converted using `np.array(obj)`. To retain the old behaviour, you have to either modify the type 'Tensor', or assign to an empty array created with `np.empty(correct_shape, dtype=object)`.\n",
            "  array = numpy.asarray(array, order=order, dtype=dtype)\n",
            "/usr/local/lib/python3.10/dist-packages/sklearn/utils/_array_api.py:185: VisibleDeprecationWarning: Creating an ndarray from ragged nested sequences (which is a list-or-tuple of lists-or-tuples-or ndarrays with different lengths or shapes) is deprecated. If you meant to do this, you must specify 'dtype=object' when creating the ndarray.\n",
            "  array = numpy.asarray(array, order=order, dtype=dtype)\n"
          ]
        },
        {
          "output_type": "stream",
          "name": "stdout",
          "text": [
            "          val_loss: 0.08550981229001825 val_acc 76.42% val_f1: 64.09%\n",
            "TextRNN AUC =  0.821733549735332\n",
            "Specificity =  0.7910447761194029\n",
            "Sensitivity =  0.7014925373134329\n",
            "              precision    recall  f1-score   support\n",
            "\n",
            "         0.0     0.8608    0.7910    0.8244       469\n",
            "         1.0     0.5900    0.7015    0.6409       201\n",
            "\n",
            "    accuracy                         0.7642       670\n",
            "   macro avg     0.7254    0.7463    0.7327       670\n",
            "weighted avg     0.7795    0.7642    0.7694       670\n",
            "\n",
            "[INFO] Register count_lstm() for <class 'torch.nn.modules.rnn.LSTM'>.\n",
            "[INFO] Register count_linear() for <class 'torch.nn.modules.linear.Linear'>.\n",
            "[INFO] Register zero_ops() for <class 'torch.nn.modules.activation.ReLU'>.\n",
            "[INFO] Register zero_ops() for <class 'torch.nn.modules.container.Sequential'>.\n",
            "Flops: 72372860672.00\n",
            "MLOPS: 185.80\n"
          ]
        },
        {
          "output_type": "stream",
          "name": "stderr",
          "text": [
            "<ipython-input-2-3bb857ec729e>:44: UserWarning: To copy construct from a tensor, it is recommended to use sourceTensor.clone().detach() or sourceTensor.clone().detach().requires_grad_(True), rather than torch.tensor(sourceTensor).\n",
            "  'label': torch.tensor(self.label_list[item])\n"
          ]
        },
        {
          "output_type": "stream",
          "name": "stdout",
          "text": [
            "epoch: 31 step: 0/42\n",
            "epoch: 31 step: 4/42\n",
            "epoch: 31 step: 8/42\n",
            "epoch: 31 step: 12/42\n",
            "epoch: 31 step: 16/42\n",
            "epoch: 31 step: 20/42\n",
            "epoch: 31 step: 24/42\n",
            "epoch: 31 step: 28/42\n",
            "epoch: 31 step: 32/42\n",
            "epoch: 31 step: 36/42\n",
            "epoch: 31 step: 40/42\n"
          ]
        },
        {
          "output_type": "stream",
          "name": "stderr",
          "text": [
            "/usr/local/lib/python3.10/dist-packages/sklearn/utils/_array_api.py:185: FutureWarning: The input object of type 'Tensor' is an array-like implementing one of the corresponding protocols (`__array__`, `__array_interface__` or `__array_struct__`); but not a sequence (or 0-D). In the future, this object will be coerced as if it was first converted using `np.array(obj)`. To retain the old behaviour, you have to either modify the type 'Tensor', or assign to an empty array created with `np.empty(correct_shape, dtype=object)`.\n",
            "  array = numpy.asarray(array, order=order, dtype=dtype)\n",
            "/usr/local/lib/python3.10/dist-packages/sklearn/utils/_array_api.py:185: VisibleDeprecationWarning: Creating an ndarray from ragged nested sequences (which is a list-or-tuple of lists-or-tuples-or ndarrays with different lengths or shapes) is deprecated. If you meant to do this, you must specify 'dtype=object' when creating the ndarray.\n",
            "  array = numpy.asarray(array, order=order, dtype=dtype)\n",
            "<ipython-input-2-3bb857ec729e>:44: UserWarning: To copy construct from a tensor, it is recommended to use sourceTensor.clone().detach() or sourceTensor.clone().detach().requires_grad_(True), rather than torch.tensor(sourceTensor).\n",
            "  'label': torch.tensor(self.label_list[item])\n"
          ]
        },
        {
          "output_type": "stream",
          "name": "stdout",
          "text": [
            "test\n",
            "epoch: 31 train_loss: 0.03094723488071135 train_acc: 87.50% train_f1: 80.74%\n"
          ]
        },
        {
          "output_type": "stream",
          "name": "stderr",
          "text": [
            "/usr/local/lib/python3.10/dist-packages/sklearn/utils/_array_api.py:185: FutureWarning: The input object of type 'Tensor' is an array-like implementing one of the corresponding protocols (`__array__`, `__array_interface__` or `__array_struct__`); but not a sequence (or 0-D). In the future, this object will be coerced as if it was first converted using `np.array(obj)`. To retain the old behaviour, you have to either modify the type 'Tensor', or assign to an empty array created with `np.empty(correct_shape, dtype=object)`.\n",
            "  array = numpy.asarray(array, order=order, dtype=dtype)\n",
            "/usr/local/lib/python3.10/dist-packages/sklearn/utils/_array_api.py:185: VisibleDeprecationWarning: Creating an ndarray from ragged nested sequences (which is a list-or-tuple of lists-or-tuples-or ndarrays with different lengths or shapes) is deprecated. If you meant to do this, you must specify 'dtype=object' when creating the ndarray.\n",
            "  array = numpy.asarray(array, order=order, dtype=dtype)\n",
            "<ipython-input-2-3bb857ec729e>:44: UserWarning: To copy construct from a tensor, it is recommended to use sourceTensor.clone().detach() or sourceTensor.clone().detach().requires_grad_(True), rather than torch.tensor(sourceTensor).\n",
            "  'label': torch.tensor(self.label_list[item])\n"
          ]
        },
        {
          "output_type": "stream",
          "name": "stdout",
          "text": [
            "          val_loss: 0.07806430689313194 val_acc 76.12% val_f1: 63.30%\n",
            "TextRNN AUC =  0.818795150049327\n",
            "Specificity =  0.7931769722814499\n",
            "Sensitivity =  0.6865671641791045\n",
            "              precision    recall  f1-score   support\n",
            "\n",
            "         0.0     0.8552    0.7932    0.8230       469\n",
            "         1.0     0.5872    0.6866    0.6330       201\n",
            "\n",
            "    accuracy                         0.7612       670\n",
            "   macro avg     0.7212    0.7399    0.7280       670\n",
            "weighted avg     0.7748    0.7612    0.7660       670\n",
            "\n",
            "[INFO] Register count_lstm() for <class 'torch.nn.modules.rnn.LSTM'>.\n",
            "[INFO] Register count_linear() for <class 'torch.nn.modules.linear.Linear'>.\n",
            "[INFO] Register zero_ops() for <class 'torch.nn.modules.activation.ReLU'>.\n",
            "[INFO] Register zero_ops() for <class 'torch.nn.modules.container.Sequential'>.\n",
            "Flops: 72372860672.00\n",
            "MLOPS: 184.59\n",
            "epoch: 32 step: 0/42\n",
            "epoch: 32 step: 4/42\n",
            "epoch: 32 step: 8/42\n",
            "epoch: 32 step: 12/42\n",
            "epoch: 32 step: 16/42\n",
            "epoch: 32 step: 20/42\n",
            "epoch: 32 step: 24/42\n",
            "epoch: 32 step: 28/42\n",
            "epoch: 32 step: 32/42\n",
            "epoch: 32 step: 36/42\n",
            "epoch: 32 step: 40/42\n"
          ]
        },
        {
          "output_type": "stream",
          "name": "stderr",
          "text": [
            "/usr/local/lib/python3.10/dist-packages/sklearn/utils/_array_api.py:185: FutureWarning: The input object of type 'Tensor' is an array-like implementing one of the corresponding protocols (`__array__`, `__array_interface__` or `__array_struct__`); but not a sequence (or 0-D). In the future, this object will be coerced as if it was first converted using `np.array(obj)`. To retain the old behaviour, you have to either modify the type 'Tensor', or assign to an empty array created with `np.empty(correct_shape, dtype=object)`.\n",
            "  array = numpy.asarray(array, order=order, dtype=dtype)\n",
            "/usr/local/lib/python3.10/dist-packages/sklearn/utils/_array_api.py:185: VisibleDeprecationWarning: Creating an ndarray from ragged nested sequences (which is a list-or-tuple of lists-or-tuples-or ndarrays with different lengths or shapes) is deprecated. If you meant to do this, you must specify 'dtype=object' when creating the ndarray.\n",
            "  array = numpy.asarray(array, order=order, dtype=dtype)\n",
            "<ipython-input-2-3bb857ec729e>:44: UserWarning: To copy construct from a tensor, it is recommended to use sourceTensor.clone().detach() or sourceTensor.clone().detach().requires_grad_(True), rather than torch.tensor(sourceTensor).\n",
            "  'label': torch.tensor(self.label_list[item])\n"
          ]
        },
        {
          "output_type": "stream",
          "name": "stdout",
          "text": [
            "test\n",
            "epoch: 32 train_loss: 0.03104574570343608 train_acc: 87.57% train_f1: 79.90%\n"
          ]
        },
        {
          "output_type": "stream",
          "name": "stderr",
          "text": [
            "/usr/local/lib/python3.10/dist-packages/sklearn/utils/_array_api.py:185: FutureWarning: The input object of type 'Tensor' is an array-like implementing one of the corresponding protocols (`__array__`, `__array_interface__` or `__array_struct__`); but not a sequence (or 0-D). In the future, this object will be coerced as if it was first converted using `np.array(obj)`. To retain the old behaviour, you have to either modify the type 'Tensor', or assign to an empty array created with `np.empty(correct_shape, dtype=object)`.\n",
            "  array = numpy.asarray(array, order=order, dtype=dtype)\n",
            "/usr/local/lib/python3.10/dist-packages/sklearn/utils/_array_api.py:185: VisibleDeprecationWarning: Creating an ndarray from ragged nested sequences (which is a list-or-tuple of lists-or-tuples-or ndarrays with different lengths or shapes) is deprecated. If you meant to do this, you must specify 'dtype=object' when creating the ndarray.\n",
            "  array = numpy.asarray(array, order=order, dtype=dtype)\n",
            "<ipython-input-2-3bb857ec729e>:44: UserWarning: To copy construct from a tensor, it is recommended to use sourceTensor.clone().detach() or sourceTensor.clone().detach().requires_grad_(True), rather than torch.tensor(sourceTensor).\n",
            "  'label': torch.tensor(self.label_list[item])\n"
          ]
        },
        {
          "output_type": "stream",
          "name": "stdout",
          "text": [
            "          val_loss: 0.09072330119934949 val_acc 77.46% val_f1: 63.08%\n",
            "TextRNN AUC =  0.8164932268296047\n",
            "Specificity =  0.8315565031982942\n",
            "Sensitivity =  0.6417910447761194\n",
            "              precision    recall  f1-score   support\n",
            "\n",
            "         0.0     0.8442    0.8316    0.8378       469\n",
            "         1.0     0.6202    0.6418    0.6308       201\n",
            "\n",
            "    accuracy                         0.7746       670\n",
            "   macro avg     0.7322    0.7367    0.7343       670\n",
            "weighted avg     0.7770    0.7746    0.7757       670\n",
            "\n",
            "[INFO] Register count_lstm() for <class 'torch.nn.modules.rnn.LSTM'>.\n",
            "[INFO] Register count_linear() for <class 'torch.nn.modules.linear.Linear'>.\n",
            "[INFO] Register zero_ops() for <class 'torch.nn.modules.activation.ReLU'>.\n",
            "[INFO] Register zero_ops() for <class 'torch.nn.modules.container.Sequential'>.\n",
            "Flops: 72372860672.00\n",
            "MLOPS: 186.28\n",
            "epoch: 33 step: 0/42\n",
            "epoch: 33 step: 4/42\n",
            "epoch: 33 step: 8/42\n",
            "epoch: 33 step: 12/42\n",
            "epoch: 33 step: 16/42\n",
            "epoch: 33 step: 20/42\n",
            "epoch: 33 step: 24/42\n",
            "epoch: 33 step: 28/42\n",
            "epoch: 33 step: 32/42\n",
            "epoch: 33 step: 36/42\n",
            "epoch: 33 step: 40/42\n"
          ]
        },
        {
          "output_type": "stream",
          "name": "stderr",
          "text": [
            "/usr/local/lib/python3.10/dist-packages/sklearn/utils/_array_api.py:185: FutureWarning: The input object of type 'Tensor' is an array-like implementing one of the corresponding protocols (`__array__`, `__array_interface__` or `__array_struct__`); but not a sequence (or 0-D). In the future, this object will be coerced as if it was first converted using `np.array(obj)`. To retain the old behaviour, you have to either modify the type 'Tensor', or assign to an empty array created with `np.empty(correct_shape, dtype=object)`.\n",
            "  array = numpy.asarray(array, order=order, dtype=dtype)\n",
            "/usr/local/lib/python3.10/dist-packages/sklearn/utils/_array_api.py:185: VisibleDeprecationWarning: Creating an ndarray from ragged nested sequences (which is a list-or-tuple of lists-or-tuples-or ndarrays with different lengths or shapes) is deprecated. If you meant to do this, you must specify 'dtype=object' when creating the ndarray.\n",
            "  array = numpy.asarray(array, order=order, dtype=dtype)\n"
          ]
        },
        {
          "output_type": "stream",
          "name": "stdout",
          "text": [
            "test\n",
            "epoch: 33 train_loss: 0.028137527317518278 train_acc: 88.62% train_f1: 83.16%\n"
          ]
        },
        {
          "output_type": "stream",
          "name": "stderr",
          "text": [
            "<ipython-input-2-3bb857ec729e>:44: UserWarning: To copy construct from a tensor, it is recommended to use sourceTensor.clone().detach() or sourceTensor.clone().detach().requires_grad_(True), rather than torch.tensor(sourceTensor).\n",
            "  'label': torch.tensor(self.label_list[item])\n",
            "/usr/local/lib/python3.10/dist-packages/sklearn/utils/_array_api.py:185: FutureWarning: The input object of type 'Tensor' is an array-like implementing one of the corresponding protocols (`__array__`, `__array_interface__` or `__array_struct__`); but not a sequence (or 0-D). In the future, this object will be coerced as if it was first converted using `np.array(obj)`. To retain the old behaviour, you have to either modify the type 'Tensor', or assign to an empty array created with `np.empty(correct_shape, dtype=object)`.\n",
            "  array = numpy.asarray(array, order=order, dtype=dtype)\n",
            "/usr/local/lib/python3.10/dist-packages/sklearn/utils/_array_api.py:185: VisibleDeprecationWarning: Creating an ndarray from ragged nested sequences (which is a list-or-tuple of lists-or-tuples-or ndarrays with different lengths or shapes) is deprecated. If you meant to do this, you must specify 'dtype=object' when creating the ndarray.\n",
            "  array = numpy.asarray(array, order=order, dtype=dtype)\n",
            "<ipython-input-2-3bb857ec729e>:44: UserWarning: To copy construct from a tensor, it is recommended to use sourceTensor.clone().detach() or sourceTensor.clone().detach().requires_grad_(True), rather than torch.tensor(sourceTensor).\n",
            "  'label': torch.tensor(self.label_list[item])\n"
          ]
        },
        {
          "output_type": "stream",
          "name": "stdout",
          "text": [
            "          val_loss: 0.08207590810277245 val_acc 75.82% val_f1: 64.00%\n",
            "TextRNN AUC =  0.8194952741622379\n",
            "Specificity =  0.7761194029850746\n",
            "Sensitivity =  0.7164179104477612\n",
            "              precision    recall  f1-score   support\n",
            "\n",
            "         0.0     0.8646    0.7761    0.8180       469\n",
            "         1.0     0.5783    0.7164    0.6400       201\n",
            "\n",
            "    accuracy                         0.7582       670\n",
            "   macro avg     0.7215    0.7463    0.7290       670\n",
            "weighted avg     0.7787    0.7582    0.7646       670\n",
            "\n",
            "[INFO] Register count_lstm() for <class 'torch.nn.modules.rnn.LSTM'>.\n",
            "[INFO] Register count_linear() for <class 'torch.nn.modules.linear.Linear'>.\n",
            "[INFO] Register zero_ops() for <class 'torch.nn.modules.activation.ReLU'>.\n",
            "[INFO] Register zero_ops() for <class 'torch.nn.modules.container.Sequential'>.\n",
            "Flops: 72372860672.00\n",
            "MLOPS: 186.00\n",
            "epoch: 34 step: 0/42\n",
            "epoch: 34 step: 4/42\n",
            "epoch: 34 step: 8/42\n",
            "epoch: 34 step: 12/42\n",
            "epoch: 34 step: 16/42\n",
            "epoch: 34 step: 20/42\n",
            "epoch: 34 step: 24/42\n",
            "epoch: 34 step: 28/42\n",
            "epoch: 34 step: 32/42\n",
            "epoch: 34 step: 36/42\n",
            "epoch: 34 step: 40/42\n"
          ]
        },
        {
          "output_type": "stream",
          "name": "stderr",
          "text": [
            "/usr/local/lib/python3.10/dist-packages/sklearn/utils/_array_api.py:185: FutureWarning: The input object of type 'Tensor' is an array-like implementing one of the corresponding protocols (`__array__`, `__array_interface__` or `__array_struct__`); but not a sequence (or 0-D). In the future, this object will be coerced as if it was first converted using `np.array(obj)`. To retain the old behaviour, you have to either modify the type 'Tensor', or assign to an empty array created with `np.empty(correct_shape, dtype=object)`.\n",
            "  array = numpy.asarray(array, order=order, dtype=dtype)\n",
            "/usr/local/lib/python3.10/dist-packages/sklearn/utils/_array_api.py:185: VisibleDeprecationWarning: Creating an ndarray from ragged nested sequences (which is a list-or-tuple of lists-or-tuples-or ndarrays with different lengths or shapes) is deprecated. If you meant to do this, you must specify 'dtype=object' when creating the ndarray.\n",
            "  array = numpy.asarray(array, order=order, dtype=dtype)\n",
            "<ipython-input-2-3bb857ec729e>:44: UserWarning: To copy construct from a tensor, it is recommended to use sourceTensor.clone().detach() or sourceTensor.clone().detach().requires_grad_(True), rather than torch.tensor(sourceTensor).\n",
            "  'label': torch.tensor(self.label_list[item])\n"
          ]
        },
        {
          "output_type": "stream",
          "name": "stdout",
          "text": [
            "test\n",
            "epoch: 34 train_loss: 0.027824532462372667 train_acc: 88.58% train_f1: 82.31%\n"
          ]
        },
        {
          "output_type": "stream",
          "name": "stderr",
          "text": [
            "/usr/local/lib/python3.10/dist-packages/sklearn/utils/_array_api.py:185: FutureWarning: The input object of type 'Tensor' is an array-like implementing one of the corresponding protocols (`__array__`, `__array_interface__` or `__array_struct__`); but not a sequence (or 0-D). In the future, this object will be coerced as if it was first converted using `np.array(obj)`. To retain the old behaviour, you have to either modify the type 'Tensor', or assign to an empty array created with `np.empty(correct_shape, dtype=object)`.\n",
            "  array = numpy.asarray(array, order=order, dtype=dtype)\n",
            "/usr/local/lib/python3.10/dist-packages/sklearn/utils/_array_api.py:185: VisibleDeprecationWarning: Creating an ndarray from ragged nested sequences (which is a list-or-tuple of lists-or-tuples-or ndarrays with different lengths or shapes) is deprecated. If you meant to do this, you must specify 'dtype=object' when creating the ndarray.\n",
            "  array = numpy.asarray(array, order=order, dtype=dtype)\n"
          ]
        },
        {
          "output_type": "stream",
          "name": "stdout",
          "text": [
            "          val_loss: 0.10553116012703288 val_acc 75.67% val_f1: 62.36%\n",
            "TextRNN AUC =  0.822974678844583\n",
            "Specificity =  0.7931769722814499\n",
            "Sensitivity =  0.6716417910447762\n",
            "              precision    recall  f1-score   support\n",
            "\n",
            "         0.0     0.8493    0.7932    0.8203       469\n",
            "         1.0     0.5819    0.6716    0.6236       201\n",
            "\n",
            "    accuracy                         0.7567       670\n",
            "   macro avg     0.7156    0.7324    0.7219       670\n",
            "weighted avg     0.7691    0.7567    0.7613       670\n",
            "\n",
            "[INFO] Register count_lstm() for <class 'torch.nn.modules.rnn.LSTM'>.\n",
            "[INFO] Register count_linear() for <class 'torch.nn.modules.linear.Linear'>.\n",
            "[INFO] Register zero_ops() for <class 'torch.nn.modules.activation.ReLU'>.\n",
            "[INFO] Register zero_ops() for <class 'torch.nn.modules.container.Sequential'>.\n",
            "Flops: 72372860672.00\n",
            "MLOPS: 186.99\n"
          ]
        },
        {
          "output_type": "stream",
          "name": "stderr",
          "text": [
            "<ipython-input-2-3bb857ec729e>:44: UserWarning: To copy construct from a tensor, it is recommended to use sourceTensor.clone().detach() or sourceTensor.clone().detach().requires_grad_(True), rather than torch.tensor(sourceTensor).\n",
            "  'label': torch.tensor(self.label_list[item])\n"
          ]
        },
        {
          "output_type": "stream",
          "name": "stdout",
          "text": [
            "epoch: 35 step: 0/42\n",
            "epoch: 35 step: 4/42\n",
            "epoch: 35 step: 8/42\n",
            "epoch: 35 step: 12/42\n",
            "epoch: 35 step: 16/42\n",
            "epoch: 35 step: 20/42\n",
            "epoch: 35 step: 24/42\n",
            "epoch: 35 step: 28/42\n",
            "epoch: 35 step: 32/42\n",
            "epoch: 35 step: 36/42\n",
            "epoch: 35 step: 40/42\n"
          ]
        },
        {
          "output_type": "stream",
          "name": "stderr",
          "text": [
            "/usr/local/lib/python3.10/dist-packages/sklearn/utils/_array_api.py:185: FutureWarning: The input object of type 'Tensor' is an array-like implementing one of the corresponding protocols (`__array__`, `__array_interface__` or `__array_struct__`); but not a sequence (or 0-D). In the future, this object will be coerced as if it was first converted using `np.array(obj)`. To retain the old behaviour, you have to either modify the type 'Tensor', or assign to an empty array created with `np.empty(correct_shape, dtype=object)`.\n",
            "  array = numpy.asarray(array, order=order, dtype=dtype)\n",
            "/usr/local/lib/python3.10/dist-packages/sklearn/utils/_array_api.py:185: VisibleDeprecationWarning: Creating an ndarray from ragged nested sequences (which is a list-or-tuple of lists-or-tuples-or ndarrays with different lengths or shapes) is deprecated. If you meant to do this, you must specify 'dtype=object' when creating the ndarray.\n",
            "  array = numpy.asarray(array, order=order, dtype=dtype)\n",
            "<ipython-input-2-3bb857ec729e>:44: UserWarning: To copy construct from a tensor, it is recommended to use sourceTensor.clone().detach() or sourceTensor.clone().detach().requires_grad_(True), rather than torch.tensor(sourceTensor).\n",
            "  'label': torch.tensor(self.label_list[item])\n"
          ]
        },
        {
          "output_type": "stream",
          "name": "stdout",
          "text": [
            "test\n",
            "epoch: 35 train_loss: 0.027280247548506373 train_acc: 89.40% train_f1: 83.20%\n"
          ]
        },
        {
          "output_type": "stream",
          "name": "stderr",
          "text": [
            "/usr/local/lib/python3.10/dist-packages/sklearn/utils/_array_api.py:185: FutureWarning: The input object of type 'Tensor' is an array-like implementing one of the corresponding protocols (`__array__`, `__array_interface__` or `__array_struct__`); but not a sequence (or 0-D). In the future, this object will be coerced as if it was first converted using `np.array(obj)`. To retain the old behaviour, you have to either modify the type 'Tensor', or assign to an empty array created with `np.empty(correct_shape, dtype=object)`.\n",
            "  array = numpy.asarray(array, order=order, dtype=dtype)\n",
            "/usr/local/lib/python3.10/dist-packages/sklearn/utils/_array_api.py:185: VisibleDeprecationWarning: Creating an ndarray from ragged nested sequences (which is a list-or-tuple of lists-or-tuples-or ndarrays with different lengths or shapes) is deprecated. If you meant to do this, you must specify 'dtype=object' when creating the ndarray.\n",
            "  array = numpy.asarray(array, order=order, dtype=dtype)\n",
            "<ipython-input-2-3bb857ec729e>:44: UserWarning: To copy construct from a tensor, it is recommended to use sourceTensor.clone().detach() or sourceTensor.clone().detach().requires_grad_(True), rather than torch.tensor(sourceTensor).\n",
            "  'label': torch.tensor(self.label_list[item])\n"
          ]
        },
        {
          "output_type": "stream",
          "name": "stdout",
          "text": [
            "          val_loss: 0.11244335228746588 val_acc 77.61% val_f1: 63.77%\n",
            "TextRNN AUC =  0.8237172347219128\n",
            "Specificity =  0.8272921108742004\n",
            "Sensitivity =  0.6567164179104478\n",
            "              precision    recall  f1-score   support\n",
            "\n",
            "         0.0     0.8490    0.8273    0.8380       469\n",
            "         1.0     0.6197    0.6567    0.6377       201\n",
            "\n",
            "    accuracy                         0.7761       670\n",
            "   macro avg     0.7344    0.7420    0.7378       670\n",
            "weighted avg     0.7802    0.7761    0.7779       670\n",
            "\n",
            "[INFO] Register count_lstm() for <class 'torch.nn.modules.rnn.LSTM'>.\n",
            "[INFO] Register count_linear() for <class 'torch.nn.modules.linear.Linear'>.\n",
            "[INFO] Register zero_ops() for <class 'torch.nn.modules.activation.ReLU'>.\n",
            "[INFO] Register zero_ops() for <class 'torch.nn.modules.container.Sequential'>.\n",
            "Flops: 72372860672.00\n",
            "MLOPS: 185.14\n",
            "epoch: 36 step: 0/42\n",
            "epoch: 36 step: 4/42\n",
            "epoch: 36 step: 8/42\n",
            "epoch: 36 step: 12/42\n",
            "epoch: 36 step: 16/42\n",
            "epoch: 36 step: 20/42\n",
            "epoch: 36 step: 24/42\n",
            "epoch: 36 step: 28/42\n",
            "epoch: 36 step: 32/42\n",
            "epoch: 36 step: 36/42\n",
            "epoch: 36 step: 40/42\n"
          ]
        },
        {
          "output_type": "stream",
          "name": "stderr",
          "text": [
            "/usr/local/lib/python3.10/dist-packages/sklearn/utils/_array_api.py:185: FutureWarning: The input object of type 'Tensor' is an array-like implementing one of the corresponding protocols (`__array__`, `__array_interface__` or `__array_struct__`); but not a sequence (or 0-D). In the future, this object will be coerced as if it was first converted using `np.array(obj)`. To retain the old behaviour, you have to either modify the type 'Tensor', or assign to an empty array created with `np.empty(correct_shape, dtype=object)`.\n",
            "  array = numpy.asarray(array, order=order, dtype=dtype)\n",
            "/usr/local/lib/python3.10/dist-packages/sklearn/utils/_array_api.py:185: VisibleDeprecationWarning: Creating an ndarray from ragged nested sequences (which is a list-or-tuple of lists-or-tuples-or ndarrays with different lengths or shapes) is deprecated. If you meant to do this, you must specify 'dtype=object' when creating the ndarray.\n",
            "  array = numpy.asarray(array, order=order, dtype=dtype)\n",
            "<ipython-input-2-3bb857ec729e>:44: UserWarning: To copy construct from a tensor, it is recommended to use sourceTensor.clone().detach() or sourceTensor.clone().detach().requires_grad_(True), rather than torch.tensor(sourceTensor).\n",
            "  'label': torch.tensor(self.label_list[item])\n"
          ]
        },
        {
          "output_type": "stream",
          "name": "stdout",
          "text": [
            "test\n",
            "epoch: 36 train_loss: 0.024380116546083064 train_acc: 90.30% train_f1: 85.62%\n"
          ]
        },
        {
          "output_type": "stream",
          "name": "stderr",
          "text": [
            "/usr/local/lib/python3.10/dist-packages/sklearn/utils/_array_api.py:185: FutureWarning: The input object of type 'Tensor' is an array-like implementing one of the corresponding protocols (`__array__`, `__array_interface__` or `__array_struct__`); but not a sequence (or 0-D). In the future, this object will be coerced as if it was first converted using `np.array(obj)`. To retain the old behaviour, you have to either modify the type 'Tensor', or assign to an empty array created with `np.empty(correct_shape, dtype=object)`.\n",
            "  array = numpy.asarray(array, order=order, dtype=dtype)\n",
            "/usr/local/lib/python3.10/dist-packages/sklearn/utils/_array_api.py:185: VisibleDeprecationWarning: Creating an ndarray from ragged nested sequences (which is a list-or-tuple of lists-or-tuples-or ndarrays with different lengths or shapes) is deprecated. If you meant to do this, you must specify 'dtype=object' when creating the ndarray.\n",
            "  array = numpy.asarray(array, order=order, dtype=dtype)\n",
            "<ipython-input-2-3bb857ec729e>:44: UserWarning: To copy construct from a tensor, it is recommended to use sourceTensor.clone().detach() or sourceTensor.clone().detach().requires_grad_(True), rather than torch.tensor(sourceTensor).\n",
            "  'label': torch.tensor(self.label_list[item])\n"
          ]
        },
        {
          "output_type": "stream",
          "name": "stdout",
          "text": [
            "          val_loss: 0.10593695227395404 val_acc 76.72% val_f1: 65.02%\n",
            "TextRNN AUC =  0.8228579914924312\n",
            "Specificity =  0.7867803837953091\n",
            "Sensitivity =  0.7213930348258707\n",
            "              precision    recall  f1-score   support\n",
            "\n",
            "         0.0     0.8682    0.7868    0.8255       469\n",
            "         1.0     0.5918    0.7214    0.6502       201\n",
            "\n",
            "    accuracy                         0.7672       670\n",
            "   macro avg     0.7300    0.7541    0.7379       670\n",
            "weighted avg     0.7853    0.7672    0.7729       670\n",
            "\n",
            "[INFO] Register count_lstm() for <class 'torch.nn.modules.rnn.LSTM'>.\n",
            "[INFO] Register count_linear() for <class 'torch.nn.modules.linear.Linear'>.\n",
            "[INFO] Register zero_ops() for <class 'torch.nn.modules.activation.ReLU'>.\n",
            "[INFO] Register zero_ops() for <class 'torch.nn.modules.container.Sequential'>.\n",
            "Flops: 72372860672.00\n",
            "MLOPS: 186.90\n",
            "epoch: 37 step: 0/42\n",
            "epoch: 37 step: 4/42\n",
            "epoch: 37 step: 8/42\n",
            "epoch: 37 step: 12/42\n",
            "epoch: 37 step: 16/42\n",
            "epoch: 37 step: 20/42\n",
            "epoch: 37 step: 24/42\n",
            "epoch: 37 step: 28/42\n",
            "epoch: 37 step: 32/42\n",
            "epoch: 37 step: 36/42\n",
            "epoch: 37 step: 40/42\n"
          ]
        },
        {
          "output_type": "stream",
          "name": "stderr",
          "text": [
            "/usr/local/lib/python3.10/dist-packages/sklearn/utils/_array_api.py:185: FutureWarning: The input object of type 'Tensor' is an array-like implementing one of the corresponding protocols (`__array__`, `__array_interface__` or `__array_struct__`); but not a sequence (or 0-D). In the future, this object will be coerced as if it was first converted using `np.array(obj)`. To retain the old behaviour, you have to either modify the type 'Tensor', or assign to an empty array created with `np.empty(correct_shape, dtype=object)`.\n",
            "  array = numpy.asarray(array, order=order, dtype=dtype)\n",
            "/usr/local/lib/python3.10/dist-packages/sklearn/utils/_array_api.py:185: VisibleDeprecationWarning: Creating an ndarray from ragged nested sequences (which is a list-or-tuple of lists-or-tuples-or ndarrays with different lengths or shapes) is deprecated. If you meant to do this, you must specify 'dtype=object' when creating the ndarray.\n",
            "  array = numpy.asarray(array, order=order, dtype=dtype)\n"
          ]
        },
        {
          "output_type": "stream",
          "name": "stdout",
          "text": [
            "test\n",
            "epoch: 37 train_loss: 0.025392802099564245 train_acc: 90.41% train_f1: 84.64%\n"
          ]
        },
        {
          "output_type": "stream",
          "name": "stderr",
          "text": [
            "<ipython-input-2-3bb857ec729e>:44: UserWarning: To copy construct from a tensor, it is recommended to use sourceTensor.clone().detach() or sourceTensor.clone().detach().requires_grad_(True), rather than torch.tensor(sourceTensor).\n",
            "  'label': torch.tensor(self.label_list[item])\n",
            "/usr/local/lib/python3.10/dist-packages/sklearn/utils/_array_api.py:185: FutureWarning: The input object of type 'Tensor' is an array-like implementing one of the corresponding protocols (`__array__`, `__array_interface__` or `__array_struct__`); but not a sequence (or 0-D). In the future, this object will be coerced as if it was first converted using `np.array(obj)`. To retain the old behaviour, you have to either modify the type 'Tensor', or assign to an empty array created with `np.empty(correct_shape, dtype=object)`.\n",
            "  array = numpy.asarray(array, order=order, dtype=dtype)\n",
            "/usr/local/lib/python3.10/dist-packages/sklearn/utils/_array_api.py:185: VisibleDeprecationWarning: Creating an ndarray from ragged nested sequences (which is a list-or-tuple of lists-or-tuples-or ndarrays with different lengths or shapes) is deprecated. If you meant to do this, you must specify 'dtype=object' when creating the ndarray.\n",
            "  array = numpy.asarray(array, order=order, dtype=dtype)\n"
          ]
        },
        {
          "output_type": "stream",
          "name": "stdout",
          "text": [
            "          val_loss: 0.1289378194646402 val_acc 76.57% val_f1: 62.17%\n",
            "TextRNN AUC =  0.820439380920557\n",
            "Specificity =  0.8187633262260128\n",
            "Sensitivity =  0.6417910447761194\n",
            "              precision    recall  f1-score   support\n",
            "\n",
            "         0.0     0.8421    0.8188    0.8303       469\n",
            "         1.0     0.6028    0.6418    0.6217       201\n",
            "\n",
            "    accuracy                         0.7657       670\n",
            "   macro avg     0.7225    0.7303    0.7260       670\n",
            "weighted avg     0.7703    0.7657    0.7677       670\n",
            "\n",
            "[INFO] Register count_lstm() for <class 'torch.nn.modules.rnn.LSTM'>.\n",
            "[INFO] Register count_linear() for <class 'torch.nn.modules.linear.Linear'>.\n",
            "[INFO] Register zero_ops() for <class 'torch.nn.modules.activation.ReLU'>.\n",
            "[INFO] Register zero_ops() for <class 'torch.nn.modules.container.Sequential'>.\n",
            "Flops: 72372860672.00\n",
            "MLOPS: 187.35\n"
          ]
        },
        {
          "output_type": "stream",
          "name": "stderr",
          "text": [
            "<ipython-input-2-3bb857ec729e>:44: UserWarning: To copy construct from a tensor, it is recommended to use sourceTensor.clone().detach() or sourceTensor.clone().detach().requires_grad_(True), rather than torch.tensor(sourceTensor).\n",
            "  'label': torch.tensor(self.label_list[item])\n"
          ]
        },
        {
          "output_type": "stream",
          "name": "stdout",
          "text": [
            "epoch: 38 step: 0/42\n",
            "epoch: 38 step: 4/42\n",
            "epoch: 38 step: 8/42\n",
            "epoch: 38 step: 12/42\n",
            "epoch: 38 step: 16/42\n",
            "epoch: 38 step: 20/42\n",
            "epoch: 38 step: 24/42\n",
            "epoch: 38 step: 28/42\n",
            "epoch: 38 step: 32/42\n",
            "epoch: 38 step: 36/42\n",
            "epoch: 38 step: 40/42\n"
          ]
        },
        {
          "output_type": "stream",
          "name": "stderr",
          "text": [
            "/usr/local/lib/python3.10/dist-packages/sklearn/utils/_array_api.py:185: FutureWarning: The input object of type 'Tensor' is an array-like implementing one of the corresponding protocols (`__array__`, `__array_interface__` or `__array_struct__`); but not a sequence (or 0-D). In the future, this object will be coerced as if it was first converted using `np.array(obj)`. To retain the old behaviour, you have to either modify the type 'Tensor', or assign to an empty array created with `np.empty(correct_shape, dtype=object)`.\n",
            "  array = numpy.asarray(array, order=order, dtype=dtype)\n",
            "/usr/local/lib/python3.10/dist-packages/sklearn/utils/_array_api.py:185: VisibleDeprecationWarning: Creating an ndarray from ragged nested sequences (which is a list-or-tuple of lists-or-tuples-or ndarrays with different lengths or shapes) is deprecated. If you meant to do this, you must specify 'dtype=object' when creating the ndarray.\n",
            "  array = numpy.asarray(array, order=order, dtype=dtype)\n",
            "<ipython-input-2-3bb857ec729e>:44: UserWarning: To copy construct from a tensor, it is recommended to use sourceTensor.clone().detach() or sourceTensor.clone().detach().requires_grad_(True), rather than torch.tensor(sourceTensor).\n",
            "  'label': torch.tensor(self.label_list[item])\n"
          ]
        },
        {
          "output_type": "stream",
          "name": "stdout",
          "text": [
            "test\n",
            "epoch: 38 train_loss: 0.02221144157062684 train_acc: 91.46% train_f1: 86.95%\n"
          ]
        },
        {
          "output_type": "stream",
          "name": "stderr",
          "text": [
            "/usr/local/lib/python3.10/dist-packages/sklearn/utils/_array_api.py:185: FutureWarning: The input object of type 'Tensor' is an array-like implementing one of the corresponding protocols (`__array__`, `__array_interface__` or `__array_struct__`); but not a sequence (or 0-D). In the future, this object will be coerced as if it was first converted using `np.array(obj)`. To retain the old behaviour, you have to either modify the type 'Tensor', or assign to an empty array created with `np.empty(correct_shape, dtype=object)`.\n",
            "  array = numpy.asarray(array, order=order, dtype=dtype)\n",
            "/usr/local/lib/python3.10/dist-packages/sklearn/utils/_array_api.py:185: VisibleDeprecationWarning: Creating an ndarray from ragged nested sequences (which is a list-or-tuple of lists-or-tuples-or ndarrays with different lengths or shapes) is deprecated. If you meant to do this, you must specify 'dtype=object' when creating the ndarray.\n",
            "  array = numpy.asarray(array, order=order, dtype=dtype)\n",
            "<ipython-input-2-3bb857ec729e>:44: UserWarning: To copy construct from a tensor, it is recommended to use sourceTensor.clone().detach() or sourceTensor.clone().detach().requires_grad_(True), rather than torch.tensor(sourceTensor).\n",
            "  'label': torch.tensor(self.label_list[item])\n"
          ]
        },
        {
          "output_type": "stream",
          "name": "stdout",
          "text": [
            "          val_loss: 0.1233045103197748 val_acc 75.97% val_f1: 62.82%\n",
            "TextRNN AUC =  0.8200150632763686\n",
            "Specificity =  0.7953091684434968\n",
            "Sensitivity =  0.6766169154228856\n",
            "              precision    recall  f1-score   support\n",
            "\n",
            "         0.0     0.8516    0.7953    0.8225       469\n",
            "         1.0     0.5862    0.6766    0.6282       201\n",
            "\n",
            "    accuracy                         0.7597       670\n",
            "   macro avg     0.7189    0.7360    0.7253       670\n",
            "weighted avg     0.7720    0.7597    0.7642       670\n",
            "\n",
            "[INFO] Register count_lstm() for <class 'torch.nn.modules.rnn.LSTM'>.\n",
            "[INFO] Register count_linear() for <class 'torch.nn.modules.linear.Linear'>.\n",
            "[INFO] Register zero_ops() for <class 'torch.nn.modules.activation.ReLU'>.\n",
            "[INFO] Register zero_ops() for <class 'torch.nn.modules.container.Sequential'>.\n",
            "Flops: 72372860672.00\n",
            "MLOPS: 185.61\n",
            "epoch: 39 step: 0/42\n",
            "epoch: 39 step: 4/42\n",
            "epoch: 39 step: 8/42\n",
            "epoch: 39 step: 12/42\n",
            "epoch: 39 step: 16/42\n",
            "epoch: 39 step: 20/42\n",
            "epoch: 39 step: 24/42\n",
            "epoch: 39 step: 28/42\n",
            "epoch: 39 step: 32/42\n",
            "epoch: 39 step: 36/42\n",
            "epoch: 39 step: 40/42\n"
          ]
        },
        {
          "output_type": "stream",
          "name": "stderr",
          "text": [
            "/usr/local/lib/python3.10/dist-packages/sklearn/utils/_array_api.py:185: FutureWarning: The input object of type 'Tensor' is an array-like implementing one of the corresponding protocols (`__array__`, `__array_interface__` or `__array_struct__`); but not a sequence (or 0-D). In the future, this object will be coerced as if it was first converted using `np.array(obj)`. To retain the old behaviour, you have to either modify the type 'Tensor', or assign to an empty array created with `np.empty(correct_shape, dtype=object)`.\n",
            "  array = numpy.asarray(array, order=order, dtype=dtype)\n",
            "/usr/local/lib/python3.10/dist-packages/sklearn/utils/_array_api.py:185: VisibleDeprecationWarning: Creating an ndarray from ragged nested sequences (which is a list-or-tuple of lists-or-tuples-or ndarrays with different lengths or shapes) is deprecated. If you meant to do this, you must specify 'dtype=object' when creating the ndarray.\n",
            "  array = numpy.asarray(array, order=order, dtype=dtype)\n",
            "<ipython-input-2-3bb857ec729e>:44: UserWarning: To copy construct from a tensor, it is recommended to use sourceTensor.clone().detach() or sourceTensor.clone().detach().requires_grad_(True), rather than torch.tensor(sourceTensor).\n",
            "  'label': torch.tensor(self.label_list[item])\n"
          ]
        },
        {
          "output_type": "stream",
          "name": "stdout",
          "text": [
            "test\n",
            "epoch: 39 train_loss: 0.021530967360983293 train_acc: 91.31% train_f1: 87.15%\n"
          ]
        },
        {
          "output_type": "stream",
          "name": "stderr",
          "text": [
            "/usr/local/lib/python3.10/dist-packages/sklearn/utils/_array_api.py:185: FutureWarning: The input object of type 'Tensor' is an array-like implementing one of the corresponding protocols (`__array__`, `__array_interface__` or `__array_struct__`); but not a sequence (or 0-D). In the future, this object will be coerced as if it was first converted using `np.array(obj)`. To retain the old behaviour, you have to either modify the type 'Tensor', or assign to an empty array created with `np.empty(correct_shape, dtype=object)`.\n",
            "  array = numpy.asarray(array, order=order, dtype=dtype)\n",
            "/usr/local/lib/python3.10/dist-packages/sklearn/utils/_array_api.py:185: VisibleDeprecationWarning: Creating an ndarray from ragged nested sequences (which is a list-or-tuple of lists-or-tuples-or ndarrays with different lengths or shapes) is deprecated. If you meant to do this, you must specify 'dtype=object' when creating the ndarray.\n",
            "  array = numpy.asarray(array, order=order, dtype=dtype)\n",
            "<ipython-input-2-3bb857ec729e>:44: UserWarning: To copy construct from a tensor, it is recommended to use sourceTensor.clone().detach() or sourceTensor.clone().detach().requires_grad_(True), rather than torch.tensor(sourceTensor).\n",
            "  'label': torch.tensor(self.label_list[item])\n"
          ]
        },
        {
          "output_type": "stream",
          "name": "stdout",
          "text": [
            "          val_loss: 0.10852724483067339 val_acc 76.12% val_f1: 64.44%\n",
            "TextRNN AUC =  0.8244810064814521\n",
            "Specificity =  0.7782515991471215\n",
            "Sensitivity =  0.7213930348258707\n",
            "              precision    recall  f1-score   support\n",
            "\n",
            "         0.0     0.8670    0.7783    0.8202       469\n",
            "         1.0     0.5823    0.7214    0.6444       201\n",
            "\n",
            "    accuracy                         0.7612       670\n",
            "   macro avg     0.7247    0.7498    0.7323       670\n",
            "weighted avg     0.7816    0.7612    0.7675       670\n",
            "\n",
            "[INFO] Register count_lstm() for <class 'torch.nn.modules.rnn.LSTM'>.\n",
            "[INFO] Register count_linear() for <class 'torch.nn.modules.linear.Linear'>.\n",
            "[INFO] Register zero_ops() for <class 'torch.nn.modules.activation.ReLU'>.\n",
            "[INFO] Register zero_ops() for <class 'torch.nn.modules.container.Sequential'>.\n",
            "Flops: 72372860672.00\n",
            "MLOPS: 184.23\n",
            "epoch: 40 step: 0/42\n",
            "epoch: 40 step: 4/42\n",
            "epoch: 40 step: 8/42\n",
            "epoch: 40 step: 12/42\n",
            "epoch: 40 step: 16/42\n",
            "epoch: 40 step: 20/42\n",
            "epoch: 40 step: 24/42\n",
            "epoch: 40 step: 28/42\n",
            "epoch: 40 step: 32/42\n",
            "epoch: 40 step: 36/42\n",
            "epoch: 40 step: 40/42\n"
          ]
        },
        {
          "output_type": "stream",
          "name": "stderr",
          "text": [
            "/usr/local/lib/python3.10/dist-packages/sklearn/utils/_array_api.py:185: FutureWarning: The input object of type 'Tensor' is an array-like implementing one of the corresponding protocols (`__array__`, `__array_interface__` or `__array_struct__`); but not a sequence (or 0-D). In the future, this object will be coerced as if it was first converted using `np.array(obj)`. To retain the old behaviour, you have to either modify the type 'Tensor', or assign to an empty array created with `np.empty(correct_shape, dtype=object)`.\n",
            "  array = numpy.asarray(array, order=order, dtype=dtype)\n",
            "/usr/local/lib/python3.10/dist-packages/sklearn/utils/_array_api.py:185: VisibleDeprecationWarning: Creating an ndarray from ragged nested sequences (which is a list-or-tuple of lists-or-tuples-or ndarrays with different lengths or shapes) is deprecated. If you meant to do this, you must specify 'dtype=object' when creating the ndarray.\n",
            "  array = numpy.asarray(array, order=order, dtype=dtype)\n"
          ]
        },
        {
          "output_type": "stream",
          "name": "stdout",
          "text": [
            "test\n",
            "epoch: 40 train_loss: 0.0204983781801448 train_acc: 91.57% train_f1: 87.60%\n"
          ]
        },
        {
          "output_type": "stream",
          "name": "stderr",
          "text": [
            "<ipython-input-2-3bb857ec729e>:44: UserWarning: To copy construct from a tensor, it is recommended to use sourceTensor.clone().detach() or sourceTensor.clone().detach().requires_grad_(True), rather than torch.tensor(sourceTensor).\n",
            "  'label': torch.tensor(self.label_list[item])\n",
            "/usr/local/lib/python3.10/dist-packages/sklearn/utils/_array_api.py:185: FutureWarning: The input object of type 'Tensor' is an array-like implementing one of the corresponding protocols (`__array__`, `__array_interface__` or `__array_struct__`); but not a sequence (or 0-D). In the future, this object will be coerced as if it was first converted using `np.array(obj)`. To retain the old behaviour, you have to either modify the type 'Tensor', or assign to an empty array created with `np.empty(correct_shape, dtype=object)`.\n",
            "  array = numpy.asarray(array, order=order, dtype=dtype)\n",
            "/usr/local/lib/python3.10/dist-packages/sklearn/utils/_array_api.py:185: VisibleDeprecationWarning: Creating an ndarray from ragged nested sequences (which is a list-or-tuple of lists-or-tuples-or ndarrays with different lengths or shapes) is deprecated. If you meant to do this, you must specify 'dtype=object' when creating the ndarray.\n",
            "  array = numpy.asarray(array, order=order, dtype=dtype)\n",
            "<ipython-input-2-3bb857ec729e>:44: UserWarning: To copy construct from a tensor, it is recommended to use sourceTensor.clone().detach() or sourceTensor.clone().detach().requires_grad_(True), rather than torch.tensor(sourceTensor).\n",
            "  'label': torch.tensor(self.label_list[item])\n"
          ]
        },
        {
          "output_type": "stream",
          "name": "stdout",
          "text": [
            "          val_loss: 0.11144187606193802 val_acc 76.42% val_f1: 64.89%\n",
            "TextRNN AUC =  0.8232186614899913\n",
            "Specificity =  0.7803837953091685\n",
            "Sensitivity =  0.7263681592039801\n",
            "              precision    recall  f1-score   support\n",
            "\n",
            "         0.0     0.8694    0.7804    0.8225       469\n",
            "         1.0     0.5863    0.7264    0.6489       201\n",
            "\n",
            "    accuracy                         0.7642       670\n",
            "   macro avg     0.7279    0.7534    0.7357       670\n",
            "weighted avg     0.7845    0.7642    0.7704       670\n",
            "\n",
            "[INFO] Register count_lstm() for <class 'torch.nn.modules.rnn.LSTM'>.\n",
            "[INFO] Register count_linear() for <class 'torch.nn.modules.linear.Linear'>.\n",
            "[INFO] Register zero_ops() for <class 'torch.nn.modules.activation.ReLU'>.\n",
            "[INFO] Register zero_ops() for <class 'torch.nn.modules.container.Sequential'>.\n",
            "Flops: 72372860672.00\n",
            "MLOPS: 186.50\n",
            "epoch: 41 step: 0/42\n",
            "epoch: 41 step: 4/42\n",
            "epoch: 41 step: 8/42\n",
            "epoch: 41 step: 12/42\n",
            "epoch: 41 step: 16/42\n",
            "epoch: 41 step: 20/42\n",
            "epoch: 41 step: 24/42\n",
            "epoch: 41 step: 28/42\n",
            "epoch: 41 step: 32/42\n",
            "epoch: 41 step: 36/42\n",
            "epoch: 41 step: 40/42\n"
          ]
        },
        {
          "output_type": "stream",
          "name": "stderr",
          "text": [
            "/usr/local/lib/python3.10/dist-packages/sklearn/utils/_array_api.py:185: FutureWarning: The input object of type 'Tensor' is an array-like implementing one of the corresponding protocols (`__array__`, `__array_interface__` or `__array_struct__`); but not a sequence (or 0-D). In the future, this object will be coerced as if it was first converted using `np.array(obj)`. To retain the old behaviour, you have to either modify the type 'Tensor', or assign to an empty array created with `np.empty(correct_shape, dtype=object)`.\n",
            "  array = numpy.asarray(array, order=order, dtype=dtype)\n",
            "/usr/local/lib/python3.10/dist-packages/sklearn/utils/_array_api.py:185: VisibleDeprecationWarning: Creating an ndarray from ragged nested sequences (which is a list-or-tuple of lists-or-tuples-or ndarrays with different lengths or shapes) is deprecated. If you meant to do this, you must specify 'dtype=object' when creating the ndarray.\n",
            "  array = numpy.asarray(array, order=order, dtype=dtype)\n",
            "<ipython-input-2-3bb857ec729e>:44: UserWarning: To copy construct from a tensor, it is recommended to use sourceTensor.clone().detach() or sourceTensor.clone().detach().requires_grad_(True), rather than torch.tensor(sourceTensor).\n",
            "  'label': torch.tensor(self.label_list[item])\n"
          ]
        },
        {
          "output_type": "stream",
          "name": "stdout",
          "text": [
            "test\n",
            "epoch: 41 train_loss: 0.019362932514576686 train_acc: 92.54% train_f1: 88.79%\n"
          ]
        },
        {
          "output_type": "stream",
          "name": "stderr",
          "text": [
            "/usr/local/lib/python3.10/dist-packages/sklearn/utils/_array_api.py:185: FutureWarning: The input object of type 'Tensor' is an array-like implementing one of the corresponding protocols (`__array__`, `__array_interface__` or `__array_struct__`); but not a sequence (or 0-D). In the future, this object will be coerced as if it was first converted using `np.array(obj)`. To retain the old behaviour, you have to either modify the type 'Tensor', or assign to an empty array created with `np.empty(correct_shape, dtype=object)`.\n",
            "  array = numpy.asarray(array, order=order, dtype=dtype)\n",
            "/usr/local/lib/python3.10/dist-packages/sklearn/utils/_array_api.py:185: VisibleDeprecationWarning: Creating an ndarray from ragged nested sequences (which is a list-or-tuple of lists-or-tuples-or ndarrays with different lengths or shapes) is deprecated. If you meant to do this, you must specify 'dtype=object' when creating the ndarray.\n",
            "  array = numpy.asarray(array, order=order, dtype=dtype)\n"
          ]
        },
        {
          "output_type": "stream",
          "name": "stdout",
          "text": [
            "          val_loss: 0.12093034183437174 val_acc 76.72% val_f1: 64.55%\n",
            "TextRNN AUC =  0.8236535870752846\n",
            "Specificity =  0.7931769722814499\n",
            "Sensitivity =  0.7064676616915423\n",
            "              precision    recall  f1-score   support\n",
            "\n",
            "         0.0     0.8631    0.7932    0.8267       469\n",
            "         1.0     0.5941    0.7065    0.6455       201\n",
            "\n",
            "    accuracy                         0.7672       670\n",
            "   macro avg     0.7286    0.7498    0.7361       670\n",
            "weighted avg     0.7824    0.7672    0.7723       670\n",
            "\n",
            "[INFO] Register count_lstm() for <class 'torch.nn.modules.rnn.LSTM'>.\n",
            "[INFO] Register count_linear() for <class 'torch.nn.modules.linear.Linear'>.\n",
            "[INFO] Register zero_ops() for <class 'torch.nn.modules.activation.ReLU'>.\n",
            "[INFO] Register zero_ops() for <class 'torch.nn.modules.container.Sequential'>.\n",
            "Flops: 72372860672.00\n",
            "MLOPS: 186.12\n"
          ]
        },
        {
          "output_type": "stream",
          "name": "stderr",
          "text": [
            "<ipython-input-2-3bb857ec729e>:44: UserWarning: To copy construct from a tensor, it is recommended to use sourceTensor.clone().detach() or sourceTensor.clone().detach().requires_grad_(True), rather than torch.tensor(sourceTensor).\n",
            "  'label': torch.tensor(self.label_list[item])\n"
          ]
        },
        {
          "output_type": "stream",
          "name": "stdout",
          "text": [
            "epoch: 42 step: 0/42\n",
            "epoch: 42 step: 4/42\n",
            "epoch: 42 step: 8/42\n",
            "epoch: 42 step: 12/42\n",
            "epoch: 42 step: 16/42\n",
            "epoch: 42 step: 20/42\n",
            "epoch: 42 step: 24/42\n",
            "epoch: 42 step: 28/42\n",
            "epoch: 42 step: 32/42\n",
            "epoch: 42 step: 36/42\n",
            "epoch: 42 step: 40/42\n"
          ]
        },
        {
          "output_type": "stream",
          "name": "stderr",
          "text": [
            "/usr/local/lib/python3.10/dist-packages/sklearn/utils/_array_api.py:185: FutureWarning: The input object of type 'Tensor' is an array-like implementing one of the corresponding protocols (`__array__`, `__array_interface__` or `__array_struct__`); but not a sequence (or 0-D). In the future, this object will be coerced as if it was first converted using `np.array(obj)`. To retain the old behaviour, you have to either modify the type 'Tensor', or assign to an empty array created with `np.empty(correct_shape, dtype=object)`.\n",
            "  array = numpy.asarray(array, order=order, dtype=dtype)\n",
            "/usr/local/lib/python3.10/dist-packages/sklearn/utils/_array_api.py:185: VisibleDeprecationWarning: Creating an ndarray from ragged nested sequences (which is a list-or-tuple of lists-or-tuples-or ndarrays with different lengths or shapes) is deprecated. If you meant to do this, you must specify 'dtype=object' when creating the ndarray.\n",
            "  array = numpy.asarray(array, order=order, dtype=dtype)\n"
          ]
        },
        {
          "output_type": "stream",
          "name": "stdout",
          "text": [
            "test\n",
            "epoch: 42 train_loss: 0.017818551665792864 train_acc: 93.73% train_f1: 90.34%\n"
          ]
        },
        {
          "output_type": "stream",
          "name": "stderr",
          "text": [
            "<ipython-input-2-3bb857ec729e>:44: UserWarning: To copy construct from a tensor, it is recommended to use sourceTensor.clone().detach() or sourceTensor.clone().detach().requires_grad_(True), rather than torch.tensor(sourceTensor).\n",
            "  'label': torch.tensor(self.label_list[item])\n",
            "/usr/local/lib/python3.10/dist-packages/sklearn/utils/_array_api.py:185: FutureWarning: The input object of type 'Tensor' is an array-like implementing one of the corresponding protocols (`__array__`, `__array_interface__` or `__array_struct__`); but not a sequence (or 0-D). In the future, this object will be coerced as if it was first converted using `np.array(obj)`. To retain the old behaviour, you have to either modify the type 'Tensor', or assign to an empty array created with `np.empty(correct_shape, dtype=object)`.\n",
            "  array = numpy.asarray(array, order=order, dtype=dtype)\n",
            "/usr/local/lib/python3.10/dist-packages/sklearn/utils/_array_api.py:185: VisibleDeprecationWarning: Creating an ndarray from ragged nested sequences (which is a list-or-tuple of lists-or-tuples-or ndarrays with different lengths or shapes) is deprecated. If you meant to do this, you must specify 'dtype=object' when creating the ndarray.\n",
            "  array = numpy.asarray(array, order=order, dtype=dtype)\n",
            "<ipython-input-2-3bb857ec729e>:44: UserWarning: To copy construct from a tensor, it is recommended to use sourceTensor.clone().detach() or sourceTensor.clone().detach().requires_grad_(True), rather than torch.tensor(sourceTensor).\n",
            "  'label': torch.tensor(self.label_list[item])\n"
          ]
        },
        {
          "output_type": "stream",
          "name": "stdout",
          "text": [
            "          val_loss: 0.13608871840617873 val_acc 77.01% val_f1: 64.02%\n",
            "TextRNN AUC =  0.8246507335391274\n",
            "Specificity =  0.8081023454157783\n",
            "Sensitivity =  0.681592039800995\n",
            "              precision    recall  f1-score   support\n",
            "\n",
            "         0.0     0.8555    0.8081    0.8311       469\n",
            "         1.0     0.6035    0.6816    0.6402       201\n",
            "\n",
            "    accuracy                         0.7701       670\n",
            "   macro avg     0.7295    0.7448    0.7357       670\n",
            "weighted avg     0.7799    0.7701    0.7739       670\n",
            "\n",
            "[INFO] Register count_lstm() for <class 'torch.nn.modules.rnn.LSTM'>.\n",
            "[INFO] Register count_linear() for <class 'torch.nn.modules.linear.Linear'>.\n",
            "[INFO] Register zero_ops() for <class 'torch.nn.modules.activation.ReLU'>.\n",
            "[INFO] Register zero_ops() for <class 'torch.nn.modules.container.Sequential'>.\n",
            "Flops: 72372860672.00\n",
            "MLOPS: 186.42\n",
            "epoch: 43 step: 0/42\n",
            "epoch: 43 step: 4/42\n",
            "epoch: 43 step: 8/42\n",
            "epoch: 43 step: 12/42\n",
            "epoch: 43 step: 16/42\n",
            "epoch: 43 step: 20/42\n",
            "epoch: 43 step: 24/42\n",
            "epoch: 43 step: 28/42\n",
            "epoch: 43 step: 32/42\n",
            "epoch: 43 step: 36/42\n",
            "epoch: 43 step: 40/42\n"
          ]
        },
        {
          "output_type": "stream",
          "name": "stderr",
          "text": [
            "/usr/local/lib/python3.10/dist-packages/sklearn/utils/_array_api.py:185: FutureWarning: The input object of type 'Tensor' is an array-like implementing one of the corresponding protocols (`__array__`, `__array_interface__` or `__array_struct__`); but not a sequence (or 0-D). In the future, this object will be coerced as if it was first converted using `np.array(obj)`. To retain the old behaviour, you have to either modify the type 'Tensor', or assign to an empty array created with `np.empty(correct_shape, dtype=object)`.\n",
            "  array = numpy.asarray(array, order=order, dtype=dtype)\n",
            "/usr/local/lib/python3.10/dist-packages/sklearn/utils/_array_api.py:185: VisibleDeprecationWarning: Creating an ndarray from ragged nested sequences (which is a list-or-tuple of lists-or-tuples-or ndarrays with different lengths or shapes) is deprecated. If you meant to do this, you must specify 'dtype=object' when creating the ndarray.\n",
            "  array = numpy.asarray(array, order=order, dtype=dtype)\n",
            "<ipython-input-2-3bb857ec729e>:44: UserWarning: To copy construct from a tensor, it is recommended to use sourceTensor.clone().detach() or sourceTensor.clone().detach().requires_grad_(True), rather than torch.tensor(sourceTensor).\n",
            "  'label': torch.tensor(self.label_list[item])\n"
          ]
        },
        {
          "output_type": "stream",
          "name": "stdout",
          "text": [
            "test\n",
            "epoch: 43 train_loss: 0.017924234869756868 train_acc: 92.28% train_f1: 88.53%\n"
          ]
        },
        {
          "output_type": "stream",
          "name": "stderr",
          "text": [
            "/usr/local/lib/python3.10/dist-packages/sklearn/utils/_array_api.py:185: FutureWarning: The input object of type 'Tensor' is an array-like implementing one of the corresponding protocols (`__array__`, `__array_interface__` or `__array_struct__`); but not a sequence (or 0-D). In the future, this object will be coerced as if it was first converted using `np.array(obj)`. To retain the old behaviour, you have to either modify the type 'Tensor', or assign to an empty array created with `np.empty(correct_shape, dtype=object)`.\n",
            "  array = numpy.asarray(array, order=order, dtype=dtype)\n",
            "/usr/local/lib/python3.10/dist-packages/sklearn/utils/_array_api.py:185: VisibleDeprecationWarning: Creating an ndarray from ragged nested sequences (which is a list-or-tuple of lists-or-tuples-or ndarrays with different lengths or shapes) is deprecated. If you meant to do this, you must specify 'dtype=object' when creating the ndarray.\n",
            "  array = numpy.asarray(array, order=order, dtype=dtype)\n",
            "<ipython-input-2-3bb857ec729e>:44: UserWarning: To copy construct from a tensor, it is recommended to use sourceTensor.clone().detach() or sourceTensor.clone().detach().requires_grad_(True), rather than torch.tensor(sourceTensor).\n",
            "  'label': torch.tensor(self.label_list[item])\n"
          ]
        },
        {
          "output_type": "stream",
          "name": "stdout",
          "text": [
            "          val_loss: 0.12607420811598952 val_acc 76.72% val_f1: 65.79%\n",
            "TextRNN AUC =  0.8267404979367555\n",
            "Specificity =  0.7761194029850746\n",
            "Sensitivity =  0.746268656716418\n",
            "              precision    recall  f1-score   support\n",
            "\n",
            "         0.0     0.8771    0.7761    0.8235       469\n",
            "         1.0     0.5882    0.7463    0.6579       201\n",
            "\n",
            "    accuracy                         0.7672       670\n",
            "   macro avg     0.7327    0.7612    0.7407       670\n",
            "weighted avg     0.7904    0.7672    0.7738       670\n",
            "\n",
            "[INFO] Register count_lstm() for <class 'torch.nn.modules.rnn.LSTM'>.\n",
            "[INFO] Register count_linear() for <class 'torch.nn.modules.linear.Linear'>.\n",
            "[INFO] Register zero_ops() for <class 'torch.nn.modules.activation.ReLU'>.\n",
            "[INFO] Register zero_ops() for <class 'torch.nn.modules.container.Sequential'>.\n",
            "Flops: 72372860672.00\n",
            "MLOPS: 185.23\n",
            "epoch: 44 step: 0/42\n",
            "epoch: 44 step: 4/42\n",
            "epoch: 44 step: 8/42\n",
            "epoch: 44 step: 12/42\n",
            "epoch: 44 step: 16/42\n",
            "epoch: 44 step: 20/42\n",
            "epoch: 44 step: 24/42\n",
            "epoch: 44 step: 28/42\n",
            "epoch: 44 step: 32/42\n",
            "epoch: 44 step: 36/42\n",
            "epoch: 44 step: 40/42\n"
          ]
        },
        {
          "output_type": "stream",
          "name": "stderr",
          "text": [
            "/usr/local/lib/python3.10/dist-packages/sklearn/utils/_array_api.py:185: FutureWarning: The input object of type 'Tensor' is an array-like implementing one of the corresponding protocols (`__array__`, `__array_interface__` or `__array_struct__`); but not a sequence (or 0-D). In the future, this object will be coerced as if it was first converted using `np.array(obj)`. To retain the old behaviour, you have to either modify the type 'Tensor', or assign to an empty array created with `np.empty(correct_shape, dtype=object)`.\n",
            "  array = numpy.asarray(array, order=order, dtype=dtype)\n",
            "/usr/local/lib/python3.10/dist-packages/sklearn/utils/_array_api.py:185: VisibleDeprecationWarning: Creating an ndarray from ragged nested sequences (which is a list-or-tuple of lists-or-tuples-or ndarrays with different lengths or shapes) is deprecated. If you meant to do this, you must specify 'dtype=object' when creating the ndarray.\n",
            "  array = numpy.asarray(array, order=order, dtype=dtype)\n"
          ]
        },
        {
          "output_type": "stream",
          "name": "stdout",
          "text": [
            "test\n",
            "epoch: 44 train_loss: 0.017684292935189746 train_acc: 92.39% train_f1: 88.65%\n"
          ]
        },
        {
          "output_type": "stream",
          "name": "stderr",
          "text": [
            "<ipython-input-2-3bb857ec729e>:44: UserWarning: To copy construct from a tensor, it is recommended to use sourceTensor.clone().detach() or sourceTensor.clone().detach().requires_grad_(True), rather than torch.tensor(sourceTensor).\n",
            "  'label': torch.tensor(self.label_list[item])\n",
            "/usr/local/lib/python3.10/dist-packages/sklearn/utils/_array_api.py:185: FutureWarning: The input object of type 'Tensor' is an array-like implementing one of the corresponding protocols (`__array__`, `__array_interface__` or `__array_struct__`); but not a sequence (or 0-D). In the future, this object will be coerced as if it was first converted using `np.array(obj)`. To retain the old behaviour, you have to either modify the type 'Tensor', or assign to an empty array created with `np.empty(correct_shape, dtype=object)`.\n",
            "  array = numpy.asarray(array, order=order, dtype=dtype)\n",
            "/usr/local/lib/python3.10/dist-packages/sklearn/utils/_array_api.py:185: VisibleDeprecationWarning: Creating an ndarray from ragged nested sequences (which is a list-or-tuple of lists-or-tuples-or ndarrays with different lengths or shapes) is deprecated. If you meant to do this, you must specify 'dtype=object' when creating the ndarray.\n",
            "  array = numpy.asarray(array, order=order, dtype=dtype)\n",
            "<ipython-input-2-3bb857ec729e>:44: UserWarning: To copy construct from a tensor, it is recommended to use sourceTensor.clone().detach() or sourceTensor.clone().detach().requires_grad_(True), rather than torch.tensor(sourceTensor).\n",
            "  'label': torch.tensor(self.label_list[item])\n"
          ]
        },
        {
          "output_type": "stream",
          "name": "stdout",
          "text": [
            "          val_loss: 0.12056377936493266 val_acc 76.42% val_f1: 65.50%\n",
            "TextRNN AUC =  0.8213834876788764\n",
            "Specificity =  0.7718550106609808\n",
            "Sensitivity =  0.746268656716418\n",
            "              precision    recall  f1-score   support\n",
            "\n",
            "         0.0     0.8765    0.7719    0.8209       469\n",
            "         1.0     0.5837    0.7463    0.6550       201\n",
            "\n",
            "    accuracy                         0.7642       670\n",
            "   macro avg     0.7301    0.7591    0.7379       670\n",
            "weighted avg     0.7887    0.7642    0.7711       670\n",
            "\n",
            "[INFO] Register count_lstm() for <class 'torch.nn.modules.rnn.LSTM'>.\n",
            "[INFO] Register count_linear() for <class 'torch.nn.modules.linear.Linear'>.\n",
            "[INFO] Register zero_ops() for <class 'torch.nn.modules.activation.ReLU'>.\n",
            "[INFO] Register zero_ops() for <class 'torch.nn.modules.container.Sequential'>.\n",
            "Flops: 72372860672.00\n",
            "MLOPS: 185.43\n",
            "epoch: 45 step: 0/42\n",
            "epoch: 45 step: 4/42\n",
            "epoch: 45 step: 8/42\n",
            "epoch: 45 step: 12/42\n",
            "epoch: 45 step: 16/42\n",
            "epoch: 45 step: 20/42\n",
            "epoch: 45 step: 24/42\n",
            "epoch: 45 step: 28/42\n",
            "epoch: 45 step: 32/42\n",
            "epoch: 45 step: 36/42\n",
            "epoch: 45 step: 40/42\n"
          ]
        },
        {
          "output_type": "stream",
          "name": "stderr",
          "text": [
            "/usr/local/lib/python3.10/dist-packages/sklearn/utils/_array_api.py:185: FutureWarning: The input object of type 'Tensor' is an array-like implementing one of the corresponding protocols (`__array__`, `__array_interface__` or `__array_struct__`); but not a sequence (or 0-D). In the future, this object will be coerced as if it was first converted using `np.array(obj)`. To retain the old behaviour, you have to either modify the type 'Tensor', or assign to an empty array created with `np.empty(correct_shape, dtype=object)`.\n",
            "  array = numpy.asarray(array, order=order, dtype=dtype)\n",
            "/usr/local/lib/python3.10/dist-packages/sklearn/utils/_array_api.py:185: VisibleDeprecationWarning: Creating an ndarray from ragged nested sequences (which is a list-or-tuple of lists-or-tuples-or ndarrays with different lengths or shapes) is deprecated. If you meant to do this, you must specify 'dtype=object' when creating the ndarray.\n",
            "  array = numpy.asarray(array, order=order, dtype=dtype)\n",
            "<ipython-input-2-3bb857ec729e>:44: UserWarning: To copy construct from a tensor, it is recommended to use sourceTensor.clone().detach() or sourceTensor.clone().detach().requires_grad_(True), rather than torch.tensor(sourceTensor).\n",
            "  'label': torch.tensor(self.label_list[item])\n"
          ]
        },
        {
          "output_type": "stream",
          "name": "stdout",
          "text": [
            "test\n",
            "epoch: 45 train_loss: 0.017575109532723825 train_acc: 94.18% train_f1: 90.85%\n"
          ]
        },
        {
          "output_type": "stream",
          "name": "stderr",
          "text": [
            "/usr/local/lib/python3.10/dist-packages/sklearn/utils/_array_api.py:185: FutureWarning: The input object of type 'Tensor' is an array-like implementing one of the corresponding protocols (`__array__`, `__array_interface__` or `__array_struct__`); but not a sequence (or 0-D). In the future, this object will be coerced as if it was first converted using `np.array(obj)`. To retain the old behaviour, you have to either modify the type 'Tensor', or assign to an empty array created with `np.empty(correct_shape, dtype=object)`.\n",
            "  array = numpy.asarray(array, order=order, dtype=dtype)\n",
            "/usr/local/lib/python3.10/dist-packages/sklearn/utils/_array_api.py:185: VisibleDeprecationWarning: Creating an ndarray from ragged nested sequences (which is a list-or-tuple of lists-or-tuples-or ndarrays with different lengths or shapes) is deprecated. If you meant to do this, you must specify 'dtype=object' when creating the ndarray.\n",
            "  array = numpy.asarray(array, order=order, dtype=dtype)\n"
          ]
        },
        {
          "output_type": "stream",
          "name": "stdout",
          "text": [
            "          val_loss: 0.11914246122945439 val_acc 76.87% val_f1: 62.65%\n",
            "TextRNN AUC =  0.8188694056370598\n",
            "Specificity =  0.8208955223880597\n",
            "Sensitivity =  0.6467661691542289\n",
            "              precision    recall  f1-score   support\n",
            "\n",
            "         0.0     0.8443    0.8209    0.8324       469\n",
            "         1.0     0.6075    0.6468    0.6265       201\n",
            "\n",
            "    accuracy                         0.7687       670\n",
            "   macro avg     0.7259    0.7338    0.7295       670\n",
            "weighted avg     0.7733    0.7687    0.7707       670\n",
            "\n",
            "[INFO] Register count_lstm() for <class 'torch.nn.modules.rnn.LSTM'>.\n",
            "[INFO] Register count_linear() for <class 'torch.nn.modules.linear.Linear'>.\n",
            "[INFO] Register zero_ops() for <class 'torch.nn.modules.activation.ReLU'>.\n",
            "[INFO] Register zero_ops() for <class 'torch.nn.modules.container.Sequential'>.\n",
            "Flops: 72372860672.00\n",
            "MLOPS: 185.91\n"
          ]
        },
        {
          "output_type": "stream",
          "name": "stderr",
          "text": [
            "<ipython-input-2-3bb857ec729e>:44: UserWarning: To copy construct from a tensor, it is recommended to use sourceTensor.clone().detach() or sourceTensor.clone().detach().requires_grad_(True), rather than torch.tensor(sourceTensor).\n",
            "  'label': torch.tensor(self.label_list[item])\n"
          ]
        },
        {
          "output_type": "stream",
          "name": "stdout",
          "text": [
            "epoch: 46 step: 0/42\n",
            "epoch: 46 step: 4/42\n",
            "epoch: 46 step: 8/42\n",
            "epoch: 46 step: 12/42\n",
            "epoch: 46 step: 16/42\n",
            "epoch: 46 step: 20/42\n",
            "epoch: 46 step: 24/42\n",
            "epoch: 46 step: 28/42\n",
            "epoch: 46 step: 32/42\n",
            "epoch: 46 step: 36/42\n",
            "epoch: 46 step: 40/42\n"
          ]
        },
        {
          "output_type": "stream",
          "name": "stderr",
          "text": [
            "/usr/local/lib/python3.10/dist-packages/sklearn/utils/_array_api.py:185: FutureWarning: The input object of type 'Tensor' is an array-like implementing one of the corresponding protocols (`__array__`, `__array_interface__` or `__array_struct__`); but not a sequence (or 0-D). In the future, this object will be coerced as if it was first converted using `np.array(obj)`. To retain the old behaviour, you have to either modify the type 'Tensor', or assign to an empty array created with `np.empty(correct_shape, dtype=object)`.\n",
            "  array = numpy.asarray(array, order=order, dtype=dtype)\n",
            "/usr/local/lib/python3.10/dist-packages/sklearn/utils/_array_api.py:185: VisibleDeprecationWarning: Creating an ndarray from ragged nested sequences (which is a list-or-tuple of lists-or-tuples-or ndarrays with different lengths or shapes) is deprecated. If you meant to do this, you must specify 'dtype=object' when creating the ndarray.\n",
            "  array = numpy.asarray(array, order=order, dtype=dtype)\n",
            "<ipython-input-2-3bb857ec729e>:44: UserWarning: To copy construct from a tensor, it is recommended to use sourceTensor.clone().detach() or sourceTensor.clone().detach().requires_grad_(True), rather than torch.tensor(sourceTensor).\n",
            "  'label': torch.tensor(self.label_list[item])\n"
          ]
        },
        {
          "output_type": "stream",
          "name": "stdout",
          "text": [
            "test\n",
            "epoch: 46 train_loss: 0.014473151105145613 train_acc: 95.11% train_f1: 92.41%\n"
          ]
        },
        {
          "output_type": "stream",
          "name": "stderr",
          "text": [
            "/usr/local/lib/python3.10/dist-packages/sklearn/utils/_array_api.py:185: FutureWarning: The input object of type 'Tensor' is an array-like implementing one of the corresponding protocols (`__array__`, `__array_interface__` or `__array_struct__`); but not a sequence (or 0-D). In the future, this object will be coerced as if it was first converted using `np.array(obj)`. To retain the old behaviour, you have to either modify the type 'Tensor', or assign to an empty array created with `np.empty(correct_shape, dtype=object)`.\n",
            "  array = numpy.asarray(array, order=order, dtype=dtype)\n",
            "/usr/local/lib/python3.10/dist-packages/sklearn/utils/_array_api.py:185: VisibleDeprecationWarning: Creating an ndarray from ragged nested sequences (which is a list-or-tuple of lists-or-tuples-or ndarrays with different lengths or shapes) is deprecated. If you meant to do this, you must specify 'dtype=object' when creating the ndarray.\n",
            "  array = numpy.asarray(array, order=order, dtype=dtype)\n",
            "<ipython-input-2-3bb857ec729e>:44: UserWarning: To copy construct from a tensor, it is recommended to use sourceTensor.clone().detach() or sourceTensor.clone().detach().requires_grad_(True), rather than torch.tensor(sourceTensor).\n",
            "  'label': torch.tensor(self.label_list[item])\n"
          ]
        },
        {
          "output_type": "stream",
          "name": "stdout",
          "text": [
            "          val_loss: 0.1630862307819453 val_acc 76.57% val_f1: 62.35%\n",
            "TextRNN AUC =  0.8243855350115096\n",
            "Specificity =  0.8166311300639659\n",
            "Sensitivity =  0.6467661691542289\n",
            "              precision    recall  f1-score   support\n",
            "\n",
            "         0.0     0.8436    0.8166    0.8299       469\n",
            "         1.0     0.6019    0.6468    0.6235       201\n",
            "\n",
            "    accuracy                         0.7657       670\n",
            "   macro avg     0.7227    0.7317    0.7267       670\n",
            "weighted avg     0.7711    0.7657    0.7680       670\n",
            "\n",
            "[INFO] Register count_lstm() for <class 'torch.nn.modules.rnn.LSTM'>.\n",
            "[INFO] Register count_linear() for <class 'torch.nn.modules.linear.Linear'>.\n",
            "[INFO] Register zero_ops() for <class 'torch.nn.modules.activation.ReLU'>.\n",
            "[INFO] Register zero_ops() for <class 'torch.nn.modules.container.Sequential'>.\n",
            "Flops: 72372860672.00\n",
            "MLOPS: 183.53\n",
            "epoch: 47 step: 0/42\n",
            "epoch: 47 step: 4/42\n",
            "epoch: 47 step: 8/42\n",
            "epoch: 47 step: 12/42\n",
            "epoch: 47 step: 16/42\n",
            "epoch: 47 step: 20/42\n",
            "epoch: 47 step: 24/42\n",
            "epoch: 47 step: 28/42\n",
            "epoch: 47 step: 32/42\n",
            "epoch: 47 step: 36/42\n",
            "epoch: 47 step: 40/42\n"
          ]
        },
        {
          "output_type": "stream",
          "name": "stderr",
          "text": [
            "/usr/local/lib/python3.10/dist-packages/sklearn/utils/_array_api.py:185: FutureWarning: The input object of type 'Tensor' is an array-like implementing one of the corresponding protocols (`__array__`, `__array_interface__` or `__array_struct__`); but not a sequence (or 0-D). In the future, this object will be coerced as if it was first converted using `np.array(obj)`. To retain the old behaviour, you have to either modify the type 'Tensor', or assign to an empty array created with `np.empty(correct_shape, dtype=object)`.\n",
            "  array = numpy.asarray(array, order=order, dtype=dtype)\n",
            "/usr/local/lib/python3.10/dist-packages/sklearn/utils/_array_api.py:185: VisibleDeprecationWarning: Creating an ndarray from ragged nested sequences (which is a list-or-tuple of lists-or-tuples-or ndarrays with different lengths or shapes) is deprecated. If you meant to do this, you must specify 'dtype=object' when creating the ndarray.\n",
            "  array = numpy.asarray(array, order=order, dtype=dtype)\n",
            "<ipython-input-2-3bb857ec729e>:44: UserWarning: To copy construct from a tensor, it is recommended to use sourceTensor.clone().detach() or sourceTensor.clone().detach().requires_grad_(True), rather than torch.tensor(sourceTensor).\n",
            "  'label': torch.tensor(self.label_list[item])\n"
          ]
        },
        {
          "output_type": "stream",
          "name": "stdout",
          "text": [
            "test\n",
            "epoch: 47 train_loss: 0.016382331970990413 train_acc: 95.04% train_f1: 92.00%\n"
          ]
        },
        {
          "output_type": "stream",
          "name": "stderr",
          "text": [
            "/usr/local/lib/python3.10/dist-packages/sklearn/utils/_array_api.py:185: FutureWarning: The input object of type 'Tensor' is an array-like implementing one of the corresponding protocols (`__array__`, `__array_interface__` or `__array_struct__`); but not a sequence (or 0-D). In the future, this object will be coerced as if it was first converted using `np.array(obj)`. To retain the old behaviour, you have to either modify the type 'Tensor', or assign to an empty array created with `np.empty(correct_shape, dtype=object)`.\n",
            "  array = numpy.asarray(array, order=order, dtype=dtype)\n",
            "/usr/local/lib/python3.10/dist-packages/sklearn/utils/_array_api.py:185: VisibleDeprecationWarning: Creating an ndarray from ragged nested sequences (which is a list-or-tuple of lists-or-tuples-or ndarrays with different lengths or shapes) is deprecated. If you meant to do this, you must specify 'dtype=object' when creating the ndarray.\n",
            "  array = numpy.asarray(array, order=order, dtype=dtype)\n",
            "<ipython-input-2-3bb857ec729e>:44: UserWarning: To copy construct from a tensor, it is recommended to use sourceTensor.clone().detach() or sourceTensor.clone().detach().requires_grad_(True), rather than torch.tensor(sourceTensor).\n",
            "  'label': torch.tensor(self.label_list[item])\n"
          ]
        },
        {
          "output_type": "stream",
          "name": "stdout",
          "text": [
            "          val_loss: 0.20558045330372723 val_acc 77.61% val_f1: 61.14%\n",
            "TextRNN AUC =  0.8239718253084258\n",
            "Specificity =  0.8571428571428571\n",
            "Sensitivity =  0.5870646766169154\n",
            "              precision    recall  f1-score   support\n",
            "\n",
            "         0.0     0.8289    0.8571    0.8428       469\n",
            "         1.0     0.6378    0.5871    0.6114       201\n",
            "\n",
            "    accuracy                         0.7761       670\n",
            "   macro avg     0.7334    0.7221    0.7271       670\n",
            "weighted avg     0.7716    0.7761    0.7734       670\n",
            "\n",
            "[INFO] Register count_lstm() for <class 'torch.nn.modules.rnn.LSTM'>.\n",
            "[INFO] Register count_linear() for <class 'torch.nn.modules.linear.Linear'>.\n",
            "[INFO] Register zero_ops() for <class 'torch.nn.modules.activation.ReLU'>.\n",
            "[INFO] Register zero_ops() for <class 'torch.nn.modules.container.Sequential'>.\n",
            "Flops: 72372860672.00\n",
            "MLOPS: 185.42\n",
            "epoch: 48 step: 0/42\n",
            "epoch: 48 step: 4/42\n",
            "epoch: 48 step: 8/42\n",
            "epoch: 48 step: 12/42\n",
            "epoch: 48 step: 16/42\n",
            "epoch: 48 step: 20/42\n",
            "epoch: 48 step: 24/42\n",
            "epoch: 48 step: 28/42\n",
            "epoch: 48 step: 32/42\n",
            "epoch: 48 step: 36/42\n",
            "epoch: 48 step: 40/42\n"
          ]
        },
        {
          "output_type": "stream",
          "name": "stderr",
          "text": [
            "/usr/local/lib/python3.10/dist-packages/sklearn/utils/_array_api.py:185: FutureWarning: The input object of type 'Tensor' is an array-like implementing one of the corresponding protocols (`__array__`, `__array_interface__` or `__array_struct__`); but not a sequence (or 0-D). In the future, this object will be coerced as if it was first converted using `np.array(obj)`. To retain the old behaviour, you have to either modify the type 'Tensor', or assign to an empty array created with `np.empty(correct_shape, dtype=object)`.\n",
            "  array = numpy.asarray(array, order=order, dtype=dtype)\n",
            "/usr/local/lib/python3.10/dist-packages/sklearn/utils/_array_api.py:185: VisibleDeprecationWarning: Creating an ndarray from ragged nested sequences (which is a list-or-tuple of lists-or-tuples-or ndarrays with different lengths or shapes) is deprecated. If you meant to do this, you must specify 'dtype=object' when creating the ndarray.\n",
            "  array = numpy.asarray(array, order=order, dtype=dtype)\n"
          ]
        },
        {
          "output_type": "stream",
          "name": "stdout",
          "text": [
            "test\n",
            "epoch: 48 train_loss: 0.014049736383770193 train_acc: 94.37% train_f1: 91.38%\n"
          ]
        },
        {
          "output_type": "stream",
          "name": "stderr",
          "text": [
            "<ipython-input-2-3bb857ec729e>:44: UserWarning: To copy construct from a tensor, it is recommended to use sourceTensor.clone().detach() or sourceTensor.clone().detach().requires_grad_(True), rather than torch.tensor(sourceTensor).\n",
            "  'label': torch.tensor(self.label_list[item])\n",
            "/usr/local/lib/python3.10/dist-packages/sklearn/utils/_array_api.py:185: FutureWarning: The input object of type 'Tensor' is an array-like implementing one of the corresponding protocols (`__array__`, `__array_interface__` or `__array_struct__`); but not a sequence (or 0-D). In the future, this object will be coerced as if it was first converted using `np.array(obj)`. To retain the old behaviour, you have to either modify the type 'Tensor', or assign to an empty array created with `np.empty(correct_shape, dtype=object)`.\n",
            "  array = numpy.asarray(array, order=order, dtype=dtype)\n",
            "/usr/local/lib/python3.10/dist-packages/sklearn/utils/_array_api.py:185: VisibleDeprecationWarning: Creating an ndarray from ragged nested sequences (which is a list-or-tuple of lists-or-tuples-or ndarrays with different lengths or shapes) is deprecated. If you meant to do this, you must specify 'dtype=object' when creating the ndarray.\n",
            "  array = numpy.asarray(array, order=order, dtype=dtype)\n",
            "<ipython-input-2-3bb857ec729e>:44: UserWarning: To copy construct from a tensor, it is recommended to use sourceTensor.clone().detach() or sourceTensor.clone().detach().requires_grad_(True), rather than torch.tensor(sourceTensor).\n",
            "  'label': torch.tensor(self.label_list[item])\n"
          ]
        },
        {
          "output_type": "stream",
          "name": "stdout",
          "text": [
            "          val_loss: 0.13900967213240537 val_acc 76.72% val_f1: 65.18%\n",
            "TextRNN AUC =  0.8247780288323839\n",
            "Specificity =  0.7846481876332623\n",
            "Sensitivity =  0.7263681592039801\n",
            "              precision    recall  f1-score   support\n",
            "\n",
            "         0.0     0.8700    0.7846    0.8251       469\n",
            "         1.0     0.5911    0.7264    0.6518       201\n",
            "\n",
            "    accuracy                         0.7672       670\n",
            "   macro avg     0.7305    0.7555    0.7384       670\n",
            "weighted avg     0.7863    0.7672    0.7731       670\n",
            "\n",
            "[INFO] Register count_lstm() for <class 'torch.nn.modules.rnn.LSTM'>.\n",
            "[INFO] Register count_linear() for <class 'torch.nn.modules.linear.Linear'>.\n",
            "[INFO] Register zero_ops() for <class 'torch.nn.modules.activation.ReLU'>.\n",
            "[INFO] Register zero_ops() for <class 'torch.nn.modules.container.Sequential'>.\n",
            "Flops: 72372860672.00\n",
            "MLOPS: 186.19\n",
            "epoch: 49 step: 0/42\n",
            "epoch: 49 step: 4/42\n",
            "epoch: 49 step: 8/42\n",
            "epoch: 49 step: 12/42\n",
            "epoch: 49 step: 16/42\n",
            "epoch: 49 step: 20/42\n",
            "epoch: 49 step: 24/42\n",
            "epoch: 49 step: 28/42\n",
            "epoch: 49 step: 32/42\n",
            "epoch: 49 step: 36/42\n",
            "epoch: 49 step: 40/42\n"
          ]
        },
        {
          "output_type": "stream",
          "name": "stderr",
          "text": [
            "/usr/local/lib/python3.10/dist-packages/sklearn/utils/_array_api.py:185: FutureWarning: The input object of type 'Tensor' is an array-like implementing one of the corresponding protocols (`__array__`, `__array_interface__` or `__array_struct__`); but not a sequence (or 0-D). In the future, this object will be coerced as if it was first converted using `np.array(obj)`. To retain the old behaviour, you have to either modify the type 'Tensor', or assign to an empty array created with `np.empty(correct_shape, dtype=object)`.\n",
            "  array = numpy.asarray(array, order=order, dtype=dtype)\n",
            "/usr/local/lib/python3.10/dist-packages/sklearn/utils/_array_api.py:185: VisibleDeprecationWarning: Creating an ndarray from ragged nested sequences (which is a list-or-tuple of lists-or-tuples-or ndarrays with different lengths or shapes) is deprecated. If you meant to do this, you must specify 'dtype=object' when creating the ndarray.\n",
            "  array = numpy.asarray(array, order=order, dtype=dtype)\n",
            "<ipython-input-2-3bb857ec729e>:44: UserWarning: To copy construct from a tensor, it is recommended to use sourceTensor.clone().detach() or sourceTensor.clone().detach().requires_grad_(True), rather than torch.tensor(sourceTensor).\n",
            "  'label': torch.tensor(self.label_list[item])\n"
          ]
        },
        {
          "output_type": "stream",
          "name": "stdout",
          "text": [
            "test\n",
            "epoch: 49 train_loss: 0.014572017438088855 train_acc: 92.99% train_f1: 89.52%\n"
          ]
        },
        {
          "output_type": "stream",
          "name": "stderr",
          "text": [
            "/usr/local/lib/python3.10/dist-packages/sklearn/utils/_array_api.py:185: FutureWarning: The input object of type 'Tensor' is an array-like implementing one of the corresponding protocols (`__array__`, `__array_interface__` or `__array_struct__`); but not a sequence (or 0-D). In the future, this object will be coerced as if it was first converted using `np.array(obj)`. To retain the old behaviour, you have to either modify the type 'Tensor', or assign to an empty array created with `np.empty(correct_shape, dtype=object)`.\n",
            "  array = numpy.asarray(array, order=order, dtype=dtype)\n",
            "/usr/local/lib/python3.10/dist-packages/sklearn/utils/_array_api.py:185: VisibleDeprecationWarning: Creating an ndarray from ragged nested sequences (which is a list-or-tuple of lists-or-tuples-or ndarrays with different lengths or shapes) is deprecated. If you meant to do this, you must specify 'dtype=object' when creating the ndarray.\n",
            "  array = numpy.asarray(array, order=order, dtype=dtype)\n",
            "<ipython-input-2-3bb857ec729e>:44: UserWarning: To copy construct from a tensor, it is recommended to use sourceTensor.clone().detach() or sourceTensor.clone().detach().requires_grad_(True), rather than torch.tensor(sourceTensor).\n",
            "  'label': torch.tensor(self.label_list[item])\n"
          ]
        },
        {
          "output_type": "stream",
          "name": "stdout",
          "text": [
            "          val_loss: 0.14806956662373108 val_acc 75.97% val_f1: 64.92%\n",
            "TextRNN AUC =  0.8228898153157455\n",
            "Specificity =  0.767590618336887\n",
            "Sensitivity =  0.7412935323383084\n",
            "              precision    recall  f1-score   support\n",
            "\n",
            "         0.0     0.8738    0.7676    0.8173       469\n",
            "         1.0     0.5775    0.7413    0.6492       201\n",
            "\n",
            "    accuracy                         0.7597       670\n",
            "   macro avg     0.7257    0.7544    0.7332       670\n",
            "weighted avg     0.7849    0.7597    0.7668       670\n",
            "\n",
            "[INFO] Register count_lstm() for <class 'torch.nn.modules.rnn.LSTM'>.\n",
            "[INFO] Register count_linear() for <class 'torch.nn.modules.linear.Linear'>.\n",
            "[INFO] Register zero_ops() for <class 'torch.nn.modules.activation.ReLU'>.\n",
            "[INFO] Register zero_ops() for <class 'torch.nn.modules.container.Sequential'>.\n",
            "Flops: 72372860672.00\n",
            "MLOPS: 186.48\n",
            "epoch: 50 step: 0/42\n",
            "epoch: 50 step: 4/42\n",
            "epoch: 50 step: 8/42\n",
            "epoch: 50 step: 12/42\n",
            "epoch: 50 step: 16/42\n",
            "epoch: 50 step: 20/42\n",
            "epoch: 50 step: 24/42\n",
            "epoch: 50 step: 28/42\n",
            "epoch: 50 step: 32/42\n",
            "epoch: 50 step: 36/42\n",
            "epoch: 50 step: 40/42\n"
          ]
        },
        {
          "output_type": "stream",
          "name": "stderr",
          "text": [
            "/usr/local/lib/python3.10/dist-packages/sklearn/utils/_array_api.py:185: FutureWarning: The input object of type 'Tensor' is an array-like implementing one of the corresponding protocols (`__array__`, `__array_interface__` or `__array_struct__`); but not a sequence (or 0-D). In the future, this object will be coerced as if it was first converted using `np.array(obj)`. To retain the old behaviour, you have to either modify the type 'Tensor', or assign to an empty array created with `np.empty(correct_shape, dtype=object)`.\n",
            "  array = numpy.asarray(array, order=order, dtype=dtype)\n",
            "/usr/local/lib/python3.10/dist-packages/sklearn/utils/_array_api.py:185: VisibleDeprecationWarning: Creating an ndarray from ragged nested sequences (which is a list-or-tuple of lists-or-tuples-or ndarrays with different lengths or shapes) is deprecated. If you meant to do this, you must specify 'dtype=object' when creating the ndarray.\n",
            "  array = numpy.asarray(array, order=order, dtype=dtype)\n",
            "<ipython-input-2-3bb857ec729e>:44: UserWarning: To copy construct from a tensor, it is recommended to use sourceTensor.clone().detach() or sourceTensor.clone().detach().requires_grad_(True), rather than torch.tensor(sourceTensor).\n",
            "  'label': torch.tensor(self.label_list[item])\n"
          ]
        },
        {
          "output_type": "stream",
          "name": "stdout",
          "text": [
            "test\n",
            "epoch: 50 train_loss: 0.01137844581223492 train_acc: 96.08% train_f1: 93.84%\n"
          ]
        },
        {
          "output_type": "stream",
          "name": "stderr",
          "text": [
            "/usr/local/lib/python3.10/dist-packages/sklearn/utils/_array_api.py:185: FutureWarning: The input object of type 'Tensor' is an array-like implementing one of the corresponding protocols (`__array__`, `__array_interface__` or `__array_struct__`); but not a sequence (or 0-D). In the future, this object will be coerced as if it was first converted using `np.array(obj)`. To retain the old behaviour, you have to either modify the type 'Tensor', or assign to an empty array created with `np.empty(correct_shape, dtype=object)`.\n",
            "  array = numpy.asarray(array, order=order, dtype=dtype)\n",
            "/usr/local/lib/python3.10/dist-packages/sklearn/utils/_array_api.py:185: VisibleDeprecationWarning: Creating an ndarray from ragged nested sequences (which is a list-or-tuple of lists-or-tuples-or ndarrays with different lengths or shapes) is deprecated. If you meant to do this, you must specify 'dtype=object' when creating the ndarray.\n",
            "  array = numpy.asarray(array, order=order, dtype=dtype)\n",
            "<ipython-input-2-3bb857ec729e>:44: UserWarning: To copy construct from a tensor, it is recommended to use sourceTensor.clone().detach() or sourceTensor.clone().detach().requires_grad_(True), rather than torch.tensor(sourceTensor).\n",
            "  'label': torch.tensor(self.label_list[item])\n"
          ]
        },
        {
          "output_type": "stream",
          "name": "stdout",
          "text": [
            "          val_loss: 0.1928148872473023 val_acc 77.01% val_f1: 62.44%\n",
            "TextRNN AUC =  0.8277906841061219\n",
            "Specificity =  0.8272921108742004\n",
            "Sensitivity =  0.6368159203980099\n",
            "              precision    recall  f1-score   support\n",
            "\n",
            "         0.0     0.8416    0.8273    0.8344       469\n",
            "         1.0     0.6124    0.6368    0.6244       201\n",
            "\n",
            "    accuracy                         0.7701       670\n",
            "   macro avg     0.7270    0.7321    0.7294       670\n",
            "weighted avg     0.7729    0.7701    0.7714       670\n",
            "\n",
            "[INFO] Register count_lstm() for <class 'torch.nn.modules.rnn.LSTM'>.\n",
            "[INFO] Register count_linear() for <class 'torch.nn.modules.linear.Linear'>.\n",
            "[INFO] Register zero_ops() for <class 'torch.nn.modules.activation.ReLU'>.\n",
            "[INFO] Register zero_ops() for <class 'torch.nn.modules.container.Sequential'>.\n",
            "Flops: 72372860672.00\n",
            "MLOPS: 184.39\n",
            "epoch: 51 step: 0/42\n",
            "epoch: 51 step: 4/42\n",
            "epoch: 51 step: 8/42\n",
            "epoch: 51 step: 12/42\n",
            "epoch: 51 step: 16/42\n",
            "epoch: 51 step: 20/42\n",
            "epoch: 51 step: 24/42\n",
            "epoch: 51 step: 28/42\n",
            "epoch: 51 step: 32/42\n",
            "epoch: 51 step: 36/42\n",
            "epoch: 51 step: 40/42\n"
          ]
        },
        {
          "output_type": "stream",
          "name": "stderr",
          "text": [
            "/usr/local/lib/python3.10/dist-packages/sklearn/utils/_array_api.py:185: FutureWarning: The input object of type 'Tensor' is an array-like implementing one of the corresponding protocols (`__array__`, `__array_interface__` or `__array_struct__`); but not a sequence (or 0-D). In the future, this object will be coerced as if it was first converted using `np.array(obj)`. To retain the old behaviour, you have to either modify the type 'Tensor', or assign to an empty array created with `np.empty(correct_shape, dtype=object)`.\n",
            "  array = numpy.asarray(array, order=order, dtype=dtype)\n",
            "/usr/local/lib/python3.10/dist-packages/sklearn/utils/_array_api.py:185: VisibleDeprecationWarning: Creating an ndarray from ragged nested sequences (which is a list-or-tuple of lists-or-tuples-or ndarrays with different lengths or shapes) is deprecated. If you meant to do this, you must specify 'dtype=object' when creating the ndarray.\n",
            "  array = numpy.asarray(array, order=order, dtype=dtype)\n",
            "<ipython-input-2-3bb857ec729e>:44: UserWarning: To copy construct from a tensor, it is recommended to use sourceTensor.clone().detach() or sourceTensor.clone().detach().requires_grad_(True), rather than torch.tensor(sourceTensor).\n",
            "  'label': torch.tensor(self.label_list[item])\n"
          ]
        },
        {
          "output_type": "stream",
          "name": "stdout",
          "text": [
            "test\n",
            "epoch: 51 train_loss: 0.011621893705090596 train_acc: 95.19% train_f1: 92.55%\n"
          ]
        },
        {
          "output_type": "stream",
          "name": "stderr",
          "text": [
            "/usr/local/lib/python3.10/dist-packages/sklearn/utils/_array_api.py:185: FutureWarning: The input object of type 'Tensor' is an array-like implementing one of the corresponding protocols (`__array__`, `__array_interface__` or `__array_struct__`); but not a sequence (or 0-D). In the future, this object will be coerced as if it was first converted using `np.array(obj)`. To retain the old behaviour, you have to either modify the type 'Tensor', or assign to an empty array created with `np.empty(correct_shape, dtype=object)`.\n",
            "  array = numpy.asarray(array, order=order, dtype=dtype)\n",
            "/usr/local/lib/python3.10/dist-packages/sklearn/utils/_array_api.py:185: VisibleDeprecationWarning: Creating an ndarray from ragged nested sequences (which is a list-or-tuple of lists-or-tuples-or ndarrays with different lengths or shapes) is deprecated. If you meant to do this, you must specify 'dtype=object' when creating the ndarray.\n",
            "  array = numpy.asarray(array, order=order, dtype=dtype)\n",
            "<ipython-input-2-3bb857ec729e>:44: UserWarning: To copy construct from a tensor, it is recommended to use sourceTensor.clone().detach() or sourceTensor.clone().detach().requires_grad_(True), rather than torch.tensor(sourceTensor).\n",
            "  'label': torch.tensor(self.label_list[item])\n"
          ]
        },
        {
          "output_type": "stream",
          "name": "stdout",
          "text": [
            "          val_loss: 0.17474254762584512 val_acc 77.16% val_f1: 64.83%\n",
            "TextRNN AUC =  0.8265495549968707\n",
            "Specificity =  0.8017057569296375\n",
            "Sensitivity =  0.7014925373134329\n",
            "              precision    recall  f1-score   support\n",
            "\n",
            "         0.0     0.8624    0.8017    0.8309       469\n",
            "         1.0     0.6026    0.7015    0.6483       201\n",
            "\n",
            "    accuracy                         0.7716       670\n",
            "   macro avg     0.7325    0.7516    0.7396       670\n",
            "weighted avg     0.7844    0.7716    0.7761       670\n",
            "\n",
            "[INFO] Register count_lstm() for <class 'torch.nn.modules.rnn.LSTM'>.\n",
            "[INFO] Register count_linear() for <class 'torch.nn.modules.linear.Linear'>.\n",
            "[INFO] Register zero_ops() for <class 'torch.nn.modules.activation.ReLU'>.\n",
            "[INFO] Register zero_ops() for <class 'torch.nn.modules.container.Sequential'>.\n",
            "Flops: 72372860672.00\n",
            "MLOPS: 184.97\n",
            "epoch: 52 step: 0/42\n",
            "epoch: 52 step: 4/42\n",
            "epoch: 52 step: 8/42\n",
            "epoch: 52 step: 12/42\n",
            "epoch: 52 step: 16/42\n",
            "epoch: 52 step: 20/42\n",
            "epoch: 52 step: 24/42\n",
            "epoch: 52 step: 28/42\n",
            "epoch: 52 step: 32/42\n",
            "epoch: 52 step: 36/42\n",
            "epoch: 52 step: 40/42\n"
          ]
        },
        {
          "output_type": "stream",
          "name": "stderr",
          "text": [
            "/usr/local/lib/python3.10/dist-packages/sklearn/utils/_array_api.py:185: FutureWarning: The input object of type 'Tensor' is an array-like implementing one of the corresponding protocols (`__array__`, `__array_interface__` or `__array_struct__`); but not a sequence (or 0-D). In the future, this object will be coerced as if it was first converted using `np.array(obj)`. To retain the old behaviour, you have to either modify the type 'Tensor', or assign to an empty array created with `np.empty(correct_shape, dtype=object)`.\n",
            "  array = numpy.asarray(array, order=order, dtype=dtype)\n",
            "/usr/local/lib/python3.10/dist-packages/sklearn/utils/_array_api.py:185: VisibleDeprecationWarning: Creating an ndarray from ragged nested sequences (which is a list-or-tuple of lists-or-tuples-or ndarrays with different lengths or shapes) is deprecated. If you meant to do this, you must specify 'dtype=object' when creating the ndarray.\n",
            "  array = numpy.asarray(array, order=order, dtype=dtype)\n"
          ]
        },
        {
          "output_type": "stream",
          "name": "stdout",
          "text": [
            "test\n",
            "epoch: 52 train_loss: 0.010622859694108013 train_acc: 96.42% train_f1: 94.33%\n"
          ]
        },
        {
          "output_type": "stream",
          "name": "stderr",
          "text": [
            "<ipython-input-2-3bb857ec729e>:44: UserWarning: To copy construct from a tensor, it is recommended to use sourceTensor.clone().detach() or sourceTensor.clone().detach().requires_grad_(True), rather than torch.tensor(sourceTensor).\n",
            "  'label': torch.tensor(self.label_list[item])\n",
            "/usr/local/lib/python3.10/dist-packages/sklearn/utils/_array_api.py:185: FutureWarning: The input object of type 'Tensor' is an array-like implementing one of the corresponding protocols (`__array__`, `__array_interface__` or `__array_struct__`); but not a sequence (or 0-D). In the future, this object will be coerced as if it was first converted using `np.array(obj)`. To retain the old behaviour, you have to either modify the type 'Tensor', or assign to an empty array created with `np.empty(correct_shape, dtype=object)`.\n",
            "  array = numpy.asarray(array, order=order, dtype=dtype)\n",
            "/usr/local/lib/python3.10/dist-packages/sklearn/utils/_array_api.py:185: VisibleDeprecationWarning: Creating an ndarray from ragged nested sequences (which is a list-or-tuple of lists-or-tuples-or ndarrays with different lengths or shapes) is deprecated. If you meant to do this, you must specify 'dtype=object' when creating the ndarray.\n",
            "  array = numpy.asarray(array, order=order, dtype=dtype)\n"
          ]
        },
        {
          "output_type": "stream",
          "name": "stdout",
          "text": [
            "          val_loss: 0.19684190235354684 val_acc 76.57% val_f1: 61.23%\n",
            "TextRNN AUC =  0.827016304405478\n",
            "Specificity =  0.8294243070362474\n",
            "Sensitivity =  0.6169154228855721\n",
            "              precision    recall  f1-score   support\n",
            "\n",
            "         0.0     0.8348    0.8294    0.8321       469\n",
            "         1.0     0.6078    0.6169    0.6123       201\n",
            "\n",
            "    accuracy                         0.7657       670\n",
            "   macro avg     0.7213    0.7232    0.7222       670\n",
            "weighted avg     0.7667    0.7657    0.7662       670\n",
            "\n",
            "[INFO] Register count_lstm() for <class 'torch.nn.modules.rnn.LSTM'>.\n",
            "[INFO] Register count_linear() for <class 'torch.nn.modules.linear.Linear'>.\n",
            "[INFO] Register zero_ops() for <class 'torch.nn.modules.activation.ReLU'>.\n",
            "[INFO] Register zero_ops() for <class 'torch.nn.modules.container.Sequential'>.\n",
            "Flops: 72372860672.00\n",
            "MLOPS: 182.80\n"
          ]
        },
        {
          "output_type": "stream",
          "name": "stderr",
          "text": [
            "<ipython-input-2-3bb857ec729e>:44: UserWarning: To copy construct from a tensor, it is recommended to use sourceTensor.clone().detach() or sourceTensor.clone().detach().requires_grad_(True), rather than torch.tensor(sourceTensor).\n",
            "  'label': torch.tensor(self.label_list[item])\n"
          ]
        },
        {
          "output_type": "stream",
          "name": "stdout",
          "text": [
            "epoch: 53 step: 0/42\n",
            "epoch: 53 step: 4/42\n",
            "epoch: 53 step: 8/42\n",
            "epoch: 53 step: 12/42\n",
            "epoch: 53 step: 16/42\n",
            "epoch: 53 step: 20/42\n",
            "epoch: 53 step: 24/42\n",
            "epoch: 53 step: 28/42\n",
            "epoch: 53 step: 32/42\n",
            "epoch: 53 step: 36/42\n",
            "epoch: 53 step: 40/42\n"
          ]
        },
        {
          "output_type": "stream",
          "name": "stderr",
          "text": [
            "/usr/local/lib/python3.10/dist-packages/sklearn/utils/_array_api.py:185: FutureWarning: The input object of type 'Tensor' is an array-like implementing one of the corresponding protocols (`__array__`, `__array_interface__` or `__array_struct__`); but not a sequence (or 0-D). In the future, this object will be coerced as if it was first converted using `np.array(obj)`. To retain the old behaviour, you have to either modify the type 'Tensor', or assign to an empty array created with `np.empty(correct_shape, dtype=object)`.\n",
            "  array = numpy.asarray(array, order=order, dtype=dtype)\n",
            "/usr/local/lib/python3.10/dist-packages/sklearn/utils/_array_api.py:185: VisibleDeprecationWarning: Creating an ndarray from ragged nested sequences (which is a list-or-tuple of lists-or-tuples-or ndarrays with different lengths or shapes) is deprecated. If you meant to do this, you must specify 'dtype=object' when creating the ndarray.\n",
            "  array = numpy.asarray(array, order=order, dtype=dtype)\n",
            "<ipython-input-2-3bb857ec729e>:44: UserWarning: To copy construct from a tensor, it is recommended to use sourceTensor.clone().detach() or sourceTensor.clone().detach().requires_grad_(True), rather than torch.tensor(sourceTensor).\n",
            "  'label': torch.tensor(self.label_list[item])\n"
          ]
        },
        {
          "output_type": "stream",
          "name": "stdout",
          "text": [
            "test\n",
            "epoch: 53 train_loss: 0.009943504640389057 train_acc: 96.79% train_f1: 94.89%\n"
          ]
        },
        {
          "output_type": "stream",
          "name": "stderr",
          "text": [
            "/usr/local/lib/python3.10/dist-packages/sklearn/utils/_array_api.py:185: FutureWarning: The input object of type 'Tensor' is an array-like implementing one of the corresponding protocols (`__array__`, `__array_interface__` or `__array_struct__`); but not a sequence (or 0-D). In the future, this object will be coerced as if it was first converted using `np.array(obj)`. To retain the old behaviour, you have to either modify the type 'Tensor', or assign to an empty array created with `np.empty(correct_shape, dtype=object)`.\n",
            "  array = numpy.asarray(array, order=order, dtype=dtype)\n",
            "/usr/local/lib/python3.10/dist-packages/sklearn/utils/_array_api.py:185: VisibleDeprecationWarning: Creating an ndarray from ragged nested sequences (which is a list-or-tuple of lists-or-tuples-or ndarrays with different lengths or shapes) is deprecated. If you meant to do this, you must specify 'dtype=object' when creating the ndarray.\n",
            "  array = numpy.asarray(array, order=order, dtype=dtype)\n",
            "<ipython-input-2-3bb857ec729e>:44: UserWarning: To copy construct from a tensor, it is recommended to use sourceTensor.clone().detach() or sourceTensor.clone().detach().requires_grad_(True), rather than torch.tensor(sourceTensor).\n",
            "  'label': torch.tensor(self.label_list[item])\n"
          ]
        },
        {
          "output_type": "stream",
          "name": "stdout",
          "text": [
            "          val_loss: 0.18367228521542114 val_acc 77.01% val_f1: 62.98%\n",
            "TextRNN AUC =  0.8258069991195409\n",
            "Specificity =  0.8208955223880597\n",
            "Sensitivity =  0.6517412935323383\n",
            "              precision    recall  f1-score   support\n",
            "\n",
            "         0.0     0.8462    0.8209    0.8333       469\n",
            "         1.0     0.6093    0.6517    0.6298       201\n",
            "\n",
            "    accuracy                         0.7701       670\n",
            "   macro avg     0.7277    0.7363    0.7316       670\n",
            "weighted avg     0.7751    0.7701    0.7723       670\n",
            "\n",
            "[INFO] Register count_lstm() for <class 'torch.nn.modules.rnn.LSTM'>.\n",
            "[INFO] Register count_linear() for <class 'torch.nn.modules.linear.Linear'>.\n",
            "[INFO] Register zero_ops() for <class 'torch.nn.modules.activation.ReLU'>.\n",
            "[INFO] Register zero_ops() for <class 'torch.nn.modules.container.Sequential'>.\n",
            "Flops: 72372860672.00\n",
            "MLOPS: 187.18\n",
            "epoch: 54 step: 0/42\n",
            "epoch: 54 step: 4/42\n",
            "epoch: 54 step: 8/42\n",
            "epoch: 54 step: 12/42\n",
            "epoch: 54 step: 16/42\n",
            "epoch: 54 step: 20/42\n",
            "epoch: 54 step: 24/42\n",
            "epoch: 54 step: 28/42\n",
            "epoch: 54 step: 32/42\n",
            "epoch: 54 step: 36/42\n",
            "epoch: 54 step: 40/42\n"
          ]
        },
        {
          "output_type": "stream",
          "name": "stderr",
          "text": [
            "/usr/local/lib/python3.10/dist-packages/sklearn/utils/_array_api.py:185: FutureWarning: The input object of type 'Tensor' is an array-like implementing one of the corresponding protocols (`__array__`, `__array_interface__` or `__array_struct__`); but not a sequence (or 0-D). In the future, this object will be coerced as if it was first converted using `np.array(obj)`. To retain the old behaviour, you have to either modify the type 'Tensor', or assign to an empty array created with `np.empty(correct_shape, dtype=object)`.\n",
            "  array = numpy.asarray(array, order=order, dtype=dtype)\n",
            "/usr/local/lib/python3.10/dist-packages/sklearn/utils/_array_api.py:185: VisibleDeprecationWarning: Creating an ndarray from ragged nested sequences (which is a list-or-tuple of lists-or-tuples-or ndarrays with different lengths or shapes) is deprecated. If you meant to do this, you must specify 'dtype=object' when creating the ndarray.\n",
            "  array = numpy.asarray(array, order=order, dtype=dtype)\n",
            "<ipython-input-2-3bb857ec729e>:44: UserWarning: To copy construct from a tensor, it is recommended to use sourceTensor.clone().detach() or sourceTensor.clone().detach().requires_grad_(True), rather than torch.tensor(sourceTensor).\n",
            "  'label': torch.tensor(self.label_list[item])\n"
          ]
        },
        {
          "output_type": "stream",
          "name": "stdout",
          "text": [
            "test\n",
            "epoch: 54 train_loss: 0.013253110472024196 train_acc: 96.12% train_f1: 93.58%\n"
          ]
        },
        {
          "output_type": "stream",
          "name": "stderr",
          "text": [
            "/usr/local/lib/python3.10/dist-packages/sklearn/utils/_array_api.py:185: FutureWarning: The input object of type 'Tensor' is an array-like implementing one of the corresponding protocols (`__array__`, `__array_interface__` or `__array_struct__`); but not a sequence (or 0-D). In the future, this object will be coerced as if it was first converted using `np.array(obj)`. To retain the old behaviour, you have to either modify the type 'Tensor', or assign to an empty array created with `np.empty(correct_shape, dtype=object)`.\n",
            "  array = numpy.asarray(array, order=order, dtype=dtype)\n",
            "/usr/local/lib/python3.10/dist-packages/sklearn/utils/_array_api.py:185: VisibleDeprecationWarning: Creating an ndarray from ragged nested sequences (which is a list-or-tuple of lists-or-tuples-or ndarrays with different lengths or shapes) is deprecated. If you meant to do this, you must specify 'dtype=object' when creating the ndarray.\n",
            "  array = numpy.asarray(array, order=order, dtype=dtype)\n",
            "<ipython-input-2-3bb857ec729e>:44: UserWarning: To copy construct from a tensor, it is recommended to use sourceTensor.clone().detach() or sourceTensor.clone().detach().requires_grad_(True), rather than torch.tensor(sourceTensor).\n",
            "  'label': torch.tensor(self.label_list[item])\n"
          ]
        },
        {
          "output_type": "stream",
          "name": "stdout",
          "text": [
            "          val_loss: 0.25967861102385953 val_acc 77.76% val_f1: 59.62%\n",
            "TextRNN AUC =  0.8229852867856879\n",
            "Specificity =  0.8763326226012793\n",
            "Sensitivity =  0.5472636815920398\n",
            "              precision    recall  f1-score   support\n",
            "\n",
            "         0.0     0.8187    0.8763    0.8465       469\n",
            "         1.0     0.6548    0.5473    0.5962       201\n",
            "\n",
            "    accuracy                         0.7776       670\n",
            "   macro avg     0.7367    0.7118    0.7214       670\n",
            "weighted avg     0.7695    0.7776    0.7714       670\n",
            "\n",
            "[INFO] Register count_lstm() for <class 'torch.nn.modules.rnn.LSTM'>.\n",
            "[INFO] Register count_linear() for <class 'torch.nn.modules.linear.Linear'>.\n",
            "[INFO] Register zero_ops() for <class 'torch.nn.modules.activation.ReLU'>.\n",
            "[INFO] Register zero_ops() for <class 'torch.nn.modules.container.Sequential'>.\n",
            "Flops: 72372860672.00\n",
            "MLOPS: 184.61\n",
            "epoch: 55 step: 0/42\n",
            "epoch: 55 step: 4/42\n",
            "epoch: 55 step: 8/42\n",
            "epoch: 55 step: 12/42\n",
            "epoch: 55 step: 16/42\n",
            "epoch: 55 step: 20/42\n",
            "epoch: 55 step: 24/42\n",
            "epoch: 55 step: 28/42\n",
            "epoch: 55 step: 32/42\n",
            "epoch: 55 step: 36/42\n",
            "epoch: 55 step: 40/42\n"
          ]
        },
        {
          "output_type": "stream",
          "name": "stderr",
          "text": [
            "/usr/local/lib/python3.10/dist-packages/sklearn/utils/_array_api.py:185: FutureWarning: The input object of type 'Tensor' is an array-like implementing one of the corresponding protocols (`__array__`, `__array_interface__` or `__array_struct__`); but not a sequence (or 0-D). In the future, this object will be coerced as if it was first converted using `np.array(obj)`. To retain the old behaviour, you have to either modify the type 'Tensor', or assign to an empty array created with `np.empty(correct_shape, dtype=object)`.\n",
            "  array = numpy.asarray(array, order=order, dtype=dtype)\n",
            "/usr/local/lib/python3.10/dist-packages/sklearn/utils/_array_api.py:185: VisibleDeprecationWarning: Creating an ndarray from ragged nested sequences (which is a list-or-tuple of lists-or-tuples-or ndarrays with different lengths or shapes) is deprecated. If you meant to do this, you must specify 'dtype=object' when creating the ndarray.\n",
            "  array = numpy.asarray(array, order=order, dtype=dtype)\n"
          ]
        },
        {
          "output_type": "stream",
          "name": "stdout",
          "text": [
            "test\n",
            "epoch: 55 train_loss: 0.008627264311404101 train_acc: 97.24% train_f1: 95.58%\n"
          ]
        },
        {
          "output_type": "stream",
          "name": "stderr",
          "text": [
            "<ipython-input-2-3bb857ec729e>:44: UserWarning: To copy construct from a tensor, it is recommended to use sourceTensor.clone().detach() or sourceTensor.clone().detach().requires_grad_(True), rather than torch.tensor(sourceTensor).\n",
            "  'label': torch.tensor(self.label_list[item])\n",
            "/usr/local/lib/python3.10/dist-packages/sklearn/utils/_array_api.py:185: FutureWarning: The input object of type 'Tensor' is an array-like implementing one of the corresponding protocols (`__array__`, `__array_interface__` or `__array_struct__`); but not a sequence (or 0-D). In the future, this object will be coerced as if it was first converted using `np.array(obj)`. To retain the old behaviour, you have to either modify the type 'Tensor', or assign to an empty array created with `np.empty(correct_shape, dtype=object)`.\n",
            "  array = numpy.asarray(array, order=order, dtype=dtype)\n",
            "/usr/local/lib/python3.10/dist-packages/sklearn/utils/_array_api.py:185: VisibleDeprecationWarning: Creating an ndarray from ragged nested sequences (which is a list-or-tuple of lists-or-tuples-or ndarrays with different lengths or shapes) is deprecated. If you meant to do this, you must specify 'dtype=object' when creating the ndarray.\n",
            "  array = numpy.asarray(array, order=order, dtype=dtype)\n",
            "<ipython-input-2-3bb857ec729e>:44: UserWarning: To copy construct from a tensor, it is recommended to use sourceTensor.clone().detach() or sourceTensor.clone().detach().requires_grad_(True), rather than torch.tensor(sourceTensor).\n",
            "  'label': torch.tensor(self.label_list[item])\n"
          ]
        },
        {
          "output_type": "stream",
          "name": "stdout",
          "text": [
            "          val_loss: 0.2170822938734835 val_acc 77.01% val_f1: 62.44%\n",
            "TextRNN AUC =  0.8233247409010385\n",
            "Specificity =  0.8272921108742004\n",
            "Sensitivity =  0.6368159203980099\n",
            "              precision    recall  f1-score   support\n",
            "\n",
            "         0.0     0.8416    0.8273    0.8344       469\n",
            "         1.0     0.6124    0.6368    0.6244       201\n",
            "\n",
            "    accuracy                         0.7701       670\n",
            "   macro avg     0.7270    0.7321    0.7294       670\n",
            "weighted avg     0.7729    0.7701    0.7714       670\n",
            "\n",
            "[INFO] Register count_lstm() for <class 'torch.nn.modules.rnn.LSTM'>.\n",
            "[INFO] Register count_linear() for <class 'torch.nn.modules.linear.Linear'>.\n",
            "[INFO] Register zero_ops() for <class 'torch.nn.modules.activation.ReLU'>.\n",
            "[INFO] Register zero_ops() for <class 'torch.nn.modules.container.Sequential'>.\n",
            "Flops: 72372860672.00\n",
            "MLOPS: 186.04\n",
            "epoch: 56 step: 0/42\n",
            "epoch: 56 step: 4/42\n",
            "epoch: 56 step: 8/42\n",
            "epoch: 56 step: 12/42\n",
            "epoch: 56 step: 16/42\n",
            "epoch: 56 step: 20/42\n",
            "epoch: 56 step: 24/42\n",
            "epoch: 56 step: 28/42\n",
            "epoch: 56 step: 32/42\n",
            "epoch: 56 step: 36/42\n",
            "epoch: 56 step: 40/42\n"
          ]
        },
        {
          "output_type": "stream",
          "name": "stderr",
          "text": [
            "/usr/local/lib/python3.10/dist-packages/sklearn/utils/_array_api.py:185: FutureWarning: The input object of type 'Tensor' is an array-like implementing one of the corresponding protocols (`__array__`, `__array_interface__` or `__array_struct__`); but not a sequence (or 0-D). In the future, this object will be coerced as if it was first converted using `np.array(obj)`. To retain the old behaviour, you have to either modify the type 'Tensor', or assign to an empty array created with `np.empty(correct_shape, dtype=object)`.\n",
            "  array = numpy.asarray(array, order=order, dtype=dtype)\n",
            "/usr/local/lib/python3.10/dist-packages/sklearn/utils/_array_api.py:185: VisibleDeprecationWarning: Creating an ndarray from ragged nested sequences (which is a list-or-tuple of lists-or-tuples-or ndarrays with different lengths or shapes) is deprecated. If you meant to do this, you must specify 'dtype=object' when creating the ndarray.\n",
            "  array = numpy.asarray(array, order=order, dtype=dtype)\n",
            "<ipython-input-2-3bb857ec729e>:44: UserWarning: To copy construct from a tensor, it is recommended to use sourceTensor.clone().detach() or sourceTensor.clone().detach().requires_grad_(True), rather than torch.tensor(sourceTensor).\n",
            "  'label': torch.tensor(self.label_list[item])\n"
          ]
        },
        {
          "output_type": "stream",
          "name": "stdout",
          "text": [
            "test\n",
            "epoch: 56 train_loss: 0.009075734553681243 train_acc: 96.68% train_f1: 94.75%\n"
          ]
        },
        {
          "output_type": "stream",
          "name": "stderr",
          "text": [
            "/usr/local/lib/python3.10/dist-packages/sklearn/utils/_array_api.py:185: FutureWarning: The input object of type 'Tensor' is an array-like implementing one of the corresponding protocols (`__array__`, `__array_interface__` or `__array_struct__`); but not a sequence (or 0-D). In the future, this object will be coerced as if it was first converted using `np.array(obj)`. To retain the old behaviour, you have to either modify the type 'Tensor', or assign to an empty array created with `np.empty(correct_shape, dtype=object)`.\n",
            "  array = numpy.asarray(array, order=order, dtype=dtype)\n",
            "/usr/local/lib/python3.10/dist-packages/sklearn/utils/_array_api.py:185: VisibleDeprecationWarning: Creating an ndarray from ragged nested sequences (which is a list-or-tuple of lists-or-tuples-or ndarrays with different lengths or shapes) is deprecated. If you meant to do this, you must specify 'dtype=object' when creating the ndarray.\n",
            "  array = numpy.asarray(array, order=order, dtype=dtype)\n"
          ]
        },
        {
          "output_type": "stream",
          "name": "stdout",
          "text": [
            "          val_loss: 0.18554474006999622 val_acc 77.01% val_f1: 64.52%\n",
            "TextRNN AUC =  0.822911031197955\n",
            "Specificity =  0.8017057569296375\n",
            "Sensitivity =  0.6965174129353234\n",
            "              precision    recall  f1-score   support\n",
            "\n",
            "         0.0     0.8604    0.8017    0.8300       469\n",
            "         1.0     0.6009    0.6965    0.6452       201\n",
            "\n",
            "    accuracy                         0.7701       670\n",
            "   macro avg     0.7306    0.7491    0.7376       670\n",
            "weighted avg     0.7825    0.7701    0.7746       670\n",
            "\n",
            "[INFO] Register count_lstm() for <class 'torch.nn.modules.rnn.LSTM'>.\n",
            "[INFO] Register count_linear() for <class 'torch.nn.modules.linear.Linear'>.\n",
            "[INFO] Register zero_ops() for <class 'torch.nn.modules.activation.ReLU'>.\n",
            "[INFO] Register zero_ops() for <class 'torch.nn.modules.container.Sequential'>.\n",
            "Flops: 72372860672.00\n",
            "MLOPS: 186.15\n"
          ]
        },
        {
          "output_type": "stream",
          "name": "stderr",
          "text": [
            "<ipython-input-2-3bb857ec729e>:44: UserWarning: To copy construct from a tensor, it is recommended to use sourceTensor.clone().detach() or sourceTensor.clone().detach().requires_grad_(True), rather than torch.tensor(sourceTensor).\n",
            "  'label': torch.tensor(self.label_list[item])\n"
          ]
        },
        {
          "output_type": "stream",
          "name": "stdout",
          "text": [
            "epoch: 57 step: 0/42\n",
            "epoch: 57 step: 4/42\n",
            "epoch: 57 step: 8/42\n",
            "epoch: 57 step: 12/42\n",
            "epoch: 57 step: 16/42\n",
            "epoch: 57 step: 20/42\n",
            "epoch: 57 step: 24/42\n",
            "epoch: 57 step: 28/42\n",
            "epoch: 57 step: 32/42\n",
            "epoch: 57 step: 36/42\n",
            "epoch: 57 step: 40/42\n"
          ]
        },
        {
          "output_type": "stream",
          "name": "stderr",
          "text": [
            "/usr/local/lib/python3.10/dist-packages/sklearn/utils/_array_api.py:185: FutureWarning: The input object of type 'Tensor' is an array-like implementing one of the corresponding protocols (`__array__`, `__array_interface__` or `__array_struct__`); but not a sequence (or 0-D). In the future, this object will be coerced as if it was first converted using `np.array(obj)`. To retain the old behaviour, you have to either modify the type 'Tensor', or assign to an empty array created with `np.empty(correct_shape, dtype=object)`.\n",
            "  array = numpy.asarray(array, order=order, dtype=dtype)\n",
            "/usr/local/lib/python3.10/dist-packages/sklearn/utils/_array_api.py:185: VisibleDeprecationWarning: Creating an ndarray from ragged nested sequences (which is a list-or-tuple of lists-or-tuples-or ndarrays with different lengths or shapes) is deprecated. If you meant to do this, you must specify 'dtype=object' when creating the ndarray.\n",
            "  array = numpy.asarray(array, order=order, dtype=dtype)\n",
            "<ipython-input-2-3bb857ec729e>:44: UserWarning: To copy construct from a tensor, it is recommended to use sourceTensor.clone().detach() or sourceTensor.clone().detach().requires_grad_(True), rather than torch.tensor(sourceTensor).\n",
            "  'label': torch.tensor(self.label_list[item])\n"
          ]
        },
        {
          "output_type": "stream",
          "name": "stdout",
          "text": [
            "test\n",
            "epoch: 57 train_loss: 0.008274349189984301 train_acc: 97.43% train_f1: 95.86%\n"
          ]
        },
        {
          "output_type": "stream",
          "name": "stderr",
          "text": [
            "/usr/local/lib/python3.10/dist-packages/sklearn/utils/_array_api.py:185: FutureWarning: The input object of type 'Tensor' is an array-like implementing one of the corresponding protocols (`__array__`, `__array_interface__` or `__array_struct__`); but not a sequence (or 0-D). In the future, this object will be coerced as if it was first converted using `np.array(obj)`. To retain the old behaviour, you have to either modify the type 'Tensor', or assign to an empty array created with `np.empty(correct_shape, dtype=object)`.\n",
            "  array = numpy.asarray(array, order=order, dtype=dtype)\n",
            "/usr/local/lib/python3.10/dist-packages/sklearn/utils/_array_api.py:185: VisibleDeprecationWarning: Creating an ndarray from ragged nested sequences (which is a list-or-tuple of lists-or-tuples-or ndarrays with different lengths or shapes) is deprecated. If you meant to do this, you must specify 'dtype=object' when creating the ndarray.\n",
            "  array = numpy.asarray(array, order=order, dtype=dtype)\n",
            "<ipython-input-2-3bb857ec729e>:44: UserWarning: To copy construct from a tensor, it is recommended to use sourceTensor.clone().detach() or sourceTensor.clone().detach().requires_grad_(True), rather than torch.tensor(sourceTensor).\n",
            "  'label': torch.tensor(self.label_list[item])\n"
          ]
        },
        {
          "output_type": "stream",
          "name": "stdout",
          "text": [
            "          val_loss: 0.24913345006379214 val_acc 77.76% val_f1: 62.84%\n",
            "TextRNN AUC =  0.8198135123953791\n",
            "Specificity =  0.8422174840085288\n",
            "Sensitivity =  0.6268656716417911\n",
            "              precision    recall  f1-score   support\n",
            "\n",
            "         0.0     0.8404    0.8422    0.8413       469\n",
            "         1.0     0.6300    0.6269    0.6284       201\n",
            "\n",
            "    accuracy                         0.7776       670\n",
            "   macro avg     0.7352    0.7345    0.7349       670\n",
            "weighted avg     0.7773    0.7776    0.7775       670\n",
            "\n",
            "[INFO] Register count_lstm() for <class 'torch.nn.modules.rnn.LSTM'>.\n",
            "[INFO] Register count_linear() for <class 'torch.nn.modules.linear.Linear'>.\n",
            "[INFO] Register zero_ops() for <class 'torch.nn.modules.activation.ReLU'>.\n",
            "[INFO] Register zero_ops() for <class 'torch.nn.modules.container.Sequential'>.\n",
            "Flops: 72372860672.00\n",
            "MLOPS: 184.38\n",
            "epoch: 58 step: 0/42\n",
            "epoch: 58 step: 4/42\n",
            "epoch: 58 step: 8/42\n",
            "epoch: 58 step: 12/42\n",
            "epoch: 58 step: 16/42\n",
            "epoch: 58 step: 20/42\n",
            "epoch: 58 step: 24/42\n",
            "epoch: 58 step: 28/42\n",
            "epoch: 58 step: 32/42\n",
            "epoch: 58 step: 36/42\n",
            "epoch: 58 step: 40/42\n"
          ]
        },
        {
          "output_type": "stream",
          "name": "stderr",
          "text": [
            "/usr/local/lib/python3.10/dist-packages/sklearn/utils/_array_api.py:185: FutureWarning: The input object of type 'Tensor' is an array-like implementing one of the corresponding protocols (`__array__`, `__array_interface__` or `__array_struct__`); but not a sequence (or 0-D). In the future, this object will be coerced as if it was first converted using `np.array(obj)`. To retain the old behaviour, you have to either modify the type 'Tensor', or assign to an empty array created with `np.empty(correct_shape, dtype=object)`.\n",
            "  array = numpy.asarray(array, order=order, dtype=dtype)\n",
            "/usr/local/lib/python3.10/dist-packages/sklearn/utils/_array_api.py:185: VisibleDeprecationWarning: Creating an ndarray from ragged nested sequences (which is a list-or-tuple of lists-or-tuples-or ndarrays with different lengths or shapes) is deprecated. If you meant to do this, you must specify 'dtype=object' when creating the ndarray.\n",
            "  array = numpy.asarray(array, order=order, dtype=dtype)\n",
            "<ipython-input-2-3bb857ec729e>:44: UserWarning: To copy construct from a tensor, it is recommended to use sourceTensor.clone().detach() or sourceTensor.clone().detach().requires_grad_(True), rather than torch.tensor(sourceTensor).\n",
            "  'label': torch.tensor(self.label_list[item])\n"
          ]
        },
        {
          "output_type": "stream",
          "name": "stdout",
          "text": [
            "test\n",
            "epoch: 58 train_loss: 0.007850452531350865 train_acc: 97.76% train_f1: 96.39%\n"
          ]
        },
        {
          "output_type": "stream",
          "name": "stderr",
          "text": [
            "/usr/local/lib/python3.10/dist-packages/sklearn/utils/_array_api.py:185: FutureWarning: The input object of type 'Tensor' is an array-like implementing one of the corresponding protocols (`__array__`, `__array_interface__` or `__array_struct__`); but not a sequence (or 0-D). In the future, this object will be coerced as if it was first converted using `np.array(obj)`. To retain the old behaviour, you have to either modify the type 'Tensor', or assign to an empty array created with `np.empty(correct_shape, dtype=object)`.\n",
            "  array = numpy.asarray(array, order=order, dtype=dtype)\n",
            "/usr/local/lib/python3.10/dist-packages/sklearn/utils/_array_api.py:185: VisibleDeprecationWarning: Creating an ndarray from ragged nested sequences (which is a list-or-tuple of lists-or-tuples-or ndarrays with different lengths or shapes) is deprecated. If you meant to do this, you must specify 'dtype=object' when creating the ndarray.\n",
            "  array = numpy.asarray(array, order=order, dtype=dtype)\n",
            "<ipython-input-2-3bb857ec729e>:44: UserWarning: To copy construct from a tensor, it is recommended to use sourceTensor.clone().detach() or sourceTensor.clone().detach().requires_grad_(True), rather than torch.tensor(sourceTensor).\n",
            "  'label': torch.tensor(self.label_list[item])\n"
          ]
        },
        {
          "output_type": "stream",
          "name": "stdout",
          "text": [
            "          val_loss: 0.22772713682868265 val_acc 77.16% val_f1: 61.85%\n",
            "TextRNN AUC =  0.8225821850237087\n",
            "Specificity =  0.837953091684435\n",
            "Sensitivity =  0.6169154228855721\n",
            "              precision    recall  f1-score   support\n",
            "\n",
            "         0.0     0.8362    0.8380    0.8371       469\n",
            "         1.0     0.6200    0.6169    0.6185       201\n",
            "\n",
            "    accuracy                         0.7716       670\n",
            "   macro avg     0.7281    0.7274    0.7278       670\n",
            "weighted avg     0.7713    0.7716    0.7715       670\n",
            "\n",
            "[INFO] Register count_lstm() for <class 'torch.nn.modules.rnn.LSTM'>.\n",
            "[INFO] Register count_linear() for <class 'torch.nn.modules.linear.Linear'>.\n",
            "[INFO] Register zero_ops() for <class 'torch.nn.modules.activation.ReLU'>.\n",
            "[INFO] Register zero_ops() for <class 'torch.nn.modules.container.Sequential'>.\n",
            "Flops: 72372860672.00\n",
            "MLOPS: 187.74\n",
            "epoch: 59 step: 0/42\n",
            "epoch: 59 step: 4/42\n",
            "epoch: 59 step: 8/42\n",
            "epoch: 59 step: 12/42\n",
            "epoch: 59 step: 16/42\n",
            "epoch: 59 step: 20/42\n",
            "epoch: 59 step: 24/42\n",
            "epoch: 59 step: 28/42\n",
            "epoch: 59 step: 32/42\n",
            "epoch: 59 step: 36/42\n",
            "epoch: 59 step: 40/42\n"
          ]
        },
        {
          "output_type": "stream",
          "name": "stderr",
          "text": [
            "/usr/local/lib/python3.10/dist-packages/sklearn/utils/_array_api.py:185: FutureWarning: The input object of type 'Tensor' is an array-like implementing one of the corresponding protocols (`__array__`, `__array_interface__` or `__array_struct__`); but not a sequence (or 0-D). In the future, this object will be coerced as if it was first converted using `np.array(obj)`. To retain the old behaviour, you have to either modify the type 'Tensor', or assign to an empty array created with `np.empty(correct_shape, dtype=object)`.\n",
            "  array = numpy.asarray(array, order=order, dtype=dtype)\n",
            "/usr/local/lib/python3.10/dist-packages/sklearn/utils/_array_api.py:185: VisibleDeprecationWarning: Creating an ndarray from ragged nested sequences (which is a list-or-tuple of lists-or-tuples-or ndarrays with different lengths or shapes) is deprecated. If you meant to do this, you must specify 'dtype=object' when creating the ndarray.\n",
            "  array = numpy.asarray(array, order=order, dtype=dtype)\n"
          ]
        },
        {
          "output_type": "stream",
          "name": "stdout",
          "text": [
            "test\n",
            "epoch: 59 train_loss: 0.008164671859482215 train_acc: 96.94% train_f1: 95.14%\n"
          ]
        },
        {
          "output_type": "stream",
          "name": "stderr",
          "text": [
            "<ipython-input-2-3bb857ec729e>:44: UserWarning: To copy construct from a tensor, it is recommended to use sourceTensor.clone().detach() or sourceTensor.clone().detach().requires_grad_(True), rather than torch.tensor(sourceTensor).\n",
            "  'label': torch.tensor(self.label_list[item])\n",
            "/usr/local/lib/python3.10/dist-packages/sklearn/utils/_array_api.py:185: FutureWarning: The input object of type 'Tensor' is an array-like implementing one of the corresponding protocols (`__array__`, `__array_interface__` or `__array_struct__`); but not a sequence (or 0-D). In the future, this object will be coerced as if it was first converted using `np.array(obj)`. To retain the old behaviour, you have to either modify the type 'Tensor', or assign to an empty array created with `np.empty(correct_shape, dtype=object)`.\n",
            "  array = numpy.asarray(array, order=order, dtype=dtype)\n",
            "/usr/local/lib/python3.10/dist-packages/sklearn/utils/_array_api.py:185: VisibleDeprecationWarning: Creating an ndarray from ragged nested sequences (which is a list-or-tuple of lists-or-tuples-or ndarrays with different lengths or shapes) is deprecated. If you meant to do this, you must specify 'dtype=object' when creating the ndarray.\n",
            "  array = numpy.asarray(array, order=order, dtype=dtype)\n",
            "<ipython-input-2-3bb857ec729e>:44: UserWarning: To copy construct from a tensor, it is recommended to use sourceTensor.clone().detach() or sourceTensor.clone().detach().requires_grad_(True), rather than torch.tensor(sourceTensor).\n",
            "  'label': torch.tensor(self.label_list[item])\n"
          ]
        },
        {
          "output_type": "stream",
          "name": "stdout",
          "text": [
            "          val_loss: 0.21324615383690054 val_acc 77.01% val_f1: 64.19%\n",
            "TextRNN AUC =  0.8213198400322481\n",
            "Specificity =  0.8059701492537313\n",
            "Sensitivity =  0.6865671641791045\n",
            "              precision    recall  f1-score   support\n",
            "\n",
            "         0.0     0.8571    0.8060    0.8308       469\n",
            "         1.0     0.6026    0.6866    0.6419       201\n",
            "\n",
            "    accuracy                         0.7701       670\n",
            "   macro avg     0.7299    0.7463    0.7363       670\n",
            "weighted avg     0.7808    0.7701    0.7741       670\n",
            "\n",
            "[INFO] Register count_lstm() for <class 'torch.nn.modules.rnn.LSTM'>.\n",
            "[INFO] Register count_linear() for <class 'torch.nn.modules.linear.Linear'>.\n",
            "[INFO] Register zero_ops() for <class 'torch.nn.modules.activation.ReLU'>.\n",
            "[INFO] Register zero_ops() for <class 'torch.nn.modules.container.Sequential'>.\n",
            "Flops: 72372860672.00\n",
            "MLOPS: 186.19\n",
            "epoch: 60 step: 0/42\n",
            "epoch: 60 step: 4/42\n",
            "epoch: 60 step: 8/42\n",
            "epoch: 60 step: 12/42\n",
            "epoch: 60 step: 16/42\n",
            "epoch: 60 step: 20/42\n",
            "epoch: 60 step: 24/42\n",
            "epoch: 60 step: 28/42\n",
            "epoch: 60 step: 32/42\n",
            "epoch: 60 step: 36/42\n",
            "epoch: 60 step: 40/42\n"
          ]
        },
        {
          "output_type": "stream",
          "name": "stderr",
          "text": [
            "/usr/local/lib/python3.10/dist-packages/sklearn/utils/_array_api.py:185: FutureWarning: The input object of type 'Tensor' is an array-like implementing one of the corresponding protocols (`__array__`, `__array_interface__` or `__array_struct__`); but not a sequence (or 0-D). In the future, this object will be coerced as if it was first converted using `np.array(obj)`. To retain the old behaviour, you have to either modify the type 'Tensor', or assign to an empty array created with `np.empty(correct_shape, dtype=object)`.\n",
            "  array = numpy.asarray(array, order=order, dtype=dtype)\n",
            "/usr/local/lib/python3.10/dist-packages/sklearn/utils/_array_api.py:185: VisibleDeprecationWarning: Creating an ndarray from ragged nested sequences (which is a list-or-tuple of lists-or-tuples-or ndarrays with different lengths or shapes) is deprecated. If you meant to do this, you must specify 'dtype=object' when creating the ndarray.\n",
            "  array = numpy.asarray(array, order=order, dtype=dtype)\n",
            "<ipython-input-2-3bb857ec729e>:44: UserWarning: To copy construct from a tensor, it is recommended to use sourceTensor.clone().detach() or sourceTensor.clone().detach().requires_grad_(True), rather than torch.tensor(sourceTensor).\n",
            "  'label': torch.tensor(self.label_list[item])\n"
          ]
        },
        {
          "output_type": "stream",
          "name": "stdout",
          "text": [
            "test\n",
            "epoch: 60 train_loss: 0.007761483726512995 train_acc: 97.20% train_f1: 95.54%\n"
          ]
        },
        {
          "output_type": "stream",
          "name": "stderr",
          "text": [
            "/usr/local/lib/python3.10/dist-packages/sklearn/utils/_array_api.py:185: FutureWarning: The input object of type 'Tensor' is an array-like implementing one of the corresponding protocols (`__array__`, `__array_interface__` or `__array_struct__`); but not a sequence (or 0-D). In the future, this object will be coerced as if it was first converted using `np.array(obj)`. To retain the old behaviour, you have to either modify the type 'Tensor', or assign to an empty array created with `np.empty(correct_shape, dtype=object)`.\n",
            "  array = numpy.asarray(array, order=order, dtype=dtype)\n",
            "/usr/local/lib/python3.10/dist-packages/sklearn/utils/_array_api.py:185: VisibleDeprecationWarning: Creating an ndarray from ragged nested sequences (which is a list-or-tuple of lists-or-tuples-or ndarrays with different lengths or shapes) is deprecated. If you meant to do this, you must specify 'dtype=object' when creating the ndarray.\n",
            "  array = numpy.asarray(array, order=order, dtype=dtype)\n"
          ]
        },
        {
          "output_type": "stream",
          "name": "stdout",
          "text": [
            "          val_loss: 0.20067561282352966 val_acc 76.57% val_f1: 63.74%\n",
            "TextRNN AUC =  0.8178192194676935\n",
            "Specificity =  0.7995735607675906\n",
            "Sensitivity =  0.6865671641791045\n",
            "              precision    recall  f1-score   support\n",
            "\n",
            "         0.0     0.8562    0.7996    0.8269       469\n",
            "         1.0     0.5948    0.6866    0.6374       201\n",
            "\n",
            "    accuracy                         0.7657       670\n",
            "   macro avg     0.7255    0.7431    0.7322       670\n",
            "weighted avg     0.7778    0.7657    0.7701       670\n",
            "\n",
            "[INFO] Register count_lstm() for <class 'torch.nn.modules.rnn.LSTM'>.\n",
            "[INFO] Register count_linear() for <class 'torch.nn.modules.linear.Linear'>.\n",
            "[INFO] Register zero_ops() for <class 'torch.nn.modules.activation.ReLU'>.\n",
            "[INFO] Register zero_ops() for <class 'torch.nn.modules.container.Sequential'>.\n",
            "Flops: 72372860672.00\n",
            "MLOPS: 186.47\n"
          ]
        },
        {
          "output_type": "stream",
          "name": "stderr",
          "text": [
            "<ipython-input-2-3bb857ec729e>:44: UserWarning: To copy construct from a tensor, it is recommended to use sourceTensor.clone().detach() or sourceTensor.clone().detach().requires_grad_(True), rather than torch.tensor(sourceTensor).\n",
            "  'label': torch.tensor(self.label_list[item])\n"
          ]
        },
        {
          "output_type": "stream",
          "name": "stdout",
          "text": [
            "epoch: 61 step: 0/42\n",
            "epoch: 61 step: 4/42\n",
            "epoch: 61 step: 8/42\n",
            "epoch: 61 step: 12/42\n",
            "epoch: 61 step: 16/42\n",
            "epoch: 61 step: 20/42\n",
            "epoch: 61 step: 24/42\n",
            "epoch: 61 step: 28/42\n",
            "epoch: 61 step: 32/42\n",
            "epoch: 61 step: 36/42\n",
            "epoch: 61 step: 40/42\n"
          ]
        },
        {
          "output_type": "stream",
          "name": "stderr",
          "text": [
            "/usr/local/lib/python3.10/dist-packages/sklearn/utils/_array_api.py:185: FutureWarning: The input object of type 'Tensor' is an array-like implementing one of the corresponding protocols (`__array__`, `__array_interface__` or `__array_struct__`); but not a sequence (or 0-D). In the future, this object will be coerced as if it was first converted using `np.array(obj)`. To retain the old behaviour, you have to either modify the type 'Tensor', or assign to an empty array created with `np.empty(correct_shape, dtype=object)`.\n",
            "  array = numpy.asarray(array, order=order, dtype=dtype)\n",
            "/usr/local/lib/python3.10/dist-packages/sklearn/utils/_array_api.py:185: VisibleDeprecationWarning: Creating an ndarray from ragged nested sequences (which is a list-or-tuple of lists-or-tuples-or ndarrays with different lengths or shapes) is deprecated. If you meant to do this, you must specify 'dtype=object' when creating the ndarray.\n",
            "  array = numpy.asarray(array, order=order, dtype=dtype)\n",
            "<ipython-input-2-3bb857ec729e>:44: UserWarning: To copy construct from a tensor, it is recommended to use sourceTensor.clone().detach() or sourceTensor.clone().detach().requires_grad_(True), rather than torch.tensor(sourceTensor).\n",
            "  'label': torch.tensor(self.label_list[item])\n"
          ]
        },
        {
          "output_type": "stream",
          "name": "stdout",
          "text": [
            "test\n",
            "epoch: 61 train_loss: 0.006672984676524287 train_acc: 98.10% train_f1: 96.92%\n"
          ]
        },
        {
          "output_type": "stream",
          "name": "stderr",
          "text": [
            "/usr/local/lib/python3.10/dist-packages/sklearn/utils/_array_api.py:185: FutureWarning: The input object of type 'Tensor' is an array-like implementing one of the corresponding protocols (`__array__`, `__array_interface__` or `__array_struct__`); but not a sequence (or 0-D). In the future, this object will be coerced as if it was first converted using `np.array(obj)`. To retain the old behaviour, you have to either modify the type 'Tensor', or assign to an empty array created with `np.empty(correct_shape, dtype=object)`.\n",
            "  array = numpy.asarray(array, order=order, dtype=dtype)\n",
            "/usr/local/lib/python3.10/dist-packages/sklearn/utils/_array_api.py:185: VisibleDeprecationWarning: Creating an ndarray from ragged nested sequences (which is a list-or-tuple of lists-or-tuples-or ndarrays with different lengths or shapes) is deprecated. If you meant to do this, you must specify 'dtype=object' when creating the ndarray.\n",
            "  array = numpy.asarray(array, order=order, dtype=dtype)\n",
            "<ipython-input-2-3bb857ec729e>:44: UserWarning: To copy construct from a tensor, it is recommended to use sourceTensor.clone().detach() or sourceTensor.clone().detach().requires_grad_(True), rather than torch.tensor(sourceTensor).\n",
            "  'label': torch.tensor(self.label_list[item])\n"
          ]
        },
        {
          "output_type": "stream",
          "name": "stdout",
          "text": [
            "          val_loss: 0.26293767853216693 val_acc 77.31% val_f1: 61.62%\n",
            "TextRNN AUC =  0.8198029044542743\n",
            "Specificity =  0.8443496801705757\n",
            "Sensitivity =  0.6069651741293532\n",
            "              precision    recall  f1-score   support\n",
            "\n",
            "         0.0     0.8337    0.8443    0.8390       469\n",
            "         1.0     0.6256    0.6070    0.6162       201\n",
            "\n",
            "    accuracy                         0.7731       670\n",
            "   macro avg     0.7297    0.7257    0.7276       670\n",
            "weighted avg     0.7713    0.7731    0.7721       670\n",
            "\n",
            "[INFO] Register count_lstm() for <class 'torch.nn.modules.rnn.LSTM'>.\n",
            "[INFO] Register count_linear() for <class 'torch.nn.modules.linear.Linear'>.\n",
            "[INFO] Register zero_ops() for <class 'torch.nn.modules.activation.ReLU'>.\n",
            "[INFO] Register zero_ops() for <class 'torch.nn.modules.container.Sequential'>.\n",
            "Flops: 72372860672.00\n",
            "MLOPS: 184.39\n",
            "epoch: 62 step: 0/42\n",
            "epoch: 62 step: 4/42\n",
            "epoch: 62 step: 8/42\n",
            "epoch: 62 step: 12/42\n",
            "epoch: 62 step: 16/42\n",
            "epoch: 62 step: 20/42\n",
            "epoch: 62 step: 24/42\n",
            "epoch: 62 step: 28/42\n",
            "epoch: 62 step: 32/42\n",
            "epoch: 62 step: 36/42\n",
            "epoch: 62 step: 40/42\n"
          ]
        },
        {
          "output_type": "stream",
          "name": "stderr",
          "text": [
            "/usr/local/lib/python3.10/dist-packages/sklearn/utils/_array_api.py:185: FutureWarning: The input object of type 'Tensor' is an array-like implementing one of the corresponding protocols (`__array__`, `__array_interface__` or `__array_struct__`); but not a sequence (or 0-D). In the future, this object will be coerced as if it was first converted using `np.array(obj)`. To retain the old behaviour, you have to either modify the type 'Tensor', or assign to an empty array created with `np.empty(correct_shape, dtype=object)`.\n",
            "  array = numpy.asarray(array, order=order, dtype=dtype)\n",
            "/usr/local/lib/python3.10/dist-packages/sklearn/utils/_array_api.py:185: VisibleDeprecationWarning: Creating an ndarray from ragged nested sequences (which is a list-or-tuple of lists-or-tuples-or ndarrays with different lengths or shapes) is deprecated. If you meant to do this, you must specify 'dtype=object' when creating the ndarray.\n",
            "  array = numpy.asarray(array, order=order, dtype=dtype)\n"
          ]
        },
        {
          "output_type": "stream",
          "name": "stdout",
          "text": [
            "test\n",
            "epoch: 62 train_loss: 0.006180872144232992 train_acc: 98.13% train_f1: 96.98%\n"
          ]
        },
        {
          "output_type": "stream",
          "name": "stderr",
          "text": [
            "<ipython-input-2-3bb857ec729e>:44: UserWarning: To copy construct from a tensor, it is recommended to use sourceTensor.clone().detach() or sourceTensor.clone().detach().requires_grad_(True), rather than torch.tensor(sourceTensor).\n",
            "  'label': torch.tensor(self.label_list[item])\n",
            "/usr/local/lib/python3.10/dist-packages/sklearn/utils/_array_api.py:185: FutureWarning: The input object of type 'Tensor' is an array-like implementing one of the corresponding protocols (`__array__`, `__array_interface__` or `__array_struct__`); but not a sequence (or 0-D). In the future, this object will be coerced as if it was first converted using `np.array(obj)`. To retain the old behaviour, you have to either modify the type 'Tensor', or assign to an empty array created with `np.empty(correct_shape, dtype=object)`.\n",
            "  array = numpy.asarray(array, order=order, dtype=dtype)\n",
            "/usr/local/lib/python3.10/dist-packages/sklearn/utils/_array_api.py:185: VisibleDeprecationWarning: Creating an ndarray from ragged nested sequences (which is a list-or-tuple of lists-or-tuples-or ndarrays with different lengths or shapes) is deprecated. If you meant to do this, you must specify 'dtype=object' when creating the ndarray.\n",
            "  array = numpy.asarray(array, order=order, dtype=dtype)\n",
            "<ipython-input-2-3bb857ec729e>:44: UserWarning: To copy construct from a tensor, it is recommended to use sourceTensor.clone().detach() or sourceTensor.clone().detach().requires_grad_(True), rather than torch.tensor(sourceTensor).\n",
            "  'label': torch.tensor(self.label_list[item])\n"
          ]
        },
        {
          "output_type": "stream",
          "name": "stdout",
          "text": [
            "          val_loss: 0.292948760769584 val_acc 77.31% val_f1: 61.42%\n",
            "TextRNN AUC =  0.8175752368222851\n",
            "Specificity =  0.8464818763326226\n",
            "Sensitivity =  0.6019900497512438\n",
            "              precision    recall  f1-score   support\n",
            "\n",
            "         0.0     0.8323    0.8465    0.8393       469\n",
            "         1.0     0.6269    0.6020    0.6142       201\n",
            "\n",
            "    accuracy                         0.7731       670\n",
            "   macro avg     0.7296    0.7242    0.7268       670\n",
            "weighted avg     0.7707    0.7731    0.7718       670\n",
            "\n",
            "[INFO] Register count_lstm() for <class 'torch.nn.modules.rnn.LSTM'>.\n",
            "[INFO] Register count_linear() for <class 'torch.nn.modules.linear.Linear'>.\n",
            "[INFO] Register zero_ops() for <class 'torch.nn.modules.activation.ReLU'>.\n",
            "[INFO] Register zero_ops() for <class 'torch.nn.modules.container.Sequential'>.\n",
            "Flops: 72372860672.00\n",
            "MLOPS: 177.42\n",
            "epoch: 63 step: 0/42\n",
            "epoch: 63 step: 4/42\n",
            "epoch: 63 step: 8/42\n",
            "epoch: 63 step: 12/42\n",
            "epoch: 63 step: 16/42\n",
            "epoch: 63 step: 20/42\n",
            "epoch: 63 step: 24/42\n",
            "epoch: 63 step: 28/42\n",
            "epoch: 63 step: 32/42\n",
            "epoch: 63 step: 36/42\n",
            "epoch: 63 step: 40/42\n"
          ]
        },
        {
          "output_type": "stream",
          "name": "stderr",
          "text": [
            "/usr/local/lib/python3.10/dist-packages/sklearn/utils/_array_api.py:185: FutureWarning: The input object of type 'Tensor' is an array-like implementing one of the corresponding protocols (`__array__`, `__array_interface__` or `__array_struct__`); but not a sequence (or 0-D). In the future, this object will be coerced as if it was first converted using `np.array(obj)`. To retain the old behaviour, you have to either modify the type 'Tensor', or assign to an empty array created with `np.empty(correct_shape, dtype=object)`.\n",
            "  array = numpy.asarray(array, order=order, dtype=dtype)\n",
            "/usr/local/lib/python3.10/dist-packages/sklearn/utils/_array_api.py:185: VisibleDeprecationWarning: Creating an ndarray from ragged nested sequences (which is a list-or-tuple of lists-or-tuples-or ndarrays with different lengths or shapes) is deprecated. If you meant to do this, you must specify 'dtype=object' when creating the ndarray.\n",
            "  array = numpy.asarray(array, order=order, dtype=dtype)\n",
            "<ipython-input-2-3bb857ec729e>:44: UserWarning: To copy construct from a tensor, it is recommended to use sourceTensor.clone().detach() or sourceTensor.clone().detach().requires_grad_(True), rather than torch.tensor(sourceTensor).\n",
            "  'label': torch.tensor(self.label_list[item])\n"
          ]
        },
        {
          "output_type": "stream",
          "name": "stdout",
          "text": [
            "test\n",
            "epoch: 63 train_loss: 0.006868878567946099 train_acc: 98.40% train_f1: 97.37%\n"
          ]
        },
        {
          "output_type": "stream",
          "name": "stderr",
          "text": [
            "/usr/local/lib/python3.10/dist-packages/sklearn/utils/_array_api.py:185: FutureWarning: The input object of type 'Tensor' is an array-like implementing one of the corresponding protocols (`__array__`, `__array_interface__` or `__array_struct__`); but not a sequence (or 0-D). In the future, this object will be coerced as if it was first converted using `np.array(obj)`. To retain the old behaviour, you have to either modify the type 'Tensor', or assign to an empty array created with `np.empty(correct_shape, dtype=object)`.\n",
            "  array = numpy.asarray(array, order=order, dtype=dtype)\n",
            "/usr/local/lib/python3.10/dist-packages/sklearn/utils/_array_api.py:185: VisibleDeprecationWarning: Creating an ndarray from ragged nested sequences (which is a list-or-tuple of lists-or-tuples-or ndarrays with different lengths or shapes) is deprecated. If you meant to do this, you must specify 'dtype=object' when creating the ndarray.\n",
            "  array = numpy.asarray(array, order=order, dtype=dtype)\n"
          ]
        },
        {
          "output_type": "stream",
          "name": "stdout",
          "text": [
            "          val_loss: 0.27464456314390356 val_acc 77.01% val_f1: 60.10%\n",
            "TextRNN AUC =  0.8249901876544781\n",
            "Specificity =  0.8528784648187633\n",
            "Sensitivity =  0.5771144278606966\n",
            "              precision    recall  f1-score   support\n",
            "\n",
            "         0.0     0.8247    0.8529    0.8386       469\n",
            "         1.0     0.6270    0.5771    0.6010       201\n",
            "\n",
            "    accuracy                         0.7701       670\n",
            "   macro avg     0.7259    0.7150    0.7198       670\n",
            "weighted avg     0.7654    0.7701    0.7673       670\n",
            "\n",
            "[INFO] Register count_lstm() for <class 'torch.nn.modules.rnn.LSTM'>.\n",
            "[INFO] Register count_linear() for <class 'torch.nn.modules.linear.Linear'>.\n",
            "[INFO] Register zero_ops() for <class 'torch.nn.modules.activation.ReLU'>.\n",
            "[INFO] Register zero_ops() for <class 'torch.nn.modules.container.Sequential'>.\n",
            "Flops: 72372860672.00\n",
            "MLOPS: 189.74\n"
          ]
        },
        {
          "output_type": "stream",
          "name": "stderr",
          "text": [
            "<ipython-input-2-3bb857ec729e>:44: UserWarning: To copy construct from a tensor, it is recommended to use sourceTensor.clone().detach() or sourceTensor.clone().detach().requires_grad_(True), rather than torch.tensor(sourceTensor).\n",
            "  'label': torch.tensor(self.label_list[item])\n"
          ]
        },
        {
          "output_type": "stream",
          "name": "stdout",
          "text": [
            "epoch: 64 step: 0/42\n",
            "epoch: 64 step: 4/42\n",
            "epoch: 64 step: 8/42\n",
            "epoch: 64 step: 12/42\n",
            "epoch: 64 step: 16/42\n",
            "epoch: 64 step: 20/42\n",
            "epoch: 64 step: 24/42\n",
            "epoch: 64 step: 28/42\n",
            "epoch: 64 step: 32/42\n",
            "epoch: 64 step: 36/42\n",
            "epoch: 64 step: 40/42\n"
          ]
        },
        {
          "output_type": "stream",
          "name": "stderr",
          "text": [
            "/usr/local/lib/python3.10/dist-packages/sklearn/utils/_array_api.py:185: FutureWarning: The input object of type 'Tensor' is an array-like implementing one of the corresponding protocols (`__array__`, `__array_interface__` or `__array_struct__`); but not a sequence (or 0-D). In the future, this object will be coerced as if it was first converted using `np.array(obj)`. To retain the old behaviour, you have to either modify the type 'Tensor', or assign to an empty array created with `np.empty(correct_shape, dtype=object)`.\n",
            "  array = numpy.asarray(array, order=order, dtype=dtype)\n",
            "/usr/local/lib/python3.10/dist-packages/sklearn/utils/_array_api.py:185: VisibleDeprecationWarning: Creating an ndarray from ragged nested sequences (which is a list-or-tuple of lists-or-tuples-or ndarrays with different lengths or shapes) is deprecated. If you meant to do this, you must specify 'dtype=object' when creating the ndarray.\n",
            "  array = numpy.asarray(array, order=order, dtype=dtype)\n",
            "<ipython-input-2-3bb857ec729e>:44: UserWarning: To copy construct from a tensor, it is recommended to use sourceTensor.clone().detach() or sourceTensor.clone().detach().requires_grad_(True), rather than torch.tensor(sourceTensor).\n",
            "  'label': torch.tensor(self.label_list[item])\n"
          ]
        },
        {
          "output_type": "stream",
          "name": "stdout",
          "text": [
            "test\n",
            "epoch: 64 train_loss: 0.0058420256190445455 train_acc: 98.47% train_f1: 97.50%\n"
          ]
        },
        {
          "output_type": "stream",
          "name": "stderr",
          "text": [
            "/usr/local/lib/python3.10/dist-packages/sklearn/utils/_array_api.py:185: FutureWarning: The input object of type 'Tensor' is an array-like implementing one of the corresponding protocols (`__array__`, `__array_interface__` or `__array_struct__`); but not a sequence (or 0-D). In the future, this object will be coerced as if it was first converted using `np.array(obj)`. To retain the old behaviour, you have to either modify the type 'Tensor', or assign to an empty array created with `np.empty(correct_shape, dtype=object)`.\n",
            "  array = numpy.asarray(array, order=order, dtype=dtype)\n",
            "/usr/local/lib/python3.10/dist-packages/sklearn/utils/_array_api.py:185: VisibleDeprecationWarning: Creating an ndarray from ragged nested sequences (which is a list-or-tuple of lists-or-tuples-or ndarrays with different lengths or shapes) is deprecated. If you meant to do this, you must specify 'dtype=object' when creating the ndarray.\n",
            "  array = numpy.asarray(array, order=order, dtype=dtype)\n",
            "<ipython-input-2-3bb857ec729e>:44: UserWarning: To copy construct from a tensor, it is recommended to use sourceTensor.clone().detach() or sourceTensor.clone().detach().requires_grad_(True), rather than torch.tensor(sourceTensor).\n",
            "  'label': torch.tensor(self.label_list[item])\n"
          ]
        },
        {
          "output_type": "stream",
          "name": "stdout",
          "text": [
            "          val_loss: 0.2873138358647173 val_acc 77.31% val_f1: 60.82%\n",
            "TextRNN AUC =  0.8216592941475989\n",
            "Specificity =  0.8528784648187633\n",
            "Sensitivity =  0.5870646766169154\n",
            "              precision    recall  f1-score   support\n",
            "\n",
            "         0.0     0.8282    0.8529    0.8403       469\n",
            "         1.0     0.6310    0.5871    0.6082       201\n",
            "\n",
            "    accuracy                         0.7731       670\n",
            "   macro avg     0.7296    0.7200    0.7243       670\n",
            "weighted avg     0.7690    0.7731    0.7707       670\n",
            "\n",
            "[INFO] Register count_lstm() for <class 'torch.nn.modules.rnn.LSTM'>.\n",
            "[INFO] Register count_linear() for <class 'torch.nn.modules.linear.Linear'>.\n",
            "[INFO] Register zero_ops() for <class 'torch.nn.modules.activation.ReLU'>.\n",
            "[INFO] Register zero_ops() for <class 'torch.nn.modules.container.Sequential'>.\n",
            "Flops: 72372860672.00\n",
            "MLOPS: 184.70\n",
            "epoch: 65 step: 0/42\n",
            "epoch: 65 step: 4/42\n",
            "epoch: 65 step: 8/42\n",
            "epoch: 65 step: 12/42\n",
            "epoch: 65 step: 16/42\n",
            "epoch: 65 step: 20/42\n",
            "epoch: 65 step: 24/42\n",
            "epoch: 65 step: 28/42\n",
            "epoch: 65 step: 32/42\n",
            "epoch: 65 step: 36/42\n",
            "epoch: 65 step: 40/42\n"
          ]
        },
        {
          "output_type": "stream",
          "name": "stderr",
          "text": [
            "/usr/local/lib/python3.10/dist-packages/sklearn/utils/_array_api.py:185: FutureWarning: The input object of type 'Tensor' is an array-like implementing one of the corresponding protocols (`__array__`, `__array_interface__` or `__array_struct__`); but not a sequence (or 0-D). In the future, this object will be coerced as if it was first converted using `np.array(obj)`. To retain the old behaviour, you have to either modify the type 'Tensor', or assign to an empty array created with `np.empty(correct_shape, dtype=object)`.\n",
            "  array = numpy.asarray(array, order=order, dtype=dtype)\n",
            "/usr/local/lib/python3.10/dist-packages/sklearn/utils/_array_api.py:185: VisibleDeprecationWarning: Creating an ndarray from ragged nested sequences (which is a list-or-tuple of lists-or-tuples-or ndarrays with different lengths or shapes) is deprecated. If you meant to do this, you must specify 'dtype=object' when creating the ndarray.\n",
            "  array = numpy.asarray(array, order=order, dtype=dtype)\n",
            "<ipython-input-2-3bb857ec729e>:44: UserWarning: To copy construct from a tensor, it is recommended to use sourceTensor.clone().detach() or sourceTensor.clone().detach().requires_grad_(True), rather than torch.tensor(sourceTensor).\n",
            "  'label': torch.tensor(self.label_list[item])\n"
          ]
        },
        {
          "output_type": "stream",
          "name": "stdout",
          "text": [
            "test\n",
            "epoch: 65 train_loss: 0.008532398790564565 train_acc: 96.01% train_f1: 93.75%\n"
          ]
        },
        {
          "output_type": "stream",
          "name": "stderr",
          "text": [
            "/usr/local/lib/python3.10/dist-packages/sklearn/utils/_array_api.py:185: FutureWarning: The input object of type 'Tensor' is an array-like implementing one of the corresponding protocols (`__array__`, `__array_interface__` or `__array_struct__`); but not a sequence (or 0-D). In the future, this object will be coerced as if it was first converted using `np.array(obj)`. To retain the old behaviour, you have to either modify the type 'Tensor', or assign to an empty array created with `np.empty(correct_shape, dtype=object)`.\n",
            "  array = numpy.asarray(array, order=order, dtype=dtype)\n",
            "/usr/local/lib/python3.10/dist-packages/sklearn/utils/_array_api.py:185: VisibleDeprecationWarning: Creating an ndarray from ragged nested sequences (which is a list-or-tuple of lists-or-tuples-or ndarrays with different lengths or shapes) is deprecated. If you meant to do this, you must specify 'dtype=object' when creating the ndarray.\n",
            "  array = numpy.asarray(array, order=order, dtype=dtype)\n",
            "<ipython-input-2-3bb857ec729e>:44: UserWarning: To copy construct from a tensor, it is recommended to use sourceTensor.clone().detach() or sourceTensor.clone().detach().requires_grad_(True), rather than torch.tensor(sourceTensor).\n",
            "  'label': torch.tensor(self.label_list[item])\n"
          ]
        },
        {
          "output_type": "stream",
          "name": "stdout",
          "text": [
            "          val_loss: 0.18145295097069306 val_acc 75.97% val_f1: 65.52%\n",
            "TextRNN AUC =  0.8251386988299441\n",
            "Specificity =  0.7590618336886994\n",
            "Sensitivity =  0.7611940298507462\n",
            "              precision    recall  f1-score   support\n",
            "\n",
            "         0.0     0.8812    0.7591    0.8156       469\n",
            "         1.0     0.5752    0.7612    0.6552       201\n",
            "\n",
            "    accuracy                         0.7597       670\n",
            "   macro avg     0.7282    0.7601    0.7354       670\n",
            "weighted avg     0.7894    0.7597    0.7675       670\n",
            "\n",
            "[INFO] Register count_lstm() for <class 'torch.nn.modules.rnn.LSTM'>.\n",
            "[INFO] Register count_linear() for <class 'torch.nn.modules.linear.Linear'>.\n",
            "[INFO] Register zero_ops() for <class 'torch.nn.modules.activation.ReLU'>.\n",
            "[INFO] Register zero_ops() for <class 'torch.nn.modules.container.Sequential'>.\n",
            "Flops: 72372860672.00\n",
            "MLOPS: 186.73\n",
            "epoch: 66 step: 0/42\n",
            "epoch: 66 step: 4/42\n",
            "epoch: 66 step: 8/42\n",
            "epoch: 66 step: 12/42\n",
            "epoch: 66 step: 16/42\n",
            "epoch: 66 step: 20/42\n",
            "epoch: 66 step: 24/42\n",
            "epoch: 66 step: 28/42\n",
            "epoch: 66 step: 32/42\n",
            "epoch: 66 step: 36/42\n",
            "epoch: 66 step: 40/42\n"
          ]
        },
        {
          "output_type": "stream",
          "name": "stderr",
          "text": [
            "/usr/local/lib/python3.10/dist-packages/sklearn/utils/_array_api.py:185: FutureWarning: The input object of type 'Tensor' is an array-like implementing one of the corresponding protocols (`__array__`, `__array_interface__` or `__array_struct__`); but not a sequence (or 0-D). In the future, this object will be coerced as if it was first converted using `np.array(obj)`. To retain the old behaviour, you have to either modify the type 'Tensor', or assign to an empty array created with `np.empty(correct_shape, dtype=object)`.\n",
            "  array = numpy.asarray(array, order=order, dtype=dtype)\n",
            "/usr/local/lib/python3.10/dist-packages/sklearn/utils/_array_api.py:185: VisibleDeprecationWarning: Creating an ndarray from ragged nested sequences (which is a list-or-tuple of lists-or-tuples-or ndarrays with different lengths or shapes) is deprecated. If you meant to do this, you must specify 'dtype=object' when creating the ndarray.\n",
            "  array = numpy.asarray(array, order=order, dtype=dtype)\n"
          ]
        },
        {
          "output_type": "stream",
          "name": "stdout",
          "text": [
            "test\n",
            "epoch: 66 train_loss: 0.005687833927194809 train_acc: 98.28% train_f1: 97.21%\n"
          ]
        },
        {
          "output_type": "stream",
          "name": "stderr",
          "text": [
            "<ipython-input-2-3bb857ec729e>:44: UserWarning: To copy construct from a tensor, it is recommended to use sourceTensor.clone().detach() or sourceTensor.clone().detach().requires_grad_(True), rather than torch.tensor(sourceTensor).\n",
            "  'label': torch.tensor(self.label_list[item])\n",
            "/usr/local/lib/python3.10/dist-packages/sklearn/utils/_array_api.py:185: FutureWarning: The input object of type 'Tensor' is an array-like implementing one of the corresponding protocols (`__array__`, `__array_interface__` or `__array_struct__`); but not a sequence (or 0-D). In the future, this object will be coerced as if it was first converted using `np.array(obj)`. To retain the old behaviour, you have to either modify the type 'Tensor', or assign to an empty array created with `np.empty(correct_shape, dtype=object)`.\n",
            "  array = numpy.asarray(array, order=order, dtype=dtype)\n",
            "/usr/local/lib/python3.10/dist-packages/sklearn/utils/_array_api.py:185: VisibleDeprecationWarning: Creating an ndarray from ragged nested sequences (which is a list-or-tuple of lists-or-tuples-or ndarrays with different lengths or shapes) is deprecated. If you meant to do this, you must specify 'dtype=object' when creating the ndarray.\n",
            "  array = numpy.asarray(array, order=order, dtype=dtype)\n",
            "<ipython-input-2-3bb857ec729e>:44: UserWarning: To copy construct from a tensor, it is recommended to use sourceTensor.clone().detach() or sourceTensor.clone().detach().requires_grad_(True), rather than torch.tensor(sourceTensor).\n",
            "  'label': torch.tensor(self.label_list[item])\n"
          ]
        },
        {
          "output_type": "stream",
          "name": "stdout",
          "text": [
            "          val_loss: 0.28886091302741657 val_acc 76.87% val_f1: 61.73%\n",
            "TextRNN AUC =  0.8171297032958872\n",
            "Specificity =  0.8315565031982942\n",
            "Sensitivity =  0.6218905472636815\n",
            "              precision    recall  f1-score   support\n",
            "\n",
            "         0.0     0.8369    0.8316    0.8342       469\n",
            "         1.0     0.6127    0.6219    0.6173       201\n",
            "\n",
            "    accuracy                         0.7687       670\n",
            "   macro avg     0.7248    0.7267    0.7258       670\n",
            "weighted avg     0.7697    0.7687    0.7691       670\n",
            "\n",
            "[INFO] Register count_lstm() for <class 'torch.nn.modules.rnn.LSTM'>.\n",
            "[INFO] Register count_linear() for <class 'torch.nn.modules.linear.Linear'>.\n",
            "[INFO] Register zero_ops() for <class 'torch.nn.modules.activation.ReLU'>.\n",
            "[INFO] Register zero_ops() for <class 'torch.nn.modules.container.Sequential'>.\n",
            "Flops: 72372860672.00\n",
            "MLOPS: 186.64\n",
            "epoch: 67 step: 0/42\n",
            "epoch: 67 step: 4/42\n",
            "epoch: 67 step: 8/42\n",
            "epoch: 67 step: 12/42\n",
            "epoch: 67 step: 16/42\n",
            "epoch: 67 step: 20/42\n",
            "epoch: 67 step: 24/42\n",
            "epoch: 67 step: 28/42\n",
            "epoch: 67 step: 32/42\n",
            "epoch: 67 step: 36/42\n",
            "epoch: 67 step: 40/42\n"
          ]
        },
        {
          "output_type": "stream",
          "name": "stderr",
          "text": [
            "/usr/local/lib/python3.10/dist-packages/sklearn/utils/_array_api.py:185: FutureWarning: The input object of type 'Tensor' is an array-like implementing one of the corresponding protocols (`__array__`, `__array_interface__` or `__array_struct__`); but not a sequence (or 0-D). In the future, this object will be coerced as if it was first converted using `np.array(obj)`. To retain the old behaviour, you have to either modify the type 'Tensor', or assign to an empty array created with `np.empty(correct_shape, dtype=object)`.\n",
            "  array = numpy.asarray(array, order=order, dtype=dtype)\n",
            "/usr/local/lib/python3.10/dist-packages/sklearn/utils/_array_api.py:185: VisibleDeprecationWarning: Creating an ndarray from ragged nested sequences (which is a list-or-tuple of lists-or-tuples-or ndarrays with different lengths or shapes) is deprecated. If you meant to do this, you must specify 'dtype=object' when creating the ndarray.\n",
            "  array = numpy.asarray(array, order=order, dtype=dtype)\n",
            "<ipython-input-2-3bb857ec729e>:44: UserWarning: To copy construct from a tensor, it is recommended to use sourceTensor.clone().detach() or sourceTensor.clone().detach().requires_grad_(True), rather than torch.tensor(sourceTensor).\n",
            "  'label': torch.tensor(self.label_list[item])\n"
          ]
        },
        {
          "output_type": "stream",
          "name": "stdout",
          "text": [
            "test\n",
            "epoch: 67 train_loss: 0.005525317353506883 train_acc: 98.40% train_f1: 97.38%\n"
          ]
        },
        {
          "output_type": "stream",
          "name": "stderr",
          "text": [
            "/usr/local/lib/python3.10/dist-packages/sklearn/utils/_array_api.py:185: FutureWarning: The input object of type 'Tensor' is an array-like implementing one of the corresponding protocols (`__array__`, `__array_interface__` or `__array_struct__`); but not a sequence (or 0-D). In the future, this object will be coerced as if it was first converted using `np.array(obj)`. To retain the old behaviour, you have to either modify the type 'Tensor', or assign to an empty array created with `np.empty(correct_shape, dtype=object)`.\n",
            "  array = numpy.asarray(array, order=order, dtype=dtype)\n",
            "/usr/local/lib/python3.10/dist-packages/sklearn/utils/_array_api.py:185: VisibleDeprecationWarning: Creating an ndarray from ragged nested sequences (which is a list-or-tuple of lists-or-tuples-or ndarrays with different lengths or shapes) is deprecated. If you meant to do this, you must specify 'dtype=object' when creating the ndarray.\n",
            "  array = numpy.asarray(array, order=order, dtype=dtype)\n",
            "<ipython-input-2-3bb857ec729e>:44: UserWarning: To copy construct from a tensor, it is recommended to use sourceTensor.clone().detach() or sourceTensor.clone().detach().requires_grad_(True), rather than torch.tensor(sourceTensor).\n",
            "  'label': torch.tensor(self.label_list[item])\n"
          ]
        },
        {
          "output_type": "stream",
          "name": "stdout",
          "text": [
            "          val_loss: 0.3180914521217346 val_acc 76.72% val_f1: 59.59%\n",
            "TextRNN AUC =  0.8216380782653895\n",
            "Specificity =  0.8507462686567164\n",
            "Sensitivity =  0.572139303482587\n",
            "              precision    recall  f1-score   support\n",
            "\n",
            "         0.0     0.8227    0.8507    0.8365       469\n",
            "         1.0     0.6216    0.5721    0.5959       201\n",
            "\n",
            "    accuracy                         0.7672       670\n",
            "   macro avg     0.7222    0.7114    0.7162       670\n",
            "weighted avg     0.7624    0.7672    0.7643       670\n",
            "\n",
            "[INFO] Register count_lstm() for <class 'torch.nn.modules.rnn.LSTM'>.\n",
            "[INFO] Register count_linear() for <class 'torch.nn.modules.linear.Linear'>.\n",
            "[INFO] Register zero_ops() for <class 'torch.nn.modules.activation.ReLU'>.\n",
            "[INFO] Register zero_ops() for <class 'torch.nn.modules.container.Sequential'>.\n",
            "Flops: 72372860672.00\n",
            "MLOPS: 186.58\n",
            "epoch: 68 step: 0/42\n",
            "epoch: 68 step: 4/42\n",
            "epoch: 68 step: 8/42\n",
            "epoch: 68 step: 12/42\n",
            "epoch: 68 step: 16/42\n",
            "epoch: 68 step: 20/42\n",
            "epoch: 68 step: 24/42\n",
            "epoch: 68 step: 28/42\n",
            "epoch: 68 step: 32/42\n",
            "epoch: 68 step: 36/42\n",
            "epoch: 68 step: 40/42\n"
          ]
        },
        {
          "output_type": "stream",
          "name": "stderr",
          "text": [
            "/usr/local/lib/python3.10/dist-packages/sklearn/utils/_array_api.py:185: FutureWarning: The input object of type 'Tensor' is an array-like implementing one of the corresponding protocols (`__array__`, `__array_interface__` or `__array_struct__`); but not a sequence (or 0-D). In the future, this object will be coerced as if it was first converted using `np.array(obj)`. To retain the old behaviour, you have to either modify the type 'Tensor', or assign to an empty array created with `np.empty(correct_shape, dtype=object)`.\n",
            "  array = numpy.asarray(array, order=order, dtype=dtype)\n",
            "/usr/local/lib/python3.10/dist-packages/sklearn/utils/_array_api.py:185: VisibleDeprecationWarning: Creating an ndarray from ragged nested sequences (which is a list-or-tuple of lists-or-tuples-or ndarrays with different lengths or shapes) is deprecated. If you meant to do this, you must specify 'dtype=object' when creating the ndarray.\n",
            "  array = numpy.asarray(array, order=order, dtype=dtype)\n",
            "<ipython-input-2-3bb857ec729e>:44: UserWarning: To copy construct from a tensor, it is recommended to use sourceTensor.clone().detach() or sourceTensor.clone().detach().requires_grad_(True), rather than torch.tensor(sourceTensor).\n",
            "  'label': torch.tensor(self.label_list[item])\n"
          ]
        },
        {
          "output_type": "stream",
          "name": "stdout",
          "text": [
            "test\n",
            "epoch: 68 train_loss: 0.005038874564758901 train_acc: 98.21% train_f1: 97.10%\n"
          ]
        },
        {
          "output_type": "stream",
          "name": "stderr",
          "text": [
            "/usr/local/lib/python3.10/dist-packages/sklearn/utils/_array_api.py:185: FutureWarning: The input object of type 'Tensor' is an array-like implementing one of the corresponding protocols (`__array__`, `__array_interface__` or `__array_struct__`); but not a sequence (or 0-D). In the future, this object will be coerced as if it was first converted using `np.array(obj)`. To retain the old behaviour, you have to either modify the type 'Tensor', or assign to an empty array created with `np.empty(correct_shape, dtype=object)`.\n",
            "  array = numpy.asarray(array, order=order, dtype=dtype)\n",
            "/usr/local/lib/python3.10/dist-packages/sklearn/utils/_array_api.py:185: VisibleDeprecationWarning: Creating an ndarray from ragged nested sequences (which is a list-or-tuple of lists-or-tuples-or ndarrays with different lengths or shapes) is deprecated. If you meant to do this, you must specify 'dtype=object' when creating the ndarray.\n",
            "  array = numpy.asarray(array, order=order, dtype=dtype)\n",
            "<ipython-input-2-3bb857ec729e>:44: UserWarning: To copy construct from a tensor, it is recommended to use sourceTensor.clone().detach() or sourceTensor.clone().detach().requires_grad_(True), rather than torch.tensor(sourceTensor).\n",
            "  'label': torch.tensor(self.label_list[item])\n"
          ]
        },
        {
          "output_type": "stream",
          "name": "stdout",
          "text": [
            "          val_loss: 0.2716129625385458 val_acc 77.01% val_f1: 62.62%\n",
            "TextRNN AUC =  0.8209061303291644\n",
            "Specificity =  0.8251599147121536\n",
            "Sensitivity =  0.6417910447761194\n",
            "              precision    recall  f1-score   support\n",
            "\n",
            "         0.0     0.8431    0.8252    0.8341       469\n",
            "         1.0     0.6114    0.6418    0.6262       201\n",
            "\n",
            "    accuracy                         0.7701       670\n",
            "   macro avg     0.7273    0.7335    0.7301       670\n",
            "weighted avg     0.7736    0.7701    0.7717       670\n",
            "\n",
            "[INFO] Register count_lstm() for <class 'torch.nn.modules.rnn.LSTM'>.\n",
            "[INFO] Register count_linear() for <class 'torch.nn.modules.linear.Linear'>.\n",
            "[INFO] Register zero_ops() for <class 'torch.nn.modules.activation.ReLU'>.\n",
            "[INFO] Register zero_ops() for <class 'torch.nn.modules.container.Sequential'>.\n",
            "Flops: 72372860672.00\n",
            "MLOPS: 185.11\n",
            "epoch: 69 step: 0/42\n",
            "epoch: 69 step: 4/42\n",
            "epoch: 69 step: 8/42\n",
            "epoch: 69 step: 12/42\n",
            "epoch: 69 step: 16/42\n",
            "epoch: 69 step: 20/42\n",
            "epoch: 69 step: 24/42\n",
            "epoch: 69 step: 28/42\n",
            "epoch: 69 step: 32/42\n",
            "epoch: 69 step: 36/42\n",
            "epoch: 69 step: 40/42\n"
          ]
        },
        {
          "output_type": "stream",
          "name": "stderr",
          "text": [
            "/usr/local/lib/python3.10/dist-packages/sklearn/utils/_array_api.py:185: FutureWarning: The input object of type 'Tensor' is an array-like implementing one of the corresponding protocols (`__array__`, `__array_interface__` or `__array_struct__`); but not a sequence (or 0-D). In the future, this object will be coerced as if it was first converted using `np.array(obj)`. To retain the old behaviour, you have to either modify the type 'Tensor', or assign to an empty array created with `np.empty(correct_shape, dtype=object)`.\n",
            "  array = numpy.asarray(array, order=order, dtype=dtype)\n",
            "/usr/local/lib/python3.10/dist-packages/sklearn/utils/_array_api.py:185: VisibleDeprecationWarning: Creating an ndarray from ragged nested sequences (which is a list-or-tuple of lists-or-tuples-or ndarrays with different lengths or shapes) is deprecated. If you meant to do this, you must specify 'dtype=object' when creating the ndarray.\n",
            "  array = numpy.asarray(array, order=order, dtype=dtype)\n",
            "<ipython-input-2-3bb857ec729e>:44: UserWarning: To copy construct from a tensor, it is recommended to use sourceTensor.clone().detach() or sourceTensor.clone().detach().requires_grad_(True), rather than torch.tensor(sourceTensor).\n",
            "  'label': torch.tensor(self.label_list[item])\n"
          ]
        },
        {
          "output_type": "stream",
          "name": "stdout",
          "text": [
            "test\n",
            "epoch: 69 train_loss: 0.0043480115183185605 train_acc: 98.88% train_f1: 98.17%\n"
          ]
        },
        {
          "output_type": "stream",
          "name": "stderr",
          "text": [
            "/usr/local/lib/python3.10/dist-packages/sklearn/utils/_array_api.py:185: FutureWarning: The input object of type 'Tensor' is an array-like implementing one of the corresponding protocols (`__array__`, `__array_interface__` or `__array_struct__`); but not a sequence (or 0-D). In the future, this object will be coerced as if it was first converted using `np.array(obj)`. To retain the old behaviour, you have to either modify the type 'Tensor', or assign to an empty array created with `np.empty(correct_shape, dtype=object)`.\n",
            "  array = numpy.asarray(array, order=order, dtype=dtype)\n",
            "/usr/local/lib/python3.10/dist-packages/sklearn/utils/_array_api.py:185: VisibleDeprecationWarning: Creating an ndarray from ragged nested sequences (which is a list-or-tuple of lists-or-tuples-or ndarrays with different lengths or shapes) is deprecated. If you meant to do this, you must specify 'dtype=object' when creating the ndarray.\n",
            "  array = numpy.asarray(array, order=order, dtype=dtype)\n",
            "<ipython-input-2-3bb857ec729e>:44: UserWarning: To copy construct from a tensor, it is recommended to use sourceTensor.clone().detach() or sourceTensor.clone().detach().requires_grad_(True), rather than torch.tensor(sourceTensor).\n",
            "  'label': torch.tensor(self.label_list[item])\n"
          ]
        },
        {
          "output_type": "stream",
          "name": "stdout",
          "text": [
            "          val_loss: 0.32202688469128177 val_acc 76.72% val_f1: 60.00%\n",
            "TextRNN AUC =  0.8185299515217092\n",
            "Specificity =  0.8464818763326226\n",
            "Sensitivity =  0.582089552238806\n",
            "              precision    recall  f1-score   support\n",
            "\n",
            "         0.0     0.8254    0.8465    0.8358       469\n",
            "         1.0     0.6190    0.5821    0.6000       201\n",
            "\n",
            "    accuracy                         0.7672       670\n",
            "   macro avg     0.7222    0.7143    0.7179       670\n",
            "weighted avg     0.7635    0.7672    0.7651       670\n",
            "\n",
            "[INFO] Register count_lstm() for <class 'torch.nn.modules.rnn.LSTM'>.\n",
            "[INFO] Register count_linear() for <class 'torch.nn.modules.linear.Linear'>.\n",
            "[INFO] Register zero_ops() for <class 'torch.nn.modules.activation.ReLU'>.\n",
            "[INFO] Register zero_ops() for <class 'torch.nn.modules.container.Sequential'>.\n",
            "Flops: 72372860672.00\n",
            "MLOPS: 186.61\n",
            "epoch: 70 step: 0/42\n",
            "epoch: 70 step: 4/42\n",
            "epoch: 70 step: 8/42\n",
            "epoch: 70 step: 12/42\n",
            "epoch: 70 step: 16/42\n",
            "epoch: 70 step: 20/42\n",
            "epoch: 70 step: 24/42\n",
            "epoch: 70 step: 28/42\n",
            "epoch: 70 step: 32/42\n",
            "epoch: 70 step: 36/42\n",
            "epoch: 70 step: 40/42\n"
          ]
        },
        {
          "output_type": "stream",
          "name": "stderr",
          "text": [
            "/usr/local/lib/python3.10/dist-packages/sklearn/utils/_array_api.py:185: FutureWarning: The input object of type 'Tensor' is an array-like implementing one of the corresponding protocols (`__array__`, `__array_interface__` or `__array_struct__`); but not a sequence (or 0-D). In the future, this object will be coerced as if it was first converted using `np.array(obj)`. To retain the old behaviour, you have to either modify the type 'Tensor', or assign to an empty array created with `np.empty(correct_shape, dtype=object)`.\n",
            "  array = numpy.asarray(array, order=order, dtype=dtype)\n",
            "/usr/local/lib/python3.10/dist-packages/sklearn/utils/_array_api.py:185: VisibleDeprecationWarning: Creating an ndarray from ragged nested sequences (which is a list-or-tuple of lists-or-tuples-or ndarrays with different lengths or shapes) is deprecated. If you meant to do this, you must specify 'dtype=object' when creating the ndarray.\n",
            "  array = numpy.asarray(array, order=order, dtype=dtype)\n",
            "<ipython-input-2-3bb857ec729e>:44: UserWarning: To copy construct from a tensor, it is recommended to use sourceTensor.clone().detach() or sourceTensor.clone().detach().requires_grad_(True), rather than torch.tensor(sourceTensor).\n",
            "  'label': torch.tensor(self.label_list[item])\n"
          ]
        },
        {
          "output_type": "stream",
          "name": "stdout",
          "text": [
            "test\n",
            "epoch: 70 train_loss: 0.003890561444374422 train_acc: 98.92% train_f1: 98.23%\n"
          ]
        },
        {
          "output_type": "stream",
          "name": "stderr",
          "text": [
            "/usr/local/lib/python3.10/dist-packages/sklearn/utils/_array_api.py:185: FutureWarning: The input object of type 'Tensor' is an array-like implementing one of the corresponding protocols (`__array__`, `__array_interface__` or `__array_struct__`); but not a sequence (or 0-D). In the future, this object will be coerced as if it was first converted using `np.array(obj)`. To retain the old behaviour, you have to either modify the type 'Tensor', or assign to an empty array created with `np.empty(correct_shape, dtype=object)`.\n",
            "  array = numpy.asarray(array, order=order, dtype=dtype)\n",
            "/usr/local/lib/python3.10/dist-packages/sklearn/utils/_array_api.py:185: VisibleDeprecationWarning: Creating an ndarray from ragged nested sequences (which is a list-or-tuple of lists-or-tuples-or ndarrays with different lengths or shapes) is deprecated. If you meant to do this, you must specify 'dtype=object' when creating the ndarray.\n",
            "  array = numpy.asarray(array, order=order, dtype=dtype)\n"
          ]
        },
        {
          "output_type": "stream",
          "name": "stdout",
          "text": [
            "          val_loss: 0.3244113718921488 val_acc 77.46% val_f1: 61.38%\n",
            "TextRNN AUC =  0.82051363650829\n",
            "Specificity =  0.8507462686567164\n",
            "Sensitivity =  0.5970149253731343\n",
            "              precision    recall  f1-score   support\n",
            "\n",
            "         0.0     0.8313    0.8507    0.8409       469\n",
            "         1.0     0.6316    0.5970    0.6138       201\n",
            "\n",
            "    accuracy                         0.7746       670\n",
            "   macro avg     0.7314    0.7239    0.7273       670\n",
            "weighted avg     0.7713    0.7746    0.7728       670\n",
            "\n",
            "[INFO] Register count_lstm() for <class 'torch.nn.modules.rnn.LSTM'>.\n",
            "[INFO] Register count_linear() for <class 'torch.nn.modules.linear.Linear'>.\n",
            "[INFO] Register zero_ops() for <class 'torch.nn.modules.activation.ReLU'>.\n",
            "[INFO] Register zero_ops() for <class 'torch.nn.modules.container.Sequential'>.\n",
            "Flops: 72372860672.00\n",
            "MLOPS: 186.03\n"
          ]
        },
        {
          "output_type": "stream",
          "name": "stderr",
          "text": [
            "<ipython-input-2-3bb857ec729e>:44: UserWarning: To copy construct from a tensor, it is recommended to use sourceTensor.clone().detach() or sourceTensor.clone().detach().requires_grad_(True), rather than torch.tensor(sourceTensor).\n",
            "  'label': torch.tensor(self.label_list[item])\n"
          ]
        },
        {
          "output_type": "stream",
          "name": "stdout",
          "text": [
            "epoch: 71 step: 0/42\n",
            "epoch: 71 step: 4/42\n",
            "epoch: 71 step: 8/42\n",
            "epoch: 71 step: 12/42\n",
            "epoch: 71 step: 16/42\n",
            "epoch: 71 step: 20/42\n",
            "epoch: 71 step: 24/42\n",
            "epoch: 71 step: 28/42\n",
            "epoch: 71 step: 32/42\n",
            "epoch: 71 step: 36/42\n",
            "epoch: 71 step: 40/42\n"
          ]
        },
        {
          "output_type": "stream",
          "name": "stderr",
          "text": [
            "/usr/local/lib/python3.10/dist-packages/sklearn/utils/_array_api.py:185: FutureWarning: The input object of type 'Tensor' is an array-like implementing one of the corresponding protocols (`__array__`, `__array_interface__` or `__array_struct__`); but not a sequence (or 0-D). In the future, this object will be coerced as if it was first converted using `np.array(obj)`. To retain the old behaviour, you have to either modify the type 'Tensor', or assign to an empty array created with `np.empty(correct_shape, dtype=object)`.\n",
            "  array = numpy.asarray(array, order=order, dtype=dtype)\n",
            "/usr/local/lib/python3.10/dist-packages/sklearn/utils/_array_api.py:185: VisibleDeprecationWarning: Creating an ndarray from ragged nested sequences (which is a list-or-tuple of lists-or-tuples-or ndarrays with different lengths or shapes) is deprecated. If you meant to do this, you must specify 'dtype=object' when creating the ndarray.\n",
            "  array = numpy.asarray(array, order=order, dtype=dtype)\n"
          ]
        },
        {
          "output_type": "stream",
          "name": "stdout",
          "text": [
            "test\n",
            "epoch: 71 train_loss: 0.004071738211981331 train_acc: 98.62% train_f1: 97.75%\n"
          ]
        },
        {
          "output_type": "stream",
          "name": "stderr",
          "text": [
            "<ipython-input-2-3bb857ec729e>:44: UserWarning: To copy construct from a tensor, it is recommended to use sourceTensor.clone().detach() or sourceTensor.clone().detach().requires_grad_(True), rather than torch.tensor(sourceTensor).\n",
            "  'label': torch.tensor(self.label_list[item])\n",
            "/usr/local/lib/python3.10/dist-packages/sklearn/utils/_array_api.py:185: FutureWarning: The input object of type 'Tensor' is an array-like implementing one of the corresponding protocols (`__array__`, `__array_interface__` or `__array_struct__`); but not a sequence (or 0-D). In the future, this object will be coerced as if it was first converted using `np.array(obj)`. To retain the old behaviour, you have to either modify the type 'Tensor', or assign to an empty array created with `np.empty(correct_shape, dtype=object)`.\n",
            "  array = numpy.asarray(array, order=order, dtype=dtype)\n",
            "/usr/local/lib/python3.10/dist-packages/sklearn/utils/_array_api.py:185: VisibleDeprecationWarning: Creating an ndarray from ragged nested sequences (which is a list-or-tuple of lists-or-tuples-or ndarrays with different lengths or shapes) is deprecated. If you meant to do this, you must specify 'dtype=object' when creating the ndarray.\n",
            "  array = numpy.asarray(array, order=order, dtype=dtype)\n",
            "<ipython-input-2-3bb857ec729e>:44: UserWarning: To copy construct from a tensor, it is recommended to use sourceTensor.clone().detach() or sourceTensor.clone().detach().requires_grad_(True), rather than torch.tensor(sourceTensor).\n",
            "  'label': torch.tensor(self.label_list[item])\n"
          ]
        },
        {
          "output_type": "stream",
          "name": "stdout",
          "text": [
            "          val_loss: 0.29248214242133225 val_acc 76.42% val_f1: 61.65%\n",
            "TextRNN AUC =  0.8185723832861279\n",
            "Specificity =  0.8208955223880597\n",
            "Sensitivity =  0.6318407960199005\n",
            "              precision    recall  f1-score   support\n",
            "\n",
            "         0.0     0.8388    0.8209    0.8297       469\n",
            "         1.0     0.6019    0.6318    0.6165       201\n",
            "\n",
            "    accuracy                         0.7642       670\n",
            "   macro avg     0.7203    0.7264    0.7231       670\n",
            "weighted avg     0.7677    0.7642    0.7658       670\n",
            "\n",
            "[INFO] Register count_lstm() for <class 'torch.nn.modules.rnn.LSTM'>.\n",
            "[INFO] Register count_linear() for <class 'torch.nn.modules.linear.Linear'>.\n",
            "[INFO] Register zero_ops() for <class 'torch.nn.modules.activation.ReLU'>.\n",
            "[INFO] Register zero_ops() for <class 'torch.nn.modules.container.Sequential'>.\n",
            "Flops: 72372860672.00\n",
            "MLOPS: 182.97\n",
            "epoch: 72 step: 0/42\n",
            "epoch: 72 step: 4/42\n",
            "epoch: 72 step: 8/42\n",
            "epoch: 72 step: 12/42\n",
            "epoch: 72 step: 16/42\n",
            "epoch: 72 step: 20/42\n",
            "epoch: 72 step: 24/42\n",
            "epoch: 72 step: 28/42\n",
            "epoch: 72 step: 32/42\n",
            "epoch: 72 step: 36/42\n",
            "epoch: 72 step: 40/42\n"
          ]
        },
        {
          "output_type": "stream",
          "name": "stderr",
          "text": [
            "/usr/local/lib/python3.10/dist-packages/sklearn/utils/_array_api.py:185: FutureWarning: The input object of type 'Tensor' is an array-like implementing one of the corresponding protocols (`__array__`, `__array_interface__` or `__array_struct__`); but not a sequence (or 0-D). In the future, this object will be coerced as if it was first converted using `np.array(obj)`. To retain the old behaviour, you have to either modify the type 'Tensor', or assign to an empty array created with `np.empty(correct_shape, dtype=object)`.\n",
            "  array = numpy.asarray(array, order=order, dtype=dtype)\n",
            "/usr/local/lib/python3.10/dist-packages/sklearn/utils/_array_api.py:185: VisibleDeprecationWarning: Creating an ndarray from ragged nested sequences (which is a list-or-tuple of lists-or-tuples-or ndarrays with different lengths or shapes) is deprecated. If you meant to do this, you must specify 'dtype=object' when creating the ndarray.\n",
            "  array = numpy.asarray(array, order=order, dtype=dtype)\n",
            "<ipython-input-2-3bb857ec729e>:44: UserWarning: To copy construct from a tensor, it is recommended to use sourceTensor.clone().detach() or sourceTensor.clone().detach().requires_grad_(True), rather than torch.tensor(sourceTensor).\n",
            "  'label': torch.tensor(self.label_list[item])\n"
          ]
        },
        {
          "output_type": "stream",
          "name": "stdout",
          "text": [
            "test\n",
            "epoch: 72 train_loss: 0.0036322156471821168 train_acc: 98.92% train_f1: 98.23%\n"
          ]
        },
        {
          "output_type": "stream",
          "name": "stderr",
          "text": [
            "/usr/local/lib/python3.10/dist-packages/sklearn/utils/_array_api.py:185: FutureWarning: The input object of type 'Tensor' is an array-like implementing one of the corresponding protocols (`__array__`, `__array_interface__` or `__array_struct__`); but not a sequence (or 0-D). In the future, this object will be coerced as if it was first converted using `np.array(obj)`. To retain the old behaviour, you have to either modify the type 'Tensor', or assign to an empty array created with `np.empty(correct_shape, dtype=object)`.\n",
            "  array = numpy.asarray(array, order=order, dtype=dtype)\n",
            "/usr/local/lib/python3.10/dist-packages/sklearn/utils/_array_api.py:185: VisibleDeprecationWarning: Creating an ndarray from ragged nested sequences (which is a list-or-tuple of lists-or-tuples-or ndarrays with different lengths or shapes) is deprecated. If you meant to do this, you must specify 'dtype=object' when creating the ndarray.\n",
            "  array = numpy.asarray(array, order=order, dtype=dtype)\n",
            "<ipython-input-2-3bb857ec729e>:44: UserWarning: To copy construct from a tensor, it is recommended to use sourceTensor.clone().detach() or sourceTensor.clone().detach().requires_grad_(True), rather than torch.tensor(sourceTensor).\n",
            "  'label': torch.tensor(self.label_list[item])\n"
          ]
        },
        {
          "output_type": "stream",
          "name": "stdout",
          "text": [
            "          val_loss: 0.260199636220932 val_acc 76.72% val_f1: 62.32%\n",
            "TextRNN AUC =  0.819123996223573\n",
            "Specificity =  0.8208955223880597\n",
            "Sensitivity =  0.6417910447761194\n",
            "              precision    recall  f1-score   support\n",
            "\n",
            "         0.0     0.8425    0.8209    0.8315       469\n",
            "         1.0     0.6056    0.6418    0.6232       201\n",
            "\n",
            "    accuracy                         0.7672       670\n",
            "   macro avg     0.7240    0.7313    0.7274       670\n",
            "weighted avg     0.7714    0.7672    0.7690       670\n",
            "\n",
            "[INFO] Register count_lstm() for <class 'torch.nn.modules.rnn.LSTM'>.\n",
            "[INFO] Register count_linear() for <class 'torch.nn.modules.linear.Linear'>.\n",
            "[INFO] Register zero_ops() for <class 'torch.nn.modules.activation.ReLU'>.\n",
            "[INFO] Register zero_ops() for <class 'torch.nn.modules.container.Sequential'>.\n",
            "Flops: 72372860672.00\n",
            "MLOPS: 184.98\n",
            "epoch: 73 step: 0/42\n",
            "epoch: 73 step: 4/42\n",
            "epoch: 73 step: 8/42\n",
            "epoch: 73 step: 12/42\n",
            "epoch: 73 step: 16/42\n",
            "epoch: 73 step: 20/42\n",
            "epoch: 73 step: 24/42\n",
            "epoch: 73 step: 28/42\n",
            "epoch: 73 step: 32/42\n",
            "epoch: 73 step: 36/42\n",
            "epoch: 73 step: 40/42\n"
          ]
        },
        {
          "output_type": "stream",
          "name": "stderr",
          "text": [
            "/usr/local/lib/python3.10/dist-packages/sklearn/utils/_array_api.py:185: FutureWarning: The input object of type 'Tensor' is an array-like implementing one of the corresponding protocols (`__array__`, `__array_interface__` or `__array_struct__`); but not a sequence (or 0-D). In the future, this object will be coerced as if it was first converted using `np.array(obj)`. To retain the old behaviour, you have to either modify the type 'Tensor', or assign to an empty array created with `np.empty(correct_shape, dtype=object)`.\n",
            "  array = numpy.asarray(array, order=order, dtype=dtype)\n",
            "/usr/local/lib/python3.10/dist-packages/sklearn/utils/_array_api.py:185: VisibleDeprecationWarning: Creating an ndarray from ragged nested sequences (which is a list-or-tuple of lists-or-tuples-or ndarrays with different lengths or shapes) is deprecated. If you meant to do this, you must specify 'dtype=object' when creating the ndarray.\n",
            "  array = numpy.asarray(array, order=order, dtype=dtype)\n",
            "<ipython-input-2-3bb857ec729e>:44: UserWarning: To copy construct from a tensor, it is recommended to use sourceTensor.clone().detach() or sourceTensor.clone().detach().requires_grad_(True), rather than torch.tensor(sourceTensor).\n",
            "  'label': torch.tensor(self.label_list[item])\n"
          ]
        },
        {
          "output_type": "stream",
          "name": "stdout",
          "text": [
            "test\n",
            "epoch: 73 train_loss: 0.007393627017292948 train_acc: 98.84% train_f1: 98.07%\n"
          ]
        },
        {
          "output_type": "stream",
          "name": "stderr",
          "text": [
            "/usr/local/lib/python3.10/dist-packages/sklearn/utils/_array_api.py:185: FutureWarning: The input object of type 'Tensor' is an array-like implementing one of the corresponding protocols (`__array__`, `__array_interface__` or `__array_struct__`); but not a sequence (or 0-D). In the future, this object will be coerced as if it was first converted using `np.array(obj)`. To retain the old behaviour, you have to either modify the type 'Tensor', or assign to an empty array created with `np.empty(correct_shape, dtype=object)`.\n",
            "  array = numpy.asarray(array, order=order, dtype=dtype)\n",
            "/usr/local/lib/python3.10/dist-packages/sklearn/utils/_array_api.py:185: VisibleDeprecationWarning: Creating an ndarray from ragged nested sequences (which is a list-or-tuple of lists-or-tuples-or ndarrays with different lengths or shapes) is deprecated. If you meant to do this, you must specify 'dtype=object' when creating the ndarray.\n",
            "  array = numpy.asarray(array, order=order, dtype=dtype)\n",
            "<ipython-input-2-3bb857ec729e>:44: UserWarning: To copy construct from a tensor, it is recommended to use sourceTensor.clone().detach() or sourceTensor.clone().detach().requires_grad_(True), rather than torch.tensor(sourceTensor).\n",
            "  'label': torch.tensor(self.label_list[item])\n"
          ]
        },
        {
          "output_type": "stream",
          "name": "stdout",
          "text": [
            "          val_loss: 0.3435996730219234 val_acc 78.51% val_f1: 60.87%\n",
            "TextRNN AUC =  0.8196968250432274\n",
            "Specificity =  0.8827292110874201\n",
            "Sensitivity =  0.5572139303482587\n",
            "              precision    recall  f1-score   support\n",
            "\n",
            "         0.0     0.8231    0.8827    0.8519       469\n",
            "         1.0     0.6707    0.5572    0.6087       201\n",
            "\n",
            "    accuracy                         0.7851       670\n",
            "   macro avg     0.7469    0.7200    0.7303       670\n",
            "weighted avg     0.7773    0.7851    0.7789       670\n",
            "\n",
            "[INFO] Register count_lstm() for <class 'torch.nn.modules.rnn.LSTM'>.\n",
            "[INFO] Register count_linear() for <class 'torch.nn.modules.linear.Linear'>.\n",
            "[INFO] Register zero_ops() for <class 'torch.nn.modules.activation.ReLU'>.\n",
            "[INFO] Register zero_ops() for <class 'torch.nn.modules.container.Sequential'>.\n",
            "Flops: 72372860672.00\n",
            "MLOPS: 185.80\n",
            "epoch: 74 step: 0/42\n",
            "epoch: 74 step: 4/42\n",
            "epoch: 74 step: 8/42\n",
            "epoch: 74 step: 12/42\n",
            "epoch: 74 step: 16/42\n",
            "epoch: 74 step: 20/42\n",
            "epoch: 74 step: 24/42\n",
            "epoch: 74 step: 28/42\n",
            "epoch: 74 step: 32/42\n",
            "epoch: 74 step: 36/42\n",
            "epoch: 74 step: 40/42\n"
          ]
        },
        {
          "output_type": "stream",
          "name": "stderr",
          "text": [
            "/usr/local/lib/python3.10/dist-packages/sklearn/utils/_array_api.py:185: FutureWarning: The input object of type 'Tensor' is an array-like implementing one of the corresponding protocols (`__array__`, `__array_interface__` or `__array_struct__`); but not a sequence (or 0-D). In the future, this object will be coerced as if it was first converted using `np.array(obj)`. To retain the old behaviour, you have to either modify the type 'Tensor', or assign to an empty array created with `np.empty(correct_shape, dtype=object)`.\n",
            "  array = numpy.asarray(array, order=order, dtype=dtype)\n",
            "/usr/local/lib/python3.10/dist-packages/sklearn/utils/_array_api.py:185: VisibleDeprecationWarning: Creating an ndarray from ragged nested sequences (which is a list-or-tuple of lists-or-tuples-or ndarrays with different lengths or shapes) is deprecated. If you meant to do this, you must specify 'dtype=object' when creating the ndarray.\n",
            "  array = numpy.asarray(array, order=order, dtype=dtype)\n",
            "<ipython-input-2-3bb857ec729e>:44: UserWarning: To copy construct from a tensor, it is recommended to use sourceTensor.clone().detach() or sourceTensor.clone().detach().requires_grad_(True), rather than torch.tensor(sourceTensor).\n",
            "  'label': torch.tensor(self.label_list[item])\n"
          ]
        },
        {
          "output_type": "stream",
          "name": "stdout",
          "text": [
            "test\n",
            "epoch: 74 train_loss: 0.003598927917967861 train_acc: 99.14% train_f1: 98.59%\n"
          ]
        },
        {
          "output_type": "stream",
          "name": "stderr",
          "text": [
            "/usr/local/lib/python3.10/dist-packages/sklearn/utils/_array_api.py:185: FutureWarning: The input object of type 'Tensor' is an array-like implementing one of the corresponding protocols (`__array__`, `__array_interface__` or `__array_struct__`); but not a sequence (or 0-D). In the future, this object will be coerced as if it was first converted using `np.array(obj)`. To retain the old behaviour, you have to either modify the type 'Tensor', or assign to an empty array created with `np.empty(correct_shape, dtype=object)`.\n",
            "  array = numpy.asarray(array, order=order, dtype=dtype)\n",
            "/usr/local/lib/python3.10/dist-packages/sklearn/utils/_array_api.py:185: VisibleDeprecationWarning: Creating an ndarray from ragged nested sequences (which is a list-or-tuple of lists-or-tuples-or ndarrays with different lengths or shapes) is deprecated. If you meant to do this, you must specify 'dtype=object' when creating the ndarray.\n",
            "  array = numpy.asarray(array, order=order, dtype=dtype)\n"
          ]
        },
        {
          "output_type": "stream",
          "name": "stdout",
          "text": [
            "          val_loss: 0.28067700090733444 val_acc 78.36% val_f1: 63.10%\n",
            "TextRNN AUC =  0.828374120866881\n",
            "Specificity =  0.8550106609808102\n",
            "Sensitivity =  0.6169154228855721\n",
            "              precision    recall  f1-score   support\n",
            "\n",
            "         0.0     0.8389    0.8550    0.8469       469\n",
            "         1.0     0.6458    0.6169    0.6310       201\n",
            "\n",
            "    accuracy                         0.7836       670\n",
            "   macro avg     0.7424    0.7360    0.7390       670\n",
            "weighted avg     0.7810    0.7836    0.7821       670\n",
            "\n",
            "[INFO] Register count_lstm() for <class 'torch.nn.modules.rnn.LSTM'>.\n",
            "[INFO] Register count_linear() for <class 'torch.nn.modules.linear.Linear'>.\n",
            "[INFO] Register zero_ops() for <class 'torch.nn.modules.activation.ReLU'>.\n",
            "[INFO] Register zero_ops() for <class 'torch.nn.modules.container.Sequential'>.\n",
            "Flops: 72372860672.00\n",
            "MLOPS: 186.50\n"
          ]
        },
        {
          "output_type": "stream",
          "name": "stderr",
          "text": [
            "<ipython-input-2-3bb857ec729e>:44: UserWarning: To copy construct from a tensor, it is recommended to use sourceTensor.clone().detach() or sourceTensor.clone().detach().requires_grad_(True), rather than torch.tensor(sourceTensor).\n",
            "  'label': torch.tensor(self.label_list[item])\n"
          ]
        },
        {
          "output_type": "stream",
          "name": "stdout",
          "text": [
            "epoch: 75 step: 0/42\n",
            "epoch: 75 step: 4/42\n",
            "epoch: 75 step: 8/42\n",
            "epoch: 75 step: 12/42\n",
            "epoch: 75 step: 16/42\n",
            "epoch: 75 step: 20/42\n",
            "epoch: 75 step: 24/42\n",
            "epoch: 75 step: 28/42\n",
            "epoch: 75 step: 32/42\n",
            "epoch: 75 step: 36/42\n",
            "epoch: 75 step: 40/42\n"
          ]
        },
        {
          "output_type": "stream",
          "name": "stderr",
          "text": [
            "/usr/local/lib/python3.10/dist-packages/sklearn/utils/_array_api.py:185: FutureWarning: The input object of type 'Tensor' is an array-like implementing one of the corresponding protocols (`__array__`, `__array_interface__` or `__array_struct__`); but not a sequence (or 0-D). In the future, this object will be coerced as if it was first converted using `np.array(obj)`. To retain the old behaviour, you have to either modify the type 'Tensor', or assign to an empty array created with `np.empty(correct_shape, dtype=object)`.\n",
            "  array = numpy.asarray(array, order=order, dtype=dtype)\n",
            "/usr/local/lib/python3.10/dist-packages/sklearn/utils/_array_api.py:185: VisibleDeprecationWarning: Creating an ndarray from ragged nested sequences (which is a list-or-tuple of lists-or-tuples-or ndarrays with different lengths or shapes) is deprecated. If you meant to do this, you must specify 'dtype=object' when creating the ndarray.\n",
            "  array = numpy.asarray(array, order=order, dtype=dtype)\n",
            "<ipython-input-2-3bb857ec729e>:44: UserWarning: To copy construct from a tensor, it is recommended to use sourceTensor.clone().detach() or sourceTensor.clone().detach().requires_grad_(True), rather than torch.tensor(sourceTensor).\n",
            "  'label': torch.tensor(self.label_list[item])\n"
          ]
        },
        {
          "output_type": "stream",
          "name": "stdout",
          "text": [
            "test\n",
            "epoch: 75 train_loss: 0.0032231684890575707 train_acc: 99.18% train_f1: 98.65%\n"
          ]
        },
        {
          "output_type": "stream",
          "name": "stderr",
          "text": [
            "/usr/local/lib/python3.10/dist-packages/sklearn/utils/_array_api.py:185: FutureWarning: The input object of type 'Tensor' is an array-like implementing one of the corresponding protocols (`__array__`, `__array_interface__` or `__array_struct__`); but not a sequence (or 0-D). In the future, this object will be coerced as if it was first converted using `np.array(obj)`. To retain the old behaviour, you have to either modify the type 'Tensor', or assign to an empty array created with `np.empty(correct_shape, dtype=object)`.\n",
            "  array = numpy.asarray(array, order=order, dtype=dtype)\n",
            "/usr/local/lib/python3.10/dist-packages/sklearn/utils/_array_api.py:185: VisibleDeprecationWarning: Creating an ndarray from ragged nested sequences (which is a list-or-tuple of lists-or-tuples-or ndarrays with different lengths or shapes) is deprecated. If you meant to do this, you must specify 'dtype=object' when creating the ndarray.\n",
            "  array = numpy.asarray(array, order=order, dtype=dtype)\n",
            "<ipython-input-2-3bb857ec729e>:44: UserWarning: To copy construct from a tensor, it is recommended to use sourceTensor.clone().detach() or sourceTensor.clone().detach().requires_grad_(True), rather than torch.tensor(sourceTensor).\n",
            "  'label': torch.tensor(self.label_list[item])\n"
          ]
        },
        {
          "output_type": "stream",
          "name": "stdout",
          "text": [
            "          val_loss: 0.2808147851716388 val_acc 77.91% val_f1: 63.37%\n",
            "TextRNN AUC =  0.8263692199980905\n",
            "Specificity =  0.8400852878464818\n",
            "Sensitivity =  0.6368159203980099\n",
            "              precision    recall  f1-score   support\n",
            "\n",
            "         0.0     0.8437    0.8401    0.8419       469\n",
            "         1.0     0.6305    0.6368    0.6337       201\n",
            "\n",
            "    accuracy                         0.7791       670\n",
            "   macro avg     0.7371    0.7385    0.7378       670\n",
            "weighted avg     0.7797    0.7791    0.7794       670\n",
            "\n",
            "[INFO] Register count_lstm() for <class 'torch.nn.modules.rnn.LSTM'>.\n",
            "[INFO] Register count_linear() for <class 'torch.nn.modules.linear.Linear'>.\n",
            "[INFO] Register zero_ops() for <class 'torch.nn.modules.activation.ReLU'>.\n",
            "[INFO] Register zero_ops() for <class 'torch.nn.modules.container.Sequential'>.\n",
            "Flops: 72372860672.00\n",
            "MLOPS: 183.61\n",
            "epoch: 76 step: 0/42\n",
            "epoch: 76 step: 4/42\n",
            "epoch: 76 step: 8/42\n",
            "epoch: 76 step: 12/42\n",
            "epoch: 76 step: 16/42\n",
            "epoch: 76 step: 20/42\n",
            "epoch: 76 step: 24/42\n",
            "epoch: 76 step: 28/42\n",
            "epoch: 76 step: 32/42\n",
            "epoch: 76 step: 36/42\n",
            "epoch: 76 step: 40/42\n"
          ]
        },
        {
          "output_type": "stream",
          "name": "stderr",
          "text": [
            "/usr/local/lib/python3.10/dist-packages/sklearn/utils/_array_api.py:185: FutureWarning: The input object of type 'Tensor' is an array-like implementing one of the corresponding protocols (`__array__`, `__array_interface__` or `__array_struct__`); but not a sequence (or 0-D). In the future, this object will be coerced as if it was first converted using `np.array(obj)`. To retain the old behaviour, you have to either modify the type 'Tensor', or assign to an empty array created with `np.empty(correct_shape, dtype=object)`.\n",
            "  array = numpy.asarray(array, order=order, dtype=dtype)\n",
            "/usr/local/lib/python3.10/dist-packages/sklearn/utils/_array_api.py:185: VisibleDeprecationWarning: Creating an ndarray from ragged nested sequences (which is a list-or-tuple of lists-or-tuples-or ndarrays with different lengths or shapes) is deprecated. If you meant to do this, you must specify 'dtype=object' when creating the ndarray.\n",
            "  array = numpy.asarray(array, order=order, dtype=dtype)\n",
            "<ipython-input-2-3bb857ec729e>:44: UserWarning: To copy construct from a tensor, it is recommended to use sourceTensor.clone().detach() or sourceTensor.clone().detach().requires_grad_(True), rather than torch.tensor(sourceTensor).\n",
            "  'label': torch.tensor(self.label_list[item])\n"
          ]
        },
        {
          "output_type": "stream",
          "name": "stdout",
          "text": [
            "test\n",
            "epoch: 76 train_loss: 0.003271491004852578 train_acc: 98.92% train_f1: 98.23%\n"
          ]
        },
        {
          "output_type": "stream",
          "name": "stderr",
          "text": [
            "/usr/local/lib/python3.10/dist-packages/sklearn/utils/_array_api.py:185: FutureWarning: The input object of type 'Tensor' is an array-like implementing one of the corresponding protocols (`__array__`, `__array_interface__` or `__array_struct__`); but not a sequence (or 0-D). In the future, this object will be coerced as if it was first converted using `np.array(obj)`. To retain the old behaviour, you have to either modify the type 'Tensor', or assign to an empty array created with `np.empty(correct_shape, dtype=object)`.\n",
            "  array = numpy.asarray(array, order=order, dtype=dtype)\n",
            "/usr/local/lib/python3.10/dist-packages/sklearn/utils/_array_api.py:185: VisibleDeprecationWarning: Creating an ndarray from ragged nested sequences (which is a list-or-tuple of lists-or-tuples-or ndarrays with different lengths or shapes) is deprecated. If you meant to do this, you must specify 'dtype=object' when creating the ndarray.\n",
            "  array = numpy.asarray(array, order=order, dtype=dtype)\n",
            "<ipython-input-2-3bb857ec729e>:44: UserWarning: To copy construct from a tensor, it is recommended to use sourceTensor.clone().detach() or sourceTensor.clone().detach().requires_grad_(True), rather than torch.tensor(sourceTensor).\n",
            "  'label': torch.tensor(self.label_list[item])\n"
          ]
        },
        {
          "output_type": "stream",
          "name": "stdout",
          "text": [
            "          val_loss: 0.26601890135895123 val_acc 77.46% val_f1: 64.80%\n",
            "TextRNN AUC =  0.8215532147365519\n",
            "Specificity =  0.8102345415778252\n",
            "Sensitivity =  0.6915422885572139\n",
            "              precision    recall  f1-score   support\n",
            "\n",
            "         0.0     0.8597    0.8102    0.8342       469\n",
            "         1.0     0.6096    0.6915    0.6480       201\n",
            "\n",
            "    accuracy                         0.7746       670\n",
            "   macro avg     0.7347    0.7509    0.7411       670\n",
            "weighted avg     0.7847    0.7746    0.7784       670\n",
            "\n",
            "[INFO] Register count_lstm() for <class 'torch.nn.modules.rnn.LSTM'>.\n",
            "[INFO] Register count_linear() for <class 'torch.nn.modules.linear.Linear'>.\n",
            "[INFO] Register zero_ops() for <class 'torch.nn.modules.activation.ReLU'>.\n",
            "[INFO] Register zero_ops() for <class 'torch.nn.modules.container.Sequential'>.\n",
            "Flops: 72372860672.00\n",
            "MLOPS: 184.93\n",
            "epoch: 77 step: 0/42\n",
            "epoch: 77 step: 4/42\n",
            "epoch: 77 step: 8/42\n",
            "epoch: 77 step: 12/42\n",
            "epoch: 77 step: 16/42\n",
            "epoch: 77 step: 20/42\n",
            "epoch: 77 step: 24/42\n",
            "epoch: 77 step: 28/42\n",
            "epoch: 77 step: 32/42\n",
            "epoch: 77 step: 36/42\n",
            "epoch: 77 step: 40/42\n"
          ]
        },
        {
          "output_type": "stream",
          "name": "stderr",
          "text": [
            "/usr/local/lib/python3.10/dist-packages/sklearn/utils/_array_api.py:185: FutureWarning: The input object of type 'Tensor' is an array-like implementing one of the corresponding protocols (`__array__`, `__array_interface__` or `__array_struct__`); but not a sequence (or 0-D). In the future, this object will be coerced as if it was first converted using `np.array(obj)`. To retain the old behaviour, you have to either modify the type 'Tensor', or assign to an empty array created with `np.empty(correct_shape, dtype=object)`.\n",
            "  array = numpy.asarray(array, order=order, dtype=dtype)\n",
            "/usr/local/lib/python3.10/dist-packages/sklearn/utils/_array_api.py:185: VisibleDeprecationWarning: Creating an ndarray from ragged nested sequences (which is a list-or-tuple of lists-or-tuples-or ndarrays with different lengths or shapes) is deprecated. If you meant to do this, you must specify 'dtype=object' when creating the ndarray.\n",
            "  array = numpy.asarray(array, order=order, dtype=dtype)\n"
          ]
        },
        {
          "output_type": "stream",
          "name": "stdout",
          "text": [
            "test\n",
            "epoch: 77 train_loss: 0.002716060779112879 train_acc: 99.22% train_f1: 98.71%\n"
          ]
        },
        {
          "output_type": "stream",
          "name": "stderr",
          "text": [
            "<ipython-input-2-3bb857ec729e>:44: UserWarning: To copy construct from a tensor, it is recommended to use sourceTensor.clone().detach() or sourceTensor.clone().detach().requires_grad_(True), rather than torch.tensor(sourceTensor).\n",
            "  'label': torch.tensor(self.label_list[item])\n",
            "/usr/local/lib/python3.10/dist-packages/sklearn/utils/_array_api.py:185: FutureWarning: The input object of type 'Tensor' is an array-like implementing one of the corresponding protocols (`__array__`, `__array_interface__` or `__array_struct__`); but not a sequence (or 0-D). In the future, this object will be coerced as if it was first converted using `np.array(obj)`. To retain the old behaviour, you have to either modify the type 'Tensor', or assign to an empty array created with `np.empty(correct_shape, dtype=object)`.\n",
            "  array = numpy.asarray(array, order=order, dtype=dtype)\n",
            "/usr/local/lib/python3.10/dist-packages/sklearn/utils/_array_api.py:185: VisibleDeprecationWarning: Creating an ndarray from ragged nested sequences (which is a list-or-tuple of lists-or-tuples-or ndarrays with different lengths or shapes) is deprecated. If you meant to do this, you must specify 'dtype=object' when creating the ndarray.\n",
            "  array = numpy.asarray(array, order=order, dtype=dtype)\n",
            "<ipython-input-2-3bb857ec729e>:44: UserWarning: To copy construct from a tensor, it is recommended to use sourceTensor.clone().detach() or sourceTensor.clone().detach().requires_grad_(True), rather than torch.tensor(sourceTensor).\n",
            "  'label': torch.tensor(self.label_list[item])\n"
          ]
        },
        {
          "output_type": "stream",
          "name": "stdout",
          "text": [
            "          val_loss: 0.35189047862182965 val_acc 78.21% val_f1: 62.37%\n",
            "TextRNN AUC =  0.8209379541524786\n",
            "Specificity =  0.8592750533049041\n",
            "Sensitivity =  0.6019900497512438\n",
            "              precision    recall  f1-score   support\n",
            "\n",
            "         0.0     0.8344    0.8593    0.8466       469\n",
            "         1.0     0.6471    0.6020    0.6237       201\n",
            "\n",
            "    accuracy                         0.7821       670\n",
            "   macro avg     0.7407    0.7306    0.7352       670\n",
            "weighted avg     0.7782    0.7821    0.7798       670\n",
            "\n",
            "[INFO] Register count_lstm() for <class 'torch.nn.modules.rnn.LSTM'>.\n",
            "[INFO] Register count_linear() for <class 'torch.nn.modules.linear.Linear'>.\n",
            "[INFO] Register zero_ops() for <class 'torch.nn.modules.activation.ReLU'>.\n",
            "[INFO] Register zero_ops() for <class 'torch.nn.modules.container.Sequential'>.\n",
            "Flops: 72372860672.00\n",
            "MLOPS: 185.70\n",
            "epoch: 78 step: 0/42\n",
            "epoch: 78 step: 4/42\n",
            "epoch: 78 step: 8/42\n",
            "epoch: 78 step: 12/42\n",
            "epoch: 78 step: 16/42\n",
            "epoch: 78 step: 20/42\n",
            "epoch: 78 step: 24/42\n",
            "epoch: 78 step: 28/42\n",
            "epoch: 78 step: 32/42\n",
            "epoch: 78 step: 36/42\n",
            "epoch: 78 step: 40/42\n"
          ]
        },
        {
          "output_type": "stream",
          "name": "stderr",
          "text": [
            "/usr/local/lib/python3.10/dist-packages/sklearn/utils/_array_api.py:185: FutureWarning: The input object of type 'Tensor' is an array-like implementing one of the corresponding protocols (`__array__`, `__array_interface__` or `__array_struct__`); but not a sequence (or 0-D). In the future, this object will be coerced as if it was first converted using `np.array(obj)`. To retain the old behaviour, you have to either modify the type 'Tensor', or assign to an empty array created with `np.empty(correct_shape, dtype=object)`.\n",
            "  array = numpy.asarray(array, order=order, dtype=dtype)\n",
            "/usr/local/lib/python3.10/dist-packages/sklearn/utils/_array_api.py:185: VisibleDeprecationWarning: Creating an ndarray from ragged nested sequences (which is a list-or-tuple of lists-or-tuples-or ndarrays with different lengths or shapes) is deprecated. If you meant to do this, you must specify 'dtype=object' when creating the ndarray.\n",
            "  array = numpy.asarray(array, order=order, dtype=dtype)\n",
            "<ipython-input-2-3bb857ec729e>:44: UserWarning: To copy construct from a tensor, it is recommended to use sourceTensor.clone().detach() or sourceTensor.clone().detach().requires_grad_(True), rather than torch.tensor(sourceTensor).\n",
            "  'label': torch.tensor(self.label_list[item])\n"
          ]
        },
        {
          "output_type": "stream",
          "name": "stdout",
          "text": [
            "test\n",
            "epoch: 78 train_loss: 0.0025312927110852407 train_acc: 99.22% train_f1: 98.71%\n"
          ]
        },
        {
          "output_type": "stream",
          "name": "stderr",
          "text": [
            "/usr/local/lib/python3.10/dist-packages/sklearn/utils/_array_api.py:185: FutureWarning: The input object of type 'Tensor' is an array-like implementing one of the corresponding protocols (`__array__`, `__array_interface__` or `__array_struct__`); but not a sequence (or 0-D). In the future, this object will be coerced as if it was first converted using `np.array(obj)`. To retain the old behaviour, you have to either modify the type 'Tensor', or assign to an empty array created with `np.empty(correct_shape, dtype=object)`.\n",
            "  array = numpy.asarray(array, order=order, dtype=dtype)\n",
            "/usr/local/lib/python3.10/dist-packages/sklearn/utils/_array_api.py:185: VisibleDeprecationWarning: Creating an ndarray from ragged nested sequences (which is a list-or-tuple of lists-or-tuples-or ndarrays with different lengths or shapes) is deprecated. If you meant to do this, you must specify 'dtype=object' when creating the ndarray.\n",
            "  array = numpy.asarray(array, order=order, dtype=dtype)\n"
          ]
        },
        {
          "output_type": "stream",
          "name": "stdout",
          "text": [
            "          val_loss: 0.3244306370615959 val_acc 77.61% val_f1: 62.50%\n",
            "TextRNN AUC =  0.819527097985552\n",
            "Specificity =  0.8422174840085288\n",
            "Sensitivity =  0.6218905472636815\n",
            "              precision    recall  f1-score   support\n",
            "\n",
            "         0.0     0.8386    0.8422    0.8404       469\n",
            "         1.0     0.6281    0.6219    0.6250       201\n",
            "\n",
            "    accuracy                         0.7761       670\n",
            "   macro avg     0.7334    0.7321    0.7327       670\n",
            "weighted avg     0.7755    0.7761    0.7758       670\n",
            "\n",
            "[INFO] Register count_lstm() for <class 'torch.nn.modules.rnn.LSTM'>.\n",
            "[INFO] Register count_linear() for <class 'torch.nn.modules.linear.Linear'>.\n",
            "[INFO] Register zero_ops() for <class 'torch.nn.modules.activation.ReLU'>.\n",
            "[INFO] Register zero_ops() for <class 'torch.nn.modules.container.Sequential'>.\n",
            "Flops: 72372860672.00\n",
            "MLOPS: 185.91\n"
          ]
        },
        {
          "output_type": "stream",
          "name": "stderr",
          "text": [
            "<ipython-input-2-3bb857ec729e>:44: UserWarning: To copy construct from a tensor, it is recommended to use sourceTensor.clone().detach() or sourceTensor.clone().detach().requires_grad_(True), rather than torch.tensor(sourceTensor).\n",
            "  'label': torch.tensor(self.label_list[item])\n"
          ]
        },
        {
          "output_type": "stream",
          "name": "stdout",
          "text": [
            "epoch: 79 step: 0/42\n",
            "epoch: 79 step: 4/42\n",
            "epoch: 79 step: 8/42\n",
            "epoch: 79 step: 12/42\n",
            "epoch: 79 step: 16/42\n",
            "epoch: 79 step: 20/42\n",
            "epoch: 79 step: 24/42\n",
            "epoch: 79 step: 28/42\n",
            "epoch: 79 step: 32/42\n",
            "epoch: 79 step: 36/42\n",
            "epoch: 79 step: 40/42\n"
          ]
        },
        {
          "output_type": "stream",
          "name": "stderr",
          "text": [
            "/usr/local/lib/python3.10/dist-packages/sklearn/utils/_array_api.py:185: FutureWarning: The input object of type 'Tensor' is an array-like implementing one of the corresponding protocols (`__array__`, `__array_interface__` or `__array_struct__`); but not a sequence (or 0-D). In the future, this object will be coerced as if it was first converted using `np.array(obj)`. To retain the old behaviour, you have to either modify the type 'Tensor', or assign to an empty array created with `np.empty(correct_shape, dtype=object)`.\n",
            "  array = numpy.asarray(array, order=order, dtype=dtype)\n",
            "/usr/local/lib/python3.10/dist-packages/sklearn/utils/_array_api.py:185: VisibleDeprecationWarning: Creating an ndarray from ragged nested sequences (which is a list-or-tuple of lists-or-tuples-or ndarrays with different lengths or shapes) is deprecated. If you meant to do this, you must specify 'dtype=object' when creating the ndarray.\n",
            "  array = numpy.asarray(array, order=order, dtype=dtype)\n",
            "<ipython-input-2-3bb857ec729e>:44: UserWarning: To copy construct from a tensor, it is recommended to use sourceTensor.clone().detach() or sourceTensor.clone().detach().requires_grad_(True), rather than torch.tensor(sourceTensor).\n",
            "  'label': torch.tensor(self.label_list[item])\n"
          ]
        },
        {
          "output_type": "stream",
          "name": "stdout",
          "text": [
            "test\n",
            "epoch: 79 train_loss: 0.0026655625960778535 train_acc: 99.44% train_f1: 99.07%\n"
          ]
        },
        {
          "output_type": "stream",
          "name": "stderr",
          "text": [
            "/usr/local/lib/python3.10/dist-packages/sklearn/utils/_array_api.py:185: FutureWarning: The input object of type 'Tensor' is an array-like implementing one of the corresponding protocols (`__array__`, `__array_interface__` or `__array_struct__`); but not a sequence (or 0-D). In the future, this object will be coerced as if it was first converted using `np.array(obj)`. To retain the old behaviour, you have to either modify the type 'Tensor', or assign to an empty array created with `np.empty(correct_shape, dtype=object)`.\n",
            "  array = numpy.asarray(array, order=order, dtype=dtype)\n",
            "/usr/local/lib/python3.10/dist-packages/sklearn/utils/_array_api.py:185: VisibleDeprecationWarning: Creating an ndarray from ragged nested sequences (which is a list-or-tuple of lists-or-tuples-or ndarrays with different lengths or shapes) is deprecated. If you meant to do this, you must specify 'dtype=object' when creating the ndarray.\n",
            "  array = numpy.asarray(array, order=order, dtype=dtype)\n",
            "<ipython-input-2-3bb857ec729e>:44: UserWarning: To copy construct from a tensor, it is recommended to use sourceTensor.clone().detach() or sourceTensor.clone().detach().requires_grad_(True), rather than torch.tensor(sourceTensor).\n",
            "  'label': torch.tensor(self.label_list[item])\n"
          ]
        },
        {
          "output_type": "stream",
          "name": "stdout",
          "text": [
            "          val_loss: 0.36868675527247513 val_acc 77.31% val_f1: 60.00%\n",
            "TextRNN AUC =  0.8172357827069345\n",
            "Specificity =  0.8614072494669509\n",
            "Sensitivity =  0.5671641791044776\n",
            "              precision    recall  f1-score   support\n",
            "\n",
            "         0.0     0.8228    0.8614    0.8417       469\n",
            "         1.0     0.6369    0.5672    0.6000       201\n",
            "\n",
            "    accuracy                         0.7731       670\n",
            "   macro avg     0.7298    0.7143    0.7208       670\n",
            "weighted avg     0.7670    0.7731    0.7692       670\n",
            "\n",
            "[INFO] Register count_lstm() for <class 'torch.nn.modules.rnn.LSTM'>.\n",
            "[INFO] Register count_linear() for <class 'torch.nn.modules.linear.Linear'>.\n",
            "[INFO] Register zero_ops() for <class 'torch.nn.modules.activation.ReLU'>.\n",
            "[INFO] Register zero_ops() for <class 'torch.nn.modules.container.Sequential'>.\n",
            "Flops: 72372860672.00\n",
            "MLOPS: 186.42\n",
            "epoch: 80 step: 0/42\n",
            "epoch: 80 step: 4/42\n",
            "epoch: 80 step: 8/42\n",
            "epoch: 80 step: 12/42\n",
            "epoch: 80 step: 16/42\n",
            "epoch: 80 step: 20/42\n",
            "epoch: 80 step: 24/42\n",
            "epoch: 80 step: 28/42\n",
            "epoch: 80 step: 32/42\n",
            "epoch: 80 step: 36/42\n",
            "epoch: 80 step: 40/42\n"
          ]
        },
        {
          "output_type": "stream",
          "name": "stderr",
          "text": [
            "/usr/local/lib/python3.10/dist-packages/sklearn/utils/_array_api.py:185: FutureWarning: The input object of type 'Tensor' is an array-like implementing one of the corresponding protocols (`__array__`, `__array_interface__` or `__array_struct__`); but not a sequence (or 0-D). In the future, this object will be coerced as if it was first converted using `np.array(obj)`. To retain the old behaviour, you have to either modify the type 'Tensor', or assign to an empty array created with `np.empty(correct_shape, dtype=object)`.\n",
            "  array = numpy.asarray(array, order=order, dtype=dtype)\n",
            "/usr/local/lib/python3.10/dist-packages/sklearn/utils/_array_api.py:185: VisibleDeprecationWarning: Creating an ndarray from ragged nested sequences (which is a list-or-tuple of lists-or-tuples-or ndarrays with different lengths or shapes) is deprecated. If you meant to do this, you must specify 'dtype=object' when creating the ndarray.\n",
            "  array = numpy.asarray(array, order=order, dtype=dtype)\n",
            "<ipython-input-2-3bb857ec729e>:44: UserWarning: To copy construct from a tensor, it is recommended to use sourceTensor.clone().detach() or sourceTensor.clone().detach().requires_grad_(True), rather than torch.tensor(sourceTensor).\n",
            "  'label': torch.tensor(self.label_list[item])\n"
          ]
        },
        {
          "output_type": "stream",
          "name": "stdout",
          "text": [
            "test\n",
            "epoch: 80 train_loss: 0.00258041279864431 train_acc: 99.29% train_f1: 98.83%\n"
          ]
        },
        {
          "output_type": "stream",
          "name": "stderr",
          "text": [
            "/usr/local/lib/python3.10/dist-packages/sklearn/utils/_array_api.py:185: FutureWarning: The input object of type 'Tensor' is an array-like implementing one of the corresponding protocols (`__array__`, `__array_interface__` or `__array_struct__`); but not a sequence (or 0-D). In the future, this object will be coerced as if it was first converted using `np.array(obj)`. To retain the old behaviour, you have to either modify the type 'Tensor', or assign to an empty array created with `np.empty(correct_shape, dtype=object)`.\n",
            "  array = numpy.asarray(array, order=order, dtype=dtype)\n",
            "/usr/local/lib/python3.10/dist-packages/sklearn/utils/_array_api.py:185: VisibleDeprecationWarning: Creating an ndarray from ragged nested sequences (which is a list-or-tuple of lists-or-tuples-or ndarrays with different lengths or shapes) is deprecated. If you meant to do this, you must specify 'dtype=object' when creating the ndarray.\n",
            "  array = numpy.asarray(array, order=order, dtype=dtype)\n",
            "<ipython-input-2-3bb857ec729e>:44: UserWarning: To copy construct from a tensor, it is recommended to use sourceTensor.clone().detach() or sourceTensor.clone().detach().requires_grad_(True), rather than torch.tensor(sourceTensor).\n",
            "  'label': torch.tensor(self.label_list[item])\n"
          ]
        },
        {
          "output_type": "stream",
          "name": "stdout",
          "text": [
            "          val_loss: 0.29768325930291956 val_acc 77.91% val_f1: 63.18%\n",
            "TextRNN AUC =  0.8195907456321802\n",
            "Specificity =  0.8422174840085288\n",
            "Sensitivity =  0.6318407960199005\n",
            "              precision    recall  f1-score   support\n",
            "\n",
            "         0.0     0.8422    0.8422    0.8422       469\n",
            "         1.0     0.6318    0.6318    0.6318       201\n",
            "\n",
            "    accuracy                         0.7791       670\n",
            "   macro avg     0.7370    0.7370    0.7370       670\n",
            "weighted avg     0.7791    0.7791    0.7791       670\n",
            "\n",
            "[INFO] Register count_lstm() for <class 'torch.nn.modules.rnn.LSTM'>.\n",
            "[INFO] Register count_linear() for <class 'torch.nn.modules.linear.Linear'>.\n",
            "[INFO] Register zero_ops() for <class 'torch.nn.modules.activation.ReLU'>.\n",
            "[INFO] Register zero_ops() for <class 'torch.nn.modules.container.Sequential'>.\n",
            "Flops: 72372860672.00\n",
            "MLOPS: 186.46\n",
            "epoch: 81 step: 0/42\n",
            "epoch: 81 step: 4/42\n",
            "epoch: 81 step: 8/42\n",
            "epoch: 81 step: 12/42\n",
            "epoch: 81 step: 16/42\n",
            "epoch: 81 step: 20/42\n",
            "epoch: 81 step: 24/42\n",
            "epoch: 81 step: 28/42\n",
            "epoch: 81 step: 32/42\n",
            "epoch: 81 step: 36/42\n",
            "epoch: 81 step: 40/42\n"
          ]
        },
        {
          "output_type": "stream",
          "name": "stderr",
          "text": [
            "/usr/local/lib/python3.10/dist-packages/sklearn/utils/_array_api.py:185: FutureWarning: The input object of type 'Tensor' is an array-like implementing one of the corresponding protocols (`__array__`, `__array_interface__` or `__array_struct__`); but not a sequence (or 0-D). In the future, this object will be coerced as if it was first converted using `np.array(obj)`. To retain the old behaviour, you have to either modify the type 'Tensor', or assign to an empty array created with `np.empty(correct_shape, dtype=object)`.\n",
            "  array = numpy.asarray(array, order=order, dtype=dtype)\n",
            "/usr/local/lib/python3.10/dist-packages/sklearn/utils/_array_api.py:185: VisibleDeprecationWarning: Creating an ndarray from ragged nested sequences (which is a list-or-tuple of lists-or-tuples-or ndarrays with different lengths or shapes) is deprecated. If you meant to do this, you must specify 'dtype=object' when creating the ndarray.\n",
            "  array = numpy.asarray(array, order=order, dtype=dtype)\n"
          ]
        },
        {
          "output_type": "stream",
          "name": "stdout",
          "text": [
            "test\n",
            "epoch: 81 train_loss: 0.0021711406928564734 train_acc: 99.48% train_f1: 99.14%\n"
          ]
        },
        {
          "output_type": "stream",
          "name": "stderr",
          "text": [
            "<ipython-input-2-3bb857ec729e>:44: UserWarning: To copy construct from a tensor, it is recommended to use sourceTensor.clone().detach() or sourceTensor.clone().detach().requires_grad_(True), rather than torch.tensor(sourceTensor).\n",
            "  'label': torch.tensor(self.label_list[item])\n",
            "/usr/local/lib/python3.10/dist-packages/sklearn/utils/_array_api.py:185: FutureWarning: The input object of type 'Tensor' is an array-like implementing one of the corresponding protocols (`__array__`, `__array_interface__` or `__array_struct__`); but not a sequence (or 0-D). In the future, this object will be coerced as if it was first converted using `np.array(obj)`. To retain the old behaviour, you have to either modify the type 'Tensor', or assign to an empty array created with `np.empty(correct_shape, dtype=object)`.\n",
            "  array = numpy.asarray(array, order=order, dtype=dtype)\n",
            "/usr/local/lib/python3.10/dist-packages/sklearn/utils/_array_api.py:185: VisibleDeprecationWarning: Creating an ndarray from ragged nested sequences (which is a list-or-tuple of lists-or-tuples-or ndarrays with different lengths or shapes) is deprecated. If you meant to do this, you must specify 'dtype=object' when creating the ndarray.\n",
            "  array = numpy.asarray(array, order=order, dtype=dtype)\n",
            "<ipython-input-2-3bb857ec729e>:44: UserWarning: To copy construct from a tensor, it is recommended to use sourceTensor.clone().detach() or sourceTensor.clone().detach().requires_grad_(True), rather than torch.tensor(sourceTensor).\n",
            "  'label': torch.tensor(self.label_list[item])\n"
          ]
        },
        {
          "output_type": "stream",
          "name": "stdout",
          "text": [
            "          val_loss: 0.3739257868040692 val_acc 77.76% val_f1: 61.50%\n",
            "TextRNN AUC =  0.8175752368222852\n",
            "Specificity =  0.8571428571428571\n",
            "Sensitivity =  0.5920398009950248\n",
            "              precision    recall  f1-score   support\n",
            "\n",
            "         0.0     0.8306    0.8571    0.8437       469\n",
            "         1.0     0.6398    0.5920    0.6150       201\n",
            "\n",
            "    accuracy                         0.7776       670\n",
            "   macro avg     0.7352    0.7246    0.7293       670\n",
            "weighted avg     0.7733    0.7776    0.7751       670\n",
            "\n",
            "[INFO] Register count_lstm() for <class 'torch.nn.modules.rnn.LSTM'>.\n",
            "[INFO] Register count_linear() for <class 'torch.nn.modules.linear.Linear'>.\n",
            "[INFO] Register zero_ops() for <class 'torch.nn.modules.activation.ReLU'>.\n",
            "[INFO] Register zero_ops() for <class 'torch.nn.modules.container.Sequential'>.\n",
            "Flops: 72372860672.00\n",
            "MLOPS: 184.67\n",
            "epoch: 82 step: 0/42\n",
            "epoch: 82 step: 4/42\n",
            "epoch: 82 step: 8/42\n",
            "epoch: 82 step: 12/42\n",
            "epoch: 82 step: 16/42\n",
            "epoch: 82 step: 20/42\n",
            "epoch: 82 step: 24/42\n",
            "epoch: 82 step: 28/42\n",
            "epoch: 82 step: 32/42\n",
            "epoch: 82 step: 36/42\n",
            "epoch: 82 step: 40/42\n"
          ]
        },
        {
          "output_type": "stream",
          "name": "stderr",
          "text": [
            "/usr/local/lib/python3.10/dist-packages/sklearn/utils/_array_api.py:185: FutureWarning: The input object of type 'Tensor' is an array-like implementing one of the corresponding protocols (`__array__`, `__array_interface__` or `__array_struct__`); but not a sequence (or 0-D). In the future, this object will be coerced as if it was first converted using `np.array(obj)`. To retain the old behaviour, you have to either modify the type 'Tensor', or assign to an empty array created with `np.empty(correct_shape, dtype=object)`.\n",
            "  array = numpy.asarray(array, order=order, dtype=dtype)\n",
            "/usr/local/lib/python3.10/dist-packages/sklearn/utils/_array_api.py:185: VisibleDeprecationWarning: Creating an ndarray from ragged nested sequences (which is a list-or-tuple of lists-or-tuples-or ndarrays with different lengths or shapes) is deprecated. If you meant to do this, you must specify 'dtype=object' when creating the ndarray.\n",
            "  array = numpy.asarray(array, order=order, dtype=dtype)\n",
            "<ipython-input-2-3bb857ec729e>:44: UserWarning: To copy construct from a tensor, it is recommended to use sourceTensor.clone().detach() or sourceTensor.clone().detach().requires_grad_(True), rather than torch.tensor(sourceTensor).\n",
            "  'label': torch.tensor(self.label_list[item])\n"
          ]
        },
        {
          "output_type": "stream",
          "name": "stdout",
          "text": [
            "test\n",
            "epoch: 82 train_loss: 0.0022510192027853223 train_acc: 99.29% train_f1: 98.83%\n"
          ]
        },
        {
          "output_type": "stream",
          "name": "stderr",
          "text": [
            "/usr/local/lib/python3.10/dist-packages/sklearn/utils/_array_api.py:185: FutureWarning: The input object of type 'Tensor' is an array-like implementing one of the corresponding protocols (`__array__`, `__array_interface__` or `__array_struct__`); but not a sequence (or 0-D). In the future, this object will be coerced as if it was first converted using `np.array(obj)`. To retain the old behaviour, you have to either modify the type 'Tensor', or assign to an empty array created with `np.empty(correct_shape, dtype=object)`.\n",
            "  array = numpy.asarray(array, order=order, dtype=dtype)\n",
            "/usr/local/lib/python3.10/dist-packages/sklearn/utils/_array_api.py:185: VisibleDeprecationWarning: Creating an ndarray from ragged nested sequences (which is a list-or-tuple of lists-or-tuples-or ndarrays with different lengths or shapes) is deprecated. If you meant to do this, you must specify 'dtype=object' when creating the ndarray.\n",
            "  array = numpy.asarray(array, order=order, dtype=dtype)\n",
            "<ipython-input-2-3bb857ec729e>:44: UserWarning: To copy construct from a tensor, it is recommended to use sourceTensor.clone().detach() or sourceTensor.clone().detach().requires_grad_(True), rather than torch.tensor(sourceTensor).\n",
            "  'label': torch.tensor(self.label_list[item])\n"
          ]
        },
        {
          "output_type": "stream",
          "name": "stdout",
          "text": [
            "          val_loss: 0.32656389339403674 val_acc 77.16% val_f1: 62.95%\n",
            "TextRNN AUC =  0.8172888224124579\n",
            "Specificity =  0.8251599147121536\n",
            "Sensitivity =  0.6467661691542289\n",
            "              precision    recall  f1-score   support\n",
            "\n",
            "         0.0     0.8450    0.8252    0.8350       469\n",
            "         1.0     0.6132    0.6468    0.6295       201\n",
            "\n",
            "    accuracy                         0.7716       670\n",
            "   macro avg     0.7291    0.7360    0.7322       670\n",
            "weighted avg     0.7754    0.7716    0.7733       670\n",
            "\n",
            "[INFO] Register count_lstm() for <class 'torch.nn.modules.rnn.LSTM'>.\n",
            "[INFO] Register count_linear() for <class 'torch.nn.modules.linear.Linear'>.\n",
            "[INFO] Register zero_ops() for <class 'torch.nn.modules.activation.ReLU'>.\n",
            "[INFO] Register zero_ops() for <class 'torch.nn.modules.container.Sequential'>.\n",
            "Flops: 72372860672.00\n",
            "MLOPS: 187.05\n",
            "epoch: 83 step: 0/42\n",
            "epoch: 83 step: 4/42\n",
            "epoch: 83 step: 8/42\n",
            "epoch: 83 step: 12/42\n",
            "epoch: 83 step: 16/42\n",
            "epoch: 83 step: 20/42\n",
            "epoch: 83 step: 24/42\n",
            "epoch: 83 step: 28/42\n",
            "epoch: 83 step: 32/42\n",
            "epoch: 83 step: 36/42\n",
            "epoch: 83 step: 40/42\n"
          ]
        },
        {
          "output_type": "stream",
          "name": "stderr",
          "text": [
            "/usr/local/lib/python3.10/dist-packages/sklearn/utils/_array_api.py:185: FutureWarning: The input object of type 'Tensor' is an array-like implementing one of the corresponding protocols (`__array__`, `__array_interface__` or `__array_struct__`); but not a sequence (or 0-D). In the future, this object will be coerced as if it was first converted using `np.array(obj)`. To retain the old behaviour, you have to either modify the type 'Tensor', or assign to an empty array created with `np.empty(correct_shape, dtype=object)`.\n",
            "  array = numpy.asarray(array, order=order, dtype=dtype)\n",
            "/usr/local/lib/python3.10/dist-packages/sklearn/utils/_array_api.py:185: VisibleDeprecationWarning: Creating an ndarray from ragged nested sequences (which is a list-or-tuple of lists-or-tuples-or ndarrays with different lengths or shapes) is deprecated. If you meant to do this, you must specify 'dtype=object' when creating the ndarray.\n",
            "  array = numpy.asarray(array, order=order, dtype=dtype)\n",
            "<ipython-input-2-3bb857ec729e>:44: UserWarning: To copy construct from a tensor, it is recommended to use sourceTensor.clone().detach() or sourceTensor.clone().detach().requires_grad_(True), rather than torch.tensor(sourceTensor).\n",
            "  'label': torch.tensor(self.label_list[item])\n"
          ]
        },
        {
          "output_type": "stream",
          "name": "stdout",
          "text": [
            "test\n",
            "epoch: 83 train_loss: 0.002193297764322432 train_acc: 99.51% train_f1: 99.20%\n"
          ]
        },
        {
          "output_type": "stream",
          "name": "stderr",
          "text": [
            "/usr/local/lib/python3.10/dist-packages/sklearn/utils/_array_api.py:185: FutureWarning: The input object of type 'Tensor' is an array-like implementing one of the corresponding protocols (`__array__`, `__array_interface__` or `__array_struct__`); but not a sequence (or 0-D). In the future, this object will be coerced as if it was first converted using `np.array(obj)`. To retain the old behaviour, you have to either modify the type 'Tensor', or assign to an empty array created with `np.empty(correct_shape, dtype=object)`.\n",
            "  array = numpy.asarray(array, order=order, dtype=dtype)\n",
            "/usr/local/lib/python3.10/dist-packages/sklearn/utils/_array_api.py:185: VisibleDeprecationWarning: Creating an ndarray from ragged nested sequences (which is a list-or-tuple of lists-or-tuples-or ndarrays with different lengths or shapes) is deprecated. If you meant to do this, you must specify 'dtype=object' when creating the ndarray.\n",
            "  array = numpy.asarray(array, order=order, dtype=dtype)\n",
            "<ipython-input-2-3bb857ec729e>:44: UserWarning: To copy construct from a tensor, it is recommended to use sourceTensor.clone().detach() or sourceTensor.clone().detach().requires_grad_(True), rather than torch.tensor(sourceTensor).\n",
            "  'label': torch.tensor(self.label_list[item])\n"
          ]
        },
        {
          "output_type": "stream",
          "name": "stdout",
          "text": [
            "          val_loss: 0.36356994103301654 val_acc 76.87% val_f1: 60.76%\n",
            "TextRNN AUC =  0.8153157453669818\n",
            "Specificity =  0.8422174840085288\n",
            "Sensitivity =  0.5970149253731343\n",
            "              precision    recall  f1-score   support\n",
            "\n",
            "         0.0     0.8298    0.8422    0.8360       469\n",
            "         1.0     0.6186    0.5970    0.6076       201\n",
            "\n",
            "    accuracy                         0.7687       670\n",
            "   macro avg     0.7242    0.7196    0.7218       670\n",
            "weighted avg     0.7664    0.7687    0.7675       670\n",
            "\n",
            "[INFO] Register count_lstm() for <class 'torch.nn.modules.rnn.LSTM'>.\n",
            "[INFO] Register count_linear() for <class 'torch.nn.modules.linear.Linear'>.\n",
            "[INFO] Register zero_ops() for <class 'torch.nn.modules.activation.ReLU'>.\n",
            "[INFO] Register zero_ops() for <class 'torch.nn.modules.container.Sequential'>.\n",
            "Flops: 72372860672.00\n",
            "MLOPS: 185.77\n",
            "epoch: 84 step: 0/42\n",
            "epoch: 84 step: 4/42\n",
            "epoch: 84 step: 8/42\n",
            "epoch: 84 step: 12/42\n",
            "epoch: 84 step: 16/42\n",
            "epoch: 84 step: 20/42\n",
            "epoch: 84 step: 24/42\n",
            "epoch: 84 step: 28/42\n",
            "epoch: 84 step: 32/42\n",
            "epoch: 84 step: 36/42\n",
            "epoch: 84 step: 40/42\n"
          ]
        },
        {
          "output_type": "stream",
          "name": "stderr",
          "text": [
            "/usr/local/lib/python3.10/dist-packages/sklearn/utils/_array_api.py:185: FutureWarning: The input object of type 'Tensor' is an array-like implementing one of the corresponding protocols (`__array__`, `__array_interface__` or `__array_struct__`); but not a sequence (or 0-D). In the future, this object will be coerced as if it was first converted using `np.array(obj)`. To retain the old behaviour, you have to either modify the type 'Tensor', or assign to an empty array created with `np.empty(correct_shape, dtype=object)`.\n",
            "  array = numpy.asarray(array, order=order, dtype=dtype)\n",
            "/usr/local/lib/python3.10/dist-packages/sklearn/utils/_array_api.py:185: VisibleDeprecationWarning: Creating an ndarray from ragged nested sequences (which is a list-or-tuple of lists-or-tuples-or ndarrays with different lengths or shapes) is deprecated. If you meant to do this, you must specify 'dtype=object' when creating the ndarray.\n",
            "  array = numpy.asarray(array, order=order, dtype=dtype)\n",
            "<ipython-input-2-3bb857ec729e>:44: UserWarning: To copy construct from a tensor, it is recommended to use sourceTensor.clone().detach() or sourceTensor.clone().detach().requires_grad_(True), rather than torch.tensor(sourceTensor).\n",
            "  'label': torch.tensor(self.label_list[item])\n"
          ]
        },
        {
          "output_type": "stream",
          "name": "stdout",
          "text": [
            "test\n",
            "epoch: 84 train_loss: 0.004579113254814209 train_acc: 98.96% train_f1: 98.27%\n"
          ]
        },
        {
          "output_type": "stream",
          "name": "stderr",
          "text": [
            "/usr/local/lib/python3.10/dist-packages/sklearn/utils/_array_api.py:185: FutureWarning: The input object of type 'Tensor' is an array-like implementing one of the corresponding protocols (`__array__`, `__array_interface__` or `__array_struct__`); but not a sequence (or 0-D). In the future, this object will be coerced as if it was first converted using `np.array(obj)`. To retain the old behaviour, you have to either modify the type 'Tensor', or assign to an empty array created with `np.empty(correct_shape, dtype=object)`.\n",
            "  array = numpy.asarray(array, order=order, dtype=dtype)\n",
            "/usr/local/lib/python3.10/dist-packages/sklearn/utils/_array_api.py:185: VisibleDeprecationWarning: Creating an ndarray from ragged nested sequences (which is a list-or-tuple of lists-or-tuples-or ndarrays with different lengths or shapes) is deprecated. If you meant to do this, you must specify 'dtype=object' when creating the ndarray.\n",
            "  array = numpy.asarray(array, order=order, dtype=dtype)\n",
            "<ipython-input-2-3bb857ec729e>:44: UserWarning: To copy construct from a tensor, it is recommended to use sourceTensor.clone().detach() or sourceTensor.clone().detach().requires_grad_(True), rather than torch.tensor(sourceTensor).\n",
            "  'label': torch.tensor(self.label_list[item])\n"
          ]
        },
        {
          "output_type": "stream",
          "name": "stdout",
          "text": [
            "          val_loss: 0.42005829784003174 val_acc 77.01% val_f1: 59.26%\n",
            "TextRNN AUC =  0.81886940563706\n",
            "Specificity =  0.8614072494669509\n",
            "Sensitivity =  0.5572139303482587\n",
            "              precision    recall  f1-score   support\n",
            "\n",
            "         0.0     0.8195    0.8614    0.8399       469\n",
            "         1.0     0.6328    0.5572    0.5926       201\n",
            "\n",
            "    accuracy                         0.7701       670\n",
            "   macro avg     0.7261    0.7093    0.7163       670\n",
            "weighted avg     0.7635    0.7701    0.7657       670\n",
            "\n",
            "[INFO] Register count_lstm() for <class 'torch.nn.modules.rnn.LSTM'>.\n",
            "[INFO] Register count_linear() for <class 'torch.nn.modules.linear.Linear'>.\n",
            "[INFO] Register zero_ops() for <class 'torch.nn.modules.activation.ReLU'>.\n",
            "[INFO] Register zero_ops() for <class 'torch.nn.modules.container.Sequential'>.\n",
            "Flops: 72372860672.00\n",
            "MLOPS: 187.64\n",
            "epoch: 85 step: 0/42\n",
            "epoch: 85 step: 4/42\n",
            "epoch: 85 step: 8/42\n",
            "epoch: 85 step: 12/42\n",
            "epoch: 85 step: 16/42\n",
            "epoch: 85 step: 20/42\n",
            "epoch: 85 step: 24/42\n",
            "epoch: 85 step: 28/42\n",
            "epoch: 85 step: 32/42\n",
            "epoch: 85 step: 36/42\n",
            "epoch: 85 step: 40/42\n"
          ]
        },
        {
          "output_type": "stream",
          "name": "stderr",
          "text": [
            "/usr/local/lib/python3.10/dist-packages/sklearn/utils/_array_api.py:185: FutureWarning: The input object of type 'Tensor' is an array-like implementing one of the corresponding protocols (`__array__`, `__array_interface__` or `__array_struct__`); but not a sequence (or 0-D). In the future, this object will be coerced as if it was first converted using `np.array(obj)`. To retain the old behaviour, you have to either modify the type 'Tensor', or assign to an empty array created with `np.empty(correct_shape, dtype=object)`.\n",
            "  array = numpy.asarray(array, order=order, dtype=dtype)\n",
            "/usr/local/lib/python3.10/dist-packages/sklearn/utils/_array_api.py:185: VisibleDeprecationWarning: Creating an ndarray from ragged nested sequences (which is a list-or-tuple of lists-or-tuples-or ndarrays with different lengths or shapes) is deprecated. If you meant to do this, you must specify 'dtype=object' when creating the ndarray.\n",
            "  array = numpy.asarray(array, order=order, dtype=dtype)\n"
          ]
        },
        {
          "output_type": "stream",
          "name": "stdout",
          "text": [
            "test\n",
            "epoch: 85 train_loss: 0.0024503669070933634 train_acc: 99.48% train_f1: 99.14%\n"
          ]
        },
        {
          "output_type": "stream",
          "name": "stderr",
          "text": [
            "<ipython-input-2-3bb857ec729e>:44: UserWarning: To copy construct from a tensor, it is recommended to use sourceTensor.clone().detach() or sourceTensor.clone().detach().requires_grad_(True), rather than torch.tensor(sourceTensor).\n",
            "  'label': torch.tensor(self.label_list[item])\n",
            "/usr/local/lib/python3.10/dist-packages/sklearn/utils/_array_api.py:185: FutureWarning: The input object of type 'Tensor' is an array-like implementing one of the corresponding protocols (`__array__`, `__array_interface__` or `__array_struct__`); but not a sequence (or 0-D). In the future, this object will be coerced as if it was first converted using `np.array(obj)`. To retain the old behaviour, you have to either modify the type 'Tensor', or assign to an empty array created with `np.empty(correct_shape, dtype=object)`.\n",
            "  array = numpy.asarray(array, order=order, dtype=dtype)\n",
            "/usr/local/lib/python3.10/dist-packages/sklearn/utils/_array_api.py:185: VisibleDeprecationWarning: Creating an ndarray from ragged nested sequences (which is a list-or-tuple of lists-or-tuples-or ndarrays with different lengths or shapes) is deprecated. If you meant to do this, you must specify 'dtype=object' when creating the ndarray.\n",
            "  array = numpy.asarray(array, order=order, dtype=dtype)\n"
          ]
        },
        {
          "output_type": "stream",
          "name": "stdout",
          "text": [
            "          val_loss: 0.350249131294814 val_acc 78.21% val_f1: 61.98%\n",
            "TextRNN AUC =  0.8193361550456671\n",
            "Specificity =  0.8635394456289979\n",
            "Sensitivity =  0.5920398009950248\n",
            "              precision    recall  f1-score   support\n",
            "\n",
            "         0.0     0.8316    0.8635    0.8473       469\n",
            "         1.0     0.6503    0.5920    0.6198       201\n",
            "\n",
            "    accuracy                         0.7821       670\n",
            "   macro avg     0.7409    0.7278    0.7335       670\n",
            "weighted avg     0.7772    0.7821    0.7790       670\n",
            "\n",
            "[INFO] Register count_lstm() for <class 'torch.nn.modules.rnn.LSTM'>.\n",
            "[INFO] Register count_linear() for <class 'torch.nn.modules.linear.Linear'>.\n",
            "[INFO] Register zero_ops() for <class 'torch.nn.modules.activation.ReLU'>.\n",
            "[INFO] Register zero_ops() for <class 'torch.nn.modules.container.Sequential'>.\n",
            "Flops: 72372860672.00\n",
            "MLOPS: 185.82\n"
          ]
        },
        {
          "output_type": "stream",
          "name": "stderr",
          "text": [
            "<ipython-input-2-3bb857ec729e>:44: UserWarning: To copy construct from a tensor, it is recommended to use sourceTensor.clone().detach() or sourceTensor.clone().detach().requires_grad_(True), rather than torch.tensor(sourceTensor).\n",
            "  'label': torch.tensor(self.label_list[item])\n"
          ]
        },
        {
          "output_type": "stream",
          "name": "stdout",
          "text": [
            "epoch: 86 step: 0/42\n",
            "epoch: 86 step: 4/42\n",
            "epoch: 86 step: 8/42\n",
            "epoch: 86 step: 12/42\n",
            "epoch: 86 step: 16/42\n",
            "epoch: 86 step: 20/42\n",
            "epoch: 86 step: 24/42\n",
            "epoch: 86 step: 28/42\n",
            "epoch: 86 step: 32/42\n",
            "epoch: 86 step: 36/42\n",
            "epoch: 86 step: 40/42\n"
          ]
        },
        {
          "output_type": "stream",
          "name": "stderr",
          "text": [
            "/usr/local/lib/python3.10/dist-packages/sklearn/utils/_array_api.py:185: FutureWarning: The input object of type 'Tensor' is an array-like implementing one of the corresponding protocols (`__array__`, `__array_interface__` or `__array_struct__`); but not a sequence (or 0-D). In the future, this object will be coerced as if it was first converted using `np.array(obj)`. To retain the old behaviour, you have to either modify the type 'Tensor', or assign to an empty array created with `np.empty(correct_shape, dtype=object)`.\n",
            "  array = numpy.asarray(array, order=order, dtype=dtype)\n",
            "/usr/local/lib/python3.10/dist-packages/sklearn/utils/_array_api.py:185: VisibleDeprecationWarning: Creating an ndarray from ragged nested sequences (which is a list-or-tuple of lists-or-tuples-or ndarrays with different lengths or shapes) is deprecated. If you meant to do this, you must specify 'dtype=object' when creating the ndarray.\n",
            "  array = numpy.asarray(array, order=order, dtype=dtype)\n",
            "<ipython-input-2-3bb857ec729e>:44: UserWarning: To copy construct from a tensor, it is recommended to use sourceTensor.clone().detach() or sourceTensor.clone().detach().requires_grad_(True), rather than torch.tensor(sourceTensor).\n",
            "  'label': torch.tensor(self.label_list[item])\n"
          ]
        },
        {
          "output_type": "stream",
          "name": "stdout",
          "text": [
            "test\n",
            "epoch: 86 train_loss: 0.0016941498224263168 train_acc: 99.55% train_f1: 99.26%\n"
          ]
        },
        {
          "output_type": "stream",
          "name": "stderr",
          "text": [
            "/usr/local/lib/python3.10/dist-packages/sklearn/utils/_array_api.py:185: FutureWarning: The input object of type 'Tensor' is an array-like implementing one of the corresponding protocols (`__array__`, `__array_interface__` or `__array_struct__`); but not a sequence (or 0-D). In the future, this object will be coerced as if it was first converted using `np.array(obj)`. To retain the old behaviour, you have to either modify the type 'Tensor', or assign to an empty array created with `np.empty(correct_shape, dtype=object)`.\n",
            "  array = numpy.asarray(array, order=order, dtype=dtype)\n",
            "/usr/local/lib/python3.10/dist-packages/sklearn/utils/_array_api.py:185: VisibleDeprecationWarning: Creating an ndarray from ragged nested sequences (which is a list-or-tuple of lists-or-tuples-or ndarrays with different lengths or shapes) is deprecated. If you meant to do this, you must specify 'dtype=object' when creating the ndarray.\n",
            "  array = numpy.asarray(array, order=order, dtype=dtype)\n",
            "<ipython-input-2-3bb857ec729e>:44: UserWarning: To copy construct from a tensor, it is recommended to use sourceTensor.clone().detach() or sourceTensor.clone().detach().requires_grad_(True), rather than torch.tensor(sourceTensor).\n",
            "  'label': torch.tensor(self.label_list[item])\n"
          ]
        },
        {
          "output_type": "stream",
          "name": "stdout",
          "text": [
            "          val_loss: 0.36673212525519455 val_acc 77.76% val_f1: 61.70%\n",
            "TextRNN AUC =  0.8178298274087982\n",
            "Specificity =  0.8550106609808102\n",
            "Sensitivity =  0.5970149253731343\n",
            "              precision    recall  f1-score   support\n",
            "\n",
            "         0.0     0.8320    0.8550    0.8433       469\n",
            "         1.0     0.6383    0.5970    0.6170       201\n",
            "\n",
            "    accuracy                         0.7776       670\n",
            "   macro avg     0.7351    0.7260    0.7301       670\n",
            "weighted avg     0.7739    0.7776    0.7754       670\n",
            "\n",
            "[INFO] Register count_lstm() for <class 'torch.nn.modules.rnn.LSTM'>.\n",
            "[INFO] Register count_linear() for <class 'torch.nn.modules.linear.Linear'>.\n",
            "[INFO] Register zero_ops() for <class 'torch.nn.modules.activation.ReLU'>.\n",
            "[INFO] Register zero_ops() for <class 'torch.nn.modules.container.Sequential'>.\n",
            "Flops: 72372860672.00\n",
            "MLOPS: 184.38\n",
            "epoch: 87 step: 0/42\n",
            "epoch: 87 step: 4/42\n",
            "epoch: 87 step: 8/42\n",
            "epoch: 87 step: 12/42\n",
            "epoch: 87 step: 16/42\n",
            "epoch: 87 step: 20/42\n",
            "epoch: 87 step: 24/42\n",
            "epoch: 87 step: 28/42\n",
            "epoch: 87 step: 32/42\n",
            "epoch: 87 step: 36/42\n",
            "epoch: 87 step: 40/42\n"
          ]
        },
        {
          "output_type": "stream",
          "name": "stderr",
          "text": [
            "/usr/local/lib/python3.10/dist-packages/sklearn/utils/_array_api.py:185: FutureWarning: The input object of type 'Tensor' is an array-like implementing one of the corresponding protocols (`__array__`, `__array_interface__` or `__array_struct__`); but not a sequence (or 0-D). In the future, this object will be coerced as if it was first converted using `np.array(obj)`. To retain the old behaviour, you have to either modify the type 'Tensor', or assign to an empty array created with `np.empty(correct_shape, dtype=object)`.\n",
            "  array = numpy.asarray(array, order=order, dtype=dtype)\n",
            "/usr/local/lib/python3.10/dist-packages/sklearn/utils/_array_api.py:185: VisibleDeprecationWarning: Creating an ndarray from ragged nested sequences (which is a list-or-tuple of lists-or-tuples-or ndarrays with different lengths or shapes) is deprecated. If you meant to do this, you must specify 'dtype=object' when creating the ndarray.\n",
            "  array = numpy.asarray(array, order=order, dtype=dtype)\n",
            "<ipython-input-2-3bb857ec729e>:44: UserWarning: To copy construct from a tensor, it is recommended to use sourceTensor.clone().detach() or sourceTensor.clone().detach().requires_grad_(True), rather than torch.tensor(sourceTensor).\n",
            "  'label': torch.tensor(self.label_list[item])\n"
          ]
        },
        {
          "output_type": "stream",
          "name": "stdout",
          "text": [
            "test\n",
            "epoch: 87 train_loss: 0.00155588289739431 train_acc: 99.63% train_f1: 99.38%\n"
          ]
        },
        {
          "output_type": "stream",
          "name": "stderr",
          "text": [
            "/usr/local/lib/python3.10/dist-packages/sklearn/utils/_array_api.py:185: FutureWarning: The input object of type 'Tensor' is an array-like implementing one of the corresponding protocols (`__array__`, `__array_interface__` or `__array_struct__`); but not a sequence (or 0-D). In the future, this object will be coerced as if it was first converted using `np.array(obj)`. To retain the old behaviour, you have to either modify the type 'Tensor', or assign to an empty array created with `np.empty(correct_shape, dtype=object)`.\n",
            "  array = numpy.asarray(array, order=order, dtype=dtype)\n",
            "/usr/local/lib/python3.10/dist-packages/sklearn/utils/_array_api.py:185: VisibleDeprecationWarning: Creating an ndarray from ragged nested sequences (which is a list-or-tuple of lists-or-tuples-or ndarrays with different lengths or shapes) is deprecated. If you meant to do this, you must specify 'dtype=object' when creating the ndarray.\n",
            "  array = numpy.asarray(array, order=order, dtype=dtype)\n",
            "<ipython-input-2-3bb857ec729e>:44: UserWarning: To copy construct from a tensor, it is recommended to use sourceTensor.clone().detach() or sourceTensor.clone().detach().requires_grad_(True), rather than torch.tensor(sourceTensor).\n",
            "  'label': torch.tensor(self.label_list[item])\n"
          ]
        },
        {
          "output_type": "stream",
          "name": "stdout",
          "text": [
            "          val_loss: 0.345289560881528 val_acc 77.16% val_f1: 61.65%\n",
            "TextRNN AUC =  0.8185617753450233\n",
            "Specificity =  0.8400852878464818\n",
            "Sensitivity =  0.6119402985074627\n",
            "              precision    recall  f1-score   support\n",
            "\n",
            "         0.0     0.8347    0.8401    0.8374       469\n",
            "         1.0     0.6212    0.6119    0.6165       201\n",
            "\n",
            "    accuracy                         0.7716       670\n",
            "   macro avg     0.7280    0.7260    0.7270       670\n",
            "weighted avg     0.7707    0.7716    0.7711       670\n",
            "\n",
            "[INFO] Register count_lstm() for <class 'torch.nn.modules.rnn.LSTM'>.\n",
            "[INFO] Register count_linear() for <class 'torch.nn.modules.linear.Linear'>.\n",
            "[INFO] Register zero_ops() for <class 'torch.nn.modules.activation.ReLU'>.\n",
            "[INFO] Register zero_ops() for <class 'torch.nn.modules.container.Sequential'>.\n",
            "Flops: 72372860672.00\n",
            "MLOPS: 185.76\n",
            "epoch: 88 step: 0/42\n",
            "epoch: 88 step: 4/42\n",
            "epoch: 88 step: 8/42\n",
            "epoch: 88 step: 12/42\n",
            "epoch: 88 step: 16/42\n",
            "epoch: 88 step: 20/42\n",
            "epoch: 88 step: 24/42\n",
            "epoch: 88 step: 28/42\n",
            "epoch: 88 step: 32/42\n",
            "epoch: 88 step: 36/42\n",
            "epoch: 88 step: 40/42\n"
          ]
        },
        {
          "output_type": "stream",
          "name": "stderr",
          "text": [
            "/usr/local/lib/python3.10/dist-packages/sklearn/utils/_array_api.py:185: FutureWarning: The input object of type 'Tensor' is an array-like implementing one of the corresponding protocols (`__array__`, `__array_interface__` or `__array_struct__`); but not a sequence (or 0-D). In the future, this object will be coerced as if it was first converted using `np.array(obj)`. To retain the old behaviour, you have to either modify the type 'Tensor', or assign to an empty array created with `np.empty(correct_shape, dtype=object)`.\n",
            "  array = numpy.asarray(array, order=order, dtype=dtype)\n",
            "/usr/local/lib/python3.10/dist-packages/sklearn/utils/_array_api.py:185: VisibleDeprecationWarning: Creating an ndarray from ragged nested sequences (which is a list-or-tuple of lists-or-tuples-or ndarrays with different lengths or shapes) is deprecated. If you meant to do this, you must specify 'dtype=object' when creating the ndarray.\n",
            "  array = numpy.asarray(array, order=order, dtype=dtype)\n"
          ]
        },
        {
          "output_type": "stream",
          "name": "stdout",
          "text": [
            "test\n",
            "epoch: 88 train_loss: 0.00406841779476963 train_acc: 99.37% train_f1: 98.94%\n"
          ]
        },
        {
          "output_type": "stream",
          "name": "stderr",
          "text": [
            "<ipython-input-2-3bb857ec729e>:44: UserWarning: To copy construct from a tensor, it is recommended to use sourceTensor.clone().detach() or sourceTensor.clone().detach().requires_grad_(True), rather than torch.tensor(sourceTensor).\n",
            "  'label': torch.tensor(self.label_list[item])\n",
            "/usr/local/lib/python3.10/dist-packages/sklearn/utils/_array_api.py:185: FutureWarning: The input object of type 'Tensor' is an array-like implementing one of the corresponding protocols (`__array__`, `__array_interface__` or `__array_struct__`); but not a sequence (or 0-D). In the future, this object will be coerced as if it was first converted using `np.array(obj)`. To retain the old behaviour, you have to either modify the type 'Tensor', or assign to an empty array created with `np.empty(correct_shape, dtype=object)`.\n",
            "  array = numpy.asarray(array, order=order, dtype=dtype)\n",
            "/usr/local/lib/python3.10/dist-packages/sklearn/utils/_array_api.py:185: VisibleDeprecationWarning: Creating an ndarray from ragged nested sequences (which is a list-or-tuple of lists-or-tuples-or ndarrays with different lengths or shapes) is deprecated. If you meant to do this, you must specify 'dtype=object' when creating the ndarray.\n",
            "  array = numpy.asarray(array, order=order, dtype=dtype)\n",
            "<ipython-input-2-3bb857ec729e>:44: UserWarning: To copy construct from a tensor, it is recommended to use sourceTensor.clone().detach() or sourceTensor.clone().detach().requires_grad_(True), rather than torch.tensor(sourceTensor).\n",
            "  'label': torch.tensor(self.label_list[item])\n"
          ]
        },
        {
          "output_type": "stream",
          "name": "stdout",
          "text": [
            "          val_loss: 0.47333655845035205 val_acc 77.91% val_f1: 59.56%\n",
            "TextRNN AUC =  0.8137457700834845\n",
            "Specificity =  0.8805970149253731\n",
            "Sensitivity =  0.5422885572139303\n",
            "              precision    recall  f1-score   support\n",
            "\n",
            "         0.0     0.8178    0.8806    0.8480       469\n",
            "         1.0     0.6606    0.5423    0.5956       201\n",
            "\n",
            "    accuracy                         0.7791       670\n",
            "   macro avg     0.7392    0.7114    0.7218       670\n",
            "weighted avg     0.7707    0.7791    0.7723       670\n",
            "\n",
            "[INFO] Register count_lstm() for <class 'torch.nn.modules.rnn.LSTM'>.\n",
            "[INFO] Register count_linear() for <class 'torch.nn.modules.linear.Linear'>.\n",
            "[INFO] Register zero_ops() for <class 'torch.nn.modules.activation.ReLU'>.\n",
            "[INFO] Register zero_ops() for <class 'torch.nn.modules.container.Sequential'>.\n",
            "Flops: 72372860672.00\n",
            "MLOPS: 186.19\n",
            "epoch: 89 step: 0/42\n",
            "epoch: 89 step: 4/42\n",
            "epoch: 89 step: 8/42\n",
            "epoch: 89 step: 12/42\n",
            "epoch: 89 step: 16/42\n",
            "epoch: 89 step: 20/42\n",
            "epoch: 89 step: 24/42\n",
            "epoch: 89 step: 28/42\n",
            "epoch: 89 step: 32/42\n",
            "epoch: 89 step: 36/42\n",
            "epoch: 89 step: 40/42\n"
          ]
        },
        {
          "output_type": "stream",
          "name": "stderr",
          "text": [
            "/usr/local/lib/python3.10/dist-packages/sklearn/utils/_array_api.py:185: FutureWarning: The input object of type 'Tensor' is an array-like implementing one of the corresponding protocols (`__array__`, `__array_interface__` or `__array_struct__`); but not a sequence (or 0-D). In the future, this object will be coerced as if it was first converted using `np.array(obj)`. To retain the old behaviour, you have to either modify the type 'Tensor', or assign to an empty array created with `np.empty(correct_shape, dtype=object)`.\n",
            "  array = numpy.asarray(array, order=order, dtype=dtype)\n",
            "/usr/local/lib/python3.10/dist-packages/sklearn/utils/_array_api.py:185: VisibleDeprecationWarning: Creating an ndarray from ragged nested sequences (which is a list-or-tuple of lists-or-tuples-or ndarrays with different lengths or shapes) is deprecated. If you meant to do this, you must specify 'dtype=object' when creating the ndarray.\n",
            "  array = numpy.asarray(array, order=order, dtype=dtype)\n",
            "<ipython-input-2-3bb857ec729e>:44: UserWarning: To copy construct from a tensor, it is recommended to use sourceTensor.clone().detach() or sourceTensor.clone().detach().requires_grad_(True), rather than torch.tensor(sourceTensor).\n",
            "  'label': torch.tensor(self.label_list[item])\n"
          ]
        },
        {
          "output_type": "stream",
          "name": "stdout",
          "text": [
            "test\n",
            "epoch: 89 train_loss: 0.0013135820585635624 train_acc: 99.74% train_f1: 99.57%\n"
          ]
        },
        {
          "output_type": "stream",
          "name": "stderr",
          "text": [
            "/usr/local/lib/python3.10/dist-packages/sklearn/utils/_array_api.py:185: FutureWarning: The input object of type 'Tensor' is an array-like implementing one of the corresponding protocols (`__array__`, `__array_interface__` or `__array_struct__`); but not a sequence (or 0-D). In the future, this object will be coerced as if it was first converted using `np.array(obj)`. To retain the old behaviour, you have to either modify the type 'Tensor', or assign to an empty array created with `np.empty(correct_shape, dtype=object)`.\n",
            "  array = numpy.asarray(array, order=order, dtype=dtype)\n",
            "/usr/local/lib/python3.10/dist-packages/sklearn/utils/_array_api.py:185: VisibleDeprecationWarning: Creating an ndarray from ragged nested sequences (which is a list-or-tuple of lists-or-tuples-or ndarrays with different lengths or shapes) is deprecated. If you meant to do this, you must specify 'dtype=object' when creating the ndarray.\n",
            "  array = numpy.asarray(array, order=order, dtype=dtype)\n"
          ]
        },
        {
          "output_type": "stream",
          "name": "stdout",
          "text": [
            "          val_loss: 0.3864773931828412 val_acc 77.01% val_f1: 61.31%\n",
            "TextRNN AUC =  0.8120803233300449\n",
            "Specificity =  0.8400852878464818\n",
            "Sensitivity =  0.6069651741293532\n",
            "              precision    recall  f1-score   support\n",
            "\n",
            "         0.0     0.8330    0.8401    0.8365       469\n",
            "         1.0     0.6193    0.6070    0.6131       201\n",
            "\n",
            "    accuracy                         0.7701       670\n",
            "   macro avg     0.7261    0.7235    0.7248       670\n",
            "weighted avg     0.7689    0.7701    0.7695       670\n",
            "\n",
            "[INFO] Register count_lstm() for <class 'torch.nn.modules.rnn.LSTM'>.\n",
            "[INFO] Register count_linear() for <class 'torch.nn.modules.linear.Linear'>.\n",
            "[INFO] Register zero_ops() for <class 'torch.nn.modules.activation.ReLU'>.\n",
            "[INFO] Register zero_ops() for <class 'torch.nn.modules.container.Sequential'>.\n",
            "Flops: 72372860672.00\n",
            "MLOPS: 189.53\n"
          ]
        },
        {
          "output_type": "stream",
          "name": "stderr",
          "text": [
            "<ipython-input-2-3bb857ec729e>:44: UserWarning: To copy construct from a tensor, it is recommended to use sourceTensor.clone().detach() or sourceTensor.clone().detach().requires_grad_(True), rather than torch.tensor(sourceTensor).\n",
            "  'label': torch.tensor(self.label_list[item])\n"
          ]
        },
        {
          "output_type": "stream",
          "name": "stdout",
          "text": [
            "epoch: 90 step: 0/42\n",
            "epoch: 90 step: 4/42\n",
            "epoch: 90 step: 8/42\n",
            "epoch: 90 step: 12/42\n",
            "epoch: 90 step: 16/42\n",
            "epoch: 90 step: 20/42\n",
            "epoch: 90 step: 24/42\n",
            "epoch: 90 step: 28/42\n",
            "epoch: 90 step: 32/42\n",
            "epoch: 90 step: 36/42\n",
            "epoch: 90 step: 40/42\n"
          ]
        },
        {
          "output_type": "stream",
          "name": "stderr",
          "text": [
            "/usr/local/lib/python3.10/dist-packages/sklearn/utils/_array_api.py:185: FutureWarning: The input object of type 'Tensor' is an array-like implementing one of the corresponding protocols (`__array__`, `__array_interface__` or `__array_struct__`); but not a sequence (or 0-D). In the future, this object will be coerced as if it was first converted using `np.array(obj)`. To retain the old behaviour, you have to either modify the type 'Tensor', or assign to an empty array created with `np.empty(correct_shape, dtype=object)`.\n",
            "  array = numpy.asarray(array, order=order, dtype=dtype)\n",
            "/usr/local/lib/python3.10/dist-packages/sklearn/utils/_array_api.py:185: VisibleDeprecationWarning: Creating an ndarray from ragged nested sequences (which is a list-or-tuple of lists-or-tuples-or ndarrays with different lengths or shapes) is deprecated. If you meant to do this, you must specify 'dtype=object' when creating the ndarray.\n",
            "  array = numpy.asarray(array, order=order, dtype=dtype)\n",
            "<ipython-input-2-3bb857ec729e>:44: UserWarning: To copy construct from a tensor, it is recommended to use sourceTensor.clone().detach() or sourceTensor.clone().detach().requires_grad_(True), rather than torch.tensor(sourceTensor).\n",
            "  'label': torch.tensor(self.label_list[item])\n"
          ]
        },
        {
          "output_type": "stream",
          "name": "stdout",
          "text": [
            "test\n",
            "epoch: 90 train_loss: 0.0062305581155842876 train_acc: 99.14% train_f1: 98.56%\n"
          ]
        },
        {
          "output_type": "stream",
          "name": "stderr",
          "text": [
            "/usr/local/lib/python3.10/dist-packages/sklearn/utils/_array_api.py:185: FutureWarning: The input object of type 'Tensor' is an array-like implementing one of the corresponding protocols (`__array__`, `__array_interface__` or `__array_struct__`); but not a sequence (or 0-D). In the future, this object will be coerced as if it was first converted using `np.array(obj)`. To retain the old behaviour, you have to either modify the type 'Tensor', or assign to an empty array created with `np.empty(correct_shape, dtype=object)`.\n",
            "  array = numpy.asarray(array, order=order, dtype=dtype)\n",
            "/usr/local/lib/python3.10/dist-packages/sklearn/utils/_array_api.py:185: VisibleDeprecationWarning: Creating an ndarray from ragged nested sequences (which is a list-or-tuple of lists-or-tuples-or ndarrays with different lengths or shapes) is deprecated. If you meant to do this, you must specify 'dtype=object' when creating the ndarray.\n",
            "  array = numpy.asarray(array, order=order, dtype=dtype)\n",
            "<ipython-input-2-3bb857ec729e>:44: UserWarning: To copy construct from a tensor, it is recommended to use sourceTensor.clone().detach() or sourceTensor.clone().detach().requires_grad_(True), rather than torch.tensor(sourceTensor).\n",
            "  'label': torch.tensor(self.label_list[item])\n"
          ]
        },
        {
          "output_type": "stream",
          "name": "stdout",
          "text": [
            "          val_loss: 0.4137585704976862 val_acc 77.91% val_f1: 60.22%\n",
            "TextRNN AUC =  0.8145307577252331\n",
            "Specificity =  0.8742004264392325\n",
            "Sensitivity =  0.5572139303482587\n",
            "              precision    recall  f1-score   support\n",
            "\n",
            "         0.0     0.8216    0.8742    0.8471       469\n",
            "         1.0     0.6550    0.5572    0.6022       201\n",
            "\n",
            "    accuracy                         0.7791       670\n",
            "   macro avg     0.7383    0.7157    0.7246       670\n",
            "weighted avg     0.7716    0.7791    0.7736       670\n",
            "\n",
            "[INFO] Register count_lstm() for <class 'torch.nn.modules.rnn.LSTM'>.\n",
            "[INFO] Register count_linear() for <class 'torch.nn.modules.linear.Linear'>.\n",
            "[INFO] Register zero_ops() for <class 'torch.nn.modules.activation.ReLU'>.\n",
            "[INFO] Register zero_ops() for <class 'torch.nn.modules.container.Sequential'>.\n",
            "Flops: 72372860672.00\n",
            "MLOPS: 184.98\n",
            "epoch: 91 step: 0/42\n",
            "epoch: 91 step: 4/42\n",
            "epoch: 91 step: 8/42\n",
            "epoch: 91 step: 12/42\n",
            "epoch: 91 step: 16/42\n",
            "epoch: 91 step: 20/42\n",
            "epoch: 91 step: 24/42\n",
            "epoch: 91 step: 28/42\n",
            "epoch: 91 step: 32/42\n",
            "epoch: 91 step: 36/42\n",
            "epoch: 91 step: 40/42\n"
          ]
        },
        {
          "output_type": "stream",
          "name": "stderr",
          "text": [
            "/usr/local/lib/python3.10/dist-packages/sklearn/utils/_array_api.py:185: FutureWarning: The input object of type 'Tensor' is an array-like implementing one of the corresponding protocols (`__array__`, `__array_interface__` or `__array_struct__`); but not a sequence (or 0-D). In the future, this object will be coerced as if it was first converted using `np.array(obj)`. To retain the old behaviour, you have to either modify the type 'Tensor', or assign to an empty array created with `np.empty(correct_shape, dtype=object)`.\n",
            "  array = numpy.asarray(array, order=order, dtype=dtype)\n",
            "/usr/local/lib/python3.10/dist-packages/sklearn/utils/_array_api.py:185: VisibleDeprecationWarning: Creating an ndarray from ragged nested sequences (which is a list-or-tuple of lists-or-tuples-or ndarrays with different lengths or shapes) is deprecated. If you meant to do this, you must specify 'dtype=object' when creating the ndarray.\n",
            "  array = numpy.asarray(array, order=order, dtype=dtype)\n"
          ]
        },
        {
          "output_type": "stream",
          "name": "stdout",
          "text": [
            "test\n",
            "epoch: 91 train_loss: 0.004291874262326885 train_acc: 99.03% train_f1: 98.39%\n"
          ]
        },
        {
          "output_type": "stream",
          "name": "stderr",
          "text": [
            "<ipython-input-2-3bb857ec729e>:44: UserWarning: To copy construct from a tensor, it is recommended to use sourceTensor.clone().detach() or sourceTensor.clone().detach().requires_grad_(True), rather than torch.tensor(sourceTensor).\n",
            "  'label': torch.tensor(self.label_list[item])\n",
            "/usr/local/lib/python3.10/dist-packages/sklearn/utils/_array_api.py:185: FutureWarning: The input object of type 'Tensor' is an array-like implementing one of the corresponding protocols (`__array__`, `__array_interface__` or `__array_struct__`); but not a sequence (or 0-D). In the future, this object will be coerced as if it was first converted using `np.array(obj)`. To retain the old behaviour, you have to either modify the type 'Tensor', or assign to an empty array created with `np.empty(correct_shape, dtype=object)`.\n",
            "  array = numpy.asarray(array, order=order, dtype=dtype)\n",
            "/usr/local/lib/python3.10/dist-packages/sklearn/utils/_array_api.py:185: VisibleDeprecationWarning: Creating an ndarray from ragged nested sequences (which is a list-or-tuple of lists-or-tuples-or ndarrays with different lengths or shapes) is deprecated. If you meant to do this, you must specify 'dtype=object' when creating the ndarray.\n",
            "  array = numpy.asarray(array, order=order, dtype=dtype)\n",
            "<ipython-input-2-3bb857ec729e>:44: UserWarning: To copy construct from a tensor, it is recommended to use sourceTensor.clone().detach() or sourceTensor.clone().detach().requires_grad_(True), rather than torch.tensor(sourceTensor).\n",
            "  'label': torch.tensor(self.label_list[item])\n"
          ]
        },
        {
          "output_type": "stream",
          "name": "stdout",
          "text": [
            "          val_loss: 0.2862286154519428 val_acc 78.36% val_f1: 63.48%\n",
            "TextRNN AUC =  0.819601353573285\n",
            "Specificity =  0.8507462686567164\n",
            "Sensitivity =  0.6268656716417911\n",
            "              precision    recall  f1-score   support\n",
            "\n",
            "         0.0     0.8418    0.8507    0.8462       469\n",
            "         1.0     0.6429    0.6269    0.6348       201\n",
            "\n",
            "    accuracy                         0.7836       670\n",
            "   macro avg     0.7423    0.7388    0.7405       670\n",
            "weighted avg     0.7821    0.7836    0.7828       670\n",
            "\n",
            "[INFO] Register count_lstm() for <class 'torch.nn.modules.rnn.LSTM'>.\n",
            "[INFO] Register count_linear() for <class 'torch.nn.modules.linear.Linear'>.\n",
            "[INFO] Register zero_ops() for <class 'torch.nn.modules.activation.ReLU'>.\n",
            "[INFO] Register zero_ops() for <class 'torch.nn.modules.container.Sequential'>.\n",
            "Flops: 72372860672.00\n",
            "MLOPS: 177.76\n",
            "epoch: 92 step: 0/42\n",
            "epoch: 92 step: 4/42\n",
            "epoch: 92 step: 8/42\n",
            "epoch: 92 step: 12/42\n",
            "epoch: 92 step: 16/42\n",
            "epoch: 92 step: 20/42\n",
            "epoch: 92 step: 24/42\n",
            "epoch: 92 step: 28/42\n",
            "epoch: 92 step: 32/42\n",
            "epoch: 92 step: 36/42\n",
            "epoch: 92 step: 40/42\n"
          ]
        },
        {
          "output_type": "stream",
          "name": "stderr",
          "text": [
            "/usr/local/lib/python3.10/dist-packages/sklearn/utils/_array_api.py:185: FutureWarning: The input object of type 'Tensor' is an array-like implementing one of the corresponding protocols (`__array__`, `__array_interface__` or `__array_struct__`); but not a sequence (or 0-D). In the future, this object will be coerced as if it was first converted using `np.array(obj)`. To retain the old behaviour, you have to either modify the type 'Tensor', or assign to an empty array created with `np.empty(correct_shape, dtype=object)`.\n",
            "  array = numpy.asarray(array, order=order, dtype=dtype)\n",
            "/usr/local/lib/python3.10/dist-packages/sklearn/utils/_array_api.py:185: VisibleDeprecationWarning: Creating an ndarray from ragged nested sequences (which is a list-or-tuple of lists-or-tuples-or ndarrays with different lengths or shapes) is deprecated. If you meant to do this, you must specify 'dtype=object' when creating the ndarray.\n",
            "  array = numpy.asarray(array, order=order, dtype=dtype)\n",
            "<ipython-input-2-3bb857ec729e>:44: UserWarning: To copy construct from a tensor, it is recommended to use sourceTensor.clone().detach() or sourceTensor.clone().detach().requires_grad_(True), rather than torch.tensor(sourceTensor).\n",
            "  'label': torch.tensor(self.label_list[item])\n"
          ]
        },
        {
          "output_type": "stream",
          "name": "stdout",
          "text": [
            "test\n",
            "epoch: 92 train_loss: 0.00231868014019537 train_acc: 99.07% train_f1: 98.47%\n"
          ]
        },
        {
          "output_type": "stream",
          "name": "stderr",
          "text": [
            "/usr/local/lib/python3.10/dist-packages/sklearn/utils/_array_api.py:185: FutureWarning: The input object of type 'Tensor' is an array-like implementing one of the corresponding protocols (`__array__`, `__array_interface__` or `__array_struct__`); but not a sequence (or 0-D). In the future, this object will be coerced as if it was first converted using `np.array(obj)`. To retain the old behaviour, you have to either modify the type 'Tensor', or assign to an empty array created with `np.empty(correct_shape, dtype=object)`.\n",
            "  array = numpy.asarray(array, order=order, dtype=dtype)\n",
            "/usr/local/lib/python3.10/dist-packages/sklearn/utils/_array_api.py:185: VisibleDeprecationWarning: Creating an ndarray from ragged nested sequences (which is a list-or-tuple of lists-or-tuples-or ndarrays with different lengths or shapes) is deprecated. If you meant to do this, you must specify 'dtype=object' when creating the ndarray.\n",
            "  array = numpy.asarray(array, order=order, dtype=dtype)\n"
          ]
        },
        {
          "output_type": "stream",
          "name": "stdout",
          "text": [
            "          val_loss: 0.3051575943827629 val_acc 77.16% val_f1: 61.27%\n",
            "TextRNN AUC =  0.8246613414802321\n",
            "Specificity =  0.8443496801705757\n",
            "Sensitivity =  0.6019900497512438\n",
            "              precision    recall  f1-score   support\n",
            "\n",
            "         0.0     0.8319    0.8443    0.8381       469\n",
            "         1.0     0.6237    0.6020    0.6127       201\n",
            "\n",
            "    accuracy                         0.7716       670\n",
            "   macro avg     0.7278    0.7232    0.7254       670\n",
            "weighted avg     0.7695    0.7716    0.7705       670\n",
            "\n",
            "[INFO] Register count_lstm() for <class 'torch.nn.modules.rnn.LSTM'>.\n",
            "[INFO] Register count_linear() for <class 'torch.nn.modules.linear.Linear'>.\n",
            "[INFO] Register zero_ops() for <class 'torch.nn.modules.activation.ReLU'>.\n",
            "[INFO] Register zero_ops() for <class 'torch.nn.modules.container.Sequential'>.\n",
            "Flops: 72372860672.00\n",
            "MLOPS: 187.32\n"
          ]
        },
        {
          "output_type": "stream",
          "name": "stderr",
          "text": [
            "<ipython-input-2-3bb857ec729e>:44: UserWarning: To copy construct from a tensor, it is recommended to use sourceTensor.clone().detach() or sourceTensor.clone().detach().requires_grad_(True), rather than torch.tensor(sourceTensor).\n",
            "  'label': torch.tensor(self.label_list[item])\n"
          ]
        },
        {
          "output_type": "stream",
          "name": "stdout",
          "text": [
            "epoch: 93 step: 0/42\n",
            "epoch: 93 step: 4/42\n",
            "epoch: 93 step: 8/42\n",
            "epoch: 93 step: 12/42\n",
            "epoch: 93 step: 16/42\n",
            "epoch: 93 step: 20/42\n",
            "epoch: 93 step: 24/42\n",
            "epoch: 93 step: 28/42\n",
            "epoch: 93 step: 32/42\n",
            "epoch: 93 step: 36/42\n",
            "epoch: 93 step: 40/42\n"
          ]
        },
        {
          "output_type": "stream",
          "name": "stderr",
          "text": [
            "/usr/local/lib/python3.10/dist-packages/sklearn/utils/_array_api.py:185: FutureWarning: The input object of type 'Tensor' is an array-like implementing one of the corresponding protocols (`__array__`, `__array_interface__` or `__array_struct__`); but not a sequence (or 0-D). In the future, this object will be coerced as if it was first converted using `np.array(obj)`. To retain the old behaviour, you have to either modify the type 'Tensor', or assign to an empty array created with `np.empty(correct_shape, dtype=object)`.\n",
            "  array = numpy.asarray(array, order=order, dtype=dtype)\n",
            "/usr/local/lib/python3.10/dist-packages/sklearn/utils/_array_api.py:185: VisibleDeprecationWarning: Creating an ndarray from ragged nested sequences (which is a list-or-tuple of lists-or-tuples-or ndarrays with different lengths or shapes) is deprecated. If you meant to do this, you must specify 'dtype=object' when creating the ndarray.\n",
            "  array = numpy.asarray(array, order=order, dtype=dtype)\n",
            "<ipython-input-2-3bb857ec729e>:44: UserWarning: To copy construct from a tensor, it is recommended to use sourceTensor.clone().detach() or sourceTensor.clone().detach().requires_grad_(True), rather than torch.tensor(sourceTensor).\n",
            "  'label': torch.tensor(self.label_list[item])\n"
          ]
        },
        {
          "output_type": "stream",
          "name": "stdout",
          "text": [
            "test\n",
            "epoch: 93 train_loss: 0.0016087119348369362 train_acc: 99.59% train_f1: 99.32%\n"
          ]
        },
        {
          "output_type": "stream",
          "name": "stderr",
          "text": [
            "/usr/local/lib/python3.10/dist-packages/sklearn/utils/_array_api.py:185: FutureWarning: The input object of type 'Tensor' is an array-like implementing one of the corresponding protocols (`__array__`, `__array_interface__` or `__array_struct__`); but not a sequence (or 0-D). In the future, this object will be coerced as if it was first converted using `np.array(obj)`. To retain the old behaviour, you have to either modify the type 'Tensor', or assign to an empty array created with `np.empty(correct_shape, dtype=object)`.\n",
            "  array = numpy.asarray(array, order=order, dtype=dtype)\n",
            "/usr/local/lib/python3.10/dist-packages/sklearn/utils/_array_api.py:185: VisibleDeprecationWarning: Creating an ndarray from ragged nested sequences (which is a list-or-tuple of lists-or-tuples-or ndarrays with different lengths or shapes) is deprecated. If you meant to do this, you must specify 'dtype=object' when creating the ndarray.\n",
            "  array = numpy.asarray(array, order=order, dtype=dtype)\n",
            "<ipython-input-2-3bb857ec729e>:44: UserWarning: To copy construct from a tensor, it is recommended to use sourceTensor.clone().detach() or sourceTensor.clone().detach().requires_grad_(True), rather than torch.tensor(sourceTensor).\n",
            "  'label': torch.tensor(self.label_list[item])\n"
          ]
        },
        {
          "output_type": "stream",
          "name": "stdout",
          "text": [
            "          val_loss: 0.3124138448726047 val_acc 77.76% val_f1: 62.09%\n",
            "TextRNN AUC =  0.8251705226532583\n",
            "Specificity =  0.8507462686567164\n",
            "Sensitivity =  0.6069651741293532\n",
            "              precision    recall  f1-score   support\n",
            "\n",
            "         0.0     0.8347    0.8507    0.8427       469\n",
            "         1.0     0.6354    0.6070    0.6209       201\n",
            "\n",
            "    accuracy                         0.7776       670\n",
            "   macro avg     0.7351    0.7289    0.7318       670\n",
            "weighted avg     0.7749    0.7776    0.7761       670\n",
            "\n",
            "[INFO] Register count_lstm() for <class 'torch.nn.modules.rnn.LSTM'>.\n",
            "[INFO] Register count_linear() for <class 'torch.nn.modules.linear.Linear'>.\n",
            "[INFO] Register zero_ops() for <class 'torch.nn.modules.activation.ReLU'>.\n",
            "[INFO] Register zero_ops() for <class 'torch.nn.modules.container.Sequential'>.\n",
            "Flops: 72372860672.00\n",
            "MLOPS: 184.58\n",
            "epoch: 94 step: 0/42\n",
            "epoch: 94 step: 4/42\n",
            "epoch: 94 step: 8/42\n",
            "epoch: 94 step: 12/42\n",
            "epoch: 94 step: 16/42\n",
            "epoch: 94 step: 20/42\n",
            "epoch: 94 step: 24/42\n",
            "epoch: 94 step: 28/42\n",
            "epoch: 94 step: 32/42\n",
            "epoch: 94 step: 36/42\n",
            "epoch: 94 step: 40/42\n"
          ]
        },
        {
          "output_type": "stream",
          "name": "stderr",
          "text": [
            "/usr/local/lib/python3.10/dist-packages/sklearn/utils/_array_api.py:185: FutureWarning: The input object of type 'Tensor' is an array-like implementing one of the corresponding protocols (`__array__`, `__array_interface__` or `__array_struct__`); but not a sequence (or 0-D). In the future, this object will be coerced as if it was first converted using `np.array(obj)`. To retain the old behaviour, you have to either modify the type 'Tensor', or assign to an empty array created with `np.empty(correct_shape, dtype=object)`.\n",
            "  array = numpy.asarray(array, order=order, dtype=dtype)\n",
            "/usr/local/lib/python3.10/dist-packages/sklearn/utils/_array_api.py:185: VisibleDeprecationWarning: Creating an ndarray from ragged nested sequences (which is a list-or-tuple of lists-or-tuples-or ndarrays with different lengths or shapes) is deprecated. If you meant to do this, you must specify 'dtype=object' when creating the ndarray.\n",
            "  array = numpy.asarray(array, order=order, dtype=dtype)\n",
            "<ipython-input-2-3bb857ec729e>:44: UserWarning: To copy construct from a tensor, it is recommended to use sourceTensor.clone().detach() or sourceTensor.clone().detach().requires_grad_(True), rather than torch.tensor(sourceTensor).\n",
            "  'label': torch.tensor(self.label_list[item])\n"
          ]
        },
        {
          "output_type": "stream",
          "name": "stdout",
          "text": [
            "test\n",
            "epoch: 94 train_loss: 0.0013112300765074213 train_acc: 99.70% train_f1: 99.50%\n"
          ]
        },
        {
          "output_type": "stream",
          "name": "stderr",
          "text": [
            "/usr/local/lib/python3.10/dist-packages/sklearn/utils/_array_api.py:185: FutureWarning: The input object of type 'Tensor' is an array-like implementing one of the corresponding protocols (`__array__`, `__array_interface__` or `__array_struct__`); but not a sequence (or 0-D). In the future, this object will be coerced as if it was first converted using `np.array(obj)`. To retain the old behaviour, you have to either modify the type 'Tensor', or assign to an empty array created with `np.empty(correct_shape, dtype=object)`.\n",
            "  array = numpy.asarray(array, order=order, dtype=dtype)\n",
            "/usr/local/lib/python3.10/dist-packages/sklearn/utils/_array_api.py:185: VisibleDeprecationWarning: Creating an ndarray from ragged nested sequences (which is a list-or-tuple of lists-or-tuples-or ndarrays with different lengths or shapes) is deprecated. If you meant to do this, you must specify 'dtype=object' when creating the ndarray.\n",
            "  array = numpy.asarray(array, order=order, dtype=dtype)\n",
            "<ipython-input-2-3bb857ec729e>:44: UserWarning: To copy construct from a tensor, it is recommended to use sourceTensor.clone().detach() or sourceTensor.clone().detach().requires_grad_(True), rather than torch.tensor(sourceTensor).\n",
            "  'label': torch.tensor(self.label_list[item])\n"
          ]
        },
        {
          "output_type": "stream",
          "name": "stdout",
          "text": [
            "          val_loss: 0.34011052684350446 val_acc 78.06% val_f1: 62.40%\n",
            "TextRNN AUC =  0.8248204605968028\n",
            "Specificity =  0.8550106609808102\n",
            "Sensitivity =  0.6069651741293532\n",
            "              precision    recall  f1-score   support\n",
            "\n",
            "         0.0     0.8354    0.8550    0.8451       469\n",
            "         1.0     0.6421    0.6070    0.6240       201\n",
            "\n",
            "    accuracy                         0.7806       670\n",
            "   macro avg     0.7388    0.7310    0.7346       670\n",
            "weighted avg     0.7774    0.7806    0.7788       670\n",
            "\n",
            "[INFO] Register count_lstm() for <class 'torch.nn.modules.rnn.LSTM'>.\n",
            "[INFO] Register count_linear() for <class 'torch.nn.modules.linear.Linear'>.\n",
            "[INFO] Register zero_ops() for <class 'torch.nn.modules.activation.ReLU'>.\n",
            "[INFO] Register zero_ops() for <class 'torch.nn.modules.container.Sequential'>.\n",
            "Flops: 72372860672.00\n",
            "MLOPS: 185.31\n",
            "epoch: 95 step: 0/42\n",
            "epoch: 95 step: 4/42\n",
            "epoch: 95 step: 8/42\n",
            "epoch: 95 step: 12/42\n",
            "epoch: 95 step: 16/42\n",
            "epoch: 95 step: 20/42\n",
            "epoch: 95 step: 24/42\n",
            "epoch: 95 step: 28/42\n",
            "epoch: 95 step: 32/42\n",
            "epoch: 95 step: 36/42\n",
            "epoch: 95 step: 40/42\n"
          ]
        },
        {
          "output_type": "stream",
          "name": "stderr",
          "text": [
            "/usr/local/lib/python3.10/dist-packages/sklearn/utils/_array_api.py:185: FutureWarning: The input object of type 'Tensor' is an array-like implementing one of the corresponding protocols (`__array__`, `__array_interface__` or `__array_struct__`); but not a sequence (or 0-D). In the future, this object will be coerced as if it was first converted using `np.array(obj)`. To retain the old behaviour, you have to either modify the type 'Tensor', or assign to an empty array created with `np.empty(correct_shape, dtype=object)`.\n",
            "  array = numpy.asarray(array, order=order, dtype=dtype)\n",
            "/usr/local/lib/python3.10/dist-packages/sklearn/utils/_array_api.py:185: VisibleDeprecationWarning: Creating an ndarray from ragged nested sequences (which is a list-or-tuple of lists-or-tuples-or ndarrays with different lengths or shapes) is deprecated. If you meant to do this, you must specify 'dtype=object' when creating the ndarray.\n",
            "  array = numpy.asarray(array, order=order, dtype=dtype)\n"
          ]
        },
        {
          "output_type": "stream",
          "name": "stdout",
          "text": [
            "test\n",
            "epoch: 95 train_loss: 0.0011231723765376955 train_acc: 99.74% train_f1: 99.57%\n"
          ]
        },
        {
          "output_type": "stream",
          "name": "stderr",
          "text": [
            "<ipython-input-2-3bb857ec729e>:44: UserWarning: To copy construct from a tensor, it is recommended to use sourceTensor.clone().detach() or sourceTensor.clone().detach().requires_grad_(True), rather than torch.tensor(sourceTensor).\n",
            "  'label': torch.tensor(self.label_list[item])\n",
            "/usr/local/lib/python3.10/dist-packages/sklearn/utils/_array_api.py:185: FutureWarning: The input object of type 'Tensor' is an array-like implementing one of the corresponding protocols (`__array__`, `__array_interface__` or `__array_struct__`); but not a sequence (or 0-D). In the future, this object will be coerced as if it was first converted using `np.array(obj)`. To retain the old behaviour, you have to either modify the type 'Tensor', or assign to an empty array created with `np.empty(correct_shape, dtype=object)`.\n",
            "  array = numpy.asarray(array, order=order, dtype=dtype)\n",
            "/usr/local/lib/python3.10/dist-packages/sklearn/utils/_array_api.py:185: VisibleDeprecationWarning: Creating an ndarray from ragged nested sequences (which is a list-or-tuple of lists-or-tuples-or ndarrays with different lengths or shapes) is deprecated. If you meant to do this, you must specify 'dtype=object' when creating the ndarray.\n",
            "  array = numpy.asarray(array, order=order, dtype=dtype)\n",
            "<ipython-input-2-3bb857ec729e>:44: UserWarning: To copy construct from a tensor, it is recommended to use sourceTensor.clone().detach() or sourceTensor.clone().detach().requires_grad_(True), rather than torch.tensor(sourceTensor).\n",
            "  'label': torch.tensor(self.label_list[item])\n"
          ]
        },
        {
          "output_type": "stream",
          "name": "stdout",
          "text": [
            "          val_loss: 0.35782497782598843 val_acc 78.21% val_f1: 62.37%\n",
            "TextRNN AUC =  0.8232292694310961\n",
            "Specificity =  0.8592750533049041\n",
            "Sensitivity =  0.6019900497512438\n",
            "              precision    recall  f1-score   support\n",
            "\n",
            "         0.0     0.8344    0.8593    0.8466       469\n",
            "         1.0     0.6471    0.6020    0.6237       201\n",
            "\n",
            "    accuracy                         0.7821       670\n",
            "   macro avg     0.7407    0.7306    0.7352       670\n",
            "weighted avg     0.7782    0.7821    0.7798       670\n",
            "\n",
            "[INFO] Register count_lstm() for <class 'torch.nn.modules.rnn.LSTM'>.\n",
            "[INFO] Register count_linear() for <class 'torch.nn.modules.linear.Linear'>.\n",
            "[INFO] Register zero_ops() for <class 'torch.nn.modules.activation.ReLU'>.\n",
            "[INFO] Register zero_ops() for <class 'torch.nn.modules.container.Sequential'>.\n",
            "Flops: 72372860672.00\n",
            "MLOPS: 186.48\n",
            "epoch: 96 step: 0/42\n",
            "epoch: 96 step: 4/42\n",
            "epoch: 96 step: 8/42\n",
            "epoch: 96 step: 12/42\n",
            "epoch: 96 step: 16/42\n",
            "epoch: 96 step: 20/42\n",
            "epoch: 96 step: 24/42\n",
            "epoch: 96 step: 28/42\n",
            "epoch: 96 step: 32/42\n",
            "epoch: 96 step: 36/42\n",
            "epoch: 96 step: 40/42\n"
          ]
        },
        {
          "output_type": "stream",
          "name": "stderr",
          "text": [
            "/usr/local/lib/python3.10/dist-packages/sklearn/utils/_array_api.py:185: FutureWarning: The input object of type 'Tensor' is an array-like implementing one of the corresponding protocols (`__array__`, `__array_interface__` or `__array_struct__`); but not a sequence (or 0-D). In the future, this object will be coerced as if it was first converted using `np.array(obj)`. To retain the old behaviour, you have to either modify the type 'Tensor', or assign to an empty array created with `np.empty(correct_shape, dtype=object)`.\n",
            "  array = numpy.asarray(array, order=order, dtype=dtype)\n",
            "/usr/local/lib/python3.10/dist-packages/sklearn/utils/_array_api.py:185: VisibleDeprecationWarning: Creating an ndarray from ragged nested sequences (which is a list-or-tuple of lists-or-tuples-or ndarrays with different lengths or shapes) is deprecated. If you meant to do this, you must specify 'dtype=object' when creating the ndarray.\n",
            "  array = numpy.asarray(array, order=order, dtype=dtype)\n",
            "<ipython-input-2-3bb857ec729e>:44: UserWarning: To copy construct from a tensor, it is recommended to use sourceTensor.clone().detach() or sourceTensor.clone().detach().requires_grad_(True), rather than torch.tensor(sourceTensor).\n",
            "  'label': torch.tensor(self.label_list[item])\n"
          ]
        },
        {
          "output_type": "stream",
          "name": "stdout",
          "text": [
            "test\n",
            "epoch: 96 train_loss: 0.0010323133295363125 train_acc: 99.81% train_f1: 99.69%\n"
          ]
        },
        {
          "output_type": "stream",
          "name": "stderr",
          "text": [
            "/usr/local/lib/python3.10/dist-packages/sklearn/utils/_array_api.py:185: FutureWarning: The input object of type 'Tensor' is an array-like implementing one of the corresponding protocols (`__array__`, `__array_interface__` or `__array_struct__`); but not a sequence (or 0-D). In the future, this object will be coerced as if it was first converted using `np.array(obj)`. To retain the old behaviour, you have to either modify the type 'Tensor', or assign to an empty array created with `np.empty(correct_shape, dtype=object)`.\n",
            "  array = numpy.asarray(array, order=order, dtype=dtype)\n",
            "/usr/local/lib/python3.10/dist-packages/sklearn/utils/_array_api.py:185: VisibleDeprecationWarning: Creating an ndarray from ragged nested sequences (which is a list-or-tuple of lists-or-tuples-or ndarrays with different lengths or shapes) is deprecated. If you meant to do this, you must specify 'dtype=object' when creating the ndarray.\n",
            "  array = numpy.asarray(array, order=order, dtype=dtype)\n"
          ]
        },
        {
          "output_type": "stream",
          "name": "stdout",
          "text": [
            "          val_loss: 0.3636971685019406 val_acc 78.36% val_f1: 62.92%\n",
            "TextRNN AUC =  0.8225609691414992\n",
            "Specificity =  0.8571428571428571\n",
            "Sensitivity =  0.6119402985074627\n",
            "              precision    recall  f1-score   support\n",
            "\n",
            "         0.0     0.8375    0.8571    0.8472       469\n",
            "         1.0     0.6474    0.6119    0.6292       201\n",
            "\n",
            "    accuracy                         0.7836       670\n",
            "   macro avg     0.7424    0.7345    0.7382       670\n",
            "weighted avg     0.7805    0.7836    0.7818       670\n",
            "\n",
            "[INFO] Register count_lstm() for <class 'torch.nn.modules.rnn.LSTM'>.\n",
            "[INFO] Register count_linear() for <class 'torch.nn.modules.linear.Linear'>.\n",
            "[INFO] Register zero_ops() for <class 'torch.nn.modules.activation.ReLU'>.\n",
            "[INFO] Register zero_ops() for <class 'torch.nn.modules.container.Sequential'>.\n",
            "Flops: 72372860672.00\n",
            "MLOPS: 185.29\n"
          ]
        },
        {
          "output_type": "stream",
          "name": "stderr",
          "text": [
            "<ipython-input-2-3bb857ec729e>:44: UserWarning: To copy construct from a tensor, it is recommended to use sourceTensor.clone().detach() or sourceTensor.clone().detach().requires_grad_(True), rather than torch.tensor(sourceTensor).\n",
            "  'label': torch.tensor(self.label_list[item])\n"
          ]
        },
        {
          "output_type": "stream",
          "name": "stdout",
          "text": [
            "epoch: 97 step: 0/42\n",
            "epoch: 97 step: 4/42\n",
            "epoch: 97 step: 8/42\n",
            "epoch: 97 step: 12/42\n",
            "epoch: 97 step: 16/42\n",
            "epoch: 97 step: 20/42\n",
            "epoch: 97 step: 24/42\n",
            "epoch: 97 step: 28/42\n",
            "epoch: 97 step: 32/42\n",
            "epoch: 97 step: 36/42\n",
            "epoch: 97 step: 40/42\n"
          ]
        },
        {
          "output_type": "stream",
          "name": "stderr",
          "text": [
            "/usr/local/lib/python3.10/dist-packages/sklearn/utils/_array_api.py:185: FutureWarning: The input object of type 'Tensor' is an array-like implementing one of the corresponding protocols (`__array__`, `__array_interface__` or `__array_struct__`); but not a sequence (or 0-D). In the future, this object will be coerced as if it was first converted using `np.array(obj)`. To retain the old behaviour, you have to either modify the type 'Tensor', or assign to an empty array created with `np.empty(correct_shape, dtype=object)`.\n",
            "  array = numpy.asarray(array, order=order, dtype=dtype)\n",
            "/usr/local/lib/python3.10/dist-packages/sklearn/utils/_array_api.py:185: VisibleDeprecationWarning: Creating an ndarray from ragged nested sequences (which is a list-or-tuple of lists-or-tuples-or ndarrays with different lengths or shapes) is deprecated. If you meant to do this, you must specify 'dtype=object' when creating the ndarray.\n",
            "  array = numpy.asarray(array, order=order, dtype=dtype)\n",
            "<ipython-input-2-3bb857ec729e>:44: UserWarning: To copy construct from a tensor, it is recommended to use sourceTensor.clone().detach() or sourceTensor.clone().detach().requires_grad_(True), rather than torch.tensor(sourceTensor).\n",
            "  'label': torch.tensor(self.label_list[item])\n"
          ]
        },
        {
          "output_type": "stream",
          "name": "stdout",
          "text": [
            "test\n",
            "epoch: 97 train_loss: 0.0010579773751530973 train_acc: 99.74% train_f1: 99.57%\n"
          ]
        },
        {
          "output_type": "stream",
          "name": "stderr",
          "text": [
            "/usr/local/lib/python3.10/dist-packages/sklearn/utils/_array_api.py:185: FutureWarning: The input object of type 'Tensor' is an array-like implementing one of the corresponding protocols (`__array__`, `__array_interface__` or `__array_struct__`); but not a sequence (or 0-D). In the future, this object will be coerced as if it was first converted using `np.array(obj)`. To retain the old behaviour, you have to either modify the type 'Tensor', or assign to an empty array created with `np.empty(correct_shape, dtype=object)`.\n",
            "  array = numpy.asarray(array, order=order, dtype=dtype)\n",
            "/usr/local/lib/python3.10/dist-packages/sklearn/utils/_array_api.py:185: VisibleDeprecationWarning: Creating an ndarray from ragged nested sequences (which is a list-or-tuple of lists-or-tuples-or ndarrays with different lengths or shapes) is deprecated. If you meant to do this, you must specify 'dtype=object' when creating the ndarray.\n",
            "  array = numpy.asarray(array, order=order, dtype=dtype)\n",
            "<ipython-input-2-3bb857ec729e>:44: UserWarning: To copy construct from a tensor, it is recommended to use sourceTensor.clone().detach() or sourceTensor.clone().detach().requires_grad_(True), rather than torch.tensor(sourceTensor).\n",
            "  'label': torch.tensor(self.label_list[item])\n"
          ]
        },
        {
          "output_type": "stream",
          "name": "stdout",
          "text": [
            "          val_loss: 0.35301649231802334 val_acc 77.61% val_f1: 62.87%\n",
            "TextRNN AUC =  0.8222745547316722\n",
            "Specificity =  0.837953091684435\n",
            "Sensitivity =  0.6318407960199005\n",
            "              precision    recall  f1-score   support\n",
            "\n",
            "         0.0     0.8415    0.8380    0.8397       469\n",
            "         1.0     0.6256    0.6318    0.6287       201\n",
            "\n",
            "    accuracy                         0.7761       670\n",
            "   macro avg     0.7336    0.7349    0.7342       670\n",
            "weighted avg     0.7768    0.7761    0.7764       670\n",
            "\n",
            "[INFO] Register count_lstm() for <class 'torch.nn.modules.rnn.LSTM'>.\n",
            "[INFO] Register count_linear() for <class 'torch.nn.modules.linear.Linear'>.\n",
            "[INFO] Register zero_ops() for <class 'torch.nn.modules.activation.ReLU'>.\n",
            "[INFO] Register zero_ops() for <class 'torch.nn.modules.container.Sequential'>.\n",
            "Flops: 72372860672.00\n",
            "MLOPS: 183.01\n",
            "epoch: 98 step: 0/42\n",
            "epoch: 98 step: 4/42\n",
            "epoch: 98 step: 8/42\n",
            "epoch: 98 step: 12/42\n",
            "epoch: 98 step: 16/42\n",
            "epoch: 98 step: 20/42\n",
            "epoch: 98 step: 24/42\n",
            "epoch: 98 step: 28/42\n",
            "epoch: 98 step: 32/42\n",
            "epoch: 98 step: 36/42\n",
            "epoch: 98 step: 40/42\n"
          ]
        },
        {
          "output_type": "stream",
          "name": "stderr",
          "text": [
            "/usr/local/lib/python3.10/dist-packages/sklearn/utils/_array_api.py:185: FutureWarning: The input object of type 'Tensor' is an array-like implementing one of the corresponding protocols (`__array__`, `__array_interface__` or `__array_struct__`); but not a sequence (or 0-D). In the future, this object will be coerced as if it was first converted using `np.array(obj)`. To retain the old behaviour, you have to either modify the type 'Tensor', or assign to an empty array created with `np.empty(correct_shape, dtype=object)`.\n",
            "  array = numpy.asarray(array, order=order, dtype=dtype)\n",
            "/usr/local/lib/python3.10/dist-packages/sklearn/utils/_array_api.py:185: VisibleDeprecationWarning: Creating an ndarray from ragged nested sequences (which is a list-or-tuple of lists-or-tuples-or ndarrays with different lengths or shapes) is deprecated. If you meant to do this, you must specify 'dtype=object' when creating the ndarray.\n",
            "  array = numpy.asarray(array, order=order, dtype=dtype)\n",
            "<ipython-input-2-3bb857ec729e>:44: UserWarning: To copy construct from a tensor, it is recommended to use sourceTensor.clone().detach() or sourceTensor.clone().detach().requires_grad_(True), rather than torch.tensor(sourceTensor).\n",
            "  'label': torch.tensor(self.label_list[item])\n"
          ]
        },
        {
          "output_type": "stream",
          "name": "stdout",
          "text": [
            "test\n",
            "epoch: 98 train_loss: 0.0009385294548077841 train_acc: 99.81% train_f1: 99.69%\n"
          ]
        },
        {
          "output_type": "stream",
          "name": "stderr",
          "text": [
            "/usr/local/lib/python3.10/dist-packages/sklearn/utils/_array_api.py:185: FutureWarning: The input object of type 'Tensor' is an array-like implementing one of the corresponding protocols (`__array__`, `__array_interface__` or `__array_struct__`); but not a sequence (or 0-D). In the future, this object will be coerced as if it was first converted using `np.array(obj)`. To retain the old behaviour, you have to either modify the type 'Tensor', or assign to an empty array created with `np.empty(correct_shape, dtype=object)`.\n",
            "  array = numpy.asarray(array, order=order, dtype=dtype)\n",
            "/usr/local/lib/python3.10/dist-packages/sklearn/utils/_array_api.py:185: VisibleDeprecationWarning: Creating an ndarray from ragged nested sequences (which is a list-or-tuple of lists-or-tuples-or ndarrays with different lengths or shapes) is deprecated. If you meant to do this, you must specify 'dtype=object' when creating the ndarray.\n",
            "  array = numpy.asarray(array, order=order, dtype=dtype)\n",
            "<ipython-input-2-3bb857ec729e>:44: UserWarning: To copy construct from a tensor, it is recommended to use sourceTensor.clone().detach() or sourceTensor.clone().detach().requires_grad_(True), rather than torch.tensor(sourceTensor).\n",
            "  'label': torch.tensor(self.label_list[item])\n"
          ]
        },
        {
          "output_type": "stream",
          "name": "stdout",
          "text": [
            "          val_loss: 0.37721606547182257 val_acc 77.76% val_f1: 62.28%\n",
            "TextRNN AUC =  0.8218502370874837\n",
            "Specificity =  0.8486140724946695\n",
            "Sensitivity =  0.6119402985074627\n",
            "              precision    recall  f1-score   support\n",
            "\n",
            "         0.0     0.8361    0.8486    0.8423       469\n",
            "         1.0     0.6340    0.6119    0.6228       201\n",
            "\n",
            "    accuracy                         0.7776       670\n",
            "   macro avg     0.7351    0.7303    0.7326       670\n",
            "weighted avg     0.7755    0.7776    0.7765       670\n",
            "\n",
            "[INFO] Register count_lstm() for <class 'torch.nn.modules.rnn.LSTM'>.\n",
            "[INFO] Register count_linear() for <class 'torch.nn.modules.linear.Linear'>.\n",
            "[INFO] Register zero_ops() for <class 'torch.nn.modules.activation.ReLU'>.\n",
            "[INFO] Register zero_ops() for <class 'torch.nn.modules.container.Sequential'>.\n",
            "Flops: 72372860672.00\n",
            "MLOPS: 186.09\n",
            "epoch: 99 step: 0/42\n",
            "epoch: 99 step: 4/42\n",
            "epoch: 99 step: 8/42\n",
            "epoch: 99 step: 12/42\n",
            "epoch: 99 step: 16/42\n",
            "epoch: 99 step: 20/42\n",
            "epoch: 99 step: 24/42\n",
            "epoch: 99 step: 28/42\n",
            "epoch: 99 step: 32/42\n",
            "epoch: 99 step: 36/42\n",
            "epoch: 99 step: 40/42\n"
          ]
        },
        {
          "output_type": "stream",
          "name": "stderr",
          "text": [
            "/usr/local/lib/python3.10/dist-packages/sklearn/utils/_array_api.py:185: FutureWarning: The input object of type 'Tensor' is an array-like implementing one of the corresponding protocols (`__array__`, `__array_interface__` or `__array_struct__`); but not a sequence (or 0-D). In the future, this object will be coerced as if it was first converted using `np.array(obj)`. To retain the old behaviour, you have to either modify the type 'Tensor', or assign to an empty array created with `np.empty(correct_shape, dtype=object)`.\n",
            "  array = numpy.asarray(array, order=order, dtype=dtype)\n",
            "/usr/local/lib/python3.10/dist-packages/sklearn/utils/_array_api.py:185: VisibleDeprecationWarning: Creating an ndarray from ragged nested sequences (which is a list-or-tuple of lists-or-tuples-or ndarrays with different lengths or shapes) is deprecated. If you meant to do this, you must specify 'dtype=object' when creating the ndarray.\n",
            "  array = numpy.asarray(array, order=order, dtype=dtype)\n"
          ]
        },
        {
          "output_type": "stream",
          "name": "stdout",
          "text": [
            "test\n",
            "epoch: 99 train_loss: 0.0008584762891543852 train_acc: 99.81% train_f1: 99.69%\n"
          ]
        },
        {
          "output_type": "stream",
          "name": "stderr",
          "text": [
            "<ipython-input-2-3bb857ec729e>:44: UserWarning: To copy construct from a tensor, it is recommended to use sourceTensor.clone().detach() or sourceTensor.clone().detach().requires_grad_(True), rather than torch.tensor(sourceTensor).\n",
            "  'label': torch.tensor(self.label_list[item])\n",
            "/usr/local/lib/python3.10/dist-packages/sklearn/utils/_array_api.py:185: FutureWarning: The input object of type 'Tensor' is an array-like implementing one of the corresponding protocols (`__array__`, `__array_interface__` or `__array_struct__`); but not a sequence (or 0-D). In the future, this object will be coerced as if it was first converted using `np.array(obj)`. To retain the old behaviour, you have to either modify the type 'Tensor', or assign to an empty array created with `np.empty(correct_shape, dtype=object)`.\n",
            "  array = numpy.asarray(array, order=order, dtype=dtype)\n",
            "/usr/local/lib/python3.10/dist-packages/sklearn/utils/_array_api.py:185: VisibleDeprecationWarning: Creating an ndarray from ragged nested sequences (which is a list-or-tuple of lists-or-tuples-or ndarrays with different lengths or shapes) is deprecated. If you meant to do this, you must specify 'dtype=object' when creating the ndarray.\n",
            "  array = numpy.asarray(array, order=order, dtype=dtype)\n"
          ]
        },
        {
          "output_type": "stream",
          "name": "stdout",
          "text": [
            "          val_loss: 0.39995878392999823 val_acc 78.21% val_f1: 62.18%\n",
            "TextRNN AUC =  0.8221366514973109\n",
            "Specificity =  0.8614072494669509\n",
            "Sensitivity =  0.5970149253731343\n",
            "              precision    recall  f1-score   support\n",
            "\n",
            "         0.0     0.8330    0.8614    0.8470       469\n",
            "         1.0     0.6486    0.5970    0.6218       201\n",
            "\n",
            "    accuracy                         0.7821       670\n",
            "   macro avg     0.7408    0.7292    0.7344       670\n",
            "weighted avg     0.7777    0.7821    0.7794       670\n",
            "\n",
            "[INFO] Register count_lstm() for <class 'torch.nn.modules.rnn.LSTM'>.\n",
            "[INFO] Register count_linear() for <class 'torch.nn.modules.linear.Linear'>.\n",
            "[INFO] Register zero_ops() for <class 'torch.nn.modules.activation.ReLU'>.\n",
            "[INFO] Register zero_ops() for <class 'torch.nn.modules.container.Sequential'>.\n",
            "Flops: 72372860672.00\n",
            "MLOPS: 185.88\n"
          ]
        }
      ]
    },
    {
      "cell_type": "code",
      "source": [],
      "metadata": {
        "id": "I6IVysRkTBks"
      },
      "execution_count": null,
      "outputs": []
    },
    {
      "cell_type": "code",
      "source": [],
      "metadata": {
        "id": "9gyb-HEW_PrD"
      },
      "execution_count": null,
      "outputs": []
    }
  ]
}