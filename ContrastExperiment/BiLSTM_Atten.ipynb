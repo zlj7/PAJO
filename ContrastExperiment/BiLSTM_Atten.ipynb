{
  "nbformat": 4,
  "nbformat_minor": 0,
  "metadata": {
    "colab": {
      "provenance": []
    },
    "kernelspec": {
      "name": "python3",
      "display_name": "Python 3"
    },
    "language_info": {
      "name": "python"
    },
    "accelerator": "GPU"
  },
  "cells": [
    {
      "cell_type": "code",
      "execution_count": null,
      "metadata": {
        "colab": {
          "base_uri": "https://localhost:8080/"
        },
        "id": "_Rz38NZg9eZk",
        "outputId": "6aafdfec-a1b9-436e-9581-fc13c23c3aee"
      },
      "outputs": [
        {
          "output_type": "stream",
          "name": "stdout",
          "text": [
            "Mounted at /content/drive\n"
          ]
        }
      ],
      "source": [
        "from google.colab import drive\n",
        "drive.mount('/content/drive')"
      ]
    },
    {
      "cell_type": "code",
      "source": [
        "from torch.utils.data import Dataset\n",
        "import torch\n",
        "import pandas as pd\n",
        "import numpy as np\n",
        "\n",
        "\n",
        "def fill_padding(data, max_len, pad_id):\n",
        "    if len(data) < max_len:\n",
        "        pad_len = max_len - len(data)\n",
        "        padding = [pad_id for _ in range(pad_len)]\n",
        "        # try:\n",
        "        # print(\"data: \", data)\n",
        "        # print(\"padding: \", padding)\n",
        "        data = torch.tensor(data + padding)\n",
        "\n",
        "        # except BaseException:\n",
        "        #   print(\"____________________error_________________\")\n",
        "        #   print(data)\n",
        "        #   print(padding)\n",
        "\n",
        "\n",
        "    else:\n",
        "        data = torch.tensor(data[: max_len])\n",
        "    return data\n",
        "\n",
        "\n",
        "class articleDataset(Dataset):\n",
        "    def __init__(self, journal, title, abstruct, label_list, token2id):\n",
        "        self.journal = journal\n",
        "        self.title = title\n",
        "        self.abstruct = abstruct\n",
        "        self.label_list = label_list\n",
        "        self.token2id = token2id\n",
        "\n",
        "    def __len__(self):\n",
        "        return len(self.journal)\n",
        "\n",
        "    def __getitem__(self, item):\n",
        "        return {\n",
        "            'journal': self.journal[item],\n",
        "            # 'tokens': fill_padding(self.text_list[item], max_len=self.max_len, pad_id=0),\n",
        "            'title': fill_padding(self.title[item], max_len=32, pad_id=0),\n",
        "            'abstruct': fill_padding(self.abstruct[item], max_len=512, pad_id=0),\n",
        "            'label': torch.tensor(self.label_list[item])\n",
        "        }\n",
        "\n",
        "def shuffle_dataset(journal, title, abstruct, label):\n",
        "    length = len(journal)\n",
        "    rng = np.random.default_rng(1235)\n",
        "    index = np.arange(length)\n",
        "    # print(index)\n",
        "    rng.shuffle(index)\n",
        "    # print(index)\n",
        "    return journal[index], np.array(title)[index], np.array(abstruct)[index], label[index]\n",
        "\n",
        "def preprocess(file_path):\n",
        "    df = pd.read_excel(file_path)\n",
        "    df.replace(np.nan, '[PAD]', inplace=True)\n",
        "    text_list = []\n",
        "    title = df['标题']\n",
        "    abstruct = df['摘要']\n",
        "    # with open(file_path, 'r', encoding='utf-8') as f:\n",
        "    #     f.readline()\n",
        "    for item in title:\n",
        "        text_list.append(item)\n",
        "        # print(item)\n",
        "    for item in abstruct:\n",
        "        text_list.append(item)\n",
        "    return text_list\n",
        "\n",
        "\n",
        "def build_vocab(*text_list):\n",
        "    token_set = set()\n",
        "    for idv_list in text_list:\n",
        "        for tokens in idv_list:\n",
        "            # print(tokens)\n",
        "            for i in tokens.split(' '):\n",
        "                # print(i)\n",
        "                # print(\"\\n\")\n",
        "                token_set.add(i)\n",
        "\n",
        "    token2id, id2token = {}, {}\n",
        "    token2id['[PAD]'] = 0\n",
        "    id2token[0] = '[PAD]'\n",
        "    cnt = 1\n",
        "    for i in token_set:\n",
        "        token2id[i] = cnt\n",
        "        id2token[cnt] = i\n",
        "        cnt += 1\n",
        "\n",
        "    return token2id, id2token"
      ],
      "metadata": {
        "id": "jkN8SodG9jVv"
      },
      "execution_count": null,
      "outputs": []
    },
    {
      "cell_type": "code",
      "source": [
        "import torch.nn as nn\n",
        "from torch.nn.utils.rnn import pad_sequence, pack_padded_sequence, pad_packed_sequence\n",
        "import torch\n",
        "import torch.nn.functional as F\n",
        "\n",
        "class BiLSTM_Atten(nn.Module):\n",
        "    def __init__(self, vocab_size):\n",
        "        super(BiLSTM_Atten, self).__init__()\n",
        "        self.embedding = nn.Embedding(vocab_size, embedding_dim=128, padding_idx=0)\n",
        "        self.lstm = nn.LSTM(input_size=128,\n",
        "                            hidden_size=256,\n",
        "                            num_layers=2,\n",
        "                            dropout=0.5,\n",
        "                            batch_first=True,\n",
        "                            bidirectional=True)\n",
        "        self.tanh = nn.Tanh()\n",
        "        # attention层权重\n",
        "        self.w = nn.Linear(256 * 2, 256 * 2)\n",
        "        self.journal_layer = nn.Sequential(\n",
        "            nn.Linear(16,64),\n",
        "            nn.ReLU(),\n",
        "            nn.Linear(64,16),\n",
        "        )\n",
        "        self.dropout = nn.Dropout(0.5)\n",
        "        self.linear = nn.Linear(256 + 16, 2)\n",
        "        # self.liner1 = nn.Linear(512, 256)\n",
        "        # self.liner2 = nn.Linear(256, 2)\n",
        "\n",
        "    def forward(self, journal, title, abstruct):\n",
        "        title = self.embedding(title)\n",
        "        abstruct = self.embedding(abstruct)\n",
        "        # print(\"journal: \", journal.unsqueeze(1).shape)\n",
        "        # print(\"title: \", title.shape)\n",
        "        # print(\"abstruct: \", abstruct.shape)\n",
        "        inputs = torch.cat((title, abstruct), 1)\n",
        "        output, (hn, cn) = self.lstm(inputs)\n",
        "        # output = pad_packed_sequence(output, batch_first=True, padding_value=0, total_length=64)[0]\n",
        "        # print(hn[-1, :, :].shape)\n",
        "        output = self.tanh(output)\n",
        "\n",
        "        alpha = self.w(output)\n",
        "        alpha = F.softmax(alpha, dim=1)\n",
        "        out = output * alpha\n",
        "        out = torch.sum(out, 1)\n",
        "        out = self.tanh(out)\n",
        "        out = self.dropout(out)\n",
        "\n",
        "        journal_feature = self.journal_layer(journal.float())\n",
        "        out = self.linear(torch.cat((hn[-1, :, :], journal_feature.to(torch.float32)), 1))\n",
        "        out = F.softmax(out, dim=1)\n",
        "\n",
        "        return out\n",
        "\n"
      ],
      "metadata": {
        "id": "wISS80yE9vmk"
      },
      "execution_count": null,
      "outputs": []
    },
    {
      "cell_type": "code",
      "source": [
        "import torch.nn.functional as F\n",
        "def focal_loss(\n",
        "    inputs: torch.Tensor,\n",
        "    targets: torch.Tensor,\n",
        "    alpha: float = 0.7,\n",
        "    gamma: float = 2,\n",
        "    reduction: str = \"mean\",\n",
        ") -> torch.Tensor:\n",
        "    \"\"\"\n",
        "    Args:\n",
        "        inputs: A float tensor of arbitrary shape.\n",
        "                The predictions which have been sigmod for each example.\n",
        "        targets: A float tensor with the same shape as inputs. Stores the binary\n",
        "                 classification label for each element in inputs\n",
        "                (0 for the negative class and 1 for the positive class).\n",
        "        alpha: (optional) Weighting factor in range (0,1) to balance\n",
        "                positive vs negative examples. Default = -1 (no weighting).\n",
        "        gamma: Exponent of the modulating factor (1 - p_t) to\n",
        "               balance easy vs hard examples.\n",
        "        reduction: 'none' | 'mean' | 'sum'\n",
        "                 'none': No reduction will be applied to the output.\n",
        "                 'mean': The output will be averaged.\n",
        "                 'sum': The output will be summed.\n",
        "    Returns:\n",
        "        Loss tensor with the reduction option applied.\n",
        "    \"\"\"\n",
        "    inputs = inputs.float()\n",
        "    targets = targets.float()\n",
        "    p = inputs\n",
        "    ce_loss = F.binary_cross_entropy(inputs, targets, reduction=\"none\")\n",
        "    p_t = p * targets + (1 - p) * (1 - targets)\n",
        "    loss = ce_loss * ((1 - p_t) ** gamma)\n",
        "\n",
        "    if alpha >= 0:\n",
        "        alpha_t = alpha * targets + (1 - alpha) * (1 - targets)\n",
        "        loss = alpha_t * loss\n",
        "\n",
        "    if reduction == \"mean\":\n",
        "        loss = loss.mean()\n",
        "    elif reduction == \"sum\":\n",
        "        loss = loss.sum()\n",
        "\n",
        "    return loss"
      ],
      "metadata": {
        "id": "IZSmkvM-XLU0"
      },
      "execution_count": null,
      "outputs": []
    },
    {
      "cell_type": "code",
      "source": [
        "!pip install thop"
      ],
      "metadata": {
        "colab": {
          "base_uri": "https://localhost:8080/"
        },
        "id": "66oGIjN8lP24",
        "outputId": "f0e2f588-711f-4a50-f429-be5b1748a139"
      },
      "execution_count": null,
      "outputs": [
        {
          "output_type": "stream",
          "name": "stdout",
          "text": [
            "Collecting thop\n",
            "  Downloading thop-0.1.1.post2209072238-py3-none-any.whl (15 kB)\n",
            "Requirement already satisfied: torch in /usr/local/lib/python3.10/dist-packages (from thop) (2.0.1+cu118)\n",
            "Requirement already satisfied: filelock in /usr/local/lib/python3.10/dist-packages (from torch->thop) (3.12.2)\n",
            "Requirement already satisfied: typing-extensions in /usr/local/lib/python3.10/dist-packages (from torch->thop) (4.6.3)\n",
            "Requirement already satisfied: sympy in /usr/local/lib/python3.10/dist-packages (from torch->thop) (1.11.1)\n",
            "Requirement already satisfied: networkx in /usr/local/lib/python3.10/dist-packages (from torch->thop) (3.1)\n",
            "Requirement already satisfied: jinja2 in /usr/local/lib/python3.10/dist-packages (from torch->thop) (3.1.2)\n",
            "Requirement already satisfied: triton==2.0.0 in /usr/local/lib/python3.10/dist-packages (from torch->thop) (2.0.0)\n",
            "Requirement already satisfied: cmake in /usr/local/lib/python3.10/dist-packages (from triton==2.0.0->torch->thop) (3.25.2)\n",
            "Requirement already satisfied: lit in /usr/local/lib/python3.10/dist-packages (from triton==2.0.0->torch->thop) (16.0.6)\n",
            "Requirement already satisfied: MarkupSafe>=2.0 in /usr/local/lib/python3.10/dist-packages (from jinja2->torch->thop) (2.1.3)\n",
            "Requirement already satisfied: mpmath>=0.19 in /usr/local/lib/python3.10/dist-packages (from sympy->torch->thop) (1.3.0)\n",
            "Installing collected packages: thop\n",
            "Successfully installed thop-0.1.1.post2209072238\n"
          ]
        }
      ]
    },
    {
      "cell_type": "code",
      "source": [
        "import pandas as pd\n",
        "import numpy as np\n",
        "import torch\n",
        "from torch.utils.data import DataLoader\n",
        "from torch.optim import AdamW\n",
        "# from model import TextRNN\n",
        "# from data_processor import articleDataset, preprocess, build_vocab, shuffle_dataset\n",
        "import torch.nn as nn\n",
        "import os\n",
        "from sklearn.metrics import accuracy_score, precision_score, recall_score, f1_score, classification_report, roc_auc_score, confusion_matrix\n",
        "from sklearn.model_selection import train_test_split\n",
        "from thop import profile\n",
        "import time\n",
        "\n",
        "device = 'cuda:0' if torch.cuda.is_available() else 'cpu'\n",
        "os.environ['CUDA_LAUNCH_BLOCKING'] = '1'\n",
        "\n",
        "batch_size = 64\n",
        "lr = 3e-5\n",
        "EPOCHS = 100\n",
        "\n",
        "\n",
        "def evaluate(model, dataloader):\n",
        "    model.eval()\n",
        "\n",
        "    pred_tags = []\n",
        "    true_tags = []\n",
        "    probs = []\n",
        "    total_loss = 0.\n",
        "    # loss_fn = nn.CrossEntropyLoss()\n",
        "    loss_fn = focal_loss\n",
        "    with torch.no_grad():\n",
        "        # i = 0\n",
        "        for batch in dataloader:\n",
        "            # print(i)\n",
        "            # i += 1\n",
        "            journal = batch['journal'].to(device)\n",
        "            title = batch['title'].to(device)\n",
        "            abstruct = batch['abstruct'].to(device)\n",
        "            label = batch['label'].to(device)\n",
        "\n",
        "            model.zero_grad()\n",
        "            # logits = model(journal, title, abstruct)\n",
        "            # loss = loss_fn(logits, label)\n",
        "            logits = model(journal, title, abstruct)\n",
        "            label = label.to(device=device, dtype=torch.float64)\n",
        "            loss = loss_fn(logits[:, 1].unsqueeze(1), label)\n",
        "            total_loss += loss.item()\n",
        "\n",
        "            pred = torch.argmax(logits, dim=1).cpu()\n",
        "            prob = logits[:, 1].unsqueeze(1).cpu()\n",
        "            # print(pred.shape)\n",
        "\n",
        "            pred_tags.extend(pred)\n",
        "            probs.extend(prob)\n",
        "            # label = label.to(device=device, dtype=torch.int64)\n",
        "            # print(label.squeeze(1).shape)\n",
        "            true_tags.extend(label.squeeze(1).cpu())\n",
        "            # print(classification_report(true_tags, pred_tags))\n",
        "\n",
        "    # 计算specificity、sensitivity\n",
        "    tn, fp, fn, tp = confusion_matrix(true_tags, pred_tags).ravel()\n",
        "    specificity = tn / (tn + fp)\n",
        "    sensitivity = tp / (tp + fn)\n",
        "\n",
        "    assert len(pred_tags) == len(true_tags)\n",
        "\n",
        "    return {\n",
        "        'loss': total_loss / len(dataloader),\n",
        "        'precision': precision_score(true_tags, pred_tags),\n",
        "        'recall': recall_score(true_tags, pred_tags),\n",
        "        'f1': f1_score(true_tags, pred_tags),\n",
        "        'accuracy': accuracy_score(true_tags, pred_tags),\n",
        "        'classification_report': classification_report(true_tags, pred_tags, digits=4),\n",
        "        'auc': roc_auc_score(true_tags, probs),\n",
        "        'specificity': specificity,\n",
        "        'sensitivity': sensitivity\n",
        "    }\n",
        "\n",
        "\n",
        "def main():\n",
        "    # 建立词汇表\n",
        "    text_list = preprocess('/content/drive/MyDrive/neckpain_data/新样本.xlsx')\n",
        "    token2id, id2token = build_vocab(text_list)\n",
        "\n",
        "    # 建立训练集、测试集\n",
        "    df = pd.read_excel('/content/drive/MyDrive/neckpain_data/新样本.xlsx')\n",
        "    # df.replace(np.nan, '[PAD]', inplace=True)\n",
        "    df_0 = df.loc[df['正样本'] == 0]\n",
        "    df_1 = df.loc[df['正样本'] == 1]\n",
        "    title_0 = df_0['标题'].values\n",
        "    title_1 = df_1['标题'].values\n",
        "    abstruct_0 = df_0['摘要']\n",
        "    abstruct_1 = df_1['摘要']\n",
        "    abstruct_0.replace(np.nan, '[PAD]', inplace=True)\n",
        "    abstruct_1.replace(np.nan, '[PAD]', inplace=True)\n",
        "    abstruct_0 = abstruct_0.values\n",
        "    abstruct_1 = abstruct_1.values\n",
        "    df_0.replace(np.nan, 0, inplace=True)\n",
        "    df_1.replace(np.nan, 0, inplace=True)\n",
        "\n",
        "    X_0 = df_0.drop(columns=['标题', '摘要', '正样本', '关键词', '期刊', '期刊简称', 'ID', 'academy_sciences']).values\n",
        "    X_1 = df_1.drop(columns=['标题', '摘要', '正样本', '关键词', '期刊', '期刊简称', 'ID', 'academy_sciences']).values\n",
        "    Y_0 = df_0['正样本'].values\n",
        "    Y_1 = df_1['正样本'].values\n",
        "\n",
        "    rs = np.random.RandomState(42)\n",
        "    L = list(rs.randint(0, len(X_0), int(7 / 3 * len(X_1))))\n",
        "    X_0 = X_0[L]\n",
        "    Y_0 = Y_0[L]\n",
        "    title_0 = title_0[L]\n",
        "    abstruct_0 = abstruct_0[L]\n",
        "\n",
        "    journal_train_X_0, journal_test_X_0, train_Y_0, test_Y_0 = train_test_split(X_0, Y_0, train_size=0.80, random_state=42)\n",
        "    journal_train_X_1, journal_test_X_1, train_Y_1, test_Y_1 = train_test_split(X_1, Y_1, train_size=0.80, random_state=42)\n",
        "    title_train_X_0, title_test_X_0, _, _ = train_test_split(title_0, Y_0, train_size=0.80, random_state=42)\n",
        "    title_train_X_1, title_test_X_1, _, _ = train_test_split(title_1, Y_1, train_size=0.80, random_state=42)\n",
        "    abstruct_train_X_0, abstruct_test_X_0, _, _ = train_test_split(abstruct_0, Y_0, train_size=0.80, random_state=42)\n",
        "    abstruct_train_X_1, abstruct_test_X_1, _, _ = train_test_split(abstruct_1, Y_1, train_size=0.80, random_state=42)\n",
        "\n",
        "    # print(title_train_X_1)\n",
        "\n",
        "    title_train_X_1 = [[token2id[i] for i in text.split(' ')] for text in title_train_X_1]\n",
        "    title_train_X_0 = [[token2id[i] for i in text.split(' ')] for text in title_train_X_0]\n",
        "    abstruct_train_X_1 = [[token2id[i] for i in text.split(' ')] for text in abstruct_train_X_1]\n",
        "    abstruct_train_X_0 = [[token2id[i] for i in text.split(' ')] for text in abstruct_train_X_0]\n",
        "\n",
        "    title_test_X_1 = [[token2id[i] for i in text.split(' ')] for text in title_test_X_1]\n",
        "    title_test_X_0 = [[token2id[i] for i in text.split(' ')] for text in title_test_X_0]\n",
        "    abstruct_test_X_1 = [[token2id[i] for i in text.split(' ')] for text in abstruct_test_X_1]\n",
        "    abstruct_test_X_0 = [[token2id[i] for i in text.split(' ')] for text in abstruct_test_X_0]\n",
        "\n",
        "    train_journal = torch.from_numpy(np.vstack((journal_train_X_1.astype(float), journal_train_X_0.astype(float)))).to(device)\n",
        "    # train_journal = np.vstack((journal_train_X_1, journal_train_X_0))\n",
        "    train_title = title_train_X_1 + title_train_X_0\n",
        "    train_abstruct = abstruct_train_X_1 + abstruct_train_X_0\n",
        "    train_Y = torch.from_numpy(np.vstack((train_Y_1.reshape(len(train_Y_1), 1), train_Y_0.reshape(len(train_Y_0), 1)))).to(device)\n",
        "    # train_Y = np.vstack((train_Y_1.reshape(len(train_Y_1), 1), train_Y_0.reshape(len(train_Y_0), 1)))\n",
        "    train_journal, train_title, train_abstruct, train_Y = shuffle_dataset(train_journal, train_title, train_abstruct, train_Y)\n",
        "\n",
        "    test_journal = torch.from_numpy(np.vstack((journal_test_X_1.astype(float), journal_test_X_0.astype(float)))).to(device)\n",
        "    # test_journal = np.vstack((journal_test_X_1, journal_test_X_0))\n",
        "    test_title = title_test_X_1 + title_test_X_0\n",
        "    test_abstruct = abstruct_test_X_1 + abstruct_test_X_0\n",
        "    test_Y = torch.from_numpy(np.vstack((test_Y_1.reshape(len(test_Y_1), 1), test_Y_0.reshape(len(test_Y_0), 1)))).to(device)\n",
        "    # test_Y = np.vstack((test_Y_1.reshape(len(test_Y_1), 1), test_Y_0.reshape(len(test_Y_0), 1)))\n",
        "    test_journal, test_title, test_abstruct, test_Y = shuffle_dataset(test_journal, test_title, test_abstruct, test_Y)\n",
        "\n",
        "\n",
        "\n",
        "    train_dataset = articleDataset(train_journal, train_title, train_abstruct, train_Y, token2id)\n",
        "    train_dataloader = DataLoader(train_dataset, batch_size=batch_size, shuffle=True)\n",
        "    val_dataset = articleDataset(test_journal, test_title, test_abstruct, test_Y, token2id)\n",
        "    val_dataloader = DataLoader(val_dataset, batch_size=batch_size)\n",
        "\n",
        "    model = BiLSTM_Atten(vocab_size=len(token2id)).to(device)\n",
        "    # for param in model.parameters():\n",
        "    #   param = 0\n",
        "\n",
        "    optimizer = AdamW(model.parameters(), lr=lr)\n",
        "    # loss_fn = nn.CrossEntropyLoss()\n",
        "    loss_fn = focal_loss\n",
        "\n",
        "    for epoch in range(EPOCHS):\n",
        "        model.train()\n",
        "        start_time = time.time()\n",
        "        for step, batch in enumerate(train_dataloader):\n",
        "            journal = batch['journal'].to(device)\n",
        "            title = batch['title'].to(device)\n",
        "            abstruct = batch['abstruct'].to(device)\n",
        "            label = batch['label'].to(device)\n",
        "\n",
        "            model.zero_grad()\n",
        "\n",
        "            logits = model(journal, title, abstruct)\n",
        "            # print(logits[:, 1].unsqueeze(1))\n",
        "            # print(label)\n",
        "            label = label.to(device=device, dtype=torch.float64)\n",
        "            loss = loss_fn(logits[:, 1].unsqueeze(1), label)/batch_size\n",
        "            # print(loss.item())\n",
        "\n",
        "            loss.backward()\n",
        "            optimizer.step()\n",
        "\n",
        "            if step % (len(train_dataloader) // 9) == 0:\n",
        "                print(\"epoch: {} step: {}/{}\".format(epoch, step, len(train_dataloader)))\n",
        "\n",
        "        end_time = time.time()\n",
        "\n",
        "        # 计算每秒钟的训练样本数（即MLOPS）\n",
        "        num_samples = len(train_dataset)\n",
        "        training_time = end_time - start_time\n",
        "        samples_per_second = num_samples / training_time\n",
        "\n",
        "        torch.save(model.state_dict(), '/content/drive/MyDrive/neckpain_model/model_last.pt')\n",
        "\n",
        "        train_metrics = evaluate(model, train_dataloader)\n",
        "        print(\"test\")\n",
        "        print(\"epoch: {} train_loss: {} train_acc: {:.2f}% train_f1: {:.2f}%\".format(epoch,\n",
        "                                                                                     train_metrics['loss'],\n",
        "                                                                                     train_metrics['accuracy'] * 100,\n",
        "                                                                                     train_metrics['f1'] * 100))\n",
        "        # print(train_metrics['classification_report'])\n",
        "        val_metrics = evaluate(model, val_dataloader)\n",
        "        print(\"          val_loss: {} val_acc {:.2f}% val_f1: {:.2f}%\".format(val_metrics['loss'],\n",
        "                                                                               val_metrics['accuracy'] * 100,\n",
        "                                                                               val_metrics['f1'] * 100))\n",
        "        print('BiLSTM_Atten AUC = ', val_metrics['auc'])\n",
        "        print('Specificity = ', val_metrics['specificity'])\n",
        "        print('Sensitivity = ', val_metrics['sensitivity'])\n",
        "        # 输出模型信息\n",
        "        flops, params = profile(model, inputs=(journal, title, abstruct))\n",
        "        print(\"Flops: {:.2f}\".format(flops))\n",
        "        print(\"MLOPS: {:.2f}\".format(samples_per_second))\n",
        "        print(val_metrics['classification_report'])\n",
        "        # eval(model, test_journal, test_title, test_abstruct, test_Y, token2id)\n",
        "\n",
        "\n",
        "if __name__ == '__main__':\n",
        "    if not os.path.exists('/content/drive/MyDrive/neckpain_model'):\n",
        "        os.mkdir('/content/drive/MyDrive/neckpain_model')\n",
        "\n",
        "    main()\n"
      ],
      "metadata": {
        "id": "LhQbgSZJ9ye7",
        "colab": {
          "base_uri": "https://localhost:8080/"
        },
        "outputId": "3c464c42-bec1-45a3-b3a7-1f0d0ec0fe77"
      },
      "execution_count": null,
      "outputs": [
        {
          "output_type": "stream",
          "name": "stderr",
          "text": [
            "<ipython-input-7-940f0a9f3f5b>:95: SettingWithCopyWarning: \n",
            "A value is trying to be set on a copy of a slice from a DataFrame\n",
            "\n",
            "See the caveats in the documentation: https://pandas.pydata.org/pandas-docs/stable/user_guide/indexing.html#returning-a-view-versus-a-copy\n",
            "  abstruct_0.replace(np.nan, '[PAD]', inplace=True)\n",
            "<ipython-input-7-940f0a9f3f5b>:96: SettingWithCopyWarning: \n",
            "A value is trying to be set on a copy of a slice from a DataFrame\n",
            "\n",
            "See the caveats in the documentation: https://pandas.pydata.org/pandas-docs/stable/user_guide/indexing.html#returning-a-view-versus-a-copy\n",
            "  abstruct_1.replace(np.nan, '[PAD]', inplace=True)\n",
            "<ipython-input-7-940f0a9f3f5b>:99: SettingWithCopyWarning: \n",
            "A value is trying to be set on a copy of a slice from a DataFrame\n",
            "\n",
            "See the caveats in the documentation: https://pandas.pydata.org/pandas-docs/stable/user_guide/indexing.html#returning-a-view-versus-a-copy\n",
            "  df_0.replace(np.nan, 0, inplace=True)\n",
            "<ipython-input-7-940f0a9f3f5b>:100: SettingWithCopyWarning: \n",
            "A value is trying to be set on a copy of a slice from a DataFrame\n",
            "\n",
            "See the caveats in the documentation: https://pandas.pydata.org/pandas-docs/stable/user_guide/indexing.html#returning-a-view-versus-a-copy\n",
            "  df_1.replace(np.nan, 0, inplace=True)\n",
            "<ipython-input-2-f0d979b1a134>:54: VisibleDeprecationWarning: Creating an ndarray from ragged nested sequences (which is a list-or-tuple of lists-or-tuples-or ndarrays with different lengths or shapes) is deprecated. If you meant to do this, you must specify 'dtype=object' when creating the ndarray.\n",
            "  return journal[index], np.array(title)[index], np.array(abstruct)[index], label[index]\n",
            "<ipython-input-2-f0d979b1a134>:44: UserWarning: To copy construct from a tensor, it is recommended to use sourceTensor.clone().detach() or sourceTensor.clone().detach().requires_grad_(True), rather than torch.tensor(sourceTensor).\n",
            "  'label': torch.tensor(self.label_list[item])\n"
          ]
        },
        {
          "output_type": "stream",
          "name": "stdout",
          "text": [
            "epoch: 0 step: 0/42\n",
            "epoch: 0 step: 4/42\n",
            "epoch: 0 step: 8/42\n",
            "epoch: 0 step: 12/42\n",
            "epoch: 0 step: 16/42\n",
            "epoch: 0 step: 20/42\n",
            "epoch: 0 step: 24/42\n",
            "epoch: 0 step: 28/42\n",
            "epoch: 0 step: 32/42\n",
            "epoch: 0 step: 36/42\n",
            "epoch: 0 step: 40/42\n"
          ]
        },
        {
          "output_type": "stream",
          "name": "stderr",
          "text": [
            "/usr/local/lib/python3.10/dist-packages/sklearn/utils/_array_api.py:185: FutureWarning: The input object of type 'Tensor' is an array-like implementing one of the corresponding protocols (`__array__`, `__array_interface__` or `__array_struct__`); but not a sequence (or 0-D). In the future, this object will be coerced as if it was first converted using `np.array(obj)`. To retain the old behaviour, you have to either modify the type 'Tensor', or assign to an empty array created with `np.empty(correct_shape, dtype=object)`.\n",
            "  array = numpy.asarray(array, order=order, dtype=dtype)\n",
            "/usr/local/lib/python3.10/dist-packages/sklearn/utils/_array_api.py:185: VisibleDeprecationWarning: Creating an ndarray from ragged nested sequences (which is a list-or-tuple of lists-or-tuples-or ndarrays with different lengths or shapes) is deprecated. If you meant to do this, you must specify 'dtype=object' when creating the ndarray.\n",
            "  array = numpy.asarray(array, order=order, dtype=dtype)\n",
            "<ipython-input-2-f0d979b1a134>:44: UserWarning: To copy construct from a tensor, it is recommended to use sourceTensor.clone().detach() or sourceTensor.clone().detach().requires_grad_(True), rather than torch.tensor(sourceTensor).\n",
            "  'label': torch.tensor(self.label_list[item])\n"
          ]
        },
        {
          "output_type": "stream",
          "name": "stdout",
          "text": [
            "test\n",
            "epoch: 0 train_loss: 0.08230928384831973 train_acc: 55.71% train_f1: 47.36%\n"
          ]
        },
        {
          "output_type": "stream",
          "name": "stderr",
          "text": [
            "/usr/local/lib/python3.10/dist-packages/sklearn/utils/_array_api.py:185: FutureWarning: The input object of type 'Tensor' is an array-like implementing one of the corresponding protocols (`__array__`, `__array_interface__` or `__array_struct__`); but not a sequence (or 0-D). In the future, this object will be coerced as if it was first converted using `np.array(obj)`. To retain the old behaviour, you have to either modify the type 'Tensor', or assign to an empty array created with `np.empty(correct_shape, dtype=object)`.\n",
            "  array = numpy.asarray(array, order=order, dtype=dtype)\n",
            "/usr/local/lib/python3.10/dist-packages/sklearn/utils/_array_api.py:185: VisibleDeprecationWarning: Creating an ndarray from ragged nested sequences (which is a list-or-tuple of lists-or-tuples-or ndarrays with different lengths or shapes) is deprecated. If you meant to do this, you must specify 'dtype=object' when creating the ndarray.\n",
            "  array = numpy.asarray(array, order=order, dtype=dtype)\n",
            "<ipython-input-2-f0d979b1a134>:44: UserWarning: To copy construct from a tensor, it is recommended to use sourceTensor.clone().detach() or sourceTensor.clone().detach().requires_grad_(True), rather than torch.tensor(sourceTensor).\n",
            "  'label': torch.tensor(self.label_list[item])\n"
          ]
        },
        {
          "output_type": "stream",
          "name": "stdout",
          "text": [
            "          val_loss: 0.07961922951719978 val_acc 55.82% val_f1: 47.33%\n",
            "BiLSTM_Atten AUC =  0.6302708207364034\n",
            "Specificity =  0.5138592750533049\n",
            "Sensitivity =  0.6616915422885572\n",
            "[INFO] Register count_lstm() for <class 'torch.nn.modules.rnn.LSTM'>.\n",
            "[INFO] Register count_linear() for <class 'torch.nn.modules.linear.Linear'>.\n",
            "[INFO] Register zero_ops() for <class 'torch.nn.modules.activation.ReLU'>.\n",
            "[INFO] Register zero_ops() for <class 'torch.nn.modules.container.Sequential'>.\n",
            "[INFO] Register zero_ops() for <class 'torch.nn.modules.dropout.Dropout'>.\n",
            "Flops: 80358815488.00\n",
            "MLOPS: 189.60\n",
            "              precision    recall  f1-score   support\n",
            "\n",
            "         0.0     0.7799    0.5139    0.6195       469\n",
            "         1.0     0.3684    0.6617    0.4733       201\n",
            "\n",
            "    accuracy                         0.5582       670\n",
            "   macro avg     0.5742    0.5878    0.5464       670\n",
            "weighted avg     0.6565    0.5582    0.5757       670\n",
            "\n",
            "epoch: 1 step: 0/42\n",
            "epoch: 1 step: 4/42\n",
            "epoch: 1 step: 8/42\n",
            "epoch: 1 step: 12/42\n",
            "epoch: 1 step: 16/42\n",
            "epoch: 1 step: 20/42\n",
            "epoch: 1 step: 24/42\n",
            "epoch: 1 step: 28/42\n",
            "epoch: 1 step: 32/42\n",
            "epoch: 1 step: 36/42\n",
            "epoch: 1 step: 40/42\n"
          ]
        },
        {
          "output_type": "stream",
          "name": "stderr",
          "text": [
            "/usr/local/lib/python3.10/dist-packages/sklearn/utils/_array_api.py:185: FutureWarning: The input object of type 'Tensor' is an array-like implementing one of the corresponding protocols (`__array__`, `__array_interface__` or `__array_struct__`); but not a sequence (or 0-D). In the future, this object will be coerced as if it was first converted using `np.array(obj)`. To retain the old behaviour, you have to either modify the type 'Tensor', or assign to an empty array created with `np.empty(correct_shape, dtype=object)`.\n",
            "  array = numpy.asarray(array, order=order, dtype=dtype)\n",
            "/usr/local/lib/python3.10/dist-packages/sklearn/utils/_array_api.py:185: VisibleDeprecationWarning: Creating an ndarray from ragged nested sequences (which is a list-or-tuple of lists-or-tuples-or ndarrays with different lengths or shapes) is deprecated. If you meant to do this, you must specify 'dtype=object' when creating the ndarray.\n",
            "  array = numpy.asarray(array, order=order, dtype=dtype)\n"
          ]
        },
        {
          "output_type": "stream",
          "name": "stdout",
          "text": [
            "test\n",
            "epoch: 1 train_loss: 0.07942989344398181 train_acc: 51.98% train_f1: 48.99%\n"
          ]
        },
        {
          "output_type": "stream",
          "name": "stderr",
          "text": [
            "<ipython-input-2-f0d979b1a134>:44: UserWarning: To copy construct from a tensor, it is recommended to use sourceTensor.clone().detach() or sourceTensor.clone().detach().requires_grad_(True), rather than torch.tensor(sourceTensor).\n",
            "  'label': torch.tensor(self.label_list[item])\n",
            "/usr/local/lib/python3.10/dist-packages/sklearn/utils/_array_api.py:185: FutureWarning: The input object of type 'Tensor' is an array-like implementing one of the corresponding protocols (`__array__`, `__array_interface__` or `__array_struct__`); but not a sequence (or 0-D). In the future, this object will be coerced as if it was first converted using `np.array(obj)`. To retain the old behaviour, you have to either modify the type 'Tensor', or assign to an empty array created with `np.empty(correct_shape, dtype=object)`.\n",
            "  array = numpy.asarray(array, order=order, dtype=dtype)\n",
            "/usr/local/lib/python3.10/dist-packages/sklearn/utils/_array_api.py:185: VisibleDeprecationWarning: Creating an ndarray from ragged nested sequences (which is a list-or-tuple of lists-or-tuples-or ndarrays with different lengths or shapes) is deprecated. If you meant to do this, you must specify 'dtype=object' when creating the ndarray.\n",
            "  array = numpy.asarray(array, order=order, dtype=dtype)\n"
          ]
        },
        {
          "output_type": "stream",
          "name": "stdout",
          "text": [
            "          val_loss: 0.07664236290888353 val_acc 52.39% val_f1: 49.92%\n",
            "BiLSTM_Atten AUC =  0.6743043842620586\n",
            "Specificity =  0.4093816631130064\n",
            "Sensitivity =  0.7910447761194029\n",
            "[INFO] Register count_lstm() for <class 'torch.nn.modules.rnn.LSTM'>.\n",
            "[INFO] Register count_linear() for <class 'torch.nn.modules.linear.Linear'>.\n",
            "[INFO] Register zero_ops() for <class 'torch.nn.modules.activation.ReLU'>.\n",
            "[INFO] Register zero_ops() for <class 'torch.nn.modules.container.Sequential'>.\n",
            "[INFO] Register zero_ops() for <class 'torch.nn.modules.dropout.Dropout'>.\n",
            "Flops: 80358815488.00\n",
            "MLOPS: 187.50\n",
            "              precision    recall  f1-score   support\n",
            "\n",
            "         0.0     0.8205    0.4094    0.5462       469\n",
            "         1.0     0.3647    0.7910    0.4992       201\n",
            "\n",
            "    accuracy                         0.5239       670\n",
            "   macro avg     0.5926    0.6002    0.5227       670\n",
            "weighted avg     0.6838    0.5239    0.5321       670\n",
            "\n"
          ]
        },
        {
          "output_type": "stream",
          "name": "stderr",
          "text": [
            "<ipython-input-2-f0d979b1a134>:44: UserWarning: To copy construct from a tensor, it is recommended to use sourceTensor.clone().detach() or sourceTensor.clone().detach().requires_grad_(True), rather than torch.tensor(sourceTensor).\n",
            "  'label': torch.tensor(self.label_list[item])\n"
          ]
        },
        {
          "output_type": "stream",
          "name": "stdout",
          "text": [
            "epoch: 2 step: 0/42\n",
            "epoch: 2 step: 4/42\n",
            "epoch: 2 step: 8/42\n",
            "epoch: 2 step: 12/42\n",
            "epoch: 2 step: 16/42\n",
            "epoch: 2 step: 20/42\n",
            "epoch: 2 step: 24/42\n",
            "epoch: 2 step: 28/42\n",
            "epoch: 2 step: 32/42\n",
            "epoch: 2 step: 36/42\n",
            "epoch: 2 step: 40/42\n"
          ]
        },
        {
          "output_type": "stream",
          "name": "stderr",
          "text": [
            "/usr/local/lib/python3.10/dist-packages/sklearn/utils/_array_api.py:185: FutureWarning: The input object of type 'Tensor' is an array-like implementing one of the corresponding protocols (`__array__`, `__array_interface__` or `__array_struct__`); but not a sequence (or 0-D). In the future, this object will be coerced as if it was first converted using `np.array(obj)`. To retain the old behaviour, you have to either modify the type 'Tensor', or assign to an empty array created with `np.empty(correct_shape, dtype=object)`.\n",
            "  array = numpy.asarray(array, order=order, dtype=dtype)\n",
            "/usr/local/lib/python3.10/dist-packages/sklearn/utils/_array_api.py:185: VisibleDeprecationWarning: Creating an ndarray from ragged nested sequences (which is a list-or-tuple of lists-or-tuples-or ndarrays with different lengths or shapes) is deprecated. If you meant to do this, you must specify 'dtype=object' when creating the ndarray.\n",
            "  array = numpy.asarray(array, order=order, dtype=dtype)\n",
            "<ipython-input-2-f0d979b1a134>:44: UserWarning: To copy construct from a tensor, it is recommended to use sourceTensor.clone().detach() or sourceTensor.clone().detach().requires_grad_(True), rather than torch.tensor(sourceTensor).\n",
            "  'label': torch.tensor(self.label_list[item])\n"
          ]
        },
        {
          "output_type": "stream",
          "name": "stdout",
          "text": [
            "test\n",
            "epoch: 2 train_loss: 0.07703994995071775 train_acc: 61.42% train_f1: 51.73%\n"
          ]
        },
        {
          "output_type": "stream",
          "name": "stderr",
          "text": [
            "/usr/local/lib/python3.10/dist-packages/sklearn/utils/_array_api.py:185: FutureWarning: The input object of type 'Tensor' is an array-like implementing one of the corresponding protocols (`__array__`, `__array_interface__` or `__array_struct__`); but not a sequence (or 0-D). In the future, this object will be coerced as if it was first converted using `np.array(obj)`. To retain the old behaviour, you have to either modify the type 'Tensor', or assign to an empty array created with `np.empty(correct_shape, dtype=object)`.\n",
            "  array = numpy.asarray(array, order=order, dtype=dtype)\n",
            "/usr/local/lib/python3.10/dist-packages/sklearn/utils/_array_api.py:185: VisibleDeprecationWarning: Creating an ndarray from ragged nested sequences (which is a list-or-tuple of lists-or-tuples-or ndarrays with different lengths or shapes) is deprecated. If you meant to do this, you must specify 'dtype=object' when creating the ndarray.\n",
            "  array = numpy.asarray(array, order=order, dtype=dtype)\n",
            "<ipython-input-2-f0d979b1a134>:44: UserWarning: To copy construct from a tensor, it is recommended to use sourceTensor.clone().detach() or sourceTensor.clone().detach().requires_grad_(True), rather than torch.tensor(sourceTensor).\n",
            "  'label': torch.tensor(self.label_list[item])\n"
          ]
        },
        {
          "output_type": "stream",
          "name": "stdout",
          "text": [
            "          val_loss: 0.07467650215734135 val_acc 60.60% val_f1: 50.93%\n",
            "BiLSTM_Atten AUC =  0.6929531447241404\n",
            "Specificity =  0.5735607675906184\n",
            "Sensitivity =  0.681592039800995\n",
            "[INFO] Register count_lstm() for <class 'torch.nn.modules.rnn.LSTM'>.\n",
            "[INFO] Register count_linear() for <class 'torch.nn.modules.linear.Linear'>.\n",
            "[INFO] Register zero_ops() for <class 'torch.nn.modules.activation.ReLU'>.\n",
            "[INFO] Register zero_ops() for <class 'torch.nn.modules.container.Sequential'>.\n",
            "[INFO] Register zero_ops() for <class 'torch.nn.modules.dropout.Dropout'>.\n",
            "Flops: 80358815488.00\n",
            "MLOPS: 188.47\n",
            "              precision    recall  f1-score   support\n",
            "\n",
            "         0.0     0.8078    0.5736    0.6708       469\n",
            "         1.0     0.4065    0.6816    0.5093       201\n",
            "\n",
            "    accuracy                         0.6060       670\n",
            "   macro avg     0.6072    0.6276    0.5901       670\n",
            "weighted avg     0.6874    0.6060    0.6224       670\n",
            "\n",
            "epoch: 3 step: 0/42\n",
            "epoch: 3 step: 4/42\n",
            "epoch: 3 step: 8/42\n",
            "epoch: 3 step: 12/42\n",
            "epoch: 3 step: 16/42\n",
            "epoch: 3 step: 20/42\n",
            "epoch: 3 step: 24/42\n",
            "epoch: 3 step: 28/42\n",
            "epoch: 3 step: 32/42\n",
            "epoch: 3 step: 36/42\n",
            "epoch: 3 step: 40/42\n"
          ]
        },
        {
          "output_type": "stream",
          "name": "stderr",
          "text": [
            "/usr/local/lib/python3.10/dist-packages/sklearn/utils/_array_api.py:185: FutureWarning: The input object of type 'Tensor' is an array-like implementing one of the corresponding protocols (`__array__`, `__array_interface__` or `__array_struct__`); but not a sequence (or 0-D). In the future, this object will be coerced as if it was first converted using `np.array(obj)`. To retain the old behaviour, you have to either modify the type 'Tensor', or assign to an empty array created with `np.empty(correct_shape, dtype=object)`.\n",
            "  array = numpy.asarray(array, order=order, dtype=dtype)\n",
            "/usr/local/lib/python3.10/dist-packages/sklearn/utils/_array_api.py:185: VisibleDeprecationWarning: Creating an ndarray from ragged nested sequences (which is a list-or-tuple of lists-or-tuples-or ndarrays with different lengths or shapes) is deprecated. If you meant to do this, you must specify 'dtype=object' when creating the ndarray.\n",
            "  array = numpy.asarray(array, order=order, dtype=dtype)\n",
            "<ipython-input-2-f0d979b1a134>:44: UserWarning: To copy construct from a tensor, it is recommended to use sourceTensor.clone().detach() or sourceTensor.clone().detach().requires_grad_(True), rather than torch.tensor(sourceTensor).\n",
            "  'label': torch.tensor(self.label_list[item])\n"
          ]
        },
        {
          "output_type": "stream",
          "name": "stdout",
          "text": [
            "test\n",
            "epoch: 3 train_loss: 0.07463420492907365 train_acc: 63.47% train_f1: 52.82%\n"
          ]
        },
        {
          "output_type": "stream",
          "name": "stderr",
          "text": [
            "/usr/local/lib/python3.10/dist-packages/sklearn/utils/_array_api.py:185: FutureWarning: The input object of type 'Tensor' is an array-like implementing one of the corresponding protocols (`__array__`, `__array_interface__` or `__array_struct__`); but not a sequence (or 0-D). In the future, this object will be coerced as if it was first converted using `np.array(obj)`. To retain the old behaviour, you have to either modify the type 'Tensor', or assign to an empty array created with `np.empty(correct_shape, dtype=object)`.\n",
            "  array = numpy.asarray(array, order=order, dtype=dtype)\n",
            "/usr/local/lib/python3.10/dist-packages/sklearn/utils/_array_api.py:185: VisibleDeprecationWarning: Creating an ndarray from ragged nested sequences (which is a list-or-tuple of lists-or-tuples-or ndarrays with different lengths or shapes) is deprecated. If you meant to do this, you must specify 'dtype=object' when creating the ndarray.\n",
            "  array = numpy.asarray(array, order=order, dtype=dtype)\n"
          ]
        },
        {
          "output_type": "stream",
          "name": "stdout",
          "text": [
            "          val_loss: 0.0724326717582616 val_acc 62.24% val_f1: 51.99%\n",
            "BiLSTM_Atten AUC =  0.7091726866732435\n",
            "Specificity =  0.5970149253731343\n",
            "Sensitivity =  0.681592039800995\n",
            "[INFO] Register count_lstm() for <class 'torch.nn.modules.rnn.LSTM'>.\n",
            "[INFO] Register count_linear() for <class 'torch.nn.modules.linear.Linear'>.\n",
            "[INFO] Register zero_ops() for <class 'torch.nn.modules.activation.ReLU'>.\n",
            "[INFO] Register zero_ops() for <class 'torch.nn.modules.container.Sequential'>.\n",
            "[INFO] Register zero_ops() for <class 'torch.nn.modules.dropout.Dropout'>.\n",
            "Flops: 80358815488.00\n",
            "MLOPS: 186.35\n",
            "              precision    recall  f1-score   support\n",
            "\n",
            "         0.0     0.8140    0.5970    0.6888       469\n",
            "         1.0     0.4202    0.6816    0.5199       201\n",
            "\n",
            "    accuracy                         0.6224       670\n",
            "   macro avg     0.6171    0.6393    0.6044       670\n",
            "weighted avg     0.6958    0.6224    0.6381       670\n",
            "\n"
          ]
        },
        {
          "output_type": "stream",
          "name": "stderr",
          "text": [
            "<ipython-input-2-f0d979b1a134>:44: UserWarning: To copy construct from a tensor, it is recommended to use sourceTensor.clone().detach() or sourceTensor.clone().detach().requires_grad_(True), rather than torch.tensor(sourceTensor).\n",
            "  'label': torch.tensor(self.label_list[item])\n"
          ]
        },
        {
          "output_type": "stream",
          "name": "stdout",
          "text": [
            "epoch: 4 step: 0/42\n",
            "epoch: 4 step: 4/42\n",
            "epoch: 4 step: 8/42\n",
            "epoch: 4 step: 12/42\n",
            "epoch: 4 step: 16/42\n",
            "epoch: 4 step: 20/42\n",
            "epoch: 4 step: 24/42\n",
            "epoch: 4 step: 28/42\n",
            "epoch: 4 step: 32/42\n",
            "epoch: 4 step: 36/42\n",
            "epoch: 4 step: 40/42\n"
          ]
        },
        {
          "output_type": "stream",
          "name": "stderr",
          "text": [
            "/usr/local/lib/python3.10/dist-packages/sklearn/utils/_array_api.py:185: FutureWarning: The input object of type 'Tensor' is an array-like implementing one of the corresponding protocols (`__array__`, `__array_interface__` or `__array_struct__`); but not a sequence (or 0-D). In the future, this object will be coerced as if it was first converted using `np.array(obj)`. To retain the old behaviour, you have to either modify the type 'Tensor', or assign to an empty array created with `np.empty(correct_shape, dtype=object)`.\n",
            "  array = numpy.asarray(array, order=order, dtype=dtype)\n",
            "/usr/local/lib/python3.10/dist-packages/sklearn/utils/_array_api.py:185: VisibleDeprecationWarning: Creating an ndarray from ragged nested sequences (which is a list-or-tuple of lists-or-tuples-or ndarrays with different lengths or shapes) is deprecated. If you meant to do this, you must specify 'dtype=object' when creating the ndarray.\n",
            "  array = numpy.asarray(array, order=order, dtype=dtype)\n",
            "<ipython-input-2-f0d979b1a134>:44: UserWarning: To copy construct from a tensor, it is recommended to use sourceTensor.clone().detach() or sourceTensor.clone().detach().requires_grad_(True), rather than torch.tensor(sourceTensor).\n",
            "  'label': torch.tensor(self.label_list[item])\n"
          ]
        },
        {
          "output_type": "stream",
          "name": "stdout",
          "text": [
            "test\n",
            "epoch: 4 train_loss: 0.0720934442998398 train_acc: 66.08% train_f1: 54.11%\n"
          ]
        },
        {
          "output_type": "stream",
          "name": "stderr",
          "text": [
            "/usr/local/lib/python3.10/dist-packages/sklearn/utils/_array_api.py:185: FutureWarning: The input object of type 'Tensor' is an array-like implementing one of the corresponding protocols (`__array__`, `__array_interface__` or `__array_struct__`); but not a sequence (or 0-D). In the future, this object will be coerced as if it was first converted using `np.array(obj)`. To retain the old behaviour, you have to either modify the type 'Tensor', or assign to an empty array created with `np.empty(correct_shape, dtype=object)`.\n",
            "  array = numpy.asarray(array, order=order, dtype=dtype)\n",
            "/usr/local/lib/python3.10/dist-packages/sklearn/utils/_array_api.py:185: VisibleDeprecationWarning: Creating an ndarray from ragged nested sequences (which is a list-or-tuple of lists-or-tuples-or ndarrays with different lengths or shapes) is deprecated. If you meant to do this, you must specify 'dtype=object' when creating the ndarray.\n",
            "  array = numpy.asarray(array, order=order, dtype=dtype)\n",
            "<ipython-input-2-f0d979b1a134>:44: UserWarning: To copy construct from a tensor, it is recommended to use sourceTensor.clone().detach() or sourceTensor.clone().detach().requires_grad_(True), rather than torch.tensor(sourceTensor).\n",
            "  'label': torch.tensor(self.label_list[item])\n"
          ]
        },
        {
          "output_type": "stream",
          "name": "stdout",
          "text": [
            "          val_loss: 0.0701752369376746 val_acc 65.82% val_f1: 54.83%\n",
            "BiLSTM_Atten AUC =  0.7264318068506084\n",
            "Specificity =  0.6439232409381663\n",
            "Sensitivity =  0.6915422885572139\n",
            "[INFO] Register count_lstm() for <class 'torch.nn.modules.rnn.LSTM'>.\n",
            "[INFO] Register count_linear() for <class 'torch.nn.modules.linear.Linear'>.\n",
            "[INFO] Register zero_ops() for <class 'torch.nn.modules.activation.ReLU'>.\n",
            "[INFO] Register zero_ops() for <class 'torch.nn.modules.container.Sequential'>.\n",
            "[INFO] Register zero_ops() for <class 'torch.nn.modules.dropout.Dropout'>.\n",
            "Flops: 80358815488.00\n",
            "MLOPS: 188.96\n",
            "              precision    recall  f1-score   support\n",
            "\n",
            "         0.0     0.8297    0.6439    0.7251       469\n",
            "         1.0     0.4542    0.6915    0.5483       201\n",
            "\n",
            "    accuracy                         0.6582       670\n",
            "   macro avg     0.6420    0.6677    0.6367       670\n",
            "weighted avg     0.7170    0.6582    0.6721       670\n",
            "\n",
            "epoch: 5 step: 0/42\n",
            "epoch: 5 step: 4/42\n",
            "epoch: 5 step: 8/42\n",
            "epoch: 5 step: 12/42\n",
            "epoch: 5 step: 16/42\n",
            "epoch: 5 step: 20/42\n",
            "epoch: 5 step: 24/42\n",
            "epoch: 5 step: 28/42\n",
            "epoch: 5 step: 32/42\n",
            "epoch: 5 step: 36/42\n",
            "epoch: 5 step: 40/42\n"
          ]
        },
        {
          "output_type": "stream",
          "name": "stderr",
          "text": [
            "/usr/local/lib/python3.10/dist-packages/sklearn/utils/_array_api.py:185: FutureWarning: The input object of type 'Tensor' is an array-like implementing one of the corresponding protocols (`__array__`, `__array_interface__` or `__array_struct__`); but not a sequence (or 0-D). In the future, this object will be coerced as if it was first converted using `np.array(obj)`. To retain the old behaviour, you have to either modify the type 'Tensor', or assign to an empty array created with `np.empty(correct_shape, dtype=object)`.\n",
            "  array = numpy.asarray(array, order=order, dtype=dtype)\n",
            "/usr/local/lib/python3.10/dist-packages/sklearn/utils/_array_api.py:185: VisibleDeprecationWarning: Creating an ndarray from ragged nested sequences (which is a list-or-tuple of lists-or-tuples-or ndarrays with different lengths or shapes) is deprecated. If you meant to do this, you must specify 'dtype=object' when creating the ndarray.\n",
            "  array = numpy.asarray(array, order=order, dtype=dtype)\n"
          ]
        },
        {
          "output_type": "stream",
          "name": "stdout",
          "text": [
            "test\n",
            "epoch: 5 train_loss: 0.06910604779564199 train_acc: 69.81% train_f1: 55.86%\n"
          ]
        },
        {
          "output_type": "stream",
          "name": "stderr",
          "text": [
            "<ipython-input-2-f0d979b1a134>:44: UserWarning: To copy construct from a tensor, it is recommended to use sourceTensor.clone().detach() or sourceTensor.clone().detach().requires_grad_(True), rather than torch.tensor(sourceTensor).\n",
            "  'label': torch.tensor(self.label_list[item])\n",
            "/usr/local/lib/python3.10/dist-packages/sklearn/utils/_array_api.py:185: FutureWarning: The input object of type 'Tensor' is an array-like implementing one of the corresponding protocols (`__array__`, `__array_interface__` or `__array_struct__`); but not a sequence (or 0-D). In the future, this object will be coerced as if it was first converted using `np.array(obj)`. To retain the old behaviour, you have to either modify the type 'Tensor', or assign to an empty array created with `np.empty(correct_shape, dtype=object)`.\n",
            "  array = numpy.asarray(array, order=order, dtype=dtype)\n",
            "/usr/local/lib/python3.10/dist-packages/sklearn/utils/_array_api.py:185: VisibleDeprecationWarning: Creating an ndarray from ragged nested sequences (which is a list-or-tuple of lists-or-tuples-or ndarrays with different lengths or shapes) is deprecated. If you meant to do this, you must specify 'dtype=object' when creating the ndarray.\n",
            "  array = numpy.asarray(array, order=order, dtype=dtype)\n",
            "<ipython-input-2-f0d979b1a134>:44: UserWarning: To copy construct from a tensor, it is recommended to use sourceTensor.clone().detach() or sourceTensor.clone().detach().requires_grad_(True), rather than torch.tensor(sourceTensor).\n",
            "  'label': torch.tensor(self.label_list[item])\n"
          ]
        },
        {
          "output_type": "stream",
          "name": "stdout",
          "text": [
            "          val_loss: 0.06753042204813524 val_acc 71.19% val_f1: 58.32%\n",
            "BiLSTM_Atten AUC =  0.7438606540856484\n",
            "Specificity =  0.7292110874200426\n",
            "Sensitivity =  0.6716417910447762\n",
            "[INFO] Register count_lstm() for <class 'torch.nn.modules.rnn.LSTM'>.\n",
            "[INFO] Register count_linear() for <class 'torch.nn.modules.linear.Linear'>.\n",
            "[INFO] Register zero_ops() for <class 'torch.nn.modules.activation.ReLU'>.\n",
            "[INFO] Register zero_ops() for <class 'torch.nn.modules.container.Sequential'>.\n",
            "[INFO] Register zero_ops() for <class 'torch.nn.modules.dropout.Dropout'>.\n",
            "Flops: 80358815488.00\n",
            "MLOPS: 187.79\n",
            "              precision    recall  f1-score   support\n",
            "\n",
            "         0.0     0.8382    0.7292    0.7799       469\n",
            "         1.0     0.5153    0.6716    0.5832       201\n",
            "\n",
            "    accuracy                         0.7119       670\n",
            "   macro avg     0.6768    0.7004    0.6815       670\n",
            "weighted avg     0.7413    0.7119    0.7209       670\n",
            "\n",
            "epoch: 6 step: 0/42\n",
            "epoch: 6 step: 4/42\n",
            "epoch: 6 step: 8/42\n",
            "epoch: 6 step: 12/42\n",
            "epoch: 6 step: 16/42\n",
            "epoch: 6 step: 20/42\n",
            "epoch: 6 step: 24/42\n",
            "epoch: 6 step: 28/42\n",
            "epoch: 6 step: 32/42\n",
            "epoch: 6 step: 36/42\n",
            "epoch: 6 step: 40/42\n"
          ]
        },
        {
          "output_type": "stream",
          "name": "stderr",
          "text": [
            "/usr/local/lib/python3.10/dist-packages/sklearn/utils/_array_api.py:185: FutureWarning: The input object of type 'Tensor' is an array-like implementing one of the corresponding protocols (`__array__`, `__array_interface__` or `__array_struct__`); but not a sequence (or 0-D). In the future, this object will be coerced as if it was first converted using `np.array(obj)`. To retain the old behaviour, you have to either modify the type 'Tensor', or assign to an empty array created with `np.empty(correct_shape, dtype=object)`.\n",
            "  array = numpy.asarray(array, order=order, dtype=dtype)\n",
            "/usr/local/lib/python3.10/dist-packages/sklearn/utils/_array_api.py:185: VisibleDeprecationWarning: Creating an ndarray from ragged nested sequences (which is a list-or-tuple of lists-or-tuples-or ndarrays with different lengths or shapes) is deprecated. If you meant to do this, you must specify 'dtype=object' when creating the ndarray.\n",
            "  array = numpy.asarray(array, order=order, dtype=dtype)\n"
          ]
        },
        {
          "output_type": "stream",
          "name": "stdout",
          "text": [
            "test\n",
            "epoch: 6 train_loss: 0.06547760803784643 train_acc: 73.54% train_f1: 57.06%\n"
          ]
        },
        {
          "output_type": "stream",
          "name": "stderr",
          "text": [
            "<ipython-input-2-f0d979b1a134>:44: UserWarning: To copy construct from a tensor, it is recommended to use sourceTensor.clone().detach() or sourceTensor.clone().detach().requires_grad_(True), rather than torch.tensor(sourceTensor).\n",
            "  'label': torch.tensor(self.label_list[item])\n",
            "/usr/local/lib/python3.10/dist-packages/sklearn/utils/_array_api.py:185: FutureWarning: The input object of type 'Tensor' is an array-like implementing one of the corresponding protocols (`__array__`, `__array_interface__` or `__array_struct__`); but not a sequence (or 0-D). In the future, this object will be coerced as if it was first converted using `np.array(obj)`. To retain the old behaviour, you have to either modify the type 'Tensor', or assign to an empty array created with `np.empty(correct_shape, dtype=object)`.\n",
            "  array = numpy.asarray(array, order=order, dtype=dtype)\n",
            "/usr/local/lib/python3.10/dist-packages/sklearn/utils/_array_api.py:185: VisibleDeprecationWarning: Creating an ndarray from ragged nested sequences (which is a list-or-tuple of lists-or-tuples-or ndarrays with different lengths or shapes) is deprecated. If you meant to do this, you must specify 'dtype=object' when creating the ndarray.\n",
            "  array = numpy.asarray(array, order=order, dtype=dtype)\n"
          ]
        },
        {
          "output_type": "stream",
          "name": "stdout",
          "text": [
            "          val_loss: 0.06459475545720621 val_acc 74.03% val_f1: 57.97%\n",
            "BiLSTM_Atten AUC =  0.7580328634015423\n",
            "Specificity =  0.8017057569296375\n",
            "Sensitivity =  0.5970149253731343\n",
            "[INFO] Register count_lstm() for <class 'torch.nn.modules.rnn.LSTM'>.\n",
            "[INFO] Register count_linear() for <class 'torch.nn.modules.linear.Linear'>.\n",
            "[INFO] Register zero_ops() for <class 'torch.nn.modules.activation.ReLU'>.\n",
            "[INFO] Register zero_ops() for <class 'torch.nn.modules.container.Sequential'>.\n",
            "[INFO] Register zero_ops() for <class 'torch.nn.modules.dropout.Dropout'>.\n",
            "Flops: 80358815488.00\n",
            "MLOPS: 187.52\n",
            "              precision    recall  f1-score   support\n",
            "\n",
            "         0.0     0.8228    0.8017    0.8121       469\n",
            "         1.0     0.5634    0.5970    0.5797       201\n",
            "\n",
            "    accuracy                         0.7403       670\n",
            "   macro avg     0.6931    0.6994    0.6959       670\n",
            "weighted avg     0.7449    0.7403    0.7424       670\n",
            "\n"
          ]
        },
        {
          "output_type": "stream",
          "name": "stderr",
          "text": [
            "<ipython-input-2-f0d979b1a134>:44: UserWarning: To copy construct from a tensor, it is recommended to use sourceTensor.clone().detach() or sourceTensor.clone().detach().requires_grad_(True), rather than torch.tensor(sourceTensor).\n",
            "  'label': torch.tensor(self.label_list[item])\n"
          ]
        },
        {
          "output_type": "stream",
          "name": "stdout",
          "text": [
            "epoch: 7 step: 0/42\n",
            "epoch: 7 step: 4/42\n",
            "epoch: 7 step: 8/42\n",
            "epoch: 7 step: 12/42\n",
            "epoch: 7 step: 16/42\n",
            "epoch: 7 step: 20/42\n",
            "epoch: 7 step: 24/42\n",
            "epoch: 7 step: 28/42\n",
            "epoch: 7 step: 32/42\n",
            "epoch: 7 step: 36/42\n",
            "epoch: 7 step: 40/42\n"
          ]
        },
        {
          "output_type": "stream",
          "name": "stderr",
          "text": [
            "/usr/local/lib/python3.10/dist-packages/sklearn/utils/_array_api.py:185: FutureWarning: The input object of type 'Tensor' is an array-like implementing one of the corresponding protocols (`__array__`, `__array_interface__` or `__array_struct__`); but not a sequence (or 0-D). In the future, this object will be coerced as if it was first converted using `np.array(obj)`. To retain the old behaviour, you have to either modify the type 'Tensor', or assign to an empty array created with `np.empty(correct_shape, dtype=object)`.\n",
            "  array = numpy.asarray(array, order=order, dtype=dtype)\n",
            "/usr/local/lib/python3.10/dist-packages/sklearn/utils/_array_api.py:185: VisibleDeprecationWarning: Creating an ndarray from ragged nested sequences (which is a list-or-tuple of lists-or-tuples-or ndarrays with different lengths or shapes) is deprecated. If you meant to do this, you must specify 'dtype=object' when creating the ndarray.\n",
            "  array = numpy.asarray(array, order=order, dtype=dtype)\n",
            "<ipython-input-2-f0d979b1a134>:44: UserWarning: To copy construct from a tensor, it is recommended to use sourceTensor.clone().detach() or sourceTensor.clone().detach().requires_grad_(True), rather than torch.tensor(sourceTensor).\n",
            "  'label': torch.tensor(self.label_list[item])\n"
          ]
        },
        {
          "output_type": "stream",
          "name": "stdout",
          "text": [
            "test\n",
            "epoch: 7 train_loss: 0.06091184355318546 train_acc: 75.11% train_f1: 59.65%\n"
          ]
        },
        {
          "output_type": "stream",
          "name": "stderr",
          "text": [
            "/usr/local/lib/python3.10/dist-packages/sklearn/utils/_array_api.py:185: FutureWarning: The input object of type 'Tensor' is an array-like implementing one of the corresponding protocols (`__array__`, `__array_interface__` or `__array_struct__`); but not a sequence (or 0-D). In the future, this object will be coerced as if it was first converted using `np.array(obj)`. To retain the old behaviour, you have to either modify the type 'Tensor', or assign to an empty array created with `np.empty(correct_shape, dtype=object)`.\n",
            "  array = numpy.asarray(array, order=order, dtype=dtype)\n",
            "/usr/local/lib/python3.10/dist-packages/sklearn/utils/_array_api.py:185: VisibleDeprecationWarning: Creating an ndarray from ragged nested sequences (which is a list-or-tuple of lists-or-tuples-or ndarrays with different lengths or shapes) is deprecated. If you meant to do this, you must specify 'dtype=object' when creating the ndarray.\n",
            "  array = numpy.asarray(array, order=order, dtype=dtype)\n",
            "<ipython-input-2-f0d979b1a134>:44: UserWarning: To copy construct from a tensor, it is recommended to use sourceTensor.clone().detach() or sourceTensor.clone().detach().requires_grad_(True), rather than torch.tensor(sourceTensor).\n",
            "  'label': torch.tensor(self.label_list[item])\n"
          ]
        },
        {
          "output_type": "stream",
          "name": "stdout",
          "text": [
            "          val_loss: 0.06147731772877953 val_acc 75.82% val_f1: 59.70%\n",
            "BiLSTM_Atten AUC =  0.7740402465285512\n",
            "Specificity =  0.8272921108742004\n",
            "Sensitivity =  0.5970149253731343\n",
            "[INFO] Register count_lstm() for <class 'torch.nn.modules.rnn.LSTM'>.\n",
            "[INFO] Register count_linear() for <class 'torch.nn.modules.linear.Linear'>.\n",
            "[INFO] Register zero_ops() for <class 'torch.nn.modules.activation.ReLU'>.\n",
            "[INFO] Register zero_ops() for <class 'torch.nn.modules.container.Sequential'>.\n",
            "[INFO] Register zero_ops() for <class 'torch.nn.modules.dropout.Dropout'>.\n",
            "Flops: 80358815488.00\n",
            "MLOPS: 187.00\n",
            "              precision    recall  f1-score   support\n",
            "\n",
            "         0.0     0.8273    0.8273    0.8273       469\n",
            "         1.0     0.5970    0.5970    0.5970       201\n",
            "\n",
            "    accuracy                         0.7582       670\n",
            "   macro avg     0.7122    0.7122    0.7122       670\n",
            "weighted avg     0.7582    0.7582    0.7582       670\n",
            "\n",
            "epoch: 8 step: 0/42\n",
            "epoch: 8 step: 4/42\n",
            "epoch: 8 step: 8/42\n",
            "epoch: 8 step: 12/42\n",
            "epoch: 8 step: 16/42\n",
            "epoch: 8 step: 20/42\n",
            "epoch: 8 step: 24/42\n",
            "epoch: 8 step: 28/42\n",
            "epoch: 8 step: 32/42\n",
            "epoch: 8 step: 36/42\n",
            "epoch: 8 step: 40/42\n"
          ]
        },
        {
          "output_type": "stream",
          "name": "stderr",
          "text": [
            "/usr/local/lib/python3.10/dist-packages/sklearn/utils/_array_api.py:185: FutureWarning: The input object of type 'Tensor' is an array-like implementing one of the corresponding protocols (`__array__`, `__array_interface__` or `__array_struct__`); but not a sequence (or 0-D). In the future, this object will be coerced as if it was first converted using `np.array(obj)`. To retain the old behaviour, you have to either modify the type 'Tensor', or assign to an empty array created with `np.empty(correct_shape, dtype=object)`.\n",
            "  array = numpy.asarray(array, order=order, dtype=dtype)\n",
            "/usr/local/lib/python3.10/dist-packages/sklearn/utils/_array_api.py:185: VisibleDeprecationWarning: Creating an ndarray from ragged nested sequences (which is a list-or-tuple of lists-or-tuples-or ndarrays with different lengths or shapes) is deprecated. If you meant to do this, you must specify 'dtype=object' when creating the ndarray.\n",
            "  array = numpy.asarray(array, order=order, dtype=dtype)\n",
            "<ipython-input-2-f0d979b1a134>:44: UserWarning: To copy construct from a tensor, it is recommended to use sourceTensor.clone().detach() or sourceTensor.clone().detach().requires_grad_(True), rather than torch.tensor(sourceTensor).\n",
            "  'label': torch.tensor(self.label_list[item])\n"
          ]
        },
        {
          "output_type": "stream",
          "name": "stdout",
          "text": [
            "test\n",
            "epoch: 8 train_loss: 0.05745478267116206 train_acc: 75.26% train_f1: 62.14%\n"
          ]
        },
        {
          "output_type": "stream",
          "name": "stderr",
          "text": [
            "/usr/local/lib/python3.10/dist-packages/sklearn/utils/_array_api.py:185: FutureWarning: The input object of type 'Tensor' is an array-like implementing one of the corresponding protocols (`__array__`, `__array_interface__` or `__array_struct__`); but not a sequence (or 0-D). In the future, this object will be coerced as if it was first converted using `np.array(obj)`. To retain the old behaviour, you have to either modify the type 'Tensor', or assign to an empty array created with `np.empty(correct_shape, dtype=object)`.\n",
            "  array = numpy.asarray(array, order=order, dtype=dtype)\n",
            "/usr/local/lib/python3.10/dist-packages/sklearn/utils/_array_api.py:185: VisibleDeprecationWarning: Creating an ndarray from ragged nested sequences (which is a list-or-tuple of lists-or-tuples-or ndarrays with different lengths or shapes) is deprecated. If you meant to do this, you must specify 'dtype=object' when creating the ndarray.\n",
            "  array = numpy.asarray(array, order=order, dtype=dtype)\n",
            "<ipython-input-2-f0d979b1a134>:44: UserWarning: To copy construct from a tensor, it is recommended to use sourceTensor.clone().detach() or sourceTensor.clone().detach().requires_grad_(True), rather than torch.tensor(sourceTensor).\n",
            "  'label': torch.tensor(self.label_list[item])\n"
          ]
        },
        {
          "output_type": "stream",
          "name": "stdout",
          "text": [
            "          val_loss: 0.05958879366517067 val_acc 76.87% val_f1: 63.18%\n",
            "BiLSTM_Atten AUC =  0.7920737464065601\n",
            "Specificity =  0.814498933901919\n",
            "Sensitivity =  0.6616915422885572\n",
            "[INFO] Register count_lstm() for <class 'torch.nn.modules.rnn.LSTM'>.\n",
            "[INFO] Register count_linear() for <class 'torch.nn.modules.linear.Linear'>.\n",
            "[INFO] Register zero_ops() for <class 'torch.nn.modules.activation.ReLU'>.\n",
            "[INFO] Register zero_ops() for <class 'torch.nn.modules.container.Sequential'>.\n",
            "[INFO] Register zero_ops() for <class 'torch.nn.modules.dropout.Dropout'>.\n",
            "Flops: 80358815488.00\n",
            "MLOPS: 184.43\n",
            "              precision    recall  f1-score   support\n",
            "\n",
            "         0.0     0.8489    0.8145    0.8313       469\n",
            "         1.0     0.6045    0.6617    0.6318       201\n",
            "\n",
            "    accuracy                         0.7687       670\n",
            "   macro avg     0.7267    0.7381    0.7316       670\n",
            "weighted avg     0.7756    0.7687    0.7715       670\n",
            "\n",
            "epoch: 9 step: 0/42\n",
            "epoch: 9 step: 4/42\n",
            "epoch: 9 step: 8/42\n",
            "epoch: 9 step: 12/42\n",
            "epoch: 9 step: 16/42\n",
            "epoch: 9 step: 20/42\n",
            "epoch: 9 step: 24/42\n",
            "epoch: 9 step: 28/42\n",
            "epoch: 9 step: 32/42\n",
            "epoch: 9 step: 36/42\n",
            "epoch: 9 step: 40/42\n"
          ]
        },
        {
          "output_type": "stream",
          "name": "stderr",
          "text": [
            "/usr/local/lib/python3.10/dist-packages/sklearn/utils/_array_api.py:185: FutureWarning: The input object of type 'Tensor' is an array-like implementing one of the corresponding protocols (`__array__`, `__array_interface__` or `__array_struct__`); but not a sequence (or 0-D). In the future, this object will be coerced as if it was first converted using `np.array(obj)`. To retain the old behaviour, you have to either modify the type 'Tensor', or assign to an empty array created with `np.empty(correct_shape, dtype=object)`.\n",
            "  array = numpy.asarray(array, order=order, dtype=dtype)\n",
            "/usr/local/lib/python3.10/dist-packages/sklearn/utils/_array_api.py:185: VisibleDeprecationWarning: Creating an ndarray from ragged nested sequences (which is a list-or-tuple of lists-or-tuples-or ndarrays with different lengths or shapes) is deprecated. If you meant to do this, you must specify 'dtype=object' when creating the ndarray.\n",
            "  array = numpy.asarray(array, order=order, dtype=dtype)\n",
            "<ipython-input-2-f0d979b1a134>:44: UserWarning: To copy construct from a tensor, it is recommended to use sourceTensor.clone().detach() or sourceTensor.clone().detach().requires_grad_(True), rather than torch.tensor(sourceTensor).\n",
            "  'label': torch.tensor(self.label_list[item])\n"
          ]
        },
        {
          "output_type": "stream",
          "name": "stdout",
          "text": [
            "test\n",
            "epoch: 9 train_loss: 0.05564289353787899 train_acc: 76.34% train_f1: 63.73%\n"
          ]
        },
        {
          "output_type": "stream",
          "name": "stderr",
          "text": [
            "/usr/local/lib/python3.10/dist-packages/sklearn/utils/_array_api.py:185: FutureWarning: The input object of type 'Tensor' is an array-like implementing one of the corresponding protocols (`__array__`, `__array_interface__` or `__array_struct__`); but not a sequence (or 0-D). In the future, this object will be coerced as if it was first converted using `np.array(obj)`. To retain the old behaviour, you have to either modify the type 'Tensor', or assign to an empty array created with `np.empty(correct_shape, dtype=object)`.\n",
            "  array = numpy.asarray(array, order=order, dtype=dtype)\n",
            "/usr/local/lib/python3.10/dist-packages/sklearn/utils/_array_api.py:185: VisibleDeprecationWarning: Creating an ndarray from ragged nested sequences (which is a list-or-tuple of lists-or-tuples-or ndarrays with different lengths or shapes) is deprecated. If you meant to do this, you must specify 'dtype=object' when creating the ndarray.\n",
            "  array = numpy.asarray(array, order=order, dtype=dtype)\n",
            "<ipython-input-2-f0d979b1a134>:44: UserWarning: To copy construct from a tensor, it is recommended to use sourceTensor.clone().detach() or sourceTensor.clone().detach().requires_grad_(True), rather than torch.tensor(sourceTensor).\n",
            "  'label': torch.tensor(self.label_list[item])\n"
          ]
        },
        {
          "output_type": "stream",
          "name": "stdout",
          "text": [
            "          val_loss: 0.05914921144192869 val_acc 77.16% val_f1: 64.17%\n",
            "BiLSTM_Atten AUC =  0.7971549501957165\n",
            "Specificity =  0.8102345415778252\n",
            "Sensitivity =  0.681592039800995\n",
            "[INFO] Register count_lstm() for <class 'torch.nn.modules.rnn.LSTM'>.\n",
            "[INFO] Register count_linear() for <class 'torch.nn.modules.linear.Linear'>.\n",
            "[INFO] Register zero_ops() for <class 'torch.nn.modules.activation.ReLU'>.\n",
            "[INFO] Register zero_ops() for <class 'torch.nn.modules.container.Sequential'>.\n",
            "[INFO] Register zero_ops() for <class 'torch.nn.modules.dropout.Dropout'>.\n",
            "Flops: 80358815488.00\n",
            "MLOPS: 186.19\n",
            "              precision    recall  f1-score   support\n",
            "\n",
            "         0.0     0.8559    0.8102    0.8324       469\n",
            "         1.0     0.6062    0.6816    0.6417       201\n",
            "\n",
            "    accuracy                         0.7716       670\n",
            "   macro avg     0.7310    0.7459    0.7371       670\n",
            "weighted avg     0.7810    0.7716    0.7752       670\n",
            "\n",
            "epoch: 10 step: 0/42\n",
            "epoch: 10 step: 4/42\n",
            "epoch: 10 step: 8/42\n",
            "epoch: 10 step: 12/42\n",
            "epoch: 10 step: 16/42\n",
            "epoch: 10 step: 20/42\n",
            "epoch: 10 step: 24/42\n",
            "epoch: 10 step: 28/42\n",
            "epoch: 10 step: 32/42\n",
            "epoch: 10 step: 36/42\n",
            "epoch: 10 step: 40/42\n"
          ]
        },
        {
          "output_type": "stream",
          "name": "stderr",
          "text": [
            "/usr/local/lib/python3.10/dist-packages/sklearn/utils/_array_api.py:185: FutureWarning: The input object of type 'Tensor' is an array-like implementing one of the corresponding protocols (`__array__`, `__array_interface__` or `__array_struct__`); but not a sequence (or 0-D). In the future, this object will be coerced as if it was first converted using `np.array(obj)`. To retain the old behaviour, you have to either modify the type 'Tensor', or assign to an empty array created with `np.empty(correct_shape, dtype=object)`.\n",
            "  array = numpy.asarray(array, order=order, dtype=dtype)\n",
            "/usr/local/lib/python3.10/dist-packages/sklearn/utils/_array_api.py:185: VisibleDeprecationWarning: Creating an ndarray from ragged nested sequences (which is a list-or-tuple of lists-or-tuples-or ndarrays with different lengths or shapes) is deprecated. If you meant to do this, you must specify 'dtype=object' when creating the ndarray.\n",
            "  array = numpy.asarray(array, order=order, dtype=dtype)\n"
          ]
        },
        {
          "output_type": "stream",
          "name": "stdout",
          "text": [
            "test\n",
            "epoch: 10 train_loss: 0.05393181253402006 train_acc: 76.98% train_f1: 65.20%\n"
          ]
        },
        {
          "output_type": "stream",
          "name": "stderr",
          "text": [
            "<ipython-input-2-f0d979b1a134>:44: UserWarning: To copy construct from a tensor, it is recommended to use sourceTensor.clone().detach() or sourceTensor.clone().detach().requires_grad_(True), rather than torch.tensor(sourceTensor).\n",
            "  'label': torch.tensor(self.label_list[item])\n",
            "/usr/local/lib/python3.10/dist-packages/sklearn/utils/_array_api.py:185: FutureWarning: The input object of type 'Tensor' is an array-like implementing one of the corresponding protocols (`__array__`, `__array_interface__` or `__array_struct__`); but not a sequence (or 0-D). In the future, this object will be coerced as if it was first converted using `np.array(obj)`. To retain the old behaviour, you have to either modify the type 'Tensor', or assign to an empty array created with `np.empty(correct_shape, dtype=object)`.\n",
            "  array = numpy.asarray(array, order=order, dtype=dtype)\n",
            "/usr/local/lib/python3.10/dist-packages/sklearn/utils/_array_api.py:185: VisibleDeprecationWarning: Creating an ndarray from ragged nested sequences (which is a list-or-tuple of lists-or-tuples-or ndarrays with different lengths or shapes) is deprecated. If you meant to do this, you must specify 'dtype=object' when creating the ndarray.\n",
            "  array = numpy.asarray(array, order=order, dtype=dtype)\n",
            "<ipython-input-2-f0d979b1a134>:44: UserWarning: To copy construct from a tensor, it is recommended to use sourceTensor.clone().detach() or sourceTensor.clone().detach().requires_grad_(True), rather than torch.tensor(sourceTensor).\n",
            "  'label': torch.tensor(self.label_list[item])\n"
          ]
        },
        {
          "output_type": "stream",
          "name": "stdout",
          "text": [
            "          val_loss: 0.05821325121955438 val_acc 77.46% val_f1: 64.30%\n",
            "BiLSTM_Atten AUC =  0.8036257942695904\n",
            "Specificity =  0.8166311300639659\n",
            "Sensitivity =  0.6766169154228856\n",
            "[INFO] Register count_lstm() for <class 'torch.nn.modules.rnn.LSTM'>.\n",
            "[INFO] Register count_linear() for <class 'torch.nn.modules.linear.Linear'>.\n",
            "[INFO] Register zero_ops() for <class 'torch.nn.modules.activation.ReLU'>.\n",
            "[INFO] Register zero_ops() for <class 'torch.nn.modules.container.Sequential'>.\n",
            "[INFO] Register zero_ops() for <class 'torch.nn.modules.dropout.Dropout'>.\n",
            "Flops: 80358815488.00\n",
            "MLOPS: 186.57\n",
            "              precision    recall  f1-score   support\n",
            "\n",
            "         0.0     0.8549    0.8166    0.8353       469\n",
            "         1.0     0.6126    0.6766    0.6430       201\n",
            "\n",
            "    accuracy                         0.7746       670\n",
            "   macro avg     0.7338    0.7466    0.7392       670\n",
            "weighted avg     0.7822    0.7746    0.7776       670\n",
            "\n",
            "epoch: 11 step: 0/42\n",
            "epoch: 11 step: 4/42\n",
            "epoch: 11 step: 8/42\n",
            "epoch: 11 step: 12/42\n",
            "epoch: 11 step: 16/42\n",
            "epoch: 11 step: 20/42\n",
            "epoch: 11 step: 24/42\n",
            "epoch: 11 step: 28/42\n",
            "epoch: 11 step: 32/42\n",
            "epoch: 11 step: 36/42\n",
            "epoch: 11 step: 40/42\n"
          ]
        },
        {
          "output_type": "stream",
          "name": "stderr",
          "text": [
            "/usr/local/lib/python3.10/dist-packages/sklearn/utils/_array_api.py:185: FutureWarning: The input object of type 'Tensor' is an array-like implementing one of the corresponding protocols (`__array__`, `__array_interface__` or `__array_struct__`); but not a sequence (or 0-D). In the future, this object will be coerced as if it was first converted using `np.array(obj)`. To retain the old behaviour, you have to either modify the type 'Tensor', or assign to an empty array created with `np.empty(correct_shape, dtype=object)`.\n",
            "  array = numpy.asarray(array, order=order, dtype=dtype)\n",
            "/usr/local/lib/python3.10/dist-packages/sklearn/utils/_array_api.py:185: VisibleDeprecationWarning: Creating an ndarray from ragged nested sequences (which is a list-or-tuple of lists-or-tuples-or ndarrays with different lengths or shapes) is deprecated. If you meant to do this, you must specify 'dtype=object' when creating the ndarray.\n",
            "  array = numpy.asarray(array, order=order, dtype=dtype)\n"
          ]
        },
        {
          "output_type": "stream",
          "name": "stdout",
          "text": [
            "test\n",
            "epoch: 11 train_loss: 0.0527791471353599 train_acc: 75.11% train_f1: 64.88%\n"
          ]
        },
        {
          "output_type": "stream",
          "name": "stderr",
          "text": [
            "<ipython-input-2-f0d979b1a134>:44: UserWarning: To copy construct from a tensor, it is recommended to use sourceTensor.clone().detach() or sourceTensor.clone().detach().requires_grad_(True), rather than torch.tensor(sourceTensor).\n",
            "  'label': torch.tensor(self.label_list[item])\n",
            "/usr/local/lib/python3.10/dist-packages/sklearn/utils/_array_api.py:185: FutureWarning: The input object of type 'Tensor' is an array-like implementing one of the corresponding protocols (`__array__`, `__array_interface__` or `__array_struct__`); but not a sequence (or 0-D). In the future, this object will be coerced as if it was first converted using `np.array(obj)`. To retain the old behaviour, you have to either modify the type 'Tensor', or assign to an empty array created with `np.empty(correct_shape, dtype=object)`.\n",
            "  array = numpy.asarray(array, order=order, dtype=dtype)\n",
            "/usr/local/lib/python3.10/dist-packages/sklearn/utils/_array_api.py:185: VisibleDeprecationWarning: Creating an ndarray from ragged nested sequences (which is a list-or-tuple of lists-or-tuples-or ndarrays with different lengths or shapes) is deprecated. If you meant to do this, you must specify 'dtype=object' when creating the ndarray.\n",
            "  array = numpy.asarray(array, order=order, dtype=dtype)\n"
          ]
        },
        {
          "output_type": "stream",
          "name": "stdout",
          "text": [
            "          val_loss: 0.05757667022672566 val_acc 73.28% val_f1: 61.34%\n",
            "BiLSTM_Atten AUC =  0.8062883874868727\n",
            "Specificity =  0.744136460554371\n",
            "Sensitivity =  0.7064676616915423\n",
            "[INFO] Register count_lstm() for <class 'torch.nn.modules.rnn.LSTM'>.\n",
            "[INFO] Register count_linear() for <class 'torch.nn.modules.linear.Linear'>.\n",
            "[INFO] Register zero_ops() for <class 'torch.nn.modules.activation.ReLU'>.\n",
            "[INFO] Register zero_ops() for <class 'torch.nn.modules.container.Sequential'>.\n",
            "[INFO] Register zero_ops() for <class 'torch.nn.modules.dropout.Dropout'>.\n",
            "Flops: 80358815488.00\n",
            "MLOPS: 186.65\n",
            "              precision    recall  f1-score   support\n",
            "\n",
            "         0.0     0.8554    0.7441    0.7959       469\n",
            "         1.0     0.5420    0.7065    0.6134       201\n",
            "\n",
            "    accuracy                         0.7328       670\n",
            "   macro avg     0.6987    0.7253    0.7046       670\n",
            "weighted avg     0.7614    0.7328    0.7411       670\n",
            "\n"
          ]
        },
        {
          "output_type": "stream",
          "name": "stderr",
          "text": [
            "<ipython-input-2-f0d979b1a134>:44: UserWarning: To copy construct from a tensor, it is recommended to use sourceTensor.clone().detach() or sourceTensor.clone().detach().requires_grad_(True), rather than torch.tensor(sourceTensor).\n",
            "  'label': torch.tensor(self.label_list[item])\n"
          ]
        },
        {
          "output_type": "stream",
          "name": "stdout",
          "text": [
            "epoch: 12 step: 0/42\n",
            "epoch: 12 step: 4/42\n",
            "epoch: 12 step: 8/42\n",
            "epoch: 12 step: 12/42\n",
            "epoch: 12 step: 16/42\n",
            "epoch: 12 step: 20/42\n",
            "epoch: 12 step: 24/42\n",
            "epoch: 12 step: 28/42\n",
            "epoch: 12 step: 32/42\n",
            "epoch: 12 step: 36/42\n",
            "epoch: 12 step: 40/42\n"
          ]
        },
        {
          "output_type": "stream",
          "name": "stderr",
          "text": [
            "/usr/local/lib/python3.10/dist-packages/sklearn/utils/_array_api.py:185: FutureWarning: The input object of type 'Tensor' is an array-like implementing one of the corresponding protocols (`__array__`, `__array_interface__` or `__array_struct__`); but not a sequence (or 0-D). In the future, this object will be coerced as if it was first converted using `np.array(obj)`. To retain the old behaviour, you have to either modify the type 'Tensor', or assign to an empty array created with `np.empty(correct_shape, dtype=object)`.\n",
            "  array = numpy.asarray(array, order=order, dtype=dtype)\n",
            "/usr/local/lib/python3.10/dist-packages/sklearn/utils/_array_api.py:185: VisibleDeprecationWarning: Creating an ndarray from ragged nested sequences (which is a list-or-tuple of lists-or-tuples-or ndarrays with different lengths or shapes) is deprecated. If you meant to do this, you must specify 'dtype=object' when creating the ndarray.\n",
            "  array = numpy.asarray(array, order=order, dtype=dtype)\n",
            "<ipython-input-2-f0d979b1a134>:44: UserWarning: To copy construct from a tensor, it is recommended to use sourceTensor.clone().detach() or sourceTensor.clone().detach().requires_grad_(True), rather than torch.tensor(sourceTensor).\n",
            "  'label': torch.tensor(self.label_list[item])\n"
          ]
        },
        {
          "output_type": "stream",
          "name": "stdout",
          "text": [
            "test\n",
            "epoch: 12 train_loss: 0.051311052803482325 train_acc: 76.79% train_f1: 66.60%\n"
          ]
        },
        {
          "output_type": "stream",
          "name": "stderr",
          "text": [
            "/usr/local/lib/python3.10/dist-packages/sklearn/utils/_array_api.py:185: FutureWarning: The input object of type 'Tensor' is an array-like implementing one of the corresponding protocols (`__array__`, `__array_interface__` or `__array_struct__`); but not a sequence (or 0-D). In the future, this object will be coerced as if it was first converted using `np.array(obj)`. To retain the old behaviour, you have to either modify the type 'Tensor', or assign to an empty array created with `np.empty(correct_shape, dtype=object)`.\n",
            "  array = numpy.asarray(array, order=order, dtype=dtype)\n",
            "/usr/local/lib/python3.10/dist-packages/sklearn/utils/_array_api.py:185: VisibleDeprecationWarning: Creating an ndarray from ragged nested sequences (which is a list-or-tuple of lists-or-tuples-or ndarrays with different lengths or shapes) is deprecated. If you meant to do this, you must specify 'dtype=object' when creating the ndarray.\n",
            "  array = numpy.asarray(array, order=order, dtype=dtype)\n",
            "<ipython-input-2-f0d979b1a134>:44: UserWarning: To copy construct from a tensor, it is recommended to use sourceTensor.clone().detach() or sourceTensor.clone().detach().requires_grad_(True), rather than torch.tensor(sourceTensor).\n",
            "  'label': torch.tensor(self.label_list[item])\n"
          ]
        },
        {
          "output_type": "stream",
          "name": "stdout",
          "text": [
            "          val_loss: 0.05749870464205742 val_acc 76.12% val_f1: 64.13%\n",
            "BiLSTM_Atten AUC =  0.8090252362918882\n",
            "Specificity =  0.7825159914712153\n",
            "Sensitivity =  0.7114427860696517\n",
            "[INFO] Register count_lstm() for <class 'torch.nn.modules.rnn.LSTM'>.\n",
            "[INFO] Register count_linear() for <class 'torch.nn.modules.linear.Linear'>.\n",
            "[INFO] Register zero_ops() for <class 'torch.nn.modules.activation.ReLU'>.\n",
            "[INFO] Register zero_ops() for <class 'torch.nn.modules.container.Sequential'>.\n",
            "[INFO] Register zero_ops() for <class 'torch.nn.modules.dropout.Dropout'>.\n",
            "Flops: 80358815488.00\n",
            "MLOPS: 187.06\n",
            "              precision    recall  f1-score   support\n",
            "\n",
            "         0.0     0.8635    0.7825    0.8210       469\n",
            "         1.0     0.5837    0.7114    0.6413       201\n",
            "\n",
            "    accuracy                         0.7612       670\n",
            "   macro avg     0.7236    0.7470    0.7311       670\n",
            "weighted avg     0.7796    0.7612    0.7671       670\n",
            "\n",
            "epoch: 13 step: 0/42\n",
            "epoch: 13 step: 4/42\n",
            "epoch: 13 step: 8/42\n",
            "epoch: 13 step: 12/42\n",
            "epoch: 13 step: 16/42\n",
            "epoch: 13 step: 20/42\n",
            "epoch: 13 step: 24/42\n",
            "epoch: 13 step: 28/42\n",
            "epoch: 13 step: 32/42\n",
            "epoch: 13 step: 36/42\n",
            "epoch: 13 step: 40/42\n"
          ]
        },
        {
          "output_type": "stream",
          "name": "stderr",
          "text": [
            "/usr/local/lib/python3.10/dist-packages/sklearn/utils/_array_api.py:185: FutureWarning: The input object of type 'Tensor' is an array-like implementing one of the corresponding protocols (`__array__`, `__array_interface__` or `__array_struct__`); but not a sequence (or 0-D). In the future, this object will be coerced as if it was first converted using `np.array(obj)`. To retain the old behaviour, you have to either modify the type 'Tensor', or assign to an empty array created with `np.empty(correct_shape, dtype=object)`.\n",
            "  array = numpy.asarray(array, order=order, dtype=dtype)\n",
            "/usr/local/lib/python3.10/dist-packages/sklearn/utils/_array_api.py:185: VisibleDeprecationWarning: Creating an ndarray from ragged nested sequences (which is a list-or-tuple of lists-or-tuples-or ndarrays with different lengths or shapes) is deprecated. If you meant to do this, you must specify 'dtype=object' when creating the ndarray.\n",
            "  array = numpy.asarray(array, order=order, dtype=dtype)\n",
            "<ipython-input-2-f0d979b1a134>:44: UserWarning: To copy construct from a tensor, it is recommended to use sourceTensor.clone().detach() or sourceTensor.clone().detach().requires_grad_(True), rather than torch.tensor(sourceTensor).\n",
            "  'label': torch.tensor(self.label_list[item])\n"
          ]
        },
        {
          "output_type": "stream",
          "name": "stdout",
          "text": [
            "test\n",
            "epoch: 13 train_loss: 0.05013239800575234 train_acc: 77.54% train_f1: 67.35%\n"
          ]
        },
        {
          "output_type": "stream",
          "name": "stderr",
          "text": [
            "/usr/local/lib/python3.10/dist-packages/sklearn/utils/_array_api.py:185: FutureWarning: The input object of type 'Tensor' is an array-like implementing one of the corresponding protocols (`__array__`, `__array_interface__` or `__array_struct__`); but not a sequence (or 0-D). In the future, this object will be coerced as if it was first converted using `np.array(obj)`. To retain the old behaviour, you have to either modify the type 'Tensor', or assign to an empty array created with `np.empty(correct_shape, dtype=object)`.\n",
            "  array = numpy.asarray(array, order=order, dtype=dtype)\n",
            "/usr/local/lib/python3.10/dist-packages/sklearn/utils/_array_api.py:185: VisibleDeprecationWarning: Creating an ndarray from ragged nested sequences (which is a list-or-tuple of lists-or-tuples-or ndarrays with different lengths or shapes) is deprecated. If you meant to do this, you must specify 'dtype=object' when creating the ndarray.\n",
            "  array = numpy.asarray(array, order=order, dtype=dtype)\n",
            "<ipython-input-2-f0d979b1a134>:44: UserWarning: To copy construct from a tensor, it is recommended to use sourceTensor.clone().detach() or sourceTensor.clone().detach().requires_grad_(True), rather than torch.tensor(sourceTensor).\n",
            "  'label': torch.tensor(self.label_list[item])\n"
          ]
        },
        {
          "output_type": "stream",
          "name": "stdout",
          "text": [
            "          val_loss: 0.05727700990709392 val_acc 76.72% val_f1: 64.71%\n",
            "BiLSTM_Atten AUC =  0.8117514771557988\n",
            "Specificity =  0.7910447761194029\n",
            "Sensitivity =  0.7114427860696517\n",
            "[INFO] Register count_lstm() for <class 'torch.nn.modules.rnn.LSTM'>.\n",
            "[INFO] Register count_linear() for <class 'torch.nn.modules.linear.Linear'>.\n",
            "[INFO] Register zero_ops() for <class 'torch.nn.modules.activation.ReLU'>.\n",
            "[INFO] Register zero_ops() for <class 'torch.nn.modules.container.Sequential'>.\n",
            "[INFO] Register zero_ops() for <class 'torch.nn.modules.dropout.Dropout'>.\n",
            "Flops: 80358815488.00\n",
            "MLOPS: 184.41\n",
            "              precision    recall  f1-score   support\n",
            "\n",
            "         0.0     0.8648    0.7910    0.8263       469\n",
            "         1.0     0.5934    0.7114    0.6471       201\n",
            "\n",
            "    accuracy                         0.7672       670\n",
            "   macro avg     0.7291    0.7512    0.7367       670\n",
            "weighted avg     0.7834    0.7672    0.7725       670\n",
            "\n",
            "epoch: 14 step: 0/42\n",
            "epoch: 14 step: 4/42\n",
            "epoch: 14 step: 8/42\n",
            "epoch: 14 step: 12/42\n",
            "epoch: 14 step: 16/42\n",
            "epoch: 14 step: 20/42\n",
            "epoch: 14 step: 24/42\n",
            "epoch: 14 step: 28/42\n",
            "epoch: 14 step: 32/42\n",
            "epoch: 14 step: 36/42\n",
            "epoch: 14 step: 40/42\n"
          ]
        },
        {
          "output_type": "stream",
          "name": "stderr",
          "text": [
            "/usr/local/lib/python3.10/dist-packages/sklearn/utils/_array_api.py:185: FutureWarning: The input object of type 'Tensor' is an array-like implementing one of the corresponding protocols (`__array__`, `__array_interface__` or `__array_struct__`); but not a sequence (or 0-D). In the future, this object will be coerced as if it was first converted using `np.array(obj)`. To retain the old behaviour, you have to either modify the type 'Tensor', or assign to an empty array created with `np.empty(correct_shape, dtype=object)`.\n",
            "  array = numpy.asarray(array, order=order, dtype=dtype)\n",
            "/usr/local/lib/python3.10/dist-packages/sklearn/utils/_array_api.py:185: VisibleDeprecationWarning: Creating an ndarray from ragged nested sequences (which is a list-or-tuple of lists-or-tuples-or ndarrays with different lengths or shapes) is deprecated. If you meant to do this, you must specify 'dtype=object' when creating the ndarray.\n",
            "  array = numpy.asarray(array, order=order, dtype=dtype)\n",
            "<ipython-input-2-f0d979b1a134>:44: UserWarning: To copy construct from a tensor, it is recommended to use sourceTensor.clone().detach() or sourceTensor.clone().detach().requires_grad_(True), rather than torch.tensor(sourceTensor).\n",
            "  'label': torch.tensor(self.label_list[item])\n"
          ]
        },
        {
          "output_type": "stream",
          "name": "stdout",
          "text": [
            "test\n",
            "epoch: 14 train_loss: 0.04921731840641726 train_acc: 79.25% train_f1: 68.08%\n"
          ]
        },
        {
          "output_type": "stream",
          "name": "stderr",
          "text": [
            "/usr/local/lib/python3.10/dist-packages/sklearn/utils/_array_api.py:185: FutureWarning: The input object of type 'Tensor' is an array-like implementing one of the corresponding protocols (`__array__`, `__array_interface__` or `__array_struct__`); but not a sequence (or 0-D). In the future, this object will be coerced as if it was first converted using `np.array(obj)`. To retain the old behaviour, you have to either modify the type 'Tensor', or assign to an empty array created with `np.empty(correct_shape, dtype=object)`.\n",
            "  array = numpy.asarray(array, order=order, dtype=dtype)\n",
            "/usr/local/lib/python3.10/dist-packages/sklearn/utils/_array_api.py:185: VisibleDeprecationWarning: Creating an ndarray from ragged nested sequences (which is a list-or-tuple of lists-or-tuples-or ndarrays with different lengths or shapes) is deprecated. If you meant to do this, you must specify 'dtype=object' when creating the ndarray.\n",
            "  array = numpy.asarray(array, order=order, dtype=dtype)\n",
            "<ipython-input-2-f0d979b1a134>:44: UserWarning: To copy construct from a tensor, it is recommended to use sourceTensor.clone().detach() or sourceTensor.clone().detach().requires_grad_(True), rather than torch.tensor(sourceTensor).\n",
            "  'label': torch.tensor(self.label_list[item])\n"
          ]
        },
        {
          "output_type": "stream",
          "name": "stdout",
          "text": [
            "          val_loss: 0.05900582061572508 val_acc 78.51% val_f1: 65.38%\n",
            "BiLSTM_Atten AUC =  0.8132047650871443\n",
            "Specificity =  0.8315565031982942\n",
            "Sensitivity =  0.6766169154228856\n",
            "[INFO] Register count_lstm() for <class 'torch.nn.modules.rnn.LSTM'>.\n",
            "[INFO] Register count_linear() for <class 'torch.nn.modules.linear.Linear'>.\n",
            "[INFO] Register zero_ops() for <class 'torch.nn.modules.activation.ReLU'>.\n",
            "[INFO] Register zero_ops() for <class 'torch.nn.modules.container.Sequential'>.\n",
            "[INFO] Register zero_ops() for <class 'torch.nn.modules.dropout.Dropout'>.\n",
            "Flops: 80358815488.00\n",
            "MLOPS: 187.24\n",
            "              precision    recall  f1-score   support\n",
            "\n",
            "         0.0     0.8571    0.8316    0.8442       469\n",
            "         1.0     0.6326    0.6766    0.6538       201\n",
            "\n",
            "    accuracy                         0.7851       670\n",
            "   macro avg     0.7449    0.7541    0.7490       670\n",
            "weighted avg     0.7898    0.7851    0.7871       670\n",
            "\n",
            "epoch: 15 step: 0/42\n",
            "epoch: 15 step: 4/42\n",
            "epoch: 15 step: 8/42\n",
            "epoch: 15 step: 12/42\n",
            "epoch: 15 step: 16/42\n",
            "epoch: 15 step: 20/42\n",
            "epoch: 15 step: 24/42\n",
            "epoch: 15 step: 28/42\n",
            "epoch: 15 step: 32/42\n",
            "epoch: 15 step: 36/42\n",
            "epoch: 15 step: 40/42\n"
          ]
        },
        {
          "output_type": "stream",
          "name": "stderr",
          "text": [
            "/usr/local/lib/python3.10/dist-packages/sklearn/utils/_array_api.py:185: FutureWarning: The input object of type 'Tensor' is an array-like implementing one of the corresponding protocols (`__array__`, `__array_interface__` or `__array_struct__`); but not a sequence (or 0-D). In the future, this object will be coerced as if it was first converted using `np.array(obj)`. To retain the old behaviour, you have to either modify the type 'Tensor', or assign to an empty array created with `np.empty(correct_shape, dtype=object)`.\n",
            "  array = numpy.asarray(array, order=order, dtype=dtype)\n",
            "/usr/local/lib/python3.10/dist-packages/sklearn/utils/_array_api.py:185: VisibleDeprecationWarning: Creating an ndarray from ragged nested sequences (which is a list-or-tuple of lists-or-tuples-or ndarrays with different lengths or shapes) is deprecated. If you meant to do this, you must specify 'dtype=object' when creating the ndarray.\n",
            "  array = numpy.asarray(array, order=order, dtype=dtype)\n",
            "<ipython-input-2-f0d979b1a134>:44: UserWarning: To copy construct from a tensor, it is recommended to use sourceTensor.clone().detach() or sourceTensor.clone().detach().requires_grad_(True), rather than torch.tensor(sourceTensor).\n",
            "  'label': torch.tensor(self.label_list[item])\n"
          ]
        },
        {
          "output_type": "stream",
          "name": "stdout",
          "text": [
            "test\n",
            "epoch: 15 train_loss: 0.04829516927046435 train_acc: 77.31% train_f1: 68.79%\n"
          ]
        },
        {
          "output_type": "stream",
          "name": "stderr",
          "text": [
            "/usr/local/lib/python3.10/dist-packages/sklearn/utils/_array_api.py:185: FutureWarning: The input object of type 'Tensor' is an array-like implementing one of the corresponding protocols (`__array__`, `__array_interface__` or `__array_struct__`); but not a sequence (or 0-D). In the future, this object will be coerced as if it was first converted using `np.array(obj)`. To retain the old behaviour, you have to either modify the type 'Tensor', or assign to an empty array created with `np.empty(correct_shape, dtype=object)`.\n",
            "  array = numpy.asarray(array, order=order, dtype=dtype)\n",
            "/usr/local/lib/python3.10/dist-packages/sklearn/utils/_array_api.py:185: VisibleDeprecationWarning: Creating an ndarray from ragged nested sequences (which is a list-or-tuple of lists-or-tuples-or ndarrays with different lengths or shapes) is deprecated. If you meant to do this, you must specify 'dtype=object' when creating the ndarray.\n",
            "  array = numpy.asarray(array, order=order, dtype=dtype)\n",
            "<ipython-input-2-f0d979b1a134>:44: UserWarning: To copy construct from a tensor, it is recommended to use sourceTensor.clone().detach() or sourceTensor.clone().detach().requires_grad_(True), rather than torch.tensor(sourceTensor).\n",
            "  'label': torch.tensor(self.label_list[item])\n"
          ]
        },
        {
          "output_type": "stream",
          "name": "stdout",
          "text": [
            "          val_loss: 0.05641889470544728 val_acc 75.37% val_f1: 64.36%\n",
            "BiLSTM_Atten AUC =  0.8168114650627459\n",
            "Specificity =  0.7590618336886994\n",
            "Sensitivity =  0.7412935323383084\n",
            "[INFO] Register count_lstm() for <class 'torch.nn.modules.rnn.LSTM'>.\n",
            "[INFO] Register count_linear() for <class 'torch.nn.modules.linear.Linear'>.\n",
            "[INFO] Register zero_ops() for <class 'torch.nn.modules.activation.ReLU'>.\n",
            "[INFO] Register zero_ops() for <class 'torch.nn.modules.container.Sequential'>.\n",
            "[INFO] Register zero_ops() for <class 'torch.nn.modules.dropout.Dropout'>.\n",
            "Flops: 80358815488.00\n",
            "MLOPS: 185.97\n",
            "              precision    recall  f1-score   support\n",
            "\n",
            "         0.0     0.8725    0.7591    0.8119       469\n",
            "         1.0     0.5687    0.7413    0.6436       201\n",
            "\n",
            "    accuracy                         0.7537       670\n",
            "   macro avg     0.7206    0.7502    0.7277       670\n",
            "weighted avg     0.7814    0.7537    0.7614       670\n",
            "\n",
            "epoch: 16 step: 0/42\n",
            "epoch: 16 step: 4/42\n",
            "epoch: 16 step: 8/42\n",
            "epoch: 16 step: 12/42\n",
            "epoch: 16 step: 16/42\n",
            "epoch: 16 step: 20/42\n",
            "epoch: 16 step: 24/42\n",
            "epoch: 16 step: 28/42\n",
            "epoch: 16 step: 32/42\n",
            "epoch: 16 step: 36/42\n",
            "epoch: 16 step: 40/42\n"
          ]
        },
        {
          "output_type": "stream",
          "name": "stderr",
          "text": [
            "/usr/local/lib/python3.10/dist-packages/sklearn/utils/_array_api.py:185: FutureWarning: The input object of type 'Tensor' is an array-like implementing one of the corresponding protocols (`__array__`, `__array_interface__` or `__array_struct__`); but not a sequence (or 0-D). In the future, this object will be coerced as if it was first converted using `np.array(obj)`. To retain the old behaviour, you have to either modify the type 'Tensor', or assign to an empty array created with `np.empty(correct_shape, dtype=object)`.\n",
            "  array = numpy.asarray(array, order=order, dtype=dtype)\n",
            "/usr/local/lib/python3.10/dist-packages/sklearn/utils/_array_api.py:185: VisibleDeprecationWarning: Creating an ndarray from ragged nested sequences (which is a list-or-tuple of lists-or-tuples-or ndarrays with different lengths or shapes) is deprecated. If you meant to do this, you must specify 'dtype=object' when creating the ndarray.\n",
            "  array = numpy.asarray(array, order=order, dtype=dtype)\n"
          ]
        },
        {
          "output_type": "stream",
          "name": "stdout",
          "text": [
            "test\n",
            "epoch: 16 train_loss: 0.04670592503888266 train_acc: 79.33% train_f1: 69.83%\n"
          ]
        },
        {
          "output_type": "stream",
          "name": "stderr",
          "text": [
            "<ipython-input-2-f0d979b1a134>:44: UserWarning: To copy construct from a tensor, it is recommended to use sourceTensor.clone().detach() or sourceTensor.clone().detach().requires_grad_(True), rather than torch.tensor(sourceTensor).\n",
            "  'label': torch.tensor(self.label_list[item])\n",
            "/usr/local/lib/python3.10/dist-packages/sklearn/utils/_array_api.py:185: FutureWarning: The input object of type 'Tensor' is an array-like implementing one of the corresponding protocols (`__array__`, `__array_interface__` or `__array_struct__`); but not a sequence (or 0-D). In the future, this object will be coerced as if it was first converted using `np.array(obj)`. To retain the old behaviour, you have to either modify the type 'Tensor', or assign to an empty array created with `np.empty(correct_shape, dtype=object)`.\n",
            "  array = numpy.asarray(array, order=order, dtype=dtype)\n",
            "/usr/local/lib/python3.10/dist-packages/sklearn/utils/_array_api.py:185: VisibleDeprecationWarning: Creating an ndarray from ragged nested sequences (which is a list-or-tuple of lists-or-tuples-or ndarrays with different lengths or shapes) is deprecated. If you meant to do this, you must specify 'dtype=object' when creating the ndarray.\n",
            "  array = numpy.asarray(array, order=order, dtype=dtype)\n"
          ]
        },
        {
          "output_type": "stream",
          "name": "stdout",
          "text": [
            "          val_loss: 0.057414705780419434 val_acc 77.61% val_f1: 65.12%\n",
            "BiLSTM_Atten AUC =  0.8194634503389236\n",
            "Specificity =  0.8102345415778252\n",
            "Sensitivity =  0.6965174129353234\n",
            "[INFO] Register count_lstm() for <class 'torch.nn.modules.rnn.LSTM'>.\n",
            "[INFO] Register count_linear() for <class 'torch.nn.modules.linear.Linear'>.\n",
            "[INFO] Register zero_ops() for <class 'torch.nn.modules.activation.ReLU'>.\n",
            "[INFO] Register zero_ops() for <class 'torch.nn.modules.container.Sequential'>.\n",
            "[INFO] Register zero_ops() for <class 'torch.nn.modules.dropout.Dropout'>.\n",
            "Flops: 80358815488.00\n",
            "MLOPS: 186.63\n",
            "              precision    recall  f1-score   support\n",
            "\n",
            "         0.0     0.8617    0.8102    0.8352       469\n",
            "         1.0     0.6114    0.6965    0.6512       201\n",
            "\n",
            "    accuracy                         0.7761       670\n",
            "   macro avg     0.7365    0.7534    0.7432       670\n",
            "weighted avg     0.7866    0.7761    0.7800       670\n",
            "\n"
          ]
        },
        {
          "output_type": "stream",
          "name": "stderr",
          "text": [
            "<ipython-input-2-f0d979b1a134>:44: UserWarning: To copy construct from a tensor, it is recommended to use sourceTensor.clone().detach() or sourceTensor.clone().detach().requires_grad_(True), rather than torch.tensor(sourceTensor).\n",
            "  'label': torch.tensor(self.label_list[item])\n"
          ]
        },
        {
          "output_type": "stream",
          "name": "stdout",
          "text": [
            "epoch: 17 step: 0/42\n",
            "epoch: 17 step: 4/42\n",
            "epoch: 17 step: 8/42\n",
            "epoch: 17 step: 12/42\n",
            "epoch: 17 step: 16/42\n",
            "epoch: 17 step: 20/42\n",
            "epoch: 17 step: 24/42\n",
            "epoch: 17 step: 28/42\n",
            "epoch: 17 step: 32/42\n",
            "epoch: 17 step: 36/42\n",
            "epoch: 17 step: 40/42\n"
          ]
        },
        {
          "output_type": "stream",
          "name": "stderr",
          "text": [
            "/usr/local/lib/python3.10/dist-packages/sklearn/utils/_array_api.py:185: FutureWarning: The input object of type 'Tensor' is an array-like implementing one of the corresponding protocols (`__array__`, `__array_interface__` or `__array_struct__`); but not a sequence (or 0-D). In the future, this object will be coerced as if it was first converted using `np.array(obj)`. To retain the old behaviour, you have to either modify the type 'Tensor', or assign to an empty array created with `np.empty(correct_shape, dtype=object)`.\n",
            "  array = numpy.asarray(array, order=order, dtype=dtype)\n",
            "/usr/local/lib/python3.10/dist-packages/sklearn/utils/_array_api.py:185: VisibleDeprecationWarning: Creating an ndarray from ragged nested sequences (which is a list-or-tuple of lists-or-tuples-or ndarrays with different lengths or shapes) is deprecated. If you meant to do this, you must specify 'dtype=object' when creating the ndarray.\n",
            "  array = numpy.asarray(array, order=order, dtype=dtype)\n",
            "<ipython-input-2-f0d979b1a134>:44: UserWarning: To copy construct from a tensor, it is recommended to use sourceTensor.clone().detach() or sourceTensor.clone().detach().requires_grad_(True), rather than torch.tensor(sourceTensor).\n",
            "  'label': torch.tensor(self.label_list[item])\n"
          ]
        },
        {
          "output_type": "stream",
          "name": "stdout",
          "text": [
            "test\n",
            "epoch: 17 train_loss: 0.047057732851022764 train_acc: 76.90% train_f1: 69.76%\n"
          ]
        },
        {
          "output_type": "stream",
          "name": "stderr",
          "text": [
            "/usr/local/lib/python3.10/dist-packages/sklearn/utils/_array_api.py:185: FutureWarning: The input object of type 'Tensor' is an array-like implementing one of the corresponding protocols (`__array__`, `__array_interface__` or `__array_struct__`); but not a sequence (or 0-D). In the future, this object will be coerced as if it was first converted using `np.array(obj)`. To retain the old behaviour, you have to either modify the type 'Tensor', or assign to an empty array created with `np.empty(correct_shape, dtype=object)`.\n",
            "  array = numpy.asarray(array, order=order, dtype=dtype)\n",
            "/usr/local/lib/python3.10/dist-packages/sklearn/utils/_array_api.py:185: VisibleDeprecationWarning: Creating an ndarray from ragged nested sequences (which is a list-or-tuple of lists-or-tuples-or ndarrays with different lengths or shapes) is deprecated. If you meant to do this, you must specify 'dtype=object' when creating the ndarray.\n",
            "  array = numpy.asarray(array, order=order, dtype=dtype)\n",
            "<ipython-input-2-f0d979b1a134>:44: UserWarning: To copy construct from a tensor, it is recommended to use sourceTensor.clone().detach() or sourceTensor.clone().detach().requires_grad_(True), rather than torch.tensor(sourceTensor).\n",
            "  'label': torch.tensor(self.label_list[item])\n"
          ]
        },
        {
          "output_type": "stream",
          "name": "stdout",
          "text": [
            "          val_loss: 0.05639382756569169 val_acc 72.09% val_f1: 62.07%\n",
            "BiLSTM_Atten AUC =  0.8232717011955151\n",
            "Specificity =  0.7036247334754797\n",
            "Sensitivity =  0.7611940298507462\n",
            "[INFO] Register count_lstm() for <class 'torch.nn.modules.rnn.LSTM'>.\n",
            "[INFO] Register count_linear() for <class 'torch.nn.modules.linear.Linear'>.\n",
            "[INFO] Register zero_ops() for <class 'torch.nn.modules.activation.ReLU'>.\n",
            "[INFO] Register zero_ops() for <class 'torch.nn.modules.container.Sequential'>.\n",
            "[INFO] Register zero_ops() for <class 'torch.nn.modules.dropout.Dropout'>.\n",
            "Flops: 80358815488.00\n",
            "MLOPS: 186.54\n",
            "              precision    recall  f1-score   support\n",
            "\n",
            "         0.0     0.8730    0.7036    0.7792       469\n",
            "         1.0     0.5240    0.7612    0.6207       201\n",
            "\n",
            "    accuracy                         0.7209       670\n",
            "   macro avg     0.6985    0.7324    0.7000       670\n",
            "weighted avg     0.7683    0.7209    0.7317       670\n",
            "\n",
            "epoch: 18 step: 0/42\n",
            "epoch: 18 step: 4/42\n",
            "epoch: 18 step: 8/42\n",
            "epoch: 18 step: 12/42\n",
            "epoch: 18 step: 16/42\n",
            "epoch: 18 step: 20/42\n",
            "epoch: 18 step: 24/42\n",
            "epoch: 18 step: 28/42\n",
            "epoch: 18 step: 32/42\n",
            "epoch: 18 step: 36/42\n",
            "epoch: 18 step: 40/42\n"
          ]
        },
        {
          "output_type": "stream",
          "name": "stderr",
          "text": [
            "/usr/local/lib/python3.10/dist-packages/sklearn/utils/_array_api.py:185: FutureWarning: The input object of type 'Tensor' is an array-like implementing one of the corresponding protocols (`__array__`, `__array_interface__` or `__array_struct__`); but not a sequence (or 0-D). In the future, this object will be coerced as if it was first converted using `np.array(obj)`. To retain the old behaviour, you have to either modify the type 'Tensor', or assign to an empty array created with `np.empty(correct_shape, dtype=object)`.\n",
            "  array = numpy.asarray(array, order=order, dtype=dtype)\n",
            "/usr/local/lib/python3.10/dist-packages/sklearn/utils/_array_api.py:185: VisibleDeprecationWarning: Creating an ndarray from ragged nested sequences (which is a list-or-tuple of lists-or-tuples-or ndarrays with different lengths or shapes) is deprecated. If you meant to do this, you must specify 'dtype=object' when creating the ndarray.\n",
            "  array = numpy.asarray(array, order=order, dtype=dtype)\n",
            "<ipython-input-2-f0d979b1a134>:44: UserWarning: To copy construct from a tensor, it is recommended to use sourceTensor.clone().detach() or sourceTensor.clone().detach().requires_grad_(True), rather than torch.tensor(sourceTensor).\n",
            "  'label': torch.tensor(self.label_list[item])\n"
          ]
        },
        {
          "output_type": "stream",
          "name": "stdout",
          "text": [
            "test\n",
            "epoch: 18 train_loss: 0.045578300686819215 train_acc: 78.62% train_f1: 71.05%\n"
          ]
        },
        {
          "output_type": "stream",
          "name": "stderr",
          "text": [
            "/usr/local/lib/python3.10/dist-packages/sklearn/utils/_array_api.py:185: FutureWarning: The input object of type 'Tensor' is an array-like implementing one of the corresponding protocols (`__array__`, `__array_interface__` or `__array_struct__`); but not a sequence (or 0-D). In the future, this object will be coerced as if it was first converted using `np.array(obj)`. To retain the old behaviour, you have to either modify the type 'Tensor', or assign to an empty array created with `np.empty(correct_shape, dtype=object)`.\n",
            "  array = numpy.asarray(array, order=order, dtype=dtype)\n",
            "/usr/local/lib/python3.10/dist-packages/sklearn/utils/_array_api.py:185: VisibleDeprecationWarning: Creating an ndarray from ragged nested sequences (which is a list-or-tuple of lists-or-tuples-or ndarrays with different lengths or shapes) is deprecated. If you meant to do this, you must specify 'dtype=object' when creating the ndarray.\n",
            "  array = numpy.asarray(array, order=order, dtype=dtype)\n",
            "<ipython-input-2-f0d979b1a134>:44: UserWarning: To copy construct from a tensor, it is recommended to use sourceTensor.clone().detach() or sourceTensor.clone().detach().requires_grad_(True), rather than torch.tensor(sourceTensor).\n",
            "  'label': torch.tensor(self.label_list[item])\n"
          ]
        },
        {
          "output_type": "stream",
          "name": "stdout",
          "text": [
            "          val_loss: 0.05596358904784376 val_acc 73.73% val_f1: 63.18%\n",
            "BiLSTM_Atten AUC =  0.8244385747170332\n",
            "Specificity =  0.7313432835820896\n",
            "Sensitivity =  0.7512437810945274\n",
            "[INFO] Register count_lstm() for <class 'torch.nn.modules.rnn.LSTM'>.\n",
            "[INFO] Register count_linear() for <class 'torch.nn.modules.linear.Linear'>.\n",
            "[INFO] Register zero_ops() for <class 'torch.nn.modules.activation.ReLU'>.\n",
            "[INFO] Register zero_ops() for <class 'torch.nn.modules.container.Sequential'>.\n",
            "[INFO] Register zero_ops() for <class 'torch.nn.modules.dropout.Dropout'>.\n",
            "Flops: 80358815488.00\n",
            "MLOPS: 184.35\n",
            "              precision    recall  f1-score   support\n",
            "\n",
            "         0.0     0.8728    0.7313    0.7958       469\n",
            "         1.0     0.5451    0.7512    0.6318       201\n",
            "\n",
            "    accuracy                         0.7373       670\n",
            "   macro avg     0.7089    0.7413    0.7138       670\n",
            "weighted avg     0.7745    0.7373    0.7466       670\n",
            "\n",
            "epoch: 19 step: 0/42\n",
            "epoch: 19 step: 4/42\n",
            "epoch: 19 step: 8/42\n",
            "epoch: 19 step: 12/42\n",
            "epoch: 19 step: 16/42\n",
            "epoch: 19 step: 20/42\n",
            "epoch: 19 step: 24/42\n",
            "epoch: 19 step: 28/42\n",
            "epoch: 19 step: 32/42\n",
            "epoch: 19 step: 36/42\n",
            "epoch: 19 step: 40/42\n"
          ]
        },
        {
          "output_type": "stream",
          "name": "stderr",
          "text": [
            "/usr/local/lib/python3.10/dist-packages/sklearn/utils/_array_api.py:185: FutureWarning: The input object of type 'Tensor' is an array-like implementing one of the corresponding protocols (`__array__`, `__array_interface__` or `__array_struct__`); but not a sequence (or 0-D). In the future, this object will be coerced as if it was first converted using `np.array(obj)`. To retain the old behaviour, you have to either modify the type 'Tensor', or assign to an empty array created with `np.empty(correct_shape, dtype=object)`.\n",
            "  array = numpy.asarray(array, order=order, dtype=dtype)\n",
            "/usr/local/lib/python3.10/dist-packages/sklearn/utils/_array_api.py:185: VisibleDeprecationWarning: Creating an ndarray from ragged nested sequences (which is a list-or-tuple of lists-or-tuples-or ndarrays with different lengths or shapes) is deprecated. If you meant to do this, you must specify 'dtype=object' when creating the ndarray.\n",
            "  array = numpy.asarray(array, order=order, dtype=dtype)\n",
            "<ipython-input-2-f0d979b1a134>:44: UserWarning: To copy construct from a tensor, it is recommended to use sourceTensor.clone().detach() or sourceTensor.clone().detach().requires_grad_(True), rather than torch.tensor(sourceTensor).\n",
            "  'label': torch.tensor(self.label_list[item])\n"
          ]
        },
        {
          "output_type": "stream",
          "name": "stdout",
          "text": [
            "test\n",
            "epoch: 19 train_loss: 0.04376897495239973 train_acc: 80.67% train_f1: 72.56%\n"
          ]
        },
        {
          "output_type": "stream",
          "name": "stderr",
          "text": [
            "/usr/local/lib/python3.10/dist-packages/sklearn/utils/_array_api.py:185: FutureWarning: The input object of type 'Tensor' is an array-like implementing one of the corresponding protocols (`__array__`, `__array_interface__` or `__array_struct__`); but not a sequence (or 0-D). In the future, this object will be coerced as if it was first converted using `np.array(obj)`. To retain the old behaviour, you have to either modify the type 'Tensor', or assign to an empty array created with `np.empty(correct_shape, dtype=object)`.\n",
            "  array = numpy.asarray(array, order=order, dtype=dtype)\n",
            "/usr/local/lib/python3.10/dist-packages/sklearn/utils/_array_api.py:185: VisibleDeprecationWarning: Creating an ndarray from ragged nested sequences (which is a list-or-tuple of lists-or-tuples-or ndarrays with different lengths or shapes) is deprecated. If you meant to do this, you must specify 'dtype=object' when creating the ndarray.\n",
            "  array = numpy.asarray(array, order=order, dtype=dtype)\n",
            "<ipython-input-2-f0d979b1a134>:44: UserWarning: To copy construct from a tensor, it is recommended to use sourceTensor.clone().detach() or sourceTensor.clone().detach().requires_grad_(True), rather than torch.tensor(sourceTensor).\n",
            "  'label': torch.tensor(self.label_list[item])\n"
          ]
        },
        {
          "output_type": "stream",
          "name": "stdout",
          "text": [
            "          val_loss: 0.05711483345790343 val_acc 75.82% val_f1: 64.32%\n",
            "BiLSTM_Atten AUC =  0.82528721000541\n",
            "Specificity =  0.7718550106609808\n",
            "Sensitivity =  0.7263681592039801\n",
            "[INFO] Register count_lstm() for <class 'torch.nn.modules.rnn.LSTM'>.\n",
            "[INFO] Register count_linear() for <class 'torch.nn.modules.linear.Linear'>.\n",
            "[INFO] Register zero_ops() for <class 'torch.nn.modules.activation.ReLU'>.\n",
            "[INFO] Register zero_ops() for <class 'torch.nn.modules.container.Sequential'>.\n",
            "[INFO] Register zero_ops() for <class 'torch.nn.modules.dropout.Dropout'>.\n",
            "Flops: 80358815488.00\n",
            "MLOPS: 180.70\n",
            "              precision    recall  f1-score   support\n",
            "\n",
            "         0.0     0.8681    0.7719    0.8172       469\n",
            "         1.0     0.5771    0.7264    0.6432       201\n",
            "\n",
            "    accuracy                         0.7582       670\n",
            "   macro avg     0.7226    0.7491    0.7302       670\n",
            "weighted avg     0.7808    0.7582    0.7650       670\n",
            "\n",
            "epoch: 20 step: 0/42\n",
            "epoch: 20 step: 4/42\n",
            "epoch: 20 step: 8/42\n",
            "epoch: 20 step: 12/42\n",
            "epoch: 20 step: 16/42\n",
            "epoch: 20 step: 20/42\n",
            "epoch: 20 step: 24/42\n",
            "epoch: 20 step: 28/42\n",
            "epoch: 20 step: 32/42\n",
            "epoch: 20 step: 36/42\n",
            "epoch: 20 step: 40/42\n"
          ]
        },
        {
          "output_type": "stream",
          "name": "stderr",
          "text": [
            "/usr/local/lib/python3.10/dist-packages/sklearn/utils/_array_api.py:185: FutureWarning: The input object of type 'Tensor' is an array-like implementing one of the corresponding protocols (`__array__`, `__array_interface__` or `__array_struct__`); but not a sequence (or 0-D). In the future, this object will be coerced as if it was first converted using `np.array(obj)`. To retain the old behaviour, you have to either modify the type 'Tensor', or assign to an empty array created with `np.empty(correct_shape, dtype=object)`.\n",
            "  array = numpy.asarray(array, order=order, dtype=dtype)\n",
            "/usr/local/lib/python3.10/dist-packages/sklearn/utils/_array_api.py:185: VisibleDeprecationWarning: Creating an ndarray from ragged nested sequences (which is a list-or-tuple of lists-or-tuples-or ndarrays with different lengths or shapes) is deprecated. If you meant to do this, you must specify 'dtype=object' when creating the ndarray.\n",
            "  array = numpy.asarray(array, order=order, dtype=dtype)\n"
          ]
        },
        {
          "output_type": "stream",
          "name": "stdout",
          "text": [
            "test\n",
            "epoch: 20 train_loss: 0.04264912408377443 train_acc: 81.64% train_f1: 73.58%\n"
          ]
        },
        {
          "output_type": "stream",
          "name": "stderr",
          "text": [
            "<ipython-input-2-f0d979b1a134>:44: UserWarning: To copy construct from a tensor, it is recommended to use sourceTensor.clone().detach() or sourceTensor.clone().detach().requires_grad_(True), rather than torch.tensor(sourceTensor).\n",
            "  'label': torch.tensor(self.label_list[item])\n",
            "/usr/local/lib/python3.10/dist-packages/sklearn/utils/_array_api.py:185: FutureWarning: The input object of type 'Tensor' is an array-like implementing one of the corresponding protocols (`__array__`, `__array_interface__` or `__array_struct__`); but not a sequence (or 0-D). In the future, this object will be coerced as if it was first converted using `np.array(obj)`. To retain the old behaviour, you have to either modify the type 'Tensor', or assign to an empty array created with `np.empty(correct_shape, dtype=object)`.\n",
            "  array = numpy.asarray(array, order=order, dtype=dtype)\n",
            "/usr/local/lib/python3.10/dist-packages/sklearn/utils/_array_api.py:185: VisibleDeprecationWarning: Creating an ndarray from ragged nested sequences (which is a list-or-tuple of lists-or-tuples-or ndarrays with different lengths or shapes) is deprecated. If you meant to do this, you must specify 'dtype=object' when creating the ndarray.\n",
            "  array = numpy.asarray(array, order=order, dtype=dtype)\n",
            "<ipython-input-2-f0d979b1a134>:44: UserWarning: To copy construct from a tensor, it is recommended to use sourceTensor.clone().detach() or sourceTensor.clone().detach().requires_grad_(True), rather than torch.tensor(sourceTensor).\n",
            "  'label': torch.tensor(self.label_list[item])\n"
          ]
        },
        {
          "output_type": "stream",
          "name": "stdout",
          "text": [
            "          val_loss: 0.05720084397630258 val_acc 76.72% val_f1: 65.02%\n",
            "BiLSTM_Atten AUC =  0.8269632646999544\n",
            "Specificity =  0.7867803837953091\n",
            "Sensitivity =  0.7213930348258707\n",
            "[INFO] Register count_lstm() for <class 'torch.nn.modules.rnn.LSTM'>.\n",
            "[INFO] Register count_linear() for <class 'torch.nn.modules.linear.Linear'>.\n",
            "[INFO] Register zero_ops() for <class 'torch.nn.modules.activation.ReLU'>.\n",
            "[INFO] Register zero_ops() for <class 'torch.nn.modules.container.Sequential'>.\n",
            "[INFO] Register zero_ops() for <class 'torch.nn.modules.dropout.Dropout'>.\n",
            "Flops: 80358815488.00\n",
            "MLOPS: 186.54\n",
            "              precision    recall  f1-score   support\n",
            "\n",
            "         0.0     0.8682    0.7868    0.8255       469\n",
            "         1.0     0.5918    0.7214    0.6502       201\n",
            "\n",
            "    accuracy                         0.7672       670\n",
            "   macro avg     0.7300    0.7541    0.7379       670\n",
            "weighted avg     0.7853    0.7672    0.7729       670\n",
            "\n",
            "epoch: 21 step: 0/42\n",
            "epoch: 21 step: 4/42\n",
            "epoch: 21 step: 8/42\n",
            "epoch: 21 step: 12/42\n",
            "epoch: 21 step: 16/42\n",
            "epoch: 21 step: 20/42\n",
            "epoch: 21 step: 24/42\n",
            "epoch: 21 step: 28/42\n",
            "epoch: 21 step: 32/42\n",
            "epoch: 21 step: 36/42\n",
            "epoch: 21 step: 40/42\n"
          ]
        },
        {
          "output_type": "stream",
          "name": "stderr",
          "text": [
            "/usr/local/lib/python3.10/dist-packages/sklearn/utils/_array_api.py:185: FutureWarning: The input object of type 'Tensor' is an array-like implementing one of the corresponding protocols (`__array__`, `__array_interface__` or `__array_struct__`); but not a sequence (or 0-D). In the future, this object will be coerced as if it was first converted using `np.array(obj)`. To retain the old behaviour, you have to either modify the type 'Tensor', or assign to an empty array created with `np.empty(correct_shape, dtype=object)`.\n",
            "  array = numpy.asarray(array, order=order, dtype=dtype)\n",
            "/usr/local/lib/python3.10/dist-packages/sklearn/utils/_array_api.py:185: VisibleDeprecationWarning: Creating an ndarray from ragged nested sequences (which is a list-or-tuple of lists-or-tuples-or ndarrays with different lengths or shapes) is deprecated. If you meant to do this, you must specify 'dtype=object' when creating the ndarray.\n",
            "  array = numpy.asarray(array, order=order, dtype=dtype)\n",
            "<ipython-input-2-f0d979b1a134>:44: UserWarning: To copy construct from a tensor, it is recommended to use sourceTensor.clone().detach() or sourceTensor.clone().detach().requires_grad_(True), rather than torch.tensor(sourceTensor).\n",
            "  'label': torch.tensor(self.label_list[item])\n"
          ]
        },
        {
          "output_type": "stream",
          "name": "stdout",
          "text": [
            "test\n",
            "epoch: 21 train_loss: 0.04150879108125255 train_acc: 82.57% train_f1: 74.10%\n"
          ]
        },
        {
          "output_type": "stream",
          "name": "stderr",
          "text": [
            "/usr/local/lib/python3.10/dist-packages/sklearn/utils/_array_api.py:185: FutureWarning: The input object of type 'Tensor' is an array-like implementing one of the corresponding protocols (`__array__`, `__array_interface__` or `__array_struct__`); but not a sequence (or 0-D). In the future, this object will be coerced as if it was first converted using `np.array(obj)`. To retain the old behaviour, you have to either modify the type 'Tensor', or assign to an empty array created with `np.empty(correct_shape, dtype=object)`.\n",
            "  array = numpy.asarray(array, order=order, dtype=dtype)\n",
            "/usr/local/lib/python3.10/dist-packages/sklearn/utils/_array_api.py:185: VisibleDeprecationWarning: Creating an ndarray from ragged nested sequences (which is a list-or-tuple of lists-or-tuples-or ndarrays with different lengths or shapes) is deprecated. If you meant to do this, you must specify 'dtype=object' when creating the ndarray.\n",
            "  array = numpy.asarray(array, order=order, dtype=dtype)\n"
          ]
        },
        {
          "output_type": "stream",
          "name": "stdout",
          "text": [
            "          val_loss: 0.05880246142094785 val_acc 78.06% val_f1: 65.89%\n",
            "BiLSTM_Atten AUC =  0.8282892573380432\n",
            "Specificity =  0.8123667377398721\n",
            "Sensitivity =  0.7064676616915423\n",
            "[INFO] Register count_lstm() for <class 'torch.nn.modules.rnn.LSTM'>.\n",
            "[INFO] Register count_linear() for <class 'torch.nn.modules.linear.Linear'>.\n",
            "[INFO] Register zero_ops() for <class 'torch.nn.modules.activation.ReLU'>.\n",
            "[INFO] Register zero_ops() for <class 'torch.nn.modules.container.Sequential'>.\n",
            "[INFO] Register zero_ops() for <class 'torch.nn.modules.dropout.Dropout'>.\n",
            "Flops: 80358815488.00\n",
            "MLOPS: 186.47\n",
            "              precision    recall  f1-score   support\n",
            "\n",
            "         0.0     0.8659    0.8124    0.8383       469\n",
            "         1.0     0.6174    0.7065    0.6589       201\n",
            "\n",
            "    accuracy                         0.7806       670\n",
            "   macro avg     0.7417    0.7594    0.7486       670\n",
            "weighted avg     0.7914    0.7806    0.7845       670\n",
            "\n"
          ]
        },
        {
          "output_type": "stream",
          "name": "stderr",
          "text": [
            "<ipython-input-2-f0d979b1a134>:44: UserWarning: To copy construct from a tensor, it is recommended to use sourceTensor.clone().detach() or sourceTensor.clone().detach().requires_grad_(True), rather than torch.tensor(sourceTensor).\n",
            "  'label': torch.tensor(self.label_list[item])\n"
          ]
        },
        {
          "output_type": "stream",
          "name": "stdout",
          "text": [
            "epoch: 22 step: 0/42\n",
            "epoch: 22 step: 4/42\n",
            "epoch: 22 step: 8/42\n",
            "epoch: 22 step: 12/42\n",
            "epoch: 22 step: 16/42\n",
            "epoch: 22 step: 20/42\n",
            "epoch: 22 step: 24/42\n",
            "epoch: 22 step: 28/42\n",
            "epoch: 22 step: 32/42\n",
            "epoch: 22 step: 36/42\n",
            "epoch: 22 step: 40/42\n"
          ]
        },
        {
          "output_type": "stream",
          "name": "stderr",
          "text": [
            "/usr/local/lib/python3.10/dist-packages/sklearn/utils/_array_api.py:185: FutureWarning: The input object of type 'Tensor' is an array-like implementing one of the corresponding protocols (`__array__`, `__array_interface__` or `__array_struct__`); but not a sequence (or 0-D). In the future, this object will be coerced as if it was first converted using `np.array(obj)`. To retain the old behaviour, you have to either modify the type 'Tensor', or assign to an empty array created with `np.empty(correct_shape, dtype=object)`.\n",
            "  array = numpy.asarray(array, order=order, dtype=dtype)\n",
            "/usr/local/lib/python3.10/dist-packages/sklearn/utils/_array_api.py:185: VisibleDeprecationWarning: Creating an ndarray from ragged nested sequences (which is a list-or-tuple of lists-or-tuples-or ndarrays with different lengths or shapes) is deprecated. If you meant to do this, you must specify 'dtype=object' when creating the ndarray.\n",
            "  array = numpy.asarray(array, order=order, dtype=dtype)\n",
            "<ipython-input-2-f0d979b1a134>:44: UserWarning: To copy construct from a tensor, it is recommended to use sourceTensor.clone().detach() or sourceTensor.clone().detach().requires_grad_(True), rather than torch.tensor(sourceTensor).\n",
            "  'label': torch.tensor(self.label_list[item])\n"
          ]
        },
        {
          "output_type": "stream",
          "name": "stdout",
          "text": [
            "test\n",
            "epoch: 22 train_loss: 0.04129924833597172 train_acc: 80.97% train_f1: 74.24%\n"
          ]
        },
        {
          "output_type": "stream",
          "name": "stderr",
          "text": [
            "/usr/local/lib/python3.10/dist-packages/sklearn/utils/_array_api.py:185: FutureWarning: The input object of type 'Tensor' is an array-like implementing one of the corresponding protocols (`__array__`, `__array_interface__` or `__array_struct__`); but not a sequence (or 0-D). In the future, this object will be coerced as if it was first converted using `np.array(obj)`. To retain the old behaviour, you have to either modify the type 'Tensor', or assign to an empty array created with `np.empty(correct_shape, dtype=object)`.\n",
            "  array = numpy.asarray(array, order=order, dtype=dtype)\n",
            "/usr/local/lib/python3.10/dist-packages/sklearn/utils/_array_api.py:185: VisibleDeprecationWarning: Creating an ndarray from ragged nested sequences (which is a list-or-tuple of lists-or-tuples-or ndarrays with different lengths or shapes) is deprecated. If you meant to do this, you must specify 'dtype=object' when creating the ndarray.\n",
            "  array = numpy.asarray(array, order=order, dtype=dtype)\n",
            "<ipython-input-2-f0d979b1a134>:44: UserWarning: To copy construct from a tensor, it is recommended to use sourceTensor.clone().detach() or sourceTensor.clone().detach().requires_grad_(True), rather than torch.tensor(sourceTensor).\n",
            "  'label': torch.tensor(self.label_list[item])\n"
          ]
        },
        {
          "output_type": "stream",
          "name": "stdout",
          "text": [
            "          val_loss: 0.056793117387728256 val_acc 74.63% val_f1: 64.44%\n",
            "BiLSTM_Atten AUC =  0.8337205231836553\n",
            "Specificity =  0.7377398720682303\n",
            "Sensitivity =  0.7661691542288557\n",
            "[INFO] Register count_lstm() for <class 'torch.nn.modules.rnn.LSTM'>.\n",
            "[INFO] Register count_linear() for <class 'torch.nn.modules.linear.Linear'>.\n",
            "[INFO] Register zero_ops() for <class 'torch.nn.modules.activation.ReLU'>.\n",
            "[INFO] Register zero_ops() for <class 'torch.nn.modules.container.Sequential'>.\n",
            "[INFO] Register zero_ops() for <class 'torch.nn.modules.dropout.Dropout'>.\n",
            "Flops: 80358815488.00\n",
            "MLOPS: 184.77\n",
            "              precision    recall  f1-score   support\n",
            "\n",
            "         0.0     0.8804    0.7377    0.8028       469\n",
            "         1.0     0.5560    0.7662    0.6444       201\n",
            "\n",
            "    accuracy                         0.7463       670\n",
            "   macro avg     0.7182    0.7520    0.7236       670\n",
            "weighted avg     0.7831    0.7463    0.7553       670\n",
            "\n",
            "epoch: 23 step: 0/42\n",
            "epoch: 23 step: 4/42\n",
            "epoch: 23 step: 8/42\n",
            "epoch: 23 step: 12/42\n",
            "epoch: 23 step: 16/42\n",
            "epoch: 23 step: 20/42\n",
            "epoch: 23 step: 24/42\n",
            "epoch: 23 step: 28/42\n",
            "epoch: 23 step: 32/42\n",
            "epoch: 23 step: 36/42\n",
            "epoch: 23 step: 40/42\n"
          ]
        },
        {
          "output_type": "stream",
          "name": "stderr",
          "text": [
            "/usr/local/lib/python3.10/dist-packages/sklearn/utils/_array_api.py:185: FutureWarning: The input object of type 'Tensor' is an array-like implementing one of the corresponding protocols (`__array__`, `__array_interface__` or `__array_struct__`); but not a sequence (or 0-D). In the future, this object will be coerced as if it was first converted using `np.array(obj)`. To retain the old behaviour, you have to either modify the type 'Tensor', or assign to an empty array created with `np.empty(correct_shape, dtype=object)`.\n",
            "  array = numpy.asarray(array, order=order, dtype=dtype)\n",
            "/usr/local/lib/python3.10/dist-packages/sklearn/utils/_array_api.py:185: VisibleDeprecationWarning: Creating an ndarray from ragged nested sequences (which is a list-or-tuple of lists-or-tuples-or ndarrays with different lengths or shapes) is deprecated. If you meant to do this, you must specify 'dtype=object' when creating the ndarray.\n",
            "  array = numpy.asarray(array, order=order, dtype=dtype)\n",
            "<ipython-input-2-f0d979b1a134>:44: UserWarning: To copy construct from a tensor, it is recommended to use sourceTensor.clone().detach() or sourceTensor.clone().detach().requires_grad_(True), rather than torch.tensor(sourceTensor).\n",
            "  'label': torch.tensor(self.label_list[item])\n"
          ]
        },
        {
          "output_type": "stream",
          "name": "stdout",
          "text": [
            "test\n",
            "epoch: 23 train_loss: 0.040186162727574505 train_acc: 83.77% train_f1: 74.58%\n"
          ]
        },
        {
          "output_type": "stream",
          "name": "stderr",
          "text": [
            "/usr/local/lib/python3.10/dist-packages/sklearn/utils/_array_api.py:185: FutureWarning: The input object of type 'Tensor' is an array-like implementing one of the corresponding protocols (`__array__`, `__array_interface__` or `__array_struct__`); but not a sequence (or 0-D). In the future, this object will be coerced as if it was first converted using `np.array(obj)`. To retain the old behaviour, you have to either modify the type 'Tensor', or assign to an empty array created with `np.empty(correct_shape, dtype=object)`.\n",
            "  array = numpy.asarray(array, order=order, dtype=dtype)\n",
            "/usr/local/lib/python3.10/dist-packages/sklearn/utils/_array_api.py:185: VisibleDeprecationWarning: Creating an ndarray from ragged nested sequences (which is a list-or-tuple of lists-or-tuples-or ndarrays with different lengths or shapes) is deprecated. If you meant to do this, you must specify 'dtype=object' when creating the ndarray.\n",
            "  array = numpy.asarray(array, order=order, dtype=dtype)\n",
            "<ipython-input-2-f0d979b1a134>:44: UserWarning: To copy construct from a tensor, it is recommended to use sourceTensor.clone().detach() or sourceTensor.clone().detach().requires_grad_(True), rather than torch.tensor(sourceTensor).\n",
            "  'label': torch.tensor(self.label_list[item])\n"
          ]
        },
        {
          "output_type": "stream",
          "name": "stdout",
          "text": [
            "          val_loss: 0.06432021578604524 val_acc 79.40% val_f1: 66.34%\n",
            "BiLSTM_Atten AUC =  0.830538140852242\n",
            "Specificity =  0.8443496801705757\n",
            "Sensitivity =  0.6766169154228856\n",
            "[INFO] Register count_lstm() for <class 'torch.nn.modules.rnn.LSTM'>.\n",
            "[INFO] Register count_linear() for <class 'torch.nn.modules.linear.Linear'>.\n",
            "[INFO] Register zero_ops() for <class 'torch.nn.modules.activation.ReLU'>.\n",
            "[INFO] Register zero_ops() for <class 'torch.nn.modules.container.Sequential'>.\n",
            "[INFO] Register zero_ops() for <class 'torch.nn.modules.dropout.Dropout'>.\n",
            "Flops: 80358815488.00\n",
            "MLOPS: 185.39\n",
            "              precision    recall  f1-score   support\n",
            "\n",
            "         0.0     0.8590    0.8443    0.8516       469\n",
            "         1.0     0.6507    0.6766    0.6634       201\n",
            "\n",
            "    accuracy                         0.7940       670\n",
            "   macro avg     0.7549    0.7605    0.7575       670\n",
            "weighted avg     0.7965    0.7940    0.7952       670\n",
            "\n",
            "epoch: 24 step: 0/42\n",
            "epoch: 24 step: 4/42\n",
            "epoch: 24 step: 8/42\n",
            "epoch: 24 step: 12/42\n",
            "epoch: 24 step: 16/42\n",
            "epoch: 24 step: 20/42\n",
            "epoch: 24 step: 24/42\n",
            "epoch: 24 step: 28/42\n",
            "epoch: 24 step: 32/42\n",
            "epoch: 24 step: 36/42\n",
            "epoch: 24 step: 40/42\n"
          ]
        },
        {
          "output_type": "stream",
          "name": "stderr",
          "text": [
            "/usr/local/lib/python3.10/dist-packages/sklearn/utils/_array_api.py:185: FutureWarning: The input object of type 'Tensor' is an array-like implementing one of the corresponding protocols (`__array__`, `__array_interface__` or `__array_struct__`); but not a sequence (or 0-D). In the future, this object will be coerced as if it was first converted using `np.array(obj)`. To retain the old behaviour, you have to either modify the type 'Tensor', or assign to an empty array created with `np.empty(correct_shape, dtype=object)`.\n",
            "  array = numpy.asarray(array, order=order, dtype=dtype)\n",
            "/usr/local/lib/python3.10/dist-packages/sklearn/utils/_array_api.py:185: VisibleDeprecationWarning: Creating an ndarray from ragged nested sequences (which is a list-or-tuple of lists-or-tuples-or ndarrays with different lengths or shapes) is deprecated. If you meant to do this, you must specify 'dtype=object' when creating the ndarray.\n",
            "  array = numpy.asarray(array, order=order, dtype=dtype)\n",
            "<ipython-input-2-f0d979b1a134>:44: UserWarning: To copy construct from a tensor, it is recommended to use sourceTensor.clone().detach() or sourceTensor.clone().detach().requires_grad_(True), rather than torch.tensor(sourceTensor).\n",
            "  'label': torch.tensor(self.label_list[item])\n"
          ]
        },
        {
          "output_type": "stream",
          "name": "stdout",
          "text": [
            "test\n",
            "epoch: 24 train_loss: 0.038110389995078243 train_acc: 84.40% train_f1: 76.93%\n"
          ]
        },
        {
          "output_type": "stream",
          "name": "stderr",
          "text": [
            "/usr/local/lib/python3.10/dist-packages/sklearn/utils/_array_api.py:185: FutureWarning: The input object of type 'Tensor' is an array-like implementing one of the corresponding protocols (`__array__`, `__array_interface__` or `__array_struct__`); but not a sequence (or 0-D). In the future, this object will be coerced as if it was first converted using `np.array(obj)`. To retain the old behaviour, you have to either modify the type 'Tensor', or assign to an empty array created with `np.empty(correct_shape, dtype=object)`.\n",
            "  array = numpy.asarray(array, order=order, dtype=dtype)\n",
            "/usr/local/lib/python3.10/dist-packages/sklearn/utils/_array_api.py:185: VisibleDeprecationWarning: Creating an ndarray from ragged nested sequences (which is a list-or-tuple of lists-or-tuples-or ndarrays with different lengths or shapes) is deprecated. If you meant to do this, you must specify 'dtype=object' when creating the ndarray.\n",
            "  array = numpy.asarray(array, order=order, dtype=dtype)\n",
            "<ipython-input-2-f0d979b1a134>:44: UserWarning: To copy construct from a tensor, it is recommended to use sourceTensor.clone().detach() or sourceTensor.clone().detach().requires_grad_(True), rather than torch.tensor(sourceTensor).\n",
            "  'label': torch.tensor(self.label_list[item])\n"
          ]
        },
        {
          "output_type": "stream",
          "name": "stdout",
          "text": [
            "          val_loss: 0.0621305528012189 val_acc 78.06% val_f1: 65.89%\n",
            "BiLSTM_Atten AUC =  0.8330946546584772\n",
            "Specificity =  0.8123667377398721\n",
            "Sensitivity =  0.7064676616915423\n",
            "[INFO] Register count_lstm() for <class 'torch.nn.modules.rnn.LSTM'>.\n",
            "[INFO] Register count_linear() for <class 'torch.nn.modules.linear.Linear'>.\n",
            "[INFO] Register zero_ops() for <class 'torch.nn.modules.activation.ReLU'>.\n",
            "[INFO] Register zero_ops() for <class 'torch.nn.modules.container.Sequential'>.\n",
            "[INFO] Register zero_ops() for <class 'torch.nn.modules.dropout.Dropout'>.\n",
            "Flops: 80358815488.00\n",
            "MLOPS: 188.53\n",
            "              precision    recall  f1-score   support\n",
            "\n",
            "         0.0     0.8659    0.8124    0.8383       469\n",
            "         1.0     0.6174    0.7065    0.6589       201\n",
            "\n",
            "    accuracy                         0.7806       670\n",
            "   macro avg     0.7417    0.7594    0.7486       670\n",
            "weighted avg     0.7914    0.7806    0.7845       670\n",
            "\n",
            "epoch: 25 step: 0/42\n",
            "epoch: 25 step: 4/42\n",
            "epoch: 25 step: 8/42\n",
            "epoch: 25 step: 12/42\n",
            "epoch: 25 step: 16/42\n",
            "epoch: 25 step: 20/42\n",
            "epoch: 25 step: 24/42\n",
            "epoch: 25 step: 28/42\n",
            "epoch: 25 step: 32/42\n",
            "epoch: 25 step: 36/42\n",
            "epoch: 25 step: 40/42\n"
          ]
        },
        {
          "output_type": "stream",
          "name": "stderr",
          "text": [
            "/usr/local/lib/python3.10/dist-packages/sklearn/utils/_array_api.py:185: FutureWarning: The input object of type 'Tensor' is an array-like implementing one of the corresponding protocols (`__array__`, `__array_interface__` or `__array_struct__`); but not a sequence (or 0-D). In the future, this object will be coerced as if it was first converted using `np.array(obj)`. To retain the old behaviour, you have to either modify the type 'Tensor', or assign to an empty array created with `np.empty(correct_shape, dtype=object)`.\n",
            "  array = numpy.asarray(array, order=order, dtype=dtype)\n",
            "/usr/local/lib/python3.10/dist-packages/sklearn/utils/_array_api.py:185: VisibleDeprecationWarning: Creating an ndarray from ragged nested sequences (which is a list-or-tuple of lists-or-tuples-or ndarrays with different lengths or shapes) is deprecated. If you meant to do this, you must specify 'dtype=object' when creating the ndarray.\n",
            "  array = numpy.asarray(array, order=order, dtype=dtype)\n"
          ]
        },
        {
          "output_type": "stream",
          "name": "stdout",
          "text": [
            "test\n",
            "epoch: 25 train_loss: 0.036851812863633746 train_acc: 84.74% train_f1: 77.34%\n"
          ]
        },
        {
          "output_type": "stream",
          "name": "stderr",
          "text": [
            "<ipython-input-2-f0d979b1a134>:44: UserWarning: To copy construct from a tensor, it is recommended to use sourceTensor.clone().detach() or sourceTensor.clone().detach().requires_grad_(True), rather than torch.tensor(sourceTensor).\n",
            "  'label': torch.tensor(self.label_list[item])\n",
            "/usr/local/lib/python3.10/dist-packages/sklearn/utils/_array_api.py:185: FutureWarning: The input object of type 'Tensor' is an array-like implementing one of the corresponding protocols (`__array__`, `__array_interface__` or `__array_struct__`); but not a sequence (or 0-D). In the future, this object will be coerced as if it was first converted using `np.array(obj)`. To retain the old behaviour, you have to either modify the type 'Tensor', or assign to an empty array created with `np.empty(correct_shape, dtype=object)`.\n",
            "  array = numpy.asarray(array, order=order, dtype=dtype)\n",
            "/usr/local/lib/python3.10/dist-packages/sklearn/utils/_array_api.py:185: VisibleDeprecationWarning: Creating an ndarray from ragged nested sequences (which is a list-or-tuple of lists-or-tuples-or ndarrays with different lengths or shapes) is deprecated. If you meant to do this, you must specify 'dtype=object' when creating the ndarray.\n",
            "  array = numpy.asarray(array, order=order, dtype=dtype)\n",
            "<ipython-input-2-f0d979b1a134>:44: UserWarning: To copy construct from a tensor, it is recommended to use sourceTensor.clone().detach() or sourceTensor.clone().detach().requires_grad_(True), rather than torch.tensor(sourceTensor).\n",
            "  'label': torch.tensor(self.label_list[item])\n"
          ]
        },
        {
          "output_type": "stream",
          "name": "stdout",
          "text": [
            "          val_loss: 0.0632941983640194 val_acc 78.81% val_f1: 66.82%\n",
            "BiLSTM_Atten AUC =  0.8340811931812155\n",
            "Specificity =  0.8208955223880597\n",
            "Sensitivity =  0.7114427860696517\n",
            "[INFO] Register count_lstm() for <class 'torch.nn.modules.rnn.LSTM'>.\n",
            "[INFO] Register count_linear() for <class 'torch.nn.modules.linear.Linear'>.\n",
            "[INFO] Register zero_ops() for <class 'torch.nn.modules.activation.ReLU'>.\n",
            "[INFO] Register zero_ops() for <class 'torch.nn.modules.container.Sequential'>.\n",
            "[INFO] Register zero_ops() for <class 'torch.nn.modules.dropout.Dropout'>.\n",
            "Flops: 80358815488.00\n",
            "MLOPS: 186.08\n",
            "              precision    recall  f1-score   support\n",
            "\n",
            "         0.0     0.8691    0.8209    0.8443       469\n",
            "         1.0     0.6300    0.7114    0.6682       201\n",
            "\n",
            "    accuracy                         0.7881       670\n",
            "   macro avg     0.7495    0.7662    0.7563       670\n",
            "weighted avg     0.7973    0.7881    0.7915       670\n",
            "\n",
            "epoch: 26 step: 0/42\n",
            "epoch: 26 step: 4/42\n",
            "epoch: 26 step: 8/42\n",
            "epoch: 26 step: 12/42\n",
            "epoch: 26 step: 16/42\n",
            "epoch: 26 step: 20/42\n",
            "epoch: 26 step: 24/42\n",
            "epoch: 26 step: 28/42\n",
            "epoch: 26 step: 32/42\n",
            "epoch: 26 step: 36/42\n",
            "epoch: 26 step: 40/42\n"
          ]
        },
        {
          "output_type": "stream",
          "name": "stderr",
          "text": [
            "/usr/local/lib/python3.10/dist-packages/sklearn/utils/_array_api.py:185: FutureWarning: The input object of type 'Tensor' is an array-like implementing one of the corresponding protocols (`__array__`, `__array_interface__` or `__array_struct__`); but not a sequence (or 0-D). In the future, this object will be coerced as if it was first converted using `np.array(obj)`. To retain the old behaviour, you have to either modify the type 'Tensor', or assign to an empty array created with `np.empty(correct_shape, dtype=object)`.\n",
            "  array = numpy.asarray(array, order=order, dtype=dtype)\n",
            "/usr/local/lib/python3.10/dist-packages/sklearn/utils/_array_api.py:185: VisibleDeprecationWarning: Creating an ndarray from ragged nested sequences (which is a list-or-tuple of lists-or-tuples-or ndarrays with different lengths or shapes) is deprecated. If you meant to do this, you must specify 'dtype=object' when creating the ndarray.\n",
            "  array = numpy.asarray(array, order=order, dtype=dtype)\n",
            "<ipython-input-2-f0d979b1a134>:44: UserWarning: To copy construct from a tensor, it is recommended to use sourceTensor.clone().detach() or sourceTensor.clone().detach().requires_grad_(True), rather than torch.tensor(sourceTensor).\n",
            "  'label': torch.tensor(self.label_list[item])\n"
          ]
        },
        {
          "output_type": "stream",
          "name": "stdout",
          "text": [
            "test\n",
            "epoch: 26 train_loss: 0.03556568259816794 train_acc: 85.04% train_f1: 78.45%\n"
          ]
        },
        {
          "output_type": "stream",
          "name": "stderr",
          "text": [
            "/usr/local/lib/python3.10/dist-packages/sklearn/utils/_array_api.py:185: FutureWarning: The input object of type 'Tensor' is an array-like implementing one of the corresponding protocols (`__array__`, `__array_interface__` or `__array_struct__`); but not a sequence (or 0-D). In the future, this object will be coerced as if it was first converted using `np.array(obj)`. To retain the old behaviour, you have to either modify the type 'Tensor', or assign to an empty array created with `np.empty(correct_shape, dtype=object)`.\n",
            "  array = numpy.asarray(array, order=order, dtype=dtype)\n",
            "/usr/local/lib/python3.10/dist-packages/sklearn/utils/_array_api.py:185: VisibleDeprecationWarning: Creating an ndarray from ragged nested sequences (which is a list-or-tuple of lists-or-tuples-or ndarrays with different lengths or shapes) is deprecated. If you meant to do this, you must specify 'dtype=object' when creating the ndarray.\n",
            "  array = numpy.asarray(array, order=order, dtype=dtype)\n"
          ]
        },
        {
          "output_type": "stream",
          "name": "stdout",
          "text": [
            "          val_loss: 0.06151673671874133 val_acc 77.31% val_f1: 65.61%\n",
            "BiLSTM_Atten AUC =  0.8365316275764036\n",
            "Specificity =  0.7953091684434968\n",
            "Sensitivity =  0.7213930348258707\n",
            "[INFO] Register count_lstm() for <class 'torch.nn.modules.rnn.LSTM'>.\n",
            "[INFO] Register count_linear() for <class 'torch.nn.modules.linear.Linear'>.\n",
            "[INFO] Register zero_ops() for <class 'torch.nn.modules.activation.ReLU'>.\n",
            "[INFO] Register zero_ops() for <class 'torch.nn.modules.container.Sequential'>.\n",
            "[INFO] Register zero_ops() for <class 'torch.nn.modules.dropout.Dropout'>.\n",
            "Flops: 80358815488.00\n",
            "MLOPS: 186.84\n",
            "              precision    recall  f1-score   support\n",
            "\n",
            "         0.0     0.8695    0.7953    0.8307       469\n",
            "         1.0     0.6017    0.7214    0.6561       201\n",
            "\n",
            "    accuracy                         0.7731       670\n",
            "   macro avg     0.7356    0.7584    0.7434       670\n",
            "weighted avg     0.7891    0.7731    0.7783       670\n",
            "\n"
          ]
        },
        {
          "output_type": "stream",
          "name": "stderr",
          "text": [
            "<ipython-input-2-f0d979b1a134>:44: UserWarning: To copy construct from a tensor, it is recommended to use sourceTensor.clone().detach() or sourceTensor.clone().detach().requires_grad_(True), rather than torch.tensor(sourceTensor).\n",
            "  'label': torch.tensor(self.label_list[item])\n"
          ]
        },
        {
          "output_type": "stream",
          "name": "stdout",
          "text": [
            "epoch: 27 step: 0/42\n",
            "epoch: 27 step: 4/42\n",
            "epoch: 27 step: 8/42\n",
            "epoch: 27 step: 12/42\n",
            "epoch: 27 step: 16/42\n",
            "epoch: 27 step: 20/42\n",
            "epoch: 27 step: 24/42\n",
            "epoch: 27 step: 28/42\n",
            "epoch: 27 step: 32/42\n",
            "epoch: 27 step: 36/42\n",
            "epoch: 27 step: 40/42\n"
          ]
        },
        {
          "output_type": "stream",
          "name": "stderr",
          "text": [
            "/usr/local/lib/python3.10/dist-packages/sklearn/utils/_array_api.py:185: FutureWarning: The input object of type 'Tensor' is an array-like implementing one of the corresponding protocols (`__array__`, `__array_interface__` or `__array_struct__`); but not a sequence (or 0-D). In the future, this object will be coerced as if it was first converted using `np.array(obj)`. To retain the old behaviour, you have to either modify the type 'Tensor', or assign to an empty array created with `np.empty(correct_shape, dtype=object)`.\n",
            "  array = numpy.asarray(array, order=order, dtype=dtype)\n",
            "/usr/local/lib/python3.10/dist-packages/sklearn/utils/_array_api.py:185: VisibleDeprecationWarning: Creating an ndarray from ragged nested sequences (which is a list-or-tuple of lists-or-tuples-or ndarrays with different lengths or shapes) is deprecated. If you meant to do this, you must specify 'dtype=object' when creating the ndarray.\n",
            "  array = numpy.asarray(array, order=order, dtype=dtype)\n",
            "<ipython-input-2-f0d979b1a134>:44: UserWarning: To copy construct from a tensor, it is recommended to use sourceTensor.clone().detach() or sourceTensor.clone().detach().requires_grad_(True), rather than torch.tensor(sourceTensor).\n",
            "  'label': torch.tensor(self.label_list[item])\n"
          ]
        },
        {
          "output_type": "stream",
          "name": "stdout",
          "text": [
            "test\n",
            "epoch: 27 train_loss: 0.03527791075231064 train_acc: 86.53% train_f1: 78.78%\n"
          ]
        },
        {
          "output_type": "stream",
          "name": "stderr",
          "text": [
            "/usr/local/lib/python3.10/dist-packages/sklearn/utils/_array_api.py:185: FutureWarning: The input object of type 'Tensor' is an array-like implementing one of the corresponding protocols (`__array__`, `__array_interface__` or `__array_struct__`); but not a sequence (or 0-D). In the future, this object will be coerced as if it was first converted using `np.array(obj)`. To retain the old behaviour, you have to either modify the type 'Tensor', or assign to an empty array created with `np.empty(correct_shape, dtype=object)`.\n",
            "  array = numpy.asarray(array, order=order, dtype=dtype)\n",
            "/usr/local/lib/python3.10/dist-packages/sklearn/utils/_array_api.py:185: VisibleDeprecationWarning: Creating an ndarray from ragged nested sequences (which is a list-or-tuple of lists-or-tuples-or ndarrays with different lengths or shapes) is deprecated. If you meant to do this, you must specify 'dtype=object' when creating the ndarray.\n",
            "  array = numpy.asarray(array, order=order, dtype=dtype)\n",
            "<ipython-input-2-f0d979b1a134>:44: UserWarning: To copy construct from a tensor, it is recommended to use sourceTensor.clone().detach() or sourceTensor.clone().detach().requires_grad_(True), rather than torch.tensor(sourceTensor).\n",
            "  'label': torch.tensor(self.label_list[item])\n"
          ]
        },
        {
          "output_type": "stream",
          "name": "stdout",
          "text": [
            "          val_loss: 0.06883257695219734 val_acc 80.30% val_f1: 67.65%\n",
            "BiLSTM_Atten AUC =  0.8362770369898906\n",
            "Specificity =  0.8528784648187633\n",
            "Sensitivity =  0.6865671641791045\n",
            "[INFO] Register count_lstm() for <class 'torch.nn.modules.rnn.LSTM'>.\n",
            "[INFO] Register count_linear() for <class 'torch.nn.modules.linear.Linear'>.\n",
            "[INFO] Register zero_ops() for <class 'torch.nn.modules.activation.ReLU'>.\n",
            "[INFO] Register zero_ops() for <class 'torch.nn.modules.container.Sequential'>.\n",
            "[INFO] Register zero_ops() for <class 'torch.nn.modules.dropout.Dropout'>.\n",
            "Flops: 80358815488.00\n",
            "MLOPS: 184.67\n",
            "              precision    recall  f1-score   support\n",
            "\n",
            "         0.0     0.8639    0.8529    0.8584       469\n",
            "         1.0     0.6667    0.6866    0.6765       201\n",
            "\n",
            "    accuracy                         0.8030       670\n",
            "   macro avg     0.7653    0.7697    0.7674       670\n",
            "weighted avg     0.8048    0.8030    0.8038       670\n",
            "\n",
            "epoch: 28 step: 0/42\n",
            "epoch: 28 step: 4/42\n",
            "epoch: 28 step: 8/42\n",
            "epoch: 28 step: 12/42\n",
            "epoch: 28 step: 16/42\n",
            "epoch: 28 step: 20/42\n",
            "epoch: 28 step: 24/42\n",
            "epoch: 28 step: 28/42\n",
            "epoch: 28 step: 32/42\n",
            "epoch: 28 step: 36/42\n",
            "epoch: 28 step: 40/42\n"
          ]
        },
        {
          "output_type": "stream",
          "name": "stderr",
          "text": [
            "/usr/local/lib/python3.10/dist-packages/sklearn/utils/_array_api.py:185: FutureWarning: The input object of type 'Tensor' is an array-like implementing one of the corresponding protocols (`__array__`, `__array_interface__` or `__array_struct__`); but not a sequence (or 0-D). In the future, this object will be coerced as if it was first converted using `np.array(obj)`. To retain the old behaviour, you have to either modify the type 'Tensor', or assign to an empty array created with `np.empty(correct_shape, dtype=object)`.\n",
            "  array = numpy.asarray(array, order=order, dtype=dtype)\n",
            "/usr/local/lib/python3.10/dist-packages/sklearn/utils/_array_api.py:185: VisibleDeprecationWarning: Creating an ndarray from ragged nested sequences (which is a list-or-tuple of lists-or-tuples-or ndarrays with different lengths or shapes) is deprecated. If you meant to do this, you must specify 'dtype=object' when creating the ndarray.\n",
            "  array = numpy.asarray(array, order=order, dtype=dtype)\n"
          ]
        },
        {
          "output_type": "stream",
          "name": "stdout",
          "text": [
            "test\n",
            "epoch: 28 train_loss: 0.03346495423465967 train_acc: 85.37% train_f1: 79.32%\n"
          ]
        },
        {
          "output_type": "stream",
          "name": "stderr",
          "text": [
            "<ipython-input-2-f0d979b1a134>:44: UserWarning: To copy construct from a tensor, it is recommended to use sourceTensor.clone().detach() or sourceTensor.clone().detach().requires_grad_(True), rather than torch.tensor(sourceTensor).\n",
            "  'label': torch.tensor(self.label_list[item])\n",
            "/usr/local/lib/python3.10/dist-packages/sklearn/utils/_array_api.py:185: FutureWarning: The input object of type 'Tensor' is an array-like implementing one of the corresponding protocols (`__array__`, `__array_interface__` or `__array_struct__`); but not a sequence (or 0-D). In the future, this object will be coerced as if it was first converted using `np.array(obj)`. To retain the old behaviour, you have to either modify the type 'Tensor', or assign to an empty array created with `np.empty(correct_shape, dtype=object)`.\n",
            "  array = numpy.asarray(array, order=order, dtype=dtype)\n",
            "/usr/local/lib/python3.10/dist-packages/sklearn/utils/_array_api.py:185: VisibleDeprecationWarning: Creating an ndarray from ragged nested sequences (which is a list-or-tuple of lists-or-tuples-or ndarrays with different lengths or shapes) is deprecated. If you meant to do this, you must specify 'dtype=object' when creating the ndarray.\n",
            "  array = numpy.asarray(array, order=order, dtype=dtype)\n",
            "<ipython-input-2-f0d979b1a134>:44: UserWarning: To copy construct from a tensor, it is recommended to use sourceTensor.clone().detach() or sourceTensor.clone().detach().requires_grad_(True), rather than torch.tensor(sourceTensor).\n",
            "  'label': torch.tensor(self.label_list[item])\n"
          ]
        },
        {
          "output_type": "stream",
          "name": "stdout",
          "text": [
            "          val_loss: 0.06012920256365429 val_acc 75.07% val_f1: 64.09%\n",
            "BiLSTM_Atten AUC =  0.8421750522441099\n",
            "Specificity =  0.7547974413646056\n",
            "Sensitivity =  0.7412935323383084\n",
            "[INFO] Register count_lstm() for <class 'torch.nn.modules.rnn.LSTM'>.\n",
            "[INFO] Register count_linear() for <class 'torch.nn.modules.linear.Linear'>.\n",
            "[INFO] Register zero_ops() for <class 'torch.nn.modules.activation.ReLU'>.\n",
            "[INFO] Register zero_ops() for <class 'torch.nn.modules.container.Sequential'>.\n",
            "[INFO] Register zero_ops() for <class 'torch.nn.modules.dropout.Dropout'>.\n",
            "Flops: 80358815488.00\n",
            "MLOPS: 186.29\n",
            "              precision    recall  f1-score   support\n",
            "\n",
            "         0.0     0.8719    0.7548    0.8091       469\n",
            "         1.0     0.5644    0.7413    0.6409       201\n",
            "\n",
            "    accuracy                         0.7507       670\n",
            "   macro avg     0.7182    0.7480    0.7250       670\n",
            "weighted avg     0.7797    0.7507    0.7587       670\n",
            "\n",
            "epoch: 29 step: 0/42\n",
            "epoch: 29 step: 4/42\n",
            "epoch: 29 step: 8/42\n",
            "epoch: 29 step: 12/42\n",
            "epoch: 29 step: 16/42\n",
            "epoch: 29 step: 20/42\n",
            "epoch: 29 step: 24/42\n",
            "epoch: 29 step: 28/42\n",
            "epoch: 29 step: 32/42\n",
            "epoch: 29 step: 36/42\n",
            "epoch: 29 step: 40/42\n"
          ]
        },
        {
          "output_type": "stream",
          "name": "stderr",
          "text": [
            "/usr/local/lib/python3.10/dist-packages/sklearn/utils/_array_api.py:185: FutureWarning: The input object of type 'Tensor' is an array-like implementing one of the corresponding protocols (`__array__`, `__array_interface__` or `__array_struct__`); but not a sequence (or 0-D). In the future, this object will be coerced as if it was first converted using `np.array(obj)`. To retain the old behaviour, you have to either modify the type 'Tensor', or assign to an empty array created with `np.empty(correct_shape, dtype=object)`.\n",
            "  array = numpy.asarray(array, order=order, dtype=dtype)\n",
            "/usr/local/lib/python3.10/dist-packages/sklearn/utils/_array_api.py:185: VisibleDeprecationWarning: Creating an ndarray from ragged nested sequences (which is a list-or-tuple of lists-or-tuples-or ndarrays with different lengths or shapes) is deprecated. If you meant to do this, you must specify 'dtype=object' when creating the ndarray.\n",
            "  array = numpy.asarray(array, order=order, dtype=dtype)\n",
            "<ipython-input-2-f0d979b1a134>:44: UserWarning: To copy construct from a tensor, it is recommended to use sourceTensor.clone().detach() or sourceTensor.clone().detach().requires_grad_(True), rather than torch.tensor(sourceTensor).\n",
            "  'label': torch.tensor(self.label_list[item])\n"
          ]
        },
        {
          "output_type": "stream",
          "name": "stdout",
          "text": [
            "test\n",
            "epoch: 29 train_loss: 0.03275953415071681 train_acc: 87.65% train_f1: 80.56%\n"
          ]
        },
        {
          "output_type": "stream",
          "name": "stderr",
          "text": [
            "/usr/local/lib/python3.10/dist-packages/sklearn/utils/_array_api.py:185: FutureWarning: The input object of type 'Tensor' is an array-like implementing one of the corresponding protocols (`__array__`, `__array_interface__` or `__array_struct__`); but not a sequence (or 0-D). In the future, this object will be coerced as if it was first converted using `np.array(obj)`. To retain the old behaviour, you have to either modify the type 'Tensor', or assign to an empty array created with `np.empty(correct_shape, dtype=object)`.\n",
            "  array = numpy.asarray(array, order=order, dtype=dtype)\n",
            "/usr/local/lib/python3.10/dist-packages/sklearn/utils/_array_api.py:185: VisibleDeprecationWarning: Creating an ndarray from ragged nested sequences (which is a list-or-tuple of lists-or-tuples-or ndarrays with different lengths or shapes) is deprecated. If you meant to do this, you must specify 'dtype=object' when creating the ndarray.\n",
            "  array = numpy.asarray(array, order=order, dtype=dtype)\n",
            "<ipython-input-2-f0d979b1a134>:44: UserWarning: To copy construct from a tensor, it is recommended to use sourceTensor.clone().detach() or sourceTensor.clone().detach().requires_grad_(True), rather than torch.tensor(sourceTensor).\n",
            "  'label': torch.tensor(self.label_list[item])\n"
          ]
        },
        {
          "output_type": "stream",
          "name": "stdout",
          "text": [
            "          val_loss: 0.08071541041135788 val_acc 80.00% val_f1: 67.16%\n",
            "BiLSTM_Atten AUC =  0.8347070617063934\n",
            "Specificity =  0.8507462686567164\n",
            "Sensitivity =  0.681592039800995\n",
            "[INFO] Register count_lstm() for <class 'torch.nn.modules.rnn.LSTM'>.\n",
            "[INFO] Register count_linear() for <class 'torch.nn.modules.linear.Linear'>.\n",
            "[INFO] Register zero_ops() for <class 'torch.nn.modules.activation.ReLU'>.\n",
            "[INFO] Register zero_ops() for <class 'torch.nn.modules.container.Sequential'>.\n",
            "[INFO] Register zero_ops() for <class 'torch.nn.modules.dropout.Dropout'>.\n",
            "Flops: 80358815488.00\n",
            "MLOPS: 187.88\n",
            "              precision    recall  f1-score   support\n",
            "\n",
            "         0.0     0.8618    0.8507    0.8562       469\n",
            "         1.0     0.6618    0.6816    0.6716       201\n",
            "\n",
            "    accuracy                         0.8000       670\n",
            "   macro avg     0.7618    0.7662    0.7639       670\n",
            "weighted avg     0.8018    0.8000    0.8008       670\n",
            "\n",
            "epoch: 30 step: 0/42\n",
            "epoch: 30 step: 4/42\n",
            "epoch: 30 step: 8/42\n",
            "epoch: 30 step: 12/42\n",
            "epoch: 30 step: 16/42\n",
            "epoch: 30 step: 20/42\n",
            "epoch: 30 step: 24/42\n",
            "epoch: 30 step: 28/42\n",
            "epoch: 30 step: 32/42\n",
            "epoch: 30 step: 36/42\n",
            "epoch: 30 step: 40/42\n"
          ]
        },
        {
          "output_type": "stream",
          "name": "stderr",
          "text": [
            "/usr/local/lib/python3.10/dist-packages/sklearn/utils/_array_api.py:185: FutureWarning: The input object of type 'Tensor' is an array-like implementing one of the corresponding protocols (`__array__`, `__array_interface__` or `__array_struct__`); but not a sequence (or 0-D). In the future, this object will be coerced as if it was first converted using `np.array(obj)`. To retain the old behaviour, you have to either modify the type 'Tensor', or assign to an empty array created with `np.empty(correct_shape, dtype=object)`.\n",
            "  array = numpy.asarray(array, order=order, dtype=dtype)\n",
            "/usr/local/lib/python3.10/dist-packages/sklearn/utils/_array_api.py:185: VisibleDeprecationWarning: Creating an ndarray from ragged nested sequences (which is a list-or-tuple of lists-or-tuples-or ndarrays with different lengths or shapes) is deprecated. If you meant to do this, you must specify 'dtype=object' when creating the ndarray.\n",
            "  array = numpy.asarray(array, order=order, dtype=dtype)\n"
          ]
        },
        {
          "output_type": "stream",
          "name": "stdout",
          "text": [
            "test\n",
            "epoch: 30 train_loss: 0.030552159994840622 train_acc: 87.54% train_f1: 80.89%\n"
          ]
        },
        {
          "output_type": "stream",
          "name": "stderr",
          "text": [
            "<ipython-input-2-f0d979b1a134>:44: UserWarning: To copy construct from a tensor, it is recommended to use sourceTensor.clone().detach() or sourceTensor.clone().detach().requires_grad_(True), rather than torch.tensor(sourceTensor).\n",
            "  'label': torch.tensor(self.label_list[item])\n",
            "/usr/local/lib/python3.10/dist-packages/sklearn/utils/_array_api.py:185: FutureWarning: The input object of type 'Tensor' is an array-like implementing one of the corresponding protocols (`__array__`, `__array_interface__` or `__array_struct__`); but not a sequence (or 0-D). In the future, this object will be coerced as if it was first converted using `np.array(obj)`. To retain the old behaviour, you have to either modify the type 'Tensor', or assign to an empty array created with `np.empty(correct_shape, dtype=object)`.\n",
            "  array = numpy.asarray(array, order=order, dtype=dtype)\n",
            "/usr/local/lib/python3.10/dist-packages/sklearn/utils/_array_api.py:185: VisibleDeprecationWarning: Creating an ndarray from ragged nested sequences (which is a list-or-tuple of lists-or-tuples-or ndarrays with different lengths or shapes) is deprecated. If you meant to do this, you must specify 'dtype=object' when creating the ndarray.\n",
            "  array = numpy.asarray(array, order=order, dtype=dtype)\n",
            "<ipython-input-2-f0d979b1a134>:44: UserWarning: To copy construct from a tensor, it is recommended to use sourceTensor.clone().detach() or sourceTensor.clone().detach().requires_grad_(True), rather than torch.tensor(sourceTensor).\n",
            "  'label': torch.tensor(self.label_list[item])\n"
          ]
        },
        {
          "output_type": "stream",
          "name": "stdout",
          "text": [
            "          val_loss: 0.08087178489023988 val_acc 78.81% val_f1: 66.35%\n",
            "BiLSTM_Atten AUC =  0.8384834887396705\n",
            "Specificity =  0.8272921108742004\n",
            "Sensitivity =  0.6965174129353234\n",
            "[INFO] Register count_lstm() for <class 'torch.nn.modules.rnn.LSTM'>.\n",
            "[INFO] Register count_linear() for <class 'torch.nn.modules.linear.Linear'>.\n",
            "[INFO] Register zero_ops() for <class 'torch.nn.modules.activation.ReLU'>.\n",
            "[INFO] Register zero_ops() for <class 'torch.nn.modules.container.Sequential'>.\n",
            "[INFO] Register zero_ops() for <class 'torch.nn.modules.dropout.Dropout'>.\n",
            "Flops: 80358815488.00\n",
            "MLOPS: 185.92\n",
            "              precision    recall  f1-score   support\n",
            "\n",
            "         0.0     0.8641    0.8273    0.8453       469\n",
            "         1.0     0.6335    0.6965    0.6635       201\n",
            "\n",
            "    accuracy                         0.7881       670\n",
            "   macro avg     0.7488    0.7619    0.7544       670\n",
            "weighted avg     0.7949    0.7881    0.7908       670\n",
            "\n",
            "epoch: 31 step: 0/42\n",
            "epoch: 31 step: 4/42\n",
            "epoch: 31 step: 8/42\n",
            "epoch: 31 step: 12/42\n",
            "epoch: 31 step: 16/42\n",
            "epoch: 31 step: 20/42\n",
            "epoch: 31 step: 24/42\n",
            "epoch: 31 step: 28/42\n",
            "epoch: 31 step: 32/42\n",
            "epoch: 31 step: 36/42\n",
            "epoch: 31 step: 40/42\n"
          ]
        },
        {
          "output_type": "stream",
          "name": "stderr",
          "text": [
            "/usr/local/lib/python3.10/dist-packages/sklearn/utils/_array_api.py:185: FutureWarning: The input object of type 'Tensor' is an array-like implementing one of the corresponding protocols (`__array__`, `__array_interface__` or `__array_struct__`); but not a sequence (or 0-D). In the future, this object will be coerced as if it was first converted using `np.array(obj)`. To retain the old behaviour, you have to either modify the type 'Tensor', or assign to an empty array created with `np.empty(correct_shape, dtype=object)`.\n",
            "  array = numpy.asarray(array, order=order, dtype=dtype)\n",
            "/usr/local/lib/python3.10/dist-packages/sklearn/utils/_array_api.py:185: VisibleDeprecationWarning: Creating an ndarray from ragged nested sequences (which is a list-or-tuple of lists-or-tuples-or ndarrays with different lengths or shapes) is deprecated. If you meant to do this, you must specify 'dtype=object' when creating the ndarray.\n",
            "  array = numpy.asarray(array, order=order, dtype=dtype)\n",
            "<ipython-input-2-f0d979b1a134>:44: UserWarning: To copy construct from a tensor, it is recommended to use sourceTensor.clone().detach() or sourceTensor.clone().detach().requires_grad_(True), rather than torch.tensor(sourceTensor).\n",
            "  'label': torch.tensor(self.label_list[item])\n"
          ]
        },
        {
          "output_type": "stream",
          "name": "stdout",
          "text": [
            "test\n",
            "epoch: 31 train_loss: 0.028649085999599526 train_acc: 88.81% train_f1: 82.84%\n"
          ]
        },
        {
          "output_type": "stream",
          "name": "stderr",
          "text": [
            "/usr/local/lib/python3.10/dist-packages/sklearn/utils/_array_api.py:185: FutureWarning: The input object of type 'Tensor' is an array-like implementing one of the corresponding protocols (`__array__`, `__array_interface__` or `__array_struct__`); but not a sequence (or 0-D). In the future, this object will be coerced as if it was first converted using `np.array(obj)`. To retain the old behaviour, you have to either modify the type 'Tensor', or assign to an empty array created with `np.empty(correct_shape, dtype=object)`.\n",
            "  array = numpy.asarray(array, order=order, dtype=dtype)\n",
            "/usr/local/lib/python3.10/dist-packages/sklearn/utils/_array_api.py:185: VisibleDeprecationWarning: Creating an ndarray from ragged nested sequences (which is a list-or-tuple of lists-or-tuples-or ndarrays with different lengths or shapes) is deprecated. If you meant to do this, you must specify 'dtype=object' when creating the ndarray.\n",
            "  array = numpy.asarray(array, order=order, dtype=dtype)\n",
            "<ipython-input-2-f0d979b1a134>:44: UserWarning: To copy construct from a tensor, it is recommended to use sourceTensor.clone().detach() or sourceTensor.clone().detach().requires_grad_(True), rather than torch.tensor(sourceTensor).\n",
            "  'label': torch.tensor(self.label_list[item])\n"
          ]
        },
        {
          "output_type": "stream",
          "name": "stdout",
          "text": [
            "          val_loss: 0.07483779334209183 val_acc 79.85% val_f1: 67.63%\n",
            "BiLSTM_Atten AUC =  0.8423978190073088\n",
            "Specificity =  0.8400852878464818\n",
            "Sensitivity =  0.7014925373134329\n",
            "[INFO] Register count_lstm() for <class 'torch.nn.modules.rnn.LSTM'>.\n",
            "[INFO] Register count_linear() for <class 'torch.nn.modules.linear.Linear'>.\n",
            "[INFO] Register zero_ops() for <class 'torch.nn.modules.activation.ReLU'>.\n",
            "[INFO] Register zero_ops() for <class 'torch.nn.modules.container.Sequential'>.\n",
            "[INFO] Register zero_ops() for <class 'torch.nn.modules.dropout.Dropout'>.\n",
            "Flops: 80358815488.00\n",
            "MLOPS: 181.74\n",
            "              precision    recall  f1-score   support\n",
            "\n",
            "         0.0     0.8678    0.8401    0.8537       469\n",
            "         1.0     0.6528    0.7015    0.6763       201\n",
            "\n",
            "    accuracy                         0.7985       670\n",
            "   macro avg     0.7603    0.7708    0.7650       670\n",
            "weighted avg     0.8033    0.7985    0.8005       670\n",
            "\n",
            "epoch: 32 step: 0/42\n",
            "epoch: 32 step: 4/42\n",
            "epoch: 32 step: 8/42\n",
            "epoch: 32 step: 12/42\n",
            "epoch: 32 step: 16/42\n",
            "epoch: 32 step: 20/42\n",
            "epoch: 32 step: 24/42\n",
            "epoch: 32 step: 28/42\n",
            "epoch: 32 step: 32/42\n",
            "epoch: 32 step: 36/42\n",
            "epoch: 32 step: 40/42\n"
          ]
        },
        {
          "output_type": "stream",
          "name": "stderr",
          "text": [
            "/usr/local/lib/python3.10/dist-packages/sklearn/utils/_array_api.py:185: FutureWarning: The input object of type 'Tensor' is an array-like implementing one of the corresponding protocols (`__array__`, `__array_interface__` or `__array_struct__`); but not a sequence (or 0-D). In the future, this object will be coerced as if it was first converted using `np.array(obj)`. To retain the old behaviour, you have to either modify the type 'Tensor', or assign to an empty array created with `np.empty(correct_shape, dtype=object)`.\n",
            "  array = numpy.asarray(array, order=order, dtype=dtype)\n",
            "/usr/local/lib/python3.10/dist-packages/sklearn/utils/_array_api.py:185: VisibleDeprecationWarning: Creating an ndarray from ragged nested sequences (which is a list-or-tuple of lists-or-tuples-or ndarrays with different lengths or shapes) is deprecated. If you meant to do this, you must specify 'dtype=object' when creating the ndarray.\n",
            "  array = numpy.asarray(array, order=order, dtype=dtype)\n",
            "<ipython-input-2-f0d979b1a134>:44: UserWarning: To copy construct from a tensor, it is recommended to use sourceTensor.clone().detach() or sourceTensor.clone().detach().requires_grad_(True), rather than torch.tensor(sourceTensor).\n",
            "  'label': torch.tensor(self.label_list[item])\n"
          ]
        },
        {
          "output_type": "stream",
          "name": "stdout",
          "text": [
            "test\n",
            "epoch: 32 train_loss: 0.027071843722036908 train_acc: 89.66% train_f1: 84.07%\n"
          ]
        },
        {
          "output_type": "stream",
          "name": "stderr",
          "text": [
            "/usr/local/lib/python3.10/dist-packages/sklearn/utils/_array_api.py:185: FutureWarning: The input object of type 'Tensor' is an array-like implementing one of the corresponding protocols (`__array__`, `__array_interface__` or `__array_struct__`); but not a sequence (or 0-D). In the future, this object will be coerced as if it was first converted using `np.array(obj)`. To retain the old behaviour, you have to either modify the type 'Tensor', or assign to an empty array created with `np.empty(correct_shape, dtype=object)`.\n",
            "  array = numpy.asarray(array, order=order, dtype=dtype)\n",
            "/usr/local/lib/python3.10/dist-packages/sklearn/utils/_array_api.py:185: VisibleDeprecationWarning: Creating an ndarray from ragged nested sequences (which is a list-or-tuple of lists-or-tuples-or ndarrays with different lengths or shapes) is deprecated. If you meant to do this, you must specify 'dtype=object' when creating the ndarray.\n",
            "  array = numpy.asarray(array, order=order, dtype=dtype)\n",
            "<ipython-input-2-f0d979b1a134>:44: UserWarning: To copy construct from a tensor, it is recommended to use sourceTensor.clone().detach() or sourceTensor.clone().detach().requires_grad_(True), rather than torch.tensor(sourceTensor).\n",
            "  'label': torch.tensor(self.label_list[item])\n"
          ]
        },
        {
          "output_type": "stream",
          "name": "stdout",
          "text": [
            "          val_loss: 0.08088338138027625 val_acc 79.25% val_f1: 66.83%\n",
            "BiLSTM_Atten AUC =  0.8402656228452621\n",
            "Specificity =  0.8336886993603412\n",
            "Sensitivity =  0.6965174129353234\n",
            "[INFO] Register count_lstm() for <class 'torch.nn.modules.rnn.LSTM'>.\n",
            "[INFO] Register count_linear() for <class 'torch.nn.modules.linear.Linear'>.\n",
            "[INFO] Register zero_ops() for <class 'torch.nn.modules.activation.ReLU'>.\n",
            "[INFO] Register zero_ops() for <class 'torch.nn.modules.container.Sequential'>.\n",
            "[INFO] Register zero_ops() for <class 'torch.nn.modules.dropout.Dropout'>.\n",
            "Flops: 80358815488.00\n",
            "MLOPS: 185.39\n",
            "              precision    recall  f1-score   support\n",
            "\n",
            "         0.0     0.8650    0.8337    0.8491       469\n",
            "         1.0     0.6422    0.6965    0.6683       201\n",
            "\n",
            "    accuracy                         0.7925       670\n",
            "   macro avg     0.7536    0.7651    0.7587       670\n",
            "weighted avg     0.7982    0.7925    0.7948       670\n",
            "\n",
            "epoch: 33 step: 0/42\n",
            "epoch: 33 step: 4/42\n",
            "epoch: 33 step: 8/42\n",
            "epoch: 33 step: 12/42\n",
            "epoch: 33 step: 16/42\n",
            "epoch: 33 step: 20/42\n",
            "epoch: 33 step: 24/42\n",
            "epoch: 33 step: 28/42\n",
            "epoch: 33 step: 32/42\n",
            "epoch: 33 step: 36/42\n",
            "epoch: 33 step: 40/42\n"
          ]
        },
        {
          "output_type": "stream",
          "name": "stderr",
          "text": [
            "/usr/local/lib/python3.10/dist-packages/sklearn/utils/_array_api.py:185: FutureWarning: The input object of type 'Tensor' is an array-like implementing one of the corresponding protocols (`__array__`, `__array_interface__` or `__array_struct__`); but not a sequence (or 0-D). In the future, this object will be coerced as if it was first converted using `np.array(obj)`. To retain the old behaviour, you have to either modify the type 'Tensor', or assign to an empty array created with `np.empty(correct_shape, dtype=object)`.\n",
            "  array = numpy.asarray(array, order=order, dtype=dtype)\n",
            "/usr/local/lib/python3.10/dist-packages/sklearn/utils/_array_api.py:185: VisibleDeprecationWarning: Creating an ndarray from ragged nested sequences (which is a list-or-tuple of lists-or-tuples-or ndarrays with different lengths or shapes) is deprecated. If you meant to do this, you must specify 'dtype=object' when creating the ndarray.\n",
            "  array = numpy.asarray(array, order=order, dtype=dtype)\n",
            "<ipython-input-2-f0d979b1a134>:44: UserWarning: To copy construct from a tensor, it is recommended to use sourceTensor.clone().detach() or sourceTensor.clone().detach().requires_grad_(True), rather than torch.tensor(sourceTensor).\n",
            "  'label': torch.tensor(self.label_list[item])\n"
          ]
        },
        {
          "output_type": "stream",
          "name": "stdout",
          "text": [
            "test\n",
            "epoch: 33 train_loss: 0.026117150272641863 train_acc: 90.15% train_f1: 84.91%\n"
          ]
        },
        {
          "output_type": "stream",
          "name": "stderr",
          "text": [
            "/usr/local/lib/python3.10/dist-packages/sklearn/utils/_array_api.py:185: FutureWarning: The input object of type 'Tensor' is an array-like implementing one of the corresponding protocols (`__array__`, `__array_interface__` or `__array_struct__`); but not a sequence (or 0-D). In the future, this object will be coerced as if it was first converted using `np.array(obj)`. To retain the old behaviour, you have to either modify the type 'Tensor', or assign to an empty array created with `np.empty(correct_shape, dtype=object)`.\n",
            "  array = numpy.asarray(array, order=order, dtype=dtype)\n",
            "/usr/local/lib/python3.10/dist-packages/sklearn/utils/_array_api.py:185: VisibleDeprecationWarning: Creating an ndarray from ragged nested sequences (which is a list-or-tuple of lists-or-tuples-or ndarrays with different lengths or shapes) is deprecated. If you meant to do this, you must specify 'dtype=object' when creating the ndarray.\n",
            "  array = numpy.asarray(array, order=order, dtype=dtype)\n",
            "<ipython-input-2-f0d979b1a134>:44: UserWarning: To copy construct from a tensor, it is recommended to use sourceTensor.clone().detach() or sourceTensor.clone().detach().requires_grad_(True), rather than torch.tensor(sourceTensor).\n",
            "  'label': torch.tensor(self.label_list[item])\n"
          ]
        },
        {
          "output_type": "stream",
          "name": "stdout",
          "text": [
            "          val_loss: 0.0770655714652755 val_acc 78.96% val_f1: 66.82%\n",
            "BiLSTM_Atten AUC =  0.8423447793017854\n",
            "Specificity =  0.8251599147121536\n",
            "Sensitivity =  0.7064676616915423\n",
            "[INFO] Register count_lstm() for <class 'torch.nn.modules.rnn.LSTM'>.\n",
            "[INFO] Register count_linear() for <class 'torch.nn.modules.linear.Linear'>.\n",
            "[INFO] Register zero_ops() for <class 'torch.nn.modules.activation.ReLU'>.\n",
            "[INFO] Register zero_ops() for <class 'torch.nn.modules.container.Sequential'>.\n",
            "[INFO] Register zero_ops() for <class 'torch.nn.modules.dropout.Dropout'>.\n",
            "Flops: 80358815488.00\n",
            "MLOPS: 186.10\n",
            "              precision    recall  f1-score   support\n",
            "\n",
            "         0.0     0.8677    0.8252    0.8459       469\n",
            "         1.0     0.6339    0.7065    0.6682       201\n",
            "\n",
            "    accuracy                         0.7896       670\n",
            "   macro avg     0.7508    0.7658    0.7571       670\n",
            "weighted avg     0.7976    0.7896    0.7926       670\n",
            "\n",
            "epoch: 34 step: 0/42\n",
            "epoch: 34 step: 4/42\n",
            "epoch: 34 step: 8/42\n",
            "epoch: 34 step: 12/42\n",
            "epoch: 34 step: 16/42\n",
            "epoch: 34 step: 20/42\n",
            "epoch: 34 step: 24/42\n",
            "epoch: 34 step: 28/42\n",
            "epoch: 34 step: 32/42\n",
            "epoch: 34 step: 36/42\n",
            "epoch: 34 step: 40/42\n"
          ]
        },
        {
          "output_type": "stream",
          "name": "stderr",
          "text": [
            "/usr/local/lib/python3.10/dist-packages/sklearn/utils/_array_api.py:185: FutureWarning: The input object of type 'Tensor' is an array-like implementing one of the corresponding protocols (`__array__`, `__array_interface__` or `__array_struct__`); but not a sequence (or 0-D). In the future, this object will be coerced as if it was first converted using `np.array(obj)`. To retain the old behaviour, you have to either modify the type 'Tensor', or assign to an empty array created with `np.empty(correct_shape, dtype=object)`.\n",
            "  array = numpy.asarray(array, order=order, dtype=dtype)\n",
            "/usr/local/lib/python3.10/dist-packages/sklearn/utils/_array_api.py:185: VisibleDeprecationWarning: Creating an ndarray from ragged nested sequences (which is a list-or-tuple of lists-or-tuples-or ndarrays with different lengths or shapes) is deprecated. If you meant to do this, you must specify 'dtype=object' when creating the ndarray.\n",
            "  array = numpy.asarray(array, order=order, dtype=dtype)\n"
          ]
        },
        {
          "output_type": "stream",
          "name": "stdout",
          "text": [
            "test\n",
            "epoch: 34 train_loss: 0.02495282841846347 train_acc: 89.44% train_f1: 84.79%\n"
          ]
        },
        {
          "output_type": "stream",
          "name": "stderr",
          "text": [
            "<ipython-input-2-f0d979b1a134>:44: UserWarning: To copy construct from a tensor, it is recommended to use sourceTensor.clone().detach() or sourceTensor.clone().detach().requires_grad_(True), rather than torch.tensor(sourceTensor).\n",
            "  'label': torch.tensor(self.label_list[item])\n",
            "/usr/local/lib/python3.10/dist-packages/sklearn/utils/_array_api.py:185: FutureWarning: The input object of type 'Tensor' is an array-like implementing one of the corresponding protocols (`__array__`, `__array_interface__` or `__array_struct__`); but not a sequence (or 0-D). In the future, this object will be coerced as if it was first converted using `np.array(obj)`. To retain the old behaviour, you have to either modify the type 'Tensor', or assign to an empty array created with `np.empty(correct_shape, dtype=object)`.\n",
            "  array = numpy.asarray(array, order=order, dtype=dtype)\n",
            "/usr/local/lib/python3.10/dist-packages/sklearn/utils/_array_api.py:185: VisibleDeprecationWarning: Creating an ndarray from ragged nested sequences (which is a list-or-tuple of lists-or-tuples-or ndarrays with different lengths or shapes) is deprecated. If you meant to do this, you must specify 'dtype=object' when creating the ndarray.\n",
            "  array = numpy.asarray(array, order=order, dtype=dtype)\n",
            "<ipython-input-2-f0d979b1a134>:44: UserWarning: To copy construct from a tensor, it is recommended to use sourceTensor.clone().detach() or sourceTensor.clone().detach().requires_grad_(True), rather than torch.tensor(sourceTensor).\n",
            "  'label': torch.tensor(self.label_list[item])\n"
          ]
        },
        {
          "output_type": "stream",
          "name": "stdout",
          "text": [
            "          val_loss: 0.07425613565878435 val_acc 76.12% val_f1: 65.22%\n",
            "BiLSTM_Atten AUC =  0.8431934145901623\n",
            "Specificity =  0.767590618336887\n",
            "Sensitivity =  0.746268656716418\n",
            "[INFO] Register count_lstm() for <class 'torch.nn.modules.rnn.LSTM'>.\n",
            "[INFO] Register count_linear() for <class 'torch.nn.modules.linear.Linear'>.\n",
            "[INFO] Register zero_ops() for <class 'torch.nn.modules.activation.ReLU'>.\n",
            "[INFO] Register zero_ops() for <class 'torch.nn.modules.container.Sequential'>.\n",
            "[INFO] Register zero_ops() for <class 'torch.nn.modules.dropout.Dropout'>.\n",
            "Flops: 80358815488.00\n",
            "MLOPS: 186.98\n",
            "              precision    recall  f1-score   support\n",
            "\n",
            "         0.0     0.8759    0.7676    0.8182       469\n",
            "         1.0     0.5792    0.7463    0.6522       201\n",
            "\n",
            "    accuracy                         0.7612       670\n",
            "   macro avg     0.7275    0.7569    0.7352       670\n",
            "weighted avg     0.7869    0.7612    0.7684       670\n",
            "\n",
            "epoch: 35 step: 0/42\n",
            "epoch: 35 step: 4/42\n",
            "epoch: 35 step: 8/42\n",
            "epoch: 35 step: 12/42\n",
            "epoch: 35 step: 16/42\n",
            "epoch: 35 step: 20/42\n",
            "epoch: 35 step: 24/42\n",
            "epoch: 35 step: 28/42\n",
            "epoch: 35 step: 32/42\n",
            "epoch: 35 step: 36/42\n",
            "epoch: 35 step: 40/42\n"
          ]
        },
        {
          "output_type": "stream",
          "name": "stderr",
          "text": [
            "/usr/local/lib/python3.10/dist-packages/sklearn/utils/_array_api.py:185: FutureWarning: The input object of type 'Tensor' is an array-like implementing one of the corresponding protocols (`__array__`, `__array_interface__` or `__array_struct__`); but not a sequence (or 0-D). In the future, this object will be coerced as if it was first converted using `np.array(obj)`. To retain the old behaviour, you have to either modify the type 'Tensor', or assign to an empty array created with `np.empty(correct_shape, dtype=object)`.\n",
            "  array = numpy.asarray(array, order=order, dtype=dtype)\n",
            "/usr/local/lib/python3.10/dist-packages/sklearn/utils/_array_api.py:185: VisibleDeprecationWarning: Creating an ndarray from ragged nested sequences (which is a list-or-tuple of lists-or-tuples-or ndarrays with different lengths or shapes) is deprecated. If you meant to do this, you must specify 'dtype=object' when creating the ndarray.\n",
            "  array = numpy.asarray(array, order=order, dtype=dtype)\n",
            "<ipython-input-2-f0d979b1a134>:44: UserWarning: To copy construct from a tensor, it is recommended to use sourceTensor.clone().detach() or sourceTensor.clone().detach().requires_grad_(True), rather than torch.tensor(sourceTensor).\n",
            "  'label': torch.tensor(self.label_list[item])\n"
          ]
        },
        {
          "output_type": "stream",
          "name": "stdout",
          "text": [
            "test\n",
            "epoch: 35 train_loss: 0.02620506597061952 train_acc: 90.52% train_f1: 84.42%\n"
          ]
        },
        {
          "output_type": "stream",
          "name": "stderr",
          "text": [
            "/usr/local/lib/python3.10/dist-packages/sklearn/utils/_array_api.py:185: FutureWarning: The input object of type 'Tensor' is an array-like implementing one of the corresponding protocols (`__array__`, `__array_interface__` or `__array_struct__`); but not a sequence (or 0-D). In the future, this object will be coerced as if it was first converted using `np.array(obj)`. To retain the old behaviour, you have to either modify the type 'Tensor', or assign to an empty array created with `np.empty(correct_shape, dtype=object)`.\n",
            "  array = numpy.asarray(array, order=order, dtype=dtype)\n",
            "/usr/local/lib/python3.10/dist-packages/sklearn/utils/_array_api.py:185: VisibleDeprecationWarning: Creating an ndarray from ragged nested sequences (which is a list-or-tuple of lists-or-tuples-or ndarrays with different lengths or shapes) is deprecated. If you meant to do this, you must specify 'dtype=object' when creating the ndarray.\n",
            "  array = numpy.asarray(array, order=order, dtype=dtype)\n"
          ]
        },
        {
          "output_type": "stream",
          "name": "stdout",
          "text": [
            "          val_loss: 0.12071710249239748 val_acc 80.00% val_f1: 65.46%\n",
            "BiLSTM_Atten AUC =  0.8333916770094092\n",
            "Specificity =  0.8720682302771855\n",
            "Sensitivity =  0.6318407960199005\n",
            "[INFO] Register count_lstm() for <class 'torch.nn.modules.rnn.LSTM'>.\n",
            "[INFO] Register count_linear() for <class 'torch.nn.modules.linear.Linear'>.\n",
            "[INFO] Register zero_ops() for <class 'torch.nn.modules.activation.ReLU'>.\n",
            "[INFO] Register zero_ops() for <class 'torch.nn.modules.container.Sequential'>.\n",
            "[INFO] Register zero_ops() for <class 'torch.nn.modules.dropout.Dropout'>.\n",
            "Flops: 80358815488.00\n",
            "MLOPS: 185.79\n",
            "              precision    recall  f1-score   support\n",
            "\n",
            "         0.0     0.8468    0.8721    0.8592       469\n",
            "         1.0     0.6791    0.6318    0.6546       201\n",
            "\n",
            "    accuracy                         0.8000       670\n",
            "   macro avg     0.7630    0.7520    0.7569       670\n",
            "weighted avg     0.7965    0.8000    0.7979       670\n",
            "\n"
          ]
        },
        {
          "output_type": "stream",
          "name": "stderr",
          "text": [
            "<ipython-input-2-f0d979b1a134>:44: UserWarning: To copy construct from a tensor, it is recommended to use sourceTensor.clone().detach() or sourceTensor.clone().detach().requires_grad_(True), rather than torch.tensor(sourceTensor).\n",
            "  'label': torch.tensor(self.label_list[item])\n"
          ]
        },
        {
          "output_type": "stream",
          "name": "stdout",
          "text": [
            "epoch: 36 step: 0/42\n",
            "epoch: 36 step: 4/42\n",
            "epoch: 36 step: 8/42\n",
            "epoch: 36 step: 12/42\n",
            "epoch: 36 step: 16/42\n",
            "epoch: 36 step: 20/42\n",
            "epoch: 36 step: 24/42\n",
            "epoch: 36 step: 28/42\n",
            "epoch: 36 step: 32/42\n",
            "epoch: 36 step: 36/42\n",
            "epoch: 36 step: 40/42\n"
          ]
        },
        {
          "output_type": "stream",
          "name": "stderr",
          "text": [
            "/usr/local/lib/python3.10/dist-packages/sklearn/utils/_array_api.py:185: FutureWarning: The input object of type 'Tensor' is an array-like implementing one of the corresponding protocols (`__array__`, `__array_interface__` or `__array_struct__`); but not a sequence (or 0-D). In the future, this object will be coerced as if it was first converted using `np.array(obj)`. To retain the old behaviour, you have to either modify the type 'Tensor', or assign to an empty array created with `np.empty(correct_shape, dtype=object)`.\n",
            "  array = numpy.asarray(array, order=order, dtype=dtype)\n",
            "/usr/local/lib/python3.10/dist-packages/sklearn/utils/_array_api.py:185: VisibleDeprecationWarning: Creating an ndarray from ragged nested sequences (which is a list-or-tuple of lists-or-tuples-or ndarrays with different lengths or shapes) is deprecated. If you meant to do this, you must specify 'dtype=object' when creating the ndarray.\n",
            "  array = numpy.asarray(array, order=order, dtype=dtype)\n",
            "<ipython-input-2-f0d979b1a134>:44: UserWarning: To copy construct from a tensor, it is recommended to use sourceTensor.clone().detach() or sourceTensor.clone().detach().requires_grad_(True), rather than torch.tensor(sourceTensor).\n",
            "  'label': torch.tensor(self.label_list[item])\n"
          ]
        },
        {
          "output_type": "stream",
          "name": "stdout",
          "text": [
            "test\n",
            "epoch: 36 train_loss: 0.021764514258220083 train_acc: 92.65% train_f1: 88.32%\n"
          ]
        },
        {
          "output_type": "stream",
          "name": "stderr",
          "text": [
            "/usr/local/lib/python3.10/dist-packages/sklearn/utils/_array_api.py:185: FutureWarning: The input object of type 'Tensor' is an array-like implementing one of the corresponding protocols (`__array__`, `__array_interface__` or `__array_struct__`); but not a sequence (or 0-D). In the future, this object will be coerced as if it was first converted using `np.array(obj)`. To retain the old behaviour, you have to either modify the type 'Tensor', or assign to an empty array created with `np.empty(correct_shape, dtype=object)`.\n",
            "  array = numpy.asarray(array, order=order, dtype=dtype)\n",
            "/usr/local/lib/python3.10/dist-packages/sklearn/utils/_array_api.py:185: VisibleDeprecationWarning: Creating an ndarray from ragged nested sequences (which is a list-or-tuple of lists-or-tuples-or ndarrays with different lengths or shapes) is deprecated. If you meant to do this, you must specify 'dtype=object' when creating the ndarray.\n",
            "  array = numpy.asarray(array, order=order, dtype=dtype)\n",
            "<ipython-input-2-f0d979b1a134>:44: UserWarning: To copy construct from a tensor, it is recommended to use sourceTensor.clone().detach() or sourceTensor.clone().detach().requires_grad_(True), rather than torch.tensor(sourceTensor).\n",
            "  'label': torch.tensor(self.label_list[item])\n"
          ]
        },
        {
          "output_type": "stream",
          "name": "stdout",
          "text": [
            "          val_loss: 0.1079121743413535 val_acc 79.55% val_f1: 65.84%\n",
            "BiLSTM_Atten AUC =  0.8404671737262515\n",
            "Specificity =  0.8550106609808102\n",
            "Sensitivity =  0.6567164179104478\n",
            "[INFO] Register count_lstm() for <class 'torch.nn.modules.rnn.LSTM'>.\n",
            "[INFO] Register count_linear() for <class 'torch.nn.modules.linear.Linear'>.\n",
            "[INFO] Register zero_ops() for <class 'torch.nn.modules.activation.ReLU'>.\n",
            "[INFO] Register zero_ops() for <class 'torch.nn.modules.container.Sequential'>.\n",
            "[INFO] Register zero_ops() for <class 'torch.nn.modules.dropout.Dropout'>.\n",
            "Flops: 80358815488.00\n",
            "MLOPS: 184.53\n",
            "              precision    recall  f1-score   support\n",
            "\n",
            "         0.0     0.8532    0.8550    0.8541       469\n",
            "         1.0     0.6600    0.6567    0.6584       201\n",
            "\n",
            "    accuracy                         0.7955       670\n",
            "   macro avg     0.7566    0.7559    0.7562       670\n",
            "weighted avg     0.7952    0.7955    0.7954       670\n",
            "\n",
            "epoch: 37 step: 0/42\n",
            "epoch: 37 step: 4/42\n",
            "epoch: 37 step: 8/42\n",
            "epoch: 37 step: 12/42\n",
            "epoch: 37 step: 16/42\n",
            "epoch: 37 step: 20/42\n",
            "epoch: 37 step: 24/42\n",
            "epoch: 37 step: 28/42\n",
            "epoch: 37 step: 32/42\n",
            "epoch: 37 step: 36/42\n",
            "epoch: 37 step: 40/42\n"
          ]
        },
        {
          "output_type": "stream",
          "name": "stderr",
          "text": [
            "/usr/local/lib/python3.10/dist-packages/sklearn/utils/_array_api.py:185: FutureWarning: The input object of type 'Tensor' is an array-like implementing one of the corresponding protocols (`__array__`, `__array_interface__` or `__array_struct__`); but not a sequence (or 0-D). In the future, this object will be coerced as if it was first converted using `np.array(obj)`. To retain the old behaviour, you have to either modify the type 'Tensor', or assign to an empty array created with `np.empty(correct_shape, dtype=object)`.\n",
            "  array = numpy.asarray(array, order=order, dtype=dtype)\n",
            "/usr/local/lib/python3.10/dist-packages/sklearn/utils/_array_api.py:185: VisibleDeprecationWarning: Creating an ndarray from ragged nested sequences (which is a list-or-tuple of lists-or-tuples-or ndarrays with different lengths or shapes) is deprecated. If you meant to do this, you must specify 'dtype=object' when creating the ndarray.\n",
            "  array = numpy.asarray(array, order=order, dtype=dtype)\n",
            "<ipython-input-2-f0d979b1a134>:44: UserWarning: To copy construct from a tensor, it is recommended to use sourceTensor.clone().detach() or sourceTensor.clone().detach().requires_grad_(True), rather than torch.tensor(sourceTensor).\n",
            "  'label': torch.tensor(self.label_list[item])\n"
          ]
        },
        {
          "output_type": "stream",
          "name": "stdout",
          "text": [
            "test\n",
            "epoch: 37 train_loss: 0.01911958978910531 train_acc: 93.17% train_f1: 89.44%\n"
          ]
        },
        {
          "output_type": "stream",
          "name": "stderr",
          "text": [
            "/usr/local/lib/python3.10/dist-packages/sklearn/utils/_array_api.py:185: FutureWarning: The input object of type 'Tensor' is an array-like implementing one of the corresponding protocols (`__array__`, `__array_interface__` or `__array_struct__`); but not a sequence (or 0-D). In the future, this object will be coerced as if it was first converted using `np.array(obj)`. To retain the old behaviour, you have to either modify the type 'Tensor', or assign to an empty array created with `np.empty(correct_shape, dtype=object)`.\n",
            "  array = numpy.asarray(array, order=order, dtype=dtype)\n",
            "/usr/local/lib/python3.10/dist-packages/sklearn/utils/_array_api.py:185: VisibleDeprecationWarning: Creating an ndarray from ragged nested sequences (which is a list-or-tuple of lists-or-tuples-or ndarrays with different lengths or shapes) is deprecated. If you meant to do this, you must specify 'dtype=object' when creating the ndarray.\n",
            "  array = numpy.asarray(array, order=order, dtype=dtype)\n",
            "<ipython-input-2-f0d979b1a134>:44: UserWarning: To copy construct from a tensor, it is recommended to use sourceTensor.clone().detach() or sourceTensor.clone().detach().requires_grad_(True), rather than torch.tensor(sourceTensor).\n",
            "  'label': torch.tensor(self.label_list[item])\n"
          ]
        },
        {
          "output_type": "stream",
          "name": "stdout",
          "text": [
            "          val_loss: 0.10892390154979446 val_acc 78.21% val_f1: 64.56%\n",
            "BiLSTM_Atten AUC =  0.8390032778538014\n",
            "Specificity =  0.8336886993603412\n",
            "Sensitivity =  0.6616915422885572\n",
            "[INFO] Register count_lstm() for <class 'torch.nn.modules.rnn.LSTM'>.\n",
            "[INFO] Register count_linear() for <class 'torch.nn.modules.linear.Linear'>.\n",
            "[INFO] Register zero_ops() for <class 'torch.nn.modules.activation.ReLU'>.\n",
            "[INFO] Register zero_ops() for <class 'torch.nn.modules.container.Sequential'>.\n",
            "[INFO] Register zero_ops() for <class 'torch.nn.modules.dropout.Dropout'>.\n",
            "Flops: 80358815488.00\n",
            "MLOPS: 185.97\n",
            "              precision    recall  f1-score   support\n",
            "\n",
            "         0.0     0.8519    0.8337    0.8427       469\n",
            "         1.0     0.6303    0.6617    0.6456       201\n",
            "\n",
            "    accuracy                         0.7821       670\n",
            "   macro avg     0.7411    0.7477    0.7442       670\n",
            "weighted avg     0.7854    0.7821    0.7836       670\n",
            "\n",
            "epoch: 38 step: 0/42\n",
            "epoch: 38 step: 4/42\n",
            "epoch: 38 step: 8/42\n",
            "epoch: 38 step: 12/42\n",
            "epoch: 38 step: 16/42\n",
            "epoch: 38 step: 20/42\n",
            "epoch: 38 step: 24/42\n",
            "epoch: 38 step: 28/42\n",
            "epoch: 38 step: 32/42\n",
            "epoch: 38 step: 36/42\n",
            "epoch: 38 step: 40/42\n"
          ]
        },
        {
          "output_type": "stream",
          "name": "stderr",
          "text": [
            "/usr/local/lib/python3.10/dist-packages/sklearn/utils/_array_api.py:185: FutureWarning: The input object of type 'Tensor' is an array-like implementing one of the corresponding protocols (`__array__`, `__array_interface__` or `__array_struct__`); but not a sequence (or 0-D). In the future, this object will be coerced as if it was first converted using `np.array(obj)`. To retain the old behaviour, you have to either modify the type 'Tensor', or assign to an empty array created with `np.empty(correct_shape, dtype=object)`.\n",
            "  array = numpy.asarray(array, order=order, dtype=dtype)\n",
            "/usr/local/lib/python3.10/dist-packages/sklearn/utils/_array_api.py:185: VisibleDeprecationWarning: Creating an ndarray from ragged nested sequences (which is a list-or-tuple of lists-or-tuples-or ndarrays with different lengths or shapes) is deprecated. If you meant to do this, you must specify 'dtype=object' when creating the ndarray.\n",
            "  array = numpy.asarray(array, order=order, dtype=dtype)\n",
            "<ipython-input-2-f0d979b1a134>:44: UserWarning: To copy construct from a tensor, it is recommended to use sourceTensor.clone().detach() or sourceTensor.clone().detach().requires_grad_(True), rather than torch.tensor(sourceTensor).\n",
            "  'label': torch.tensor(self.label_list[item])\n"
          ]
        },
        {
          "output_type": "stream",
          "name": "stdout",
          "text": [
            "test\n",
            "epoch: 38 train_loss: 0.019818411430432684 train_acc: 93.69% train_f1: 89.87%\n"
          ]
        },
        {
          "output_type": "stream",
          "name": "stderr",
          "text": [
            "/usr/local/lib/python3.10/dist-packages/sklearn/utils/_array_api.py:185: FutureWarning: The input object of type 'Tensor' is an array-like implementing one of the corresponding protocols (`__array__`, `__array_interface__` or `__array_struct__`); but not a sequence (or 0-D). In the future, this object will be coerced as if it was first converted using `np.array(obj)`. To retain the old behaviour, you have to either modify the type 'Tensor', or assign to an empty array created with `np.empty(correct_shape, dtype=object)`.\n",
            "  array = numpy.asarray(array, order=order, dtype=dtype)\n",
            "/usr/local/lib/python3.10/dist-packages/sklearn/utils/_array_api.py:185: VisibleDeprecationWarning: Creating an ndarray from ragged nested sequences (which is a list-or-tuple of lists-or-tuples-or ndarrays with different lengths or shapes) is deprecated. If you meant to do this, you must specify 'dtype=object' when creating the ndarray.\n",
            "  array = numpy.asarray(array, order=order, dtype=dtype)\n",
            "<ipython-input-2-f0d979b1a134>:44: UserWarning: To copy construct from a tensor, it is recommended to use sourceTensor.clone().detach() or sourceTensor.clone().detach().requires_grad_(True), rather than torch.tensor(sourceTensor).\n",
            "  'label': torch.tensor(self.label_list[item])\n"
          ]
        },
        {
          "output_type": "stream",
          "name": "stdout",
          "text": [
            "          val_loss: 0.14165021716193718 val_acc 79.55% val_f1: 64.78%\n",
            "BiLSTM_Atten AUC =  0.8348025331763358\n",
            "Specificity =  0.8678038379530917\n",
            "Sensitivity =  0.6268656716417911\n",
            "[INFO] Register count_lstm() for <class 'torch.nn.modules.rnn.LSTM'>.\n",
            "[INFO] Register count_linear() for <class 'torch.nn.modules.linear.Linear'>.\n",
            "[INFO] Register zero_ops() for <class 'torch.nn.modules.activation.ReLU'>.\n",
            "[INFO] Register zero_ops() for <class 'torch.nn.modules.container.Sequential'>.\n",
            "[INFO] Register zero_ops() for <class 'torch.nn.modules.dropout.Dropout'>.\n",
            "Flops: 80358815488.00\n",
            "MLOPS: 185.23\n",
            "              precision    recall  f1-score   support\n",
            "\n",
            "         0.0     0.8444    0.8678    0.8559       469\n",
            "         1.0     0.6702    0.6269    0.6478       201\n",
            "\n",
            "    accuracy                         0.7955       670\n",
            "   macro avg     0.7573    0.7473    0.7519       670\n",
            "weighted avg     0.7921    0.7955    0.7935       670\n",
            "\n",
            "epoch: 39 step: 0/42\n",
            "epoch: 39 step: 4/42\n",
            "epoch: 39 step: 8/42\n",
            "epoch: 39 step: 12/42\n",
            "epoch: 39 step: 16/42\n",
            "epoch: 39 step: 20/42\n",
            "epoch: 39 step: 24/42\n",
            "epoch: 39 step: 28/42\n",
            "epoch: 39 step: 32/42\n",
            "epoch: 39 step: 36/42\n",
            "epoch: 39 step: 40/42\n"
          ]
        },
        {
          "output_type": "stream",
          "name": "stderr",
          "text": [
            "/usr/local/lib/python3.10/dist-packages/sklearn/utils/_array_api.py:185: FutureWarning: The input object of type 'Tensor' is an array-like implementing one of the corresponding protocols (`__array__`, `__array_interface__` or `__array_struct__`); but not a sequence (or 0-D). In the future, this object will be coerced as if it was first converted using `np.array(obj)`. To retain the old behaviour, you have to either modify the type 'Tensor', or assign to an empty array created with `np.empty(correct_shape, dtype=object)`.\n",
            "  array = numpy.asarray(array, order=order, dtype=dtype)\n",
            "/usr/local/lib/python3.10/dist-packages/sklearn/utils/_array_api.py:185: VisibleDeprecationWarning: Creating an ndarray from ragged nested sequences (which is a list-or-tuple of lists-or-tuples-or ndarrays with different lengths or shapes) is deprecated. If you meant to do this, you must specify 'dtype=object' when creating the ndarray.\n",
            "  array = numpy.asarray(array, order=order, dtype=dtype)\n"
          ]
        },
        {
          "output_type": "stream",
          "name": "stdout",
          "text": [
            "test\n",
            "epoch: 39 train_loss: 0.01619069595333366 train_acc: 94.18% train_f1: 91.10%\n"
          ]
        },
        {
          "output_type": "stream",
          "name": "stderr",
          "text": [
            "<ipython-input-2-f0d979b1a134>:44: UserWarning: To copy construct from a tensor, it is recommended to use sourceTensor.clone().detach() or sourceTensor.clone().detach().requires_grad_(True), rather than torch.tensor(sourceTensor).\n",
            "  'label': torch.tensor(self.label_list[item])\n",
            "/usr/local/lib/python3.10/dist-packages/sklearn/utils/_array_api.py:185: FutureWarning: The input object of type 'Tensor' is an array-like implementing one of the corresponding protocols (`__array__`, `__array_interface__` or `__array_struct__`); but not a sequence (or 0-D). In the future, this object will be coerced as if it was first converted using `np.array(obj)`. To retain the old behaviour, you have to either modify the type 'Tensor', or assign to an empty array created with `np.empty(correct_shape, dtype=object)`.\n",
            "  array = numpy.asarray(array, order=order, dtype=dtype)\n",
            "/usr/local/lib/python3.10/dist-packages/sklearn/utils/_array_api.py:185: VisibleDeprecationWarning: Creating an ndarray from ragged nested sequences (which is a list-or-tuple of lists-or-tuples-or ndarrays with different lengths or shapes) is deprecated. If you meant to do this, you must specify 'dtype=object' when creating the ndarray.\n",
            "  array = numpy.asarray(array, order=order, dtype=dtype)\n",
            "<ipython-input-2-f0d979b1a134>:44: UserWarning: To copy construct from a tensor, it is recommended to use sourceTensor.clone().detach() or sourceTensor.clone().detach().requires_grad_(True), rather than torch.tensor(sourceTensor).\n",
            "  'label': torch.tensor(self.label_list[item])\n"
          ]
        },
        {
          "output_type": "stream",
          "name": "stdout",
          "text": [
            "          val_loss: 0.10905157605355437 val_acc 78.66% val_f1: 65.54%\n",
            "BiLSTM_Atten AUC =  0.8397988734366548\n",
            "Specificity =  0.8336886993603412\n",
            "Sensitivity =  0.6766169154228856\n",
            "[INFO] Register count_lstm() for <class 'torch.nn.modules.rnn.LSTM'>.\n",
            "[INFO] Register count_linear() for <class 'torch.nn.modules.linear.Linear'>.\n",
            "[INFO] Register zero_ops() for <class 'torch.nn.modules.activation.ReLU'>.\n",
            "[INFO] Register zero_ops() for <class 'torch.nn.modules.container.Sequential'>.\n",
            "[INFO] Register zero_ops() for <class 'torch.nn.modules.dropout.Dropout'>.\n",
            "Flops: 80358815488.00\n",
            "MLOPS: 185.45\n",
            "              precision    recall  f1-score   support\n",
            "\n",
            "         0.0     0.8575    0.8337    0.8454       469\n",
            "         1.0     0.6355    0.6766    0.6554       201\n",
            "\n",
            "    accuracy                         0.7866       670\n",
            "   macro avg     0.7465    0.7552    0.7504       670\n",
            "weighted avg     0.7909    0.7866    0.7884       670\n",
            "\n",
            "epoch: 40 step: 0/42\n",
            "epoch: 40 step: 4/42\n",
            "epoch: 40 step: 8/42\n",
            "epoch: 40 step: 12/42\n",
            "epoch: 40 step: 16/42\n",
            "epoch: 40 step: 20/42\n",
            "epoch: 40 step: 24/42\n",
            "epoch: 40 step: 28/42\n",
            "epoch: 40 step: 32/42\n",
            "epoch: 40 step: 36/42\n",
            "epoch: 40 step: 40/42\n"
          ]
        },
        {
          "output_type": "stream",
          "name": "stderr",
          "text": [
            "/usr/local/lib/python3.10/dist-packages/sklearn/utils/_array_api.py:185: FutureWarning: The input object of type 'Tensor' is an array-like implementing one of the corresponding protocols (`__array__`, `__array_interface__` or `__array_struct__`); but not a sequence (or 0-D). In the future, this object will be coerced as if it was first converted using `np.array(obj)`. To retain the old behaviour, you have to either modify the type 'Tensor', or assign to an empty array created with `np.empty(correct_shape, dtype=object)`.\n",
            "  array = numpy.asarray(array, order=order, dtype=dtype)\n",
            "/usr/local/lib/python3.10/dist-packages/sklearn/utils/_array_api.py:185: VisibleDeprecationWarning: Creating an ndarray from ragged nested sequences (which is a list-or-tuple of lists-or-tuples-or ndarrays with different lengths or shapes) is deprecated. If you meant to do this, you must specify 'dtype=object' when creating the ndarray.\n",
            "  array = numpy.asarray(array, order=order, dtype=dtype)\n",
            "<ipython-input-2-f0d979b1a134>:44: UserWarning: To copy construct from a tensor, it is recommended to use sourceTensor.clone().detach() or sourceTensor.clone().detach().requires_grad_(True), rather than torch.tensor(sourceTensor).\n",
            "  'label': torch.tensor(self.label_list[item])\n"
          ]
        },
        {
          "output_type": "stream",
          "name": "stdout",
          "text": [
            "test\n",
            "epoch: 40 train_loss: 0.015023276265267105 train_acc: 94.37% train_f1: 91.36%\n"
          ]
        },
        {
          "output_type": "stream",
          "name": "stderr",
          "text": [
            "/usr/local/lib/python3.10/dist-packages/sklearn/utils/_array_api.py:185: FutureWarning: The input object of type 'Tensor' is an array-like implementing one of the corresponding protocols (`__array__`, `__array_interface__` or `__array_struct__`); but not a sequence (or 0-D). In the future, this object will be coerced as if it was first converted using `np.array(obj)`. To retain the old behaviour, you have to either modify the type 'Tensor', or assign to an empty array created with `np.empty(correct_shape, dtype=object)`.\n",
            "  array = numpy.asarray(array, order=order, dtype=dtype)\n",
            "/usr/local/lib/python3.10/dist-packages/sklearn/utils/_array_api.py:185: VisibleDeprecationWarning: Creating an ndarray from ragged nested sequences (which is a list-or-tuple of lists-or-tuples-or ndarrays with different lengths or shapes) is deprecated. If you meant to do this, you must specify 'dtype=object' when creating the ndarray.\n",
            "  array = numpy.asarray(array, order=order, dtype=dtype)\n"
          ]
        },
        {
          "output_type": "stream",
          "name": "stdout",
          "text": [
            "          val_loss: 0.1150317672978748 val_acc 78.96% val_f1: 65.69%\n",
            "BiLSTM_Atten AUC =  0.8416128313655602\n",
            "Specificity =  0.8400852878464818\n",
            "Sensitivity =  0.6716417910447762\n",
            "[INFO] Register count_lstm() for <class 'torch.nn.modules.rnn.LSTM'>.\n",
            "[INFO] Register count_linear() for <class 'torch.nn.modules.linear.Linear'>.\n",
            "[INFO] Register zero_ops() for <class 'torch.nn.modules.activation.ReLU'>.\n",
            "[INFO] Register zero_ops() for <class 'torch.nn.modules.container.Sequential'>.\n",
            "[INFO] Register zero_ops() for <class 'torch.nn.modules.dropout.Dropout'>.\n",
            "Flops: 80358815488.00\n",
            "MLOPS: 186.26\n",
            "              precision    recall  f1-score   support\n",
            "\n",
            "         0.0     0.8565    0.8401    0.8482       469\n",
            "         1.0     0.6429    0.6716    0.6569       201\n",
            "\n",
            "    accuracy                         0.7896       670\n",
            "   macro avg     0.7497    0.7559    0.7526       670\n",
            "weighted avg     0.7924    0.7896    0.7908       670\n",
            "\n"
          ]
        },
        {
          "output_type": "stream",
          "name": "stderr",
          "text": [
            "<ipython-input-2-f0d979b1a134>:44: UserWarning: To copy construct from a tensor, it is recommended to use sourceTensor.clone().detach() or sourceTensor.clone().detach().requires_grad_(True), rather than torch.tensor(sourceTensor).\n",
            "  'label': torch.tensor(self.label_list[item])\n"
          ]
        },
        {
          "output_type": "stream",
          "name": "stdout",
          "text": [
            "epoch: 41 step: 0/42\n",
            "epoch: 41 step: 4/42\n",
            "epoch: 41 step: 8/42\n",
            "epoch: 41 step: 12/42\n",
            "epoch: 41 step: 16/42\n",
            "epoch: 41 step: 20/42\n",
            "epoch: 41 step: 24/42\n",
            "epoch: 41 step: 28/42\n",
            "epoch: 41 step: 32/42\n",
            "epoch: 41 step: 36/42\n",
            "epoch: 41 step: 40/42\n"
          ]
        },
        {
          "output_type": "stream",
          "name": "stderr",
          "text": [
            "/usr/local/lib/python3.10/dist-packages/sklearn/utils/_array_api.py:185: FutureWarning: The input object of type 'Tensor' is an array-like implementing one of the corresponding protocols (`__array__`, `__array_interface__` or `__array_struct__`); but not a sequence (or 0-D). In the future, this object will be coerced as if it was first converted using `np.array(obj)`. To retain the old behaviour, you have to either modify the type 'Tensor', or assign to an empty array created with `np.empty(correct_shape, dtype=object)`.\n",
            "  array = numpy.asarray(array, order=order, dtype=dtype)\n",
            "/usr/local/lib/python3.10/dist-packages/sklearn/utils/_array_api.py:185: VisibleDeprecationWarning: Creating an ndarray from ragged nested sequences (which is a list-or-tuple of lists-or-tuples-or ndarrays with different lengths or shapes) is deprecated. If you meant to do this, you must specify 'dtype=object' when creating the ndarray.\n",
            "  array = numpy.asarray(array, order=order, dtype=dtype)\n",
            "<ipython-input-2-f0d979b1a134>:44: UserWarning: To copy construct from a tensor, it is recommended to use sourceTensor.clone().detach() or sourceTensor.clone().detach().requires_grad_(True), rather than torch.tensor(sourceTensor).\n",
            "  'label': torch.tensor(self.label_list[item])\n"
          ]
        },
        {
          "output_type": "stream",
          "name": "stdout",
          "text": [
            "test\n",
            "epoch: 41 train_loss: 0.014366552910013567 train_acc: 94.85% train_f1: 92.02%\n"
          ]
        },
        {
          "output_type": "stream",
          "name": "stderr",
          "text": [
            "/usr/local/lib/python3.10/dist-packages/sklearn/utils/_array_api.py:185: FutureWarning: The input object of type 'Tensor' is an array-like implementing one of the corresponding protocols (`__array__`, `__array_interface__` or `__array_struct__`); but not a sequence (or 0-D). In the future, this object will be coerced as if it was first converted using `np.array(obj)`. To retain the old behaviour, you have to either modify the type 'Tensor', or assign to an empty array created with `np.empty(correct_shape, dtype=object)`.\n",
            "  array = numpy.asarray(array, order=order, dtype=dtype)\n",
            "/usr/local/lib/python3.10/dist-packages/sklearn/utils/_array_api.py:185: VisibleDeprecationWarning: Creating an ndarray from ragged nested sequences (which is a list-or-tuple of lists-or-tuples-or ndarrays with different lengths or shapes) is deprecated. If you meant to do this, you must specify 'dtype=object' when creating the ndarray.\n",
            "  array = numpy.asarray(array, order=order, dtype=dtype)\n",
            "<ipython-input-2-f0d979b1a134>:44: UserWarning: To copy construct from a tensor, it is recommended to use sourceTensor.clone().detach() or sourceTensor.clone().detach().requires_grad_(True), rather than torch.tensor(sourceTensor).\n",
            "  'label': torch.tensor(self.label_list[item])\n"
          ]
        },
        {
          "output_type": "stream",
          "name": "stdout",
          "text": [
            "          val_loss: 0.10650497268546712 val_acc 79.25% val_f1: 66.83%\n",
            "BiLSTM_Atten AUC =  0.846428836627099\n",
            "Specificity =  0.8336886993603412\n",
            "Sensitivity =  0.6965174129353234\n",
            "[INFO] Register count_lstm() for <class 'torch.nn.modules.rnn.LSTM'>.\n",
            "[INFO] Register count_linear() for <class 'torch.nn.modules.linear.Linear'>.\n",
            "[INFO] Register zero_ops() for <class 'torch.nn.modules.activation.ReLU'>.\n",
            "[INFO] Register zero_ops() for <class 'torch.nn.modules.container.Sequential'>.\n",
            "[INFO] Register zero_ops() for <class 'torch.nn.modules.dropout.Dropout'>.\n",
            "Flops: 80358815488.00\n",
            "MLOPS: 184.48\n",
            "              precision    recall  f1-score   support\n",
            "\n",
            "         0.0     0.8650    0.8337    0.8491       469\n",
            "         1.0     0.6422    0.6965    0.6683       201\n",
            "\n",
            "    accuracy                         0.7925       670\n",
            "   macro avg     0.7536    0.7651    0.7587       670\n",
            "weighted avg     0.7982    0.7925    0.7948       670\n",
            "\n",
            "epoch: 42 step: 0/42\n",
            "epoch: 42 step: 4/42\n",
            "epoch: 42 step: 8/42\n",
            "epoch: 42 step: 12/42\n",
            "epoch: 42 step: 16/42\n",
            "epoch: 42 step: 20/42\n",
            "epoch: 42 step: 24/42\n",
            "epoch: 42 step: 28/42\n",
            "epoch: 42 step: 32/42\n",
            "epoch: 42 step: 36/42\n",
            "epoch: 42 step: 40/42\n"
          ]
        },
        {
          "output_type": "stream",
          "name": "stderr",
          "text": [
            "/usr/local/lib/python3.10/dist-packages/sklearn/utils/_array_api.py:185: FutureWarning: The input object of type 'Tensor' is an array-like implementing one of the corresponding protocols (`__array__`, `__array_interface__` or `__array_struct__`); but not a sequence (or 0-D). In the future, this object will be coerced as if it was first converted using `np.array(obj)`. To retain the old behaviour, you have to either modify the type 'Tensor', or assign to an empty array created with `np.empty(correct_shape, dtype=object)`.\n",
            "  array = numpy.asarray(array, order=order, dtype=dtype)\n",
            "/usr/local/lib/python3.10/dist-packages/sklearn/utils/_array_api.py:185: VisibleDeprecationWarning: Creating an ndarray from ragged nested sequences (which is a list-or-tuple of lists-or-tuples-or ndarrays with different lengths or shapes) is deprecated. If you meant to do this, you must specify 'dtype=object' when creating the ndarray.\n",
            "  array = numpy.asarray(array, order=order, dtype=dtype)\n",
            "<ipython-input-2-f0d979b1a134>:44: UserWarning: To copy construct from a tensor, it is recommended to use sourceTensor.clone().detach() or sourceTensor.clone().detach().requires_grad_(True), rather than torch.tensor(sourceTensor).\n",
            "  'label': torch.tensor(self.label_list[item])\n"
          ]
        },
        {
          "output_type": "stream",
          "name": "stdout",
          "text": [
            "test\n",
            "epoch: 42 train_loss: 0.012430287531710096 train_acc: 95.67% train_f1: 93.22%\n"
          ]
        },
        {
          "output_type": "stream",
          "name": "stderr",
          "text": [
            "/usr/local/lib/python3.10/dist-packages/sklearn/utils/_array_api.py:185: FutureWarning: The input object of type 'Tensor' is an array-like implementing one of the corresponding protocols (`__array__`, `__array_interface__` or `__array_struct__`); but not a sequence (or 0-D). In the future, this object will be coerced as if it was first converted using `np.array(obj)`. To retain the old behaviour, you have to either modify the type 'Tensor', or assign to an empty array created with `np.empty(correct_shape, dtype=object)`.\n",
            "  array = numpy.asarray(array, order=order, dtype=dtype)\n",
            "/usr/local/lib/python3.10/dist-packages/sklearn/utils/_array_api.py:185: VisibleDeprecationWarning: Creating an ndarray from ragged nested sequences (which is a list-or-tuple of lists-or-tuples-or ndarrays with different lengths or shapes) is deprecated. If you meant to do this, you must specify 'dtype=object' when creating the ndarray.\n",
            "  array = numpy.asarray(array, order=order, dtype=dtype)\n",
            "<ipython-input-2-f0d979b1a134>:44: UserWarning: To copy construct from a tensor, it is recommended to use sourceTensor.clone().detach() or sourceTensor.clone().detach().requires_grad_(True), rather than torch.tensor(sourceTensor).\n",
            "  'label': torch.tensor(self.label_list[item])\n"
          ]
        },
        {
          "output_type": "stream",
          "name": "stdout",
          "text": [
            "          val_loss: 0.1363338130441579 val_acc 79.25% val_f1: 65.68%\n",
            "BiLSTM_Atten AUC =  0.8423553872428902\n",
            "Specificity =  0.8486140724946695\n",
            "Sensitivity =  0.6616915422885572\n",
            "[INFO] Register count_lstm() for <class 'torch.nn.modules.rnn.LSTM'>.\n",
            "[INFO] Register count_linear() for <class 'torch.nn.modules.linear.Linear'>.\n",
            "[INFO] Register zero_ops() for <class 'torch.nn.modules.activation.ReLU'>.\n",
            "[INFO] Register zero_ops() for <class 'torch.nn.modules.container.Sequential'>.\n",
            "[INFO] Register zero_ops() for <class 'torch.nn.modules.dropout.Dropout'>.\n",
            "Flops: 80358815488.00\n",
            "MLOPS: 184.59\n",
            "              precision    recall  f1-score   support\n",
            "\n",
            "         0.0     0.8541    0.8486    0.8513       469\n",
            "         1.0     0.6520    0.6617    0.6568       201\n",
            "\n",
            "    accuracy                         0.7925       670\n",
            "   macro avg     0.7530    0.7552    0.7541       670\n",
            "weighted avg     0.7934    0.7925    0.7930       670\n",
            "\n",
            "epoch: 43 step: 0/42\n",
            "epoch: 43 step: 4/42\n",
            "epoch: 43 step: 8/42\n",
            "epoch: 43 step: 12/42\n",
            "epoch: 43 step: 16/42\n",
            "epoch: 43 step: 20/42\n",
            "epoch: 43 step: 24/42\n",
            "epoch: 43 step: 28/42\n",
            "epoch: 43 step: 32/42\n",
            "epoch: 43 step: 36/42\n",
            "epoch: 43 step: 40/42\n"
          ]
        },
        {
          "output_type": "stream",
          "name": "stderr",
          "text": [
            "/usr/local/lib/python3.10/dist-packages/sklearn/utils/_array_api.py:185: FutureWarning: The input object of type 'Tensor' is an array-like implementing one of the corresponding protocols (`__array__`, `__array_interface__` or `__array_struct__`); but not a sequence (or 0-D). In the future, this object will be coerced as if it was first converted using `np.array(obj)`. To retain the old behaviour, you have to either modify the type 'Tensor', or assign to an empty array created with `np.empty(correct_shape, dtype=object)`.\n",
            "  array = numpy.asarray(array, order=order, dtype=dtype)\n",
            "/usr/local/lib/python3.10/dist-packages/sklearn/utils/_array_api.py:185: VisibleDeprecationWarning: Creating an ndarray from ragged nested sequences (which is a list-or-tuple of lists-or-tuples-or ndarrays with different lengths or shapes) is deprecated. If you meant to do this, you must specify 'dtype=object' when creating the ndarray.\n",
            "  array = numpy.asarray(array, order=order, dtype=dtype)\n",
            "<ipython-input-2-f0d979b1a134>:44: UserWarning: To copy construct from a tensor, it is recommended to use sourceTensor.clone().detach() or sourceTensor.clone().detach().requires_grad_(True), rather than torch.tensor(sourceTensor).\n",
            "  'label': torch.tensor(self.label_list[item])\n"
          ]
        },
        {
          "output_type": "stream",
          "name": "stdout",
          "text": [
            "test\n",
            "epoch: 43 train_loss: 0.013383838880274977 train_acc: 93.81% train_f1: 90.64%\n"
          ]
        },
        {
          "output_type": "stream",
          "name": "stderr",
          "text": [
            "/usr/local/lib/python3.10/dist-packages/sklearn/utils/_array_api.py:185: FutureWarning: The input object of type 'Tensor' is an array-like implementing one of the corresponding protocols (`__array__`, `__array_interface__` or `__array_struct__`); but not a sequence (or 0-D). In the future, this object will be coerced as if it was first converted using `np.array(obj)`. To retain the old behaviour, you have to either modify the type 'Tensor', or assign to an empty array created with `np.empty(correct_shape, dtype=object)`.\n",
            "  array = numpy.asarray(array, order=order, dtype=dtype)\n",
            "/usr/local/lib/python3.10/dist-packages/sklearn/utils/_array_api.py:185: VisibleDeprecationWarning: Creating an ndarray from ragged nested sequences (which is a list-or-tuple of lists-or-tuples-or ndarrays with different lengths or shapes) is deprecated. If you meant to do this, you must specify 'dtype=object' when creating the ndarray.\n",
            "  array = numpy.asarray(array, order=order, dtype=dtype)\n",
            "<ipython-input-2-f0d979b1a134>:44: UserWarning: To copy construct from a tensor, it is recommended to use sourceTensor.clone().detach() or sourceTensor.clone().detach().requires_grad_(True), rather than torch.tensor(sourceTensor).\n",
            "  'label': torch.tensor(self.label_list[item])\n"
          ]
        },
        {
          "output_type": "stream",
          "name": "stdout",
          "text": [
            "          val_loss: 0.12570204856720837 val_acc 77.16% val_f1: 65.77%\n",
            "BiLSTM_Atten AUC =  0.8440314419374344\n",
            "Specificity =  0.7889125799573561\n",
            "Sensitivity =  0.7313432835820896\n",
            "[INFO] Register count_lstm() for <class 'torch.nn.modules.rnn.LSTM'>.\n",
            "[INFO] Register count_linear() for <class 'torch.nn.modules.linear.Linear'>.\n",
            "[INFO] Register zero_ops() for <class 'torch.nn.modules.activation.ReLU'>.\n",
            "[INFO] Register zero_ops() for <class 'torch.nn.modules.container.Sequential'>.\n",
            "[INFO] Register zero_ops() for <class 'torch.nn.modules.dropout.Dropout'>.\n",
            "Flops: 80358815488.00\n",
            "MLOPS: 184.68\n",
            "              precision    recall  f1-score   support\n",
            "\n",
            "         0.0     0.8726    0.7889    0.8287       469\n",
            "         1.0     0.5976    0.7313    0.6577       201\n",
            "\n",
            "    accuracy                         0.7716       670\n",
            "   macro avg     0.7351    0.7601    0.7432       670\n",
            "weighted avg     0.7901    0.7716    0.7774       670\n",
            "\n",
            "epoch: 44 step: 0/42\n",
            "epoch: 44 step: 4/42\n",
            "epoch: 44 step: 8/42\n",
            "epoch: 44 step: 12/42\n",
            "epoch: 44 step: 16/42\n",
            "epoch: 44 step: 20/42\n",
            "epoch: 44 step: 24/42\n",
            "epoch: 44 step: 28/42\n",
            "epoch: 44 step: 32/42\n",
            "epoch: 44 step: 36/42\n",
            "epoch: 44 step: 40/42\n"
          ]
        },
        {
          "output_type": "stream",
          "name": "stderr",
          "text": [
            "/usr/local/lib/python3.10/dist-packages/sklearn/utils/_array_api.py:185: FutureWarning: The input object of type 'Tensor' is an array-like implementing one of the corresponding protocols (`__array__`, `__array_interface__` or `__array_struct__`); but not a sequence (or 0-D). In the future, this object will be coerced as if it was first converted using `np.array(obj)`. To retain the old behaviour, you have to either modify the type 'Tensor', or assign to an empty array created with `np.empty(correct_shape, dtype=object)`.\n",
            "  array = numpy.asarray(array, order=order, dtype=dtype)\n",
            "/usr/local/lib/python3.10/dist-packages/sklearn/utils/_array_api.py:185: VisibleDeprecationWarning: Creating an ndarray from ragged nested sequences (which is a list-or-tuple of lists-or-tuples-or ndarrays with different lengths or shapes) is deprecated. If you meant to do this, you must specify 'dtype=object' when creating the ndarray.\n",
            "  array = numpy.asarray(array, order=order, dtype=dtype)\n"
          ]
        },
        {
          "output_type": "stream",
          "name": "stdout",
          "text": [
            "test\n",
            "epoch: 44 train_loss: 0.017944028445829947 train_acc: 95.11% train_f1: 91.67%\n"
          ]
        },
        {
          "output_type": "stream",
          "name": "stderr",
          "text": [
            "<ipython-input-2-f0d979b1a134>:44: UserWarning: To copy construct from a tensor, it is recommended to use sourceTensor.clone().detach() or sourceTensor.clone().detach().requires_grad_(True), rather than torch.tensor(sourceTensor).\n",
            "  'label': torch.tensor(self.label_list[item])\n",
            "/usr/local/lib/python3.10/dist-packages/sklearn/utils/_array_api.py:185: FutureWarning: The input object of type 'Tensor' is an array-like implementing one of the corresponding protocols (`__array__`, `__array_interface__` or `__array_struct__`); but not a sequence (or 0-D). In the future, this object will be coerced as if it was first converted using `np.array(obj)`. To retain the old behaviour, you have to either modify the type 'Tensor', or assign to an empty array created with `np.empty(correct_shape, dtype=object)`.\n",
            "  array = numpy.asarray(array, order=order, dtype=dtype)\n",
            "/usr/local/lib/python3.10/dist-packages/sklearn/utils/_array_api.py:185: VisibleDeprecationWarning: Creating an ndarray from ragged nested sequences (which is a list-or-tuple of lists-or-tuples-or ndarrays with different lengths or shapes) is deprecated. If you meant to do this, you must specify 'dtype=object' when creating the ndarray.\n",
            "  array = numpy.asarray(array, order=order, dtype=dtype)\n"
          ]
        },
        {
          "output_type": "stream",
          "name": "stdout",
          "text": [
            "          val_loss: 0.2309385978362777 val_acc 79.70% val_f1: 62.01%\n",
            "BiLSTM_Atten AUC =  0.8336886993603412\n",
            "Specificity =  0.9019189765458422\n",
            "Sensitivity =  0.5522388059701493\n",
            "[INFO] Register count_lstm() for <class 'torch.nn.modules.rnn.LSTM'>.\n",
            "[INFO] Register count_linear() for <class 'torch.nn.modules.linear.Linear'>.\n",
            "[INFO] Register zero_ops() for <class 'torch.nn.modules.activation.ReLU'>.\n",
            "[INFO] Register zero_ops() for <class 'torch.nn.modules.container.Sequential'>.\n",
            "[INFO] Register zero_ops() for <class 'torch.nn.modules.dropout.Dropout'>.\n",
            "Flops: 80358815488.00\n",
            "MLOPS: 186.84\n",
            "              precision    recall  f1-score   support\n",
            "\n",
            "         0.0     0.8246    0.9019    0.8615       469\n",
            "         1.0     0.7070    0.5522    0.6201       201\n",
            "\n",
            "    accuracy                         0.7970       670\n",
            "   macro avg     0.7658    0.7271    0.7408       670\n",
            "weighted avg     0.7893    0.7970    0.7891       670\n",
            "\n"
          ]
        },
        {
          "output_type": "stream",
          "name": "stderr",
          "text": [
            "<ipython-input-2-f0d979b1a134>:44: UserWarning: To copy construct from a tensor, it is recommended to use sourceTensor.clone().detach() or sourceTensor.clone().detach().requires_grad_(True), rather than torch.tensor(sourceTensor).\n",
            "  'label': torch.tensor(self.label_list[item])\n"
          ]
        },
        {
          "output_type": "stream",
          "name": "stdout",
          "text": [
            "epoch: 45 step: 0/42\n",
            "epoch: 45 step: 4/42\n",
            "epoch: 45 step: 8/42\n",
            "epoch: 45 step: 12/42\n",
            "epoch: 45 step: 16/42\n",
            "epoch: 45 step: 20/42\n",
            "epoch: 45 step: 24/42\n",
            "epoch: 45 step: 28/42\n",
            "epoch: 45 step: 32/42\n",
            "epoch: 45 step: 36/42\n",
            "epoch: 45 step: 40/42\n"
          ]
        },
        {
          "output_type": "stream",
          "name": "stderr",
          "text": [
            "/usr/local/lib/python3.10/dist-packages/sklearn/utils/_array_api.py:185: FutureWarning: The input object of type 'Tensor' is an array-like implementing one of the corresponding protocols (`__array__`, `__array_interface__` or `__array_struct__`); but not a sequence (or 0-D). In the future, this object will be coerced as if it was first converted using `np.array(obj)`. To retain the old behaviour, you have to either modify the type 'Tensor', or assign to an empty array created with `np.empty(correct_shape, dtype=object)`.\n",
            "  array = numpy.asarray(array, order=order, dtype=dtype)\n",
            "/usr/local/lib/python3.10/dist-packages/sklearn/utils/_array_api.py:185: VisibleDeprecationWarning: Creating an ndarray from ragged nested sequences (which is a list-or-tuple of lists-or-tuples-or ndarrays with different lengths or shapes) is deprecated. If you meant to do this, you must specify 'dtype=object' when creating the ndarray.\n",
            "  array = numpy.asarray(array, order=order, dtype=dtype)\n",
            "<ipython-input-2-f0d979b1a134>:44: UserWarning: To copy construct from a tensor, it is recommended to use sourceTensor.clone().detach() or sourceTensor.clone().detach().requires_grad_(True), rather than torch.tensor(sourceTensor).\n",
            "  'label': torch.tensor(self.label_list[item])\n"
          ]
        },
        {
          "output_type": "stream",
          "name": "stdout",
          "text": [
            "test\n",
            "epoch: 45 train_loss: 0.010762507750076197 train_acc: 96.83% train_f1: 94.89%\n"
          ]
        },
        {
          "output_type": "stream",
          "name": "stderr",
          "text": [
            "/usr/local/lib/python3.10/dist-packages/sklearn/utils/_array_api.py:185: FutureWarning: The input object of type 'Tensor' is an array-like implementing one of the corresponding protocols (`__array__`, `__array_interface__` or `__array_struct__`); but not a sequence (or 0-D). In the future, this object will be coerced as if it was first converted using `np.array(obj)`. To retain the old behaviour, you have to either modify the type 'Tensor', or assign to an empty array created with `np.empty(correct_shape, dtype=object)`.\n",
            "  array = numpy.asarray(array, order=order, dtype=dtype)\n",
            "/usr/local/lib/python3.10/dist-packages/sklearn/utils/_array_api.py:185: VisibleDeprecationWarning: Creating an ndarray from ragged nested sequences (which is a list-or-tuple of lists-or-tuples-or ndarrays with different lengths or shapes) is deprecated. If you meant to do this, you must specify 'dtype=object' when creating the ndarray.\n",
            "  array = numpy.asarray(array, order=order, dtype=dtype)\n"
          ]
        },
        {
          "output_type": "stream",
          "name": "stdout",
          "text": [
            "          val_loss: 0.179010925645178 val_acc 80.75% val_f1: 66.32%\n",
            "BiLSTM_Atten AUC =  0.8422599157729476\n",
            "Specificity =  0.8827292110874201\n",
            "Sensitivity =  0.6318407960199005\n",
            "[INFO] Register count_lstm() for <class 'torch.nn.modules.rnn.LSTM'>.\n",
            "[INFO] Register count_linear() for <class 'torch.nn.modules.linear.Linear'>.\n",
            "[INFO] Register zero_ops() for <class 'torch.nn.modules.activation.ReLU'>.\n",
            "[INFO] Register zero_ops() for <class 'torch.nn.modules.container.Sequential'>.\n",
            "[INFO] Register zero_ops() for <class 'torch.nn.modules.dropout.Dropout'>.\n",
            "Flops: 80358815488.00\n",
            "MLOPS: 186.57\n",
            "              precision    recall  f1-score   support\n",
            "\n",
            "         0.0     0.8484    0.8827    0.8652       469\n",
            "         1.0     0.6978    0.6318    0.6632       201\n",
            "\n",
            "    accuracy                         0.8075       670\n",
            "   macro avg     0.7731    0.7573    0.7642       670\n",
            "weighted avg     0.8032    0.8075    0.8046       670\n",
            "\n"
          ]
        },
        {
          "output_type": "stream",
          "name": "stderr",
          "text": [
            "<ipython-input-2-f0d979b1a134>:44: UserWarning: To copy construct from a tensor, it is recommended to use sourceTensor.clone().detach() or sourceTensor.clone().detach().requires_grad_(True), rather than torch.tensor(sourceTensor).\n",
            "  'label': torch.tensor(self.label_list[item])\n"
          ]
        },
        {
          "output_type": "stream",
          "name": "stdout",
          "text": [
            "epoch: 46 step: 0/42\n",
            "epoch: 46 step: 4/42\n",
            "epoch: 46 step: 8/42\n",
            "epoch: 46 step: 12/42\n",
            "epoch: 46 step: 16/42\n",
            "epoch: 46 step: 20/42\n",
            "epoch: 46 step: 24/42\n",
            "epoch: 46 step: 28/42\n",
            "epoch: 46 step: 32/42\n",
            "epoch: 46 step: 36/42\n",
            "epoch: 46 step: 40/42\n"
          ]
        },
        {
          "output_type": "stream",
          "name": "stderr",
          "text": [
            "/usr/local/lib/python3.10/dist-packages/sklearn/utils/_array_api.py:185: FutureWarning: The input object of type 'Tensor' is an array-like implementing one of the corresponding protocols (`__array__`, `__array_interface__` or `__array_struct__`); but not a sequence (or 0-D). In the future, this object will be coerced as if it was first converted using `np.array(obj)`. To retain the old behaviour, you have to either modify the type 'Tensor', or assign to an empty array created with `np.empty(correct_shape, dtype=object)`.\n",
            "  array = numpy.asarray(array, order=order, dtype=dtype)\n",
            "/usr/local/lib/python3.10/dist-packages/sklearn/utils/_array_api.py:185: VisibleDeprecationWarning: Creating an ndarray from ragged nested sequences (which is a list-or-tuple of lists-or-tuples-or ndarrays with different lengths or shapes) is deprecated. If you meant to do this, you must specify 'dtype=object' when creating the ndarray.\n",
            "  array = numpy.asarray(array, order=order, dtype=dtype)\n",
            "<ipython-input-2-f0d979b1a134>:44: UserWarning: To copy construct from a tensor, it is recommended to use sourceTensor.clone().detach() or sourceTensor.clone().detach().requires_grad_(True), rather than torch.tensor(sourceTensor).\n",
            "  'label': torch.tensor(self.label_list[item])\n"
          ]
        },
        {
          "output_type": "stream",
          "name": "stdout",
          "text": [
            "test\n",
            "epoch: 46 train_loss: 0.008890776307366434 train_acc: 97.46% train_f1: 95.92%\n"
          ]
        },
        {
          "output_type": "stream",
          "name": "stderr",
          "text": [
            "/usr/local/lib/python3.10/dist-packages/sklearn/utils/_array_api.py:185: FutureWarning: The input object of type 'Tensor' is an array-like implementing one of the corresponding protocols (`__array__`, `__array_interface__` or `__array_struct__`); but not a sequence (or 0-D). In the future, this object will be coerced as if it was first converted using `np.array(obj)`. To retain the old behaviour, you have to either modify the type 'Tensor', or assign to an empty array created with `np.empty(correct_shape, dtype=object)`.\n",
            "  array = numpy.asarray(array, order=order, dtype=dtype)\n",
            "/usr/local/lib/python3.10/dist-packages/sklearn/utils/_array_api.py:185: VisibleDeprecationWarning: Creating an ndarray from ragged nested sequences (which is a list-or-tuple of lists-or-tuples-or ndarrays with different lengths or shapes) is deprecated. If you meant to do this, you must specify 'dtype=object' when creating the ndarray.\n",
            "  array = numpy.asarray(array, order=order, dtype=dtype)\n",
            "<ipython-input-2-f0d979b1a134>:44: UserWarning: To copy construct from a tensor, it is recommended to use sourceTensor.clone().detach() or sourceTensor.clone().detach().requires_grad_(True), rather than torch.tensor(sourceTensor).\n",
            "  'label': torch.tensor(self.label_list[item])\n"
          ]
        },
        {
          "output_type": "stream",
          "name": "stdout",
          "text": [
            "          val_loss: 0.17338880049911412 val_acc 79.70% val_f1: 65.66%\n",
            "BiLSTM_Atten AUC =  0.8426099778294031\n",
            "Specificity =  0.8614072494669509\n",
            "Sensitivity =  0.6467661691542289\n",
            "[INFO] Register count_lstm() for <class 'torch.nn.modules.rnn.LSTM'>.\n",
            "[INFO] Register count_linear() for <class 'torch.nn.modules.linear.Linear'>.\n",
            "[INFO] Register zero_ops() for <class 'torch.nn.modules.activation.ReLU'>.\n",
            "[INFO] Register zero_ops() for <class 'torch.nn.modules.container.Sequential'>.\n",
            "[INFO] Register zero_ops() for <class 'torch.nn.modules.dropout.Dropout'>.\n",
            "Flops: 80358815488.00\n",
            "MLOPS: 182.68\n",
            "              precision    recall  f1-score   support\n",
            "\n",
            "         0.0     0.8505    0.8614    0.8559       469\n",
            "         1.0     0.6667    0.6468    0.6566       201\n",
            "\n",
            "    accuracy                         0.7970       670\n",
            "   macro avg     0.7586    0.7541    0.7562       670\n",
            "weighted avg     0.7954    0.7970    0.7961       670\n",
            "\n",
            "epoch: 47 step: 0/42\n",
            "epoch: 47 step: 4/42\n",
            "epoch: 47 step: 8/42\n",
            "epoch: 47 step: 12/42\n",
            "epoch: 47 step: 16/42\n",
            "epoch: 47 step: 20/42\n",
            "epoch: 47 step: 24/42\n",
            "epoch: 47 step: 28/42\n",
            "epoch: 47 step: 32/42\n",
            "epoch: 47 step: 36/42\n",
            "epoch: 47 step: 40/42\n"
          ]
        },
        {
          "output_type": "stream",
          "name": "stderr",
          "text": [
            "/usr/local/lib/python3.10/dist-packages/sklearn/utils/_array_api.py:185: FutureWarning: The input object of type 'Tensor' is an array-like implementing one of the corresponding protocols (`__array__`, `__array_interface__` or `__array_struct__`); but not a sequence (or 0-D). In the future, this object will be coerced as if it was first converted using `np.array(obj)`. To retain the old behaviour, you have to either modify the type 'Tensor', or assign to an empty array created with `np.empty(correct_shape, dtype=object)`.\n",
            "  array = numpy.asarray(array, order=order, dtype=dtype)\n",
            "/usr/local/lib/python3.10/dist-packages/sklearn/utils/_array_api.py:185: VisibleDeprecationWarning: Creating an ndarray from ragged nested sequences (which is a list-or-tuple of lists-or-tuples-or ndarrays with different lengths or shapes) is deprecated. If you meant to do this, you must specify 'dtype=object' when creating the ndarray.\n",
            "  array = numpy.asarray(array, order=order, dtype=dtype)\n",
            "<ipython-input-2-f0d979b1a134>:44: UserWarning: To copy construct from a tensor, it is recommended to use sourceTensor.clone().detach() or sourceTensor.clone().detach().requires_grad_(True), rather than torch.tensor(sourceTensor).\n",
            "  'label': torch.tensor(self.label_list[item])\n"
          ]
        },
        {
          "output_type": "stream",
          "name": "stdout",
          "text": [
            "test\n",
            "epoch: 47 train_loss: 0.009734597777770389 train_acc: 95.60% train_f1: 93.16%\n"
          ]
        },
        {
          "output_type": "stream",
          "name": "stderr",
          "text": [
            "/usr/local/lib/python3.10/dist-packages/sklearn/utils/_array_api.py:185: FutureWarning: The input object of type 'Tensor' is an array-like implementing one of the corresponding protocols (`__array__`, `__array_interface__` or `__array_struct__`); but not a sequence (or 0-D). In the future, this object will be coerced as if it was first converted using `np.array(obj)`. To retain the old behaviour, you have to either modify the type 'Tensor', or assign to an empty array created with `np.empty(correct_shape, dtype=object)`.\n",
            "  array = numpy.asarray(array, order=order, dtype=dtype)\n",
            "/usr/local/lib/python3.10/dist-packages/sklearn/utils/_array_api.py:185: VisibleDeprecationWarning: Creating an ndarray from ragged nested sequences (which is a list-or-tuple of lists-or-tuples-or ndarrays with different lengths or shapes) is deprecated. If you meant to do this, you must specify 'dtype=object' when creating the ndarray.\n",
            "  array = numpy.asarray(array, order=order, dtype=dtype)\n",
            "<ipython-input-2-f0d979b1a134>:44: UserWarning: To copy construct from a tensor, it is recommended to use sourceTensor.clone().detach() or sourceTensor.clone().detach().requires_grad_(True), rather than torch.tensor(sourceTensor).\n",
            "  'label': torch.tensor(self.label_list[item])\n"
          ]
        },
        {
          "output_type": "stream",
          "name": "stdout",
          "text": [
            "          val_loss: 0.15421768548813733 val_acc 78.21% val_f1: 65.89%\n",
            "BiLSTM_Atten AUC =  0.8397246178489216\n",
            "Specificity =  0.8166311300639659\n",
            "Sensitivity =  0.7014925373134329\n",
            "[INFO] Register count_lstm() for <class 'torch.nn.modules.rnn.LSTM'>.\n",
            "[INFO] Register count_linear() for <class 'torch.nn.modules.linear.Linear'>.\n",
            "[INFO] Register zero_ops() for <class 'torch.nn.modules.activation.ReLU'>.\n",
            "[INFO] Register zero_ops() for <class 'torch.nn.modules.container.Sequential'>.\n",
            "[INFO] Register zero_ops() for <class 'torch.nn.modules.dropout.Dropout'>.\n",
            "Flops: 80358815488.00\n",
            "MLOPS: 185.20\n",
            "              precision    recall  f1-score   support\n",
            "\n",
            "         0.0     0.8646    0.8166    0.8399       469\n",
            "         1.0     0.6211    0.7015    0.6589       201\n",
            "\n",
            "    accuracy                         0.7821       670\n",
            "   macro avg     0.7429    0.7591    0.7494       670\n",
            "weighted avg     0.7915    0.7821    0.7856       670\n",
            "\n",
            "epoch: 48 step: 0/42\n",
            "epoch: 48 step: 4/42\n",
            "epoch: 48 step: 8/42\n",
            "epoch: 48 step: 12/42\n",
            "epoch: 48 step: 16/42\n",
            "epoch: 48 step: 20/42\n",
            "epoch: 48 step: 24/42\n",
            "epoch: 48 step: 28/42\n",
            "epoch: 48 step: 32/42\n",
            "epoch: 48 step: 36/42\n",
            "epoch: 48 step: 40/42\n"
          ]
        },
        {
          "output_type": "stream",
          "name": "stderr",
          "text": [
            "/usr/local/lib/python3.10/dist-packages/sklearn/utils/_array_api.py:185: FutureWarning: The input object of type 'Tensor' is an array-like implementing one of the corresponding protocols (`__array__`, `__array_interface__` or `__array_struct__`); but not a sequence (or 0-D). In the future, this object will be coerced as if it was first converted using `np.array(obj)`. To retain the old behaviour, you have to either modify the type 'Tensor', or assign to an empty array created with `np.empty(correct_shape, dtype=object)`.\n",
            "  array = numpy.asarray(array, order=order, dtype=dtype)\n",
            "/usr/local/lib/python3.10/dist-packages/sklearn/utils/_array_api.py:185: VisibleDeprecationWarning: Creating an ndarray from ragged nested sequences (which is a list-or-tuple of lists-or-tuples-or ndarrays with different lengths or shapes) is deprecated. If you meant to do this, you must specify 'dtype=object' when creating the ndarray.\n",
            "  array = numpy.asarray(array, order=order, dtype=dtype)\n",
            "<ipython-input-2-f0d979b1a134>:44: UserWarning: To copy construct from a tensor, it is recommended to use sourceTensor.clone().detach() or sourceTensor.clone().detach().requires_grad_(True), rather than torch.tensor(sourceTensor).\n",
            "  'label': torch.tensor(self.label_list[item])\n"
          ]
        },
        {
          "output_type": "stream",
          "name": "stdout",
          "text": [
            "test\n",
            "epoch: 48 train_loss: 0.007799438017952655 train_acc: 98.13% train_f1: 96.97%\n"
          ]
        },
        {
          "output_type": "stream",
          "name": "stderr",
          "text": [
            "/usr/local/lib/python3.10/dist-packages/sklearn/utils/_array_api.py:185: FutureWarning: The input object of type 'Tensor' is an array-like implementing one of the corresponding protocols (`__array__`, `__array_interface__` or `__array_struct__`); but not a sequence (or 0-D). In the future, this object will be coerced as if it was first converted using `np.array(obj)`. To retain the old behaviour, you have to either modify the type 'Tensor', or assign to an empty array created with `np.empty(correct_shape, dtype=object)`.\n",
            "  array = numpy.asarray(array, order=order, dtype=dtype)\n",
            "/usr/local/lib/python3.10/dist-packages/sklearn/utils/_array_api.py:185: VisibleDeprecationWarning: Creating an ndarray from ragged nested sequences (which is a list-or-tuple of lists-or-tuples-or ndarrays with different lengths or shapes) is deprecated. If you meant to do this, you must specify 'dtype=object' when creating the ndarray.\n",
            "  array = numpy.asarray(array, order=order, dtype=dtype)\n",
            "<ipython-input-2-f0d979b1a134>:44: UserWarning: To copy construct from a tensor, it is recommended to use sourceTensor.clone().detach() or sourceTensor.clone().detach().requires_grad_(True), rather than torch.tensor(sourceTensor).\n",
            "  'label': torch.tensor(self.label_list[item])\n"
          ]
        },
        {
          "output_type": "stream",
          "name": "stdout",
          "text": [
            "          val_loss: 0.19452952999960293 val_acc 79.10% val_f1: 63.35%\n",
            "BiLSTM_Atten AUC =  0.8387805110906024\n",
            "Specificity =  0.8720682302771855\n",
            "Sensitivity =  0.6019900497512438\n",
            "[INFO] Register count_lstm() for <class 'torch.nn.modules.rnn.LSTM'>.\n",
            "[INFO] Register count_linear() for <class 'torch.nn.modules.linear.Linear'>.\n",
            "[INFO] Register zero_ops() for <class 'torch.nn.modules.activation.ReLU'>.\n",
            "[INFO] Register zero_ops() for <class 'torch.nn.modules.container.Sequential'>.\n",
            "[INFO] Register zero_ops() for <class 'torch.nn.modules.dropout.Dropout'>.\n",
            "Flops: 80358815488.00\n",
            "MLOPS: 185.73\n",
            "              precision    recall  f1-score   support\n",
            "\n",
            "         0.0     0.8364    0.8721    0.8539       469\n",
            "         1.0     0.6685    0.6020    0.6335       201\n",
            "\n",
            "    accuracy                         0.7910       670\n",
            "   macro avg     0.7525    0.7370    0.7437       670\n",
            "weighted avg     0.7860    0.7910    0.7878       670\n",
            "\n",
            "epoch: 49 step: 0/42\n",
            "epoch: 49 step: 4/42\n",
            "epoch: 49 step: 8/42\n",
            "epoch: 49 step: 12/42\n",
            "epoch: 49 step: 16/42\n",
            "epoch: 49 step: 20/42\n",
            "epoch: 49 step: 24/42\n",
            "epoch: 49 step: 28/42\n",
            "epoch: 49 step: 32/42\n",
            "epoch: 49 step: 36/42\n",
            "epoch: 49 step: 40/42\n"
          ]
        },
        {
          "output_type": "stream",
          "name": "stderr",
          "text": [
            "/usr/local/lib/python3.10/dist-packages/sklearn/utils/_array_api.py:185: FutureWarning: The input object of type 'Tensor' is an array-like implementing one of the corresponding protocols (`__array__`, `__array_interface__` or `__array_struct__`); but not a sequence (or 0-D). In the future, this object will be coerced as if it was first converted using `np.array(obj)`. To retain the old behaviour, you have to either modify the type 'Tensor', or assign to an empty array created with `np.empty(correct_shape, dtype=object)`.\n",
            "  array = numpy.asarray(array, order=order, dtype=dtype)\n",
            "/usr/local/lib/python3.10/dist-packages/sklearn/utils/_array_api.py:185: VisibleDeprecationWarning: Creating an ndarray from ragged nested sequences (which is a list-or-tuple of lists-or-tuples-or ndarrays with different lengths or shapes) is deprecated. If you meant to do this, you must specify 'dtype=object' when creating the ndarray.\n",
            "  array = numpy.asarray(array, order=order, dtype=dtype)\n"
          ]
        },
        {
          "output_type": "stream",
          "name": "stdout",
          "text": [
            "test\n",
            "epoch: 49 train_loss: 0.008686419038678565 train_acc: 96.38% train_f1: 94.31%\n"
          ]
        },
        {
          "output_type": "stream",
          "name": "stderr",
          "text": [
            "<ipython-input-2-f0d979b1a134>:44: UserWarning: To copy construct from a tensor, it is recommended to use sourceTensor.clone().detach() or sourceTensor.clone().detach().requires_grad_(True), rather than torch.tensor(sourceTensor).\n",
            "  'label': torch.tensor(self.label_list[item])\n",
            "/usr/local/lib/python3.10/dist-packages/sklearn/utils/_array_api.py:185: FutureWarning: The input object of type 'Tensor' is an array-like implementing one of the corresponding protocols (`__array__`, `__array_interface__` or `__array_struct__`); but not a sequence (or 0-D). In the future, this object will be coerced as if it was first converted using `np.array(obj)`. To retain the old behaviour, you have to either modify the type 'Tensor', or assign to an empty array created with `np.empty(correct_shape, dtype=object)`.\n",
            "  array = numpy.asarray(array, order=order, dtype=dtype)\n",
            "/usr/local/lib/python3.10/dist-packages/sklearn/utils/_array_api.py:185: VisibleDeprecationWarning: Creating an ndarray from ragged nested sequences (which is a list-or-tuple of lists-or-tuples-or ndarrays with different lengths or shapes) is deprecated. If you meant to do this, you must specify 'dtype=object' when creating the ndarray.\n",
            "  array = numpy.asarray(array, order=order, dtype=dtype)\n",
            "<ipython-input-2-f0d979b1a134>:44: UserWarning: To copy construct from a tensor, it is recommended to use sourceTensor.clone().detach() or sourceTensor.clone().detach().requires_grad_(True), rather than torch.tensor(sourceTensor).\n",
            "  'label': torch.tensor(self.label_list[item])\n"
          ]
        },
        {
          "output_type": "stream",
          "name": "stdout",
          "text": [
            "          val_loss: 0.15432808175683022 val_acc 78.21% val_f1: 65.57%\n",
            "BiLSTM_Atten AUC =  0.8391836128525815\n",
            "Specificity =  0.8208955223880597\n",
            "Sensitivity =  0.6915422885572139\n",
            "[INFO] Register count_lstm() for <class 'torch.nn.modules.rnn.LSTM'>.\n",
            "[INFO] Register count_linear() for <class 'torch.nn.modules.linear.Linear'>.\n",
            "[INFO] Register zero_ops() for <class 'torch.nn.modules.activation.ReLU'>.\n",
            "[INFO] Register zero_ops() for <class 'torch.nn.modules.container.Sequential'>.\n",
            "[INFO] Register zero_ops() for <class 'torch.nn.modules.dropout.Dropout'>.\n",
            "Flops: 80358815488.00\n",
            "MLOPS: 186.43\n",
            "              precision    recall  f1-score   support\n",
            "\n",
            "         0.0     0.8613    0.8209    0.8406       469\n",
            "         1.0     0.6233    0.6915    0.6557       201\n",
            "\n",
            "    accuracy                         0.7821       670\n",
            "   macro avg     0.7423    0.7562    0.7481       670\n",
            "weighted avg     0.7899    0.7821    0.7851       670\n",
            "\n",
            "epoch: 50 step: 0/42\n",
            "epoch: 50 step: 4/42\n",
            "epoch: 50 step: 8/42\n",
            "epoch: 50 step: 12/42\n",
            "epoch: 50 step: 16/42\n",
            "epoch: 50 step: 20/42\n",
            "epoch: 50 step: 24/42\n",
            "epoch: 50 step: 28/42\n",
            "epoch: 50 step: 32/42\n",
            "epoch: 50 step: 36/42\n",
            "epoch: 50 step: 40/42\n"
          ]
        },
        {
          "output_type": "stream",
          "name": "stderr",
          "text": [
            "/usr/local/lib/python3.10/dist-packages/sklearn/utils/_array_api.py:185: FutureWarning: The input object of type 'Tensor' is an array-like implementing one of the corresponding protocols (`__array__`, `__array_interface__` or `__array_struct__`); but not a sequence (or 0-D). In the future, this object will be coerced as if it was first converted using `np.array(obj)`. To retain the old behaviour, you have to either modify the type 'Tensor', or assign to an empty array created with `np.empty(correct_shape, dtype=object)`.\n",
            "  array = numpy.asarray(array, order=order, dtype=dtype)\n",
            "/usr/local/lib/python3.10/dist-packages/sklearn/utils/_array_api.py:185: VisibleDeprecationWarning: Creating an ndarray from ragged nested sequences (which is a list-or-tuple of lists-or-tuples-or ndarrays with different lengths or shapes) is deprecated. If you meant to do this, you must specify 'dtype=object' when creating the ndarray.\n",
            "  array = numpy.asarray(array, order=order, dtype=dtype)\n",
            "<ipython-input-2-f0d979b1a134>:44: UserWarning: To copy construct from a tensor, it is recommended to use sourceTensor.clone().detach() or sourceTensor.clone().detach().requires_grad_(True), rather than torch.tensor(sourceTensor).\n",
            "  'label': torch.tensor(self.label_list[item])\n"
          ]
        },
        {
          "output_type": "stream",
          "name": "stdout",
          "text": [
            "test\n",
            "epoch: 50 train_loss: 0.006512775601420019 train_acc: 98.17% train_f1: 97.04%\n"
          ]
        },
        {
          "output_type": "stream",
          "name": "stderr",
          "text": [
            "/usr/local/lib/python3.10/dist-packages/sklearn/utils/_array_api.py:185: FutureWarning: The input object of type 'Tensor' is an array-like implementing one of the corresponding protocols (`__array__`, `__array_interface__` or `__array_struct__`); but not a sequence (or 0-D). In the future, this object will be coerced as if it was first converted using `np.array(obj)`. To retain the old behaviour, you have to either modify the type 'Tensor', or assign to an empty array created with `np.empty(correct_shape, dtype=object)`.\n",
            "  array = numpy.asarray(array, order=order, dtype=dtype)\n",
            "/usr/local/lib/python3.10/dist-packages/sklearn/utils/_array_api.py:185: VisibleDeprecationWarning: Creating an ndarray from ragged nested sequences (which is a list-or-tuple of lists-or-tuples-or ndarrays with different lengths or shapes) is deprecated. If you meant to do this, you must specify 'dtype=object' when creating the ndarray.\n",
            "  array = numpy.asarray(array, order=order, dtype=dtype)\n"
          ]
        },
        {
          "output_type": "stream",
          "name": "stdout",
          "text": [
            "          val_loss: 0.2267112677747553 val_acc 79.10% val_f1: 63.54%\n",
            "BiLSTM_Atten AUC =  0.8363512925776238\n",
            "Specificity =  0.8699360341151386\n",
            "Sensitivity =  0.6069651741293532\n",
            "[INFO] Register count_lstm() for <class 'torch.nn.modules.rnn.LSTM'>.\n",
            "[INFO] Register count_linear() for <class 'torch.nn.modules.linear.Linear'>.\n",
            "[INFO] Register zero_ops() for <class 'torch.nn.modules.activation.ReLU'>.\n",
            "[INFO] Register zero_ops() for <class 'torch.nn.modules.container.Sequential'>.\n",
            "[INFO] Register zero_ops() for <class 'torch.nn.modules.dropout.Dropout'>.\n",
            "Flops: 80358815488.00\n",
            "MLOPS: 186.94\n",
            "              precision    recall  f1-score   support\n",
            "\n",
            "         0.0     0.8378    0.8699    0.8536       469\n",
            "         1.0     0.6667    0.6070    0.6354       201\n",
            "\n",
            "    accuracy                         0.7910       670\n",
            "   macro avg     0.7522    0.7385    0.7445       670\n",
            "weighted avg     0.7864    0.7910    0.7881       670\n",
            "\n"
          ]
        },
        {
          "output_type": "stream",
          "name": "stderr",
          "text": [
            "<ipython-input-2-f0d979b1a134>:44: UserWarning: To copy construct from a tensor, it is recommended to use sourceTensor.clone().detach() or sourceTensor.clone().detach().requires_grad_(True), rather than torch.tensor(sourceTensor).\n",
            "  'label': torch.tensor(self.label_list[item])\n"
          ]
        },
        {
          "output_type": "stream",
          "name": "stdout",
          "text": [
            "epoch: 51 step: 0/42\n",
            "epoch: 51 step: 4/42\n",
            "epoch: 51 step: 8/42\n",
            "epoch: 51 step: 12/42\n",
            "epoch: 51 step: 16/42\n",
            "epoch: 51 step: 20/42\n",
            "epoch: 51 step: 24/42\n",
            "epoch: 51 step: 28/42\n",
            "epoch: 51 step: 32/42\n",
            "epoch: 51 step: 36/42\n",
            "epoch: 51 step: 40/42\n"
          ]
        },
        {
          "output_type": "stream",
          "name": "stderr",
          "text": [
            "/usr/local/lib/python3.10/dist-packages/sklearn/utils/_array_api.py:185: FutureWarning: The input object of type 'Tensor' is an array-like implementing one of the corresponding protocols (`__array__`, `__array_interface__` or `__array_struct__`); but not a sequence (or 0-D). In the future, this object will be coerced as if it was first converted using `np.array(obj)`. To retain the old behaviour, you have to either modify the type 'Tensor', or assign to an empty array created with `np.empty(correct_shape, dtype=object)`.\n",
            "  array = numpy.asarray(array, order=order, dtype=dtype)\n",
            "/usr/local/lib/python3.10/dist-packages/sklearn/utils/_array_api.py:185: VisibleDeprecationWarning: Creating an ndarray from ragged nested sequences (which is a list-or-tuple of lists-or-tuples-or ndarrays with different lengths or shapes) is deprecated. If you meant to do this, you must specify 'dtype=object' when creating the ndarray.\n",
            "  array = numpy.asarray(array, order=order, dtype=dtype)\n",
            "<ipython-input-2-f0d979b1a134>:44: UserWarning: To copy construct from a tensor, it is recommended to use sourceTensor.clone().detach() or sourceTensor.clone().detach().requires_grad_(True), rather than torch.tensor(sourceTensor).\n",
            "  'label': torch.tensor(self.label_list[item])\n"
          ]
        },
        {
          "output_type": "stream",
          "name": "stdout",
          "text": [
            "test\n",
            "epoch: 51 train_loss: 0.005774112340683739 train_acc: 98.40% train_f1: 97.39%\n"
          ]
        },
        {
          "output_type": "stream",
          "name": "stderr",
          "text": [
            "/usr/local/lib/python3.10/dist-packages/sklearn/utils/_array_api.py:185: FutureWarning: The input object of type 'Tensor' is an array-like implementing one of the corresponding protocols (`__array__`, `__array_interface__` or `__array_struct__`); but not a sequence (or 0-D). In the future, this object will be coerced as if it was first converted using `np.array(obj)`. To retain the old behaviour, you have to either modify the type 'Tensor', or assign to an empty array created with `np.empty(correct_shape, dtype=object)`.\n",
            "  array = numpy.asarray(array, order=order, dtype=dtype)\n",
            "/usr/local/lib/python3.10/dist-packages/sklearn/utils/_array_api.py:185: VisibleDeprecationWarning: Creating an ndarray from ragged nested sequences (which is a list-or-tuple of lists-or-tuples-or ndarrays with different lengths or shapes) is deprecated. If you meant to do this, you must specify 'dtype=object' when creating the ndarray.\n",
            "  array = numpy.asarray(array, order=order, dtype=dtype)\n",
            "<ipython-input-2-f0d979b1a134>:44: UserWarning: To copy construct from a tensor, it is recommended to use sourceTensor.clone().detach() or sourceTensor.clone().detach().requires_grad_(True), rather than torch.tensor(sourceTensor).\n",
            "  'label': torch.tensor(self.label_list[item])\n"
          ]
        },
        {
          "output_type": "stream",
          "name": "stdout",
          "text": [
            "          val_loss: 0.22476030344312842 val_acc 79.10% val_f1: 63.73%\n",
            "BiLSTM_Atten AUC =  0.8366589228696601\n",
            "Specificity =  0.8678038379530917\n",
            "Sensitivity =  0.6119402985074627\n",
            "[INFO] Register count_lstm() for <class 'torch.nn.modules.rnn.LSTM'>.\n",
            "[INFO] Register count_linear() for <class 'torch.nn.modules.linear.Linear'>.\n",
            "[INFO] Register zero_ops() for <class 'torch.nn.modules.activation.ReLU'>.\n",
            "[INFO] Register zero_ops() for <class 'torch.nn.modules.container.Sequential'>.\n",
            "[INFO] Register zero_ops() for <class 'torch.nn.modules.dropout.Dropout'>.\n",
            "Flops: 80358815488.00\n",
            "MLOPS: 184.33\n",
            "              precision    recall  f1-score   support\n",
            "\n",
            "         0.0     0.8392    0.8678    0.8532       469\n",
            "         1.0     0.6649    0.6119    0.6373       201\n",
            "\n",
            "    accuracy                         0.7910       670\n",
            "   macro avg     0.7520    0.7399    0.7453       670\n",
            "weighted avg     0.7869    0.7910    0.7885       670\n",
            "\n",
            "epoch: 52 step: 0/42\n",
            "epoch: 52 step: 4/42\n",
            "epoch: 52 step: 8/42\n",
            "epoch: 52 step: 12/42\n",
            "epoch: 52 step: 16/42\n",
            "epoch: 52 step: 20/42\n",
            "epoch: 52 step: 24/42\n",
            "epoch: 52 step: 28/42\n",
            "epoch: 52 step: 32/42\n",
            "epoch: 52 step: 36/42\n",
            "epoch: 52 step: 40/42\n"
          ]
        },
        {
          "output_type": "stream",
          "name": "stderr",
          "text": [
            "/usr/local/lib/python3.10/dist-packages/sklearn/utils/_array_api.py:185: FutureWarning: The input object of type 'Tensor' is an array-like implementing one of the corresponding protocols (`__array__`, `__array_interface__` or `__array_struct__`); but not a sequence (or 0-D). In the future, this object will be coerced as if it was first converted using `np.array(obj)`. To retain the old behaviour, you have to either modify the type 'Tensor', or assign to an empty array created with `np.empty(correct_shape, dtype=object)`.\n",
            "  array = numpy.asarray(array, order=order, dtype=dtype)\n",
            "/usr/local/lib/python3.10/dist-packages/sklearn/utils/_array_api.py:185: VisibleDeprecationWarning: Creating an ndarray from ragged nested sequences (which is a list-or-tuple of lists-or-tuples-or ndarrays with different lengths or shapes) is deprecated. If you meant to do this, you must specify 'dtype=object' when creating the ndarray.\n",
            "  array = numpy.asarray(array, order=order, dtype=dtype)\n",
            "<ipython-input-2-f0d979b1a134>:44: UserWarning: To copy construct from a tensor, it is recommended to use sourceTensor.clone().detach() or sourceTensor.clone().detach().requires_grad_(True), rather than torch.tensor(sourceTensor).\n",
            "  'label': torch.tensor(self.label_list[item])\n"
          ]
        },
        {
          "output_type": "stream",
          "name": "stdout",
          "text": [
            "test\n",
            "epoch: 52 train_loss: 0.006381808253492983 train_acc: 97.24% train_f1: 95.60%\n"
          ]
        },
        {
          "output_type": "stream",
          "name": "stderr",
          "text": [
            "/usr/local/lib/python3.10/dist-packages/sklearn/utils/_array_api.py:185: FutureWarning: The input object of type 'Tensor' is an array-like implementing one of the corresponding protocols (`__array__`, `__array_interface__` or `__array_struct__`); but not a sequence (or 0-D). In the future, this object will be coerced as if it was first converted using `np.array(obj)`. To retain the old behaviour, you have to either modify the type 'Tensor', or assign to an empty array created with `np.empty(correct_shape, dtype=object)`.\n",
            "  array = numpy.asarray(array, order=order, dtype=dtype)\n",
            "/usr/local/lib/python3.10/dist-packages/sklearn/utils/_array_api.py:185: VisibleDeprecationWarning: Creating an ndarray from ragged nested sequences (which is a list-or-tuple of lists-or-tuples-or ndarrays with different lengths or shapes) is deprecated. If you meant to do this, you must specify 'dtype=object' when creating the ndarray.\n",
            "  array = numpy.asarray(array, order=order, dtype=dtype)\n",
            "<ipython-input-2-f0d979b1a134>:44: UserWarning: To copy construct from a tensor, it is recommended to use sourceTensor.clone().detach() or sourceTensor.clone().detach().requires_grad_(True), rather than torch.tensor(sourceTensor).\n",
            "  'label': torch.tensor(self.label_list[item])\n"
          ]
        },
        {
          "output_type": "stream",
          "name": "stdout",
          "text": [
            "          val_loss: 0.18586346811868928 val_acc 79.10% val_f1: 66.35%\n",
            "BiLSTM_Atten AUC =  0.8377303249212361\n",
            "Specificity =  0.835820895522388\n",
            "Sensitivity =  0.6865671641791045\n",
            "[INFO] Register count_lstm() for <class 'torch.nn.modules.rnn.LSTM'>.\n",
            "[INFO] Register count_linear() for <class 'torch.nn.modules.linear.Linear'>.\n",
            "[INFO] Register zero_ops() for <class 'torch.nn.modules.activation.ReLU'>.\n",
            "[INFO] Register zero_ops() for <class 'torch.nn.modules.container.Sequential'>.\n",
            "[INFO] Register zero_ops() for <class 'torch.nn.modules.dropout.Dropout'>.\n",
            "Flops: 80358815488.00\n",
            "MLOPS: 185.76\n",
            "              precision    recall  f1-score   support\n",
            "\n",
            "         0.0     0.8615    0.8358    0.8485       469\n",
            "         1.0     0.6419    0.6866    0.6635       201\n",
            "\n",
            "    accuracy                         0.7910       670\n",
            "   macro avg     0.7517    0.7612    0.7560       670\n",
            "weighted avg     0.7956    0.7910    0.7930       670\n",
            "\n",
            "epoch: 53 step: 0/42\n",
            "epoch: 53 step: 4/42\n",
            "epoch: 53 step: 8/42\n",
            "epoch: 53 step: 12/42\n",
            "epoch: 53 step: 16/42\n",
            "epoch: 53 step: 20/42\n",
            "epoch: 53 step: 24/42\n",
            "epoch: 53 step: 28/42\n",
            "epoch: 53 step: 32/42\n",
            "epoch: 53 step: 36/42\n",
            "epoch: 53 step: 40/42\n"
          ]
        },
        {
          "output_type": "stream",
          "name": "stderr",
          "text": [
            "/usr/local/lib/python3.10/dist-packages/sklearn/utils/_array_api.py:185: FutureWarning: The input object of type 'Tensor' is an array-like implementing one of the corresponding protocols (`__array__`, `__array_interface__` or `__array_struct__`); but not a sequence (or 0-D). In the future, this object will be coerced as if it was first converted using `np.array(obj)`. To retain the old behaviour, you have to either modify the type 'Tensor', or assign to an empty array created with `np.empty(correct_shape, dtype=object)`.\n",
            "  array = numpy.asarray(array, order=order, dtype=dtype)\n",
            "/usr/local/lib/python3.10/dist-packages/sklearn/utils/_array_api.py:185: VisibleDeprecationWarning: Creating an ndarray from ragged nested sequences (which is a list-or-tuple of lists-or-tuples-or ndarrays with different lengths or shapes) is deprecated. If you meant to do this, you must specify 'dtype=object' when creating the ndarray.\n",
            "  array = numpy.asarray(array, order=order, dtype=dtype)\n",
            "<ipython-input-2-f0d979b1a134>:44: UserWarning: To copy construct from a tensor, it is recommended to use sourceTensor.clone().detach() or sourceTensor.clone().detach().requires_grad_(True), rather than torch.tensor(sourceTensor).\n",
            "  'label': torch.tensor(self.label_list[item])\n"
          ]
        },
        {
          "output_type": "stream",
          "name": "stdout",
          "text": [
            "test\n",
            "epoch: 53 train_loss: 0.0051336485498939596 train_acc: 98.88% train_f1: 98.16%\n"
          ]
        },
        {
          "output_type": "stream",
          "name": "stderr",
          "text": [
            "/usr/local/lib/python3.10/dist-packages/sklearn/utils/_array_api.py:185: FutureWarning: The input object of type 'Tensor' is an array-like implementing one of the corresponding protocols (`__array__`, `__array_interface__` or `__array_struct__`); but not a sequence (or 0-D). In the future, this object will be coerced as if it was first converted using `np.array(obj)`. To retain the old behaviour, you have to either modify the type 'Tensor', or assign to an empty array created with `np.empty(correct_shape, dtype=object)`.\n",
            "  array = numpy.asarray(array, order=order, dtype=dtype)\n",
            "/usr/local/lib/python3.10/dist-packages/sklearn/utils/_array_api.py:185: VisibleDeprecationWarning: Creating an ndarray from ragged nested sequences (which is a list-or-tuple of lists-or-tuples-or ndarrays with different lengths or shapes) is deprecated. If you meant to do this, you must specify 'dtype=object' when creating the ndarray.\n",
            "  array = numpy.asarray(array, order=order, dtype=dtype)\n",
            "<ipython-input-2-f0d979b1a134>:44: UserWarning: To copy construct from a tensor, it is recommended to use sourceTensor.clone().detach() or sourceTensor.clone().detach().requires_grad_(True), rather than torch.tensor(sourceTensor).\n",
            "  'label': torch.tensor(self.label_list[item])\n"
          ]
        },
        {
          "output_type": "stream",
          "name": "stdout",
          "text": [
            "          val_loss: 0.25023914805867453 val_acc 79.85% val_f1: 63.22%\n",
            "BiLSTM_Atten AUC =  0.8364785878708801\n",
            "Specificity =  0.8933901918976546\n",
            "Sensitivity =  0.5771144278606966\n",
            "[INFO] Register count_lstm() for <class 'torch.nn.modules.rnn.LSTM'>.\n",
            "[INFO] Register count_linear() for <class 'torch.nn.modules.linear.Linear'>.\n",
            "[INFO] Register zero_ops() for <class 'torch.nn.modules.activation.ReLU'>.\n",
            "[INFO] Register zero_ops() for <class 'torch.nn.modules.container.Sequential'>.\n",
            "[INFO] Register zero_ops() for <class 'torch.nn.modules.dropout.Dropout'>.\n",
            "Flops: 80358815488.00\n",
            "MLOPS: 185.41\n",
            "              precision    recall  f1-score   support\n",
            "\n",
            "         0.0     0.8313    0.8934    0.8613       469\n",
            "         1.0     0.6988    0.5771    0.6322       201\n",
            "\n",
            "    accuracy                         0.7985       670\n",
            "   macro avg     0.7651    0.7353    0.7467       670\n",
            "weighted avg     0.7916    0.7985    0.7925       670\n",
            "\n",
            "epoch: 54 step: 0/42\n",
            "epoch: 54 step: 4/42\n",
            "epoch: 54 step: 8/42\n",
            "epoch: 54 step: 12/42\n",
            "epoch: 54 step: 16/42\n",
            "epoch: 54 step: 20/42\n",
            "epoch: 54 step: 24/42\n",
            "epoch: 54 step: 28/42\n",
            "epoch: 54 step: 32/42\n",
            "epoch: 54 step: 36/42\n",
            "epoch: 54 step: 40/42\n"
          ]
        },
        {
          "output_type": "stream",
          "name": "stderr",
          "text": [
            "/usr/local/lib/python3.10/dist-packages/sklearn/utils/_array_api.py:185: FutureWarning: The input object of type 'Tensor' is an array-like implementing one of the corresponding protocols (`__array__`, `__array_interface__` or `__array_struct__`); but not a sequence (or 0-D). In the future, this object will be coerced as if it was first converted using `np.array(obj)`. To retain the old behaviour, you have to either modify the type 'Tensor', or assign to an empty array created with `np.empty(correct_shape, dtype=object)`.\n",
            "  array = numpy.asarray(array, order=order, dtype=dtype)\n",
            "/usr/local/lib/python3.10/dist-packages/sklearn/utils/_array_api.py:185: VisibleDeprecationWarning: Creating an ndarray from ragged nested sequences (which is a list-or-tuple of lists-or-tuples-or ndarrays with different lengths or shapes) is deprecated. If you meant to do this, you must specify 'dtype=object' when creating the ndarray.\n",
            "  array = numpy.asarray(array, order=order, dtype=dtype)\n"
          ]
        },
        {
          "output_type": "stream",
          "name": "stdout",
          "text": [
            "test\n",
            "epoch: 54 train_loss: 0.005355940873934222 train_acc: 98.69% train_f1: 97.85%\n"
          ]
        },
        {
          "output_type": "stream",
          "name": "stderr",
          "text": [
            "<ipython-input-2-f0d979b1a134>:44: UserWarning: To copy construct from a tensor, it is recommended to use sourceTensor.clone().detach() or sourceTensor.clone().detach().requires_grad_(True), rather than torch.tensor(sourceTensor).\n",
            "  'label': torch.tensor(self.label_list[item])\n",
            "/usr/local/lib/python3.10/dist-packages/sklearn/utils/_array_api.py:185: FutureWarning: The input object of type 'Tensor' is an array-like implementing one of the corresponding protocols (`__array__`, `__array_interface__` or `__array_struct__`); but not a sequence (or 0-D). In the future, this object will be coerced as if it was first converted using `np.array(obj)`. To retain the old behaviour, you have to either modify the type 'Tensor', or assign to an empty array created with `np.empty(correct_shape, dtype=object)`.\n",
            "  array = numpy.asarray(array, order=order, dtype=dtype)\n",
            "/usr/local/lib/python3.10/dist-packages/sklearn/utils/_array_api.py:185: VisibleDeprecationWarning: Creating an ndarray from ragged nested sequences (which is a list-or-tuple of lists-or-tuples-or ndarrays with different lengths or shapes) is deprecated. If you meant to do this, you must specify 'dtype=object' when creating the ndarray.\n",
            "  array = numpy.asarray(array, order=order, dtype=dtype)\n",
            "<ipython-input-2-f0d979b1a134>:44: UserWarning: To copy construct from a tensor, it is recommended to use sourceTensor.clone().detach() or sourceTensor.clone().detach().requires_grad_(True), rather than torch.tensor(sourceTensor).\n",
            "  'label': torch.tensor(self.label_list[item])\n"
          ]
        },
        {
          "output_type": "stream",
          "name": "stdout",
          "text": [
            "          val_loss: 0.24893171949820084 val_acc 79.40% val_f1: 62.30%\n",
            "BiLSTM_Atten AUC =  0.832924927600802\n",
            "Specificity =  0.8912579957356077\n",
            "Sensitivity =  0.5671641791044776\n",
            "[INFO] Register count_lstm() for <class 'torch.nn.modules.rnn.LSTM'>.\n",
            "[INFO] Register count_linear() for <class 'torch.nn.modules.linear.Linear'>.\n",
            "[INFO] Register zero_ops() for <class 'torch.nn.modules.activation.ReLU'>.\n",
            "[INFO] Register zero_ops() for <class 'torch.nn.modules.container.Sequential'>.\n",
            "[INFO] Register zero_ops() for <class 'torch.nn.modules.dropout.Dropout'>.\n",
            "Flops: 80358815488.00\n",
            "MLOPS: 186.20\n",
            "              precision    recall  f1-score   support\n",
            "\n",
            "         0.0     0.8277    0.8913    0.8583       469\n",
            "         1.0     0.6909    0.5672    0.6230       201\n",
            "\n",
            "    accuracy                         0.7940       670\n",
            "   macro avg     0.7593    0.7292    0.7406       670\n",
            "weighted avg     0.7867    0.7940    0.7877       670\n",
            "\n",
            "epoch: 55 step: 0/42\n",
            "epoch: 55 step: 4/42\n",
            "epoch: 55 step: 8/42\n",
            "epoch: 55 step: 12/42\n",
            "epoch: 55 step: 16/42\n",
            "epoch: 55 step: 20/42\n",
            "epoch: 55 step: 24/42\n",
            "epoch: 55 step: 28/42\n",
            "epoch: 55 step: 32/42\n",
            "epoch: 55 step: 36/42\n",
            "epoch: 55 step: 40/42\n"
          ]
        },
        {
          "output_type": "stream",
          "name": "stderr",
          "text": [
            "/usr/local/lib/python3.10/dist-packages/sklearn/utils/_array_api.py:185: FutureWarning: The input object of type 'Tensor' is an array-like implementing one of the corresponding protocols (`__array__`, `__array_interface__` or `__array_struct__`); but not a sequence (or 0-D). In the future, this object will be coerced as if it was first converted using `np.array(obj)`. To retain the old behaviour, you have to either modify the type 'Tensor', or assign to an empty array created with `np.empty(correct_shape, dtype=object)`.\n",
            "  array = numpy.asarray(array, order=order, dtype=dtype)\n",
            "/usr/local/lib/python3.10/dist-packages/sklearn/utils/_array_api.py:185: VisibleDeprecationWarning: Creating an ndarray from ragged nested sequences (which is a list-or-tuple of lists-or-tuples-or ndarrays with different lengths or shapes) is deprecated. If you meant to do this, you must specify 'dtype=object' when creating the ndarray.\n",
            "  array = numpy.asarray(array, order=order, dtype=dtype)\n",
            "<ipython-input-2-f0d979b1a134>:44: UserWarning: To copy construct from a tensor, it is recommended to use sourceTensor.clone().detach() or sourceTensor.clone().detach().requires_grad_(True), rather than torch.tensor(sourceTensor).\n",
            "  'label': torch.tensor(self.label_list[item])\n"
          ]
        },
        {
          "output_type": "stream",
          "name": "stdout",
          "text": [
            "test\n",
            "epoch: 55 train_loss: 0.004134382315290471 train_acc: 98.62% train_f1: 97.75%\n"
          ]
        },
        {
          "output_type": "stream",
          "name": "stderr",
          "text": [
            "/usr/local/lib/python3.10/dist-packages/sklearn/utils/_array_api.py:185: FutureWarning: The input object of type 'Tensor' is an array-like implementing one of the corresponding protocols (`__array__`, `__array_interface__` or `__array_struct__`); but not a sequence (or 0-D). In the future, this object will be coerced as if it was first converted using `np.array(obj)`. To retain the old behaviour, you have to either modify the type 'Tensor', or assign to an empty array created with `np.empty(correct_shape, dtype=object)`.\n",
            "  array = numpy.asarray(array, order=order, dtype=dtype)\n",
            "/usr/local/lib/python3.10/dist-packages/sklearn/utils/_array_api.py:185: VisibleDeprecationWarning: Creating an ndarray from ragged nested sequences (which is a list-or-tuple of lists-or-tuples-or ndarrays with different lengths or shapes) is deprecated. If you meant to do this, you must specify 'dtype=object' when creating the ndarray.\n",
            "  array = numpy.asarray(array, order=order, dtype=dtype)\n"
          ]
        },
        {
          "output_type": "stream",
          "name": "stdout",
          "text": [
            "          val_loss: 0.22271618382497269 val_acc 78.66% val_f1: 63.24%\n",
            "BiLSTM_Atten AUC =  0.8375075581580371\n",
            "Specificity =  0.8614072494669509\n",
            "Sensitivity =  0.6119402985074627\n",
            "[INFO] Register count_lstm() for <class 'torch.nn.modules.rnn.LSTM'>.\n",
            "[INFO] Register count_linear() for <class 'torch.nn.modules.linear.Linear'>.\n",
            "[INFO] Register zero_ops() for <class 'torch.nn.modules.activation.ReLU'>.\n",
            "[INFO] Register zero_ops() for <class 'torch.nn.modules.container.Sequential'>.\n",
            "[INFO] Register zero_ops() for <class 'torch.nn.modules.dropout.Dropout'>.\n",
            "Flops: 80358815488.00\n",
            "MLOPS: 186.99\n",
            "              precision    recall  f1-score   support\n",
            "\n",
            "         0.0     0.8382    0.8614    0.8496       469\n",
            "         1.0     0.6543    0.6119    0.6324       201\n",
            "\n",
            "    accuracy                         0.7866       670\n",
            "   macro avg     0.7462    0.7367    0.7410       670\n",
            "weighted avg     0.7830    0.7866    0.7845       670\n",
            "\n"
          ]
        },
        {
          "output_type": "stream",
          "name": "stderr",
          "text": [
            "<ipython-input-2-f0d979b1a134>:44: UserWarning: To copy construct from a tensor, it is recommended to use sourceTensor.clone().detach() or sourceTensor.clone().detach().requires_grad_(True), rather than torch.tensor(sourceTensor).\n",
            "  'label': torch.tensor(self.label_list[item])\n"
          ]
        },
        {
          "output_type": "stream",
          "name": "stdout",
          "text": [
            "epoch: 56 step: 0/42\n",
            "epoch: 56 step: 4/42\n",
            "epoch: 56 step: 8/42\n",
            "epoch: 56 step: 12/42\n",
            "epoch: 56 step: 16/42\n",
            "epoch: 56 step: 20/42\n",
            "epoch: 56 step: 24/42\n",
            "epoch: 56 step: 28/42\n",
            "epoch: 56 step: 32/42\n",
            "epoch: 56 step: 36/42\n",
            "epoch: 56 step: 40/42\n"
          ]
        },
        {
          "output_type": "stream",
          "name": "stderr",
          "text": [
            "/usr/local/lib/python3.10/dist-packages/sklearn/utils/_array_api.py:185: FutureWarning: The input object of type 'Tensor' is an array-like implementing one of the corresponding protocols (`__array__`, `__array_interface__` or `__array_struct__`); but not a sequence (or 0-D). In the future, this object will be coerced as if it was first converted using `np.array(obj)`. To retain the old behaviour, you have to either modify the type 'Tensor', or assign to an empty array created with `np.empty(correct_shape, dtype=object)`.\n",
            "  array = numpy.asarray(array, order=order, dtype=dtype)\n",
            "/usr/local/lib/python3.10/dist-packages/sklearn/utils/_array_api.py:185: VisibleDeprecationWarning: Creating an ndarray from ragged nested sequences (which is a list-or-tuple of lists-or-tuples-or ndarrays with different lengths or shapes) is deprecated. If you meant to do this, you must specify 'dtype=object' when creating the ndarray.\n",
            "  array = numpy.asarray(array, order=order, dtype=dtype)\n",
            "<ipython-input-2-f0d979b1a134>:44: UserWarning: To copy construct from a tensor, it is recommended to use sourceTensor.clone().detach() or sourceTensor.clone().detach().requires_grad_(True), rather than torch.tensor(sourceTensor).\n",
            "  'label': torch.tensor(self.label_list[item])\n"
          ]
        },
        {
          "output_type": "stream",
          "name": "stdout",
          "text": [
            "test\n",
            "epoch: 56 train_loss: 0.004797253608038383 train_acc: 98.96% train_f1: 98.28%\n"
          ]
        },
        {
          "output_type": "stream",
          "name": "stderr",
          "text": [
            "/usr/local/lib/python3.10/dist-packages/sklearn/utils/_array_api.py:185: FutureWarning: The input object of type 'Tensor' is an array-like implementing one of the corresponding protocols (`__array__`, `__array_interface__` or `__array_struct__`); but not a sequence (or 0-D). In the future, this object will be coerced as if it was first converted using `np.array(obj)`. To retain the old behaviour, you have to either modify the type 'Tensor', or assign to an empty array created with `np.empty(correct_shape, dtype=object)`.\n",
            "  array = numpy.asarray(array, order=order, dtype=dtype)\n",
            "/usr/local/lib/python3.10/dist-packages/sklearn/utils/_array_api.py:185: VisibleDeprecationWarning: Creating an ndarray from ragged nested sequences (which is a list-or-tuple of lists-or-tuples-or ndarrays with different lengths or shapes) is deprecated. If you meant to do this, you must specify 'dtype=object' when creating the ndarray.\n",
            "  array = numpy.asarray(array, order=order, dtype=dtype)\n",
            "<ipython-input-2-f0d979b1a134>:44: UserWarning: To copy construct from a tensor, it is recommended to use sourceTensor.clone().detach() or sourceTensor.clone().detach().requires_grad_(True), rather than torch.tensor(sourceTensor).\n",
            "  'label': torch.tensor(self.label_list[item])\n"
          ]
        },
        {
          "output_type": "stream",
          "name": "stdout",
          "text": [
            "          val_loss: 0.28863197700543836 val_acc 80.45% val_f1: 63.91%\n",
            "BiLSTM_Atten AUC =  0.8348449649407548\n",
            "Specificity =  0.9019189765458422\n",
            "Sensitivity =  0.5771144278606966\n",
            "[INFO] Register count_lstm() for <class 'torch.nn.modules.rnn.LSTM'>.\n",
            "[INFO] Register count_linear() for <class 'torch.nn.modules.linear.Linear'>.\n",
            "[INFO] Register zero_ops() for <class 'torch.nn.modules.activation.ReLU'>.\n",
            "[INFO] Register zero_ops() for <class 'torch.nn.modules.container.Sequential'>.\n",
            "[INFO] Register zero_ops() for <class 'torch.nn.modules.dropout.Dropout'>.\n",
            "Flops: 80358815488.00\n",
            "MLOPS: 179.24\n",
            "              precision    recall  f1-score   support\n",
            "\n",
            "         0.0     0.8327    0.9019    0.8659       469\n",
            "         1.0     0.7160    0.5771    0.6391       201\n",
            "\n",
            "    accuracy                         0.8045       670\n",
            "   macro avg     0.7744    0.7395    0.7525       670\n",
            "weighted avg     0.7977    0.8045    0.7979       670\n",
            "\n",
            "epoch: 57 step: 0/42\n",
            "epoch: 57 step: 4/42\n",
            "epoch: 57 step: 8/42\n",
            "epoch: 57 step: 12/42\n",
            "epoch: 57 step: 16/42\n",
            "epoch: 57 step: 20/42\n",
            "epoch: 57 step: 24/42\n",
            "epoch: 57 step: 28/42\n",
            "epoch: 57 step: 32/42\n",
            "epoch: 57 step: 36/42\n",
            "epoch: 57 step: 40/42\n"
          ]
        },
        {
          "output_type": "stream",
          "name": "stderr",
          "text": [
            "/usr/local/lib/python3.10/dist-packages/sklearn/utils/_array_api.py:185: FutureWarning: The input object of type 'Tensor' is an array-like implementing one of the corresponding protocols (`__array__`, `__array_interface__` or `__array_struct__`); but not a sequence (or 0-D). In the future, this object will be coerced as if it was first converted using `np.array(obj)`. To retain the old behaviour, you have to either modify the type 'Tensor', or assign to an empty array created with `np.empty(correct_shape, dtype=object)`.\n",
            "  array = numpy.asarray(array, order=order, dtype=dtype)\n",
            "/usr/local/lib/python3.10/dist-packages/sklearn/utils/_array_api.py:185: VisibleDeprecationWarning: Creating an ndarray from ragged nested sequences (which is a list-or-tuple of lists-or-tuples-or ndarrays with different lengths or shapes) is deprecated. If you meant to do this, you must specify 'dtype=object' when creating the ndarray.\n",
            "  array = numpy.asarray(array, order=order, dtype=dtype)\n",
            "<ipython-input-2-f0d979b1a134>:44: UserWarning: To copy construct from a tensor, it is recommended to use sourceTensor.clone().detach() or sourceTensor.clone().detach().requires_grad_(True), rather than torch.tensor(sourceTensor).\n",
            "  'label': torch.tensor(self.label_list[item])\n"
          ]
        },
        {
          "output_type": "stream",
          "name": "stdout",
          "text": [
            "test\n",
            "epoch: 57 train_loss: 0.005906805637226041 train_acc: 97.43% train_f1: 95.89%\n"
          ]
        },
        {
          "output_type": "stream",
          "name": "stderr",
          "text": [
            "/usr/local/lib/python3.10/dist-packages/sklearn/utils/_array_api.py:185: FutureWarning: The input object of type 'Tensor' is an array-like implementing one of the corresponding protocols (`__array__`, `__array_interface__` or `__array_struct__`); but not a sequence (or 0-D). In the future, this object will be coerced as if it was first converted using `np.array(obj)`. To retain the old behaviour, you have to either modify the type 'Tensor', or assign to an empty array created with `np.empty(correct_shape, dtype=object)`.\n",
            "  array = numpy.asarray(array, order=order, dtype=dtype)\n",
            "/usr/local/lib/python3.10/dist-packages/sklearn/utils/_array_api.py:185: VisibleDeprecationWarning: Creating an ndarray from ragged nested sequences (which is a list-or-tuple of lists-or-tuples-or ndarrays with different lengths or shapes) is deprecated. If you meant to do this, you must specify 'dtype=object' when creating the ndarray.\n",
            "  array = numpy.asarray(array, order=order, dtype=dtype)\n",
            "<ipython-input-2-f0d979b1a134>:44: UserWarning: To copy construct from a tensor, it is recommended to use sourceTensor.clone().detach() or sourceTensor.clone().detach().requires_grad_(True), rather than torch.tensor(sourceTensor).\n",
            "  'label': torch.tensor(self.label_list[item])\n"
          ]
        },
        {
          "output_type": "stream",
          "name": "stdout",
          "text": [
            "          val_loss: 0.19528161531144922 val_acc 77.61% val_f1: 65.12%\n",
            "BiLSTM_Atten AUC =  0.837327223159257\n",
            "Specificity =  0.8102345415778252\n",
            "Sensitivity =  0.6965174129353234\n",
            "[INFO] Register count_lstm() for <class 'torch.nn.modules.rnn.LSTM'>.\n",
            "[INFO] Register count_linear() for <class 'torch.nn.modules.linear.Linear'>.\n",
            "[INFO] Register zero_ops() for <class 'torch.nn.modules.activation.ReLU'>.\n",
            "[INFO] Register zero_ops() for <class 'torch.nn.modules.container.Sequential'>.\n",
            "[INFO] Register zero_ops() for <class 'torch.nn.modules.dropout.Dropout'>.\n",
            "Flops: 80358815488.00\n",
            "MLOPS: 185.10\n",
            "              precision    recall  f1-score   support\n",
            "\n",
            "         0.0     0.8617    0.8102    0.8352       469\n",
            "         1.0     0.6114    0.6965    0.6512       201\n",
            "\n",
            "    accuracy                         0.7761       670\n",
            "   macro avg     0.7365    0.7534    0.7432       670\n",
            "weighted avg     0.7866    0.7761    0.7800       670\n",
            "\n",
            "epoch: 58 step: 0/42\n",
            "epoch: 58 step: 4/42\n",
            "epoch: 58 step: 8/42\n",
            "epoch: 58 step: 12/42\n",
            "epoch: 58 step: 16/42\n",
            "epoch: 58 step: 20/42\n",
            "epoch: 58 step: 24/42\n",
            "epoch: 58 step: 28/42\n",
            "epoch: 58 step: 32/42\n",
            "epoch: 58 step: 36/42\n",
            "epoch: 58 step: 40/42\n"
          ]
        },
        {
          "output_type": "stream",
          "name": "stderr",
          "text": [
            "/usr/local/lib/python3.10/dist-packages/sklearn/utils/_array_api.py:185: FutureWarning: The input object of type 'Tensor' is an array-like implementing one of the corresponding protocols (`__array__`, `__array_interface__` or `__array_struct__`); but not a sequence (or 0-D). In the future, this object will be coerced as if it was first converted using `np.array(obj)`. To retain the old behaviour, you have to either modify the type 'Tensor', or assign to an empty array created with `np.empty(correct_shape, dtype=object)`.\n",
            "  array = numpy.asarray(array, order=order, dtype=dtype)\n",
            "/usr/local/lib/python3.10/dist-packages/sklearn/utils/_array_api.py:185: VisibleDeprecationWarning: Creating an ndarray from ragged nested sequences (which is a list-or-tuple of lists-or-tuples-or ndarrays with different lengths or shapes) is deprecated. If you meant to do this, you must specify 'dtype=object' when creating the ndarray.\n",
            "  array = numpy.asarray(array, order=order, dtype=dtype)\n"
          ]
        },
        {
          "output_type": "stream",
          "name": "stdout",
          "text": [
            "test\n",
            "epoch: 58 train_loss: 0.0036416933885664634 train_acc: 98.77% train_f1: 97.99%\n"
          ]
        },
        {
          "output_type": "stream",
          "name": "stderr",
          "text": [
            "<ipython-input-2-f0d979b1a134>:44: UserWarning: To copy construct from a tensor, it is recommended to use sourceTensor.clone().detach() or sourceTensor.clone().detach().requires_grad_(True), rather than torch.tensor(sourceTensor).\n",
            "  'label': torch.tensor(self.label_list[item])\n",
            "/usr/local/lib/python3.10/dist-packages/sklearn/utils/_array_api.py:185: FutureWarning: The input object of type 'Tensor' is an array-like implementing one of the corresponding protocols (`__array__`, `__array_interface__` or `__array_struct__`); but not a sequence (or 0-D). In the future, this object will be coerced as if it was first converted using `np.array(obj)`. To retain the old behaviour, you have to either modify the type 'Tensor', or assign to an empty array created with `np.empty(correct_shape, dtype=object)`.\n",
            "  array = numpy.asarray(array, order=order, dtype=dtype)\n",
            "/usr/local/lib/python3.10/dist-packages/sklearn/utils/_array_api.py:185: VisibleDeprecationWarning: Creating an ndarray from ragged nested sequences (which is a list-or-tuple of lists-or-tuples-or ndarrays with different lengths or shapes) is deprecated. If you meant to do this, you must specify 'dtype=object' when creating the ndarray.\n",
            "  array = numpy.asarray(array, order=order, dtype=dtype)\n",
            "<ipython-input-2-f0d979b1a134>:44: UserWarning: To copy construct from a tensor, it is recommended to use sourceTensor.clone().detach() or sourceTensor.clone().detach().requires_grad_(True), rather than torch.tensor(sourceTensor).\n",
            "  'label': torch.tensor(self.label_list[item])\n"
          ]
        },
        {
          "output_type": "stream",
          "name": "stdout",
          "text": [
            "          val_loss: 0.2125138206915422 val_acc 78.21% val_f1: 63.68%\n",
            "BiLSTM_Atten AUC =  0.8402231910808431\n",
            "Specificity =  0.8443496801705757\n",
            "Sensitivity =  0.6368159203980099\n",
            "[INFO] Register count_lstm() for <class 'torch.nn.modules.rnn.LSTM'>.\n",
            "[INFO] Register count_linear() for <class 'torch.nn.modules.linear.Linear'>.\n",
            "[INFO] Register zero_ops() for <class 'torch.nn.modules.activation.ReLU'>.\n",
            "[INFO] Register zero_ops() for <class 'torch.nn.modules.container.Sequential'>.\n",
            "[INFO] Register zero_ops() for <class 'torch.nn.modules.dropout.Dropout'>.\n",
            "Flops: 80358815488.00\n",
            "MLOPS: 184.69\n",
            "              precision    recall  f1-score   support\n",
            "\n",
            "         0.0     0.8443    0.8443    0.8443       469\n",
            "         1.0     0.6368    0.6368    0.6368       201\n",
            "\n",
            "    accuracy                         0.7821       670\n",
            "   macro avg     0.7406    0.7406    0.7406       670\n",
            "weighted avg     0.7821    0.7821    0.7821       670\n",
            "\n",
            "epoch: 59 step: 0/42\n",
            "epoch: 59 step: 4/42\n",
            "epoch: 59 step: 8/42\n",
            "epoch: 59 step: 12/42\n",
            "epoch: 59 step: 16/42\n",
            "epoch: 59 step: 20/42\n",
            "epoch: 59 step: 24/42\n",
            "epoch: 59 step: 28/42\n",
            "epoch: 59 step: 32/42\n",
            "epoch: 59 step: 36/42\n",
            "epoch: 59 step: 40/42\n"
          ]
        },
        {
          "output_type": "stream",
          "name": "stderr",
          "text": [
            "/usr/local/lib/python3.10/dist-packages/sklearn/utils/_array_api.py:185: FutureWarning: The input object of type 'Tensor' is an array-like implementing one of the corresponding protocols (`__array__`, `__array_interface__` or `__array_struct__`); but not a sequence (or 0-D). In the future, this object will be coerced as if it was first converted using `np.array(obj)`. To retain the old behaviour, you have to either modify the type 'Tensor', or assign to an empty array created with `np.empty(correct_shape, dtype=object)`.\n",
            "  array = numpy.asarray(array, order=order, dtype=dtype)\n",
            "/usr/local/lib/python3.10/dist-packages/sklearn/utils/_array_api.py:185: VisibleDeprecationWarning: Creating an ndarray from ragged nested sequences (which is a list-or-tuple of lists-or-tuples-or ndarrays with different lengths or shapes) is deprecated. If you meant to do this, you must specify 'dtype=object' when creating the ndarray.\n",
            "  array = numpy.asarray(array, order=order, dtype=dtype)\n",
            "<ipython-input-2-f0d979b1a134>:44: UserWarning: To copy construct from a tensor, it is recommended to use sourceTensor.clone().detach() or sourceTensor.clone().detach().requires_grad_(True), rather than torch.tensor(sourceTensor).\n",
            "  'label': torch.tensor(self.label_list[item])\n"
          ]
        },
        {
          "output_type": "stream",
          "name": "stdout",
          "text": [
            "test\n",
            "epoch: 59 train_loss: 0.0027742163912903165 train_acc: 99.29% train_f1: 98.83%\n"
          ]
        },
        {
          "output_type": "stream",
          "name": "stderr",
          "text": [
            "/usr/local/lib/python3.10/dist-packages/sklearn/utils/_array_api.py:185: FutureWarning: The input object of type 'Tensor' is an array-like implementing one of the corresponding protocols (`__array__`, `__array_interface__` or `__array_struct__`); but not a sequence (or 0-D). In the future, this object will be coerced as if it was first converted using `np.array(obj)`. To retain the old behaviour, you have to either modify the type 'Tensor', or assign to an empty array created with `np.empty(correct_shape, dtype=object)`.\n",
            "  array = numpy.asarray(array, order=order, dtype=dtype)\n",
            "/usr/local/lib/python3.10/dist-packages/sklearn/utils/_array_api.py:185: VisibleDeprecationWarning: Creating an ndarray from ragged nested sequences (which is a list-or-tuple of lists-or-tuples-or ndarrays with different lengths or shapes) is deprecated. If you meant to do this, you must specify 'dtype=object' when creating the ndarray.\n",
            "  array = numpy.asarray(array, order=order, dtype=dtype)\n"
          ]
        },
        {
          "output_type": "stream",
          "name": "stdout",
          "text": [
            "          val_loss: 0.27932599457827484 val_acc 79.85% val_f1: 63.81%\n",
            "BiLSTM_Atten AUC =  0.8354284017015138\n",
            "Specificity =  0.8869936034115139\n",
            "Sensitivity =  0.5920398009950248\n",
            "[INFO] Register count_lstm() for <class 'torch.nn.modules.rnn.LSTM'>.\n",
            "[INFO] Register count_linear() for <class 'torch.nn.modules.linear.Linear'>.\n",
            "[INFO] Register zero_ops() for <class 'torch.nn.modules.activation.ReLU'>.\n",
            "[INFO] Register zero_ops() for <class 'torch.nn.modules.container.Sequential'>.\n",
            "[INFO] Register zero_ops() for <class 'torch.nn.modules.dropout.Dropout'>.\n",
            "Flops: 80358815488.00\n",
            "MLOPS: 185.67\n",
            "              precision    recall  f1-score   support\n",
            "\n",
            "         0.0     0.8353    0.8870    0.8604       469\n",
            "         1.0     0.6919    0.5920    0.6381       201\n",
            "\n",
            "    accuracy                         0.7985       670\n",
            "   macro avg     0.7636    0.7395    0.7492       670\n",
            "weighted avg     0.7923    0.7985    0.7937       670\n",
            "\n"
          ]
        },
        {
          "output_type": "stream",
          "name": "stderr",
          "text": [
            "<ipython-input-2-f0d979b1a134>:44: UserWarning: To copy construct from a tensor, it is recommended to use sourceTensor.clone().detach() or sourceTensor.clone().detach().requires_grad_(True), rather than torch.tensor(sourceTensor).\n",
            "  'label': torch.tensor(self.label_list[item])\n"
          ]
        },
        {
          "output_type": "stream",
          "name": "stdout",
          "text": [
            "epoch: 60 step: 0/42\n",
            "epoch: 60 step: 4/42\n",
            "epoch: 60 step: 8/42\n",
            "epoch: 60 step: 12/42\n",
            "epoch: 60 step: 16/42\n",
            "epoch: 60 step: 20/42\n",
            "epoch: 60 step: 24/42\n",
            "epoch: 60 step: 28/42\n",
            "epoch: 60 step: 32/42\n",
            "epoch: 60 step: 36/42\n",
            "epoch: 60 step: 40/42\n"
          ]
        },
        {
          "output_type": "stream",
          "name": "stderr",
          "text": [
            "/usr/local/lib/python3.10/dist-packages/sklearn/utils/_array_api.py:185: FutureWarning: The input object of type 'Tensor' is an array-like implementing one of the corresponding protocols (`__array__`, `__array_interface__` or `__array_struct__`); but not a sequence (or 0-D). In the future, this object will be coerced as if it was first converted using `np.array(obj)`. To retain the old behaviour, you have to either modify the type 'Tensor', or assign to an empty array created with `np.empty(correct_shape, dtype=object)`.\n",
            "  array = numpy.asarray(array, order=order, dtype=dtype)\n",
            "/usr/local/lib/python3.10/dist-packages/sklearn/utils/_array_api.py:185: VisibleDeprecationWarning: Creating an ndarray from ragged nested sequences (which is a list-or-tuple of lists-or-tuples-or ndarrays with different lengths or shapes) is deprecated. If you meant to do this, you must specify 'dtype=object' when creating the ndarray.\n",
            "  array = numpy.asarray(array, order=order, dtype=dtype)\n",
            "<ipython-input-2-f0d979b1a134>:44: UserWarning: To copy construct from a tensor, it is recommended to use sourceTensor.clone().detach() or sourceTensor.clone().detach().requires_grad_(True), rather than torch.tensor(sourceTensor).\n",
            "  'label': torch.tensor(self.label_list[item])\n"
          ]
        },
        {
          "output_type": "stream",
          "name": "stdout",
          "text": [
            "test\n",
            "epoch: 60 train_loss: 0.0025926991989503483 train_acc: 99.40% train_f1: 99.01%\n"
          ]
        },
        {
          "output_type": "stream",
          "name": "stderr",
          "text": [
            "/usr/local/lib/python3.10/dist-packages/sklearn/utils/_array_api.py:185: FutureWarning: The input object of type 'Tensor' is an array-like implementing one of the corresponding protocols (`__array__`, `__array_interface__` or `__array_struct__`); but not a sequence (or 0-D). In the future, this object will be coerced as if it was first converted using `np.array(obj)`. To retain the old behaviour, you have to either modify the type 'Tensor', or assign to an empty array created with `np.empty(correct_shape, dtype=object)`.\n",
            "  array = numpy.asarray(array, order=order, dtype=dtype)\n",
            "/usr/local/lib/python3.10/dist-packages/sklearn/utils/_array_api.py:185: VisibleDeprecationWarning: Creating an ndarray from ragged nested sequences (which is a list-or-tuple of lists-or-tuples-or ndarrays with different lengths or shapes) is deprecated. If you meant to do this, you must specify 'dtype=object' when creating the ndarray.\n",
            "  array = numpy.asarray(array, order=order, dtype=dtype)\n",
            "<ipython-input-2-f0d979b1a134>:44: UserWarning: To copy construct from a tensor, it is recommended to use sourceTensor.clone().detach() or sourceTensor.clone().detach().requires_grad_(True), rather than torch.tensor(sourceTensor).\n",
            "  'label': torch.tensor(self.label_list[item])\n"
          ]
        },
        {
          "output_type": "stream",
          "name": "stdout",
          "text": [
            "          val_loss: 0.2689991816878319 val_acc 78.66% val_f1: 62.47%\n",
            "BiLSTM_Atten AUC =  0.8337841708302836\n",
            "Specificity =  0.8699360341151386\n",
            "Sensitivity =  0.5920398009950248\n",
            "[INFO] Register count_lstm() for <class 'torch.nn.modules.rnn.LSTM'>.\n",
            "[INFO] Register count_linear() for <class 'torch.nn.modules.linear.Linear'>.\n",
            "[INFO] Register zero_ops() for <class 'torch.nn.modules.activation.ReLU'>.\n",
            "[INFO] Register zero_ops() for <class 'torch.nn.modules.container.Sequential'>.\n",
            "[INFO] Register zero_ops() for <class 'torch.nn.modules.dropout.Dropout'>.\n",
            "Flops: 80358815488.00\n",
            "MLOPS: 185.97\n",
            "              precision    recall  f1-score   support\n",
            "\n",
            "         0.0     0.8327    0.8699    0.8509       469\n",
            "         1.0     0.6611    0.5920    0.6247       201\n",
            "\n",
            "    accuracy                         0.7866       670\n",
            "   macro avg     0.7469    0.7310    0.7378       670\n",
            "weighted avg     0.7812    0.7866    0.7830       670\n",
            "\n",
            "epoch: 61 step: 0/42\n",
            "epoch: 61 step: 4/42\n",
            "epoch: 61 step: 8/42\n",
            "epoch: 61 step: 12/42\n",
            "epoch: 61 step: 16/42\n",
            "epoch: 61 step: 20/42\n",
            "epoch: 61 step: 24/42\n",
            "epoch: 61 step: 28/42\n",
            "epoch: 61 step: 32/42\n",
            "epoch: 61 step: 36/42\n",
            "epoch: 61 step: 40/42\n"
          ]
        },
        {
          "output_type": "stream",
          "name": "stderr",
          "text": [
            "/usr/local/lib/python3.10/dist-packages/sklearn/utils/_array_api.py:185: FutureWarning: The input object of type 'Tensor' is an array-like implementing one of the corresponding protocols (`__array__`, `__array_interface__` or `__array_struct__`); but not a sequence (or 0-D). In the future, this object will be coerced as if it was first converted using `np.array(obj)`. To retain the old behaviour, you have to either modify the type 'Tensor', or assign to an empty array created with `np.empty(correct_shape, dtype=object)`.\n",
            "  array = numpy.asarray(array, order=order, dtype=dtype)\n",
            "/usr/local/lib/python3.10/dist-packages/sklearn/utils/_array_api.py:185: VisibleDeprecationWarning: Creating an ndarray from ragged nested sequences (which is a list-or-tuple of lists-or-tuples-or ndarrays with different lengths or shapes) is deprecated. If you meant to do this, you must specify 'dtype=object' when creating the ndarray.\n",
            "  array = numpy.asarray(array, order=order, dtype=dtype)\n",
            "<ipython-input-2-f0d979b1a134>:44: UserWarning: To copy construct from a tensor, it is recommended to use sourceTensor.clone().detach() or sourceTensor.clone().detach().requires_grad_(True), rather than torch.tensor(sourceTensor).\n",
            "  'label': torch.tensor(self.label_list[item])\n"
          ]
        },
        {
          "output_type": "stream",
          "name": "stdout",
          "text": [
            "test\n",
            "epoch: 61 train_loss: 0.002311108013687079 train_acc: 99.29% train_f1: 98.83%\n"
          ]
        },
        {
          "output_type": "stream",
          "name": "stderr",
          "text": [
            "/usr/local/lib/python3.10/dist-packages/sklearn/utils/_array_api.py:185: FutureWarning: The input object of type 'Tensor' is an array-like implementing one of the corresponding protocols (`__array__`, `__array_interface__` or `__array_struct__`); but not a sequence (or 0-D). In the future, this object will be coerced as if it was first converted using `np.array(obj)`. To retain the old behaviour, you have to either modify the type 'Tensor', or assign to an empty array created with `np.empty(correct_shape, dtype=object)`.\n",
            "  array = numpy.asarray(array, order=order, dtype=dtype)\n",
            "/usr/local/lib/python3.10/dist-packages/sklearn/utils/_array_api.py:185: VisibleDeprecationWarning: Creating an ndarray from ragged nested sequences (which is a list-or-tuple of lists-or-tuples-or ndarrays with different lengths or shapes) is deprecated. If you meant to do this, you must specify 'dtype=object' when creating the ndarray.\n",
            "  array = numpy.asarray(array, order=order, dtype=dtype)\n",
            "<ipython-input-2-f0d979b1a134>:44: UserWarning: To copy construct from a tensor, it is recommended to use sourceTensor.clone().detach() or sourceTensor.clone().detach().requires_grad_(True), rather than torch.tensor(sourceTensor).\n",
            "  'label': torch.tensor(self.label_list[item])\n"
          ]
        },
        {
          "output_type": "stream",
          "name": "stdout",
          "text": [
            "          val_loss: 0.25858957320451736 val_acc 79.25% val_f1: 64.99%\n",
            "BiLSTM_Atten AUC =  0.836521019635299\n",
            "Specificity =  0.8571428571428571\n",
            "Sensitivity =  0.6417910447761194\n",
            "[INFO] Register count_lstm() for <class 'torch.nn.modules.rnn.LSTM'>.\n",
            "[INFO] Register count_linear() for <class 'torch.nn.modules.linear.Linear'>.\n",
            "[INFO] Register zero_ops() for <class 'torch.nn.modules.activation.ReLU'>.\n",
            "[INFO] Register zero_ops() for <class 'torch.nn.modules.container.Sequential'>.\n",
            "[INFO] Register zero_ops() for <class 'torch.nn.modules.dropout.Dropout'>.\n",
            "Flops: 80358815488.00\n",
            "MLOPS: 185.24\n",
            "              precision    recall  f1-score   support\n",
            "\n",
            "         0.0     0.8481    0.8571    0.8526       469\n",
            "         1.0     0.6582    0.6418    0.6499       201\n",
            "\n",
            "    accuracy                         0.7925       670\n",
            "   macro avg     0.7531    0.7495    0.7512       670\n",
            "weighted avg     0.7911    0.7925    0.7918       670\n",
            "\n",
            "epoch: 62 step: 0/42\n",
            "epoch: 62 step: 4/42\n",
            "epoch: 62 step: 8/42\n",
            "epoch: 62 step: 12/42\n",
            "epoch: 62 step: 16/42\n",
            "epoch: 62 step: 20/42\n",
            "epoch: 62 step: 24/42\n",
            "epoch: 62 step: 28/42\n",
            "epoch: 62 step: 32/42\n",
            "epoch: 62 step: 36/42\n",
            "epoch: 62 step: 40/42\n"
          ]
        },
        {
          "output_type": "stream",
          "name": "stderr",
          "text": [
            "/usr/local/lib/python3.10/dist-packages/sklearn/utils/_array_api.py:185: FutureWarning: The input object of type 'Tensor' is an array-like implementing one of the corresponding protocols (`__array__`, `__array_interface__` or `__array_struct__`); but not a sequence (or 0-D). In the future, this object will be coerced as if it was first converted using `np.array(obj)`. To retain the old behaviour, you have to either modify the type 'Tensor', or assign to an empty array created with `np.empty(correct_shape, dtype=object)`.\n",
            "  array = numpy.asarray(array, order=order, dtype=dtype)\n",
            "/usr/local/lib/python3.10/dist-packages/sklearn/utils/_array_api.py:185: VisibleDeprecationWarning: Creating an ndarray from ragged nested sequences (which is a list-or-tuple of lists-or-tuples-or ndarrays with different lengths or shapes) is deprecated. If you meant to do this, you must specify 'dtype=object' when creating the ndarray.\n",
            "  array = numpy.asarray(array, order=order, dtype=dtype)\n",
            "<ipython-input-2-f0d979b1a134>:44: UserWarning: To copy construct from a tensor, it is recommended to use sourceTensor.clone().detach() or sourceTensor.clone().detach().requires_grad_(True), rather than torch.tensor(sourceTensor).\n",
            "  'label': torch.tensor(self.label_list[item])\n"
          ]
        },
        {
          "output_type": "stream",
          "name": "stdout",
          "text": [
            "test\n",
            "epoch: 62 train_loss: 0.002206859125830566 train_acc: 99.14% train_f1: 98.59%\n"
          ]
        },
        {
          "output_type": "stream",
          "name": "stderr",
          "text": [
            "/usr/local/lib/python3.10/dist-packages/sklearn/utils/_array_api.py:185: FutureWarning: The input object of type 'Tensor' is an array-like implementing one of the corresponding protocols (`__array__`, `__array_interface__` or `__array_struct__`); but not a sequence (or 0-D). In the future, this object will be coerced as if it was first converted using `np.array(obj)`. To retain the old behaviour, you have to either modify the type 'Tensor', or assign to an empty array created with `np.empty(correct_shape, dtype=object)`.\n",
            "  array = numpy.asarray(array, order=order, dtype=dtype)\n",
            "/usr/local/lib/python3.10/dist-packages/sklearn/utils/_array_api.py:185: VisibleDeprecationWarning: Creating an ndarray from ragged nested sequences (which is a list-or-tuple of lists-or-tuples-or ndarrays with different lengths or shapes) is deprecated. If you meant to do this, you must specify 'dtype=object' when creating the ndarray.\n",
            "  array = numpy.asarray(array, order=order, dtype=dtype)\n",
            "<ipython-input-2-f0d979b1a134>:44: UserWarning: To copy construct from a tensor, it is recommended to use sourceTensor.clone().detach() or sourceTensor.clone().detach().requires_grad_(True), rather than torch.tensor(sourceTensor).\n",
            "  'label': torch.tensor(self.label_list[item])\n"
          ]
        },
        {
          "output_type": "stream",
          "name": "stdout",
          "text": [
            "          val_loss: 0.2797456607222557 val_acc 79.40% val_f1: 64.62%\n",
            "BiLSTM_Atten AUC =  0.8336356596548176\n",
            "Specificity =  0.8656716417910447\n",
            "Sensitivity =  0.6268656716417911\n",
            "[INFO] Register count_lstm() for <class 'torch.nn.modules.rnn.LSTM'>.\n",
            "[INFO] Register count_linear() for <class 'torch.nn.modules.linear.Linear'>.\n",
            "[INFO] Register zero_ops() for <class 'torch.nn.modules.activation.ReLU'>.\n",
            "[INFO] Register zero_ops() for <class 'torch.nn.modules.container.Sequential'>.\n",
            "[INFO] Register zero_ops() for <class 'torch.nn.modules.dropout.Dropout'>.\n",
            "Flops: 80358815488.00\n",
            "MLOPS: 186.58\n",
            "              precision    recall  f1-score   support\n",
            "\n",
            "         0.0     0.8441    0.8657    0.8547       469\n",
            "         1.0     0.6667    0.6269    0.6462       201\n",
            "\n",
            "    accuracy                         0.7940       670\n",
            "   macro avg     0.7554    0.7463    0.7504       670\n",
            "weighted avg     0.7909    0.7940    0.7922       670\n",
            "\n",
            "epoch: 63 step: 0/42\n",
            "epoch: 63 step: 4/42\n",
            "epoch: 63 step: 8/42\n",
            "epoch: 63 step: 12/42\n",
            "epoch: 63 step: 16/42\n",
            "epoch: 63 step: 20/42\n",
            "epoch: 63 step: 24/42\n",
            "epoch: 63 step: 28/42\n",
            "epoch: 63 step: 32/42\n",
            "epoch: 63 step: 36/42\n",
            "epoch: 63 step: 40/42\n"
          ]
        },
        {
          "output_type": "stream",
          "name": "stderr",
          "text": [
            "/usr/local/lib/python3.10/dist-packages/sklearn/utils/_array_api.py:185: FutureWarning: The input object of type 'Tensor' is an array-like implementing one of the corresponding protocols (`__array__`, `__array_interface__` or `__array_struct__`); but not a sequence (or 0-D). In the future, this object will be coerced as if it was first converted using `np.array(obj)`. To retain the old behaviour, you have to either modify the type 'Tensor', or assign to an empty array created with `np.empty(correct_shape, dtype=object)`.\n",
            "  array = numpy.asarray(array, order=order, dtype=dtype)\n",
            "/usr/local/lib/python3.10/dist-packages/sklearn/utils/_array_api.py:185: VisibleDeprecationWarning: Creating an ndarray from ragged nested sequences (which is a list-or-tuple of lists-or-tuples-or ndarrays with different lengths or shapes) is deprecated. If you meant to do this, you must specify 'dtype=object' when creating the ndarray.\n",
            "  array = numpy.asarray(array, order=order, dtype=dtype)\n"
          ]
        },
        {
          "output_type": "stream",
          "name": "stdout",
          "text": [
            "test\n",
            "epoch: 63 train_loss: 0.002122333237951222 train_acc: 99.14% train_f1: 98.59%\n"
          ]
        },
        {
          "output_type": "stream",
          "name": "stderr",
          "text": [
            "<ipython-input-2-f0d979b1a134>:44: UserWarning: To copy construct from a tensor, it is recommended to use sourceTensor.clone().detach() or sourceTensor.clone().detach().requires_grad_(True), rather than torch.tensor(sourceTensor).\n",
            "  'label': torch.tensor(self.label_list[item])\n",
            "/usr/local/lib/python3.10/dist-packages/sklearn/utils/_array_api.py:185: FutureWarning: The input object of type 'Tensor' is an array-like implementing one of the corresponding protocols (`__array__`, `__array_interface__` or `__array_struct__`); but not a sequence (or 0-D). In the future, this object will be coerced as if it was first converted using `np.array(obj)`. To retain the old behaviour, you have to either modify the type 'Tensor', or assign to an empty array created with `np.empty(correct_shape, dtype=object)`.\n",
            "  array = numpy.asarray(array, order=order, dtype=dtype)\n",
            "/usr/local/lib/python3.10/dist-packages/sklearn/utils/_array_api.py:185: VisibleDeprecationWarning: Creating an ndarray from ragged nested sequences (which is a list-or-tuple of lists-or-tuples-or ndarrays with different lengths or shapes) is deprecated. If you meant to do this, you must specify 'dtype=object' when creating the ndarray.\n",
            "  array = numpy.asarray(array, order=order, dtype=dtype)\n",
            "<ipython-input-2-f0d979b1a134>:44: UserWarning: To copy construct from a tensor, it is recommended to use sourceTensor.clone().detach() or sourceTensor.clone().detach().requires_grad_(True), rather than torch.tensor(sourceTensor).\n",
            "  'label': torch.tensor(self.label_list[item])\n"
          ]
        },
        {
          "output_type": "stream",
          "name": "stdout",
          "text": [
            "          val_loss: 0.26613347096876666 val_acc 78.66% val_f1: 64.34%\n",
            "BiLSTM_Atten AUC =  0.8366907466929745\n",
            "Specificity =  0.8486140724946695\n",
            "Sensitivity =  0.6417910447761194\n",
            "[INFO] Register count_lstm() for <class 'torch.nn.modules.rnn.LSTM'>.\n",
            "[INFO] Register count_linear() for <class 'torch.nn.modules.linear.Linear'>.\n",
            "[INFO] Register zero_ops() for <class 'torch.nn.modules.activation.ReLU'>.\n",
            "[INFO] Register zero_ops() for <class 'torch.nn.modules.container.Sequential'>.\n",
            "[INFO] Register zero_ops() for <class 'torch.nn.modules.dropout.Dropout'>.\n",
            "Flops: 80358815488.00\n",
            "MLOPS: 185.92\n",
            "              precision    recall  f1-score   support\n",
            "\n",
            "         0.0     0.8468    0.8486    0.8477       469\n",
            "         1.0     0.6450    0.6418    0.6434       201\n",
            "\n",
            "    accuracy                         0.7866       670\n",
            "   macro avg     0.7459    0.7452    0.7456       670\n",
            "weighted avg     0.7863    0.7866    0.7864       670\n",
            "\n",
            "epoch: 64 step: 0/42\n",
            "epoch: 64 step: 4/42\n",
            "epoch: 64 step: 8/42\n",
            "epoch: 64 step: 12/42\n",
            "epoch: 64 step: 16/42\n",
            "epoch: 64 step: 20/42\n",
            "epoch: 64 step: 24/42\n",
            "epoch: 64 step: 28/42\n",
            "epoch: 64 step: 32/42\n",
            "epoch: 64 step: 36/42\n",
            "epoch: 64 step: 40/42\n"
          ]
        },
        {
          "output_type": "stream",
          "name": "stderr",
          "text": [
            "/usr/local/lib/python3.10/dist-packages/sklearn/utils/_array_api.py:185: FutureWarning: The input object of type 'Tensor' is an array-like implementing one of the corresponding protocols (`__array__`, `__array_interface__` or `__array_struct__`); but not a sequence (or 0-D). In the future, this object will be coerced as if it was first converted using `np.array(obj)`. To retain the old behaviour, you have to either modify the type 'Tensor', or assign to an empty array created with `np.empty(correct_shape, dtype=object)`.\n",
            "  array = numpy.asarray(array, order=order, dtype=dtype)\n",
            "/usr/local/lib/python3.10/dist-packages/sklearn/utils/_array_api.py:185: VisibleDeprecationWarning: Creating an ndarray from ragged nested sequences (which is a list-or-tuple of lists-or-tuples-or ndarrays with different lengths or shapes) is deprecated. If you meant to do this, you must specify 'dtype=object' when creating the ndarray.\n",
            "  array = numpy.asarray(array, order=order, dtype=dtype)\n",
            "<ipython-input-2-f0d979b1a134>:44: UserWarning: To copy construct from a tensor, it is recommended to use sourceTensor.clone().detach() or sourceTensor.clone().detach().requires_grad_(True), rather than torch.tensor(sourceTensor).\n",
            "  'label': torch.tensor(self.label_list[item])\n"
          ]
        },
        {
          "output_type": "stream",
          "name": "stdout",
          "text": [
            "test\n",
            "epoch: 64 train_loss: 0.0019476008892524987 train_acc: 99.25% train_f1: 98.77%\n"
          ]
        },
        {
          "output_type": "stream",
          "name": "stderr",
          "text": [
            "/usr/local/lib/python3.10/dist-packages/sklearn/utils/_array_api.py:185: FutureWarning: The input object of type 'Tensor' is an array-like implementing one of the corresponding protocols (`__array__`, `__array_interface__` or `__array_struct__`); but not a sequence (or 0-D). In the future, this object will be coerced as if it was first converted using `np.array(obj)`. To retain the old behaviour, you have to either modify the type 'Tensor', or assign to an empty array created with `np.empty(correct_shape, dtype=object)`.\n",
            "  array = numpy.asarray(array, order=order, dtype=dtype)\n",
            "/usr/local/lib/python3.10/dist-packages/sklearn/utils/_array_api.py:185: VisibleDeprecationWarning: Creating an ndarray from ragged nested sequences (which is a list-or-tuple of lists-or-tuples-or ndarrays with different lengths or shapes) is deprecated. If you meant to do this, you must specify 'dtype=object' when creating the ndarray.\n",
            "  array = numpy.asarray(array, order=order, dtype=dtype)\n"
          ]
        },
        {
          "output_type": "stream",
          "name": "stdout",
          "text": [
            "          val_loss: 0.2798506509174 val_acc 79.10% val_f1: 64.65%\n",
            "BiLSTM_Atten AUC =  0.8386532157973459\n",
            "Specificity =  0.8571428571428571\n",
            "Sensitivity =  0.6368159203980099\n",
            "[INFO] Register count_lstm() for <class 'torch.nn.modules.rnn.LSTM'>.\n",
            "[INFO] Register count_linear() for <class 'torch.nn.modules.linear.Linear'>.\n",
            "[INFO] Register zero_ops() for <class 'torch.nn.modules.activation.ReLU'>.\n",
            "[INFO] Register zero_ops() for <class 'torch.nn.modules.container.Sequential'>.\n",
            "[INFO] Register zero_ops() for <class 'torch.nn.modules.dropout.Dropout'>.\n",
            "Flops: 80358815488.00\n",
            "MLOPS: 186.86\n",
            "              precision    recall  f1-score   support\n",
            "\n",
            "         0.0     0.8463    0.8571    0.8517       469\n",
            "         1.0     0.6564    0.6368    0.6465       201\n",
            "\n",
            "    accuracy                         0.7910       670\n",
            "   macro avg     0.7514    0.7470    0.7491       670\n",
            "weighted avg     0.7893    0.7910    0.7901       670\n",
            "\n"
          ]
        },
        {
          "output_type": "stream",
          "name": "stderr",
          "text": [
            "<ipython-input-2-f0d979b1a134>:44: UserWarning: To copy construct from a tensor, it is recommended to use sourceTensor.clone().detach() or sourceTensor.clone().detach().requires_grad_(True), rather than torch.tensor(sourceTensor).\n",
            "  'label': torch.tensor(self.label_list[item])\n"
          ]
        },
        {
          "output_type": "stream",
          "name": "stdout",
          "text": [
            "epoch: 65 step: 0/42\n",
            "epoch: 65 step: 4/42\n",
            "epoch: 65 step: 8/42\n",
            "epoch: 65 step: 12/42\n",
            "epoch: 65 step: 16/42\n",
            "epoch: 65 step: 20/42\n",
            "epoch: 65 step: 24/42\n",
            "epoch: 65 step: 28/42\n",
            "epoch: 65 step: 32/42\n",
            "epoch: 65 step: 36/42\n",
            "epoch: 65 step: 40/42\n"
          ]
        },
        {
          "output_type": "stream",
          "name": "stderr",
          "text": [
            "/usr/local/lib/python3.10/dist-packages/sklearn/utils/_array_api.py:185: FutureWarning: The input object of type 'Tensor' is an array-like implementing one of the corresponding protocols (`__array__`, `__array_interface__` or `__array_struct__`); but not a sequence (or 0-D). In the future, this object will be coerced as if it was first converted using `np.array(obj)`. To retain the old behaviour, you have to either modify the type 'Tensor', or assign to an empty array created with `np.empty(correct_shape, dtype=object)`.\n",
            "  array = numpy.asarray(array, order=order, dtype=dtype)\n",
            "/usr/local/lib/python3.10/dist-packages/sklearn/utils/_array_api.py:185: VisibleDeprecationWarning: Creating an ndarray from ragged nested sequences (which is a list-or-tuple of lists-or-tuples-or ndarrays with different lengths or shapes) is deprecated. If you meant to do this, you must specify 'dtype=object' when creating the ndarray.\n",
            "  array = numpy.asarray(array, order=order, dtype=dtype)\n",
            "<ipython-input-2-f0d979b1a134>:44: UserWarning: To copy construct from a tensor, it is recommended to use sourceTensor.clone().detach() or sourceTensor.clone().detach().requires_grad_(True), rather than torch.tensor(sourceTensor).\n",
            "  'label': torch.tensor(self.label_list[item])\n"
          ]
        },
        {
          "output_type": "stream",
          "name": "stdout",
          "text": [
            "test\n",
            "epoch: 65 train_loss: 0.005176165027521728 train_acc: 97.24% train_f1: 95.60%\n"
          ]
        },
        {
          "output_type": "stream",
          "name": "stderr",
          "text": [
            "/usr/local/lib/python3.10/dist-packages/sklearn/utils/_array_api.py:185: FutureWarning: The input object of type 'Tensor' is an array-like implementing one of the corresponding protocols (`__array__`, `__array_interface__` or `__array_struct__`); but not a sequence (or 0-D). In the future, this object will be coerced as if it was first converted using `np.array(obj)`. To retain the old behaviour, you have to either modify the type 'Tensor', or assign to an empty array created with `np.empty(correct_shape, dtype=object)`.\n",
            "  array = numpy.asarray(array, order=order, dtype=dtype)\n",
            "/usr/local/lib/python3.10/dist-packages/sklearn/utils/_array_api.py:185: VisibleDeprecationWarning: Creating an ndarray from ragged nested sequences (which is a list-or-tuple of lists-or-tuples-or ndarrays with different lengths or shapes) is deprecated. If you meant to do this, you must specify 'dtype=object' when creating the ndarray.\n",
            "  array = numpy.asarray(array, order=order, dtype=dtype)\n",
            "<ipython-input-2-f0d979b1a134>:44: UserWarning: To copy construct from a tensor, it is recommended to use sourceTensor.clone().detach() or sourceTensor.clone().detach().requires_grad_(True), rather than torch.tensor(sourceTensor).\n",
            "  'label': torch.tensor(self.label_list[item])\n"
          ]
        },
        {
          "output_type": "stream",
          "name": "stdout",
          "text": [
            "          val_loss: 0.21892233802513641 val_acc 77.91% val_f1: 66.67%\n",
            "BiLSTM_Atten AUC =  0.8381546425654245\n",
            "Specificity =  0.7974413646055437\n",
            "Sensitivity =  0.736318407960199\n",
            "[INFO] Register count_lstm() for <class 'torch.nn.modules.rnn.LSTM'>.\n",
            "[INFO] Register count_linear() for <class 'torch.nn.modules.linear.Linear'>.\n",
            "[INFO] Register zero_ops() for <class 'torch.nn.modules.activation.ReLU'>.\n",
            "[INFO] Register zero_ops() for <class 'torch.nn.modules.container.Sequential'>.\n",
            "[INFO] Register zero_ops() for <class 'torch.nn.modules.dropout.Dropout'>.\n",
            "Flops: 80358815488.00\n",
            "MLOPS: 186.48\n",
            "              precision    recall  f1-score   support\n",
            "\n",
            "         0.0     0.8759    0.7974    0.8348       469\n",
            "         1.0     0.6091    0.7363    0.6667       201\n",
            "\n",
            "    accuracy                         0.7791       670\n",
            "   macro avg     0.7425    0.7669    0.7507       670\n",
            "weighted avg     0.7958    0.7791    0.7844       670\n",
            "\n",
            "epoch: 66 step: 0/42\n",
            "epoch: 66 step: 4/42\n",
            "epoch: 66 step: 8/42\n",
            "epoch: 66 step: 12/42\n",
            "epoch: 66 step: 16/42\n",
            "epoch: 66 step: 20/42\n",
            "epoch: 66 step: 24/42\n",
            "epoch: 66 step: 28/42\n",
            "epoch: 66 step: 32/42\n",
            "epoch: 66 step: 36/42\n",
            "epoch: 66 step: 40/42\n"
          ]
        },
        {
          "output_type": "stream",
          "name": "stderr",
          "text": [
            "/usr/local/lib/python3.10/dist-packages/sklearn/utils/_array_api.py:185: FutureWarning: The input object of type 'Tensor' is an array-like implementing one of the corresponding protocols (`__array__`, `__array_interface__` or `__array_struct__`); but not a sequence (or 0-D). In the future, this object will be coerced as if it was first converted using `np.array(obj)`. To retain the old behaviour, you have to either modify the type 'Tensor', or assign to an empty array created with `np.empty(correct_shape, dtype=object)`.\n",
            "  array = numpy.asarray(array, order=order, dtype=dtype)\n",
            "/usr/local/lib/python3.10/dist-packages/sklearn/utils/_array_api.py:185: VisibleDeprecationWarning: Creating an ndarray from ragged nested sequences (which is a list-or-tuple of lists-or-tuples-or ndarrays with different lengths or shapes) is deprecated. If you meant to do this, you must specify 'dtype=object' when creating the ndarray.\n",
            "  array = numpy.asarray(array, order=order, dtype=dtype)\n",
            "<ipython-input-2-f0d979b1a134>:44: UserWarning: To copy construct from a tensor, it is recommended to use sourceTensor.clone().detach() or sourceTensor.clone().detach().requires_grad_(True), rather than torch.tensor(sourceTensor).\n",
            "  'label': torch.tensor(self.label_list[item])\n"
          ]
        },
        {
          "output_type": "stream",
          "name": "stdout",
          "text": [
            "test\n",
            "epoch: 66 train_loss: 0.002845335092085103 train_acc: 99.40% train_f1: 99.01%\n"
          ]
        },
        {
          "output_type": "stream",
          "name": "stderr",
          "text": [
            "/usr/local/lib/python3.10/dist-packages/sklearn/utils/_array_api.py:185: FutureWarning: The input object of type 'Tensor' is an array-like implementing one of the corresponding protocols (`__array__`, `__array_interface__` or `__array_struct__`); but not a sequence (or 0-D). In the future, this object will be coerced as if it was first converted using `np.array(obj)`. To retain the old behaviour, you have to either modify the type 'Tensor', or assign to an empty array created with `np.empty(correct_shape, dtype=object)`.\n",
            "  array = numpy.asarray(array, order=order, dtype=dtype)\n",
            "/usr/local/lib/python3.10/dist-packages/sklearn/utils/_array_api.py:185: VisibleDeprecationWarning: Creating an ndarray from ragged nested sequences (which is a list-or-tuple of lists-or-tuples-or ndarrays with different lengths or shapes) is deprecated. If you meant to do this, you must specify 'dtype=object' when creating the ndarray.\n",
            "  array = numpy.asarray(array, order=order, dtype=dtype)\n",
            "<ipython-input-2-f0d979b1a134>:44: UserWarning: To copy construct from a tensor, it is recommended to use sourceTensor.clone().detach() or sourceTensor.clone().detach().requires_grad_(True), rather than torch.tensor(sourceTensor).\n",
            "  'label': torch.tensor(self.label_list[item])\n"
          ]
        },
        {
          "output_type": "stream",
          "name": "stdout",
          "text": [
            "          val_loss: 0.27466795458035037 val_acc 80.15% val_f1: 63.56%\n",
            "BiLSTM_Atten AUC =  0.8445883588454317\n",
            "Specificity =  0.8976545842217484\n",
            "Sensitivity =  0.5771144278606966\n",
            "[INFO] Register count_lstm() for <class 'torch.nn.modules.rnn.LSTM'>.\n",
            "[INFO] Register count_linear() for <class 'torch.nn.modules.linear.Linear'>.\n",
            "[INFO] Register zero_ops() for <class 'torch.nn.modules.activation.ReLU'>.\n",
            "[INFO] Register zero_ops() for <class 'torch.nn.modules.container.Sequential'>.\n",
            "[INFO] Register zero_ops() for <class 'torch.nn.modules.dropout.Dropout'>.\n",
            "Flops: 80358815488.00\n",
            "MLOPS: 187.05\n",
            "              precision    recall  f1-score   support\n",
            "\n",
            "         0.0     0.8320    0.8977    0.8636       469\n",
            "         1.0     0.7073    0.5771    0.6356       201\n",
            "\n",
            "    accuracy                         0.8015       670\n",
            "   macro avg     0.7697    0.7374    0.7496       670\n",
            "weighted avg     0.7946    0.8015    0.7952       670\n",
            "\n",
            "epoch: 67 step: 0/42\n",
            "epoch: 67 step: 4/42\n",
            "epoch: 67 step: 8/42\n",
            "epoch: 67 step: 12/42\n",
            "epoch: 67 step: 16/42\n",
            "epoch: 67 step: 20/42\n",
            "epoch: 67 step: 24/42\n",
            "epoch: 67 step: 28/42\n",
            "epoch: 67 step: 32/42\n",
            "epoch: 67 step: 36/42\n",
            "epoch: 67 step: 40/42\n"
          ]
        },
        {
          "output_type": "stream",
          "name": "stderr",
          "text": [
            "/usr/local/lib/python3.10/dist-packages/sklearn/utils/_array_api.py:185: FutureWarning: The input object of type 'Tensor' is an array-like implementing one of the corresponding protocols (`__array__`, `__array_interface__` or `__array_struct__`); but not a sequence (or 0-D). In the future, this object will be coerced as if it was first converted using `np.array(obj)`. To retain the old behaviour, you have to either modify the type 'Tensor', or assign to an empty array created with `np.empty(correct_shape, dtype=object)`.\n",
            "  array = numpy.asarray(array, order=order, dtype=dtype)\n",
            "/usr/local/lib/python3.10/dist-packages/sklearn/utils/_array_api.py:185: VisibleDeprecationWarning: Creating an ndarray from ragged nested sequences (which is a list-or-tuple of lists-or-tuples-or ndarrays with different lengths or shapes) is deprecated. If you meant to do this, you must specify 'dtype=object' when creating the ndarray.\n",
            "  array = numpy.asarray(array, order=order, dtype=dtype)\n",
            "<ipython-input-2-f0d979b1a134>:44: UserWarning: To copy construct from a tensor, it is recommended to use sourceTensor.clone().detach() or sourceTensor.clone().detach().requires_grad_(True), rather than torch.tensor(sourceTensor).\n",
            "  'label': torch.tensor(self.label_list[item])\n"
          ]
        },
        {
          "output_type": "stream",
          "name": "stdout",
          "text": [
            "test\n",
            "epoch: 67 train_loss: 0.00285630521137223 train_acc: 98.58% train_f1: 97.69%\n"
          ]
        },
        {
          "output_type": "stream",
          "name": "stderr",
          "text": [
            "/usr/local/lib/python3.10/dist-packages/sklearn/utils/_array_api.py:185: FutureWarning: The input object of type 'Tensor' is an array-like implementing one of the corresponding protocols (`__array__`, `__array_interface__` or `__array_struct__`); but not a sequence (or 0-D). In the future, this object will be coerced as if it was first converted using `np.array(obj)`. To retain the old behaviour, you have to either modify the type 'Tensor', or assign to an empty array created with `np.empty(correct_shape, dtype=object)`.\n",
            "  array = numpy.asarray(array, order=order, dtype=dtype)\n",
            "/usr/local/lib/python3.10/dist-packages/sklearn/utils/_array_api.py:185: VisibleDeprecationWarning: Creating an ndarray from ragged nested sequences (which is a list-or-tuple of lists-or-tuples-or ndarrays with different lengths or shapes) is deprecated. If you meant to do this, you must specify 'dtype=object' when creating the ndarray.\n",
            "  array = numpy.asarray(array, order=order, dtype=dtype)\n",
            "<ipython-input-2-f0d979b1a134>:44: UserWarning: To copy construct from a tensor, it is recommended to use sourceTensor.clone().detach() or sourceTensor.clone().detach().requires_grad_(True), rather than torch.tensor(sourceTensor).\n",
            "  'label': torch.tensor(self.label_list[item])\n"
          ]
        },
        {
          "output_type": "stream",
          "name": "stdout",
          "text": [
            "          val_loss: 0.2221117883243344 val_acc 77.91% val_f1: 64.59%\n",
            "BiLSTM_Atten AUC =  0.8430873351791149\n",
            "Specificity =  0.8251599147121536\n",
            "Sensitivity =  0.6716417910447762\n",
            "[INFO] Register count_lstm() for <class 'torch.nn.modules.rnn.LSTM'>.\n",
            "[INFO] Register count_linear() for <class 'torch.nn.modules.linear.Linear'>.\n",
            "[INFO] Register zero_ops() for <class 'torch.nn.modules.activation.ReLU'>.\n",
            "[INFO] Register zero_ops() for <class 'torch.nn.modules.container.Sequential'>.\n",
            "[INFO] Register zero_ops() for <class 'torch.nn.modules.dropout.Dropout'>.\n",
            "Flops: 80358815488.00\n",
            "MLOPS: 185.86\n",
            "              precision    recall  f1-score   support\n",
            "\n",
            "         0.0     0.8543    0.8252    0.8395       469\n",
            "         1.0     0.6221    0.6716    0.6459       201\n",
            "\n",
            "    accuracy                         0.7791       670\n",
            "   macro avg     0.7382    0.7484    0.7427       670\n",
            "weighted avg     0.7846    0.7791    0.7814       670\n",
            "\n",
            "epoch: 68 step: 0/42\n",
            "epoch: 68 step: 4/42\n",
            "epoch: 68 step: 8/42\n",
            "epoch: 68 step: 12/42\n",
            "epoch: 68 step: 16/42\n",
            "epoch: 68 step: 20/42\n",
            "epoch: 68 step: 24/42\n",
            "epoch: 68 step: 28/42\n",
            "epoch: 68 step: 32/42\n",
            "epoch: 68 step: 36/42\n",
            "epoch: 68 step: 40/42\n"
          ]
        },
        {
          "output_type": "stream",
          "name": "stderr",
          "text": [
            "/usr/local/lib/python3.10/dist-packages/sklearn/utils/_array_api.py:185: FutureWarning: The input object of type 'Tensor' is an array-like implementing one of the corresponding protocols (`__array__`, `__array_interface__` or `__array_struct__`); but not a sequence (or 0-D). In the future, this object will be coerced as if it was first converted using `np.array(obj)`. To retain the old behaviour, you have to either modify the type 'Tensor', or assign to an empty array created with `np.empty(correct_shape, dtype=object)`.\n",
            "  array = numpy.asarray(array, order=order, dtype=dtype)\n",
            "/usr/local/lib/python3.10/dist-packages/sklearn/utils/_array_api.py:185: VisibleDeprecationWarning: Creating an ndarray from ragged nested sequences (which is a list-or-tuple of lists-or-tuples-or ndarrays with different lengths or shapes) is deprecated. If you meant to do this, you must specify 'dtype=object' when creating the ndarray.\n",
            "  array = numpy.asarray(array, order=order, dtype=dtype)\n"
          ]
        },
        {
          "output_type": "stream",
          "name": "stdout",
          "text": [
            "test\n",
            "epoch: 68 train_loss: 0.0014929486725512625 train_acc: 99.55% train_f1: 99.26%\n"
          ]
        },
        {
          "output_type": "stream",
          "name": "stderr",
          "text": [
            "<ipython-input-2-f0d979b1a134>:44: UserWarning: To copy construct from a tensor, it is recommended to use sourceTensor.clone().detach() or sourceTensor.clone().detach().requires_grad_(True), rather than torch.tensor(sourceTensor).\n",
            "  'label': torch.tensor(self.label_list[item])\n",
            "/usr/local/lib/python3.10/dist-packages/sklearn/utils/_array_api.py:185: FutureWarning: The input object of type 'Tensor' is an array-like implementing one of the corresponding protocols (`__array__`, `__array_interface__` or `__array_struct__`); but not a sequence (or 0-D). In the future, this object will be coerced as if it was first converted using `np.array(obj)`. To retain the old behaviour, you have to either modify the type 'Tensor', or assign to an empty array created with `np.empty(correct_shape, dtype=object)`.\n",
            "  array = numpy.asarray(array, order=order, dtype=dtype)\n",
            "/usr/local/lib/python3.10/dist-packages/sklearn/utils/_array_api.py:185: VisibleDeprecationWarning: Creating an ndarray from ragged nested sequences (which is a list-or-tuple of lists-or-tuples-or ndarrays with different lengths or shapes) is deprecated. If you meant to do this, you must specify 'dtype=object' when creating the ndarray.\n",
            "  array = numpy.asarray(array, order=order, dtype=dtype)\n",
            "<ipython-input-2-f0d979b1a134>:44: UserWarning: To copy construct from a tensor, it is recommended to use sourceTensor.clone().detach() or sourceTensor.clone().detach().requires_grad_(True), rather than torch.tensor(sourceTensor).\n",
            "  'label': torch.tensor(self.label_list[item])\n"
          ]
        },
        {
          "output_type": "stream",
          "name": "stdout",
          "text": [
            "          val_loss: 0.30609184435822745 val_acc 79.25% val_f1: 62.53%\n",
            "BiLSTM_Atten AUC =  0.833582619949294\n",
            "Specificity =  0.8848614072494669\n",
            "Sensitivity =  0.5771144278606966\n",
            "[INFO] Register count_lstm() for <class 'torch.nn.modules.rnn.LSTM'>.\n",
            "[INFO] Register count_linear() for <class 'torch.nn.modules.linear.Linear'>.\n",
            "[INFO] Register zero_ops() for <class 'torch.nn.modules.activation.ReLU'>.\n",
            "[INFO] Register zero_ops() for <class 'torch.nn.modules.container.Sequential'>.\n",
            "[INFO] Register zero_ops() for <class 'torch.nn.modules.dropout.Dropout'>.\n",
            "Flops: 80358815488.00\n",
            "MLOPS: 180.31\n",
            "              precision    recall  f1-score   support\n",
            "\n",
            "         0.0     0.8300    0.8849    0.8566       469\n",
            "         1.0     0.6824    0.5771    0.6253       201\n",
            "\n",
            "    accuracy                         0.7925       670\n",
            "   macro avg     0.7562    0.7310    0.7409       670\n",
            "weighted avg     0.7857    0.7925    0.7872       670\n",
            "\n",
            "epoch: 69 step: 0/42\n",
            "epoch: 69 step: 4/42\n",
            "epoch: 69 step: 8/42\n",
            "epoch: 69 step: 12/42\n",
            "epoch: 69 step: 16/42\n",
            "epoch: 69 step: 20/42\n",
            "epoch: 69 step: 24/42\n",
            "epoch: 69 step: 28/42\n",
            "epoch: 69 step: 32/42\n",
            "epoch: 69 step: 36/42\n",
            "epoch: 69 step: 40/42\n"
          ]
        },
        {
          "output_type": "stream",
          "name": "stderr",
          "text": [
            "/usr/local/lib/python3.10/dist-packages/sklearn/utils/_array_api.py:185: FutureWarning: The input object of type 'Tensor' is an array-like implementing one of the corresponding protocols (`__array__`, `__array_interface__` or `__array_struct__`); but not a sequence (or 0-D). In the future, this object will be coerced as if it was first converted using `np.array(obj)`. To retain the old behaviour, you have to either modify the type 'Tensor', or assign to an empty array created with `np.empty(correct_shape, dtype=object)`.\n",
            "  array = numpy.asarray(array, order=order, dtype=dtype)\n",
            "/usr/local/lib/python3.10/dist-packages/sklearn/utils/_array_api.py:185: VisibleDeprecationWarning: Creating an ndarray from ragged nested sequences (which is a list-or-tuple of lists-or-tuples-or ndarrays with different lengths or shapes) is deprecated. If you meant to do this, you must specify 'dtype=object' when creating the ndarray.\n",
            "  array = numpy.asarray(array, order=order, dtype=dtype)\n",
            "<ipython-input-2-f0d979b1a134>:44: UserWarning: To copy construct from a tensor, it is recommended to use sourceTensor.clone().detach() or sourceTensor.clone().detach().requires_grad_(True), rather than torch.tensor(sourceTensor).\n",
            "  'label': torch.tensor(self.label_list[item])\n"
          ]
        },
        {
          "output_type": "stream",
          "name": "stdout",
          "text": [
            "test\n",
            "epoch: 69 train_loss: 0.0012692325880856341 train_acc: 99.55% train_f1: 99.26%\n"
          ]
        },
        {
          "output_type": "stream",
          "name": "stderr",
          "text": [
            "/usr/local/lib/python3.10/dist-packages/sklearn/utils/_array_api.py:185: FutureWarning: The input object of type 'Tensor' is an array-like implementing one of the corresponding protocols (`__array__`, `__array_interface__` or `__array_struct__`); but not a sequence (or 0-D). In the future, this object will be coerced as if it was first converted using `np.array(obj)`. To retain the old behaviour, you have to either modify the type 'Tensor', or assign to an empty array created with `np.empty(correct_shape, dtype=object)`.\n",
            "  array = numpy.asarray(array, order=order, dtype=dtype)\n",
            "/usr/local/lib/python3.10/dist-packages/sklearn/utils/_array_api.py:185: VisibleDeprecationWarning: Creating an ndarray from ragged nested sequences (which is a list-or-tuple of lists-or-tuples-or ndarrays with different lengths or shapes) is deprecated. If you meant to do this, you must specify 'dtype=object' when creating the ndarray.\n",
            "  array = numpy.asarray(array, order=order, dtype=dtype)\n"
          ]
        },
        {
          "output_type": "stream",
          "name": "stdout",
          "text": [
            "          val_loss: 0.28624473783102905 val_acc 78.81% val_f1: 63.96%\n",
            "BiLSTM_Atten AUC =  0.8365316275764036\n",
            "Specificity =  0.8571428571428571\n",
            "Sensitivity =  0.6268656716417911\n",
            "[INFO] Register count_lstm() for <class 'torch.nn.modules.rnn.LSTM'>.\n",
            "[INFO] Register count_linear() for <class 'torch.nn.modules.linear.Linear'>.\n",
            "[INFO] Register zero_ops() for <class 'torch.nn.modules.activation.ReLU'>.\n",
            "[INFO] Register zero_ops() for <class 'torch.nn.modules.container.Sequential'>.\n",
            "[INFO] Register zero_ops() for <class 'torch.nn.modules.dropout.Dropout'>.\n",
            "Flops: 80358815488.00\n",
            "MLOPS: 186.11\n",
            "              precision    recall  f1-score   support\n",
            "\n",
            "         0.0     0.8428    0.8571    0.8499       469\n",
            "         1.0     0.6528    0.6269    0.6396       201\n",
            "\n",
            "    accuracy                         0.7881       670\n",
            "   macro avg     0.7478    0.7420    0.7447       670\n",
            "weighted avg     0.7858    0.7881    0.7868       670\n",
            "\n"
          ]
        },
        {
          "output_type": "stream",
          "name": "stderr",
          "text": [
            "<ipython-input-2-f0d979b1a134>:44: UserWarning: To copy construct from a tensor, it is recommended to use sourceTensor.clone().detach() or sourceTensor.clone().detach().requires_grad_(True), rather than torch.tensor(sourceTensor).\n",
            "  'label': torch.tensor(self.label_list[item])\n"
          ]
        },
        {
          "output_type": "stream",
          "name": "stdout",
          "text": [
            "epoch: 70 step: 0/42\n",
            "epoch: 70 step: 4/42\n",
            "epoch: 70 step: 8/42\n",
            "epoch: 70 step: 12/42\n",
            "epoch: 70 step: 16/42\n",
            "epoch: 70 step: 20/42\n",
            "epoch: 70 step: 24/42\n",
            "epoch: 70 step: 28/42\n",
            "epoch: 70 step: 32/42\n",
            "epoch: 70 step: 36/42\n",
            "epoch: 70 step: 40/42\n"
          ]
        },
        {
          "output_type": "stream",
          "name": "stderr",
          "text": [
            "/usr/local/lib/python3.10/dist-packages/sklearn/utils/_array_api.py:185: FutureWarning: The input object of type 'Tensor' is an array-like implementing one of the corresponding protocols (`__array__`, `__array_interface__` or `__array_struct__`); but not a sequence (or 0-D). In the future, this object will be coerced as if it was first converted using `np.array(obj)`. To retain the old behaviour, you have to either modify the type 'Tensor', or assign to an empty array created with `np.empty(correct_shape, dtype=object)`.\n",
            "  array = numpy.asarray(array, order=order, dtype=dtype)\n",
            "/usr/local/lib/python3.10/dist-packages/sklearn/utils/_array_api.py:185: VisibleDeprecationWarning: Creating an ndarray from ragged nested sequences (which is a list-or-tuple of lists-or-tuples-or ndarrays with different lengths or shapes) is deprecated. If you meant to do this, you must specify 'dtype=object' when creating the ndarray.\n",
            "  array = numpy.asarray(array, order=order, dtype=dtype)\n",
            "<ipython-input-2-f0d979b1a134>:44: UserWarning: To copy construct from a tensor, it is recommended to use sourceTensor.clone().detach() or sourceTensor.clone().detach().requires_grad_(True), rather than torch.tensor(sourceTensor).\n",
            "  'label': torch.tensor(self.label_list[item])\n"
          ]
        },
        {
          "output_type": "stream",
          "name": "stdout",
          "text": [
            "test\n",
            "epoch: 70 train_loss: 0.0011354038457890663 train_acc: 99.63% train_f1: 99.38%\n"
          ]
        },
        {
          "output_type": "stream",
          "name": "stderr",
          "text": [
            "/usr/local/lib/python3.10/dist-packages/sklearn/utils/_array_api.py:185: FutureWarning: The input object of type 'Tensor' is an array-like implementing one of the corresponding protocols (`__array__`, `__array_interface__` or `__array_struct__`); but not a sequence (or 0-D). In the future, this object will be coerced as if it was first converted using `np.array(obj)`. To retain the old behaviour, you have to either modify the type 'Tensor', or assign to an empty array created with `np.empty(correct_shape, dtype=object)`.\n",
            "  array = numpy.asarray(array, order=order, dtype=dtype)\n",
            "/usr/local/lib/python3.10/dist-packages/sklearn/utils/_array_api.py:185: VisibleDeprecationWarning: Creating an ndarray from ragged nested sequences (which is a list-or-tuple of lists-or-tuples-or ndarrays with different lengths or shapes) is deprecated. If you meant to do this, you must specify 'dtype=object' when creating the ndarray.\n",
            "  array = numpy.asarray(array, order=order, dtype=dtype)\n",
            "<ipython-input-2-f0d979b1a134>:44: UserWarning: To copy construct from a tensor, it is recommended to use sourceTensor.clone().detach() or sourceTensor.clone().detach().requires_grad_(True), rather than torch.tensor(sourceTensor).\n",
            "  'label': torch.tensor(self.label_list[item])\n"
          ]
        },
        {
          "output_type": "stream",
          "name": "stdout",
          "text": [
            "          val_loss: 0.2870849655433135 val_acc 79.10% val_f1: 64.82%\n",
            "BiLSTM_Atten AUC =  0.835640560523608\n",
            "Specificity =  0.8550106609808102\n",
            "Sensitivity =  0.6417910447761194\n",
            "[INFO] Register count_lstm() for <class 'torch.nn.modules.rnn.LSTM'>.\n",
            "[INFO] Register count_linear() for <class 'torch.nn.modules.linear.Linear'>.\n",
            "[INFO] Register zero_ops() for <class 'torch.nn.modules.activation.ReLU'>.\n",
            "[INFO] Register zero_ops() for <class 'torch.nn.modules.container.Sequential'>.\n",
            "[INFO] Register zero_ops() for <class 'torch.nn.modules.dropout.Dropout'>.\n",
            "Flops: 80358815488.00\n",
            "MLOPS: 184.06\n",
            "              precision    recall  f1-score   support\n",
            "\n",
            "         0.0     0.8478    0.8550    0.8514       469\n",
            "         1.0     0.6548    0.6418    0.6482       201\n",
            "\n",
            "    accuracy                         0.7910       670\n",
            "   macro avg     0.7513    0.7484    0.7498       670\n",
            "weighted avg     0.7899    0.7910    0.7904       670\n",
            "\n",
            "epoch: 71 step: 0/42\n",
            "epoch: 71 step: 4/42\n",
            "epoch: 71 step: 8/42\n",
            "epoch: 71 step: 12/42\n",
            "epoch: 71 step: 16/42\n",
            "epoch: 71 step: 20/42\n",
            "epoch: 71 step: 24/42\n",
            "epoch: 71 step: 28/42\n",
            "epoch: 71 step: 32/42\n",
            "epoch: 71 step: 36/42\n",
            "epoch: 71 step: 40/42\n"
          ]
        },
        {
          "output_type": "stream",
          "name": "stderr",
          "text": [
            "/usr/local/lib/python3.10/dist-packages/sklearn/utils/_array_api.py:185: FutureWarning: The input object of type 'Tensor' is an array-like implementing one of the corresponding protocols (`__array__`, `__array_interface__` or `__array_struct__`); but not a sequence (or 0-D). In the future, this object will be coerced as if it was first converted using `np.array(obj)`. To retain the old behaviour, you have to either modify the type 'Tensor', or assign to an empty array created with `np.empty(correct_shape, dtype=object)`.\n",
            "  array = numpy.asarray(array, order=order, dtype=dtype)\n",
            "/usr/local/lib/python3.10/dist-packages/sklearn/utils/_array_api.py:185: VisibleDeprecationWarning: Creating an ndarray from ragged nested sequences (which is a list-or-tuple of lists-or-tuples-or ndarrays with different lengths or shapes) is deprecated. If you meant to do this, you must specify 'dtype=object' when creating the ndarray.\n",
            "  array = numpy.asarray(array, order=order, dtype=dtype)\n",
            "<ipython-input-2-f0d979b1a134>:44: UserWarning: To copy construct from a tensor, it is recommended to use sourceTensor.clone().detach() or sourceTensor.clone().detach().requires_grad_(True), rather than torch.tensor(sourceTensor).\n",
            "  'label': torch.tensor(self.label_list[item])\n"
          ]
        },
        {
          "output_type": "stream",
          "name": "stdout",
          "text": [
            "test\n",
            "epoch: 71 train_loss: 0.0010271023448218503 train_acc: 99.78% train_f1: 99.63%\n"
          ]
        },
        {
          "output_type": "stream",
          "name": "stderr",
          "text": [
            "/usr/local/lib/python3.10/dist-packages/sklearn/utils/_array_api.py:185: FutureWarning: The input object of type 'Tensor' is an array-like implementing one of the corresponding protocols (`__array__`, `__array_interface__` or `__array_struct__`); but not a sequence (or 0-D). In the future, this object will be coerced as if it was first converted using `np.array(obj)`. To retain the old behaviour, you have to either modify the type 'Tensor', or assign to an empty array created with `np.empty(correct_shape, dtype=object)`.\n",
            "  array = numpy.asarray(array, order=order, dtype=dtype)\n",
            "/usr/local/lib/python3.10/dist-packages/sklearn/utils/_array_api.py:185: VisibleDeprecationWarning: Creating an ndarray from ragged nested sequences (which is a list-or-tuple of lists-or-tuples-or ndarrays with different lengths or shapes) is deprecated. If you meant to do this, you must specify 'dtype=object' when creating the ndarray.\n",
            "  array = numpy.asarray(array, order=order, dtype=dtype)\n",
            "<ipython-input-2-f0d979b1a134>:44: UserWarning: To copy construct from a tensor, it is recommended to use sourceTensor.clone().detach() or sourceTensor.clone().detach().requires_grad_(True), rather than torch.tensor(sourceTensor).\n",
            "  'label': torch.tensor(self.label_list[item])\n"
          ]
        },
        {
          "output_type": "stream",
          "name": "stdout",
          "text": [
            "          val_loss: 0.33631022613156925 val_acc 79.10% val_f1: 62.16%\n",
            "BiLSTM_Atten AUC =  0.8335720120081893\n",
            "Specificity =  0.8848614072494669\n",
            "Sensitivity =  0.572139303482587\n",
            "[INFO] Register count_lstm() for <class 'torch.nn.modules.rnn.LSTM'>.\n",
            "[INFO] Register count_linear() for <class 'torch.nn.modules.linear.Linear'>.\n",
            "[INFO] Register zero_ops() for <class 'torch.nn.modules.activation.ReLU'>.\n",
            "[INFO] Register zero_ops() for <class 'torch.nn.modules.container.Sequential'>.\n",
            "[INFO] Register zero_ops() for <class 'torch.nn.modules.dropout.Dropout'>.\n",
            "Flops: 80358815488.00\n",
            "MLOPS: 185.83\n",
            "              precision    recall  f1-score   support\n",
            "\n",
            "         0.0     0.8283    0.8849    0.8557       469\n",
            "         1.0     0.6805    0.5721    0.6216       201\n",
            "\n",
            "    accuracy                         0.7910       670\n",
            "   macro avg     0.7544    0.7285    0.7386       670\n",
            "weighted avg     0.7840    0.7910    0.7855       670\n",
            "\n",
            "epoch: 72 step: 0/42\n",
            "epoch: 72 step: 4/42\n",
            "epoch: 72 step: 8/42\n",
            "epoch: 72 step: 12/42\n",
            "epoch: 72 step: 16/42\n",
            "epoch: 72 step: 20/42\n",
            "epoch: 72 step: 24/42\n",
            "epoch: 72 step: 28/42\n",
            "epoch: 72 step: 32/42\n",
            "epoch: 72 step: 36/42\n",
            "epoch: 72 step: 40/42\n"
          ]
        },
        {
          "output_type": "stream",
          "name": "stderr",
          "text": [
            "/usr/local/lib/python3.10/dist-packages/sklearn/utils/_array_api.py:185: FutureWarning: The input object of type 'Tensor' is an array-like implementing one of the corresponding protocols (`__array__`, `__array_interface__` or `__array_struct__`); but not a sequence (or 0-D). In the future, this object will be coerced as if it was first converted using `np.array(obj)`. To retain the old behaviour, you have to either modify the type 'Tensor', or assign to an empty array created with `np.empty(correct_shape, dtype=object)`.\n",
            "  array = numpy.asarray(array, order=order, dtype=dtype)\n",
            "/usr/local/lib/python3.10/dist-packages/sklearn/utils/_array_api.py:185: VisibleDeprecationWarning: Creating an ndarray from ragged nested sequences (which is a list-or-tuple of lists-or-tuples-or ndarrays with different lengths or shapes) is deprecated. If you meant to do this, you must specify 'dtype=object' when creating the ndarray.\n",
            "  array = numpy.asarray(array, order=order, dtype=dtype)\n",
            "<ipython-input-2-f0d979b1a134>:44: UserWarning: To copy construct from a tensor, it is recommended to use sourceTensor.clone().detach() or sourceTensor.clone().detach().requires_grad_(True), rather than torch.tensor(sourceTensor).\n",
            "  'label': torch.tensor(self.label_list[item])\n"
          ]
        },
        {
          "output_type": "stream",
          "name": "stdout",
          "text": [
            "test\n",
            "epoch: 72 train_loss: 0.0009436763723767529 train_acc: 99.81% train_f1: 99.69%\n"
          ]
        },
        {
          "output_type": "stream",
          "name": "stderr",
          "text": [
            "/usr/local/lib/python3.10/dist-packages/sklearn/utils/_array_api.py:185: FutureWarning: The input object of type 'Tensor' is an array-like implementing one of the corresponding protocols (`__array__`, `__array_interface__` or `__array_struct__`); but not a sequence (or 0-D). In the future, this object will be coerced as if it was first converted using `np.array(obj)`. To retain the old behaviour, you have to either modify the type 'Tensor', or assign to an empty array created with `np.empty(correct_shape, dtype=object)`.\n",
            "  array = numpy.asarray(array, order=order, dtype=dtype)\n",
            "/usr/local/lib/python3.10/dist-packages/sklearn/utils/_array_api.py:185: VisibleDeprecationWarning: Creating an ndarray from ragged nested sequences (which is a list-or-tuple of lists-or-tuples-or ndarrays with different lengths or shapes) is deprecated. If you meant to do this, you must specify 'dtype=object' when creating the ndarray.\n",
            "  array = numpy.asarray(array, order=order, dtype=dtype)\n",
            "<ipython-input-2-f0d979b1a134>:44: UserWarning: To copy construct from a tensor, it is recommended to use sourceTensor.clone().detach() or sourceTensor.clone().detach().requires_grad_(True), rather than torch.tensor(sourceTensor).\n",
            "  'label': torch.tensor(self.label_list[item])\n"
          ]
        },
        {
          "output_type": "stream",
          "name": "stdout",
          "text": [
            "          val_loss: 0.341418712653897 val_acc 79.55% val_f1: 62.67%\n",
            "BiLSTM_Atten AUC =  0.8342721361211003\n",
            "Specificity =  0.8912579957356077\n",
            "Sensitivity =  0.572139303482587\n",
            "[INFO] Register count_lstm() for <class 'torch.nn.modules.rnn.LSTM'>.\n",
            "[INFO] Register count_linear() for <class 'torch.nn.modules.linear.Linear'>.\n",
            "[INFO] Register zero_ops() for <class 'torch.nn.modules.activation.ReLU'>.\n",
            "[INFO] Register zero_ops() for <class 'torch.nn.modules.container.Sequential'>.\n",
            "[INFO] Register zero_ops() for <class 'torch.nn.modules.dropout.Dropout'>.\n",
            "Flops: 80358815488.00\n",
            "MLOPS: 186.73\n",
            "              precision    recall  f1-score   support\n",
            "\n",
            "         0.0     0.8294    0.8913    0.8592       469\n",
            "         1.0     0.6928    0.5721    0.6267       201\n",
            "\n",
            "    accuracy                         0.7955       670\n",
            "   macro avg     0.7611    0.7317    0.7430       670\n",
            "weighted avg     0.7884    0.7955    0.7894       670\n",
            "\n",
            "epoch: 73 step: 0/42\n",
            "epoch: 73 step: 4/42\n",
            "epoch: 73 step: 8/42\n",
            "epoch: 73 step: 12/42\n",
            "epoch: 73 step: 16/42\n",
            "epoch: 73 step: 20/42\n",
            "epoch: 73 step: 24/42\n",
            "epoch: 73 step: 28/42\n",
            "epoch: 73 step: 32/42\n",
            "epoch: 73 step: 36/42\n",
            "epoch: 73 step: 40/42\n"
          ]
        },
        {
          "output_type": "stream",
          "name": "stderr",
          "text": [
            "/usr/local/lib/python3.10/dist-packages/sklearn/utils/_array_api.py:185: FutureWarning: The input object of type 'Tensor' is an array-like implementing one of the corresponding protocols (`__array__`, `__array_interface__` or `__array_struct__`); but not a sequence (or 0-D). In the future, this object will be coerced as if it was first converted using `np.array(obj)`. To retain the old behaviour, you have to either modify the type 'Tensor', or assign to an empty array created with `np.empty(correct_shape, dtype=object)`.\n",
            "  array = numpy.asarray(array, order=order, dtype=dtype)\n",
            "/usr/local/lib/python3.10/dist-packages/sklearn/utils/_array_api.py:185: VisibleDeprecationWarning: Creating an ndarray from ragged nested sequences (which is a list-or-tuple of lists-or-tuples-or ndarrays with different lengths or shapes) is deprecated. If you meant to do this, you must specify 'dtype=object' when creating the ndarray.\n",
            "  array = numpy.asarray(array, order=order, dtype=dtype)\n"
          ]
        },
        {
          "output_type": "stream",
          "name": "stdout",
          "text": [
            "test\n",
            "epoch: 73 train_loss: 0.000815489435418775 train_acc: 99.85% train_f1: 99.75%\n"
          ]
        },
        {
          "output_type": "stream",
          "name": "stderr",
          "text": [
            "<ipython-input-2-f0d979b1a134>:44: UserWarning: To copy construct from a tensor, it is recommended to use sourceTensor.clone().detach() or sourceTensor.clone().detach().requires_grad_(True), rather than torch.tensor(sourceTensor).\n",
            "  'label': torch.tensor(self.label_list[item])\n",
            "/usr/local/lib/python3.10/dist-packages/sklearn/utils/_array_api.py:185: FutureWarning: The input object of type 'Tensor' is an array-like implementing one of the corresponding protocols (`__array__`, `__array_interface__` or `__array_struct__`); but not a sequence (or 0-D). In the future, this object will be coerced as if it was first converted using `np.array(obj)`. To retain the old behaviour, you have to either modify the type 'Tensor', or assign to an empty array created with `np.empty(correct_shape, dtype=object)`.\n",
            "  array = numpy.asarray(array, order=order, dtype=dtype)\n",
            "/usr/local/lib/python3.10/dist-packages/sklearn/utils/_array_api.py:185: VisibleDeprecationWarning: Creating an ndarray from ragged nested sequences (which is a list-or-tuple of lists-or-tuples-or ndarrays with different lengths or shapes) is deprecated. If you meant to do this, you must specify 'dtype=object' when creating the ndarray.\n",
            "  array = numpy.asarray(array, order=order, dtype=dtype)\n",
            "<ipython-input-2-f0d979b1a134>:44: UserWarning: To copy construct from a tensor, it is recommended to use sourceTensor.clone().detach() or sourceTensor.clone().detach().requires_grad_(True), rather than torch.tensor(sourceTensor).\n",
            "  'label': torch.tensor(self.label_list[item])\n"
          ]
        },
        {
          "output_type": "stream",
          "name": "stdout",
          "text": [
            "          val_loss: 0.2968822704120116 val_acc 79.40% val_f1: 64.97%\n",
            "BiLSTM_Atten AUC =  0.8368710816917544\n",
            "Specificity =  0.8614072494669509\n",
            "Sensitivity =  0.6368159203980099\n",
            "[INFO] Register count_lstm() for <class 'torch.nn.modules.rnn.LSTM'>.\n",
            "[INFO] Register count_linear() for <class 'torch.nn.modules.linear.Linear'>.\n",
            "[INFO] Register zero_ops() for <class 'torch.nn.modules.activation.ReLU'>.\n",
            "[INFO] Register zero_ops() for <class 'torch.nn.modules.container.Sequential'>.\n",
            "[INFO] Register zero_ops() for <class 'torch.nn.modules.dropout.Dropout'>.\n",
            "Flops: 80358815488.00\n",
            "MLOPS: 185.03\n",
            "              precision    recall  f1-score   support\n",
            "\n",
            "         0.0     0.8470    0.8614    0.8541       469\n",
            "         1.0     0.6632    0.6368    0.6497       201\n",
            "\n",
            "    accuracy                         0.7940       670\n",
            "   macro avg     0.7551    0.7491    0.7519       670\n",
            "weighted avg     0.7918    0.7940    0.7928       670\n",
            "\n",
            "epoch: 74 step: 0/42\n",
            "epoch: 74 step: 4/42\n",
            "epoch: 74 step: 8/42\n",
            "epoch: 74 step: 12/42\n",
            "epoch: 74 step: 16/42\n",
            "epoch: 74 step: 20/42\n",
            "epoch: 74 step: 24/42\n",
            "epoch: 74 step: 28/42\n",
            "epoch: 74 step: 32/42\n",
            "epoch: 74 step: 36/42\n",
            "epoch: 74 step: 40/42\n"
          ]
        },
        {
          "output_type": "stream",
          "name": "stderr",
          "text": [
            "/usr/local/lib/python3.10/dist-packages/sklearn/utils/_array_api.py:185: FutureWarning: The input object of type 'Tensor' is an array-like implementing one of the corresponding protocols (`__array__`, `__array_interface__` or `__array_struct__`); but not a sequence (or 0-D). In the future, this object will be coerced as if it was first converted using `np.array(obj)`. To retain the old behaviour, you have to either modify the type 'Tensor', or assign to an empty array created with `np.empty(correct_shape, dtype=object)`.\n",
            "  array = numpy.asarray(array, order=order, dtype=dtype)\n",
            "/usr/local/lib/python3.10/dist-packages/sklearn/utils/_array_api.py:185: VisibleDeprecationWarning: Creating an ndarray from ragged nested sequences (which is a list-or-tuple of lists-or-tuples-or ndarrays with different lengths or shapes) is deprecated. If you meant to do this, you must specify 'dtype=object' when creating the ndarray.\n",
            "  array = numpy.asarray(array, order=order, dtype=dtype)\n",
            "<ipython-input-2-f0d979b1a134>:44: UserWarning: To copy construct from a tensor, it is recommended to use sourceTensor.clone().detach() or sourceTensor.clone().detach().requires_grad_(True), rather than torch.tensor(sourceTensor).\n",
            "  'label': torch.tensor(self.label_list[item])\n"
          ]
        },
        {
          "output_type": "stream",
          "name": "stdout",
          "text": [
            "test\n",
            "epoch: 74 train_loss: 0.0008011628106898916 train_acc: 99.66% train_f1: 99.44%\n"
          ]
        },
        {
          "output_type": "stream",
          "name": "stderr",
          "text": [
            "/usr/local/lib/python3.10/dist-packages/sklearn/utils/_array_api.py:185: FutureWarning: The input object of type 'Tensor' is an array-like implementing one of the corresponding protocols (`__array__`, `__array_interface__` or `__array_struct__`); but not a sequence (or 0-D). In the future, this object will be coerced as if it was first converted using `np.array(obj)`. To retain the old behaviour, you have to either modify the type 'Tensor', or assign to an empty array created with `np.empty(correct_shape, dtype=object)`.\n",
            "  array = numpy.asarray(array, order=order, dtype=dtype)\n",
            "/usr/local/lib/python3.10/dist-packages/sklearn/utils/_array_api.py:185: VisibleDeprecationWarning: Creating an ndarray from ragged nested sequences (which is a list-or-tuple of lists-or-tuples-or ndarrays with different lengths or shapes) is deprecated. If you meant to do this, you must specify 'dtype=object' when creating the ndarray.\n",
            "  array = numpy.asarray(array, order=order, dtype=dtype)\n"
          ]
        },
        {
          "output_type": "stream",
          "name": "stdout",
          "text": [
            "          val_loss: 0.31941541826183145 val_acc 79.55% val_f1: 64.78%\n",
            "BiLSTM_Atten AUC =  0.8374545184525135\n",
            "Specificity =  0.8678038379530917\n",
            "Sensitivity =  0.6268656716417911\n",
            "[INFO] Register count_lstm() for <class 'torch.nn.modules.rnn.LSTM'>.\n",
            "[INFO] Register count_linear() for <class 'torch.nn.modules.linear.Linear'>.\n",
            "[INFO] Register zero_ops() for <class 'torch.nn.modules.activation.ReLU'>.\n",
            "[INFO] Register zero_ops() for <class 'torch.nn.modules.container.Sequential'>.\n",
            "[INFO] Register zero_ops() for <class 'torch.nn.modules.dropout.Dropout'>.\n",
            "Flops: 80358815488.00\n",
            "MLOPS: 186.40\n",
            "              precision    recall  f1-score   support\n",
            "\n",
            "         0.0     0.8444    0.8678    0.8559       469\n",
            "         1.0     0.6702    0.6269    0.6478       201\n",
            "\n",
            "    accuracy                         0.7955       670\n",
            "   macro avg     0.7573    0.7473    0.7519       670\n",
            "weighted avg     0.7921    0.7955    0.7935       670\n",
            "\n"
          ]
        },
        {
          "output_type": "stream",
          "name": "stderr",
          "text": [
            "<ipython-input-2-f0d979b1a134>:44: UserWarning: To copy construct from a tensor, it is recommended to use sourceTensor.clone().detach() or sourceTensor.clone().detach().requires_grad_(True), rather than torch.tensor(sourceTensor).\n",
            "  'label': torch.tensor(self.label_list[item])\n"
          ]
        },
        {
          "output_type": "stream",
          "name": "stdout",
          "text": [
            "epoch: 75 step: 0/42\n",
            "epoch: 75 step: 4/42\n",
            "epoch: 75 step: 8/42\n",
            "epoch: 75 step: 12/42\n",
            "epoch: 75 step: 16/42\n",
            "epoch: 75 step: 20/42\n",
            "epoch: 75 step: 24/42\n",
            "epoch: 75 step: 28/42\n",
            "epoch: 75 step: 32/42\n",
            "epoch: 75 step: 36/42\n",
            "epoch: 75 step: 40/42\n"
          ]
        },
        {
          "output_type": "stream",
          "name": "stderr",
          "text": [
            "/usr/local/lib/python3.10/dist-packages/sklearn/utils/_array_api.py:185: FutureWarning: The input object of type 'Tensor' is an array-like implementing one of the corresponding protocols (`__array__`, `__array_interface__` or `__array_struct__`); but not a sequence (or 0-D). In the future, this object will be coerced as if it was first converted using `np.array(obj)`. To retain the old behaviour, you have to either modify the type 'Tensor', or assign to an empty array created with `np.empty(correct_shape, dtype=object)`.\n",
            "  array = numpy.asarray(array, order=order, dtype=dtype)\n",
            "/usr/local/lib/python3.10/dist-packages/sklearn/utils/_array_api.py:185: VisibleDeprecationWarning: Creating an ndarray from ragged nested sequences (which is a list-or-tuple of lists-or-tuples-or ndarrays with different lengths or shapes) is deprecated. If you meant to do this, you must specify 'dtype=object' when creating the ndarray.\n",
            "  array = numpy.asarray(array, order=order, dtype=dtype)\n",
            "<ipython-input-2-f0d979b1a134>:44: UserWarning: To copy construct from a tensor, it is recommended to use sourceTensor.clone().detach() or sourceTensor.clone().detach().requires_grad_(True), rather than torch.tensor(sourceTensor).\n",
            "  'label': torch.tensor(self.label_list[item])\n"
          ]
        },
        {
          "output_type": "stream",
          "name": "stdout",
          "text": [
            "test\n",
            "epoch: 75 train_loss: 0.0006408666792724814 train_acc: 99.78% train_f1: 99.63%\n"
          ]
        },
        {
          "output_type": "stream",
          "name": "stderr",
          "text": [
            "/usr/local/lib/python3.10/dist-packages/sklearn/utils/_array_api.py:185: FutureWarning: The input object of type 'Tensor' is an array-like implementing one of the corresponding protocols (`__array__`, `__array_interface__` or `__array_struct__`); but not a sequence (or 0-D). In the future, this object will be coerced as if it was first converted using `np.array(obj)`. To retain the old behaviour, you have to either modify the type 'Tensor', or assign to an empty array created with `np.empty(correct_shape, dtype=object)`.\n",
            "  array = numpy.asarray(array, order=order, dtype=dtype)\n",
            "/usr/local/lib/python3.10/dist-packages/sklearn/utils/_array_api.py:185: VisibleDeprecationWarning: Creating an ndarray from ragged nested sequences (which is a list-or-tuple of lists-or-tuples-or ndarrays with different lengths or shapes) is deprecated. If you meant to do this, you must specify 'dtype=object' when creating the ndarray.\n",
            "  array = numpy.asarray(array, order=order, dtype=dtype)\n",
            "<ipython-input-2-f0d979b1a134>:44: UserWarning: To copy construct from a tensor, it is recommended to use sourceTensor.clone().detach() or sourceTensor.clone().detach().requires_grad_(True), rather than torch.tensor(sourceTensor).\n",
            "  'label': torch.tensor(self.label_list[item])\n"
          ]
        },
        {
          "output_type": "stream",
          "name": "stdout",
          "text": [
            "          val_loss: 0.32227717543190176 val_acc 79.10% val_f1: 64.10%\n",
            "BiLSTM_Atten AUC =  0.8355450890536656\n",
            "Specificity =  0.8635394456289979\n",
            "Sensitivity =  0.6218905472636815\n",
            "[INFO] Register count_lstm() for <class 'torch.nn.modules.rnn.LSTM'>.\n",
            "[INFO] Register count_linear() for <class 'torch.nn.modules.linear.Linear'>.\n",
            "[INFO] Register zero_ops() for <class 'torch.nn.modules.activation.ReLU'>.\n",
            "[INFO] Register zero_ops() for <class 'torch.nn.modules.container.Sequential'>.\n",
            "[INFO] Register zero_ops() for <class 'torch.nn.modules.dropout.Dropout'>.\n",
            "Flops: 80358815488.00\n",
            "MLOPS: 182.57\n",
            "              precision    recall  f1-score   support\n",
            "\n",
            "         0.0     0.8420    0.8635    0.8526       469\n",
            "         1.0     0.6614    0.6219    0.6410       201\n",
            "\n",
            "    accuracy                         0.7910       670\n",
            "   macro avg     0.7517    0.7427    0.7468       670\n",
            "weighted avg     0.7878    0.7910    0.7891       670\n",
            "\n",
            "epoch: 76 step: 0/42\n",
            "epoch: 76 step: 4/42\n",
            "epoch: 76 step: 8/42\n",
            "epoch: 76 step: 12/42\n",
            "epoch: 76 step: 16/42\n",
            "epoch: 76 step: 20/42\n",
            "epoch: 76 step: 24/42\n",
            "epoch: 76 step: 28/42\n",
            "epoch: 76 step: 32/42\n",
            "epoch: 76 step: 36/42\n",
            "epoch: 76 step: 40/42\n"
          ]
        },
        {
          "output_type": "stream",
          "name": "stderr",
          "text": [
            "/usr/local/lib/python3.10/dist-packages/sklearn/utils/_array_api.py:185: FutureWarning: The input object of type 'Tensor' is an array-like implementing one of the corresponding protocols (`__array__`, `__array_interface__` or `__array_struct__`); but not a sequence (or 0-D). In the future, this object will be coerced as if it was first converted using `np.array(obj)`. To retain the old behaviour, you have to either modify the type 'Tensor', or assign to an empty array created with `np.empty(correct_shape, dtype=object)`.\n",
            "  array = numpy.asarray(array, order=order, dtype=dtype)\n",
            "/usr/local/lib/python3.10/dist-packages/sklearn/utils/_array_api.py:185: VisibleDeprecationWarning: Creating an ndarray from ragged nested sequences (which is a list-or-tuple of lists-or-tuples-or ndarrays with different lengths or shapes) is deprecated. If you meant to do this, you must specify 'dtype=object' when creating the ndarray.\n",
            "  array = numpy.asarray(array, order=order, dtype=dtype)\n",
            "<ipython-input-2-f0d979b1a134>:44: UserWarning: To copy construct from a tensor, it is recommended to use sourceTensor.clone().detach() or sourceTensor.clone().detach().requires_grad_(True), rather than torch.tensor(sourceTensor).\n",
            "  'label': torch.tensor(self.label_list[item])\n"
          ]
        },
        {
          "output_type": "stream",
          "name": "stdout",
          "text": [
            "test\n",
            "epoch: 76 train_loss: 0.0006368253590543256 train_acc: 99.89% train_f1: 99.81%\n"
          ]
        },
        {
          "output_type": "stream",
          "name": "stderr",
          "text": [
            "/usr/local/lib/python3.10/dist-packages/sklearn/utils/_array_api.py:185: FutureWarning: The input object of type 'Tensor' is an array-like implementing one of the corresponding protocols (`__array__`, `__array_interface__` or `__array_struct__`); but not a sequence (or 0-D). In the future, this object will be coerced as if it was first converted using `np.array(obj)`. To retain the old behaviour, you have to either modify the type 'Tensor', or assign to an empty array created with `np.empty(correct_shape, dtype=object)`.\n",
            "  array = numpy.asarray(array, order=order, dtype=dtype)\n",
            "/usr/local/lib/python3.10/dist-packages/sklearn/utils/_array_api.py:185: VisibleDeprecationWarning: Creating an ndarray from ragged nested sequences (which is a list-or-tuple of lists-or-tuples-or ndarrays with different lengths or shapes) is deprecated. If you meant to do this, you must specify 'dtype=object' when creating the ndarray.\n",
            "  array = numpy.asarray(array, order=order, dtype=dtype)\n",
            "<ipython-input-2-f0d979b1a134>:44: UserWarning: To copy construct from a tensor, it is recommended to use sourceTensor.clone().detach() or sourceTensor.clone().detach().requires_grad_(True), rather than torch.tensor(sourceTensor).\n",
            "  'label': torch.tensor(self.label_list[item])\n"
          ]
        },
        {
          "output_type": "stream",
          "name": "stdout",
          "text": [
            "          val_loss: 0.3686143295331435 val_acc 80.00% val_f1: 63.98%\n",
            "BiLSTM_Atten AUC =  0.8323945305455664\n",
            "Specificity =  0.8891257995735607\n",
            "Sensitivity =  0.5920398009950248\n",
            "[INFO] Register count_lstm() for <class 'torch.nn.modules.rnn.LSTM'>.\n",
            "[INFO] Register count_linear() for <class 'torch.nn.modules.linear.Linear'>.\n",
            "[INFO] Register zero_ops() for <class 'torch.nn.modules.activation.ReLU'>.\n",
            "[INFO] Register zero_ops() for <class 'torch.nn.modules.container.Sequential'>.\n",
            "[INFO] Register zero_ops() for <class 'torch.nn.modules.dropout.Dropout'>.\n",
            "Flops: 80358815488.00\n",
            "MLOPS: 185.63\n",
            "              precision    recall  f1-score   support\n",
            "\n",
            "         0.0     0.8357    0.8891    0.8616       469\n",
            "         1.0     0.6959    0.5920    0.6398       201\n",
            "\n",
            "    accuracy                         0.8000       670\n",
            "   macro avg     0.7658    0.7406    0.7507       670\n",
            "weighted avg     0.7937    0.8000    0.7950       670\n",
            "\n",
            "epoch: 77 step: 0/42\n",
            "epoch: 77 step: 4/42\n",
            "epoch: 77 step: 8/42\n",
            "epoch: 77 step: 12/42\n",
            "epoch: 77 step: 16/42\n",
            "epoch: 77 step: 20/42\n",
            "epoch: 77 step: 24/42\n",
            "epoch: 77 step: 28/42\n",
            "epoch: 77 step: 32/42\n",
            "epoch: 77 step: 36/42\n",
            "epoch: 77 step: 40/42\n"
          ]
        },
        {
          "output_type": "stream",
          "name": "stderr",
          "text": [
            "/usr/local/lib/python3.10/dist-packages/sklearn/utils/_array_api.py:185: FutureWarning: The input object of type 'Tensor' is an array-like implementing one of the corresponding protocols (`__array__`, `__array_interface__` or `__array_struct__`); but not a sequence (or 0-D). In the future, this object will be coerced as if it was first converted using `np.array(obj)`. To retain the old behaviour, you have to either modify the type 'Tensor', or assign to an empty array created with `np.empty(correct_shape, dtype=object)`.\n",
            "  array = numpy.asarray(array, order=order, dtype=dtype)\n",
            "/usr/local/lib/python3.10/dist-packages/sklearn/utils/_array_api.py:185: VisibleDeprecationWarning: Creating an ndarray from ragged nested sequences (which is a list-or-tuple of lists-or-tuples-or ndarrays with different lengths or shapes) is deprecated. If you meant to do this, you must specify 'dtype=object' when creating the ndarray.\n",
            "  array = numpy.asarray(array, order=order, dtype=dtype)\n",
            "<ipython-input-2-f0d979b1a134>:44: UserWarning: To copy construct from a tensor, it is recommended to use sourceTensor.clone().detach() or sourceTensor.clone().detach().requires_grad_(True), rather than torch.tensor(sourceTensor).\n",
            "  'label': torch.tensor(self.label_list[item])\n"
          ]
        },
        {
          "output_type": "stream",
          "name": "stdout",
          "text": [
            "test\n",
            "epoch: 77 train_loss: 0.0010436590680564265 train_acc: 99.63% train_f1: 99.38%\n"
          ]
        },
        {
          "output_type": "stream",
          "name": "stderr",
          "text": [
            "/usr/local/lib/python3.10/dist-packages/sklearn/utils/_array_api.py:185: FutureWarning: The input object of type 'Tensor' is an array-like implementing one of the corresponding protocols (`__array__`, `__array_interface__` or `__array_struct__`); but not a sequence (or 0-D). In the future, this object will be coerced as if it was first converted using `np.array(obj)`. To retain the old behaviour, you have to either modify the type 'Tensor', or assign to an empty array created with `np.empty(correct_shape, dtype=object)`.\n",
            "  array = numpy.asarray(array, order=order, dtype=dtype)\n",
            "/usr/local/lib/python3.10/dist-packages/sklearn/utils/_array_api.py:185: VisibleDeprecationWarning: Creating an ndarray from ragged nested sequences (which is a list-or-tuple of lists-or-tuples-or ndarrays with different lengths or shapes) is deprecated. If you meant to do this, you must specify 'dtype=object' when creating the ndarray.\n",
            "  array = numpy.asarray(array, order=order, dtype=dtype)\n",
            "<ipython-input-2-f0d979b1a134>:44: UserWarning: To copy construct from a tensor, it is recommended to use sourceTensor.clone().detach() or sourceTensor.clone().detach().requires_grad_(True), rather than torch.tensor(sourceTensor).\n",
            "  'label': torch.tensor(self.label_list[item])\n"
          ]
        },
        {
          "output_type": "stream",
          "name": "stdout",
          "text": [
            "          val_loss: 0.30063972689888696 val_acc 79.40% val_f1: 66.83%\n",
            "BiLSTM_Atten AUC =  0.8364679799297753\n",
            "Specificity =  0.837953091684435\n",
            "Sensitivity =  0.6915422885572139\n",
            "[INFO] Register count_lstm() for <class 'torch.nn.modules.rnn.LSTM'>.\n",
            "[INFO] Register count_linear() for <class 'torch.nn.modules.linear.Linear'>.\n",
            "[INFO] Register zero_ops() for <class 'torch.nn.modules.activation.ReLU'>.\n",
            "[INFO] Register zero_ops() for <class 'torch.nn.modules.container.Sequential'>.\n",
            "[INFO] Register zero_ops() for <class 'torch.nn.modules.dropout.Dropout'>.\n",
            "Flops: 80358815488.00\n",
            "MLOPS: 185.26\n",
            "              precision    recall  f1-score   support\n",
            "\n",
            "         0.0     0.8637    0.8380    0.8506       469\n",
            "         1.0     0.6465    0.6915    0.6683       201\n",
            "\n",
            "    accuracy                         0.7940       670\n",
            "   macro avg     0.7551    0.7647    0.7595       670\n",
            "weighted avg     0.7986    0.7940    0.7959       670\n",
            "\n",
            "epoch: 78 step: 0/42\n",
            "epoch: 78 step: 4/42\n",
            "epoch: 78 step: 8/42\n",
            "epoch: 78 step: 12/42\n",
            "epoch: 78 step: 16/42\n",
            "epoch: 78 step: 20/42\n",
            "epoch: 78 step: 24/42\n",
            "epoch: 78 step: 28/42\n",
            "epoch: 78 step: 32/42\n",
            "epoch: 78 step: 36/42\n",
            "epoch: 78 step: 40/42\n"
          ]
        },
        {
          "output_type": "stream",
          "name": "stderr",
          "text": [
            "/usr/local/lib/python3.10/dist-packages/sklearn/utils/_array_api.py:185: FutureWarning: The input object of type 'Tensor' is an array-like implementing one of the corresponding protocols (`__array__`, `__array_interface__` or `__array_struct__`); but not a sequence (or 0-D). In the future, this object will be coerced as if it was first converted using `np.array(obj)`. To retain the old behaviour, you have to either modify the type 'Tensor', or assign to an empty array created with `np.empty(correct_shape, dtype=object)`.\n",
            "  array = numpy.asarray(array, order=order, dtype=dtype)\n",
            "/usr/local/lib/python3.10/dist-packages/sklearn/utils/_array_api.py:185: VisibleDeprecationWarning: Creating an ndarray from ragged nested sequences (which is a list-or-tuple of lists-or-tuples-or ndarrays with different lengths or shapes) is deprecated. If you meant to do this, you must specify 'dtype=object' when creating the ndarray.\n",
            "  array = numpy.asarray(array, order=order, dtype=dtype)\n"
          ]
        },
        {
          "output_type": "stream",
          "name": "stdout",
          "text": [
            "test\n",
            "epoch: 78 train_loss: 0.0009302857041412997 train_acc: 99.70% train_f1: 99.50%\n"
          ]
        },
        {
          "output_type": "stream",
          "name": "stderr",
          "text": [
            "<ipython-input-2-f0d979b1a134>:44: UserWarning: To copy construct from a tensor, it is recommended to use sourceTensor.clone().detach() or sourceTensor.clone().detach().requires_grad_(True), rather than torch.tensor(sourceTensor).\n",
            "  'label': torch.tensor(self.label_list[item])\n",
            "/usr/local/lib/python3.10/dist-packages/sklearn/utils/_array_api.py:185: FutureWarning: The input object of type 'Tensor' is an array-like implementing one of the corresponding protocols (`__array__`, `__array_interface__` or `__array_struct__`); but not a sequence (or 0-D). In the future, this object will be coerced as if it was first converted using `np.array(obj)`. To retain the old behaviour, you have to either modify the type 'Tensor', or assign to an empty array created with `np.empty(correct_shape, dtype=object)`.\n",
            "  array = numpy.asarray(array, order=order, dtype=dtype)\n",
            "/usr/local/lib/python3.10/dist-packages/sklearn/utils/_array_api.py:185: VisibleDeprecationWarning: Creating an ndarray from ragged nested sequences (which is a list-or-tuple of lists-or-tuples-or ndarrays with different lengths or shapes) is deprecated. If you meant to do this, you must specify 'dtype=object' when creating the ndarray.\n",
            "  array = numpy.asarray(array, order=order, dtype=dtype)\n",
            "<ipython-input-2-f0d979b1a134>:44: UserWarning: To copy construct from a tensor, it is recommended to use sourceTensor.clone().detach() or sourceTensor.clone().detach().requires_grad_(True), rather than torch.tensor(sourceTensor).\n",
            "  'label': torch.tensor(self.label_list[item])\n"
          ]
        },
        {
          "output_type": "stream",
          "name": "stdout",
          "text": [
            "          val_loss: 0.34112098948522046 val_acc 80.00% val_f1: 65.28%\n",
            "BiLSTM_Atten AUC =  0.8317686620203886\n",
            "Specificity =  0.8742004264392325\n",
            "Sensitivity =  0.6268656716417911\n",
            "[INFO] Register count_lstm() for <class 'torch.nn.modules.rnn.LSTM'>.\n",
            "[INFO] Register count_linear() for <class 'torch.nn.modules.linear.Linear'>.\n",
            "[INFO] Register zero_ops() for <class 'torch.nn.modules.activation.ReLU'>.\n",
            "[INFO] Register zero_ops() for <class 'torch.nn.modules.container.Sequential'>.\n",
            "[INFO] Register zero_ops() for <class 'torch.nn.modules.dropout.Dropout'>.\n",
            "Flops: 80358815488.00\n",
            "MLOPS: 186.39\n",
            "              precision    recall  f1-score   support\n",
            "\n",
            "         0.0     0.8454    0.8742    0.8595       469\n",
            "         1.0     0.6811    0.6269    0.6528       201\n",
            "\n",
            "    accuracy                         0.8000       670\n",
            "   macro avg     0.7632    0.7505    0.7562       670\n",
            "weighted avg     0.7961    0.8000    0.7975       670\n",
            "\n",
            "epoch: 79 step: 0/42\n",
            "epoch: 79 step: 4/42\n",
            "epoch: 79 step: 8/42\n",
            "epoch: 79 step: 12/42\n",
            "epoch: 79 step: 16/42\n",
            "epoch: 79 step: 20/42\n",
            "epoch: 79 step: 24/42\n",
            "epoch: 79 step: 28/42\n",
            "epoch: 79 step: 32/42\n",
            "epoch: 79 step: 36/42\n",
            "epoch: 79 step: 40/42\n"
          ]
        },
        {
          "output_type": "stream",
          "name": "stderr",
          "text": [
            "/usr/local/lib/python3.10/dist-packages/sklearn/utils/_array_api.py:185: FutureWarning: The input object of type 'Tensor' is an array-like implementing one of the corresponding protocols (`__array__`, `__array_interface__` or `__array_struct__`); but not a sequence (or 0-D). In the future, this object will be coerced as if it was first converted using `np.array(obj)`. To retain the old behaviour, you have to either modify the type 'Tensor', or assign to an empty array created with `np.empty(correct_shape, dtype=object)`.\n",
            "  array = numpy.asarray(array, order=order, dtype=dtype)\n",
            "/usr/local/lib/python3.10/dist-packages/sklearn/utils/_array_api.py:185: VisibleDeprecationWarning: Creating an ndarray from ragged nested sequences (which is a list-or-tuple of lists-or-tuples-or ndarrays with different lengths or shapes) is deprecated. If you meant to do this, you must specify 'dtype=object' when creating the ndarray.\n",
            "  array = numpy.asarray(array, order=order, dtype=dtype)\n",
            "<ipython-input-2-f0d979b1a134>:44: UserWarning: To copy construct from a tensor, it is recommended to use sourceTensor.clone().detach() or sourceTensor.clone().detach().requires_grad_(True), rather than torch.tensor(sourceTensor).\n",
            "  'label': torch.tensor(self.label_list[item])\n"
          ]
        },
        {
          "output_type": "stream",
          "name": "stdout",
          "text": [
            "test\n",
            "epoch: 79 train_loss: 0.0006119491246776999 train_acc: 99.81% train_f1: 99.69%\n"
          ]
        },
        {
          "output_type": "stream",
          "name": "stderr",
          "text": [
            "/usr/local/lib/python3.10/dist-packages/sklearn/utils/_array_api.py:185: FutureWarning: The input object of type 'Tensor' is an array-like implementing one of the corresponding protocols (`__array__`, `__array_interface__` or `__array_struct__`); but not a sequence (or 0-D). In the future, this object will be coerced as if it was first converted using `np.array(obj)`. To retain the old behaviour, you have to either modify the type 'Tensor', or assign to an empty array created with `np.empty(correct_shape, dtype=object)`.\n",
            "  array = numpy.asarray(array, order=order, dtype=dtype)\n",
            "/usr/local/lib/python3.10/dist-packages/sklearn/utils/_array_api.py:185: VisibleDeprecationWarning: Creating an ndarray from ragged nested sequences (which is a list-or-tuple of lists-or-tuples-or ndarrays with different lengths or shapes) is deprecated. If you meant to do this, you must specify 'dtype=object' when creating the ndarray.\n",
            "  array = numpy.asarray(array, order=order, dtype=dtype)\n"
          ]
        },
        {
          "output_type": "stream",
          "name": "stdout",
          "text": [
            "          val_loss: 0.3483691689642993 val_acc 79.55% val_f1: 65.14%\n",
            "BiLSTM_Atten AUC =  0.8333704611271999\n",
            "Specificity =  0.8635394456289979\n",
            "Sensitivity =  0.6368159203980099\n",
            "[INFO] Register count_lstm() for <class 'torch.nn.modules.rnn.LSTM'>.\n",
            "[INFO] Register count_linear() for <class 'torch.nn.modules.linear.Linear'>.\n",
            "[INFO] Register zero_ops() for <class 'torch.nn.modules.activation.ReLU'>.\n",
            "[INFO] Register zero_ops() for <class 'torch.nn.modules.container.Sequential'>.\n",
            "[INFO] Register zero_ops() for <class 'torch.nn.modules.dropout.Dropout'>.\n",
            "Flops: 80358815488.00\n",
            "MLOPS: 185.57\n",
            "              precision    recall  f1-score   support\n",
            "\n",
            "         0.0     0.8473    0.8635    0.8553       469\n",
            "         1.0     0.6667    0.6368    0.6514       201\n",
            "\n",
            "    accuracy                         0.7955       670\n",
            "   macro avg     0.7570    0.7502    0.7534       670\n",
            "weighted avg     0.7931    0.7955    0.7942       670\n",
            "\n"
          ]
        },
        {
          "output_type": "stream",
          "name": "stderr",
          "text": [
            "<ipython-input-2-f0d979b1a134>:44: UserWarning: To copy construct from a tensor, it is recommended to use sourceTensor.clone().detach() or sourceTensor.clone().detach().requires_grad_(True), rather than torch.tensor(sourceTensor).\n",
            "  'label': torch.tensor(self.label_list[item])\n"
          ]
        },
        {
          "output_type": "stream",
          "name": "stdout",
          "text": [
            "epoch: 80 step: 0/42\n",
            "epoch: 80 step: 4/42\n",
            "epoch: 80 step: 8/42\n",
            "epoch: 80 step: 12/42\n",
            "epoch: 80 step: 16/42\n",
            "epoch: 80 step: 20/42\n",
            "epoch: 80 step: 24/42\n",
            "epoch: 80 step: 28/42\n",
            "epoch: 80 step: 32/42\n",
            "epoch: 80 step: 36/42\n",
            "epoch: 80 step: 40/42\n"
          ]
        },
        {
          "output_type": "stream",
          "name": "stderr",
          "text": [
            "/usr/local/lib/python3.10/dist-packages/sklearn/utils/_array_api.py:185: FutureWarning: The input object of type 'Tensor' is an array-like implementing one of the corresponding protocols (`__array__`, `__array_interface__` or `__array_struct__`); but not a sequence (or 0-D). In the future, this object will be coerced as if it was first converted using `np.array(obj)`. To retain the old behaviour, you have to either modify the type 'Tensor', or assign to an empty array created with `np.empty(correct_shape, dtype=object)`.\n",
            "  array = numpy.asarray(array, order=order, dtype=dtype)\n",
            "/usr/local/lib/python3.10/dist-packages/sklearn/utils/_array_api.py:185: VisibleDeprecationWarning: Creating an ndarray from ragged nested sequences (which is a list-or-tuple of lists-or-tuples-or ndarrays with different lengths or shapes) is deprecated. If you meant to do this, you must specify 'dtype=object' when creating the ndarray.\n",
            "  array = numpy.asarray(array, order=order, dtype=dtype)\n",
            "<ipython-input-2-f0d979b1a134>:44: UserWarning: To copy construct from a tensor, it is recommended to use sourceTensor.clone().detach() or sourceTensor.clone().detach().requires_grad_(True), rather than torch.tensor(sourceTensor).\n",
            "  'label': torch.tensor(self.label_list[item])\n"
          ]
        },
        {
          "output_type": "stream",
          "name": "stdout",
          "text": [
            "test\n",
            "epoch: 80 train_loss: 0.00046187095644459726 train_acc: 99.85% train_f1: 99.75%\n"
          ]
        },
        {
          "output_type": "stream",
          "name": "stderr",
          "text": [
            "/usr/local/lib/python3.10/dist-packages/sklearn/utils/_array_api.py:185: FutureWarning: The input object of type 'Tensor' is an array-like implementing one of the corresponding protocols (`__array__`, `__array_interface__` or `__array_struct__`); but not a sequence (or 0-D). In the future, this object will be coerced as if it was first converted using `np.array(obj)`. To retain the old behaviour, you have to either modify the type 'Tensor', or assign to an empty array created with `np.empty(correct_shape, dtype=object)`.\n",
            "  array = numpy.asarray(array, order=order, dtype=dtype)\n",
            "/usr/local/lib/python3.10/dist-packages/sklearn/utils/_array_api.py:185: VisibleDeprecationWarning: Creating an ndarray from ragged nested sequences (which is a list-or-tuple of lists-or-tuples-or ndarrays with different lengths or shapes) is deprecated. If you meant to do this, you must specify 'dtype=object' when creating the ndarray.\n",
            "  array = numpy.asarray(array, order=order, dtype=dtype)\n",
            "<ipython-input-2-f0d979b1a134>:44: UserWarning: To copy construct from a tensor, it is recommended to use sourceTensor.clone().detach() or sourceTensor.clone().detach().requires_grad_(True), rather than torch.tensor(sourceTensor).\n",
            "  'label': torch.tensor(self.label_list[item])\n"
          ]
        },
        {
          "output_type": "stream",
          "name": "stdout",
          "text": [
            "          val_loss: 0.33975322815504944 val_acc 79.85% val_f1: 65.65%\n",
            "BiLSTM_Atten AUC =  0.8345267267076133\n",
            "Specificity =  0.8656716417910447\n",
            "Sensitivity =  0.6417910447761194\n",
            "[INFO] Register count_lstm() for <class 'torch.nn.modules.rnn.LSTM'>.\n",
            "[INFO] Register count_linear() for <class 'torch.nn.modules.linear.Linear'>.\n",
            "[INFO] Register zero_ops() for <class 'torch.nn.modules.activation.ReLU'>.\n",
            "[INFO] Register zero_ops() for <class 'torch.nn.modules.container.Sequential'>.\n",
            "[INFO] Register zero_ops() for <class 'torch.nn.modules.dropout.Dropout'>.\n",
            "Flops: 80358815488.00\n",
            "MLOPS: 180.08\n",
            "              precision    recall  f1-score   support\n",
            "\n",
            "         0.0     0.8494    0.8657    0.8574       469\n",
            "         1.0     0.6719    0.6418    0.6565       201\n",
            "\n",
            "    accuracy                         0.7985       670\n",
            "   macro avg     0.7606    0.7537    0.7570       670\n",
            "weighted avg     0.7961    0.7985    0.7972       670\n",
            "\n",
            "epoch: 81 step: 0/42\n",
            "epoch: 81 step: 4/42\n",
            "epoch: 81 step: 8/42\n",
            "epoch: 81 step: 12/42\n",
            "epoch: 81 step: 16/42\n",
            "epoch: 81 step: 20/42\n",
            "epoch: 81 step: 24/42\n",
            "epoch: 81 step: 28/42\n",
            "epoch: 81 step: 32/42\n",
            "epoch: 81 step: 36/42\n",
            "epoch: 81 step: 40/42\n"
          ]
        },
        {
          "output_type": "stream",
          "name": "stderr",
          "text": [
            "/usr/local/lib/python3.10/dist-packages/sklearn/utils/_array_api.py:185: FutureWarning: The input object of type 'Tensor' is an array-like implementing one of the corresponding protocols (`__array__`, `__array_interface__` or `__array_struct__`); but not a sequence (or 0-D). In the future, this object will be coerced as if it was first converted using `np.array(obj)`. To retain the old behaviour, you have to either modify the type 'Tensor', or assign to an empty array created with `np.empty(correct_shape, dtype=object)`.\n",
            "  array = numpy.asarray(array, order=order, dtype=dtype)\n",
            "/usr/local/lib/python3.10/dist-packages/sklearn/utils/_array_api.py:185: VisibleDeprecationWarning: Creating an ndarray from ragged nested sequences (which is a list-or-tuple of lists-or-tuples-or ndarrays with different lengths or shapes) is deprecated. If you meant to do this, you must specify 'dtype=object' when creating the ndarray.\n",
            "  array = numpy.asarray(array, order=order, dtype=dtype)\n",
            "<ipython-input-2-f0d979b1a134>:44: UserWarning: To copy construct from a tensor, it is recommended to use sourceTensor.clone().detach() or sourceTensor.clone().detach().requires_grad_(True), rather than torch.tensor(sourceTensor).\n",
            "  'label': torch.tensor(self.label_list[item])\n"
          ]
        },
        {
          "output_type": "stream",
          "name": "stdout",
          "text": [
            "test\n",
            "epoch: 81 train_loss: 0.00047801850710779296 train_acc: 99.89% train_f1: 99.81%\n"
          ]
        },
        {
          "output_type": "stream",
          "name": "stderr",
          "text": [
            "/usr/local/lib/python3.10/dist-packages/sklearn/utils/_array_api.py:185: FutureWarning: The input object of type 'Tensor' is an array-like implementing one of the corresponding protocols (`__array__`, `__array_interface__` or `__array_struct__`); but not a sequence (or 0-D). In the future, this object will be coerced as if it was first converted using `np.array(obj)`. To retain the old behaviour, you have to either modify the type 'Tensor', or assign to an empty array created with `np.empty(correct_shape, dtype=object)`.\n",
            "  array = numpy.asarray(array, order=order, dtype=dtype)\n",
            "/usr/local/lib/python3.10/dist-packages/sklearn/utils/_array_api.py:185: VisibleDeprecationWarning: Creating an ndarray from ragged nested sequences (which is a list-or-tuple of lists-or-tuples-or ndarrays with different lengths or shapes) is deprecated. If you meant to do this, you must specify 'dtype=object' when creating the ndarray.\n",
            "  array = numpy.asarray(array, order=order, dtype=dtype)\n",
            "<ipython-input-2-f0d979b1a134>:44: UserWarning: To copy construct from a tensor, it is recommended to use sourceTensor.clone().detach() or sourceTensor.clone().detach().requires_grad_(True), rather than torch.tensor(sourceTensor).\n",
            "  'label': torch.tensor(self.label_list[item])\n"
          ]
        },
        {
          "output_type": "stream",
          "name": "stdout",
          "text": [
            "          val_loss: 0.3302608308466998 val_acc 79.25% val_f1: 65.68%\n",
            "BiLSTM_Atten AUC =  0.8338478184769117\n",
            "Specificity =  0.8486140724946695\n",
            "Sensitivity =  0.6616915422885572\n",
            "[INFO] Register count_lstm() for <class 'torch.nn.modules.rnn.LSTM'>.\n",
            "[INFO] Register count_linear() for <class 'torch.nn.modules.linear.Linear'>.\n",
            "[INFO] Register zero_ops() for <class 'torch.nn.modules.activation.ReLU'>.\n",
            "[INFO] Register zero_ops() for <class 'torch.nn.modules.container.Sequential'>.\n",
            "[INFO] Register zero_ops() for <class 'torch.nn.modules.dropout.Dropout'>.\n",
            "Flops: 80358815488.00\n",
            "MLOPS: 186.24\n",
            "              precision    recall  f1-score   support\n",
            "\n",
            "         0.0     0.8541    0.8486    0.8513       469\n",
            "         1.0     0.6520    0.6617    0.6568       201\n",
            "\n",
            "    accuracy                         0.7925       670\n",
            "   macro avg     0.7530    0.7552    0.7541       670\n",
            "weighted avg     0.7934    0.7925    0.7930       670\n",
            "\n",
            "epoch: 82 step: 0/42\n",
            "epoch: 82 step: 4/42\n",
            "epoch: 82 step: 8/42\n",
            "epoch: 82 step: 12/42\n",
            "epoch: 82 step: 16/42\n",
            "epoch: 82 step: 20/42\n",
            "epoch: 82 step: 24/42\n",
            "epoch: 82 step: 28/42\n",
            "epoch: 82 step: 32/42\n",
            "epoch: 82 step: 36/42\n",
            "epoch: 82 step: 40/42\n"
          ]
        },
        {
          "output_type": "stream",
          "name": "stderr",
          "text": [
            "/usr/local/lib/python3.10/dist-packages/sklearn/utils/_array_api.py:185: FutureWarning: The input object of type 'Tensor' is an array-like implementing one of the corresponding protocols (`__array__`, `__array_interface__` or `__array_struct__`); but not a sequence (or 0-D). In the future, this object will be coerced as if it was first converted using `np.array(obj)`. To retain the old behaviour, you have to either modify the type 'Tensor', or assign to an empty array created with `np.empty(correct_shape, dtype=object)`.\n",
            "  array = numpy.asarray(array, order=order, dtype=dtype)\n",
            "/usr/local/lib/python3.10/dist-packages/sklearn/utils/_array_api.py:185: VisibleDeprecationWarning: Creating an ndarray from ragged nested sequences (which is a list-or-tuple of lists-or-tuples-or ndarrays with different lengths or shapes) is deprecated. If you meant to do this, you must specify 'dtype=object' when creating the ndarray.\n",
            "  array = numpy.asarray(array, order=order, dtype=dtype)\n"
          ]
        },
        {
          "output_type": "stream",
          "name": "stdout",
          "text": [
            "test\n",
            "epoch: 82 train_loss: 0.0004935488278923523 train_acc: 99.93% train_f1: 99.88%\n"
          ]
        },
        {
          "output_type": "stream",
          "name": "stderr",
          "text": [
            "<ipython-input-2-f0d979b1a134>:44: UserWarning: To copy construct from a tensor, it is recommended to use sourceTensor.clone().detach() or sourceTensor.clone().detach().requires_grad_(True), rather than torch.tensor(sourceTensor).\n",
            "  'label': torch.tensor(self.label_list[item])\n",
            "/usr/local/lib/python3.10/dist-packages/sklearn/utils/_array_api.py:185: FutureWarning: The input object of type 'Tensor' is an array-like implementing one of the corresponding protocols (`__array__`, `__array_interface__` or `__array_struct__`); but not a sequence (or 0-D). In the future, this object will be coerced as if it was first converted using `np.array(obj)`. To retain the old behaviour, you have to either modify the type 'Tensor', or assign to an empty array created with `np.empty(correct_shape, dtype=object)`.\n",
            "  array = numpy.asarray(array, order=order, dtype=dtype)\n",
            "/usr/local/lib/python3.10/dist-packages/sklearn/utils/_array_api.py:185: VisibleDeprecationWarning: Creating an ndarray from ragged nested sequences (which is a list-or-tuple of lists-or-tuples-or ndarrays with different lengths or shapes) is deprecated. If you meant to do this, you must specify 'dtype=object' when creating the ndarray.\n",
            "  array = numpy.asarray(array, order=order, dtype=dtype)\n",
            "<ipython-input-2-f0d979b1a134>:44: UserWarning: To copy construct from a tensor, it is recommended to use sourceTensor.clone().detach() or sourceTensor.clone().detach().requires_grad_(True), rather than torch.tensor(sourceTensor).\n",
            "  'label': torch.tensor(self.label_list[item])\n"
          ]
        },
        {
          "output_type": "stream",
          "name": "stdout",
          "text": [
            "          val_loss: 0.3035997287793593 val_acc 78.36% val_f1: 64.55%\n",
            "BiLSTM_Atten AUC =  0.8335507961259798\n",
            "Specificity =  0.837953091684435\n",
            "Sensitivity =  0.6567164179104478\n",
            "[INFO] Register count_lstm() for <class 'torch.nn.modules.rnn.LSTM'>.\n",
            "[INFO] Register count_linear() for <class 'torch.nn.modules.linear.Linear'>.\n",
            "[INFO] Register zero_ops() for <class 'torch.nn.modules.activation.ReLU'>.\n",
            "[INFO] Register zero_ops() for <class 'torch.nn.modules.container.Sequential'>.\n",
            "[INFO] Register zero_ops() for <class 'torch.nn.modules.dropout.Dropout'>.\n",
            "Flops: 80358815488.00\n",
            "MLOPS: 186.25\n",
            "              precision    recall  f1-score   support\n",
            "\n",
            "         0.0     0.8506    0.8380    0.8443       469\n",
            "         1.0     0.6346    0.6567    0.6455       201\n",
            "\n",
            "    accuracy                         0.7836       670\n",
            "   macro avg     0.7426    0.7473    0.7449       670\n",
            "weighted avg     0.7858    0.7836    0.7846       670\n",
            "\n",
            "epoch: 83 step: 0/42\n",
            "epoch: 83 step: 4/42\n",
            "epoch: 83 step: 8/42\n",
            "epoch: 83 step: 12/42\n",
            "epoch: 83 step: 16/42\n",
            "epoch: 83 step: 20/42\n",
            "epoch: 83 step: 24/42\n",
            "epoch: 83 step: 28/42\n",
            "epoch: 83 step: 32/42\n",
            "epoch: 83 step: 36/42\n",
            "epoch: 83 step: 40/42\n"
          ]
        },
        {
          "output_type": "stream",
          "name": "stderr",
          "text": [
            "/usr/local/lib/python3.10/dist-packages/sklearn/utils/_array_api.py:185: FutureWarning: The input object of type 'Tensor' is an array-like implementing one of the corresponding protocols (`__array__`, `__array_interface__` or `__array_struct__`); but not a sequence (or 0-D). In the future, this object will be coerced as if it was first converted using `np.array(obj)`. To retain the old behaviour, you have to either modify the type 'Tensor', or assign to an empty array created with `np.empty(correct_shape, dtype=object)`.\n",
            "  array = numpy.asarray(array, order=order, dtype=dtype)\n",
            "/usr/local/lib/python3.10/dist-packages/sklearn/utils/_array_api.py:185: VisibleDeprecationWarning: Creating an ndarray from ragged nested sequences (which is a list-or-tuple of lists-or-tuples-or ndarrays with different lengths or shapes) is deprecated. If you meant to do this, you must specify 'dtype=object' when creating the ndarray.\n",
            "  array = numpy.asarray(array, order=order, dtype=dtype)\n",
            "<ipython-input-2-f0d979b1a134>:44: UserWarning: To copy construct from a tensor, it is recommended to use sourceTensor.clone().detach() or sourceTensor.clone().detach().requires_grad_(True), rather than torch.tensor(sourceTensor).\n",
            "  'label': torch.tensor(self.label_list[item])\n"
          ]
        },
        {
          "output_type": "stream",
          "name": "stdout",
          "text": [
            "test\n",
            "epoch: 83 train_loss: 0.0003295727651025767 train_acc: 99.93% train_f1: 99.88%\n"
          ]
        },
        {
          "output_type": "stream",
          "name": "stderr",
          "text": [
            "/usr/local/lib/python3.10/dist-packages/sklearn/utils/_array_api.py:185: FutureWarning: The input object of type 'Tensor' is an array-like implementing one of the corresponding protocols (`__array__`, `__array_interface__` or `__array_struct__`); but not a sequence (or 0-D). In the future, this object will be coerced as if it was first converted using `np.array(obj)`. To retain the old behaviour, you have to either modify the type 'Tensor', or assign to an empty array created with `np.empty(correct_shape, dtype=object)`.\n",
            "  array = numpy.asarray(array, order=order, dtype=dtype)\n",
            "/usr/local/lib/python3.10/dist-packages/sklearn/utils/_array_api.py:185: VisibleDeprecationWarning: Creating an ndarray from ragged nested sequences (which is a list-or-tuple of lists-or-tuples-or ndarrays with different lengths or shapes) is deprecated. If you meant to do this, you must specify 'dtype=object' when creating the ndarray.\n",
            "  array = numpy.asarray(array, order=order, dtype=dtype)\n"
          ]
        },
        {
          "output_type": "stream",
          "name": "stdout",
          "text": [
            "          val_loss: 0.35511122373017395 val_acc 80.30% val_f1: 65.63%\n",
            "BiLSTM_Atten AUC =  0.8307184758510222\n",
            "Specificity =  0.8784648187633263\n",
            "Sensitivity =  0.6268656716417911\n",
            "[INFO] Register count_lstm() for <class 'torch.nn.modules.rnn.LSTM'>.\n",
            "[INFO] Register count_linear() for <class 'torch.nn.modules.linear.Linear'>.\n",
            "[INFO] Register zero_ops() for <class 'torch.nn.modules.activation.ReLU'>.\n",
            "[INFO] Register zero_ops() for <class 'torch.nn.modules.container.Sequential'>.\n",
            "[INFO] Register zero_ops() for <class 'torch.nn.modules.dropout.Dropout'>.\n",
            "Flops: 80358815488.00\n",
            "MLOPS: 186.49\n",
            "              precision    recall  f1-score   support\n",
            "\n",
            "         0.0     0.8460    0.8785    0.8619       469\n",
            "         1.0     0.6885    0.6269    0.6563       201\n",
            "\n",
            "    accuracy                         0.8030       670\n",
            "   macro avg     0.7673    0.7527    0.7591       670\n",
            "weighted avg     0.7988    0.8030    0.8002       670\n",
            "\n"
          ]
        },
        {
          "output_type": "stream",
          "name": "stderr",
          "text": [
            "<ipython-input-2-f0d979b1a134>:44: UserWarning: To copy construct from a tensor, it is recommended to use sourceTensor.clone().detach() or sourceTensor.clone().detach().requires_grad_(True), rather than torch.tensor(sourceTensor).\n",
            "  'label': torch.tensor(self.label_list[item])\n"
          ]
        },
        {
          "output_type": "stream",
          "name": "stdout",
          "text": [
            "epoch: 84 step: 0/42\n",
            "epoch: 84 step: 4/42\n",
            "epoch: 84 step: 8/42\n",
            "epoch: 84 step: 12/42\n",
            "epoch: 84 step: 16/42\n",
            "epoch: 84 step: 20/42\n",
            "epoch: 84 step: 24/42\n",
            "epoch: 84 step: 28/42\n",
            "epoch: 84 step: 32/42\n",
            "epoch: 84 step: 36/42\n",
            "epoch: 84 step: 40/42\n"
          ]
        },
        {
          "output_type": "stream",
          "name": "stderr",
          "text": [
            "/usr/local/lib/python3.10/dist-packages/sklearn/utils/_array_api.py:185: FutureWarning: The input object of type 'Tensor' is an array-like implementing one of the corresponding protocols (`__array__`, `__array_interface__` or `__array_struct__`); but not a sequence (or 0-D). In the future, this object will be coerced as if it was first converted using `np.array(obj)`. To retain the old behaviour, you have to either modify the type 'Tensor', or assign to an empty array created with `np.empty(correct_shape, dtype=object)`.\n",
            "  array = numpy.asarray(array, order=order, dtype=dtype)\n",
            "/usr/local/lib/python3.10/dist-packages/sklearn/utils/_array_api.py:185: VisibleDeprecationWarning: Creating an ndarray from ragged nested sequences (which is a list-or-tuple of lists-or-tuples-or ndarrays with different lengths or shapes) is deprecated. If you meant to do this, you must specify 'dtype=object' when creating the ndarray.\n",
            "  array = numpy.asarray(array, order=order, dtype=dtype)\n",
            "<ipython-input-2-f0d979b1a134>:44: UserWarning: To copy construct from a tensor, it is recommended to use sourceTensor.clone().detach() or sourceTensor.clone().detach().requires_grad_(True), rather than torch.tensor(sourceTensor).\n",
            "  'label': torch.tensor(self.label_list[item])\n"
          ]
        },
        {
          "output_type": "stream",
          "name": "stdout",
          "text": [
            "test\n",
            "epoch: 84 train_loss: 0.0003152039172554006 train_acc: 99.85% train_f1: 99.75%\n"
          ]
        },
        {
          "output_type": "stream",
          "name": "stderr",
          "text": [
            "/usr/local/lib/python3.10/dist-packages/sklearn/utils/_array_api.py:185: FutureWarning: The input object of type 'Tensor' is an array-like implementing one of the corresponding protocols (`__array__`, `__array_interface__` or `__array_struct__`); but not a sequence (or 0-D). In the future, this object will be coerced as if it was first converted using `np.array(obj)`. To retain the old behaviour, you have to either modify the type 'Tensor', or assign to an empty array created with `np.empty(correct_shape, dtype=object)`.\n",
            "  array = numpy.asarray(array, order=order, dtype=dtype)\n",
            "/usr/local/lib/python3.10/dist-packages/sklearn/utils/_array_api.py:185: VisibleDeprecationWarning: Creating an ndarray from ragged nested sequences (which is a list-or-tuple of lists-or-tuples-or ndarrays with different lengths or shapes) is deprecated. If you meant to do this, you must specify 'dtype=object' when creating the ndarray.\n",
            "  array = numpy.asarray(array, order=order, dtype=dtype)\n",
            "<ipython-input-2-f0d979b1a134>:44: UserWarning: To copy construct from a tensor, it is recommended to use sourceTensor.clone().detach() or sourceTensor.clone().detach().requires_grad_(True), rather than torch.tensor(sourceTensor).\n",
            "  'label': torch.tensor(self.label_list[item])\n"
          ]
        },
        {
          "output_type": "stream",
          "name": "stdout",
          "text": [
            "          val_loss: 0.3568853031505238 val_acc 79.70% val_f1: 65.31%\n",
            "BiLSTM_Atten AUC =  0.8307290837921267\n",
            "Specificity =  0.8656716417910447\n",
            "Sensitivity =  0.6368159203980099\n",
            "[INFO] Register count_lstm() for <class 'torch.nn.modules.rnn.LSTM'>.\n",
            "[INFO] Register count_linear() for <class 'torch.nn.modules.linear.Linear'>.\n",
            "[INFO] Register zero_ops() for <class 'torch.nn.modules.activation.ReLU'>.\n",
            "[INFO] Register zero_ops() for <class 'torch.nn.modules.container.Sequential'>.\n",
            "[INFO] Register zero_ops() for <class 'torch.nn.modules.dropout.Dropout'>.\n",
            "Flops: 80358815488.00\n",
            "MLOPS: 183.78\n",
            "              precision    recall  f1-score   support\n",
            "\n",
            "         0.0     0.8476    0.8657    0.8565       469\n",
            "         1.0     0.6702    0.6368    0.6531       201\n",
            "\n",
            "    accuracy                         0.7970       670\n",
            "   macro avg     0.7589    0.7512    0.7548       670\n",
            "weighted avg     0.7944    0.7970    0.7955       670\n",
            "\n",
            "epoch: 85 step: 0/42\n",
            "epoch: 85 step: 4/42\n",
            "epoch: 85 step: 8/42\n",
            "epoch: 85 step: 12/42\n",
            "epoch: 85 step: 16/42\n",
            "epoch: 85 step: 20/42\n",
            "epoch: 85 step: 24/42\n",
            "epoch: 85 step: 28/42\n",
            "epoch: 85 step: 32/42\n",
            "epoch: 85 step: 36/42\n",
            "epoch: 85 step: 40/42\n"
          ]
        },
        {
          "output_type": "stream",
          "name": "stderr",
          "text": [
            "/usr/local/lib/python3.10/dist-packages/sklearn/utils/_array_api.py:185: FutureWarning: The input object of type 'Tensor' is an array-like implementing one of the corresponding protocols (`__array__`, `__array_interface__` or `__array_struct__`); but not a sequence (or 0-D). In the future, this object will be coerced as if it was first converted using `np.array(obj)`. To retain the old behaviour, you have to either modify the type 'Tensor', or assign to an empty array created with `np.empty(correct_shape, dtype=object)`.\n",
            "  array = numpy.asarray(array, order=order, dtype=dtype)\n",
            "/usr/local/lib/python3.10/dist-packages/sklearn/utils/_array_api.py:185: VisibleDeprecationWarning: Creating an ndarray from ragged nested sequences (which is a list-or-tuple of lists-or-tuples-or ndarrays with different lengths or shapes) is deprecated. If you meant to do this, you must specify 'dtype=object' when creating the ndarray.\n",
            "  array = numpy.asarray(array, order=order, dtype=dtype)\n",
            "<ipython-input-2-f0d979b1a134>:44: UserWarning: To copy construct from a tensor, it is recommended to use sourceTensor.clone().detach() or sourceTensor.clone().detach().requires_grad_(True), rather than torch.tensor(sourceTensor).\n",
            "  'label': torch.tensor(self.label_list[item])\n"
          ]
        },
        {
          "output_type": "stream",
          "name": "stdout",
          "text": [
            "test\n",
            "epoch: 85 train_loss: 0.00024261950030839735 train_acc: 99.93% train_f1: 99.88%\n"
          ]
        },
        {
          "output_type": "stream",
          "name": "stderr",
          "text": [
            "/usr/local/lib/python3.10/dist-packages/sklearn/utils/_array_api.py:185: FutureWarning: The input object of type 'Tensor' is an array-like implementing one of the corresponding protocols (`__array__`, `__array_interface__` or `__array_struct__`); but not a sequence (or 0-D). In the future, this object will be coerced as if it was first converted using `np.array(obj)`. To retain the old behaviour, you have to either modify the type 'Tensor', or assign to an empty array created with `np.empty(correct_shape, dtype=object)`.\n",
            "  array = numpy.asarray(array, order=order, dtype=dtype)\n",
            "/usr/local/lib/python3.10/dist-packages/sklearn/utils/_array_api.py:185: VisibleDeprecationWarning: Creating an ndarray from ragged nested sequences (which is a list-or-tuple of lists-or-tuples-or ndarrays with different lengths or shapes) is deprecated. If you meant to do this, you must specify 'dtype=object' when creating the ndarray.\n",
            "  array = numpy.asarray(array, order=order, dtype=dtype)\n",
            "<ipython-input-2-f0d979b1a134>:44: UserWarning: To copy construct from a tensor, it is recommended to use sourceTensor.clone().detach() or sourceTensor.clone().detach().requires_grad_(True), rather than torch.tensor(sourceTensor).\n",
            "  'label': torch.tensor(self.label_list[item])\n"
          ]
        },
        {
          "output_type": "stream",
          "name": "stdout",
          "text": [
            "          val_loss: 0.3862075724385001 val_acc 80.45% val_f1: 65.25%\n",
            "BiLSTM_Atten AUC =  0.8320656843713204\n",
            "Specificity =  0.8869936034115139\n",
            "Sensitivity =  0.6119402985074627\n",
            "[INFO] Register count_lstm() for <class 'torch.nn.modules.rnn.LSTM'>.\n",
            "[INFO] Register count_linear() for <class 'torch.nn.modules.linear.Linear'>.\n",
            "[INFO] Register zero_ops() for <class 'torch.nn.modules.activation.ReLU'>.\n",
            "[INFO] Register zero_ops() for <class 'torch.nn.modules.container.Sequential'>.\n",
            "[INFO] Register zero_ops() for <class 'torch.nn.modules.dropout.Dropout'>.\n",
            "Flops: 80358815488.00\n",
            "MLOPS: 184.33\n",
            "              precision    recall  f1-score   support\n",
            "\n",
            "         0.0     0.8421    0.8870    0.8640       469\n",
            "         1.0     0.6989    0.6119    0.6525       201\n",
            "\n",
            "    accuracy                         0.8045       670\n",
            "   macro avg     0.7705    0.7495    0.7582       670\n",
            "weighted avg     0.7991    0.8045    0.8005       670\n",
            "\n",
            "epoch: 86 step: 0/42\n",
            "epoch: 86 step: 4/42\n",
            "epoch: 86 step: 8/42\n",
            "epoch: 86 step: 12/42\n",
            "epoch: 86 step: 16/42\n",
            "epoch: 86 step: 20/42\n",
            "epoch: 86 step: 24/42\n",
            "epoch: 86 step: 28/42\n",
            "epoch: 86 step: 32/42\n",
            "epoch: 86 step: 36/42\n",
            "epoch: 86 step: 40/42\n"
          ]
        },
        {
          "output_type": "stream",
          "name": "stderr",
          "text": [
            "/usr/local/lib/python3.10/dist-packages/sklearn/utils/_array_api.py:185: FutureWarning: The input object of type 'Tensor' is an array-like implementing one of the corresponding protocols (`__array__`, `__array_interface__` or `__array_struct__`); but not a sequence (or 0-D). In the future, this object will be coerced as if it was first converted using `np.array(obj)`. To retain the old behaviour, you have to either modify the type 'Tensor', or assign to an empty array created with `np.empty(correct_shape, dtype=object)`.\n",
            "  array = numpy.asarray(array, order=order, dtype=dtype)\n",
            "/usr/local/lib/python3.10/dist-packages/sklearn/utils/_array_api.py:185: VisibleDeprecationWarning: Creating an ndarray from ragged nested sequences (which is a list-or-tuple of lists-or-tuples-or ndarrays with different lengths or shapes) is deprecated. If you meant to do this, you must specify 'dtype=object' when creating the ndarray.\n",
            "  array = numpy.asarray(array, order=order, dtype=dtype)\n",
            "<ipython-input-2-f0d979b1a134>:44: UserWarning: To copy construct from a tensor, it is recommended to use sourceTensor.clone().detach() or sourceTensor.clone().detach().requires_grad_(True), rather than torch.tensor(sourceTensor).\n",
            "  'label': torch.tensor(self.label_list[item])\n"
          ]
        },
        {
          "output_type": "stream",
          "name": "stdout",
          "text": [
            "test\n",
            "epoch: 86 train_loss: 0.0014446687360933062 train_acc: 99.48% train_f1: 99.13%\n"
          ]
        },
        {
          "output_type": "stream",
          "name": "stderr",
          "text": [
            "/usr/local/lib/python3.10/dist-packages/sklearn/utils/_array_api.py:185: FutureWarning: The input object of type 'Tensor' is an array-like implementing one of the corresponding protocols (`__array__`, `__array_interface__` or `__array_struct__`); but not a sequence (or 0-D). In the future, this object will be coerced as if it was first converted using `np.array(obj)`. To retain the old behaviour, you have to either modify the type 'Tensor', or assign to an empty array created with `np.empty(correct_shape, dtype=object)`.\n",
            "  array = numpy.asarray(array, order=order, dtype=dtype)\n",
            "/usr/local/lib/python3.10/dist-packages/sklearn/utils/_array_api.py:185: VisibleDeprecationWarning: Creating an ndarray from ragged nested sequences (which is a list-or-tuple of lists-or-tuples-or ndarrays with different lengths or shapes) is deprecated. If you meant to do this, you must specify 'dtype=object' when creating the ndarray.\n",
            "  array = numpy.asarray(array, order=order, dtype=dtype)\n",
            "<ipython-input-2-f0d979b1a134>:44: UserWarning: To copy construct from a tensor, it is recommended to use sourceTensor.clone().detach() or sourceTensor.clone().detach().requires_grad_(True), rather than torch.tensor(sourceTensor).\n",
            "  'label': torch.tensor(self.label_list[item])\n"
          ]
        },
        {
          "output_type": "stream",
          "name": "stdout",
          "text": [
            "          val_loss: 0.3353586034341292 val_acc 79.55% val_f1: 64.78%\n",
            "BiLSTM_Atten AUC =  0.8292333640963625\n",
            "Specificity =  0.8678038379530917\n",
            "Sensitivity =  0.6268656716417911\n",
            "[INFO] Register count_lstm() for <class 'torch.nn.modules.rnn.LSTM'>.\n",
            "[INFO] Register count_linear() for <class 'torch.nn.modules.linear.Linear'>.\n",
            "[INFO] Register zero_ops() for <class 'torch.nn.modules.activation.ReLU'>.\n",
            "[INFO] Register zero_ops() for <class 'torch.nn.modules.container.Sequential'>.\n",
            "[INFO] Register zero_ops() for <class 'torch.nn.modules.dropout.Dropout'>.\n",
            "Flops: 80358815488.00\n",
            "MLOPS: 186.62\n",
            "              precision    recall  f1-score   support\n",
            "\n",
            "         0.0     0.8444    0.8678    0.8559       469\n",
            "         1.0     0.6702    0.6269    0.6478       201\n",
            "\n",
            "    accuracy                         0.7955       670\n",
            "   macro avg     0.7573    0.7473    0.7519       670\n",
            "weighted avg     0.7921    0.7955    0.7935       670\n",
            "\n",
            "epoch: 87 step: 0/42\n",
            "epoch: 87 step: 4/42\n",
            "epoch: 87 step: 8/42\n",
            "epoch: 87 step: 12/42\n",
            "epoch: 87 step: 16/42\n",
            "epoch: 87 step: 20/42\n",
            "epoch: 87 step: 24/42\n",
            "epoch: 87 step: 28/42\n",
            "epoch: 87 step: 32/42\n",
            "epoch: 87 step: 36/42\n",
            "epoch: 87 step: 40/42\n"
          ]
        },
        {
          "output_type": "stream",
          "name": "stderr",
          "text": [
            "/usr/local/lib/python3.10/dist-packages/sklearn/utils/_array_api.py:185: FutureWarning: The input object of type 'Tensor' is an array-like implementing one of the corresponding protocols (`__array__`, `__array_interface__` or `__array_struct__`); but not a sequence (or 0-D). In the future, this object will be coerced as if it was first converted using `np.array(obj)`. To retain the old behaviour, you have to either modify the type 'Tensor', or assign to an empty array created with `np.empty(correct_shape, dtype=object)`.\n",
            "  array = numpy.asarray(array, order=order, dtype=dtype)\n",
            "/usr/local/lib/python3.10/dist-packages/sklearn/utils/_array_api.py:185: VisibleDeprecationWarning: Creating an ndarray from ragged nested sequences (which is a list-or-tuple of lists-or-tuples-or ndarrays with different lengths or shapes) is deprecated. If you meant to do this, you must specify 'dtype=object' when creating the ndarray.\n",
            "  array = numpy.asarray(array, order=order, dtype=dtype)\n"
          ]
        },
        {
          "output_type": "stream",
          "name": "stdout",
          "text": [
            "test\n",
            "epoch: 87 train_loss: 0.0010831371371404245 train_acc: 99.85% train_f1: 99.75%\n"
          ]
        },
        {
          "output_type": "stream",
          "name": "stderr",
          "text": [
            "<ipython-input-2-f0d979b1a134>:44: UserWarning: To copy construct from a tensor, it is recommended to use sourceTensor.clone().detach() or sourceTensor.clone().detach().requires_grad_(True), rather than torch.tensor(sourceTensor).\n",
            "  'label': torch.tensor(self.label_list[item])\n",
            "/usr/local/lib/python3.10/dist-packages/sklearn/utils/_array_api.py:185: FutureWarning: The input object of type 'Tensor' is an array-like implementing one of the corresponding protocols (`__array__`, `__array_interface__` or `__array_struct__`); but not a sequence (or 0-D). In the future, this object will be coerced as if it was first converted using `np.array(obj)`. To retain the old behaviour, you have to either modify the type 'Tensor', or assign to an empty array created with `np.empty(correct_shape, dtype=object)`.\n",
            "  array = numpy.asarray(array, order=order, dtype=dtype)\n",
            "/usr/local/lib/python3.10/dist-packages/sklearn/utils/_array_api.py:185: VisibleDeprecationWarning: Creating an ndarray from ragged nested sequences (which is a list-or-tuple of lists-or-tuples-or ndarrays with different lengths or shapes) is deprecated. If you meant to do this, you must specify 'dtype=object' when creating the ndarray.\n",
            "  array = numpy.asarray(array, order=order, dtype=dtype)\n",
            "<ipython-input-2-f0d979b1a134>:44: UserWarning: To copy construct from a tensor, it is recommended to use sourceTensor.clone().detach() or sourceTensor.clone().detach().requires_grad_(True), rather than torch.tensor(sourceTensor).\n",
            "  'label': torch.tensor(self.label_list[item])\n"
          ]
        },
        {
          "output_type": "stream",
          "name": "stdout",
          "text": [
            "          val_loss: 0.3316189484162764 val_acc 80.60% val_f1: 64.67%\n",
            "BiLSTM_Atten AUC =  0.8363831164009377\n",
            "Specificity =  0.8976545842217484\n",
            "Sensitivity =  0.5920398009950248\n",
            "[INFO] Register count_lstm() for <class 'torch.nn.modules.rnn.LSTM'>.\n",
            "[INFO] Register count_linear() for <class 'torch.nn.modules.linear.Linear'>.\n",
            "[INFO] Register zero_ops() for <class 'torch.nn.modules.activation.ReLU'>.\n",
            "[INFO] Register zero_ops() for <class 'torch.nn.modules.container.Sequential'>.\n",
            "[INFO] Register zero_ops() for <class 'torch.nn.modules.dropout.Dropout'>.\n",
            "Flops: 80358815488.00\n",
            "MLOPS: 186.14\n",
            "              precision    recall  f1-score   support\n",
            "\n",
            "         0.0     0.8370    0.8977    0.8663       469\n",
            "         1.0     0.7126    0.5920    0.6467       201\n",
            "\n",
            "    accuracy                         0.8060       670\n",
            "   macro avg     0.7748    0.7448    0.7565       670\n",
            "weighted avg     0.7997    0.8060    0.8004       670\n",
            "\n",
            "epoch: 88 step: 0/42\n",
            "epoch: 88 step: 4/42\n",
            "epoch: 88 step: 8/42\n",
            "epoch: 88 step: 12/42\n",
            "epoch: 88 step: 16/42\n",
            "epoch: 88 step: 20/42\n",
            "epoch: 88 step: 24/42\n",
            "epoch: 88 step: 28/42\n",
            "epoch: 88 step: 32/42\n",
            "epoch: 88 step: 36/42\n",
            "epoch: 88 step: 40/42\n"
          ]
        },
        {
          "output_type": "stream",
          "name": "stderr",
          "text": [
            "/usr/local/lib/python3.10/dist-packages/sklearn/utils/_array_api.py:185: FutureWarning: The input object of type 'Tensor' is an array-like implementing one of the corresponding protocols (`__array__`, `__array_interface__` or `__array_struct__`); but not a sequence (or 0-D). In the future, this object will be coerced as if it was first converted using `np.array(obj)`. To retain the old behaviour, you have to either modify the type 'Tensor', or assign to an empty array created with `np.empty(correct_shape, dtype=object)`.\n",
            "  array = numpy.asarray(array, order=order, dtype=dtype)\n",
            "/usr/local/lib/python3.10/dist-packages/sklearn/utils/_array_api.py:185: VisibleDeprecationWarning: Creating an ndarray from ragged nested sequences (which is a list-or-tuple of lists-or-tuples-or ndarrays with different lengths or shapes) is deprecated. If you meant to do this, you must specify 'dtype=object' when creating the ndarray.\n",
            "  array = numpy.asarray(array, order=order, dtype=dtype)\n",
            "<ipython-input-2-f0d979b1a134>:44: UserWarning: To copy construct from a tensor, it is recommended to use sourceTensor.clone().detach() or sourceTensor.clone().detach().requires_grad_(True), rather than torch.tensor(sourceTensor).\n",
            "  'label': torch.tensor(self.label_list[item])\n"
          ]
        },
        {
          "output_type": "stream",
          "name": "stdout",
          "text": [
            "test\n",
            "epoch: 88 train_loss: 0.0014019578007892484 train_acc: 99.40% train_f1: 99.01%\n"
          ]
        },
        {
          "output_type": "stream",
          "name": "stderr",
          "text": [
            "/usr/local/lib/python3.10/dist-packages/sklearn/utils/_array_api.py:185: FutureWarning: The input object of type 'Tensor' is an array-like implementing one of the corresponding protocols (`__array__`, `__array_interface__` or `__array_struct__`); but not a sequence (or 0-D). In the future, this object will be coerced as if it was first converted using `np.array(obj)`. To retain the old behaviour, you have to either modify the type 'Tensor', or assign to an empty array created with `np.empty(correct_shape, dtype=object)`.\n",
            "  array = numpy.asarray(array, order=order, dtype=dtype)\n",
            "/usr/local/lib/python3.10/dist-packages/sklearn/utils/_array_api.py:185: VisibleDeprecationWarning: Creating an ndarray from ragged nested sequences (which is a list-or-tuple of lists-or-tuples-or ndarrays with different lengths or shapes) is deprecated. If you meant to do this, you must specify 'dtype=object' when creating the ndarray.\n",
            "  array = numpy.asarray(array, order=order, dtype=dtype)\n"
          ]
        },
        {
          "output_type": "stream",
          "name": "stdout",
          "text": [
            "          val_loss: 0.2686051699248227 val_acc 78.66% val_f1: 66.03%\n",
            "BiLSTM_Atten AUC =  0.8382819378586812\n",
            "Specificity =  0.8272921108742004\n",
            "Sensitivity =  0.6915422885572139\n",
            "[INFO] Register count_lstm() for <class 'torch.nn.modules.rnn.LSTM'>.\n",
            "[INFO] Register count_linear() for <class 'torch.nn.modules.linear.Linear'>.\n",
            "[INFO] Register zero_ops() for <class 'torch.nn.modules.activation.ReLU'>.\n",
            "[INFO] Register zero_ops() for <class 'torch.nn.modules.container.Sequential'>.\n",
            "[INFO] Register zero_ops() for <class 'torch.nn.modules.dropout.Dropout'>.\n",
            "Flops: 80358815488.00\n",
            "MLOPS: 186.22\n",
            "              precision    recall  f1-score   support\n",
            "\n",
            "         0.0     0.8622    0.8273    0.8444       469\n",
            "         1.0     0.6318    0.6915    0.6603       201\n",
            "\n",
            "    accuracy                         0.7866       670\n",
            "   macro avg     0.7470    0.7594    0.7524       670\n",
            "weighted avg     0.7931    0.7866    0.7892       670\n",
            "\n"
          ]
        },
        {
          "output_type": "stream",
          "name": "stderr",
          "text": [
            "<ipython-input-2-f0d979b1a134>:44: UserWarning: To copy construct from a tensor, it is recommended to use sourceTensor.clone().detach() or sourceTensor.clone().detach().requires_grad_(True), rather than torch.tensor(sourceTensor).\n",
            "  'label': torch.tensor(self.label_list[item])\n"
          ]
        },
        {
          "output_type": "stream",
          "name": "stdout",
          "text": [
            "epoch: 89 step: 0/42\n",
            "epoch: 89 step: 4/42\n",
            "epoch: 89 step: 8/42\n",
            "epoch: 89 step: 12/42\n",
            "epoch: 89 step: 16/42\n",
            "epoch: 89 step: 20/42\n",
            "epoch: 89 step: 24/42\n",
            "epoch: 89 step: 28/42\n",
            "epoch: 89 step: 32/42\n",
            "epoch: 89 step: 36/42\n",
            "epoch: 89 step: 40/42\n"
          ]
        },
        {
          "output_type": "stream",
          "name": "stderr",
          "text": [
            "/usr/local/lib/python3.10/dist-packages/sklearn/utils/_array_api.py:185: FutureWarning: The input object of type 'Tensor' is an array-like implementing one of the corresponding protocols (`__array__`, `__array_interface__` or `__array_struct__`); but not a sequence (or 0-D). In the future, this object will be coerced as if it was first converted using `np.array(obj)`. To retain the old behaviour, you have to either modify the type 'Tensor', or assign to an empty array created with `np.empty(correct_shape, dtype=object)`.\n",
            "  array = numpy.asarray(array, order=order, dtype=dtype)\n",
            "/usr/local/lib/python3.10/dist-packages/sklearn/utils/_array_api.py:185: VisibleDeprecationWarning: Creating an ndarray from ragged nested sequences (which is a list-or-tuple of lists-or-tuples-or ndarrays with different lengths or shapes) is deprecated. If you meant to do this, you must specify 'dtype=object' when creating the ndarray.\n",
            "  array = numpy.asarray(array, order=order, dtype=dtype)\n",
            "<ipython-input-2-f0d979b1a134>:44: UserWarning: To copy construct from a tensor, it is recommended to use sourceTensor.clone().detach() or sourceTensor.clone().detach().requires_grad_(True), rather than torch.tensor(sourceTensor).\n",
            "  'label': torch.tensor(self.label_list[item])\n"
          ]
        },
        {
          "output_type": "stream",
          "name": "stdout",
          "text": [
            "test\n",
            "epoch: 89 train_loss: 0.001062415592016242 train_acc: 99.63% train_f1: 99.38%\n"
          ]
        },
        {
          "output_type": "stream",
          "name": "stderr",
          "text": [
            "/usr/local/lib/python3.10/dist-packages/sklearn/utils/_array_api.py:185: FutureWarning: The input object of type 'Tensor' is an array-like implementing one of the corresponding protocols (`__array__`, `__array_interface__` or `__array_struct__`); but not a sequence (or 0-D). In the future, this object will be coerced as if it was first converted using `np.array(obj)`. To retain the old behaviour, you have to either modify the type 'Tensor', or assign to an empty array created with `np.empty(correct_shape, dtype=object)`.\n",
            "  array = numpy.asarray(array, order=order, dtype=dtype)\n",
            "/usr/local/lib/python3.10/dist-packages/sklearn/utils/_array_api.py:185: VisibleDeprecationWarning: Creating an ndarray from ragged nested sequences (which is a list-or-tuple of lists-or-tuples-or ndarrays with different lengths or shapes) is deprecated. If you meant to do this, you must specify 'dtype=object' when creating the ndarray.\n",
            "  array = numpy.asarray(array, order=order, dtype=dtype)\n",
            "<ipython-input-2-f0d979b1a134>:44: UserWarning: To copy construct from a tensor, it is recommended to use sourceTensor.clone().detach() or sourceTensor.clone().detach().requires_grad_(True), rather than torch.tensor(sourceTensor).\n",
            "  'label': torch.tensor(self.label_list[item])\n"
          ]
        },
        {
          "output_type": "stream",
          "name": "stdout",
          "text": [
            "          val_loss: 0.254813245751641 val_acc 78.81% val_f1: 65.53%\n",
            "BiLSTM_Atten AUC =  0.8385365284451941\n",
            "Specificity =  0.837953091684435\n",
            "Sensitivity =  0.6716417910447762\n",
            "[INFO] Register count_lstm() for <class 'torch.nn.modules.rnn.LSTM'>.\n",
            "[INFO] Register count_linear() for <class 'torch.nn.modules.linear.Linear'>.\n",
            "[INFO] Register zero_ops() for <class 'torch.nn.modules.activation.ReLU'>.\n",
            "[INFO] Register zero_ops() for <class 'torch.nn.modules.container.Sequential'>.\n",
            "[INFO] Register zero_ops() for <class 'torch.nn.modules.dropout.Dropout'>.\n",
            "Flops: 80358815488.00\n",
            "MLOPS: 182.50\n",
            "              precision    recall  f1-score   support\n",
            "\n",
            "         0.0     0.8562    0.8380    0.8470       469\n",
            "         1.0     0.6398    0.6716    0.6553       201\n",
            "\n",
            "    accuracy                         0.7881       670\n",
            "   macro avg     0.7480    0.7548    0.7512       670\n",
            "weighted avg     0.7913    0.7881    0.7895       670\n",
            "\n",
            "epoch: 90 step: 0/42\n",
            "epoch: 90 step: 4/42\n",
            "epoch: 90 step: 8/42\n",
            "epoch: 90 step: 12/42\n",
            "epoch: 90 step: 16/42\n",
            "epoch: 90 step: 20/42\n",
            "epoch: 90 step: 24/42\n",
            "epoch: 90 step: 28/42\n",
            "epoch: 90 step: 32/42\n",
            "epoch: 90 step: 36/42\n",
            "epoch: 90 step: 40/42\n"
          ]
        },
        {
          "output_type": "stream",
          "name": "stderr",
          "text": [
            "/usr/local/lib/python3.10/dist-packages/sklearn/utils/_array_api.py:185: FutureWarning: The input object of type 'Tensor' is an array-like implementing one of the corresponding protocols (`__array__`, `__array_interface__` or `__array_struct__`); but not a sequence (or 0-D). In the future, this object will be coerced as if it was first converted using `np.array(obj)`. To retain the old behaviour, you have to either modify the type 'Tensor', or assign to an empty array created with `np.empty(correct_shape, dtype=object)`.\n",
            "  array = numpy.asarray(array, order=order, dtype=dtype)\n",
            "/usr/local/lib/python3.10/dist-packages/sklearn/utils/_array_api.py:185: VisibleDeprecationWarning: Creating an ndarray from ragged nested sequences (which is a list-or-tuple of lists-or-tuples-or ndarrays with different lengths or shapes) is deprecated. If you meant to do this, you must specify 'dtype=object' when creating the ndarray.\n",
            "  array = numpy.asarray(array, order=order, dtype=dtype)\n"
          ]
        },
        {
          "output_type": "stream",
          "name": "stdout",
          "text": [
            "test\n",
            "epoch: 90 train_loss: 0.0005189029352117185 train_acc: 99.78% train_f1: 99.63%\n"
          ]
        },
        {
          "output_type": "stream",
          "name": "stderr",
          "text": [
            "<ipython-input-2-f0d979b1a134>:44: UserWarning: To copy construct from a tensor, it is recommended to use sourceTensor.clone().detach() or sourceTensor.clone().detach().requires_grad_(True), rather than torch.tensor(sourceTensor).\n",
            "  'label': torch.tensor(self.label_list[item])\n",
            "/usr/local/lib/python3.10/dist-packages/sklearn/utils/_array_api.py:185: FutureWarning: The input object of type 'Tensor' is an array-like implementing one of the corresponding protocols (`__array__`, `__array_interface__` or `__array_struct__`); but not a sequence (or 0-D). In the future, this object will be coerced as if it was first converted using `np.array(obj)`. To retain the old behaviour, you have to either modify the type 'Tensor', or assign to an empty array created with `np.empty(correct_shape, dtype=object)`.\n",
            "  array = numpy.asarray(array, order=order, dtype=dtype)\n",
            "/usr/local/lib/python3.10/dist-packages/sklearn/utils/_array_api.py:185: VisibleDeprecationWarning: Creating an ndarray from ragged nested sequences (which is a list-or-tuple of lists-or-tuples-or ndarrays with different lengths or shapes) is deprecated. If you meant to do this, you must specify 'dtype=object' when creating the ndarray.\n",
            "  array = numpy.asarray(array, order=order, dtype=dtype)\n",
            "<ipython-input-2-f0d979b1a134>:44: UserWarning: To copy construct from a tensor, it is recommended to use sourceTensor.clone().detach() or sourceTensor.clone().detach().requires_grad_(True), rather than torch.tensor(sourceTensor).\n",
            "  'label': torch.tensor(self.label_list[item])\n"
          ]
        },
        {
          "output_type": "stream",
          "name": "stdout",
          "text": [
            "          val_loss: 0.28393976254896686 val_acc 79.55% val_f1: 66.34%\n",
            "BiLSTM_Atten AUC =  0.8408384516649164\n",
            "Specificity =  0.8486140724946695\n",
            "Sensitivity =  0.6716417910447762\n",
            "[INFO] Register count_lstm() for <class 'torch.nn.modules.rnn.LSTM'>.\n",
            "[INFO] Register count_linear() for <class 'torch.nn.modules.linear.Linear'>.\n",
            "[INFO] Register zero_ops() for <class 'torch.nn.modules.activation.ReLU'>.\n",
            "[INFO] Register zero_ops() for <class 'torch.nn.modules.container.Sequential'>.\n",
            "[INFO] Register zero_ops() for <class 'torch.nn.modules.dropout.Dropout'>.\n",
            "Flops: 80358815488.00\n",
            "MLOPS: 185.29\n",
            "              precision    recall  f1-score   support\n",
            "\n",
            "         0.0     0.8578    0.8486    0.8532       469\n",
            "         1.0     0.6553    0.6716    0.6634       201\n",
            "\n",
            "    accuracy                         0.7955       670\n",
            "   macro avg     0.7565    0.7601    0.7583       670\n",
            "weighted avg     0.7970    0.7955    0.7962       670\n",
            "\n",
            "epoch: 91 step: 0/42\n",
            "epoch: 91 step: 4/42\n",
            "epoch: 91 step: 8/42\n",
            "epoch: 91 step: 12/42\n",
            "epoch: 91 step: 16/42\n",
            "epoch: 91 step: 20/42\n",
            "epoch: 91 step: 24/42\n",
            "epoch: 91 step: 28/42\n",
            "epoch: 91 step: 32/42\n",
            "epoch: 91 step: 36/42\n",
            "epoch: 91 step: 40/42\n"
          ]
        },
        {
          "output_type": "stream",
          "name": "stderr",
          "text": [
            "/usr/local/lib/python3.10/dist-packages/sklearn/utils/_array_api.py:185: FutureWarning: The input object of type 'Tensor' is an array-like implementing one of the corresponding protocols (`__array__`, `__array_interface__` or `__array_struct__`); but not a sequence (or 0-D). In the future, this object will be coerced as if it was first converted using `np.array(obj)`. To retain the old behaviour, you have to either modify the type 'Tensor', or assign to an empty array created with `np.empty(correct_shape, dtype=object)`.\n",
            "  array = numpy.asarray(array, order=order, dtype=dtype)\n",
            "/usr/local/lib/python3.10/dist-packages/sklearn/utils/_array_api.py:185: VisibleDeprecationWarning: Creating an ndarray from ragged nested sequences (which is a list-or-tuple of lists-or-tuples-or ndarrays with different lengths or shapes) is deprecated. If you meant to do this, you must specify 'dtype=object' when creating the ndarray.\n",
            "  array = numpy.asarray(array, order=order, dtype=dtype)\n",
            "<ipython-input-2-f0d979b1a134>:44: UserWarning: To copy construct from a tensor, it is recommended to use sourceTensor.clone().detach() or sourceTensor.clone().detach().requires_grad_(True), rather than torch.tensor(sourceTensor).\n",
            "  'label': torch.tensor(self.label_list[item])\n"
          ]
        },
        {
          "output_type": "stream",
          "name": "stdout",
          "text": [
            "test\n",
            "epoch: 91 train_loss: 0.0007852465507225826 train_acc: 99.63% train_f1: 99.38%\n"
          ]
        },
        {
          "output_type": "stream",
          "name": "stderr",
          "text": [
            "/usr/local/lib/python3.10/dist-packages/sklearn/utils/_array_api.py:185: FutureWarning: The input object of type 'Tensor' is an array-like implementing one of the corresponding protocols (`__array__`, `__array_interface__` or `__array_struct__`); but not a sequence (or 0-D). In the future, this object will be coerced as if it was first converted using `np.array(obj)`. To retain the old behaviour, you have to either modify the type 'Tensor', or assign to an empty array created with `np.empty(correct_shape, dtype=object)`.\n",
            "  array = numpy.asarray(array, order=order, dtype=dtype)\n",
            "/usr/local/lib/python3.10/dist-packages/sklearn/utils/_array_api.py:185: VisibleDeprecationWarning: Creating an ndarray from ragged nested sequences (which is a list-or-tuple of lists-or-tuples-or ndarrays with different lengths or shapes) is deprecated. If you meant to do this, you must specify 'dtype=object' when creating the ndarray.\n",
            "  array = numpy.asarray(array, order=order, dtype=dtype)\n",
            "<ipython-input-2-f0d979b1a134>:44: UserWarning: To copy construct from a tensor, it is recommended to use sourceTensor.clone().detach() or sourceTensor.clone().detach().requires_grad_(True), rather than torch.tensor(sourceTensor).\n",
            "  'label': torch.tensor(self.label_list[item])\n"
          ]
        },
        {
          "output_type": "stream",
          "name": "stdout",
          "text": [
            "          val_loss: 0.29527047547427093 val_acc 78.51% val_f1: 65.38%\n",
            "BiLSTM_Atten AUC =  0.8383349775642046\n",
            "Specificity =  0.8315565031982942\n",
            "Sensitivity =  0.6766169154228856\n",
            "[INFO] Register count_lstm() for <class 'torch.nn.modules.rnn.LSTM'>.\n",
            "[INFO] Register count_linear() for <class 'torch.nn.modules.linear.Linear'>.\n",
            "[INFO] Register zero_ops() for <class 'torch.nn.modules.activation.ReLU'>.\n",
            "[INFO] Register zero_ops() for <class 'torch.nn.modules.container.Sequential'>.\n",
            "[INFO] Register zero_ops() for <class 'torch.nn.modules.dropout.Dropout'>.\n",
            "Flops: 80358815488.00\n",
            "MLOPS: 188.63\n",
            "              precision    recall  f1-score   support\n",
            "\n",
            "         0.0     0.8571    0.8316    0.8442       469\n",
            "         1.0     0.6326    0.6766    0.6538       201\n",
            "\n",
            "    accuracy                         0.7851       670\n",
            "   macro avg     0.7449    0.7541    0.7490       670\n",
            "weighted avg     0.7898    0.7851    0.7871       670\n",
            "\n",
            "epoch: 92 step: 0/42\n",
            "epoch: 92 step: 4/42\n",
            "epoch: 92 step: 8/42\n",
            "epoch: 92 step: 12/42\n",
            "epoch: 92 step: 16/42\n",
            "epoch: 92 step: 20/42\n",
            "epoch: 92 step: 24/42\n",
            "epoch: 92 step: 28/42\n",
            "epoch: 92 step: 32/42\n",
            "epoch: 92 step: 36/42\n",
            "epoch: 92 step: 40/42\n"
          ]
        },
        {
          "output_type": "stream",
          "name": "stderr",
          "text": [
            "/usr/local/lib/python3.10/dist-packages/sklearn/utils/_array_api.py:185: FutureWarning: The input object of type 'Tensor' is an array-like implementing one of the corresponding protocols (`__array__`, `__array_interface__` or `__array_struct__`); but not a sequence (or 0-D). In the future, this object will be coerced as if it was first converted using `np.array(obj)`. To retain the old behaviour, you have to either modify the type 'Tensor', or assign to an empty array created with `np.empty(correct_shape, dtype=object)`.\n",
            "  array = numpy.asarray(array, order=order, dtype=dtype)\n",
            "/usr/local/lib/python3.10/dist-packages/sklearn/utils/_array_api.py:185: VisibleDeprecationWarning: Creating an ndarray from ragged nested sequences (which is a list-or-tuple of lists-or-tuples-or ndarrays with different lengths or shapes) is deprecated. If you meant to do this, you must specify 'dtype=object' when creating the ndarray.\n",
            "  array = numpy.asarray(array, order=order, dtype=dtype)\n"
          ]
        },
        {
          "output_type": "stream",
          "name": "stdout",
          "text": [
            "test\n",
            "epoch: 92 train_loss: 0.00020942168776812088 train_acc: 99.96% train_f1: 99.94%\n"
          ]
        },
        {
          "output_type": "stream",
          "name": "stderr",
          "text": [
            "<ipython-input-2-f0d979b1a134>:44: UserWarning: To copy construct from a tensor, it is recommended to use sourceTensor.clone().detach() or sourceTensor.clone().detach().requires_grad_(True), rather than torch.tensor(sourceTensor).\n",
            "  'label': torch.tensor(self.label_list[item])\n",
            "/usr/local/lib/python3.10/dist-packages/sklearn/utils/_array_api.py:185: FutureWarning: The input object of type 'Tensor' is an array-like implementing one of the corresponding protocols (`__array__`, `__array_interface__` or `__array_struct__`); but not a sequence (or 0-D). In the future, this object will be coerced as if it was first converted using `np.array(obj)`. To retain the old behaviour, you have to either modify the type 'Tensor', or assign to an empty array created with `np.empty(correct_shape, dtype=object)`.\n",
            "  array = numpy.asarray(array, order=order, dtype=dtype)\n",
            "/usr/local/lib/python3.10/dist-packages/sklearn/utils/_array_api.py:185: VisibleDeprecationWarning: Creating an ndarray from ragged nested sequences (which is a list-or-tuple of lists-or-tuples-or ndarrays with different lengths or shapes) is deprecated. If you meant to do this, you must specify 'dtype=object' when creating the ndarray.\n",
            "  array = numpy.asarray(array, order=order, dtype=dtype)\n",
            "<ipython-input-2-f0d979b1a134>:44: UserWarning: To copy construct from a tensor, it is recommended to use sourceTensor.clone().detach() or sourceTensor.clone().detach().requires_grad_(True), rather than torch.tensor(sourceTensor).\n",
            "  'label': torch.tensor(self.label_list[item])\n"
          ]
        },
        {
          "output_type": "stream",
          "name": "stdout",
          "text": [
            "          val_loss: 0.3231265341693705 val_acc 78.51% val_f1: 63.45%\n",
            "BiLSTM_Atten AUC =  0.836446764047566\n",
            "Specificity =  0.8550106609808102\n",
            "Sensitivity =  0.6218905472636815\n",
            "[INFO] Register count_lstm() for <class 'torch.nn.modules.rnn.LSTM'>.\n",
            "[INFO] Register count_linear() for <class 'torch.nn.modules.linear.Linear'>.\n",
            "[INFO] Register zero_ops() for <class 'torch.nn.modules.activation.ReLU'>.\n",
            "[INFO] Register zero_ops() for <class 'torch.nn.modules.container.Sequential'>.\n",
            "[INFO] Register zero_ops() for <class 'torch.nn.modules.dropout.Dropout'>.\n",
            "Flops: 80358815488.00\n",
            "MLOPS: 187.48\n",
            "              precision    recall  f1-score   support\n",
            "\n",
            "         0.0     0.8407    0.8550    0.8478       469\n",
            "         1.0     0.6477    0.6219    0.6345       201\n",
            "\n",
            "    accuracy                         0.7851       670\n",
            "   macro avg     0.7442    0.7385    0.7411       670\n",
            "weighted avg     0.7828    0.7851    0.7838       670\n",
            "\n",
            "epoch: 93 step: 0/42\n",
            "epoch: 93 step: 4/42\n",
            "epoch: 93 step: 8/42\n",
            "epoch: 93 step: 12/42\n",
            "epoch: 93 step: 16/42\n",
            "epoch: 93 step: 20/42\n",
            "epoch: 93 step: 24/42\n",
            "epoch: 93 step: 28/42\n",
            "epoch: 93 step: 32/42\n",
            "epoch: 93 step: 36/42\n",
            "epoch: 93 step: 40/42\n"
          ]
        },
        {
          "output_type": "stream",
          "name": "stderr",
          "text": [
            "/usr/local/lib/python3.10/dist-packages/sklearn/utils/_array_api.py:185: FutureWarning: The input object of type 'Tensor' is an array-like implementing one of the corresponding protocols (`__array__`, `__array_interface__` or `__array_struct__`); but not a sequence (or 0-D). In the future, this object will be coerced as if it was first converted using `np.array(obj)`. To retain the old behaviour, you have to either modify the type 'Tensor', or assign to an empty array created with `np.empty(correct_shape, dtype=object)`.\n",
            "  array = numpy.asarray(array, order=order, dtype=dtype)\n",
            "/usr/local/lib/python3.10/dist-packages/sklearn/utils/_array_api.py:185: VisibleDeprecationWarning: Creating an ndarray from ragged nested sequences (which is a list-or-tuple of lists-or-tuples-or ndarrays with different lengths or shapes) is deprecated. If you meant to do this, you must specify 'dtype=object' when creating the ndarray.\n",
            "  array = numpy.asarray(array, order=order, dtype=dtype)\n",
            "<ipython-input-2-f0d979b1a134>:44: UserWarning: To copy construct from a tensor, it is recommended to use sourceTensor.clone().detach() or sourceTensor.clone().detach().requires_grad_(True), rather than torch.tensor(sourceTensor).\n",
            "  'label': torch.tensor(self.label_list[item])\n"
          ]
        },
        {
          "output_type": "stream",
          "name": "stdout",
          "text": [
            "test\n",
            "epoch: 93 train_loss: 0.0001983862142272604 train_acc: 99.93% train_f1: 99.88%\n"
          ]
        },
        {
          "output_type": "stream",
          "name": "stderr",
          "text": [
            "/usr/local/lib/python3.10/dist-packages/sklearn/utils/_array_api.py:185: FutureWarning: The input object of type 'Tensor' is an array-like implementing one of the corresponding protocols (`__array__`, `__array_interface__` or `__array_struct__`); but not a sequence (or 0-D). In the future, this object will be coerced as if it was first converted using `np.array(obj)`. To retain the old behaviour, you have to either modify the type 'Tensor', or assign to an empty array created with `np.empty(correct_shape, dtype=object)`.\n",
            "  array = numpy.asarray(array, order=order, dtype=dtype)\n",
            "/usr/local/lib/python3.10/dist-packages/sklearn/utils/_array_api.py:185: VisibleDeprecationWarning: Creating an ndarray from ragged nested sequences (which is a list-or-tuple of lists-or-tuples-or ndarrays with different lengths or shapes) is deprecated. If you meant to do this, you must specify 'dtype=object' when creating the ndarray.\n",
            "  array = numpy.asarray(array, order=order, dtype=dtype)\n"
          ]
        },
        {
          "output_type": "stream",
          "name": "stdout",
          "text": [
            "          val_loss: 0.3408908654342998 val_acc 78.96% val_f1: 64.48%\n",
            "BiLSTM_Atten AUC =  0.8349722602340113\n",
            "Specificity =  0.8550106609808102\n",
            "Sensitivity =  0.6368159203980099\n",
            "[INFO] Register count_lstm() for <class 'torch.nn.modules.rnn.LSTM'>.\n",
            "[INFO] Register count_linear() for <class 'torch.nn.modules.linear.Linear'>.\n",
            "[INFO] Register zero_ops() for <class 'torch.nn.modules.activation.ReLU'>.\n",
            "[INFO] Register zero_ops() for <class 'torch.nn.modules.container.Sequential'>.\n",
            "[INFO] Register zero_ops() for <class 'torch.nn.modules.dropout.Dropout'>.\n",
            "Flops: 80358815488.00\n",
            "MLOPS: 186.85\n",
            "              precision    recall  f1-score   support\n",
            "\n",
            "         0.0     0.8460    0.8550    0.8505       469\n",
            "         1.0     0.6531    0.6368    0.6448       201\n",
            "\n",
            "    accuracy                         0.7896       670\n",
            "   macro avg     0.7495    0.7459    0.7477       670\n",
            "weighted avg     0.7881    0.7896    0.7888       670\n",
            "\n"
          ]
        },
        {
          "output_type": "stream",
          "name": "stderr",
          "text": [
            "<ipython-input-2-f0d979b1a134>:44: UserWarning: To copy construct from a tensor, it is recommended to use sourceTensor.clone().detach() or sourceTensor.clone().detach().requires_grad_(True), rather than torch.tensor(sourceTensor).\n",
            "  'label': torch.tensor(self.label_list[item])\n"
          ]
        },
        {
          "output_type": "stream",
          "name": "stdout",
          "text": [
            "epoch: 94 step: 0/42\n",
            "epoch: 94 step: 4/42\n",
            "epoch: 94 step: 8/42\n",
            "epoch: 94 step: 12/42\n",
            "epoch: 94 step: 16/42\n",
            "epoch: 94 step: 20/42\n",
            "epoch: 94 step: 24/42\n",
            "epoch: 94 step: 28/42\n",
            "epoch: 94 step: 32/42\n",
            "epoch: 94 step: 36/42\n",
            "epoch: 94 step: 40/42\n"
          ]
        },
        {
          "output_type": "stream",
          "name": "stderr",
          "text": [
            "/usr/local/lib/python3.10/dist-packages/sklearn/utils/_array_api.py:185: FutureWarning: The input object of type 'Tensor' is an array-like implementing one of the corresponding protocols (`__array__`, `__array_interface__` or `__array_struct__`); but not a sequence (or 0-D). In the future, this object will be coerced as if it was first converted using `np.array(obj)`. To retain the old behaviour, you have to either modify the type 'Tensor', or assign to an empty array created with `np.empty(correct_shape, dtype=object)`.\n",
            "  array = numpy.asarray(array, order=order, dtype=dtype)\n",
            "/usr/local/lib/python3.10/dist-packages/sklearn/utils/_array_api.py:185: VisibleDeprecationWarning: Creating an ndarray from ragged nested sequences (which is a list-or-tuple of lists-or-tuples-or ndarrays with different lengths or shapes) is deprecated. If you meant to do this, you must specify 'dtype=object' when creating the ndarray.\n",
            "  array = numpy.asarray(array, order=order, dtype=dtype)\n",
            "<ipython-input-2-f0d979b1a134>:44: UserWarning: To copy construct from a tensor, it is recommended to use sourceTensor.clone().detach() or sourceTensor.clone().detach().requires_grad_(True), rather than torch.tensor(sourceTensor).\n",
            "  'label': torch.tensor(self.label_list[item])\n"
          ]
        },
        {
          "output_type": "stream",
          "name": "stdout",
          "text": [
            "test\n",
            "epoch: 94 train_loss: 0.00014621711051447726 train_acc: 100.00% train_f1: 100.00%\n"
          ]
        },
        {
          "output_type": "stream",
          "name": "stderr",
          "text": [
            "/usr/local/lib/python3.10/dist-packages/sklearn/utils/_array_api.py:185: FutureWarning: The input object of type 'Tensor' is an array-like implementing one of the corresponding protocols (`__array__`, `__array_interface__` or `__array_struct__`); but not a sequence (or 0-D). In the future, this object will be coerced as if it was first converted using `np.array(obj)`. To retain the old behaviour, you have to either modify the type 'Tensor', or assign to an empty array created with `np.empty(correct_shape, dtype=object)`.\n",
            "  array = numpy.asarray(array, order=order, dtype=dtype)\n",
            "/usr/local/lib/python3.10/dist-packages/sklearn/utils/_array_api.py:185: VisibleDeprecationWarning: Creating an ndarray from ragged nested sequences (which is a list-or-tuple of lists-or-tuples-or ndarrays with different lengths or shapes) is deprecated. If you meant to do this, you must specify 'dtype=object' when creating the ndarray.\n",
            "  array = numpy.asarray(array, order=order, dtype=dtype)\n",
            "<ipython-input-2-f0d979b1a134>:44: UserWarning: To copy construct from a tensor, it is recommended to use sourceTensor.clone().detach() or sourceTensor.clone().detach().requires_grad_(True), rather than torch.tensor(sourceTensor).\n",
            "  'label': torch.tensor(self.label_list[item])\n"
          ]
        },
        {
          "output_type": "stream",
          "name": "stdout",
          "text": [
            "          val_loss: 0.36734489554708655 val_acc 79.85% val_f1: 64.19%\n",
            "BiLSTM_Atten AUC =  0.8335507961259799\n",
            "Specificity =  0.8827292110874201\n",
            "Sensitivity =  0.6019900497512438\n",
            "[INFO] Register count_lstm() for <class 'torch.nn.modules.rnn.LSTM'>.\n",
            "[INFO] Register count_linear() for <class 'torch.nn.modules.linear.Linear'>.\n",
            "[INFO] Register zero_ops() for <class 'torch.nn.modules.activation.ReLU'>.\n",
            "[INFO] Register zero_ops() for <class 'torch.nn.modules.container.Sequential'>.\n",
            "[INFO] Register zero_ops() for <class 'torch.nn.modules.dropout.Dropout'>.\n",
            "Flops: 80358815488.00\n",
            "MLOPS: 182.98\n",
            "              precision    recall  f1-score   support\n",
            "\n",
            "         0.0     0.8381    0.8827    0.8598       469\n",
            "         1.0     0.6875    0.6020    0.6419       201\n",
            "\n",
            "    accuracy                         0.7985       670\n",
            "   macro avg     0.7628    0.7424    0.7509       670\n",
            "weighted avg     0.7929    0.7985    0.7944       670\n",
            "\n",
            "epoch: 95 step: 0/42\n",
            "epoch: 95 step: 4/42\n",
            "epoch: 95 step: 8/42\n",
            "epoch: 95 step: 12/42\n",
            "epoch: 95 step: 16/42\n",
            "epoch: 95 step: 20/42\n",
            "epoch: 95 step: 24/42\n",
            "epoch: 95 step: 28/42\n",
            "epoch: 95 step: 32/42\n",
            "epoch: 95 step: 36/42\n",
            "epoch: 95 step: 40/42\n"
          ]
        },
        {
          "output_type": "stream",
          "name": "stderr",
          "text": [
            "/usr/local/lib/python3.10/dist-packages/sklearn/utils/_array_api.py:185: FutureWarning: The input object of type 'Tensor' is an array-like implementing one of the corresponding protocols (`__array__`, `__array_interface__` or `__array_struct__`); but not a sequence (or 0-D). In the future, this object will be coerced as if it was first converted using `np.array(obj)`. To retain the old behaviour, you have to either modify the type 'Tensor', or assign to an empty array created with `np.empty(correct_shape, dtype=object)`.\n",
            "  array = numpy.asarray(array, order=order, dtype=dtype)\n",
            "/usr/local/lib/python3.10/dist-packages/sklearn/utils/_array_api.py:185: VisibleDeprecationWarning: Creating an ndarray from ragged nested sequences (which is a list-or-tuple of lists-or-tuples-or ndarrays with different lengths or shapes) is deprecated. If you meant to do this, you must specify 'dtype=object' when creating the ndarray.\n",
            "  array = numpy.asarray(array, order=order, dtype=dtype)\n",
            "<ipython-input-2-f0d979b1a134>:44: UserWarning: To copy construct from a tensor, it is recommended to use sourceTensor.clone().detach() or sourceTensor.clone().detach().requires_grad_(True), rather than torch.tensor(sourceTensor).\n",
            "  'label': torch.tensor(self.label_list[item])\n"
          ]
        },
        {
          "output_type": "stream",
          "name": "stdout",
          "text": [
            "test\n",
            "epoch: 95 train_loss: 0.00015437301806828363 train_acc: 100.00% train_f1: 100.00%\n"
          ]
        },
        {
          "output_type": "stream",
          "name": "stderr",
          "text": [
            "/usr/local/lib/python3.10/dist-packages/sklearn/utils/_array_api.py:185: FutureWarning: The input object of type 'Tensor' is an array-like implementing one of the corresponding protocols (`__array__`, `__array_interface__` or `__array_struct__`); but not a sequence (or 0-D). In the future, this object will be coerced as if it was first converted using `np.array(obj)`. To retain the old behaviour, you have to either modify the type 'Tensor', or assign to an empty array created with `np.empty(correct_shape, dtype=object)`.\n",
            "  array = numpy.asarray(array, order=order, dtype=dtype)\n",
            "/usr/local/lib/python3.10/dist-packages/sklearn/utils/_array_api.py:185: VisibleDeprecationWarning: Creating an ndarray from ragged nested sequences (which is a list-or-tuple of lists-or-tuples-or ndarrays with different lengths or shapes) is deprecated. If you meant to do this, you must specify 'dtype=object' when creating the ndarray.\n",
            "  array = numpy.asarray(array, order=order, dtype=dtype)\n",
            "<ipython-input-2-f0d979b1a134>:44: UserWarning: To copy construct from a tensor, it is recommended to use sourceTensor.clone().detach() or sourceTensor.clone().detach().requires_grad_(True), rather than torch.tensor(sourceTensor).\n",
            "  'label': torch.tensor(self.label_list[item])\n"
          ]
        },
        {
          "output_type": "stream",
          "name": "stdout",
          "text": [
            "          val_loss: 0.32261908054351807 val_acc 77.91% val_f1: 63.18%\n",
            "BiLSTM_Atten AUC =  0.8337099152425507\n",
            "Specificity =  0.8422174840085288\n",
            "Sensitivity =  0.6318407960199005\n",
            "[INFO] Register count_lstm() for <class 'torch.nn.modules.rnn.LSTM'>.\n",
            "[INFO] Register count_linear() for <class 'torch.nn.modules.linear.Linear'>.\n",
            "[INFO] Register zero_ops() for <class 'torch.nn.modules.activation.ReLU'>.\n",
            "[INFO] Register zero_ops() for <class 'torch.nn.modules.container.Sequential'>.\n",
            "[INFO] Register zero_ops() for <class 'torch.nn.modules.dropout.Dropout'>.\n",
            "Flops: 80358815488.00\n",
            "MLOPS: 183.23\n",
            "              precision    recall  f1-score   support\n",
            "\n",
            "         0.0     0.8422    0.8422    0.8422       469\n",
            "         1.0     0.6318    0.6318    0.6318       201\n",
            "\n",
            "    accuracy                         0.7791       670\n",
            "   macro avg     0.7370    0.7370    0.7370       670\n",
            "weighted avg     0.7791    0.7791    0.7791       670\n",
            "\n",
            "epoch: 96 step: 0/42\n",
            "epoch: 96 step: 4/42\n",
            "epoch: 96 step: 8/42\n",
            "epoch: 96 step: 12/42\n",
            "epoch: 96 step: 16/42\n",
            "epoch: 96 step: 20/42\n",
            "epoch: 96 step: 24/42\n",
            "epoch: 96 step: 28/42\n",
            "epoch: 96 step: 32/42\n",
            "epoch: 96 step: 36/42\n",
            "epoch: 96 step: 40/42\n"
          ]
        },
        {
          "output_type": "stream",
          "name": "stderr",
          "text": [
            "/usr/local/lib/python3.10/dist-packages/sklearn/utils/_array_api.py:185: FutureWarning: The input object of type 'Tensor' is an array-like implementing one of the corresponding protocols (`__array__`, `__array_interface__` or `__array_struct__`); but not a sequence (or 0-D). In the future, this object will be coerced as if it was first converted using `np.array(obj)`. To retain the old behaviour, you have to either modify the type 'Tensor', or assign to an empty array created with `np.empty(correct_shape, dtype=object)`.\n",
            "  array = numpy.asarray(array, order=order, dtype=dtype)\n",
            "/usr/local/lib/python3.10/dist-packages/sklearn/utils/_array_api.py:185: VisibleDeprecationWarning: Creating an ndarray from ragged nested sequences (which is a list-or-tuple of lists-or-tuples-or ndarrays with different lengths or shapes) is deprecated. If you meant to do this, you must specify 'dtype=object' when creating the ndarray.\n",
            "  array = numpy.asarray(array, order=order, dtype=dtype)\n",
            "<ipython-input-2-f0d979b1a134>:44: UserWarning: To copy construct from a tensor, it is recommended to use sourceTensor.clone().detach() or sourceTensor.clone().detach().requires_grad_(True), rather than torch.tensor(sourceTensor).\n",
            "  'label': torch.tensor(self.label_list[item])\n"
          ]
        },
        {
          "output_type": "stream",
          "name": "stdout",
          "text": [
            "test\n",
            "epoch: 96 train_loss: 0.00011495493721927883 train_acc: 100.00% train_f1: 100.00%\n"
          ]
        },
        {
          "output_type": "stream",
          "name": "stderr",
          "text": [
            "/usr/local/lib/python3.10/dist-packages/sklearn/utils/_array_api.py:185: FutureWarning: The input object of type 'Tensor' is an array-like implementing one of the corresponding protocols (`__array__`, `__array_interface__` or `__array_struct__`); but not a sequence (or 0-D). In the future, this object will be coerced as if it was first converted using `np.array(obj)`. To retain the old behaviour, you have to either modify the type 'Tensor', or assign to an empty array created with `np.empty(correct_shape, dtype=object)`.\n",
            "  array = numpy.asarray(array, order=order, dtype=dtype)\n",
            "/usr/local/lib/python3.10/dist-packages/sklearn/utils/_array_api.py:185: VisibleDeprecationWarning: Creating an ndarray from ragged nested sequences (which is a list-or-tuple of lists-or-tuples-or ndarrays with different lengths or shapes) is deprecated. If you meant to do this, you must specify 'dtype=object' when creating the ndarray.\n",
            "  array = numpy.asarray(array, order=order, dtype=dtype)\n",
            "<ipython-input-2-f0d979b1a134>:44: UserWarning: To copy construct from a tensor, it is recommended to use sourceTensor.clone().detach() or sourceTensor.clone().detach().requires_grad_(True), rather than torch.tensor(sourceTensor).\n",
            "  'label': torch.tensor(self.label_list[item])\n"
          ]
        },
        {
          "output_type": "stream",
          "name": "stdout",
          "text": [
            "          val_loss: 0.37507233700969 val_acc 78.96% val_f1: 63.19%\n",
            "BiLSTM_Atten AUC =  0.831864133490331\n",
            "Specificity =  0.8699360341151386\n",
            "Sensitivity =  0.6019900497512438\n",
            "[INFO] Register count_lstm() for <class 'torch.nn.modules.rnn.LSTM'>.\n",
            "[INFO] Register count_linear() for <class 'torch.nn.modules.linear.Linear'>.\n",
            "[INFO] Register zero_ops() for <class 'torch.nn.modules.activation.ReLU'>.\n",
            "[INFO] Register zero_ops() for <class 'torch.nn.modules.container.Sequential'>.\n",
            "[INFO] Register zero_ops() for <class 'torch.nn.modules.dropout.Dropout'>.\n",
            "Flops: 80358815488.00\n",
            "MLOPS: 188.09\n",
            "              precision    recall  f1-score   support\n",
            "\n",
            "         0.0     0.8361    0.8699    0.8527       469\n",
            "         1.0     0.6648    0.6020    0.6319       201\n",
            "\n",
            "    accuracy                         0.7896       670\n",
            "   macro avg     0.7505    0.7360    0.7423       670\n",
            "weighted avg     0.7847    0.7896    0.7864       670\n",
            "\n",
            "epoch: 97 step: 0/42\n",
            "epoch: 97 step: 4/42\n",
            "epoch: 97 step: 8/42\n",
            "epoch: 97 step: 12/42\n",
            "epoch: 97 step: 16/42\n",
            "epoch: 97 step: 20/42\n",
            "epoch: 97 step: 24/42\n",
            "epoch: 97 step: 28/42\n",
            "epoch: 97 step: 32/42\n",
            "epoch: 97 step: 36/42\n",
            "epoch: 97 step: 40/42\n"
          ]
        },
        {
          "output_type": "stream",
          "name": "stderr",
          "text": [
            "/usr/local/lib/python3.10/dist-packages/sklearn/utils/_array_api.py:185: FutureWarning: The input object of type 'Tensor' is an array-like implementing one of the corresponding protocols (`__array__`, `__array_interface__` or `__array_struct__`); but not a sequence (or 0-D). In the future, this object will be coerced as if it was first converted using `np.array(obj)`. To retain the old behaviour, you have to either modify the type 'Tensor', or assign to an empty array created with `np.empty(correct_shape, dtype=object)`.\n",
            "  array = numpy.asarray(array, order=order, dtype=dtype)\n",
            "/usr/local/lib/python3.10/dist-packages/sklearn/utils/_array_api.py:185: VisibleDeprecationWarning: Creating an ndarray from ragged nested sequences (which is a list-or-tuple of lists-or-tuples-or ndarrays with different lengths or shapes) is deprecated. If you meant to do this, you must specify 'dtype=object' when creating the ndarray.\n",
            "  array = numpy.asarray(array, order=order, dtype=dtype)\n"
          ]
        },
        {
          "output_type": "stream",
          "name": "stdout",
          "text": [
            "test\n",
            "epoch: 97 train_loss: 0.00017207481709019269 train_acc: 100.00% train_f1: 100.00%\n"
          ]
        },
        {
          "output_type": "stream",
          "name": "stderr",
          "text": [
            "<ipython-input-2-f0d979b1a134>:44: UserWarning: To copy construct from a tensor, it is recommended to use sourceTensor.clone().detach() or sourceTensor.clone().detach().requires_grad_(True), rather than torch.tensor(sourceTensor).\n",
            "  'label': torch.tensor(self.label_list[item])\n",
            "/usr/local/lib/python3.10/dist-packages/sklearn/utils/_array_api.py:185: FutureWarning: The input object of type 'Tensor' is an array-like implementing one of the corresponding protocols (`__array__`, `__array_interface__` or `__array_struct__`); but not a sequence (or 0-D). In the future, this object will be coerced as if it was first converted using `np.array(obj)`. To retain the old behaviour, you have to either modify the type 'Tensor', or assign to an empty array created with `np.empty(correct_shape, dtype=object)`.\n",
            "  array = numpy.asarray(array, order=order, dtype=dtype)\n",
            "/usr/local/lib/python3.10/dist-packages/sklearn/utils/_array_api.py:185: VisibleDeprecationWarning: Creating an ndarray from ragged nested sequences (which is a list-or-tuple of lists-or-tuples-or ndarrays with different lengths or shapes) is deprecated. If you meant to do this, you must specify 'dtype=object' when creating the ndarray.\n",
            "  array = numpy.asarray(array, order=order, dtype=dtype)\n",
            "<ipython-input-2-f0d979b1a134>:44: UserWarning: To copy construct from a tensor, it is recommended to use sourceTensor.clone().detach() or sourceTensor.clone().detach().requires_grad_(True), rather than torch.tensor(sourceTensor).\n",
            "  'label': torch.tensor(self.label_list[item])\n"
          ]
        },
        {
          "output_type": "stream",
          "name": "stdout",
          "text": [
            "          val_loss: 0.4049186706542969 val_acc 79.55% val_f1: 62.47%\n",
            "BiLSTM_Atten AUC =  0.8303790217356714\n",
            "Specificity =  0.8933901918976546\n",
            "Sensitivity =  0.5671641791044776\n",
            "[INFO] Register count_lstm() for <class 'torch.nn.modules.rnn.LSTM'>.\n",
            "[INFO] Register count_linear() for <class 'torch.nn.modules.linear.Linear'>.\n",
            "[INFO] Register zero_ops() for <class 'torch.nn.modules.activation.ReLU'>.\n",
            "[INFO] Register zero_ops() for <class 'torch.nn.modules.container.Sequential'>.\n",
            "[INFO] Register zero_ops() for <class 'torch.nn.modules.dropout.Dropout'>.\n",
            "Flops: 80358815488.00\n",
            "MLOPS: 186.96\n",
            "              precision    recall  f1-score   support\n",
            "\n",
            "         0.0     0.8281    0.8934    0.8595       469\n",
            "         1.0     0.6951    0.5672    0.6247       201\n",
            "\n",
            "    accuracy                         0.7955       670\n",
            "   macro avg     0.7616    0.7303    0.7421       670\n",
            "weighted avg     0.7882    0.7955    0.7890       670\n",
            "\n",
            "epoch: 98 step: 0/42\n",
            "epoch: 98 step: 4/42\n",
            "epoch: 98 step: 8/42\n",
            "epoch: 98 step: 12/42\n",
            "epoch: 98 step: 16/42\n",
            "epoch: 98 step: 20/42\n",
            "epoch: 98 step: 24/42\n",
            "epoch: 98 step: 28/42\n",
            "epoch: 98 step: 32/42\n",
            "epoch: 98 step: 36/42\n",
            "epoch: 98 step: 40/42\n"
          ]
        },
        {
          "output_type": "stream",
          "name": "stderr",
          "text": [
            "/usr/local/lib/python3.10/dist-packages/sklearn/utils/_array_api.py:185: FutureWarning: The input object of type 'Tensor' is an array-like implementing one of the corresponding protocols (`__array__`, `__array_interface__` or `__array_struct__`); but not a sequence (or 0-D). In the future, this object will be coerced as if it was first converted using `np.array(obj)`. To retain the old behaviour, you have to either modify the type 'Tensor', or assign to an empty array created with `np.empty(correct_shape, dtype=object)`.\n",
            "  array = numpy.asarray(array, order=order, dtype=dtype)\n",
            "/usr/local/lib/python3.10/dist-packages/sklearn/utils/_array_api.py:185: VisibleDeprecationWarning: Creating an ndarray from ragged nested sequences (which is a list-or-tuple of lists-or-tuples-or ndarrays with different lengths or shapes) is deprecated. If you meant to do this, you must specify 'dtype=object' when creating the ndarray.\n",
            "  array = numpy.asarray(array, order=order, dtype=dtype)\n",
            "<ipython-input-2-f0d979b1a134>:44: UserWarning: To copy construct from a tensor, it is recommended to use sourceTensor.clone().detach() or sourceTensor.clone().detach().requires_grad_(True), rather than torch.tensor(sourceTensor).\n",
            "  'label': torch.tensor(self.label_list[item])\n"
          ]
        },
        {
          "output_type": "stream",
          "name": "stdout",
          "text": [
            "test\n",
            "epoch: 98 train_loss: 8.013838255681635e-05 train_acc: 100.00% train_f1: 100.00%\n"
          ]
        },
        {
          "output_type": "stream",
          "name": "stderr",
          "text": [
            "/usr/local/lib/python3.10/dist-packages/sklearn/utils/_array_api.py:185: FutureWarning: The input object of type 'Tensor' is an array-like implementing one of the corresponding protocols (`__array__`, `__array_interface__` or `__array_struct__`); but not a sequence (or 0-D). In the future, this object will be coerced as if it was first converted using `np.array(obj)`. To retain the old behaviour, you have to either modify the type 'Tensor', or assign to an empty array created with `np.empty(correct_shape, dtype=object)`.\n",
            "  array = numpy.asarray(array, order=order, dtype=dtype)\n",
            "/usr/local/lib/python3.10/dist-packages/sklearn/utils/_array_api.py:185: VisibleDeprecationWarning: Creating an ndarray from ragged nested sequences (which is a list-or-tuple of lists-or-tuples-or ndarrays with different lengths or shapes) is deprecated. If you meant to do this, you must specify 'dtype=object' when creating the ndarray.\n",
            "  array = numpy.asarray(array, order=order, dtype=dtype)\n"
          ]
        },
        {
          "output_type": "stream",
          "name": "stdout",
          "text": [
            "          val_loss: 0.35822788693688135 val_acc 78.81% val_f1: 63.59%\n",
            "BiLSTM_Atten AUC =  0.832224803487891\n",
            "Specificity =  0.8614072494669509\n",
            "Sensitivity =  0.6169154228855721\n",
            "[INFO] Register count_lstm() for <class 'torch.nn.modules.rnn.LSTM'>.\n",
            "[INFO] Register count_linear() for <class 'torch.nn.modules.linear.Linear'>.\n",
            "[INFO] Register zero_ops() for <class 'torch.nn.modules.activation.ReLU'>.\n",
            "[INFO] Register zero_ops() for <class 'torch.nn.modules.container.Sequential'>.\n",
            "[INFO] Register zero_ops() for <class 'torch.nn.modules.dropout.Dropout'>.\n",
            "Flops: 80358815488.00\n",
            "MLOPS: 185.62\n",
            "              precision    recall  f1-score   support\n",
            "\n",
            "         0.0     0.8399    0.8614    0.8505       469\n",
            "         1.0     0.6561    0.6169    0.6359       201\n",
            "\n",
            "    accuracy                         0.7881       670\n",
            "   macro avg     0.7480    0.7392    0.7432       670\n",
            "weighted avg     0.7848    0.7881    0.7861       670\n",
            "\n"
          ]
        },
        {
          "output_type": "stream",
          "name": "stderr",
          "text": [
            "<ipython-input-2-f0d979b1a134>:44: UserWarning: To copy construct from a tensor, it is recommended to use sourceTensor.clone().detach() or sourceTensor.clone().detach().requires_grad_(True), rather than torch.tensor(sourceTensor).\n",
            "  'label': torch.tensor(self.label_list[item])\n"
          ]
        },
        {
          "output_type": "stream",
          "name": "stdout",
          "text": [
            "epoch: 99 step: 0/42\n",
            "epoch: 99 step: 4/42\n",
            "epoch: 99 step: 8/42\n",
            "epoch: 99 step: 12/42\n",
            "epoch: 99 step: 16/42\n",
            "epoch: 99 step: 20/42\n",
            "epoch: 99 step: 24/42\n",
            "epoch: 99 step: 28/42\n",
            "epoch: 99 step: 32/42\n",
            "epoch: 99 step: 36/42\n",
            "epoch: 99 step: 40/42\n"
          ]
        },
        {
          "output_type": "stream",
          "name": "stderr",
          "text": [
            "/usr/local/lib/python3.10/dist-packages/sklearn/utils/_array_api.py:185: FutureWarning: The input object of type 'Tensor' is an array-like implementing one of the corresponding protocols (`__array__`, `__array_interface__` or `__array_struct__`); but not a sequence (or 0-D). In the future, this object will be coerced as if it was first converted using `np.array(obj)`. To retain the old behaviour, you have to either modify the type 'Tensor', or assign to an empty array created with `np.empty(correct_shape, dtype=object)`.\n",
            "  array = numpy.asarray(array, order=order, dtype=dtype)\n",
            "/usr/local/lib/python3.10/dist-packages/sklearn/utils/_array_api.py:185: VisibleDeprecationWarning: Creating an ndarray from ragged nested sequences (which is a list-or-tuple of lists-or-tuples-or ndarrays with different lengths or shapes) is deprecated. If you meant to do this, you must specify 'dtype=object' when creating the ndarray.\n",
            "  array = numpy.asarray(array, order=order, dtype=dtype)\n",
            "<ipython-input-2-f0d979b1a134>:44: UserWarning: To copy construct from a tensor, it is recommended to use sourceTensor.clone().detach() or sourceTensor.clone().detach().requires_grad_(True), rather than torch.tensor(sourceTensor).\n",
            "  'label': torch.tensor(self.label_list[item])\n"
          ]
        },
        {
          "output_type": "stream",
          "name": "stdout",
          "text": [
            "test\n",
            "epoch: 99 train_loss: 7.019506655784166e-05 train_acc: 100.00% train_f1: 100.00%\n"
          ]
        },
        {
          "output_type": "stream",
          "name": "stderr",
          "text": [
            "/usr/local/lib/python3.10/dist-packages/sklearn/utils/_array_api.py:185: FutureWarning: The input object of type 'Tensor' is an array-like implementing one of the corresponding protocols (`__array__`, `__array_interface__` or `__array_struct__`); but not a sequence (or 0-D). In the future, this object will be coerced as if it was first converted using `np.array(obj)`. To retain the old behaviour, you have to either modify the type 'Tensor', or assign to an empty array created with `np.empty(correct_shape, dtype=object)`.\n",
            "  array = numpy.asarray(array, order=order, dtype=dtype)\n",
            "/usr/local/lib/python3.10/dist-packages/sklearn/utils/_array_api.py:185: VisibleDeprecationWarning: Creating an ndarray from ragged nested sequences (which is a list-or-tuple of lists-or-tuples-or ndarrays with different lengths or shapes) is deprecated. If you meant to do this, you must specify 'dtype=object' when creating the ndarray.\n",
            "  array = numpy.asarray(array, order=order, dtype=dtype)\n"
          ]
        },
        {
          "output_type": "stream",
          "name": "stdout",
          "text": [
            "          val_loss: 0.37712549892338837 val_acc 79.55% val_f1: 64.23%\n",
            "BiLSTM_Atten AUC =  0.8327339846609172\n",
            "Specificity =  0.8742004264392325\n",
            "Sensitivity =  0.6119402985074627\n",
            "[INFO] Register count_lstm() for <class 'torch.nn.modules.rnn.LSTM'>.\n",
            "[INFO] Register count_linear() for <class 'torch.nn.modules.linear.Linear'>.\n",
            "[INFO] Register zero_ops() for <class 'torch.nn.modules.activation.ReLU'>.\n",
            "[INFO] Register zero_ops() for <class 'torch.nn.modules.container.Sequential'>.\n",
            "[INFO] Register zero_ops() for <class 'torch.nn.modules.dropout.Dropout'>.\n",
            "Flops: 80358815488.00\n",
            "MLOPS: 182.96\n",
            "              precision    recall  f1-score   support\n",
            "\n",
            "         0.0     0.8402    0.8742    0.8568       469\n",
            "         1.0     0.6758    0.6119    0.6423       201\n",
            "\n",
            "    accuracy                         0.7955       670\n",
            "   macro avg     0.7580    0.7431    0.7496       670\n",
            "weighted avg     0.7909    0.7955    0.7925       670\n",
            "\n"
          ]
        }
      ]
    },
    {
      "cell_type": "code",
      "source": [],
      "metadata": {
        "id": "9gyb-HEW_PrD"
      },
      "execution_count": null,
      "outputs": []
    }
  ]
}